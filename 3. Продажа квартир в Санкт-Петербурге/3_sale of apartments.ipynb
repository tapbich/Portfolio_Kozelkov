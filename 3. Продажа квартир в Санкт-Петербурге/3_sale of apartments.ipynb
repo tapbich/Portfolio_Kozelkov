{
 "cells": [
  {
   "cell_type": "markdown",
   "metadata": {},
   "source": [
    "# Исследование объявлений о продаже квартир"
   ]
  },
  {
   "cell_type": "markdown",
   "metadata": {},
   "source": [
    "## Изучение данных из файла"
   ]
  },
  {
   "cell_type": "code",
   "execution_count": 1,
   "metadata": {},
   "outputs": [
    {
     "data": {
      "text/html": [
       "<div>\n",
       "<style scoped>\n",
       "    .dataframe tbody tr th:only-of-type {\n",
       "        vertical-align: middle;\n",
       "    }\n",
       "\n",
       "    .dataframe tbody tr th {\n",
       "        vertical-align: top;\n",
       "    }\n",
       "\n",
       "    .dataframe thead th {\n",
       "        text-align: right;\n",
       "    }\n",
       "</style>\n",
       "<table border=\"1\" class=\"dataframe\">\n",
       "  <thead>\n",
       "    <tr style=\"text-align: right;\">\n",
       "      <th></th>\n",
       "      <th>total_images</th>\n",
       "      <th>last_price</th>\n",
       "      <th>total_area</th>\n",
       "      <th>first_day_exposition</th>\n",
       "      <th>rooms</th>\n",
       "      <th>ceiling_height</th>\n",
       "      <th>floors_total</th>\n",
       "      <th>living_area</th>\n",
       "      <th>floor</th>\n",
       "      <th>is_apartment</th>\n",
       "      <th>...</th>\n",
       "      <th>kitchen_area</th>\n",
       "      <th>balcony</th>\n",
       "      <th>locality_name</th>\n",
       "      <th>airports_nearest</th>\n",
       "      <th>cityCenters_nearest</th>\n",
       "      <th>parks_around3000</th>\n",
       "      <th>parks_nearest</th>\n",
       "      <th>ponds_around3000</th>\n",
       "      <th>ponds_nearest</th>\n",
       "      <th>days_exposition</th>\n",
       "    </tr>\n",
       "  </thead>\n",
       "  <tbody>\n",
       "    <tr>\n",
       "      <th>0</th>\n",
       "      <td>20</td>\n",
       "      <td>13,000,000.00</td>\n",
       "      <td>108.00</td>\n",
       "      <td>2019-03-07T00:00:00</td>\n",
       "      <td>3</td>\n",
       "      <td>2.70</td>\n",
       "      <td>16.00</td>\n",
       "      <td>51.00</td>\n",
       "      <td>8</td>\n",
       "      <td>NaN</td>\n",
       "      <td>...</td>\n",
       "      <td>25.00</td>\n",
       "      <td>NaN</td>\n",
       "      <td>Санкт-Петербург</td>\n",
       "      <td>18,863.00</td>\n",
       "      <td>16,028.00</td>\n",
       "      <td>1.00</td>\n",
       "      <td>482.00</td>\n",
       "      <td>2.00</td>\n",
       "      <td>755.00</td>\n",
       "      <td>NaN</td>\n",
       "    </tr>\n",
       "    <tr>\n",
       "      <th>1</th>\n",
       "      <td>7</td>\n",
       "      <td>3,350,000.00</td>\n",
       "      <td>40.40</td>\n",
       "      <td>2018-12-04T00:00:00</td>\n",
       "      <td>1</td>\n",
       "      <td>NaN</td>\n",
       "      <td>11.00</td>\n",
       "      <td>18.60</td>\n",
       "      <td>1</td>\n",
       "      <td>NaN</td>\n",
       "      <td>...</td>\n",
       "      <td>11.00</td>\n",
       "      <td>2.00</td>\n",
       "      <td>посёлок Шушары</td>\n",
       "      <td>12,817.00</td>\n",
       "      <td>18,603.00</td>\n",
       "      <td>0.00</td>\n",
       "      <td>NaN</td>\n",
       "      <td>0.00</td>\n",
       "      <td>NaN</td>\n",
       "      <td>81.00</td>\n",
       "    </tr>\n",
       "    <tr>\n",
       "      <th>2</th>\n",
       "      <td>10</td>\n",
       "      <td>5,196,000.00</td>\n",
       "      <td>56.00</td>\n",
       "      <td>2015-08-20T00:00:00</td>\n",
       "      <td>2</td>\n",
       "      <td>NaN</td>\n",
       "      <td>5.00</td>\n",
       "      <td>34.30</td>\n",
       "      <td>4</td>\n",
       "      <td>NaN</td>\n",
       "      <td>...</td>\n",
       "      <td>8.30</td>\n",
       "      <td>0.00</td>\n",
       "      <td>Санкт-Петербург</td>\n",
       "      <td>21,741.00</td>\n",
       "      <td>13,933.00</td>\n",
       "      <td>1.00</td>\n",
       "      <td>90.00</td>\n",
       "      <td>2.00</td>\n",
       "      <td>574.00</td>\n",
       "      <td>558.00</td>\n",
       "    </tr>\n",
       "    <tr>\n",
       "      <th>3</th>\n",
       "      <td>0</td>\n",
       "      <td>64,900,000.00</td>\n",
       "      <td>159.00</td>\n",
       "      <td>2015-07-24T00:00:00</td>\n",
       "      <td>3</td>\n",
       "      <td>NaN</td>\n",
       "      <td>14.00</td>\n",
       "      <td>NaN</td>\n",
       "      <td>9</td>\n",
       "      <td>NaN</td>\n",
       "      <td>...</td>\n",
       "      <td>NaN</td>\n",
       "      <td>0.00</td>\n",
       "      <td>Санкт-Петербург</td>\n",
       "      <td>28,098.00</td>\n",
       "      <td>6,800.00</td>\n",
       "      <td>2.00</td>\n",
       "      <td>84.00</td>\n",
       "      <td>3.00</td>\n",
       "      <td>234.00</td>\n",
       "      <td>424.00</td>\n",
       "    </tr>\n",
       "    <tr>\n",
       "      <th>4</th>\n",
       "      <td>2</td>\n",
       "      <td>10,000,000.00</td>\n",
       "      <td>100.00</td>\n",
       "      <td>2018-06-19T00:00:00</td>\n",
       "      <td>2</td>\n",
       "      <td>3.03</td>\n",
       "      <td>14.00</td>\n",
       "      <td>32.00</td>\n",
       "      <td>13</td>\n",
       "      <td>NaN</td>\n",
       "      <td>...</td>\n",
       "      <td>41.00</td>\n",
       "      <td>NaN</td>\n",
       "      <td>Санкт-Петербург</td>\n",
       "      <td>31,856.00</td>\n",
       "      <td>8,098.00</td>\n",
       "      <td>2.00</td>\n",
       "      <td>112.00</td>\n",
       "      <td>1.00</td>\n",
       "      <td>48.00</td>\n",
       "      <td>121.00</td>\n",
       "    </tr>\n",
       "  </tbody>\n",
       "</table>\n",
       "<p>5 rows × 22 columns</p>\n",
       "</div>"
      ],
      "text/plain": [
       "   total_images    last_price  total_area first_day_exposition  rooms  \\\n",
       "0            20 13,000,000.00      108.00  2019-03-07T00:00:00      3   \n",
       "1             7  3,350,000.00       40.40  2018-12-04T00:00:00      1   \n",
       "2            10  5,196,000.00       56.00  2015-08-20T00:00:00      2   \n",
       "3             0 64,900,000.00      159.00  2015-07-24T00:00:00      3   \n",
       "4             2 10,000,000.00      100.00  2018-06-19T00:00:00      2   \n",
       "\n",
       "   ceiling_height  floors_total  living_area  floor is_apartment  ...  \\\n",
       "0            2.70         16.00        51.00      8          NaN  ...   \n",
       "1             NaN         11.00        18.60      1          NaN  ...   \n",
       "2             NaN          5.00        34.30      4          NaN  ...   \n",
       "3             NaN         14.00          NaN      9          NaN  ...   \n",
       "4            3.03         14.00        32.00     13          NaN  ...   \n",
       "\n",
       "   kitchen_area  balcony    locality_name  airports_nearest  \\\n",
       "0         25.00      NaN  Санкт-Петербург         18,863.00   \n",
       "1         11.00     2.00   посёлок Шушары         12,817.00   \n",
       "2          8.30     0.00  Санкт-Петербург         21,741.00   \n",
       "3           NaN     0.00  Санкт-Петербург         28,098.00   \n",
       "4         41.00      NaN  Санкт-Петербург         31,856.00   \n",
       "\n",
       "  cityCenters_nearest  parks_around3000  parks_nearest  ponds_around3000  \\\n",
       "0           16,028.00              1.00         482.00              2.00   \n",
       "1           18,603.00              0.00            NaN              0.00   \n",
       "2           13,933.00              1.00          90.00              2.00   \n",
       "3            6,800.00              2.00          84.00              3.00   \n",
       "4            8,098.00              2.00         112.00              1.00   \n",
       "\n",
       "   ponds_nearest  days_exposition  \n",
       "0         755.00              NaN  \n",
       "1            NaN            81.00  \n",
       "2         574.00           558.00  \n",
       "3         234.00           424.00  \n",
       "4          48.00           121.00  \n",
       "\n",
       "[5 rows x 22 columns]"
      ]
     },
     "metadata": {},
     "output_type": "display_data"
    },
    {
     "name": "stdout",
     "output_type": "stream",
     "text": [
      "<class 'pandas.core.frame.DataFrame'>\n",
      "RangeIndex: 23699 entries, 0 to 23698\n",
      "Data columns (total 22 columns):\n",
      " #   Column                Non-Null Count  Dtype  \n",
      "---  ------                --------------  -----  \n",
      " 0   total_images          23699 non-null  int64  \n",
      " 1   last_price            23699 non-null  float64\n",
      " 2   total_area            23699 non-null  float64\n",
      " 3   first_day_exposition  23699 non-null  object \n",
      " 4   rooms                 23699 non-null  int64  \n",
      " 5   ceiling_height        14504 non-null  float64\n",
      " 6   floors_total          23613 non-null  float64\n",
      " 7   living_area           21796 non-null  float64\n",
      " 8   floor                 23699 non-null  int64  \n",
      " 9   is_apartment          2775 non-null   object \n",
      " 10  studio                23699 non-null  bool   \n",
      " 11  open_plan             23699 non-null  bool   \n",
      " 12  kitchen_area          21421 non-null  float64\n",
      " 13  balcony               12180 non-null  float64\n",
      " 14  locality_name         23650 non-null  object \n",
      " 15  airports_nearest      18157 non-null  float64\n",
      " 16  cityCenters_nearest   18180 non-null  float64\n",
      " 17  parks_around3000      18181 non-null  float64\n",
      " 18  parks_nearest         8079 non-null   float64\n",
      " 19  ponds_around3000      18181 non-null  float64\n",
      " 20  ponds_nearest         9110 non-null   float64\n",
      " 21  days_exposition       20518 non-null  float64\n",
      "dtypes: bool(2), float64(14), int64(3), object(3)\n",
      "memory usage: 3.7+ MB\n"
     ]
    },
    {
     "data": {
      "text/html": [
       "<div>\n",
       "<style scoped>\n",
       "    .dataframe tbody tr th:only-of-type {\n",
       "        vertical-align: middle;\n",
       "    }\n",
       "\n",
       "    .dataframe tbody tr th {\n",
       "        vertical-align: top;\n",
       "    }\n",
       "\n",
       "    .dataframe thead th {\n",
       "        text-align: right;\n",
       "    }\n",
       "</style>\n",
       "<table border=\"1\" class=\"dataframe\">\n",
       "  <thead>\n",
       "    <tr style=\"text-align: right;\">\n",
       "      <th></th>\n",
       "      <th>total_images</th>\n",
       "      <th>last_price</th>\n",
       "      <th>total_area</th>\n",
       "      <th>rooms</th>\n",
       "      <th>ceiling_height</th>\n",
       "      <th>floors_total</th>\n",
       "      <th>living_area</th>\n",
       "      <th>floor</th>\n",
       "      <th>kitchen_area</th>\n",
       "      <th>balcony</th>\n",
       "      <th>airports_nearest</th>\n",
       "      <th>cityCenters_nearest</th>\n",
       "      <th>parks_around3000</th>\n",
       "      <th>parks_nearest</th>\n",
       "      <th>ponds_around3000</th>\n",
       "      <th>ponds_nearest</th>\n",
       "      <th>days_exposition</th>\n",
       "    </tr>\n",
       "  </thead>\n",
       "  <tbody>\n",
       "    <tr>\n",
       "      <th>count</th>\n",
       "      <td>23,699.00</td>\n",
       "      <td>23,699.00</td>\n",
       "      <td>23,699.00</td>\n",
       "      <td>23,699.00</td>\n",
       "      <td>14,504.00</td>\n",
       "      <td>23,613.00</td>\n",
       "      <td>21,796.00</td>\n",
       "      <td>23,699.00</td>\n",
       "      <td>21,421.00</td>\n",
       "      <td>12,180.00</td>\n",
       "      <td>18,157.00</td>\n",
       "      <td>18,180.00</td>\n",
       "      <td>18,181.00</td>\n",
       "      <td>8,079.00</td>\n",
       "      <td>18,181.00</td>\n",
       "      <td>9,110.00</td>\n",
       "      <td>20,518.00</td>\n",
       "    </tr>\n",
       "    <tr>\n",
       "      <th>mean</th>\n",
       "      <td>9.86</td>\n",
       "      <td>6,541,548.77</td>\n",
       "      <td>60.35</td>\n",
       "      <td>2.07</td>\n",
       "      <td>2.77</td>\n",
       "      <td>10.67</td>\n",
       "      <td>34.46</td>\n",
       "      <td>5.89</td>\n",
       "      <td>10.57</td>\n",
       "      <td>1.15</td>\n",
       "      <td>28,793.67</td>\n",
       "      <td>14,191.28</td>\n",
       "      <td>0.61</td>\n",
       "      <td>490.80</td>\n",
       "      <td>0.77</td>\n",
       "      <td>517.98</td>\n",
       "      <td>180.89</td>\n",
       "    </tr>\n",
       "    <tr>\n",
       "      <th>std</th>\n",
       "      <td>5.68</td>\n",
       "      <td>10,887,013.27</td>\n",
       "      <td>35.65</td>\n",
       "      <td>1.08</td>\n",
       "      <td>1.26</td>\n",
       "      <td>6.60</td>\n",
       "      <td>22.03</td>\n",
       "      <td>4.89</td>\n",
       "      <td>5.91</td>\n",
       "      <td>1.07</td>\n",
       "      <td>12,630.88</td>\n",
       "      <td>8,608.39</td>\n",
       "      <td>0.80</td>\n",
       "      <td>342.32</td>\n",
       "      <td>0.94</td>\n",
       "      <td>277.72</td>\n",
       "      <td>219.73</td>\n",
       "    </tr>\n",
       "    <tr>\n",
       "      <th>min</th>\n",
       "      <td>0.00</td>\n",
       "      <td>12,190.00</td>\n",
       "      <td>12.00</td>\n",
       "      <td>0.00</td>\n",
       "      <td>1.00</td>\n",
       "      <td>1.00</td>\n",
       "      <td>2.00</td>\n",
       "      <td>1.00</td>\n",
       "      <td>1.30</td>\n",
       "      <td>0.00</td>\n",
       "      <td>0.00</td>\n",
       "      <td>181.00</td>\n",
       "      <td>0.00</td>\n",
       "      <td>1.00</td>\n",
       "      <td>0.00</td>\n",
       "      <td>13.00</td>\n",
       "      <td>1.00</td>\n",
       "    </tr>\n",
       "    <tr>\n",
       "      <th>25%</th>\n",
       "      <td>6.00</td>\n",
       "      <td>3,400,000.00</td>\n",
       "      <td>40.00</td>\n",
       "      <td>1.00</td>\n",
       "      <td>2.52</td>\n",
       "      <td>5.00</td>\n",
       "      <td>18.60</td>\n",
       "      <td>2.00</td>\n",
       "      <td>7.00</td>\n",
       "      <td>0.00</td>\n",
       "      <td>18,585.00</td>\n",
       "      <td>9,238.00</td>\n",
       "      <td>0.00</td>\n",
       "      <td>288.00</td>\n",
       "      <td>0.00</td>\n",
       "      <td>294.00</td>\n",
       "      <td>45.00</td>\n",
       "    </tr>\n",
       "    <tr>\n",
       "      <th>50%</th>\n",
       "      <td>9.00</td>\n",
       "      <td>4,650,000.00</td>\n",
       "      <td>52.00</td>\n",
       "      <td>2.00</td>\n",
       "      <td>2.65</td>\n",
       "      <td>9.00</td>\n",
       "      <td>30.00</td>\n",
       "      <td>4.00</td>\n",
       "      <td>9.10</td>\n",
       "      <td>1.00</td>\n",
       "      <td>26,726.00</td>\n",
       "      <td>13,098.50</td>\n",
       "      <td>0.00</td>\n",
       "      <td>455.00</td>\n",
       "      <td>1.00</td>\n",
       "      <td>502.00</td>\n",
       "      <td>95.00</td>\n",
       "    </tr>\n",
       "    <tr>\n",
       "      <th>75%</th>\n",
       "      <td>14.00</td>\n",
       "      <td>6,800,000.00</td>\n",
       "      <td>69.90</td>\n",
       "      <td>3.00</td>\n",
       "      <td>2.80</td>\n",
       "      <td>16.00</td>\n",
       "      <td>42.30</td>\n",
       "      <td>8.00</td>\n",
       "      <td>12.00</td>\n",
       "      <td>2.00</td>\n",
       "      <td>37,273.00</td>\n",
       "      <td>16,293.00</td>\n",
       "      <td>1.00</td>\n",
       "      <td>612.00</td>\n",
       "      <td>1.00</td>\n",
       "      <td>729.00</td>\n",
       "      <td>232.00</td>\n",
       "    </tr>\n",
       "    <tr>\n",
       "      <th>max</th>\n",
       "      <td>50.00</td>\n",
       "      <td>763,000,000.00</td>\n",
       "      <td>900.00</td>\n",
       "      <td>19.00</td>\n",
       "      <td>100.00</td>\n",
       "      <td>60.00</td>\n",
       "      <td>409.70</td>\n",
       "      <td>33.00</td>\n",
       "      <td>112.00</td>\n",
       "      <td>5.00</td>\n",
       "      <td>84,869.00</td>\n",
       "      <td>65,968.00</td>\n",
       "      <td>3.00</td>\n",
       "      <td>3,190.00</td>\n",
       "      <td>3.00</td>\n",
       "      <td>1,344.00</td>\n",
       "      <td>1,580.00</td>\n",
       "    </tr>\n",
       "  </tbody>\n",
       "</table>\n",
       "</div>"
      ],
      "text/plain": [
       "       total_images     last_price  total_area     rooms  ceiling_height  \\\n",
       "count     23,699.00      23,699.00   23,699.00 23,699.00       14,504.00   \n",
       "mean           9.86   6,541,548.77       60.35      2.07            2.77   \n",
       "std            5.68  10,887,013.27       35.65      1.08            1.26   \n",
       "min            0.00      12,190.00       12.00      0.00            1.00   \n",
       "25%            6.00   3,400,000.00       40.00      1.00            2.52   \n",
       "50%            9.00   4,650,000.00       52.00      2.00            2.65   \n",
       "75%           14.00   6,800,000.00       69.90      3.00            2.80   \n",
       "max           50.00 763,000,000.00      900.00     19.00          100.00   \n",
       "\n",
       "       floors_total  living_area     floor  kitchen_area   balcony  \\\n",
       "count     23,613.00    21,796.00 23,699.00     21,421.00 12,180.00   \n",
       "mean          10.67        34.46      5.89         10.57      1.15   \n",
       "std            6.60        22.03      4.89          5.91      1.07   \n",
       "min            1.00         2.00      1.00          1.30      0.00   \n",
       "25%            5.00        18.60      2.00          7.00      0.00   \n",
       "50%            9.00        30.00      4.00          9.10      1.00   \n",
       "75%           16.00        42.30      8.00         12.00      2.00   \n",
       "max           60.00       409.70     33.00        112.00      5.00   \n",
       "\n",
       "       airports_nearest  cityCenters_nearest  parks_around3000  parks_nearest  \\\n",
       "count         18,157.00            18,180.00         18,181.00       8,079.00   \n",
       "mean          28,793.67            14,191.28              0.61         490.80   \n",
       "std           12,630.88             8,608.39              0.80         342.32   \n",
       "min                0.00               181.00              0.00           1.00   \n",
       "25%           18,585.00             9,238.00              0.00         288.00   \n",
       "50%           26,726.00            13,098.50              0.00         455.00   \n",
       "75%           37,273.00            16,293.00              1.00         612.00   \n",
       "max           84,869.00            65,968.00              3.00       3,190.00   \n",
       "\n",
       "       ponds_around3000  ponds_nearest  days_exposition  \n",
       "count         18,181.00       9,110.00        20,518.00  \n",
       "mean               0.77         517.98           180.89  \n",
       "std                0.94         277.72           219.73  \n",
       "min                0.00          13.00             1.00  \n",
       "25%                0.00         294.00            45.00  \n",
       "50%                1.00         502.00            95.00  \n",
       "75%                1.00         729.00           232.00  \n",
       "max                3.00       1,344.00         1,580.00  "
      ]
     },
     "execution_count": 1,
     "metadata": {},
     "output_type": "execute_result"
    }
   ],
   "source": [
    "import pandas as pd\n",
    "import warnings\n",
    "warnings.filterwarnings('ignore')\n",
    "\n",
    "pd.set_option('display.float_format', '{:,.2f}'.format)\n",
    "data = pd.read_csv('/file.csv',  sep='\\t')\n",
    "\n",
    "display(data.head())\n",
    "data.info()\n",
    "data.describe()"
   ]
  },
  {
   "cell_type": "markdown",
   "metadata": {},
   "source": [
    "**Вывод**\n",
    "- total_images - есть значения 0, пропущенных значений нет.\n",
    "- last_price - нормальные данные\n",
    "- total_area - вызывает сомнение максимальное значение (похоже на здание)\n",
    "- first_day_exposition (дата публикации) - аномалий на первый взгляд нет\n",
    "- rooms - минимальные и максимальные значения нужно проверить\n",
    "- ceiling_height (высота потолков) - минимальные и максимальные значения нужно проверить, есть пропуски\n",
    "- floors_total - минимальные и максимальные значения нужно проверить, есть пропуски\n",
    "- living_area - минимальные и максимальные значения нужно проверить, есть пропуски\n",
    "- floor - аномалий на первый взгляд нет\n",
    "- is_apartment - есть пропуски\n",
    "- studio - аномалий нет\n",
    "- open_plan (свободная планировка)- аномалий нет\n",
    "- kitchen_area -минимальные и максимальные значения нужно проверить, есть пропуски\n",
    "- balcony - есть пропуски \n",
    "- locality_name (населённый пункт) - есть пропуски \n",
    "- airports_nearest (в метрах) - есть пропуски \n",
    "- cityCenters_nearest - есть пропуски \n",
    "- parks_around3000 - есть пропуски \n",
    "- parks_nearest (в мтерах) - есть пропуски \n",
    "- ponds_around3000 (число водоемов) - есть пропсуки\n",
    "- ponds_nearest (расстояние до ближ водоема) - есть пропуски \n",
    "- days_exposition-(сколько дней было размещено обьявление от публикации до снятия)- есть пропуски "
   ]
  },
  {
   "cell_type": "markdown",
   "metadata": {},
   "source": [
    "## Предобработка данных"
   ]
  },
  {
   "cell_type": "code",
   "execution_count": 2,
   "metadata": {},
   "outputs": [
    {
     "data": {
      "image/png": "[encoded data removed]",
      "text/plain": [
       "<Figure size 432x288 with 1 Axes>"
      ]
     },
     "metadata": {
      "needs_background": "light"
     },
     "output_type": "display_data"
    }
   ],
   "source": [
    "data['rooms'] = data['rooms'].replace(0 , 1) # хоть одна комната должна быть, даже если это студия \n",
    "\n",
    "# заменим пропуски средним занчением высоты потолка\n",
    "data['ceiling_height'] = data['ceiling_height'].fillna(data['ceiling_height'].mean())\n",
    "\n",
    "# удаляем незначительное количество пропусков в колонке 'floors_total'\n",
    "data.dropna(subset = ['floors_total'], inplace=True)\n",
    "\n",
    "# посчитаем процент жилой площади от общей и возьмем средний для заполнения\n",
    "living_area_mean = (data['living_area']/data['total_area']).mean()\n",
    "data['living_area'] = data['living_area'].fillna(data['total_area'] * living_area_mean)\n",
    "\n",
    "# скорее всего, там где не указали апартаменты - это не апартаменты\n",
    "data['is_apartment'] = data['is_apartment'].fillna(False)\n",
    "\n",
    "# посчитаем процент площади кухни от общей и возьмем средний для заполнения\n",
    "kitchen_area_mean = (data['kitchen_area']/data['total_area']).mean()\n",
    "data['kitchen_area'] = data['kitchen_area'].fillna(data['total_area'] * kitchen_area_mean)\n",
    "\n",
    "# скорее всего, там где не указали балконы - там их нет\n",
    "data['balcony'] = data['balcony'].fillna(0)\n",
    "pd.set_option('display.max_rows', 10)\n",
    "#data['locality_name'].value_counts()\n",
    "\n",
    "# уберм пропуски в колонке 'locality_name'\n",
    "data = data.dropna(subset=['locality_name'])\n",
    "\n",
    "# приведем к строчным буквам в колонке 'locality_name'\n",
    "data['locality_name'] = data['locality_name'].str.lower()\n",
    "\n",
    "#  с помощью цикла уберем лишние значения'locality_name'\n",
    "for name in ['поселок', \n",
    "             'посёлок',\n",
    "             'деревня',\n",
    "             'городской посёлок', \n",
    "             'посёлок городского типа', \n",
    "             'село', 'коттеджный посёлок', \n",
    "             'садовое товарищество',\n",
    "             'посёлок при железнодорожной станции', \n",
    "             'посёлок станции',\n",
    "             'садоводческое некоммерческое товарищество',\n",
    "             ' '\n",
    "            ]:\n",
    "         data['locality_name'] = data['locality_name'].str.replace(name, '')\n",
    "\n",
    "# напишем функцию для заполнения оставшихся колонок так называемую глобальную медианау.\n",
    "def global_median(col):\n",
    "    for city in data['locality_name'].unique():\n",
    "        median = data.loc[data['locality_name'] == city, col].median()\n",
    "        data.loc[(data[col].isna()) & (data['locality_name'] == city), col] = median\n",
    "    data.loc[data[col].isna(), col] = data[col].median() # оставшиеся значения NaN заполним медианой по столбцу\n",
    "\n",
    "# и заполним колонки данными\n",
    "global_median('airports_nearest')\n",
    "global_median('cityCenters_nearest')\n",
    "# global_median('parks_around3000')\n",
    "# global_median('parks_nearest')\n",
    "# global_median('ponds_around3000')\n",
    "# global_median('ponds_nearest')\n",
    "\n",
    "# уберем ллишнее из даты (часы, минуты и секунды все равно равны нулю и не важны)\n",
    "data['first_day_exposition'] = pd.to_datetime(data['first_day_exposition'])\n",
    "\n",
    "# добавим столбец с количеством объявлений без указания дней\n",
    "data['days_exposition_missing'] = data['days_exposition'].isna().astype(int)\n",
    "\n",
    "# построим график и посмотрим как распределяются количество объявлений по датам\n",
    "data.groupby('first_day_exposition').agg({'days_exposition_missing':'sum'}).plot()\n",
    "\n",
    "import matplotlib.pyplot as plt\n",
    "\n",
    "plt.xlabel('День размещения объявления'), plt.ylabel('Количество объявлений')\n",
    "plt.title('Распределение объявлений\\nбез days_exposition')\n",
    "plt.show()"
   ]
  },
  {
   "cell_type": "code",
   "execution_count": 3,
   "metadata": {},
   "outputs": [
    {
     "name": "stdout",
     "output_type": "stream",
     "text": [
      "<class 'pandas.core.frame.DataFrame'>\n",
      "Int64Index: 23565 entries, 0 to 23698\n",
      "Data columns (total 23 columns):\n",
      " #   Column                   Non-Null Count  Dtype         \n",
      "---  ------                   --------------  -----         \n",
      " 0   total_images             23565 non-null  int64         \n",
      " 1   last_price               23565 non-null  int64         \n",
      " 2   total_area               23565 non-null  float64       \n",
      " 3   first_day_exposition     23565 non-null  datetime64[ns]\n",
      " 4   rooms                    23565 non-null  int64         \n",
      " 5   ceiling_height           23565 non-null  float64       \n",
      " 6   floors_total             23565 non-null  int64         \n",
      " 7   living_area              23565 non-null  float64       \n",
      " 8   floor                    23565 non-null  int64         \n",
      " 9   is_apartment             23565 non-null  bool          \n",
      " 10  studio                   23565 non-null  bool          \n",
      " 11  open_plan                23565 non-null  bool          \n",
      " 12  kitchen_area             23565 non-null  float64       \n",
      " 13  balcony                  23565 non-null  int64         \n",
      " 14  locality_name            23565 non-null  object        \n",
      " 15  airports_nearest         23565 non-null  float64       \n",
      " 16  cityCenters_nearest      23565 non-null  float64       \n",
      " 17  parks_around3000         18065 non-null  float64       \n",
      " 18  parks_nearest            8030 non-null   float64       \n",
      " 19  ponds_around3000         18065 non-null  float64       \n",
      " 20  ponds_nearest            9036 non-null   float64       \n",
      " 21  days_exposition          21777 non-null  float64       \n",
      " 22  days_exposition_missing  23565 non-null  int64         \n",
      "dtypes: bool(3), datetime64[ns](1), float64(11), int64(7), object(1)\n",
      "memory usage: 3.8+ MB\n"
     ]
    },
    {
     "data": {
      "text/html": [
       "<div>\n",
       "<style scoped>\n",
       "    .dataframe tbody tr th:only-of-type {\n",
       "        vertical-align: middle;\n",
       "    }\n",
       "\n",
       "    .dataframe tbody tr th {\n",
       "        vertical-align: top;\n",
       "    }\n",
       "\n",
       "    .dataframe thead th {\n",
       "        text-align: right;\n",
       "    }\n",
       "</style>\n",
       "<table border=\"1\" class=\"dataframe\">\n",
       "  <thead>\n",
       "    <tr style=\"text-align: right;\">\n",
       "      <th></th>\n",
       "      <th>total_images</th>\n",
       "      <th>last_price</th>\n",
       "      <th>total_area</th>\n",
       "      <th>first_day_exposition</th>\n",
       "      <th>rooms</th>\n",
       "      <th>ceiling_height</th>\n",
       "      <th>floors_total</th>\n",
       "      <th>living_area</th>\n",
       "      <th>floor</th>\n",
       "      <th>is_apartment</th>\n",
       "      <th>...</th>\n",
       "      <th>balcony</th>\n",
       "      <th>locality_name</th>\n",
       "      <th>airports_nearest</th>\n",
       "      <th>cityCenters_nearest</th>\n",
       "      <th>parks_around3000</th>\n",
       "      <th>parks_nearest</th>\n",
       "      <th>ponds_around3000</th>\n",
       "      <th>ponds_nearest</th>\n",
       "      <th>days_exposition</th>\n",
       "      <th>days_exposition_missing</th>\n",
       "    </tr>\n",
       "  </thead>\n",
       "  <tbody>\n",
       "    <tr>\n",
       "      <th>0</th>\n",
       "      <td>20</td>\n",
       "      <td>13000000</td>\n",
       "      <td>108.00</td>\n",
       "      <td>2019-03-07</td>\n",
       "      <td>3</td>\n",
       "      <td>2.70</td>\n",
       "      <td>16</td>\n",
       "      <td>51.00</td>\n",
       "      <td>8</td>\n",
       "      <td>False</td>\n",
       "      <td>...</td>\n",
       "      <td>0</td>\n",
       "      <td>санкт-петербург</td>\n",
       "      <td>18,863.00</td>\n",
       "      <td>16,028.00</td>\n",
       "      <td>1.00</td>\n",
       "      <td>482.00</td>\n",
       "      <td>2.00</td>\n",
       "      <td>755.00</td>\n",
       "      <td>NaN</td>\n",
       "      <td>1</td>\n",
       "    </tr>\n",
       "    <tr>\n",
       "      <th>1</th>\n",
       "      <td>7</td>\n",
       "      <td>3350000</td>\n",
       "      <td>40.40</td>\n",
       "      <td>2018-12-04</td>\n",
       "      <td>1</td>\n",
       "      <td>2.77</td>\n",
       "      <td>11</td>\n",
       "      <td>18.60</td>\n",
       "      <td>1</td>\n",
       "      <td>False</td>\n",
       "      <td>...</td>\n",
       "      <td>2</td>\n",
       "      <td>шушары</td>\n",
       "      <td>12,817.00</td>\n",
       "      <td>18,603.00</td>\n",
       "      <td>0.00</td>\n",
       "      <td>NaN</td>\n",
       "      <td>0.00</td>\n",
       "      <td>NaN</td>\n",
       "      <td>81.00</td>\n",
       "      <td>0</td>\n",
       "    </tr>\n",
       "    <tr>\n",
       "      <th>2</th>\n",
       "      <td>10</td>\n",
       "      <td>5196000</td>\n",
       "      <td>56.00</td>\n",
       "      <td>2015-08-20</td>\n",
       "      <td>2</td>\n",
       "      <td>2.77</td>\n",
       "      <td>5</td>\n",
       "      <td>34.30</td>\n",
       "      <td>4</td>\n",
       "      <td>False</td>\n",
       "      <td>...</td>\n",
       "      <td>0</td>\n",
       "      <td>санкт-петербург</td>\n",
       "      <td>21,741.00</td>\n",
       "      <td>13,933.00</td>\n",
       "      <td>1.00</td>\n",
       "      <td>90.00</td>\n",
       "      <td>2.00</td>\n",
       "      <td>574.00</td>\n",
       "      <td>558.00</td>\n",
       "      <td>0</td>\n",
       "    </tr>\n",
       "    <tr>\n",
       "      <th>3</th>\n",
       "      <td>0</td>\n",
       "      <td>64900000</td>\n",
       "      <td>159.00</td>\n",
       "      <td>2015-07-24</td>\n",
       "      <td>3</td>\n",
       "      <td>2.77</td>\n",
       "      <td>14</td>\n",
       "      <td>89.83</td>\n",
       "      <td>9</td>\n",
       "      <td>False</td>\n",
       "      <td>...</td>\n",
       "      <td>0</td>\n",
       "      <td>санкт-петербург</td>\n",
       "      <td>28,098.00</td>\n",
       "      <td>6,800.00</td>\n",
       "      <td>2.00</td>\n",
       "      <td>84.00</td>\n",
       "      <td>3.00</td>\n",
       "      <td>234.00</td>\n",
       "      <td>424.00</td>\n",
       "      <td>0</td>\n",
       "    </tr>\n",
       "    <tr>\n",
       "      <th>4</th>\n",
       "      <td>2</td>\n",
       "      <td>10000000</td>\n",
       "      <td>100.00</td>\n",
       "      <td>2018-06-19</td>\n",
       "      <td>2</td>\n",
       "      <td>3.03</td>\n",
       "      <td>14</td>\n",
       "      <td>32.00</td>\n",
       "      <td>13</td>\n",
       "      <td>False</td>\n",
       "      <td>...</td>\n",
       "      <td>0</td>\n",
       "      <td>санкт-петербург</td>\n",
       "      <td>31,856.00</td>\n",
       "      <td>8,098.00</td>\n",
       "      <td>2.00</td>\n",
       "      <td>112.00</td>\n",
       "      <td>1.00</td>\n",
       "      <td>48.00</td>\n",
       "      <td>121.00</td>\n",
       "      <td>0</td>\n",
       "    </tr>\n",
       "  </tbody>\n",
       "</table>\n",
       "<p>5 rows × 23 columns</p>\n",
       "</div>"
      ],
      "text/plain": [
       "   total_images  last_price  total_area first_day_exposition  rooms  \\\n",
       "0            20    13000000      108.00           2019-03-07      3   \n",
       "1             7     3350000       40.40           2018-12-04      1   \n",
       "2            10     5196000       56.00           2015-08-20      2   \n",
       "3             0    64900000      159.00           2015-07-24      3   \n",
       "4             2    10000000      100.00           2018-06-19      2   \n",
       "\n",
       "   ceiling_height  floors_total  living_area  floor  is_apartment  ...  \\\n",
       "0            2.70            16        51.00      8         False  ...   \n",
       "1            2.77            11        18.60      1         False  ...   \n",
       "2            2.77             5        34.30      4         False  ...   \n",
       "3            2.77            14        89.83      9         False  ...   \n",
       "4            3.03            14        32.00     13         False  ...   \n",
       "\n",
       "   balcony    locality_name  airports_nearest  cityCenters_nearest  \\\n",
       "0        0  санкт-петербург         18,863.00            16,028.00   \n",
       "1        2           шушары         12,817.00            18,603.00   \n",
       "2        0  санкт-петербург         21,741.00            13,933.00   \n",
       "3        0  санкт-петербург         28,098.00             6,800.00   \n",
       "4        0  санкт-петербург         31,856.00             8,098.00   \n",
       "\n",
       "  parks_around3000  parks_nearest  ponds_around3000  ponds_nearest  \\\n",
       "0             1.00         482.00              2.00         755.00   \n",
       "1             0.00            NaN              0.00            NaN   \n",
       "2             1.00          90.00              2.00         574.00   \n",
       "3             2.00          84.00              3.00         234.00   \n",
       "4             2.00         112.00              1.00          48.00   \n",
       "\n",
       "   days_exposition  days_exposition_missing  \n",
       "0              NaN                        1  \n",
       "1            81.00                        0  \n",
       "2           558.00                        0  \n",
       "3           424.00                        0  \n",
       "4           121.00                        0  \n",
       "\n",
       "[5 rows x 23 columns]"
      ]
     },
     "metadata": {},
     "output_type": "display_data"
    }
   ],
   "source": [
    "# Видно из граифка, что больше всео пропусков среди последних объявлений по времени, \n",
    "#   они скорее всего еще не закрыты. Остальных не так много и можно проставить среднее занчение.data['days_exposition']\n",
    "for value in data['days_exposition']:\n",
    "    median_val = data['days_exposition'].mean()\n",
    "    data.loc[(data['days_exposition'].isna()) & (data['first_day_exposition'] < \"2019-01-01\"), 'days_exposition'] = median_val  \n",
    "    \n",
    "#display(data.days_exposition.describe())\n",
    "\n",
    "# приведем данные к номральному виду:\n",
    "# эти колонки по логике должны быть целыми числами\n",
    "for i in ['last_price', \n",
    "          'floors_total',\n",
    "          'balcony',\n",
    "         ]:\n",
    "    data[i] = data[i].astype('int64')\n",
    "\n",
    "    # эти колонки округлим до 2 сотых, что упростит восприятие и не помешает вычислениям\n",
    "for f in ['ceiling_height',\n",
    "          'living_area', \n",
    "          'kitchen_area',\n",
    "          'cityCenters_nearest',\n",
    "          'airports_nearest']:\n",
    "    data[f] = data[f].round(2)\n",
    "\n",
    "data.info()\n",
    "display(data.head())"
   ]
  },
  {
   "cell_type": "markdown",
   "metadata": {},
   "source": [
    "## Расчёты и добавление результатов в таблицу"
   ]
  },
  {
   "cell_type": "code",
   "execution_count": 4,
   "metadata": {},
   "outputs": [
    {
     "data": {
      "text/html": [
       "<div>\n",
       "<style scoped>\n",
       "    .dataframe tbody tr th:only-of-type {\n",
       "        vertical-align: middle;\n",
       "    }\n",
       "\n",
       "    .dataframe tbody tr th {\n",
       "        vertical-align: top;\n",
       "    }\n",
       "\n",
       "    .dataframe thead th {\n",
       "        text-align: right;\n",
       "    }\n",
       "</style>\n",
       "<table border=\"1\" class=\"dataframe\">\n",
       "  <thead>\n",
       "    <tr style=\"text-align: right;\">\n",
       "      <th></th>\n",
       "      <th>total_images</th>\n",
       "      <th>last_price</th>\n",
       "      <th>total_area</th>\n",
       "      <th>first_day_exposition</th>\n",
       "      <th>rooms</th>\n",
       "      <th>ceiling_height</th>\n",
       "      <th>floors_total</th>\n",
       "      <th>living_area</th>\n",
       "      <th>floor</th>\n",
       "      <th>is_apartment</th>\n",
       "      <th>...</th>\n",
       "      <th>ponds_nearest</th>\n",
       "      <th>days_exposition</th>\n",
       "      <th>days_exposition_missing</th>\n",
       "      <th>price_m2</th>\n",
       "      <th>weekday</th>\n",
       "      <th>month</th>\n",
       "      <th>year</th>\n",
       "      <th>floor_category</th>\n",
       "      <th>living_area_ratio</th>\n",
       "      <th>kitchen_area_ratio</th>\n",
       "    </tr>\n",
       "  </thead>\n",
       "  <tbody>\n",
       "    <tr>\n",
       "      <th>0</th>\n",
       "      <td>20</td>\n",
       "      <td>13000000</td>\n",
       "      <td>108.00</td>\n",
       "      <td>2019-03-07</td>\n",
       "      <td>3</td>\n",
       "      <td>2.70</td>\n",
       "      <td>16</td>\n",
       "      <td>51.00</td>\n",
       "      <td>8</td>\n",
       "      <td>False</td>\n",
       "      <td>...</td>\n",
       "      <td>755.00</td>\n",
       "      <td>NaN</td>\n",
       "      <td>1</td>\n",
       "      <td>120,370.37</td>\n",
       "      <td>Thursday</td>\n",
       "      <td>3</td>\n",
       "      <td>2019</td>\n",
       "      <td>другой</td>\n",
       "      <td>0.47</td>\n",
       "      <td>0.23</td>\n",
       "    </tr>\n",
       "    <tr>\n",
       "      <th>1</th>\n",
       "      <td>7</td>\n",
       "      <td>3350000</td>\n",
       "      <td>40.40</td>\n",
       "      <td>2018-12-04</td>\n",
       "      <td>1</td>\n",
       "      <td>2.77</td>\n",
       "      <td>11</td>\n",
       "      <td>18.60</td>\n",
       "      <td>1</td>\n",
       "      <td>False</td>\n",
       "      <td>...</td>\n",
       "      <td>NaN</td>\n",
       "      <td>81.00</td>\n",
       "      <td>0</td>\n",
       "      <td>82,920.79</td>\n",
       "      <td>Tuesday</td>\n",
       "      <td>12</td>\n",
       "      <td>2018</td>\n",
       "      <td>первый</td>\n",
       "      <td>0.46</td>\n",
       "      <td>0.27</td>\n",
       "    </tr>\n",
       "    <tr>\n",
       "      <th>2</th>\n",
       "      <td>10</td>\n",
       "      <td>5196000</td>\n",
       "      <td>56.00</td>\n",
       "      <td>2015-08-20</td>\n",
       "      <td>2</td>\n",
       "      <td>2.77</td>\n",
       "      <td>5</td>\n",
       "      <td>34.30</td>\n",
       "      <td>4</td>\n",
       "      <td>False</td>\n",
       "      <td>...</td>\n",
       "      <td>574.00</td>\n",
       "      <td>558.00</td>\n",
       "      <td>0</td>\n",
       "      <td>92,785.71</td>\n",
       "      <td>Thursday</td>\n",
       "      <td>8</td>\n",
       "      <td>2015</td>\n",
       "      <td>другой</td>\n",
       "      <td>0.61</td>\n",
       "      <td>0.15</td>\n",
       "    </tr>\n",
       "    <tr>\n",
       "      <th>3</th>\n",
       "      <td>0</td>\n",
       "      <td>64900000</td>\n",
       "      <td>159.00</td>\n",
       "      <td>2015-07-24</td>\n",
       "      <td>3</td>\n",
       "      <td>2.77</td>\n",
       "      <td>14</td>\n",
       "      <td>89.83</td>\n",
       "      <td>9</td>\n",
       "      <td>False</td>\n",
       "      <td>...</td>\n",
       "      <td>234.00</td>\n",
       "      <td>424.00</td>\n",
       "      <td>0</td>\n",
       "      <td>408,176.10</td>\n",
       "      <td>Friday</td>\n",
       "      <td>7</td>\n",
       "      <td>2015</td>\n",
       "      <td>другой</td>\n",
       "      <td>0.56</td>\n",
       "      <td>0.19</td>\n",
       "    </tr>\n",
       "    <tr>\n",
       "      <th>4</th>\n",
       "      <td>2</td>\n",
       "      <td>10000000</td>\n",
       "      <td>100.00</td>\n",
       "      <td>2018-06-19</td>\n",
       "      <td>2</td>\n",
       "      <td>3.03</td>\n",
       "      <td>14</td>\n",
       "      <td>32.00</td>\n",
       "      <td>13</td>\n",
       "      <td>False</td>\n",
       "      <td>...</td>\n",
       "      <td>48.00</td>\n",
       "      <td>121.00</td>\n",
       "      <td>0</td>\n",
       "      <td>100,000.00</td>\n",
       "      <td>Tuesday</td>\n",
       "      <td>6</td>\n",
       "      <td>2018</td>\n",
       "      <td>другой</td>\n",
       "      <td>0.32</td>\n",
       "      <td>0.41</td>\n",
       "    </tr>\n",
       "  </tbody>\n",
       "</table>\n",
       "<p>5 rows × 30 columns</p>\n",
       "</div>"
      ],
      "text/plain": [
       "   total_images  last_price  total_area first_day_exposition  rooms  \\\n",
       "0            20    13000000      108.00           2019-03-07      3   \n",
       "1             7     3350000       40.40           2018-12-04      1   \n",
       "2            10     5196000       56.00           2015-08-20      2   \n",
       "3             0    64900000      159.00           2015-07-24      3   \n",
       "4             2    10000000      100.00           2018-06-19      2   \n",
       "\n",
       "   ceiling_height  floors_total  living_area  floor  is_apartment  ...  \\\n",
       "0            2.70            16        51.00      8         False  ...   \n",
       "1            2.77            11        18.60      1         False  ...   \n",
       "2            2.77             5        34.30      4         False  ...   \n",
       "3            2.77            14        89.83      9         False  ...   \n",
       "4            3.03            14        32.00     13         False  ...   \n",
       "\n",
       "   ponds_nearest  days_exposition  days_exposition_missing   price_m2  \\\n",
       "0         755.00              NaN                        1 120,370.37   \n",
       "1            NaN            81.00                        0  82,920.79   \n",
       "2         574.00           558.00                        0  92,785.71   \n",
       "3         234.00           424.00                        0 408,176.10   \n",
       "4          48.00           121.00                        0 100,000.00   \n",
       "\n",
       "    weekday  month  year  floor_category  living_area_ratio  \\\n",
       "0  Thursday      3  2019          другой               0.47   \n",
       "1   Tuesday     12  2018          первый               0.46   \n",
       "2  Thursday      8  2015          другой               0.61   \n",
       "3    Friday      7  2015          другой               0.56   \n",
       "4   Tuesday      6  2018          другой               0.32   \n",
       "\n",
       "   kitchen_area_ratio  \n",
       "0                0.23  \n",
       "1                0.27  \n",
       "2                0.15  \n",
       "3                0.19  \n",
       "4                0.41  \n",
       "\n",
       "[5 rows x 30 columns]"
      ]
     },
     "metadata": {},
     "output_type": "display_data"
    }
   ],
   "source": [
    "# добавим столбец цена за квадратный метр\n",
    "data['price_m2'] = (data['last_price'] / data['total_area']).round(2)\n",
    "\n",
    "# добавим столбец день недели, столбец месяц и столбец год\n",
    "data['first_day_exposition'] = pd.to_datetime(data['first_day_exposition'])\n",
    "data['weekday']= data['first_day_exposition'].dt.day_name()\n",
    "data['month'] = data['first_day_exposition'].dt.month\n",
    "data['year'] = data['first_day_exposition'].dt.year\n",
    "\n",
    "# напишем фугкцию для категорий этажей\n",
    "def floor_category(row):\n",
    "    if row['floor'] == 1: \n",
    "        return 'первый'\n",
    "    if row['floor'] == row['floors_total']: \n",
    "        return 'последний'\n",
    "    return 'другой'\n",
    "\n",
    "data['floor_category'] = data.apply(floor_category, axis = 1)\n",
    "\n",
    "# добавим столбец отношения жилой площади к общей\n",
    "data['living_area_ratio'] = data['living_area'] / data['total_area']\n",
    "\n",
    "# добавим столбец отношения площади кухни к общей\n",
    "data['kitchen_area_ratio'] = data['kitchen_area'] / data['total_area']\n",
    "\n",
    "display(data.head())"
   ]
  },
  {
   "cell_type": "markdown",
   "metadata": {},
   "source": [
    "## Исследовательский анализ данных"
   ]
  },
  {
   "cell_type": "code",
   "execution_count": 5,
   "metadata": {},
   "outputs": [
    {
     "data": {
      "image/png": "[encoded data removed]",
      "text/plain": [
       "<Figure size 432x432 with 1 Axes>"
      ]
     },
     "metadata": {
      "needs_background": "light"
     },
     "output_type": "display_data"
    },
    {
     "data": {
      "image/png": "[encoded data removed]",
      "text/plain": [
       "<Figure size 432x432 with 1 Axes>"
      ]
     },
     "metadata": {
      "needs_background": "light"
     },
     "output_type": "display_data"
    },
    {
     "data": {
      "image/png": "[encoded data removed]",
      "text/plain": [
       "<Figure size 432x432 with 1 Axes>"
      ]
     },
     "metadata": {
      "needs_background": "light"
     },
     "output_type": "display_data"
    },
    {
     "data": {
      "image/png": "[encoded data removed]",
      "text/plain": [
       "<Figure size 432x432 with 1 Axes>"
      ]
     },
     "metadata": {
      "needs_background": "light"
     },
     "output_type": "display_data"
    }
   ],
   "source": [
    "# построим гистраммы:\n",
    "data['price_m2'].hist(bins= 100, figsize= (6,6), range= (100, 200000))\n",
    "plt.title('Цена за квадратный метр')\n",
    "plt.xlabel(\"рублей\")\n",
    "plt.ylabel(\"кол-во объявлений\")\n",
    "plt.show()\n",
    "\n",
    "data['total_area'].hist(bins= 100, figsize= (6,6), range= (0, 1000))\n",
    "plt.title('Общая площадь')\n",
    "plt.xlabel(\"метр квадратный\")\n",
    "plt.ylabel(\"кол-во объявлений\")\n",
    "plt.show()\n",
    "\n",
    "data['rooms'].hist(bins= 100, figsize= (6,6), range= (0, 21))\n",
    "plt.title('Количество комнат')\n",
    "plt.xlabel(\"кол-во комнат\")\n",
    "plt.ylabel(\"кол-во объявлений\")\n",
    "plt.show()\n",
    "\n",
    "data['ceiling_height'].hist(bins= 100, figsize= (6,6), range= (0, 10))\n",
    "plt.title('Высота потолков')\n",
    "plt.xlabel(\"метр\")\n",
    "plt.ylabel(\"кол-во объявлений\")\n",
    "plt.show()"
   ]
  },
  {
   "cell_type": "code",
   "execution_count": 6,
   "metadata": {},
   "outputs": [
    {
     "data": {
      "image/png": "[encoded data removed]",
      "text/plain": [
       "<Figure size 432x432 with 1 Axes>"
      ]
     },
     "metadata": {
      "needs_background": "light"
     },
     "output_type": "display_data"
    },
    {
     "name": "stdout",
     "output_type": "stream",
     "text": [
      "Среднее количество дней: 180.74139452780227\n",
      "Медиана количества дней 107.0\n",
      "count   21,777.00\n",
      "mean       180.74\n",
      "std        212.64\n",
      "min          1.00\n",
      "25%         45.00\n",
      "50%        107.00\n",
      "75%        216.00\n",
      "max      1,580.00\n",
      "Name: days_exposition, dtype: float64\n"
     ]
    }
   ],
   "source": [
    "#\n",
    "data['days_exposition'].hist(bins= 100, figsize= (6,6), range= (0, 1600))\n",
    "plt.title('Количество дней продажи квартиры')\n",
    "plt.show()\n",
    "print('Среднее количество дней:',data['days_exposition'].mean())\n",
    "print('Медиана количества дней',data['days_exposition'].median())\n",
    "print(data['days_exposition'].describe())"
   ]
  },
  {
   "cell_type": "markdown",
   "metadata": {},
   "source": [
    "**Вывод**\n",
    "* В сртеднем квартиры продаются за 100 дней\n",
    "* Продажа квартиры за 45 дней и меньше считается быстрой продажей\n",
    "* Продажа квартиры более 200 дней уже долгой продажей\n",
    "* Также я выяснил, что 45,60 и 90 день носит системный характер то предположил, что это система делает автозакрытие объявлений."
   ]
  },
  {
   "cell_type": "code",
   "execution_count": 7,
   "metadata": {
    "scrolled": false
   },
   "outputs": [
    {
     "data": {
      "image/png": "[encoded data removed]",
      "text/plain": [
       "<Figure size 720x720 with 1 Axes>"
      ]
     },
     "metadata": {
      "needs_background": "light"
     },
     "output_type": "display_data"
    },
    {
     "name": "stdout",
     "output_type": "stream",
     "text": [
      "Первый квартиль = 40.0, Третий квартиль = 69.7\n",
      "Нижняя граница = -4.550000000000004, Верхняя граница = 114.25\n",
      "Редкие значения до нижней границы = 0\n",
      "Редкие значения выше верхней границы = 1239\n"
     ]
    },
    {
     "data": {
      "image/png": "[encoded data removed]",
      "text/plain": [
       "<Figure size 720x720 with 1 Axes>"
      ]
     },
     "metadata": {
      "needs_background": "light"
     },
     "output_type": "display_data"
    },
    {
     "name": "stdout",
     "output_type": "stream",
     "text": [
      "Первый квартиль = 76566.13, Третий квартиль = 114213.2\n",
      "Нижняя граница = 20095.525000000016, Верхняя граница = 170683.805\n",
      "Редкие значения до нижней границы = 172\n",
      "Редкие значения выше верхней границы = 917\n"
     ]
    },
    {
     "data": {
      "image/png": "[encoded data removed]",
      "text/plain": [
       "<Figure size 720x720 with 1 Axes>"
      ]
     },
     "metadata": {
      "needs_background": "light"
     },
     "output_type": "display_data"
    },
    {
     "name": "stdout",
     "output_type": "stream",
     "text": [
      "Первый квартиль = 1.0, Третий квартиль = 3.0\n",
      "Нижняя граница = -2.0, Верхняя граница = 6.0\n",
      "Редкие значения до нижней границы = 0\n",
      "Редкие значения выше верхней границы = 90\n"
     ]
    },
    {
     "data": {
      "image/png": "[encoded data removed]",
      "text/plain": [
       "<Figure size 720x720 with 1 Axes>"
      ]
     },
     "metadata": {
      "needs_background": "light"
     },
     "output_type": "display_data"
    },
    {
     "name": "stdout",
     "output_type": "stream",
     "text": [
      "Первый квартиль = 2.6, Третий квартиль = 2.77\n",
      "Нижняя граница = 2.345, Верхняя граница = 3.025\n",
      "Редкие значения до нижней границы = 21\n",
      "Редкие значения выше верхней границы = 1511\n"
     ]
    },
    {
     "data": {
      "image/png": "[encoded data removed]",
      "text/plain": [
       "<Figure size 720x720 with 1 Axes>"
      ]
     },
     "metadata": {
      "needs_background": "light"
     },
     "output_type": "display_data"
    },
    {
     "name": "stdout",
     "output_type": "stream",
     "text": [
      "Первый квартиль = 45.00000000000001, Третий квартиль = 216.0\n",
      "Нижняя граница = -211.5, Верхняя граница = 472.5\n",
      "Редкие значения до нижней границы = 0\n",
      "Редкие значения выше верхней границы = 1940\n"
     ]
    }
   ],
   "source": [
    "# С помощью блокспотов и IQR границы выбросов обнаружем редкие и выбивающиеся значения столбцов\n",
    "# total_area, price_m2, rooms, ceiling_height и days_exposition т.к. именно эти столбцы нужны будут для \n",
    "# дальнейшего анализа.\n",
    "\n",
    "# Напишем функцию для определения iqr шраниц и посчитаем редкие значения\n",
    "def rare_values(df, col):\n",
    "    q1 = df[col].quantile(0.25)\n",
    "    q3 = df[col].quantile(0.75)\n",
    "    iqr = q3 - q1\n",
    "    bot_border = q1 - iqr*1.5\n",
    "    top_border = q3 + iqr*1.5\n",
    "    rare_values_bot = df.query(f'{col} < @bot_border')[col].count()\n",
    "    rare_values_top = df.query(f'{col} > @top_border')[col].count()\n",
    "    return (f'Первый квартиль = {q1}, Третий квартиль = {q3}\\n'\n",
    "            f'Нижняя граница = {bot_border}, Верхняя граница = {top_border}\\n'\n",
    "            f'Редкие значения до нижней границы = {rare_values_bot}\\n'\n",
    "            f'Редкие значения выше верхней границы = {rare_values_top}'\n",
    "           )\n",
    "\n",
    "data['total_area'].plot.box(grid = True, figsize = (10, 10))\n",
    "plt.title('Выбросы по столбцу total_area')\n",
    "plt.show()\n",
    "print(rare_values(data, 'total_area'))\n",
    "\n",
    "data['price_m2'].plot.box(grid = True, figsize = (10, 10))\n",
    "plt.title('Выбросы по столбцу price_m2')\n",
    "plt.show()\n",
    "print(rare_values(data, 'price_m2'))\n",
    "\n",
    "data['rooms'].plot.box(grid = True, figsize = (10, 10))\n",
    "plt.title('Выбросы по столбцу rooms')\n",
    "plt.show()\n",
    "print(rare_values(data, 'rooms'))\n",
    "\n",
    "data['ceiling_height'].plot.box(grid = True, figsize = (10, 10))\n",
    "plt.ylim(0, 20)\n",
    "plt.title('Выбросы по столбцу ceiling_height')\n",
    "plt.show()\n",
    "print(rare_values(data, 'ceiling_height'))\n",
    "\n",
    "data['days_exposition'].plot.box(grid = True, figsize = (10, 10))\n",
    "plt.title('Выбросы по столбцу days_exposition')\n",
    "plt.show()\n",
    "print(rare_values(data, 'days_exposition'))"
   ]
  },
  {
   "cell_type": "code",
   "execution_count": 8,
   "metadata": {
    "scrolled": false
   },
   "outputs": [
    {
     "data": {
      "text/html": [
       "<div>\n",
       "<style scoped>\n",
       "    .dataframe tbody tr th:only-of-type {\n",
       "        vertical-align: middle;\n",
       "    }\n",
       "\n",
       "    .dataframe tbody tr th {\n",
       "        vertical-align: top;\n",
       "    }\n",
       "\n",
       "    .dataframe thead th {\n",
       "        text-align: right;\n",
       "    }\n",
       "</style>\n",
       "<table border=\"1\" class=\"dataframe\">\n",
       "  <thead>\n",
       "    <tr style=\"text-align: right;\">\n",
       "      <th></th>\n",
       "      <th>total_images</th>\n",
       "      <th>last_price</th>\n",
       "      <th>total_area</th>\n",
       "      <th>rooms</th>\n",
       "      <th>ceiling_height</th>\n",
       "      <th>floors_total</th>\n",
       "      <th>living_area</th>\n",
       "      <th>floor</th>\n",
       "      <th>kitchen_area</th>\n",
       "      <th>balcony</th>\n",
       "      <th>...</th>\n",
       "      <th>parks_nearest</th>\n",
       "      <th>ponds_around3000</th>\n",
       "      <th>ponds_nearest</th>\n",
       "      <th>days_exposition</th>\n",
       "      <th>days_exposition_missing</th>\n",
       "      <th>price_m2</th>\n",
       "      <th>month</th>\n",
       "      <th>year</th>\n",
       "      <th>living_area_ratio</th>\n",
       "      <th>kitchen_area_ratio</th>\n",
       "    </tr>\n",
       "  </thead>\n",
       "  <tbody>\n",
       "    <tr>\n",
       "      <th>count</th>\n",
       "      <td>17,528.00</td>\n",
       "      <td>17,528.00</td>\n",
       "      <td>17,528.00</td>\n",
       "      <td>17,528.00</td>\n",
       "      <td>17,528.00</td>\n",
       "      <td>17,528.00</td>\n",
       "      <td>17,528.00</td>\n",
       "      <td>17,528.00</td>\n",
       "      <td>17,528.00</td>\n",
       "      <td>17,528.00</td>\n",
       "      <td>...</td>\n",
       "      <td>5,223.00</td>\n",
       "      <td>13,142.00</td>\n",
       "      <td>6,131.00</td>\n",
       "      <td>17,528.00</td>\n",
       "      <td>17,528.00</td>\n",
       "      <td>17,528.00</td>\n",
       "      <td>17,528.00</td>\n",
       "      <td>17,528.00</td>\n",
       "      <td>17,528.00</td>\n",
       "      <td>17,528.00</td>\n",
       "    </tr>\n",
       "    <tr>\n",
       "      <th>mean</th>\n",
       "      <td>9.68</td>\n",
       "      <td>4,836,641.05</td>\n",
       "      <td>52.52</td>\n",
       "      <td>1.91</td>\n",
       "      <td>2.70</td>\n",
       "      <td>11.20</td>\n",
       "      <td>29.92</td>\n",
       "      <td>6.10</td>\n",
       "      <td>9.54</td>\n",
       "      <td>0.61</td>\n",
       "      <td>...</td>\n",
       "      <td>493.83</td>\n",
       "      <td>0.67</td>\n",
       "      <td>542.50</td>\n",
       "      <td>123.06</td>\n",
       "      <td>0.06</td>\n",
       "      <td>91,958.49</td>\n",
       "      <td>6.68</td>\n",
       "      <td>2,017.39</td>\n",
       "      <td>0.56</td>\n",
       "      <td>0.19</td>\n",
       "    </tr>\n",
       "    <tr>\n",
       "      <th>std</th>\n",
       "      <td>5.56</td>\n",
       "      <td>2,399,679.16</td>\n",
       "      <td>18.18</td>\n",
       "      <td>0.87</td>\n",
       "      <td>0.13</td>\n",
       "      <td>6.71</td>\n",
       "      <td>12.52</td>\n",
       "      <td>5.01</td>\n",
       "      <td>3.83</td>\n",
       "      <td>0.95</td>\n",
       "      <td>...</td>\n",
       "      <td>327.68</td>\n",
       "      <td>0.86</td>\n",
       "      <td>275.84</td>\n",
       "      <td>109.80</td>\n",
       "      <td>0.23</td>\n",
       "      <td>27,706.07</td>\n",
       "      <td>3.50</td>\n",
       "      <td>0.83</td>\n",
       "      <td>0.10</td>\n",
       "      <td>0.07</td>\n",
       "    </tr>\n",
       "    <tr>\n",
       "      <th>min</th>\n",
       "      <td>0.00</td>\n",
       "      <td>630,000.00</td>\n",
       "      <td>13.00</td>\n",
       "      <td>1.00</td>\n",
       "      <td>2.40</td>\n",
       "      <td>1.00</td>\n",
       "      <td>2.00</td>\n",
       "      <td>1.00</td>\n",
       "      <td>2.00</td>\n",
       "      <td>0.00</td>\n",
       "      <td>...</td>\n",
       "      <td>1.00</td>\n",
       "      <td>0.00</td>\n",
       "      <td>13.00</td>\n",
       "      <td>1.00</td>\n",
       "      <td>0.00</td>\n",
       "      <td>20,192.31</td>\n",
       "      <td>1.00</td>\n",
       "      <td>2,014.00</td>\n",
       "      <td>0.04</td>\n",
       "      <td>0.04</td>\n",
       "    </tr>\n",
       "    <tr>\n",
       "      <th>25%</th>\n",
       "      <td>6.00</td>\n",
       "      <td>3,300,000.00</td>\n",
       "      <td>38.50</td>\n",
       "      <td>1.00</td>\n",
       "      <td>2.60</td>\n",
       "      <td>5.00</td>\n",
       "      <td>18.10</td>\n",
       "      <td>2.00</td>\n",
       "      <td>7.00</td>\n",
       "      <td>0.00</td>\n",
       "      <td>...</td>\n",
       "      <td>297.00</td>\n",
       "      <td>0.00</td>\n",
       "      <td>330.00</td>\n",
       "      <td>42.00</td>\n",
       "      <td>0.00</td>\n",
       "      <td>75,000.00</td>\n",
       "      <td>3.00</td>\n",
       "      <td>2,017.00</td>\n",
       "      <td>0.50</td>\n",
       "      <td>0.14</td>\n",
       "    </tr>\n",
       "    <tr>\n",
       "      <th>50%</th>\n",
       "      <td>9.00</td>\n",
       "      <td>4,300,000.00</td>\n",
       "      <td>48.10</td>\n",
       "      <td>2.00</td>\n",
       "      <td>2.77</td>\n",
       "      <td>9.00</td>\n",
       "      <td>28.90</td>\n",
       "      <td>5.00</td>\n",
       "      <td>9.00</td>\n",
       "      <td>0.00</td>\n",
       "      <td>...</td>\n",
       "      <td>460.00</td>\n",
       "      <td>0.00</td>\n",
       "      <td>534.00</td>\n",
       "      <td>86.50</td>\n",
       "      <td>0.00</td>\n",
       "      <td>92,500.00</td>\n",
       "      <td>7.00</td>\n",
       "      <td>2,017.00</td>\n",
       "      <td>0.56</td>\n",
       "      <td>0.19</td>\n",
       "    </tr>\n",
       "    <tr>\n",
       "      <th>75%</th>\n",
       "      <td>14.00</td>\n",
       "      <td>5,800,000.00</td>\n",
       "      <td>63.00</td>\n",
       "      <td>3.00</td>\n",
       "      <td>2.77</td>\n",
       "      <td>16.00</td>\n",
       "      <td>38.30</td>\n",
       "      <td>8.00</td>\n",
       "      <td>11.00</td>\n",
       "      <td>1.00</td>\n",
       "      <td>...</td>\n",
       "      <td>619.50</td>\n",
       "      <td>1.00</td>\n",
       "      <td>754.00</td>\n",
       "      <td>180.74</td>\n",
       "      <td>0.00</td>\n",
       "      <td>108,959.39</td>\n",
       "      <td>10.00</td>\n",
       "      <td>2,018.00</td>\n",
       "      <td>0.63</td>\n",
       "      <td>0.23</td>\n",
       "    </tr>\n",
       "    <tr>\n",
       "      <th>max</th>\n",
       "      <td>50.00</td>\n",
       "      <td>19,000,000.00</td>\n",
       "      <td>114.20</td>\n",
       "      <td>5.00</td>\n",
       "      <td>3.02</td>\n",
       "      <td>60.00</td>\n",
       "      <td>93.60</td>\n",
       "      <td>33.00</td>\n",
       "      <td>55.70</td>\n",
       "      <td>5.00</td>\n",
       "      <td>...</td>\n",
       "      <td>3,190.00</td>\n",
       "      <td>3.00</td>\n",
       "      <td>1,344.00</td>\n",
       "      <td>472.00</td>\n",
       "      <td>1.00</td>\n",
       "      <td>170,648.46</td>\n",
       "      <td>12.00</td>\n",
       "      <td>2,019.00</td>\n",
       "      <td>1.00</td>\n",
       "      <td>0.79</td>\n",
       "    </tr>\n",
       "  </tbody>\n",
       "</table>\n",
       "<p>8 rows × 23 columns</p>\n",
       "</div>"
      ],
      "text/plain": [
       "       total_images    last_price  total_area     rooms  ceiling_height  \\\n",
       "count     17,528.00     17,528.00   17,528.00 17,528.00       17,528.00   \n",
       "mean           9.68  4,836,641.05       52.52      1.91            2.70   \n",
       "std            5.56  2,399,679.16       18.18      0.87            0.13   \n",
       "min            0.00    630,000.00       13.00      1.00            2.40   \n",
       "25%            6.00  3,300,000.00       38.50      1.00            2.60   \n",
       "50%            9.00  4,300,000.00       48.10      2.00            2.77   \n",
       "75%           14.00  5,800,000.00       63.00      3.00            2.77   \n",
       "max           50.00 19,000,000.00      114.20      5.00            3.02   \n",
       "\n",
       "       floors_total  living_area     floor  kitchen_area   balcony  ...  \\\n",
       "count     17,528.00    17,528.00 17,528.00     17,528.00 17,528.00  ...   \n",
       "mean          11.20        29.92      6.10          9.54      0.61  ...   \n",
       "std            6.71        12.52      5.01          3.83      0.95  ...   \n",
       "min            1.00         2.00      1.00          2.00      0.00  ...   \n",
       "25%            5.00        18.10      2.00          7.00      0.00  ...   \n",
       "50%            9.00        28.90      5.00          9.00      0.00  ...   \n",
       "75%           16.00        38.30      8.00         11.00      1.00  ...   \n",
       "max           60.00        93.60     33.00         55.70      5.00  ...   \n",
       "\n",
       "       parks_nearest  ponds_around3000  ponds_nearest  days_exposition  \\\n",
       "count       5,223.00         13,142.00       6,131.00        17,528.00   \n",
       "mean          493.83              0.67         542.50           123.06   \n",
       "std           327.68              0.86         275.84           109.80   \n",
       "min             1.00              0.00          13.00             1.00   \n",
       "25%           297.00              0.00         330.00            42.00   \n",
       "50%           460.00              0.00         534.00            86.50   \n",
       "75%           619.50              1.00         754.00           180.74   \n",
       "max         3,190.00              3.00       1,344.00           472.00   \n",
       "\n",
       "       days_exposition_missing   price_m2     month      year  \\\n",
       "count                17,528.00  17,528.00 17,528.00 17,528.00   \n",
       "mean                      0.06  91,958.49      6.68  2,017.39   \n",
       "std                       0.23  27,706.07      3.50      0.83   \n",
       "min                       0.00  20,192.31      1.00  2,014.00   \n",
       "25%                       0.00  75,000.00      3.00  2,017.00   \n",
       "50%                       0.00  92,500.00      7.00  2,017.00   \n",
       "75%                       0.00 108,959.39     10.00  2,018.00   \n",
       "max                       1.00 170,648.46     12.00  2,019.00   \n",
       "\n",
       "       living_area_ratio  kitchen_area_ratio  \n",
       "count          17,528.00           17,528.00  \n",
       "mean                0.56                0.19  \n",
       "std                 0.10                0.07  \n",
       "min                 0.04                0.04  \n",
       "25%                 0.50                0.14  \n",
       "50%                 0.56                0.19  \n",
       "75%                 0.63                0.23  \n",
       "max                 1.00                0.79  \n",
       "\n",
       "[8 rows x 23 columns]"
      ]
     },
     "metadata": {},
     "output_type": "display_data"
    },
    {
     "data": {
      "text/html": [
       "<div>\n",
       "<style scoped>\n",
       "    .dataframe tbody tr th:only-of-type {\n",
       "        vertical-align: middle;\n",
       "    }\n",
       "\n",
       "    .dataframe tbody tr th {\n",
       "        vertical-align: top;\n",
       "    }\n",
       "\n",
       "    .dataframe thead th {\n",
       "        text-align: right;\n",
       "    }\n",
       "</style>\n",
       "<table border=\"1\" class=\"dataframe\">\n",
       "  <thead>\n",
       "    <tr style=\"text-align: right;\">\n",
       "      <th></th>\n",
       "      <th>total_images</th>\n",
       "      <th>last_price</th>\n",
       "      <th>total_area</th>\n",
       "      <th>first_day_exposition</th>\n",
       "      <th>rooms</th>\n",
       "      <th>ceiling_height</th>\n",
       "      <th>floors_total</th>\n",
       "      <th>living_area</th>\n",
       "      <th>floor</th>\n",
       "      <th>is_apartment</th>\n",
       "      <th>...</th>\n",
       "      <th>ponds_nearest</th>\n",
       "      <th>days_exposition</th>\n",
       "      <th>days_exposition_missing</th>\n",
       "      <th>price_m2</th>\n",
       "      <th>weekday</th>\n",
       "      <th>month</th>\n",
       "      <th>year</th>\n",
       "      <th>floor_category</th>\n",
       "      <th>living_area_ratio</th>\n",
       "      <th>kitchen_area_ratio</th>\n",
       "    </tr>\n",
       "  </thead>\n",
       "  <tbody>\n",
       "    <tr>\n",
       "      <th>1</th>\n",
       "      <td>7</td>\n",
       "      <td>3350000</td>\n",
       "      <td>40.40</td>\n",
       "      <td>2018-12-04</td>\n",
       "      <td>1</td>\n",
       "      <td>2.77</td>\n",
       "      <td>11</td>\n",
       "      <td>18.60</td>\n",
       "      <td>1</td>\n",
       "      <td>False</td>\n",
       "      <td>...</td>\n",
       "      <td>NaN</td>\n",
       "      <td>81.00</td>\n",
       "      <td>0</td>\n",
       "      <td>82,920.79</td>\n",
       "      <td>Tuesday</td>\n",
       "      <td>12</td>\n",
       "      <td>2018</td>\n",
       "      <td>первый</td>\n",
       "      <td>0.46</td>\n",
       "      <td>0.27</td>\n",
       "    </tr>\n",
       "    <tr>\n",
       "      <th>5</th>\n",
       "      <td>10</td>\n",
       "      <td>2890000</td>\n",
       "      <td>30.40</td>\n",
       "      <td>2018-09-10</td>\n",
       "      <td>1</td>\n",
       "      <td>2.77</td>\n",
       "      <td>12</td>\n",
       "      <td>14.40</td>\n",
       "      <td>5</td>\n",
       "      <td>False</td>\n",
       "      <td>...</td>\n",
       "      <td>NaN</td>\n",
       "      <td>55.00</td>\n",
       "      <td>0</td>\n",
       "      <td>95,065.79</td>\n",
       "      <td>Monday</td>\n",
       "      <td>9</td>\n",
       "      <td>2018</td>\n",
       "      <td>другой</td>\n",
       "      <td>0.47</td>\n",
       "      <td>0.30</td>\n",
       "    </tr>\n",
       "    <tr>\n",
       "      <th>6</th>\n",
       "      <td>6</td>\n",
       "      <td>3700000</td>\n",
       "      <td>37.30</td>\n",
       "      <td>2017-11-02</td>\n",
       "      <td>1</td>\n",
       "      <td>2.77</td>\n",
       "      <td>26</td>\n",
       "      <td>10.60</td>\n",
       "      <td>6</td>\n",
       "      <td>False</td>\n",
       "      <td>...</td>\n",
       "      <td>NaN</td>\n",
       "      <td>155.00</td>\n",
       "      <td>0</td>\n",
       "      <td>99,195.71</td>\n",
       "      <td>Thursday</td>\n",
       "      <td>11</td>\n",
       "      <td>2017</td>\n",
       "      <td>другой</td>\n",
       "      <td>0.28</td>\n",
       "      <td>0.39</td>\n",
       "    </tr>\n",
       "    <tr>\n",
       "      <th>8</th>\n",
       "      <td>20</td>\n",
       "      <td>2900000</td>\n",
       "      <td>33.16</td>\n",
       "      <td>2018-05-23</td>\n",
       "      <td>1</td>\n",
       "      <td>2.77</td>\n",
       "      <td>27</td>\n",
       "      <td>15.43</td>\n",
       "      <td>26</td>\n",
       "      <td>False</td>\n",
       "      <td>...</td>\n",
       "      <td>NaN</td>\n",
       "      <td>189.00</td>\n",
       "      <td>0</td>\n",
       "      <td>87,454.76</td>\n",
       "      <td>Wednesday</td>\n",
       "      <td>5</td>\n",
       "      <td>2018</td>\n",
       "      <td>другой</td>\n",
       "      <td>0.47</td>\n",
       "      <td>0.27</td>\n",
       "    </tr>\n",
       "    <tr>\n",
       "      <th>9</th>\n",
       "      <td>18</td>\n",
       "      <td>5400000</td>\n",
       "      <td>61.00</td>\n",
       "      <td>2017-02-26</td>\n",
       "      <td>3</td>\n",
       "      <td>2.50</td>\n",
       "      <td>9</td>\n",
       "      <td>43.60</td>\n",
       "      <td>7</td>\n",
       "      <td>False</td>\n",
       "      <td>...</td>\n",
       "      <td>NaN</td>\n",
       "      <td>289.00</td>\n",
       "      <td>0</td>\n",
       "      <td>88,524.59</td>\n",
       "      <td>Sunday</td>\n",
       "      <td>2</td>\n",
       "      <td>2017</td>\n",
       "      <td>другой</td>\n",
       "      <td>0.71</td>\n",
       "      <td>0.11</td>\n",
       "    </tr>\n",
       "  </tbody>\n",
       "</table>\n",
       "<p>5 rows × 30 columns</p>\n",
       "</div>"
      ],
      "text/plain": [
       "   total_images  last_price  total_area first_day_exposition  rooms  \\\n",
       "1             7     3350000       40.40           2018-12-04      1   \n",
       "5            10     2890000       30.40           2018-09-10      1   \n",
       "6             6     3700000       37.30           2017-11-02      1   \n",
       "8            20     2900000       33.16           2018-05-23      1   \n",
       "9            18     5400000       61.00           2017-02-26      3   \n",
       "\n",
       "   ceiling_height  floors_total  living_area  floor  is_apartment  ...  \\\n",
       "1            2.77            11        18.60      1         False  ...   \n",
       "5            2.77            12        14.40      5         False  ...   \n",
       "6            2.77            26        10.60      6         False  ...   \n",
       "8            2.77            27        15.43     26         False  ...   \n",
       "9            2.50             9        43.60      7         False  ...   \n",
       "\n",
       "   ponds_nearest  days_exposition  days_exposition_missing  price_m2  \\\n",
       "1            NaN            81.00                        0 82,920.79   \n",
       "5            NaN            55.00                        0 95,065.79   \n",
       "6            NaN           155.00                        0 99,195.71   \n",
       "8            NaN           189.00                        0 87,454.76   \n",
       "9            NaN           289.00                        0 88,524.59   \n",
       "\n",
       "     weekday  month  year  floor_category  living_area_ratio  \\\n",
       "1    Tuesday     12  2018          первый               0.46   \n",
       "5     Monday      9  2018          другой               0.47   \n",
       "6   Thursday     11  2017          другой               0.28   \n",
       "8  Wednesday      5  2018          другой               0.47   \n",
       "9     Sunday      2  2017          другой               0.71   \n",
       "\n",
       "   kitchen_area_ratio  \n",
       "1                0.27  \n",
       "5                0.30  \n",
       "6                0.39  \n",
       "8                0.27  \n",
       "9                0.11  \n",
       "\n",
       "[5 rows x 30 columns]"
      ]
     },
     "metadata": {},
     "output_type": "display_data"
    }
   ],
   "source": [
    "# Убираем все выбросы и создадим новую таблицу\n",
    "data_good = data.query('(total_area < 114.25) & (20095.525000000016< price_m2 <170683.805) & (rooms < 6) & (2.345 < ceiling_height < 3.025) &(days_exposition < 472.5)')\n",
    "display(data_good.describe())\n",
    "display(data_good.head())"
   ]
  },
  {
   "cell_type": "code",
   "execution_count": 9,
   "metadata": {
    "scrolled": false
   },
   "outputs": [
    {
     "data": {
      "image/png": "[encoded data removed]",
      "text/plain": [
       "<Figure size 432x288 with 1 Axes>"
      ]
     },
     "metadata": {
      "needs_background": "light"
     },
     "output_type": "display_data"
    },
    {
     "name": "stdout",
     "output_type": "stream",
     "text": [
      "Коэффициент корреляции: нет, тк данные не числовые\n"
     ]
    },
    {
     "data": {
      "image/png": "[encoded data removed]",
      "text/plain": [
       "<Figure size 432x288 with 1 Axes>"
      ]
     },
     "metadata": {
      "needs_background": "light"
     },
     "output_type": "display_data"
    },
    {
     "name": "stdout",
     "output_type": "stream",
     "text": [
      "Коэффициент корреляции: -0.17965466484554848\n"
     ]
    },
    {
     "data": {
      "image/png": "[encoded data removed]",
      "text/plain": [
       "<Figure size 432x288 with 1 Axes>"
      ]
     },
     "metadata": {
      "needs_background": "light"
     },
     "output_type": "display_data"
    },
    {
     "name": "stdout",
     "output_type": "stream",
     "text": [
      "Коэффициент корреляции: -0.18933249526189144\n"
     ]
    },
    {
     "data": {
      "image/png": "[encoded data removed]",
      "text/plain": [
       "<Figure size 432x288 with 1 Axes>"
      ]
     },
     "metadata": {
      "needs_background": "light"
     },
     "output_type": "display_data"
    },
    {
     "name": "stdout",
     "output_type": "stream",
     "text": [
      "Коэффициент корреляции: 0.07412974028741348\n"
     ]
    },
    {
     "data": {
      "image/png": "[encoded data removed]",
      "text/plain": [
       "<Figure size 432x288 with 1 Axes>"
      ]
     },
     "metadata": {
      "needs_background": "light"
     },
     "output_type": "display_data"
    },
    {
     "name": "stdout",
     "output_type": "stream",
     "text": [
      "Коэффициент корреляции: 0.012070159228515667\n"
     ]
    },
    {
     "data": {
      "image/png": "[encoded data removed]",
      "text/plain": [
       "<Figure size 432x288 with 1 Axes>"
      ]
     },
     "metadata": {
      "needs_background": "light"
     },
     "output_type": "display_data"
    },
    {
     "name": "stdout",
     "output_type": "stream",
     "text": [
      "Коэффициент корреляции: нет, тк данные не числовые\n"
     ]
    }
   ],
   "source": [
    "\n",
    "\n",
    "# построим графики для оценки факторов, которые больше всего влияют на стоимость квартиры\n",
    "#\n",
    "data_good.boxplot(column= 'price_m2', by= 'floor_category')\n",
    "plt.suptitle('Зависимотсь цены от этажа')\n",
    "plt.show()\n",
    "print('Коэффициент корреляции: нет, тк данные не числовые')\n",
    "#\n",
    "data_good.pivot_table(index= 'rooms', values= 'price_m2').plot()\n",
    "plt.suptitle('Зависимотсь цены от количества комнат')\n",
    "plt.show()\n",
    "print('Коэффициент корреляции:', data_good['price_m2'].corr(data_good['rooms']))\n",
    "data_good.pivot_table(index= 'cityCenters_nearest', values= 'price_m2').hist(bins=20)\n",
    "plt.suptitle('Зависимотсь цены от удаления от центра')\n",
    "plt.show()\n",
    "print('Коэффициент корреляции:', data_good['price_m2'].corr(data_good['cityCenters_nearest']))\n",
    "# \n",
    "data_good.pivot_table(index= 'year', values= 'price_m2').plot()\n",
    "plt.suptitle('Зависимотсь средней цены от года размещения объявления')\n",
    "plt.show()\n",
    "print('Коэффициент корреляции:', data_good['price_m2'].corr(data_good['year']))\n",
    "# \n",
    "data_good.pivot_table(index= 'month', values= 'price_m2').plot()\n",
    "plt.suptitle('Зависимотсь средней цены от месяца размещения объявления')\n",
    "plt.show()\n",
    "print('Коэффициент корреляции:', data_good['price_m2'].corr(data_good['month']))\n",
    "# \n",
    "data_good.pivot_table(index= 'weekday', values= 'price_m2').plot()\n",
    "plt.suptitle('Зависимотсь средней цены от дня недели размещения объявления')\n",
    "plt.show()\n",
    "print('Коэффициент корреляции: нет, тк данные не числовые')"
   ]
  },
  {
   "cell_type": "markdown",
   "metadata": {},
   "source": [
    "**Вывод**\n",
    "Судя по коэффициенту зависимость от дня, месяца, года считать не существенна, а по графику видно, что в летние месяцы цена дороже, а в зимние дешевле."
   ]
  },
  {
   "cell_type": "code",
   "execution_count": 10,
   "metadata": {},
   "outputs": [
    {
     "data": {
      "text/html": [
       "<div>\n",
       "<style scoped>\n",
       "    .dataframe tbody tr th:only-of-type {\n",
       "        vertical-align: middle;\n",
       "    }\n",
       "\n",
       "    .dataframe tbody tr th {\n",
       "        vertical-align: top;\n",
       "    }\n",
       "\n",
       "    .dataframe thead th {\n",
       "        text-align: right;\n",
       "    }\n",
       "</style>\n",
       "<table border=\"1\" class=\"dataframe\">\n",
       "  <thead>\n",
       "    <tr style=\"text-align: right;\">\n",
       "      <th></th>\n",
       "      <th>price_m2</th>\n",
       "    </tr>\n",
       "    <tr>\n",
       "      <th>locality_name</th>\n",
       "      <th></th>\n",
       "    </tr>\n",
       "  </thead>\n",
       "  <tbody>\n",
       "    <tr>\n",
       "      <th>санкт-петербург</th>\n",
       "      <td>104,779.97</td>\n",
       "    </tr>\n",
       "    <tr>\n",
       "      <th>пушкин</th>\n",
       "      <td>100,941.06</td>\n",
       "    </tr>\n",
       "    <tr>\n",
       "      <th>кудрово</th>\n",
       "      <td>94,747.98</td>\n",
       "    </tr>\n",
       "    <tr>\n",
       "      <th>парголово</th>\n",
       "      <td>89,497.10</td>\n",
       "    </tr>\n",
       "    <tr>\n",
       "      <th>мурино</th>\n",
       "      <td>85,865.15</td>\n",
       "    </tr>\n",
       "    <tr>\n",
       "      <th>шушары</th>\n",
       "      <td>77,928.07</td>\n",
       "    </tr>\n",
       "    <tr>\n",
       "      <th>колпино</th>\n",
       "      <td>75,093.58</td>\n",
       "    </tr>\n",
       "    <tr>\n",
       "      <th>гатчина</th>\n",
       "      <td>69,332.51</td>\n",
       "    </tr>\n",
       "    <tr>\n",
       "      <th>всеволожск</th>\n",
       "      <td>66,975.78</td>\n",
       "    </tr>\n",
       "    <tr>\n",
       "      <th>выборг</th>\n",
       "      <td>57,171.14</td>\n",
       "    </tr>\n",
       "  </tbody>\n",
       "</table>\n",
       "</div>"
      ],
      "text/plain": [
       "                  price_m2\n",
       "locality_name             \n",
       "санкт-петербург 104,779.97\n",
       "пушкин          100,941.06\n",
       "кудрово          94,747.98\n",
       "парголово        89,497.10\n",
       "мурино           85,865.15\n",
       "шушары           77,928.07\n",
       "колпино          75,093.58\n",
       "гатчина          69,332.51\n",
       "всеволожск       66,975.78\n",
       "выборг           57,171.14"
      ]
     },
     "execution_count": 10,
     "metadata": {},
     "output_type": "execute_result"
    }
   ],
   "source": [
    "# Отберем 10 городов с наибольшим количеством объявлений\n",
    "top_10 = data_good['locality_name'].value_counts().head(10).index.values\n",
    "#print(top_10)\n",
    "\n",
    "# Сгруппируем два столбца и отсортируем по цене на убывание\n",
    "data_good[data_good['locality_name'].isin(top_10)].pivot_table(index= 'locality_name', values= 'price_m2', aggfunc= ('mean')).sort_values(by='price_m2', ascending=False)"
   ]
  },
  {
   "cell_type": "markdown",
   "metadata": {},
   "source": [
    "**Вывод**\n",
    "Самый дорогой метр жилья это в Санкт-Петербурге, а самая низкая стоимость метра в Выборге"
   ]
  },
  {
   "cell_type": "code",
   "execution_count": 11,
   "metadata": {},
   "outputs": [
    {
     "data": {
      "text/plain": [
       "<AxesSubplot:xlabel='cityCenters_km'>"
      ]
     },
     "execution_count": 11,
     "metadata": {},
     "output_type": "execute_result"
    },
    {
     "data": {
      "image/png": "[encoded data removed]",
      "text/plain": [
       "<Figure size 432x288 with 1 Axes>"
      ]
     },
     "metadata": {
      "needs_background": "light"
     },
     "output_type": "display_data"
    }
   ],
   "source": [
    "# Создадим столбец с расстоянием до центра в киломметрах\n",
    "data_good['cityCenters_km'] = (data_good['cityCenters_nearest']/1000).astype('int64')\n",
    "\n",
    "# Ограничемся городом Санкт-Петербург и на основе него создаим график зависимости цены к приблежению к центру\n",
    "data_piter = data_good.query('locality_name == \"санкт-петербург\"')\n",
    "data_piter.pivot_table(index= 'cityCenters_km', values= 'price_m2', aggfunc='median').plot(grid= True)"
   ]
  },
  {
   "cell_type": "markdown",
   "metadata": {},
   "source": [
    "**Вывод**\n",
    "На сонове графика я считаю, что центр заканчивается около 6 км - 8 км"
   ]
  },
  {
   "cell_type": "code",
   "execution_count": 12,
   "metadata": {},
   "outputs": [
    {
     "data": {
      "image/png": "[encoded data removed]",
      "text/plain": [
       "<Figure size 432x288 with 1 Axes>"
      ]
     },
     "metadata": {
      "needs_background": "light"
     },
     "output_type": "display_data"
    },
    {
     "data": {
      "image/png": "[encoded data removed]",
      "text/plain": [
       "<Figure size 432x288 with 1 Axes>"
      ]
     },
     "metadata": {
      "needs_background": "light"
     },
     "output_type": "display_data"
    },
    {
     "data": {
      "image/png": "[encoded data removed]",
      "text/plain": [
       "<Figure size 432x288 with 1 Axes>"
      ]
     },
     "metadata": {
      "needs_background": "light"
     },
     "output_type": "display_data"
    },
    {
     "data": {
      "image/png": "[encoded data removed]",
      "text/plain": [
       "<Figure size 432x288 with 1 Axes>"
      ]
     },
     "metadata": {
      "needs_background": "light"
     },
     "output_type": "display_data"
    }
   ],
   "source": [
    "# Создадим отдельный фрейм для центра города и построим графики сравнения оп парметрам:\n",
    "data_center = data_good.query('cityCenters_km < 8')\n",
    "\n",
    "# Площадь квартиры\n",
    "data_center['total_area'].plot(kind= 'hist', alpha= 0.6, label= 'Площадь квартиры в центре')\n",
    "data_piter['total_area'].plot(kind= 'hist', alpha= 0.3, label= 'Площадь квартиры в городе')\n",
    "plt.legend()\n",
    "plt.show()\n",
    "\n",
    "# Цена квартиры\n",
    "data_center['last_price'].plot(kind= 'hist', alpha= 0.6, label= 'Цена квартиры в центре')\n",
    "data_piter['last_price'].plot(kind= 'hist', alpha= 0.3, label= 'Цена квартиры в городе')\n",
    "plt.legend()\n",
    "plt.show()\n",
    "\n",
    "# Количество комнат в квартире\n",
    "data_center['rooms'].plot(kind= 'hist', alpha= 0.6, label= 'Количество комнат в квартире в центре')\n",
    "data_piter['rooms'].plot(kind= 'hist', alpha= 0.3, label= 'Количество комнат в квартире в городе')\n",
    "plt.legend()\n",
    "plt.show()\n",
    "\n",
    "# Высота потолка в квартире\n",
    "data_center['ceiling_height'].plot(kind= 'hist', alpha= 0.6, label= 'Высота потолка в квартире в центре')\n",
    "data_piter['ceiling_height'].plot(kind= 'hist', alpha= 0.3, label= 'Высота потолка в квартире в городе')\n",
    "plt.legend()\n",
    "plt.show()"
   ]
  },
  {
   "cell_type": "code",
   "execution_count": 13,
   "metadata": {},
   "outputs": [
    {
     "data": {
      "image/png": "[encoded data removed]",
      "text/plain": [
       "<Figure size 432x288 with 1 Axes>"
      ]
     },
     "metadata": {
      "needs_background": "light"
     },
     "output_type": "display_data"
    },
    {
     "data": {
      "image/png": "[encoded data removed]",
      "text/plain": [
       "<Figure size 432x288 with 1 Axes>"
      ]
     },
     "metadata": {
      "needs_background": "light"
     },
     "output_type": "display_data"
    },
    {
     "data": {
      "image/png": "[encoded data removed]",
      "text/plain": [
       "<Figure size 432x288 with 1 Axes>"
      ]
     },
     "metadata": {
      "needs_background": "light"
     },
     "output_type": "display_data"
    },
    {
     "data": {
      "image/png": "[encoded data removed]",
      "text/plain": [
       "<Figure size 432x288 with 1 Axes>"
      ]
     },
     "metadata": {
      "needs_background": "light"
     },
     "output_type": "display_data"
    },
    {
     "data": {
      "image/png": "[encoded data removed]",
      "text/plain": [
       "<Figure size 432x288 with 1 Axes>"
      ]
     },
     "metadata": {
      "needs_background": "light"
     },
     "output_type": "display_data"
    },
    {
     "data": {
      "image/png": "[encoded data removed]",
      "text/plain": [
       "<Figure size 432x288 with 1 Axes>"
      ]
     },
     "metadata": {
      "needs_background": "light"
     },
     "output_type": "display_data"
    }
   ],
   "source": [
    "# Построим граики и визуально оценим как влияют показатели на цену квартир в центре города и в целом по городу\n",
    "#\n",
    "data_piter.groupby('rooms')['price_m2'].median().plot(alpha= 0.3, label= 'Влияние кол-во комнат в городе')\n",
    "data_center.groupby('rooms')['price_m2'].median().plot(alpha= 0.6, label= 'Влияние кол-во комнат в центре')\n",
    "plt.legend()\n",
    "plt.show()\n",
    "#\n",
    "data_piter.groupby('floor_category')['price_m2'].median().plot(alpha= 0.3, label= 'Влияние этажа квартиры в городе')\n",
    "data_center.groupby('floor_category')['price_m2'].median().plot(alpha= 0.6, label= 'Влияние этажа квартиры в центре')\n",
    "plt.legend()\n",
    "plt.show()\n",
    "#\n",
    "data_piter.groupby('cityCenters_km')['price_m2'].median().plot(alpha= 0.3, label= 'Влияние близости к центру в городе')\n",
    "data_center.groupby('cityCenters_km')['price_m2'].median().plot(alpha= 0.6, label= 'Влияние близости к центру')\n",
    "plt.legend()\n",
    "plt.show()\n",
    "#\n",
    "data_piter.groupby('year')['price_m2'].median().plot(alpha= 0.6, label= 'Изменение цены в течении лет по городу')\n",
    "data_center.groupby('year')['price_m2'].median().plot(alpha= 0.6, label= 'Изменение цены в течении лет в центре')\n",
    "plt.legend()\n",
    "plt.show()\n",
    "#\n",
    "data_piter.groupby('month')['price_m2'].median().plot(alpha= 0.6, label= 'Влияние месяца на цену в городе')\n",
    "data_center.groupby('month')['price_m2'].median().plot(alpha= 0.6, label= 'Влияние месяца на цену в центре')\n",
    "plt.legend()\n",
    "plt.show()\n",
    "#\n",
    "data_piter.groupby('weekday')['price_m2'].median().plot(alpha= 0.6, label= 'Влияние дня недели в городе')\n",
    "data_center.groupby('weekday')['price_m2'].median().plot(alpha= 0.6, label= 'Влияние дня недели в центре')\n",
    "plt.legend()\n",
    "plt.show()"
   ]
  },
  {
   "cell_type": "markdown",
   "metadata": {},
   "source": [
    "**Вывод**\n",
    "* На графмке №1 видно, что количество комнат влияет на стоимость квартиры, после 22 комнат цена снижается\n",
    "* На графмке №2 видно, что этаж квартиры по прежнему влияет на цену обоих показателй, и там, и там квартира дороже если это не первый и не последний этаж\n",
    "* На графмке №3 видно, что чем ближе к центру тем дороже\n",
    "* На графмке №4 видно, что с течением лет цена на квартиры росла в обоих случаях\n",
    "* На графмке №5 видно, что квартиры центральной части города самые дорогие те, объявления которых размещены в марте. В целоми по городу январь и летние месяцы\n",
    "* На графмке №6 видно, что квартиры центральной части города самые дорогие те, объявления которых размещены в субботу. В целоми по городу это воскресение"
   ]
  },
  {
   "cell_type": "markdown",
   "metadata": {},
   "source": [
    "## Общий вывод \n",
    "Санкт-петербург является лидером по числу объявлений о продаже квартир.\n",
    "Самый важный показатель увеличения цены это близость квартиры к центру города Санкт петербург.\n",
    "Так же в центре квартиры выделяются преимущественно высотой потолка в 2,8 метра.\n",
    "В целом по всему городу ценятся такие показатели, как количество комнат, близость к центру"
   ]
  }
 ],
 "metadata": {
  "ExecuteTimeLog": [
   {
    "duration": 618,
    "start_time": "2021-12-07T05:30:53.310Z"
   },
   {
    "duration": 66,
    "start_time": "2021-12-07T05:31:27.164Z"
   },
   {
    "duration": 58,
    "start_time": "2021-12-07T05:32:01.629Z"
   },
   {
    "duration": 67,
    "start_time": "2021-12-07T05:33:26.652Z"
   },
   {
    "duration": 107,
    "start_time": "2021-12-07T05:34:26.077Z"
   },
   {
    "duration": 145,
    "start_time": "2021-12-07T05:41:08.460Z"
   },
   {
    "duration": 147,
    "start_time": "2021-12-07T05:41:45.764Z"
   },
   {
    "duration": 156,
    "start_time": "2021-12-07T05:43:00.812Z"
   },
   {
    "duration": 822,
    "start_time": "2021-12-07T06:08:09.136Z"
   },
   {
    "duration": 391,
    "start_time": "2021-12-07T06:08:36.942Z"
   },
   {
    "duration": 121,
    "start_time": "2021-12-07T06:08:59.516Z"
   },
   {
    "duration": 4806,
    "start_time": "2021-12-07T06:12:58.264Z"
   },
   {
    "duration": 128,
    "start_time": "2021-12-07T06:13:10.839Z"
   },
   {
    "duration": 133,
    "start_time": "2021-12-07T06:14:15.032Z"
   },
   {
    "duration": 98,
    "start_time": "2021-12-07T06:14:26.714Z"
   },
   {
    "duration": 121,
    "start_time": "2021-12-07T06:14:42.231Z"
   },
   {
    "duration": 94,
    "start_time": "2021-12-07T06:16:26.281Z"
   },
   {
    "duration": 111,
    "start_time": "2021-12-07T06:18:51.045Z"
   },
   {
    "duration": 107,
    "start_time": "2021-12-07T06:19:37.909Z"
   },
   {
    "duration": 133,
    "start_time": "2021-12-07T06:25:09.977Z"
   },
   {
    "duration": 126,
    "start_time": "2021-12-07T06:38:40.309Z"
   },
   {
    "duration": 120,
    "start_time": "2021-12-07T06:41:46.023Z"
   },
   {
    "duration": 62,
    "start_time": "2021-12-07T06:47:17.852Z"
   },
   {
    "duration": 88,
    "start_time": "2021-12-07T06:48:13.787Z"
   },
   {
    "duration": 93,
    "start_time": "2021-12-07T06:48:36.260Z"
   },
   {
    "duration": 320,
    "start_time": "2021-12-07T06:49:25.805Z"
   },
   {
    "duration": 162,
    "start_time": "2021-12-07T06:49:36.236Z"
   },
   {
    "duration": 106,
    "start_time": "2021-12-07T06:55:20.556Z"
   },
   {
    "duration": 163,
    "start_time": "2021-12-07T06:55:38.257Z"
   },
   {
    "duration": 102,
    "start_time": "2021-12-07T07:01:05.878Z"
   },
   {
    "duration": 98,
    "start_time": "2021-12-07T07:01:45.543Z"
   },
   {
    "duration": 163,
    "start_time": "2021-12-07T07:03:59.335Z"
   },
   {
    "duration": 95,
    "start_time": "2021-12-07T07:04:36.608Z"
   },
   {
    "duration": 106,
    "start_time": "2021-12-07T07:04:55.991Z"
   },
   {
    "duration": 165,
    "start_time": "2021-12-07T07:07:31.730Z"
   },
   {
    "duration": 143,
    "start_time": "2021-12-07T07:11:39.391Z"
   },
   {
    "duration": 147,
    "start_time": "2021-12-07T07:14:18.529Z"
   },
   {
    "duration": 147,
    "start_time": "2021-12-07T07:15:44.520Z"
   },
   {
    "duration": 157,
    "start_time": "2021-12-07T07:16:28.634Z"
   },
   {
    "duration": 153,
    "start_time": "2021-12-07T07:18:53.715Z"
   },
   {
    "duration": 150,
    "start_time": "2021-12-07T07:20:37.301Z"
   },
   {
    "duration": 145,
    "start_time": "2021-12-07T07:20:56.292Z"
   },
   {
    "duration": 156,
    "start_time": "2021-12-07T07:21:04.876Z"
   },
   {
    "duration": 155,
    "start_time": "2021-12-07T07:21:30.678Z"
   },
   {
    "duration": 312,
    "start_time": "2021-12-07T07:21:43.254Z"
   },
   {
    "duration": 154,
    "start_time": "2021-12-07T07:22:01.461Z"
   },
   {
    "duration": 145,
    "start_time": "2021-12-07T07:22:42.885Z"
   },
   {
    "duration": 151,
    "start_time": "2021-12-07T07:23:32.679Z"
   },
   {
    "duration": 158,
    "start_time": "2021-12-07T07:24:25.311Z"
   },
   {
    "duration": 338,
    "start_time": "2021-12-07T07:26:03.041Z"
   },
   {
    "duration": 143,
    "start_time": "2021-12-07T07:27:09.585Z"
   },
   {
    "duration": 149,
    "start_time": "2021-12-07T07:28:03.625Z"
   },
   {
    "duration": 336,
    "start_time": "2021-12-07T07:29:34.267Z"
   },
   {
    "duration": 146,
    "start_time": "2021-12-07T07:30:32.100Z"
   },
   {
    "duration": 146,
    "start_time": "2021-12-07T07:30:42.771Z"
   },
   {
    "duration": 148,
    "start_time": "2021-12-07T07:31:12.773Z"
   },
   {
    "duration": 152,
    "start_time": "2021-12-07T07:35:10.722Z"
   },
   {
    "duration": 167,
    "start_time": "2021-12-07T07:39:46.974Z"
   },
   {
    "duration": 154,
    "start_time": "2021-12-07T07:39:55.316Z"
   },
   {
    "duration": 6,
    "start_time": "2021-12-07T08:19:28.790Z"
   },
   {
    "duration": 6,
    "start_time": "2021-12-07T08:20:13.653Z"
   },
   {
    "duration": 21,
    "start_time": "2021-12-07T08:20:32.206Z"
   },
   {
    "duration": 33,
    "start_time": "2021-12-07T08:20:41.087Z"
   },
   {
    "duration": 25,
    "start_time": "2021-12-07T08:22:09.258Z"
   },
   {
    "duration": 23,
    "start_time": "2021-12-07T08:30:12.160Z"
   },
   {
    "duration": 32,
    "start_time": "2021-12-07T08:31:04.218Z"
   },
   {
    "duration": 34,
    "start_time": "2021-12-07T08:31:51.561Z"
   },
   {
    "duration": 7,
    "start_time": "2021-12-07T08:32:52.786Z"
   },
   {
    "duration": 34,
    "start_time": "2021-12-07T08:36:09.954Z"
   },
   {
    "duration": 7,
    "start_time": "2021-12-07T08:44:00.561Z"
   },
   {
    "duration": 34,
    "start_time": "2021-12-07T08:44:11.258Z"
   },
   {
    "duration": 186,
    "start_time": "2021-12-07T08:46:29.770Z"
   },
   {
    "duration": 58,
    "start_time": "2021-12-07T08:46:47.826Z"
   },
   {
    "duration": 4,
    "start_time": "2021-12-07T08:46:52.953Z"
   },
   {
    "duration": 4,
    "start_time": "2021-12-07T08:47:25.202Z"
   },
   {
    "duration": 4,
    "start_time": "2021-12-07T08:47:44.081Z"
   },
   {
    "duration": 159,
    "start_time": "2021-12-07T08:48:07.955Z"
   },
   {
    "duration": 4,
    "start_time": "2021-12-07T08:48:12.042Z"
   },
   {
    "duration": 4427,
    "start_time": "2021-12-07T08:51:33.268Z"
   },
   {
    "duration": 5810,
    "start_time": "2021-12-07T08:52:08.349Z"
   },
   {
    "duration": 9,
    "start_time": "2021-12-08T06:30:44.423Z"
   },
   {
    "duration": 14,
    "start_time": "2021-12-08T06:32:30.200Z"
   },
   {
    "duration": 213,
    "start_time": "2021-12-08T06:34:55.497Z"
   },
   {
    "duration": 19,
    "start_time": "2021-12-08T06:35:14.210Z"
   },
   {
    "duration": 17,
    "start_time": "2021-12-08T06:35:59.635Z"
   },
   {
    "duration": 12,
    "start_time": "2021-12-08T06:37:55.028Z"
   },
   {
    "duration": 11,
    "start_time": "2021-12-08T06:38:13.122Z"
   },
   {
    "duration": 15,
    "start_time": "2021-12-08T06:39:41.685Z"
   },
   {
    "duration": 8,
    "start_time": "2021-12-08T06:40:07.814Z"
   },
   {
    "duration": 10,
    "start_time": "2021-12-08T06:40:23.053Z"
   },
   {
    "duration": 10,
    "start_time": "2021-12-08T06:40:44.301Z"
   },
   {
    "duration": 16,
    "start_time": "2021-12-08T06:40:51.446Z"
   },
   {
    "duration": 181,
    "start_time": "2021-12-08T06:42:33.351Z"
   },
   {
    "duration": 192,
    "start_time": "2021-12-08T06:45:03.825Z"
   },
   {
    "duration": 158,
    "start_time": "2021-12-08T06:45:08.954Z"
   },
   {
    "duration": 17,
    "start_time": "2021-12-08T06:45:12.689Z"
   },
   {
    "duration": 45,
    "start_time": "2021-12-08T06:47:08.763Z"
   },
   {
    "duration": 17,
    "start_time": "2021-12-08T06:47:31.772Z"
   },
   {
    "duration": 200,
    "start_time": "2021-12-08T06:51:30.815Z"
   },
   {
    "duration": 206,
    "start_time": "2021-12-08T06:51:54.583Z"
   },
   {
    "duration": 632,
    "start_time": "2021-12-08T06:52:01.718Z"
   },
   {
    "duration": 271,
    "start_time": "2021-12-08T06:52:51.213Z"
   },
   {
    "duration": 19,
    "start_time": "2021-12-08T06:53:09.663Z"
   },
   {
    "duration": 251,
    "start_time": "2021-12-08T06:53:29.631Z"
   },
   {
    "duration": 24,
    "start_time": "2021-12-08T06:53:37.823Z"
   },
   {
    "duration": 73,
    "start_time": "2021-12-08T06:54:48.378Z"
   },
   {
    "duration": 79,
    "start_time": "2021-12-08T06:55:04.308Z"
   },
   {
    "duration": 61,
    "start_time": "2021-12-08T06:55:43.803Z"
   },
   {
    "duration": 222,
    "start_time": "2021-12-08T06:55:53.112Z"
   },
   {
    "duration": 198,
    "start_time": "2021-12-08T06:57:11.374Z"
   },
   {
    "duration": 60,
    "start_time": "2021-12-08T06:57:47.372Z"
   },
   {
    "duration": 202,
    "start_time": "2021-12-08T06:58:05.162Z"
   },
   {
    "duration": 10,
    "start_time": "2021-12-08T06:58:19.558Z"
   },
   {
    "duration": 12,
    "start_time": "2021-12-08T07:11:54.972Z"
   },
   {
    "duration": 24,
    "start_time": "2021-12-08T07:12:25.062Z"
   },
   {
    "duration": 23,
    "start_time": "2021-12-08T07:31:53.238Z"
   },
   {
    "duration": 24,
    "start_time": "2021-12-08T07:32:07.956Z"
   },
   {
    "duration": 17,
    "start_time": "2021-12-08T07:32:22.222Z"
   },
   {
    "duration": 18,
    "start_time": "2021-12-08T07:32:38.236Z"
   },
   {
    "duration": 12,
    "start_time": "2021-12-08T07:37:35.137Z"
   },
   {
    "duration": 185,
    "start_time": "2021-12-08T07:40:52.362Z"
   },
   {
    "duration": 160,
    "start_time": "2021-12-08T07:41:05.652Z"
   },
   {
    "duration": 10,
    "start_time": "2021-12-08T07:41:08.890Z"
   },
   {
    "duration": 16,
    "start_time": "2021-12-08T07:41:45.874Z"
   },
   {
    "duration": 40,
    "start_time": "2021-12-08T07:41:59.379Z"
   },
   {
    "duration": 44,
    "start_time": "2021-12-08T07:46:49.639Z"
   },
   {
    "duration": 23,
    "start_time": "2021-12-08T07:51:03.627Z"
   },
   {
    "duration": 59,
    "start_time": "2021-12-08T08:04:22.531Z"
   },
   {
    "duration": 12,
    "start_time": "2021-12-08T08:04:32.522Z"
   },
   {
    "duration": 43,
    "start_time": "2021-12-08T08:05:04.811Z"
   },
   {
    "duration": 42,
    "start_time": "2021-12-08T08:18:52.968Z"
   },
   {
    "duration": 167,
    "start_time": "2021-12-08T08:19:30.384Z"
   },
   {
    "duration": 44,
    "start_time": "2021-12-08T08:19:34.575Z"
   },
   {
    "duration": 7,
    "start_time": "2021-12-08T08:20:52.740Z"
   },
   {
    "duration": 36,
    "start_time": "2021-12-08T08:21:02.145Z"
   },
   {
    "duration": 175,
    "start_time": "2021-12-08T08:21:11.968Z"
   },
   {
    "duration": 40,
    "start_time": "2021-12-08T08:21:19.331Z"
   },
   {
    "duration": 37,
    "start_time": "2021-12-08T08:24:11.628Z"
   },
   {
    "duration": 41,
    "start_time": "2021-12-08T08:26:33.197Z"
   },
   {
    "duration": 60,
    "start_time": "2021-12-08T08:27:07.613Z"
   },
   {
    "duration": 193,
    "start_time": "2021-12-08T08:28:49.989Z"
   },
   {
    "duration": 178,
    "start_time": "2021-12-08T08:29:15.581Z"
   },
   {
    "duration": 173,
    "start_time": "2021-12-08T08:29:25.679Z"
   },
   {
    "duration": 269,
    "start_time": "2021-12-08T08:29:29.063Z"
   },
   {
    "duration": 365,
    "start_time": "2021-12-08T08:30:10.310Z"
   },
   {
    "duration": 154,
    "start_time": "2021-12-08T08:30:37.496Z"
   },
   {
    "duration": 208,
    "start_time": "2021-12-08T08:30:41.143Z"
   },
   {
    "duration": 192,
    "start_time": "2021-12-08T08:31:06.328Z"
   },
   {
    "duration": 13,
    "start_time": "2021-12-08T08:31:40.657Z"
   },
   {
    "duration": 14,
    "start_time": "2021-12-08T08:32:27.681Z"
   },
   {
    "duration": 14,
    "start_time": "2021-12-08T08:34:57.499Z"
   },
   {
    "duration": 18,
    "start_time": "2021-12-08T08:52:08.169Z"
   },
   {
    "duration": 17,
    "start_time": "2021-12-08T08:52:22.009Z"
   },
   {
    "duration": 157,
    "start_time": "2021-12-08T08:52:26.771Z"
   },
   {
    "duration": 18,
    "start_time": "2021-12-08T08:52:30.481Z"
   },
   {
    "duration": 77,
    "start_time": "2021-12-08T08:52:50.913Z"
   },
   {
    "duration": 162,
    "start_time": "2021-12-08T15:42:58.759Z"
   },
   {
    "duration": 75,
    "start_time": "2021-12-08T15:43:03.071Z"
   },
   {
    "duration": 78,
    "start_time": "2021-12-08T15:43:11.442Z"
   },
   {
    "duration": 55,
    "start_time": "2021-12-08T15:43:22.535Z"
   },
   {
    "duration": 83,
    "start_time": "2021-12-08T15:43:38.473Z"
   },
   {
    "duration": 79,
    "start_time": "2021-12-08T15:43:54.566Z"
   },
   {
    "duration": 12,
    "start_time": "2021-12-08T16:05:09.080Z"
   },
   {
    "duration": 12,
    "start_time": "2021-12-08T16:05:23.584Z"
   },
   {
    "duration": 13,
    "start_time": "2021-12-08T16:05:50.335Z"
   },
   {
    "duration": 12,
    "start_time": "2021-12-08T16:06:17.978Z"
   },
   {
    "duration": 47,
    "start_time": "2021-12-08T16:10:16.735Z"
   },
   {
    "duration": 31,
    "start_time": "2021-12-08T16:10:46.358Z"
   },
   {
    "duration": 59,
    "start_time": "2021-12-08T16:17:54.528Z"
   },
   {
    "duration": 16,
    "start_time": "2021-12-08T16:18:09.355Z"
   },
   {
    "duration": 18,
    "start_time": "2021-12-08T16:19:08.690Z"
   },
   {
    "duration": 15,
    "start_time": "2021-12-08T16:20:47.965Z"
   },
   {
    "duration": 15,
    "start_time": "2021-12-08T16:21:25.234Z"
   },
   {
    "duration": 17,
    "start_time": "2021-12-08T16:23:43.673Z"
   },
   {
    "duration": 17,
    "start_time": "2021-12-08T16:27:24.401Z"
   },
   {
    "duration": 27,
    "start_time": "2021-12-08T16:57:38.172Z"
   },
   {
    "duration": 29,
    "start_time": "2021-12-08T16:58:07.181Z"
   },
   {
    "duration": 178,
    "start_time": "2021-12-08T17:02:59.220Z"
   },
   {
    "duration": 59,
    "start_time": "2021-12-08T17:04:16.375Z"
   },
   {
    "duration": 25,
    "start_time": "2021-12-08T17:04:23.138Z"
   },
   {
    "duration": 153,
    "start_time": "2021-12-08T17:12:40.844Z"
   },
   {
    "duration": 174,
    "start_time": "2021-12-08T17:14:37.221Z"
   },
   {
    "duration": 164,
    "start_time": "2021-12-09T06:26:27.437Z"
   },
   {
    "duration": 154,
    "start_time": "2021-12-09T06:26:35.389Z"
   },
   {
    "duration": 157,
    "start_time": "2021-12-09T06:26:41.085Z"
   },
   {
    "duration": 167,
    "start_time": "2021-12-09T06:33:54.214Z"
   },
   {
    "duration": 486,
    "start_time": "2021-12-09T06:35:17.187Z"
   },
   {
    "duration": 159,
    "start_time": "2021-12-09T06:35:39.739Z"
   },
   {
    "duration": 162,
    "start_time": "2021-12-09T06:42:17.190Z"
   },
   {
    "duration": 378,
    "start_time": "2021-12-09T06:43:08.850Z"
   },
   {
    "duration": 377,
    "start_time": "2021-12-09T06:43:52.755Z"
   },
   {
    "duration": 353,
    "start_time": "2021-12-09T06:44:44.691Z"
   },
   {
    "duration": 163,
    "start_time": "2021-12-09T06:46:25.701Z"
   },
   {
    "duration": 154,
    "start_time": "2021-12-09T06:46:33.532Z"
   },
   {
    "duration": 154,
    "start_time": "2021-12-09T06:46:52.884Z"
   },
   {
    "duration": 165,
    "start_time": "2021-12-09T06:47:07.970Z"
   },
   {
    "duration": 160,
    "start_time": "2021-12-09T06:47:13.564Z"
   },
   {
    "duration": 5,
    "start_time": "2021-12-09T06:49:39.832Z"
   },
   {
    "duration": 335,
    "start_time": "2021-12-09T06:50:20.631Z"
   },
   {
    "duration": 353,
    "start_time": "2021-12-09T06:51:17.688Z"
   },
   {
    "duration": 759,
    "start_time": "2021-12-09T06:51:32.984Z"
   },
   {
    "duration": 1082,
    "start_time": "2021-12-09T07:08:20.231Z"
   },
   {
    "duration": 163,
    "start_time": "2021-12-09T07:08:24.532Z"
   },
   {
    "duration": 1091,
    "start_time": "2021-12-09T07:09:18.371Z"
   },
   {
    "duration": 1056,
    "start_time": "2021-12-09T07:13:40.622Z"
   },
   {
    "duration": 326,
    "start_time": "2021-12-09T07:13:42.854Z"
   },
   {
    "duration": 463,
    "start_time": "2021-12-09T07:47:31.313Z"
   },
   {
    "duration": 480,
    "start_time": "2021-12-09T07:47:58.078Z"
   },
   {
    "duration": 23013,
    "start_time": "2021-12-09T07:48:42.238Z"
   },
   {
    "duration": 51747,
    "start_time": "2021-12-09T07:52:00.105Z"
   },
   {
    "duration": 1527,
    "start_time": "2021-12-09T07:54:57.410Z"
   },
   {
    "duration": 1975,
    "start_time": "2021-12-09T07:56:19.146Z"
   },
   {
    "duration": 2171,
    "start_time": "2021-12-09T08:01:52.471Z"
   },
   {
    "duration": 1751,
    "start_time": "2021-12-09T08:02:24.440Z"
   },
   {
    "duration": 1579,
    "start_time": "2021-12-09T08:03:24.769Z"
   },
   {
    "duration": 1562,
    "start_time": "2021-12-09T08:03:56.711Z"
   },
   {
    "duration": 1934,
    "start_time": "2021-12-09T08:04:33.417Z"
   },
   {
    "duration": 3376,
    "start_time": "2021-12-09T08:14:02.425Z"
   },
   {
    "duration": 1602,
    "start_time": "2021-12-09T08:15:25.856Z"
   },
   {
    "duration": 1540,
    "start_time": "2021-12-09T08:15:49.007Z"
   },
   {
    "duration": 1549,
    "start_time": "2021-12-09T08:16:23.368Z"
   },
   {
    "duration": 8406,
    "start_time": "2021-12-09T08:36:36.491Z"
   },
   {
    "duration": 8708,
    "start_time": "2021-12-09T08:37:12.586Z"
   },
   {
    "duration": 164,
    "start_time": "2021-12-10T08:12:23.663Z"
   },
   {
    "duration": 8590,
    "start_time": "2021-12-10T08:12:30.071Z"
   },
   {
    "duration": 9243,
    "start_time": "2021-12-10T08:42:20.344Z"
   },
   {
    "duration": 8880,
    "start_time": "2021-12-10T08:42:31.913Z"
   },
   {
    "duration": 8889,
    "start_time": "2021-12-10T10:04:50.313Z"
   },
   {
    "duration": 9258,
    "start_time": "2021-12-10T10:05:27.760Z"
   },
   {
    "duration": 9406,
    "start_time": "2021-12-10T10:05:57.223Z"
   },
   {
    "duration": 9384,
    "start_time": "2021-12-10T10:06:40.424Z"
   },
   {
    "duration": 9925,
    "start_time": "2021-12-10T10:07:22.521Z"
   },
   {
    "duration": 9487,
    "start_time": "2021-12-10T10:08:58.282Z"
   },
   {
    "duration": 8779,
    "start_time": "2021-12-10T10:11:22.156Z"
   },
   {
    "duration": 9045,
    "start_time": "2021-12-10T10:33:31.548Z"
   },
   {
    "duration": 8765,
    "start_time": "2021-12-10T10:35:21.080Z"
   },
   {
    "duration": 9162,
    "start_time": "2021-12-10T10:50:54.755Z"
   },
   {
    "duration": 8849,
    "start_time": "2021-12-10T10:52:17.457Z"
   },
   {
    "duration": 8627,
    "start_time": "2021-12-10T10:52:42.067Z"
   },
   {
    "duration": 92,
    "start_time": "2021-12-10T10:54:18.674Z"
   },
   {
    "duration": 8536,
    "start_time": "2021-12-10T10:54:59.532Z"
   },
   {
    "duration": 8662,
    "start_time": "2021-12-10T10:56:48.350Z"
   },
   {
    "duration": 8905,
    "start_time": "2021-12-10T11:05:36.036Z"
   },
   {
    "duration": 8637,
    "start_time": "2021-12-10T11:13:58.850Z"
   },
   {
    "duration": 8818,
    "start_time": "2021-12-10T11:20:34.474Z"
   },
   {
    "duration": 8971,
    "start_time": "2021-12-10T11:22:50.860Z"
   },
   {
    "duration": 9025,
    "start_time": "2021-12-10T11:23:29.132Z"
   },
   {
    "duration": 8980,
    "start_time": "2021-12-10T11:24:20.394Z"
   },
   {
    "duration": 8965,
    "start_time": "2021-12-10T11:25:13.259Z"
   },
   {
    "duration": 8824,
    "start_time": "2021-12-10T11:25:59.675Z"
   },
   {
    "duration": 9182,
    "start_time": "2021-12-10T11:28:59.824Z"
   },
   {
    "duration": 8702,
    "start_time": "2021-12-10T11:29:34.768Z"
   },
   {
    "duration": 74,
    "start_time": "2021-12-10T16:56:08.003Z"
   },
   {
    "duration": 395,
    "start_time": "2021-12-10T16:57:17.999Z"
   },
   {
    "duration": 703,
    "start_time": "2021-12-10T16:57:35.655Z"
   },
   {
    "duration": 8867,
    "start_time": "2021-12-10T16:57:43.093Z"
   },
   {
    "duration": 8916,
    "start_time": "2021-12-10T16:57:54.273Z"
   },
   {
    "duration": 65,
    "start_time": "2021-12-10T16:58:14.874Z"
   },
   {
    "duration": 63,
    "start_time": "2021-12-10T16:58:53.882Z"
   },
   {
    "duration": 9355,
    "start_time": "2021-12-10T16:59:29.122Z"
   },
   {
    "duration": 8840,
    "start_time": "2021-12-10T17:00:05.995Z"
   },
   {
    "duration": 9264,
    "start_time": "2021-12-10T17:01:22.374Z"
   },
   {
    "duration": 55629,
    "start_time": "2021-12-10T17:08:50.642Z"
   },
   {
    "duration": 56983,
    "start_time": "2021-12-10T17:10:01.888Z"
   },
   {
    "duration": 55834,
    "start_time": "2021-12-10T17:11:27.639Z"
   },
   {
    "duration": 56540,
    "start_time": "2021-12-10T17:13:35.274Z"
   },
   {
    "duration": 55880,
    "start_time": "2021-12-10T17:15:56.632Z"
   },
   {
    "duration": 465,
    "start_time": "2021-12-10T17:25:07.823Z"
   },
   {
    "duration": 54737,
    "start_time": "2021-12-10T17:25:13.154Z"
   },
   {
    "duration": 53154,
    "start_time": "2021-12-10T17:28:17.415Z"
   },
   {
    "duration": 167,
    "start_time": "2021-12-10T17:30:24.776Z"
   },
   {
    "duration": 55938,
    "start_time": "2021-12-10T17:30:30.995Z"
   },
   {
    "duration": 10,
    "start_time": "2021-12-10T17:37:22.197Z"
   },
   {
    "duration": 43,
    "start_time": "2021-12-10T17:37:49.221Z"
   },
   {
    "duration": 180,
    "start_time": "2021-12-10T17:53:01.520Z"
   },
   {
    "duration": 35,
    "start_time": "2021-12-10T17:53:17.725Z"
   },
   {
    "duration": 59,
    "start_time": "2021-12-10T18:00:59.514Z"
   },
   {
    "duration": 35,
    "start_time": "2021-12-10T18:01:26.553Z"
   },
   {
    "duration": 30,
    "start_time": "2021-12-10T18:01:58.385Z"
   },
   {
    "duration": 31,
    "start_time": "2021-12-10T18:03:38.026Z"
   },
   {
    "duration": 172,
    "start_time": "2021-12-10T18:06:52.930Z"
   },
   {
    "duration": 55611,
    "start_time": "2021-12-10T18:07:26.875Z"
   },
   {
    "duration": 720,
    "start_time": "2021-12-11T15:03:22.804Z"
   },
   {
    "duration": 57711,
    "start_time": "2021-12-11T15:03:38.864Z"
   },
   {
    "duration": 8163,
    "start_time": "2021-12-11T15:06:50.439Z"
   },
   {
    "duration": 9062,
    "start_time": "2021-12-11T15:07:19.169Z"
   },
   {
    "duration": 140,
    "start_time": "2021-12-11T15:07:38.067Z"
   },
   {
    "duration": 8374,
    "start_time": "2021-12-11T15:07:43.918Z"
   },
   {
    "duration": 8378,
    "start_time": "2021-12-11T15:08:40.453Z"
   },
   {
    "duration": 46089,
    "start_time": "2021-12-11T15:09:30.061Z"
   },
   {
    "duration": 21,
    "start_time": "2021-12-11T15:13:40.039Z"
   },
   {
    "duration": 22,
    "start_time": "2021-12-11T15:14:16.791Z"
   },
   {
    "duration": 8627,
    "start_time": "2021-12-11T15:15:24.040Z"
   },
   {
    "duration": 143,
    "start_time": "2021-12-11T15:15:43.004Z"
   },
   {
    "duration": 8361,
    "start_time": "2021-12-11T15:15:51.337Z"
   },
   {
    "duration": 67277,
    "start_time": "2021-12-11T15:16:07.565Z"
   },
   {
    "duration": 35,
    "start_time": "2021-12-11T15:17:23.250Z"
   },
   {
    "duration": 311,
    "start_time": "2021-12-11T15:24:18.825Z"
   },
   {
    "duration": 314,
    "start_time": "2021-12-11T15:25:05.574Z"
   },
   {
    "duration": 304,
    "start_time": "2021-12-11T15:25:13.463Z"
   },
   {
    "duration": 338,
    "start_time": "2021-12-11T15:25:40.483Z"
   },
   {
    "duration": 239,
    "start_time": "2021-12-11T15:26:33.629Z"
   },
   {
    "duration": 256,
    "start_time": "2021-12-11T15:27:11.931Z"
   },
   {
    "duration": 284,
    "start_time": "2021-12-11T15:27:52.066Z"
   },
   {
    "duration": 748,
    "start_time": "2021-12-11T15:28:54.886Z"
   },
   {
    "duration": 243,
    "start_time": "2021-12-11T15:29:09.741Z"
   },
   {
    "duration": 37,
    "start_time": "2021-12-11T15:29:20.773Z"
   },
   {
    "duration": 39,
    "start_time": "2021-12-11T15:31:30.915Z"
   },
   {
    "duration": 34,
    "start_time": "2021-12-11T15:32:15.779Z"
   },
   {
    "duration": 150,
    "start_time": "2021-12-11T15:32:28.214Z"
   },
   {
    "duration": 9316,
    "start_time": "2021-12-11T15:32:37.275Z"
   },
   {
    "duration": 70566,
    "start_time": "2021-12-11T15:32:51.602Z"
   },
   {
    "duration": 39,
    "start_time": "2021-12-11T15:34:18.111Z"
   },
   {
    "duration": 34,
    "start_time": "2021-12-11T15:35:23.979Z"
   },
   {
    "duration": 36,
    "start_time": "2021-12-11T15:35:37.509Z"
   },
   {
    "duration": 945,
    "start_time": "2021-12-11T15:41:10.822Z"
   },
   {
    "duration": 929,
    "start_time": "2021-12-11T15:42:08.777Z"
   },
   {
    "duration": 621,
    "start_time": "2021-12-11T15:43:03.432Z"
   },
   {
    "duration": 533,
    "start_time": "2021-12-11T15:48:22.977Z"
   },
   {
    "duration": 292,
    "start_time": "2021-12-11T16:00:54.579Z"
   },
   {
    "duration": 299,
    "start_time": "2021-12-11T16:03:35.681Z"
   },
   {
    "duration": 342,
    "start_time": "2021-12-11T16:04:00.749Z"
   },
   {
    "duration": 356,
    "start_time": "2021-12-11T16:04:31.451Z"
   },
   {
    "duration": 300,
    "start_time": "2021-12-11T16:04:39.512Z"
   },
   {
    "duration": 634,
    "start_time": "2021-12-11T16:10:24.500Z"
   },
   {
    "duration": 632,
    "start_time": "2021-12-11T16:10:38.384Z"
   },
   {
    "duration": 587,
    "start_time": "2021-12-11T16:14:23.502Z"
   },
   {
    "duration": 574,
    "start_time": "2021-12-11T16:15:16.057Z"
   },
   {
    "duration": 86,
    "start_time": "2021-12-11T16:20:20.140Z"
   },
   {
    "duration": 983,
    "start_time": "2021-12-11T16:20:41.669Z"
   },
   {
    "duration": 910,
    "start_time": "2021-12-11T16:21:03.633Z"
   },
   {
    "duration": 1294,
    "start_time": "2021-12-11T16:24:27.697Z"
   },
   {
    "duration": 303,
    "start_time": "2021-12-11T16:33:29.829Z"
   },
   {
    "duration": 533,
    "start_time": "2021-12-11T16:36:23.394Z"
   },
   {
    "duration": 411,
    "start_time": "2021-12-11T16:39:57.703Z"
   },
   {
    "duration": 269,
    "start_time": "2021-12-13T06:46:43.280Z"
   },
   {
    "duration": 740,
    "start_time": "2021-12-13T06:46:57.090Z"
   },
   {
    "duration": 8099,
    "start_time": "2021-12-13T06:47:01.275Z"
   },
   {
    "duration": 39548,
    "start_time": "2021-12-13T06:47:15.170Z"
   },
   {
    "duration": 66464,
    "start_time": "2021-12-13T06:47:57.363Z"
   },
   {
    "duration": 8075,
    "start_time": "2021-12-13T06:49:03.828Z"
   },
   {
    "duration": 66873,
    "start_time": "2021-12-13T06:49:16.436Z"
   },
   {
    "duration": 601,
    "start_time": "2021-12-13T06:50:29.869Z"
   },
   {
    "duration": 650,
    "start_time": "2021-12-13T06:53:58.399Z"
   },
   {
    "duration": 1535,
    "start_time": "2021-12-13T06:54:02.246Z"
   },
   {
    "duration": 486,
    "start_time": "2021-12-13T06:54:18.335Z"
   },
   {
    "duration": 184,
    "start_time": "2021-12-13T06:54:22.727Z"
   },
   {
    "duration": 242,
    "start_time": "2021-12-13T06:56:03.481Z"
   },
   {
    "duration": 1269,
    "start_time": "2021-12-13T06:57:12.841Z"
   },
   {
    "duration": 1492,
    "start_time": "2021-12-13T07:02:16.817Z"
   },
   {
    "duration": 1200,
    "start_time": "2021-12-13T07:05:04.607Z"
   },
   {
    "duration": 869,
    "start_time": "2021-12-13T07:06:08.833Z"
   },
   {
    "duration": 964,
    "start_time": "2021-12-13T07:06:30.704Z"
   },
   {
    "duration": 1036,
    "start_time": "2021-12-13T07:11:51.929Z"
   },
   {
    "duration": 1019,
    "start_time": "2021-12-13T07:13:34.839Z"
   },
   {
    "duration": 1719,
    "start_time": "2021-12-13T07:59:07.930Z"
   },
   {
    "duration": 2503,
    "start_time": "2021-12-13T08:05:30.528Z"
   },
   {
    "duration": 1715,
    "start_time": "2021-12-13T08:06:12.030Z"
   },
   {
    "duration": 1901,
    "start_time": "2021-12-13T08:08:43.345Z"
   },
   {
    "duration": 4,
    "start_time": "2021-12-13T08:14:38.784Z"
   },
   {
    "duration": 9,
    "start_time": "2021-12-13T08:14:58.293Z"
   },
   {
    "duration": 1631,
    "start_time": "2021-12-13T08:17:53.013Z"
   },
   {
    "duration": 10,
    "start_time": "2021-12-13T08:18:30.623Z"
   },
   {
    "duration": 303,
    "start_time": "2021-12-13T08:28:46.213Z"
   },
   {
    "duration": 11,
    "start_time": "2021-12-13T08:29:16.384Z"
   },
   {
    "duration": 1647,
    "start_time": "2021-12-13T08:31:06.006Z"
   },
   {
    "duration": 4146,
    "start_time": "2021-12-13T08:31:28.208Z"
   },
   {
    "duration": 1668,
    "start_time": "2021-12-13T08:45:12.062Z"
   },
   {
    "duration": 22,
    "start_time": "2021-12-13T09:21:48.956Z"
   },
   {
    "duration": 43,
    "start_time": "2021-12-13T09:22:08.900Z"
   },
   {
    "duration": 50,
    "start_time": "2021-12-13T09:23:25.743Z"
   },
   {
    "duration": 65,
    "start_time": "2021-12-13T09:36:48.265Z"
   },
   {
    "duration": 112,
    "start_time": "2021-12-13T09:47:08.112Z"
   },
   {
    "duration": 291,
    "start_time": "2021-12-13T09:47:55.275Z"
   },
   {
    "duration": 70,
    "start_time": "2021-12-13T09:48:06.355Z"
   },
   {
    "duration": 95,
    "start_time": "2021-12-13T09:49:19.735Z"
   },
   {
    "duration": 76,
    "start_time": "2021-12-13T09:50:18.965Z"
   },
   {
    "duration": 170,
    "start_time": "2021-12-13T12:28:19.370Z"
   },
   {
    "duration": 163,
    "start_time": "2021-12-13T12:31:35.463Z"
   },
   {
    "duration": 173,
    "start_time": "2021-12-13T12:55:58.900Z"
   },
   {
    "duration": 609,
    "start_time": "2021-12-13T12:56:13.481Z"
   },
   {
    "duration": 187,
    "start_time": "2021-12-13T12:56:29.088Z"
   },
   {
    "duration": 197,
    "start_time": "2021-12-13T12:56:42.656Z"
   },
   {
    "duration": 182,
    "start_time": "2021-12-13T12:57:14.969Z"
   },
   {
    "duration": 319,
    "start_time": "2021-12-13T12:57:25.200Z"
   },
   {
    "duration": 266,
    "start_time": "2021-12-13T12:57:41.377Z"
   },
   {
    "duration": 148,
    "start_time": "2021-12-13T12:58:35.796Z"
   },
   {
    "duration": 584,
    "start_time": "2021-12-13T13:00:24.396Z"
   },
   {
    "duration": 562,
    "start_time": "2021-12-13T13:03:45.428Z"
   },
   {
    "duration": 234,
    "start_time": "2021-12-13T13:04:34.702Z"
   },
   {
    "duration": 512,
    "start_time": "2021-12-13T13:09:36.922Z"
   },
   {
    "duration": 589,
    "start_time": "2021-12-13T13:12:30.270Z"
   },
   {
    "duration": 119,
    "start_time": "2021-12-13T13:15:07.734Z"
   },
   {
    "duration": 5677,
    "start_time": "2021-12-13T13:15:20.830Z"
   },
   {
    "duration": 804,
    "start_time": "2021-12-13T13:16:53.992Z"
   },
   {
    "duration": 617,
    "start_time": "2021-12-13T13:17:24.096Z"
   },
   {
    "duration": 721,
    "start_time": "2021-12-13T13:19:59.346Z"
   },
   {
    "duration": 557,
    "start_time": "2021-12-13T15:37:04.703Z"
   },
   {
    "duration": 9194,
    "start_time": "2021-12-13T15:37:13.696Z"
   },
   {
    "duration": 72124,
    "start_time": "2021-12-13T15:38:36.565Z"
   },
   {
    "duration": 9407,
    "start_time": "2021-12-13T15:39:48.691Z"
   },
   {
    "duration": 20119,
    "start_time": "2021-12-13T15:40:06.906Z"
   },
   {
    "duration": 75479,
    "start_time": "2021-12-13T15:40:31.621Z"
   },
   {
    "duration": -295,
    "start_time": "2021-12-13T15:41:47.399Z"
   },
   {
    "duration": 270,
    "start_time": "2021-12-13T15:41:52.119Z"
   },
   {
    "duration": 16899,
    "start_time": "2021-12-13T15:42:10.775Z"
   },
   {
    "duration": 114473,
    "start_time": "2021-12-13T15:42:34.431Z"
   },
   {
    "duration": 584,
    "start_time": "2021-12-13T15:44:36.469Z"
   },
   {
    "duration": 1447,
    "start_time": "2021-12-13T15:44:40.804Z"
   },
   {
    "duration": 343,
    "start_time": "2021-12-13T15:44:57.398Z"
   },
   {
    "duration": 1654,
    "start_time": "2021-12-13T15:45:07.133Z"
   },
   {
    "duration": 108,
    "start_time": "2021-12-13T15:45:18.038Z"
   },
   {
    "duration": 559,
    "start_time": "2021-12-13T15:48:22.070Z"
   },
   {
    "duration": 870,
    "start_time": "2021-12-13T15:51:24.197Z"
   },
   {
    "duration": 369,
    "start_time": "2021-12-13T15:51:37.921Z"
   },
   {
    "duration": 468,
    "start_time": "2021-12-13T15:53:24.316Z"
   },
   {
    "duration": 742,
    "start_time": "2021-12-13T15:56:40.259Z"
   },
   {
    "duration": 580,
    "start_time": "2021-12-13T15:58:53.643Z"
   },
   {
    "duration": 575,
    "start_time": "2021-12-13T15:59:45.927Z"
   },
   {
    "duration": 565,
    "start_time": "2021-12-13T16:00:00.760Z"
   },
   {
    "duration": 665,
    "start_time": "2021-12-13T16:03:01.885Z"
   },
   {
    "duration": 595,
    "start_time": "2021-12-13T16:03:39.313Z"
   },
   {
    "duration": 549,
    "start_time": "2021-12-13T16:04:04.968Z"
   },
   {
    "duration": 739,
    "start_time": "2021-12-13T16:05:14.971Z"
   },
   {
    "duration": 968,
    "start_time": "2021-12-13T16:08:47.902Z"
   },
   {
    "duration": 769,
    "start_time": "2021-12-13T16:09:23.343Z"
   },
   {
    "duration": 775,
    "start_time": "2021-12-13T16:09:59.895Z"
   },
   {
    "duration": 863,
    "start_time": "2021-12-13T16:10:12.244Z"
   },
   {
    "duration": 596,
    "start_time": "2021-12-13T16:11:28.203Z"
   },
   {
    "duration": 568,
    "start_time": "2021-12-13T16:12:05.285Z"
   },
   {
    "duration": 857,
    "start_time": "2021-12-13T16:12:30.187Z"
   },
   {
    "duration": 761,
    "start_time": "2021-12-13T16:12:36.155Z"
   },
   {
    "duration": 698,
    "start_time": "2021-12-13T16:14:39.298Z"
   },
   {
    "duration": 589,
    "start_time": "2021-12-13T16:15:26.385Z"
   },
   {
    "duration": 587,
    "start_time": "2021-12-13T16:16:06.989Z"
   },
   {
    "duration": 9,
    "start_time": "2021-12-13T16:26:49.412Z"
   },
   {
    "duration": 8,
    "start_time": "2021-12-13T16:27:03.492Z"
   },
   {
    "duration": 1172,
    "start_time": "2021-12-13T16:30:03.008Z"
   },
   {
    "duration": 1437,
    "start_time": "2021-12-13T16:31:37.521Z"
   },
   {
    "duration": 1539,
    "start_time": "2021-12-13T16:32:27.707Z"
   },
   {
    "duration": 1214,
    "start_time": "2021-12-13T16:33:56.833Z"
   },
   {
    "duration": 244,
    "start_time": "2021-12-13T16:42:48.280Z"
   },
   {
    "duration": 79,
    "start_time": "2021-12-13T16:44:29.049Z"
   },
   {
    "duration": 248,
    "start_time": "2021-12-13T16:44:36.285Z"
   },
   {
    "duration": 243,
    "start_time": "2021-12-13T16:45:19.990Z"
   },
   {
    "duration": 241,
    "start_time": "2021-12-13T16:45:39.570Z"
   },
   {
    "duration": 315,
    "start_time": "2021-12-13T16:48:44.636Z"
   },
   {
    "duration": 301,
    "start_time": "2021-12-13T16:48:54.824Z"
   },
   {
    "duration": 277,
    "start_time": "2021-12-13T16:49:02.846Z"
   },
   {
    "duration": 349,
    "start_time": "2021-12-13T16:50:04.318Z"
   },
   {
    "duration": 259,
    "start_time": "2021-12-13T16:51:57.752Z"
   },
   {
    "duration": 8,
    "start_time": "2021-12-13T16:52:48.701Z"
   },
   {
    "duration": 320,
    "start_time": "2021-12-13T16:53:03.473Z"
   },
   {
    "duration": 24,
    "start_time": "2021-12-13T16:53:42.086Z"
   },
   {
    "duration": 257,
    "start_time": "2021-12-13T16:57:35.238Z"
   },
   {
    "duration": 250,
    "start_time": "2021-12-13T16:57:43.566Z"
   },
   {
    "duration": 53,
    "start_time": "2021-12-13T16:57:52.444Z"
   },
   {
    "duration": 83,
    "start_time": "2021-12-13T16:58:02.066Z"
   },
   {
    "duration": 270,
    "start_time": "2021-12-14T05:31:54.270Z"
   },
   {
    "duration": 49,
    "start_time": "2021-12-14T05:32:53.432Z"
   },
   {
    "duration": 21,
    "start_time": "2021-12-14T05:33:51.929Z"
   },
   {
    "duration": 159,
    "start_time": "2021-12-14T05:37:54.610Z"
   },
   {
    "duration": 23,
    "start_time": "2021-12-14T05:39:43.980Z"
   },
   {
    "duration": 285,
    "start_time": "2021-12-14T05:40:21.492Z"
   },
   {
    "duration": 23,
    "start_time": "2021-12-14T05:41:06.909Z"
   },
   {
    "duration": 48,
    "start_time": "2021-12-14T05:47:45.685Z"
   },
   {
    "duration": 18,
    "start_time": "2021-12-14T05:48:22.979Z"
   },
   {
    "duration": 42,
    "start_time": "2021-12-14T05:48:56.225Z"
   },
   {
    "duration": 94,
    "start_time": "2021-12-14T05:54:04.678Z"
   },
   {
    "duration": 75,
    "start_time": "2021-12-14T05:54:09.959Z"
   },
   {
    "duration": 80,
    "start_time": "2021-12-14T05:54:29.950Z"
   },
   {
    "duration": 28,
    "start_time": "2021-12-14T05:54:40.015Z"
   },
   {
    "duration": 259,
    "start_time": "2021-12-14T05:58:55.466Z"
   },
   {
    "duration": 249,
    "start_time": "2021-12-14T05:59:19.921Z"
   },
   {
    "duration": 92,
    "start_time": "2021-12-14T06:00:28.250Z"
   },
   {
    "duration": 21,
    "start_time": "2021-12-14T06:00:35.306Z"
   },
   {
    "duration": 22,
    "start_time": "2021-12-14T06:01:04.291Z"
   },
   {
    "duration": 21,
    "start_time": "2021-12-14T06:01:11.914Z"
   },
   {
    "duration": 232,
    "start_time": "2021-12-14T06:07:44.000Z"
   },
   {
    "duration": 5,
    "start_time": "2021-12-14T06:07:51.152Z"
   },
   {
    "duration": 238,
    "start_time": "2021-12-14T06:08:50.201Z"
   },
   {
    "duration": 6,
    "start_time": "2021-12-14T06:10:57.690Z"
   },
   {
    "duration": 39,
    "start_time": "2021-12-14T06:33:31.516Z"
   },
   {
    "duration": 29,
    "start_time": "2021-12-14T06:57:03.735Z"
   },
   {
    "duration": 12,
    "start_time": "2021-12-14T06:57:47.756Z"
   },
   {
    "duration": 19,
    "start_time": "2021-12-14T07:00:00.183Z"
   },
   {
    "duration": 163,
    "start_time": "2021-12-14T07:01:33.537Z"
   },
   {
    "duration": 168,
    "start_time": "2021-12-14T07:03:35.601Z"
   },
   {
    "duration": 159,
    "start_time": "2021-12-14T07:24:56.672Z"
   },
   {
    "duration": 157,
    "start_time": "2021-12-14T07:25:30.425Z"
   },
   {
    "duration": 178,
    "start_time": "2021-12-14T07:27:21.475Z"
   },
   {
    "duration": 315,
    "start_time": "2021-12-14T07:27:39.714Z"
   },
   {
    "duration": 205,
    "start_time": "2021-12-14T07:28:49.885Z"
   },
   {
    "duration": 291,
    "start_time": "2021-12-14T07:30:12.518Z"
   },
   {
    "duration": 422,
    "start_time": "2021-12-14T07:30:30.030Z"
   },
   {
    "duration": 623,
    "start_time": "2021-12-14T07:32:42.432Z"
   },
   {
    "duration": 826,
    "start_time": "2021-12-14T07:34:01.664Z"
   },
   {
    "duration": 817,
    "start_time": "2021-12-14T07:34:23.122Z"
   },
   {
    "duration": 968,
    "start_time": "2021-12-14T07:42:30.553Z"
   },
   {
    "duration": 164,
    "start_time": "2021-12-14T08:01:18.111Z"
   },
   {
    "duration": 367,
    "start_time": "2021-12-14T08:03:02.750Z"
   },
   {
    "duration": 360,
    "start_time": "2021-12-14T08:03:37.903Z"
   },
   {
    "duration": 331,
    "start_time": "2021-12-14T08:05:53.823Z"
   },
   {
    "duration": 328,
    "start_time": "2021-12-14T08:06:08.128Z"
   },
   {
    "duration": 451,
    "start_time": "2021-12-14T08:18:12.907Z"
   },
   {
    "duration": 244,
    "start_time": "2021-12-14T08:19:08.777Z"
   },
   {
    "duration": 238,
    "start_time": "2021-12-14T08:19:48.242Z"
   },
   {
    "duration": 247,
    "start_time": "2021-12-14T08:20:18.698Z"
   },
   {
    "duration": 170,
    "start_time": "2021-12-14T08:20:35.282Z"
   },
   {
    "duration": 168,
    "start_time": "2021-12-14T08:21:15.259Z"
   },
   {
    "duration": 169,
    "start_time": "2021-12-14T08:21:43.834Z"
   },
   {
    "duration": 308,
    "start_time": "2021-12-14T08:22:14.805Z"
   },
   {
    "duration": 311,
    "start_time": "2021-12-14T08:22:31.820Z"
   },
   {
    "duration": 337,
    "start_time": "2021-12-14T08:22:55.620Z"
   },
   {
    "duration": 801,
    "start_time": "2021-12-14T08:33:04.958Z"
   },
   {
    "duration": 253,
    "start_time": "2021-12-14T08:34:03.005Z"
   },
   {
    "duration": 151,
    "start_time": "2021-12-14T08:34:15.755Z"
   },
   {
    "duration": 157,
    "start_time": "2021-12-14T08:35:00.894Z"
   },
   {
    "duration": 183,
    "start_time": "2021-12-14T08:35:34.910Z"
   },
   {
    "duration": 418,
    "start_time": "2021-12-14T08:37:34.786Z"
   },
   {
    "duration": 386,
    "start_time": "2021-12-14T08:40:42.034Z"
   },
   {
    "duration": 389,
    "start_time": "2021-12-14T08:41:05.601Z"
   },
   {
    "duration": 380,
    "start_time": "2021-12-14T08:42:03.858Z"
   },
   {
    "duration": 367,
    "start_time": "2021-12-14T08:43:20.707Z"
   },
   {
    "duration": 353,
    "start_time": "2021-12-14T08:43:30.700Z"
   },
   {
    "duration": 341,
    "start_time": "2021-12-14T08:44:27.347Z"
   },
   {
    "duration": 478,
    "start_time": "2021-12-14T08:45:27.501Z"
   },
   {
    "duration": 605,
    "start_time": "2021-12-14T08:45:45.180Z"
   },
   {
    "duration": 757,
    "start_time": "2021-12-14T08:46:18.005Z"
   },
   {
    "duration": 503,
    "start_time": "2021-12-14T08:46:46.174Z"
   },
   {
    "duration": 490,
    "start_time": "2021-12-14T08:48:53.066Z"
   },
   {
    "duration": 662,
    "start_time": "2021-12-14T08:50:08.483Z"
   },
   {
    "duration": 973,
    "start_time": "2021-12-14T08:51:12.432Z"
   },
   {
    "duration": 2,
    "start_time": "2021-12-14T09:41:39.604Z"
   },
   {
    "duration": 1176,
    "start_time": "2021-12-14T09:43:45.946Z"
   },
   {
    "duration": 689,
    "start_time": "2021-12-14T18:54:33.817Z"
   },
   {
    "duration": 8637,
    "start_time": "2021-12-14T18:54:34.507Z"
   },
   {
    "duration": 71400,
    "start_time": "2021-12-14T18:54:43.146Z"
   },
   {
    "duration": 751,
    "start_time": "2021-12-14T18:55:54.548Z"
   },
   {
    "duration": 1283,
    "start_time": "2021-12-14T18:55:55.300Z"
   },
   {
    "duration": 349,
    "start_time": "2021-12-14T18:55:56.585Z"
   },
   {
    "duration": 1281,
    "start_time": "2021-12-14T18:55:56.936Z"
   },
   {
    "duration": 116,
    "start_time": "2021-12-14T18:55:58.219Z"
   },
   {
    "duration": 1126,
    "start_time": "2021-12-14T18:55:58.337Z"
   },
   {
    "duration": 25,
    "start_time": "2021-12-14T18:55:59.465Z"
   },
   {
    "duration": 202,
    "start_time": "2021-12-14T18:55:59.492Z"
   },
   {
    "duration": 993,
    "start_time": "2021-12-14T18:55:59.696Z"
   },
   {
    "duration": 1079,
    "start_time": "2021-12-14T18:56:00.691Z"
   },
   {
    "duration": 3,
    "start_time": "2021-12-14T18:56:01.771Z"
   },
   {
    "duration": 100,
    "start_time": "2021-12-15T07:13:49.306Z"
   },
   {
    "duration": 88,
    "start_time": "2021-12-15T07:14:09.357Z"
   },
   {
    "duration": 89,
    "start_time": "2021-12-15T07:14:54.093Z"
   },
   {
    "duration": 86,
    "start_time": "2021-12-15T07:16:19.022Z"
   },
   {
    "duration": 93,
    "start_time": "2021-12-15T07:16:22.663Z"
   },
   {
    "duration": 80,
    "start_time": "2021-12-15T07:17:28.951Z"
   },
   {
    "duration": 88,
    "start_time": "2021-12-15T07:20:14.249Z"
   },
   {
    "duration": 88,
    "start_time": "2021-12-15T07:20:45.265Z"
   },
   {
    "duration": 88,
    "start_time": "2021-12-15T07:20:53.282Z"
   },
   {
    "duration": 4,
    "start_time": "2021-12-15T07:26:51.505Z"
   },
   {
    "duration": 2,
    "start_time": "2021-12-15T07:27:13.918Z"
   },
   {
    "duration": 99,
    "start_time": "2021-12-15T07:27:39.199Z"
   },
   {
    "duration": 86,
    "start_time": "2021-12-15T07:27:50.270Z"
   },
   {
    "duration": 758,
    "start_time": "2021-12-15T07:30:17.466Z"
   },
   {
    "duration": 9424,
    "start_time": "2021-12-15T07:32:22.194Z"
   },
   {
    "duration": 146,
    "start_time": "2021-12-15T07:32:35.430Z"
   },
   {
    "duration": 9229,
    "start_time": "2021-12-15T07:32:40.349Z"
   },
   {
    "duration": 4805,
    "start_time": "2021-12-15T07:38:29.409Z"
   },
   {
    "duration": 3332,
    "start_time": "2021-12-15T07:38:39.663Z"
   },
   {
    "duration": 1090,
    "start_time": "2021-12-15T07:40:28.921Z"
   },
   {
    "duration": 1087,
    "start_time": "2021-12-15T07:40:28.925Z"
   },
   {
    "duration": 48840,
    "start_time": "2021-12-15T07:40:32.329Z"
   },
   {
    "duration": 152,
    "start_time": "2021-12-15T07:41:32.362Z"
   },
   {
    "duration": 3452,
    "start_time": "2021-12-15T07:41:38.586Z"
   },
   {
    "duration": 49222,
    "start_time": "2021-12-15T07:41:46.394Z"
   },
   {
    "duration": 50009,
    "start_time": "2021-12-15T07:46:03.636Z"
   },
   {
    "duration": 3466,
    "start_time": "2021-12-15T07:46:53.647Z"
   },
   {
    "duration": 48770,
    "start_time": "2021-12-15T07:47:03.953Z"
   },
   {
    "duration": 703,
    "start_time": "2021-12-15T07:47:59.142Z"
   },
   {
    "duration": 593,
    "start_time": "2021-12-15T07:52:28.776Z"
   },
   {
    "duration": 1373,
    "start_time": "2021-12-15T07:52:43.730Z"
   },
   {
    "duration": 1429,
    "start_time": "2021-12-15T07:53:29.418Z"
   },
   {
    "duration": 596,
    "start_time": "2021-12-15T07:55:40.495Z"
   },
   {
    "duration": 1452,
    "start_time": "2021-12-15T07:55:56.251Z"
   },
   {
    "duration": 1328,
    "start_time": "2021-12-15T07:56:35.509Z"
   },
   {
    "duration": 1459,
    "start_time": "2021-12-15T07:57:29.133Z"
   },
   {
    "duration": 360,
    "start_time": "2021-12-15T07:57:48.421Z"
   },
   {
    "duration": 361,
    "start_time": "2021-12-15T08:35:46.545Z"
   },
   {
    "duration": 418,
    "start_time": "2021-12-15T08:36:27.033Z"
   },
   {
    "duration": 454,
    "start_time": "2021-12-15T08:39:41.109Z"
   },
   {
    "duration": 338,
    "start_time": "2021-12-15T08:39:52.897Z"
   },
   {
    "duration": 376,
    "start_time": "2021-12-15T08:40:21.278Z"
   },
   {
    "duration": 397,
    "start_time": "2021-12-15T08:41:04.607Z"
   },
   {
    "duration": 378,
    "start_time": "2021-12-15T08:43:10.359Z"
   },
   {
    "duration": 464,
    "start_time": "2021-12-15T08:53:54.281Z"
   },
   {
    "duration": 383,
    "start_time": "2021-12-15T08:54:18.776Z"
   },
   {
    "duration": 376,
    "start_time": "2021-12-15T08:54:38.545Z"
   },
   {
    "duration": 369,
    "start_time": "2021-12-15T09:23:28.830Z"
   },
   {
    "duration": 374,
    "start_time": "2021-12-15T09:24:01.206Z"
   },
   {
    "duration": 428,
    "start_time": "2021-12-15T09:27:13.977Z"
   },
   {
    "duration": 366,
    "start_time": "2021-12-15T09:28:38.912Z"
   },
   {
    "duration": 396,
    "start_time": "2021-12-15T09:30:27.809Z"
   },
   {
    "duration": 348,
    "start_time": "2021-12-15T09:31:15.139Z"
   },
   {
    "duration": 352,
    "start_time": "2021-12-15T09:32:52.261Z"
   },
   {
    "duration": 339,
    "start_time": "2021-12-15T09:37:07.071Z"
   },
   {
    "duration": 7372,
    "start_time": "2021-12-15T09:38:36.951Z"
   },
   {
    "duration": 359,
    "start_time": "2021-12-15T09:40:14.122Z"
   },
   {
    "duration": 363,
    "start_time": "2021-12-15T09:41:04.089Z"
   },
   {
    "duration": 520,
    "start_time": "2021-12-15T09:41:23.182Z"
   },
   {
    "duration": 367,
    "start_time": "2021-12-15T09:41:54.010Z"
   },
   {
    "duration": 813,
    "start_time": "2021-12-15T09:44:08.788Z"
   },
   {
    "duration": 706,
    "start_time": "2021-12-15T09:45:21.438Z"
   },
   {
    "duration": 624,
    "start_time": "2021-12-15T09:47:31.831Z"
   },
   {
    "duration": 663,
    "start_time": "2021-12-15T09:48:03.521Z"
   },
   {
    "duration": 389,
    "start_time": "2021-12-15T09:48:31.639Z"
   },
   {
    "duration": 339,
    "start_time": "2021-12-15T09:48:57.823Z"
   },
   {
    "duration": 434,
    "start_time": "2021-12-15T09:51:14.296Z"
   },
   {
    "duration": 338,
    "start_time": "2021-12-15T09:51:45.770Z"
   },
   {
    "duration": 1487,
    "start_time": "2021-12-15T09:51:56.706Z"
   },
   {
    "duration": 344,
    "start_time": "2021-12-15T09:52:01.833Z"
   },
   {
    "duration": 331,
    "start_time": "2021-12-15T09:52:34.306Z"
   },
   {
    "duration": 156,
    "start_time": "2021-12-15T09:52:50.196Z"
   },
   {
    "duration": 3628,
    "start_time": "2021-12-15T09:52:56.475Z"
   },
   {
    "duration": 52049,
    "start_time": "2021-12-15T09:53:07.067Z"
   },
   {
    "duration": 603,
    "start_time": "2021-12-15T09:54:51.764Z"
   },
   {
    "duration": 1392,
    "start_time": "2021-12-15T09:54:56.228Z"
   },
   {
    "duration": 385,
    "start_time": "2021-12-15T09:55:04.018Z"
   },
   {
    "duration": 651,
    "start_time": "2021-12-15T09:55:32.533Z"
   },
   {
    "duration": 430,
    "start_time": "2021-12-15T09:56:20.069Z"
   },
   {
    "duration": 383,
    "start_time": "2021-12-15T09:56:51.261Z"
   },
   {
    "duration": 341,
    "start_time": "2021-12-15T10:20:39.041Z"
   },
   {
    "duration": 1223,
    "start_time": "2021-12-15T10:37:22.751Z"
   },
   {
    "duration": 110,
    "start_time": "2021-12-15T10:37:30.638Z"
   },
   {
    "duration": 1365,
    "start_time": "2021-12-15T10:41:40.629Z"
   },
   {
    "duration": 106,
    "start_time": "2021-12-15T10:42:50.328Z"
   },
   {
    "duration": 816,
    "start_time": "2021-12-15T10:43:02.360Z"
   },
   {
    "duration": 687,
    "start_time": "2021-12-15T10:43:16.459Z"
   },
   {
    "duration": 1287,
    "start_time": "2021-12-15T10:43:40.929Z"
   },
   {
    "duration": 1510,
    "start_time": "2021-12-15T10:44:00.259Z"
   },
   {
    "duration": 1498,
    "start_time": "2021-12-15T10:44:17.920Z"
   },
   {
    "duration": 1369,
    "start_time": "2021-12-15T10:45:02.378Z"
   },
   {
    "duration": 1249,
    "start_time": "2021-12-15T10:49:20.319Z"
   },
   {
    "duration": 1118,
    "start_time": "2021-12-15T10:50:05.528Z"
   },
   {
    "duration": 100,
    "start_time": "2021-12-15T10:50:48.059Z"
   },
   {
    "duration": 1183,
    "start_time": "2021-12-15T10:51:11.088Z"
   },
   {
    "duration": 1141,
    "start_time": "2021-12-15T10:52:37.038Z"
   },
   {
    "duration": 1592,
    "start_time": "2021-12-15T10:53:06.269Z"
   },
   {
    "duration": 1208,
    "start_time": "2021-12-15T10:55:10.319Z"
   },
   {
    "duration": 1119,
    "start_time": "2021-12-15T10:55:40.048Z"
   },
   {
    "duration": 100,
    "start_time": "2021-12-15T10:57:24.548Z"
   },
   {
    "duration": 1067,
    "start_time": "2021-12-15T11:08:34.176Z"
   },
   {
    "duration": 6799,
    "start_time": "2021-12-15T11:10:16.297Z"
   },
   {
    "duration": 1274,
    "start_time": "2021-12-15T11:10:33.216Z"
   },
   {
    "duration": 1180,
    "start_time": "2021-12-15T11:11:32.216Z"
   },
   {
    "duration": 1149,
    "start_time": "2021-12-15T11:11:58.026Z"
   },
   {
    "duration": 1289,
    "start_time": "2021-12-15T11:12:20.358Z"
   },
   {
    "duration": 1158,
    "start_time": "2021-12-15T11:12:43.398Z"
   },
   {
    "duration": 1265,
    "start_time": "2021-12-15T11:13:00.851Z"
   },
   {
    "duration": 1227,
    "start_time": "2021-12-15T11:13:44.887Z"
   },
   {
    "duration": 1187,
    "start_time": "2021-12-15T11:14:12.716Z"
   },
   {
    "duration": 1251,
    "start_time": "2021-12-15T11:15:35.653Z"
   },
   {
    "duration": 1125,
    "start_time": "2021-12-15T11:17:20.207Z"
   },
   {
    "duration": 1417,
    "start_time": "2021-12-15T11:18:00.829Z"
   },
   {
    "duration": 1231,
    "start_time": "2021-12-15T11:18:27.356Z"
   },
   {
    "duration": 2158,
    "start_time": "2021-12-15T11:21:11.356Z"
   },
   {
    "duration": 1142,
    "start_time": "2021-12-15T11:24:44.534Z"
   },
   {
    "duration": 1231,
    "start_time": "2021-12-15T11:25:38.686Z"
   },
   {
    "duration": 1208,
    "start_time": "2021-12-15T11:26:14.658Z"
   },
   {
    "duration": 25,
    "start_time": "2021-12-15T11:31:21.729Z"
   },
   {
    "duration": 300,
    "start_time": "2021-12-15T11:31:28.486Z"
   },
   {
    "duration": 955,
    "start_time": "2021-12-15T11:31:37.646Z"
   },
   {
    "duration": 1106,
    "start_time": "2021-12-15T11:31:47.417Z"
   },
   {
    "duration": 745,
    "start_time": "2022-04-27T06:54:04.596Z"
   },
   {
    "duration": 6781,
    "start_time": "2022-04-27T06:54:05.343Z"
   },
   {
    "duration": 44218,
    "start_time": "2022-04-27T06:54:12.127Z"
   },
   {
    "duration": 1181,
    "start_time": "2022-04-27T06:54:56.348Z"
   },
   {
    "duration": 2639,
    "start_time": "2022-04-27T06:54:57.532Z"
   },
   {
    "duration": 869,
    "start_time": "2022-04-27T06:55:00.174Z"
   },
   {
    "duration": 1840,
    "start_time": "2022-04-27T06:55:01.052Z"
   },
   {
    "duration": 238,
    "start_time": "2022-04-27T06:55:02.895Z"
   },
   {
    "duration": 1824,
    "start_time": "2022-04-27T06:55:03.151Z"
   },
   {
    "duration": 30,
    "start_time": "2022-04-27T06:55:04.979Z"
   },
   {
    "duration": 281,
    "start_time": "2022-04-27T06:55:05.011Z"
   },
   {
    "duration": 1204,
    "start_time": "2022-04-27T06:55:05.294Z"
   },
   {
    "duration": 1891,
    "start_time": "2022-04-27T06:55:06.500Z"
   },
   {
    "duration": 286,
    "start_time": "2022-04-27T06:56:12.206Z"
   },
   {
    "duration": 8301,
    "start_time": "2022-04-27T06:56:12.496Z"
   },
   {
    "duration": 52811,
    "start_time": "2022-04-27T06:56:20.801Z"
   },
   {
    "duration": 1177,
    "start_time": "2022-04-27T06:57:13.617Z"
   },
   {
    "duration": 2583,
    "start_time": "2022-04-27T06:57:14.797Z"
   },
   {
    "duration": 525,
    "start_time": "2022-04-27T06:57:17.386Z"
   },
   {
    "duration": 1520,
    "start_time": "2022-04-27T06:57:17.913Z"
   },
   {
    "duration": 239,
    "start_time": "2022-04-27T06:57:19.436Z"
   },
   {
    "duration": 2447,
    "start_time": "2022-04-27T06:57:19.679Z"
   },
   {
    "duration": 51,
    "start_time": "2022-04-27T06:57:22.130Z"
   },
   {
    "duration": 405,
    "start_time": "2022-04-27T06:57:22.184Z"
   },
   {
    "duration": 1230,
    "start_time": "2022-04-27T06:57:22.592Z"
   },
   {
    "duration": 1710,
    "start_time": "2022-04-27T06:57:23.826Z"
   },
   {
    "duration": 1105,
    "start_time": "2022-04-27T06:58:31.979Z"
   },
   {
    "duration": 5887,
    "start_time": "2022-04-27T06:58:33.087Z"
   },
   {
    "duration": 41381,
    "start_time": "2022-04-27T06:58:38.976Z"
   },
   {
    "duration": 1431,
    "start_time": "2022-04-27T06:59:20.360Z"
   },
   {
    "duration": 2067,
    "start_time": "2022-04-27T06:59:21.796Z"
   },
   {
    "duration": 833,
    "start_time": "2022-04-27T06:59:23.867Z"
   },
   {
    "duration": 1909,
    "start_time": "2022-04-27T06:59:24.703Z"
   },
   {
    "duration": 257,
    "start_time": "2022-04-27T06:59:26.615Z"
   },
   {
    "duration": 1698,
    "start_time": "2022-04-27T06:59:26.875Z"
   },
   {
    "duration": 32,
    "start_time": "2022-04-27T06:59:28.576Z"
   },
   {
    "duration": 286,
    "start_time": "2022-04-27T06:59:28.611Z"
   },
   {
    "duration": 1205,
    "start_time": "2022-04-27T06:59:28.899Z"
   },
   {
    "duration": 1739,
    "start_time": "2022-04-27T06:59:30.106Z"
   }
  ],
  "kernelspec": {
   "display_name": "Python 3 (ipykernel)",
   "language": "python",
   "name": "python3"
  },
  "language_info": {
   "codemirror_mode": {
    "name": "ipython",
    "version": 3
   },
   "file_extension": ".py",
   "mimetype": "text/x-python",
   "name": "python",
   "nbconvert_exporter": "python",
   "pygments_lexer": "ipython3",
   "version": "3.9.5"
  },
  "toc": {
   "base_numbering": 1,
   "nav_menu": {},
   "number_sections": true,
   "sideBar": true,
   "skip_h1_title": true,
   "title_cell": "Содержание",
   "title_sidebar": "Contents",
   "toc_cell": true,
   "toc_position": {
    "height": "calc(100% - 180px)",
    "left": "10px",
    "top": "150px",
    "width": "239.35px"
   },
   "toc_section_display": true,
   "toc_window_display": false
  }
 },
 "nbformat": 4,
 "nbformat_minor": 2
}

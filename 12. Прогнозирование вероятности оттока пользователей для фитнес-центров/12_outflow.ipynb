{
 "cells": [
  {
   "cell_type": "markdown",
   "metadata": {},
   "source": [
    "# Прогнозирование вероятности оттока пользователей для фитнес-центров"
   ]
  },
  {
   "cell_type": "markdown",
   "metadata": {},
   "source": [
    "## Описание проекта"
   ]
  },
  {
   "cell_type": "markdown",
   "metadata": {},
   "source": [
    "Задача\n",
    "\n",
    "Сеть фитнес-центров разрабатывает стратегию взаимодействия с клиентами на основе аналитических данных.\n",
    "Распространённая проблема фитнес-клубов и других сервисов — отток клиентов. \n",
    "\n",
    "Для фитнес-центра можно считать, что клиент попал в отток, если за последний месяц ни разу не посетил спортзал.Если клиент начал новую жизнь с понедельника, немного походил в спортзал, а потом пропал — скорее всего, он не вернётся.\n",
    "\n",
    "Чтобы бороться с оттоком, отдел по работе с клиентами фитнес-центра перевёл в электронный вид множество клиентских анкет. \n",
    "\n",
    "Наша задача — провести анализ и подготовить план действий по удержанию клиентов.\n",
    "А именно:\n",
    "- прогнозировать вероятность оттока (на уровне следующего месяца) для каждого клиента; сформировать типичные портреты клиентов: выделить несколько наиболее ярких групп и охарактеризовать их основные свойства;\n",
    "- проанализировать основные признаки, наиболее сильно влияющие на отток;\n",
    "- сформулировать основные выводы и разработать рекомендации по повышению качества работы с клиентами:\n",
    "\n",
    "  1) выделить целевые группы клиентов;\n",
    "  \n",
    "  2) предложить меры по снижению оттока;\n",
    "  \n",
    "  3) определить другие особенности взаимодействия с клиентами."
   ]
  },
  {
   "cell_type": "markdown",
   "metadata": {},
   "source": [
    "## Описание данных"
   ]
  },
  {
   "cell_type": "markdown",
   "metadata": {},
   "source": [
    "Фитнес-центр предоставил сведения в csv-файлах. Заказчик подготовил данные, которые содержат данные на месяц до оттока и факт оттока на определённый месяц. Набор данных включает следующие поля:\n",
    "\n",
    "Данные клиента за предыдущий до проверки факта оттока месяц:\n",
    "\n",
    "- 'gender' — пол;\n",
    "- 'Near_Location' — проживание или работа в районе, где находится фитнес-центр;\n",
    "- 'Partner' — сотрудник компании-партнёра клуба (сотрудничество с компаниями, чьи сотрудники могут получать скидки на абонемент — в таком случае фитнес-центр хранит информацию о работодателе клиента);\n",
    "\n",
    "* Promo_friends — факт первоначальной записи в рамках акции «приведи друга» (использовал промо-код от знакомого при оплате первого абонемента);\n",
    "- 'Phone' — наличие контактного телефона;\n",
    "- 'Age' — возраст;\n",
    "- 'Lifetime' — время с момента первого обращения в фитнес-центр (в месяцах).\n",
    "\n",
    "Информация на основе журнала посещений, покупок и информация о текущем статусе абонемента клиента:\n",
    "- 'Contract_period' — длительность текущего действующего абонемента (месяц, 6 месяцев, год);\n",
    "- 'Month_to_end_contract' — срок до окончания текущего действующего абонемента (в месяцах);\n",
    "- 'Group_visits' — факт посещения групповых занятий;\n",
    "- 'Avg_class_frequency_total' — средняя частота посещений в неделю за все время с начала действия абонемента;\n",
    "- 'Avg_class_frequency_current_month' — средняя частота посещений в неделю за предыдущий месяц;\n",
    "- 'Avg_additional_charges_total' — суммарная выручка от других услуг фитнес-центра: кафе, спорттовары, косметический и массажный салон.\n",
    "* 'Churn' — факт оттока в текущем месяце."
   ]
  },
  {
   "cell_type": "markdown",
   "metadata": {},
   "source": [
    "## Загрузим данные"
   ]
  },
  {
   "cell_type": "code",
   "execution_count": 1,
   "metadata": {},
   "outputs": [],
   "source": [
    "import pandas as pd\n",
    "import seaborn as sns\n",
    "\n",
    "import matplotlib.pyplot as plt\n",
    "import numpy as np\n",
    "\n",
    "from sklearn.model_selection import train_test_split\n",
    "from sklearn.linear_model import LogisticRegression\n",
    "from sklearn.ensemble import RandomForestClassifier\n",
    "from sklearn.preprocessing import StandardScaler\n",
    "from sklearn.metrics import accuracy_score, precision_score, recall_score, f1_score\n",
    "from scipy.cluster.hierarchy import dendrogram, linkage\n",
    "from sklearn.cluster import KMeans\n",
    "\n",
    "import warnings\n",
    "warnings.filterwarnings('ignore')  "
   ]
  },
  {
   "cell_type": "code",
   "execution_count": 2,
   "metadata": {},
   "outputs": [],
   "source": [
    "pd.set_option('display.max_columns', None)\n",
    "pd.options.display.max_colwidth = 150 \n",
    "pd.options.display.float_format = '{:,.2f}'.format"
   ]
  },
  {
   "cell_type": "code",
   "execution_count": 3,
   "metadata": {},
   "outputs": [
    {
     "data": {
      "text/html": [
       "<div>\n",
       "<style scoped>\n",
       "    .dataframe tbody tr th:only-of-type {\n",
       "        vertical-align: middle;\n",
       "    }\n",
       "\n",
       "    .dataframe tbody tr th {\n",
       "        vertical-align: top;\n",
       "    }\n",
       "\n",
       "    .dataframe thead th {\n",
       "        text-align: right;\n",
       "    }\n",
       "</style>\n",
       "<table border=\"1\" class=\"dataframe\">\n",
       "  <thead>\n",
       "    <tr style=\"text-align: right;\">\n",
       "      <th></th>\n",
       "      <th>gender</th>\n",
       "      <th>Near_Location</th>\n",
       "      <th>Partner</th>\n",
       "      <th>Promo_friends</th>\n",
       "      <th>Phone</th>\n",
       "      <th>Contract_period</th>\n",
       "      <th>Group_visits</th>\n",
       "      <th>Age</th>\n",
       "      <th>Avg_additional_charges_total</th>\n",
       "      <th>Month_to_end_contract</th>\n",
       "      <th>Lifetime</th>\n",
       "      <th>Avg_class_frequency_total</th>\n",
       "      <th>Avg_class_frequency_current_month</th>\n",
       "      <th>Churn</th>\n",
       "    </tr>\n",
       "  </thead>\n",
       "  <tbody>\n",
       "    <tr>\n",
       "      <th>0</th>\n",
       "      <td>1</td>\n",
       "      <td>1</td>\n",
       "      <td>1</td>\n",
       "      <td>1</td>\n",
       "      <td>0</td>\n",
       "      <td>6</td>\n",
       "      <td>1</td>\n",
       "      <td>29</td>\n",
       "      <td>14.23</td>\n",
       "      <td>5.00</td>\n",
       "      <td>3</td>\n",
       "      <td>0.02</td>\n",
       "      <td>0.00</td>\n",
       "      <td>0</td>\n",
       "    </tr>\n",
       "    <tr>\n",
       "      <th>1</th>\n",
       "      <td>0</td>\n",
       "      <td>1</td>\n",
       "      <td>0</td>\n",
       "      <td>0</td>\n",
       "      <td>1</td>\n",
       "      <td>12</td>\n",
       "      <td>1</td>\n",
       "      <td>31</td>\n",
       "      <td>113.20</td>\n",
       "      <td>12.00</td>\n",
       "      <td>7</td>\n",
       "      <td>1.92</td>\n",
       "      <td>1.91</td>\n",
       "      <td>0</td>\n",
       "    </tr>\n",
       "    <tr>\n",
       "      <th>2</th>\n",
       "      <td>0</td>\n",
       "      <td>1</td>\n",
       "      <td>1</td>\n",
       "      <td>0</td>\n",
       "      <td>1</td>\n",
       "      <td>1</td>\n",
       "      <td>0</td>\n",
       "      <td>28</td>\n",
       "      <td>129.45</td>\n",
       "      <td>1.00</td>\n",
       "      <td>2</td>\n",
       "      <td>1.86</td>\n",
       "      <td>1.74</td>\n",
       "      <td>0</td>\n",
       "    </tr>\n",
       "    <tr>\n",
       "      <th>3</th>\n",
       "      <td>0</td>\n",
       "      <td>1</td>\n",
       "      <td>1</td>\n",
       "      <td>1</td>\n",
       "      <td>1</td>\n",
       "      <td>12</td>\n",
       "      <td>1</td>\n",
       "      <td>33</td>\n",
       "      <td>62.67</td>\n",
       "      <td>12.00</td>\n",
       "      <td>2</td>\n",
       "      <td>3.21</td>\n",
       "      <td>3.36</td>\n",
       "      <td>0</td>\n",
       "    </tr>\n",
       "    <tr>\n",
       "      <th>4</th>\n",
       "      <td>1</td>\n",
       "      <td>1</td>\n",
       "      <td>1</td>\n",
       "      <td>1</td>\n",
       "      <td>1</td>\n",
       "      <td>1</td>\n",
       "      <td>0</td>\n",
       "      <td>26</td>\n",
       "      <td>198.36</td>\n",
       "      <td>1.00</td>\n",
       "      <td>3</td>\n",
       "      <td>1.11</td>\n",
       "      <td>1.12</td>\n",
       "      <td>0</td>\n",
       "    </tr>\n",
       "  </tbody>\n",
       "</table>\n",
       "</div>"
      ],
      "text/plain": [
       "   gender  Near_Location  Partner  Promo_friends  Phone  Contract_period  \\\n",
       "0       1              1        1              1      0                6   \n",
       "1       0              1        0              0      1               12   \n",
       "2       0              1        1              0      1                1   \n",
       "3       0              1        1              1      1               12   \n",
       "4       1              1        1              1      1                1   \n",
       "\n",
       "   Group_visits  Age  Avg_additional_charges_total  Month_to_end_contract  \\\n",
       "0             1   29                         14.23                   5.00   \n",
       "1             1   31                        113.20                  12.00   \n",
       "2             0   28                        129.45                   1.00   \n",
       "3             1   33                         62.67                  12.00   \n",
       "4             0   26                        198.36                   1.00   \n",
       "\n",
       "   Lifetime  Avg_class_frequency_total  Avg_class_frequency_current_month  \\\n",
       "0         3                       0.02                               0.00   \n",
       "1         7                       1.92                               1.91   \n",
       "2         2                       1.86                               1.74   \n",
       "3         2                       3.21                               3.36   \n",
       "4         3                       1.11                               1.12   \n",
       "\n",
       "   Churn  \n",
       "0      0  \n",
       "1      0  \n",
       "2      0  \n",
       "3      0  \n",
       "4      0  "
      ]
     },
     "execution_count": 3,
     "metadata": {},
     "output_type": "execute_result"
    }
   ],
   "source": [
    "data = pd.read_csv('/file.csv')\n",
    "data.head()"
   ]
  },
  {
   "cell_type": "code",
   "execution_count": 4,
   "metadata": {
    "scrolled": false
   },
   "outputs": [
    {
     "name": "stdout",
     "output_type": "stream",
     "text": [
      "<class 'pandas.core.frame.DataFrame'>\n",
      "RangeIndex: 4000 entries, 0 to 3999\n",
      "Data columns (total 14 columns):\n",
      " #   Column                             Non-Null Count  Dtype  \n",
      "---  ------                             --------------  -----  \n",
      " 0   gender                             4000 non-null   int64  \n",
      " 1   near_location                      4000 non-null   int64  \n",
      " 2   partner                            4000 non-null   int64  \n",
      " 3   promo_friends                      4000 non-null   int64  \n",
      " 4   phone                              4000 non-null   int64  \n",
      " 5   contract_period                    4000 non-null   int64  \n",
      " 6   group_visits                       4000 non-null   int64  \n",
      " 7   age                                4000 non-null   int64  \n",
      " 8   avg_additional_charges_total       4000 non-null   float64\n",
      " 9   month_to_end_contract              4000 non-null   float64\n",
      " 10  lifetime                           4000 non-null   int64  \n",
      " 11  avg_class_frequency_total          4000 non-null   float64\n",
      " 12  avg_class_frequency_current_month  4000 non-null   float64\n",
      " 13  churn                              4000 non-null   int64  \n",
      "dtypes: float64(4), int64(10)\n",
      "memory usage: 437.6 KB\n",
      "None\n",
      "Пропуски:\n",
      " gender                               0\n",
      "near_location                        0\n",
      "partner                              0\n",
      "promo_friends                        0\n",
      "phone                                0\n",
      "contract_period                      0\n",
      "group_visits                         0\n",
      "age                                  0\n",
      "avg_additional_charges_total         0\n",
      "month_to_end_contract                0\n",
      "lifetime                             0\n",
      "avg_class_frequency_total            0\n",
      "avg_class_frequency_current_month    0\n",
      "churn                                0\n",
      "dtype: int64\n",
      "Дубликаты:  0\n"
     ]
    }
   ],
   "source": [
    "# поменяем регистр в названии колонок\n",
    "data.columns = [x.lower() for x in data.columns.values]\n",
    "# посмотрим и проверим данные, с помощью функции\n",
    "def inform(df):\n",
    "    print(df.info())\n",
    "    print('Пропуски:\\n',df.isna().sum())\n",
    "    print('Дубликаты: ',df.duplicated().sum())\n",
    "    \n",
    "inform(data)"
   ]
  },
  {
   "cell_type": "markdown",
   "metadata": {},
   "source": [
    "На первый взгдяд данные в порядке, но вот нет id клиента, кто то может вернулся."
   ]
  },
  {
   "cell_type": "markdown",
   "metadata": {},
   "source": [
    "## Проведём исследовательский анализ данных (EDA)"
   ]
  },
  {
   "cell_type": "markdown",
   "metadata": {},
   "source": [
    "### Посмотрим на датасет: есть ли в нем отсутствующие признаки, изучим средние значения и стандартные отклонения."
   ]
  },
  {
   "cell_type": "code",
   "execution_count": 5,
   "metadata": {},
   "outputs": [
    {
     "data": {
      "text/html": [
       "<div>\n",
       "<style scoped>\n",
       "    .dataframe tbody tr th:only-of-type {\n",
       "        vertical-align: middle;\n",
       "    }\n",
       "\n",
       "    .dataframe tbody tr th {\n",
       "        vertical-align: top;\n",
       "    }\n",
       "\n",
       "    .dataframe thead th {\n",
       "        text-align: right;\n",
       "    }\n",
       "</style>\n",
       "<table border=\"1\" class=\"dataframe\">\n",
       "  <thead>\n",
       "    <tr style=\"text-align: right;\">\n",
       "      <th></th>\n",
       "      <th>gender</th>\n",
       "      <th>near_location</th>\n",
       "      <th>partner</th>\n",
       "      <th>promo_friends</th>\n",
       "      <th>phone</th>\n",
       "      <th>contract_period</th>\n",
       "      <th>group_visits</th>\n",
       "      <th>age</th>\n",
       "      <th>avg_additional_charges_total</th>\n",
       "      <th>month_to_end_contract</th>\n",
       "      <th>lifetime</th>\n",
       "      <th>avg_class_frequency_total</th>\n",
       "      <th>avg_class_frequency_current_month</th>\n",
       "      <th>churn</th>\n",
       "    </tr>\n",
       "  </thead>\n",
       "  <tbody>\n",
       "    <tr>\n",
       "      <th>count</th>\n",
       "      <td>4,000.00</td>\n",
       "      <td>4,000.00</td>\n",
       "      <td>4,000.00</td>\n",
       "      <td>4,000.00</td>\n",
       "      <td>4,000.00</td>\n",
       "      <td>4,000.00</td>\n",
       "      <td>4,000.00</td>\n",
       "      <td>4,000.00</td>\n",
       "      <td>4,000.00</td>\n",
       "      <td>4,000.00</td>\n",
       "      <td>4,000.00</td>\n",
       "      <td>4,000.00</td>\n",
       "      <td>4,000.00</td>\n",
       "      <td>4,000.00</td>\n",
       "    </tr>\n",
       "    <tr>\n",
       "      <th>mean</th>\n",
       "      <td>0.51</td>\n",
       "      <td>0.85</td>\n",
       "      <td>0.49</td>\n",
       "      <td>0.31</td>\n",
       "      <td>0.90</td>\n",
       "      <td>4.68</td>\n",
       "      <td>0.41</td>\n",
       "      <td>29.18</td>\n",
       "      <td>146.94</td>\n",
       "      <td>4.32</td>\n",
       "      <td>3.72</td>\n",
       "      <td>1.88</td>\n",
       "      <td>1.77</td>\n",
       "      <td>0.27</td>\n",
       "    </tr>\n",
       "    <tr>\n",
       "      <th>std</th>\n",
       "      <td>0.50</td>\n",
       "      <td>0.36</td>\n",
       "      <td>0.50</td>\n",
       "      <td>0.46</td>\n",
       "      <td>0.30</td>\n",
       "      <td>4.55</td>\n",
       "      <td>0.49</td>\n",
       "      <td>3.26</td>\n",
       "      <td>96.36</td>\n",
       "      <td>4.19</td>\n",
       "      <td>3.75</td>\n",
       "      <td>0.97</td>\n",
       "      <td>1.05</td>\n",
       "      <td>0.44</td>\n",
       "    </tr>\n",
       "    <tr>\n",
       "      <th>min</th>\n",
       "      <td>0.00</td>\n",
       "      <td>0.00</td>\n",
       "      <td>0.00</td>\n",
       "      <td>0.00</td>\n",
       "      <td>0.00</td>\n",
       "      <td>1.00</td>\n",
       "      <td>0.00</td>\n",
       "      <td>18.00</td>\n",
       "      <td>0.15</td>\n",
       "      <td>1.00</td>\n",
       "      <td>0.00</td>\n",
       "      <td>0.00</td>\n",
       "      <td>0.00</td>\n",
       "      <td>0.00</td>\n",
       "    </tr>\n",
       "    <tr>\n",
       "      <th>25%</th>\n",
       "      <td>0.00</td>\n",
       "      <td>1.00</td>\n",
       "      <td>0.00</td>\n",
       "      <td>0.00</td>\n",
       "      <td>1.00</td>\n",
       "      <td>1.00</td>\n",
       "      <td>0.00</td>\n",
       "      <td>27.00</td>\n",
       "      <td>68.87</td>\n",
       "      <td>1.00</td>\n",
       "      <td>1.00</td>\n",
       "      <td>1.18</td>\n",
       "      <td>0.96</td>\n",
       "      <td>0.00</td>\n",
       "    </tr>\n",
       "    <tr>\n",
       "      <th>50%</th>\n",
       "      <td>1.00</td>\n",
       "      <td>1.00</td>\n",
       "      <td>0.00</td>\n",
       "      <td>0.00</td>\n",
       "      <td>1.00</td>\n",
       "      <td>1.00</td>\n",
       "      <td>0.00</td>\n",
       "      <td>29.00</td>\n",
       "      <td>136.22</td>\n",
       "      <td>1.00</td>\n",
       "      <td>3.00</td>\n",
       "      <td>1.83</td>\n",
       "      <td>1.72</td>\n",
       "      <td>0.00</td>\n",
       "    </tr>\n",
       "    <tr>\n",
       "      <th>75%</th>\n",
       "      <td>1.00</td>\n",
       "      <td>1.00</td>\n",
       "      <td>1.00</td>\n",
       "      <td>1.00</td>\n",
       "      <td>1.00</td>\n",
       "      <td>6.00</td>\n",
       "      <td>1.00</td>\n",
       "      <td>31.00</td>\n",
       "      <td>210.95</td>\n",
       "      <td>6.00</td>\n",
       "      <td>5.00</td>\n",
       "      <td>2.54</td>\n",
       "      <td>2.51</td>\n",
       "      <td>1.00</td>\n",
       "    </tr>\n",
       "    <tr>\n",
       "      <th>max</th>\n",
       "      <td>1.00</td>\n",
       "      <td>1.00</td>\n",
       "      <td>1.00</td>\n",
       "      <td>1.00</td>\n",
       "      <td>1.00</td>\n",
       "      <td>12.00</td>\n",
       "      <td>1.00</td>\n",
       "      <td>41.00</td>\n",
       "      <td>552.59</td>\n",
       "      <td>12.00</td>\n",
       "      <td>31.00</td>\n",
       "      <td>6.02</td>\n",
       "      <td>6.15</td>\n",
       "      <td>1.00</td>\n",
       "    </tr>\n",
       "  </tbody>\n",
       "</table>\n",
       "</div>"
      ],
      "text/plain": [
       "        gender  near_location  partner  promo_friends    phone  \\\n",
       "count 4,000.00       4,000.00 4,000.00       4,000.00 4,000.00   \n",
       "mean      0.51           0.85     0.49           0.31     0.90   \n",
       "std       0.50           0.36     0.50           0.46     0.30   \n",
       "min       0.00           0.00     0.00           0.00     0.00   \n",
       "25%       0.00           1.00     0.00           0.00     1.00   \n",
       "50%       1.00           1.00     0.00           0.00     1.00   \n",
       "75%       1.00           1.00     1.00           1.00     1.00   \n",
       "max       1.00           1.00     1.00           1.00     1.00   \n",
       "\n",
       "       contract_period  group_visits      age  avg_additional_charges_total  \\\n",
       "count         4,000.00      4,000.00 4,000.00                      4,000.00   \n",
       "mean              4.68          0.41    29.18                        146.94   \n",
       "std               4.55          0.49     3.26                         96.36   \n",
       "min               1.00          0.00    18.00                          0.15   \n",
       "25%               1.00          0.00    27.00                         68.87   \n",
       "50%               1.00          0.00    29.00                        136.22   \n",
       "75%               6.00          1.00    31.00                        210.95   \n",
       "max              12.00          1.00    41.00                        552.59   \n",
       "\n",
       "       month_to_end_contract  lifetime  avg_class_frequency_total  \\\n",
       "count               4,000.00  4,000.00                   4,000.00   \n",
       "mean                    4.32      3.72                       1.88   \n",
       "std                     4.19      3.75                       0.97   \n",
       "min                     1.00      0.00                       0.00   \n",
       "25%                     1.00      1.00                       1.18   \n",
       "50%                     1.00      3.00                       1.83   \n",
       "75%                     6.00      5.00                       2.54   \n",
       "max                    12.00     31.00                       6.02   \n",
       "\n",
       "       avg_class_frequency_current_month    churn  \n",
       "count                           4,000.00 4,000.00  \n",
       "mean                                1.77     0.27  \n",
       "std                                 1.05     0.44  \n",
       "min                                 0.00     0.00  \n",
       "25%                                 0.96     0.00  \n",
       "50%                                 1.72     0.00  \n",
       "75%                                 2.51     1.00  \n",
       "max                                 6.15     1.00  "
      ]
     },
     "metadata": {},
     "output_type": "display_data"
    }
   ],
   "source": [
    "display(data.describe())"
   ]
  },
  {
   "cell_type": "markdown",
   "metadata": {},
   "source": [
    "Что мы видим:\n",
    "- Распределение по полу примерно одинаково;\n",
    "- 85% живет или работает рядом с фитнес-клубом;\n",
    "- Примерно половина клиентов являются сотрудниками партнерских организаций;\n",
    "- 31% клиентов пришли по программе \"Приведи друга\";\n",
    "- У 90% клиентов известны мобильные номера;\n",
    "- Средняя длительность абонементов клиентов - 4.7 мес.;\n",
    "- 41% клиентов посещают групповые занятия;\n",
    "- Средний возраст клиентов 29 лет;\n",
    "- Средние дополнительные расходы на клиента - 147;\n",
    "- Средний срок до окончания договора - 4.3 мес.;\n",
    "- Среднее время с момента первого обращения в фитнес-центр - 3.7 мес.;\n",
    "- Средняя частота посещений за все время - 1.88 раз в неделю;\n",
    "- Средняя частота посещений за последний месяц - 1.77 раз в неделю;\n",
    "- Доля оттока - 27%."
   ]
  },
  {
   "cell_type": "markdown",
   "metadata": {},
   "source": [
    "### Посмотрим на средние значения признаков в двух группах — тех, кто ушел в отток и тех, кто остался."
   ]
  },
  {
   "cell_type": "code",
   "execution_count": 6,
   "metadata": {},
   "outputs": [
    {
     "data": {
      "text/html": [
       "<div>\n",
       "<style scoped>\n",
       "    .dataframe tbody tr th:only-of-type {\n",
       "        vertical-align: middle;\n",
       "    }\n",
       "\n",
       "    .dataframe tbody tr th {\n",
       "        vertical-align: top;\n",
       "    }\n",
       "\n",
       "    .dataframe thead th {\n",
       "        text-align: right;\n",
       "    }\n",
       "</style>\n",
       "<table border=\"1\" class=\"dataframe\">\n",
       "  <thead>\n",
       "    <tr style=\"text-align: right;\">\n",
       "      <th>churn</th>\n",
       "      <th>0</th>\n",
       "      <th>1</th>\n",
       "    </tr>\n",
       "  </thead>\n",
       "  <tbody>\n",
       "    <tr>\n",
       "      <th>gender</th>\n",
       "      <td>0.51</td>\n",
       "      <td>0.51</td>\n",
       "    </tr>\n",
       "    <tr>\n",
       "      <th>near_location</th>\n",
       "      <td>0.87</td>\n",
       "      <td>0.77</td>\n",
       "    </tr>\n",
       "    <tr>\n",
       "      <th>partner</th>\n",
       "      <td>0.53</td>\n",
       "      <td>0.36</td>\n",
       "    </tr>\n",
       "    <tr>\n",
       "      <th>promo_friends</th>\n",
       "      <td>0.35</td>\n",
       "      <td>0.18</td>\n",
       "    </tr>\n",
       "    <tr>\n",
       "      <th>phone</th>\n",
       "      <td>0.90</td>\n",
       "      <td>0.90</td>\n",
       "    </tr>\n",
       "    <tr>\n",
       "      <th>contract_period</th>\n",
       "      <td>5.75</td>\n",
       "      <td>1.73</td>\n",
       "    </tr>\n",
       "    <tr>\n",
       "      <th>group_visits</th>\n",
       "      <td>0.46</td>\n",
       "      <td>0.27</td>\n",
       "    </tr>\n",
       "    <tr>\n",
       "      <th>age</th>\n",
       "      <td>29.98</td>\n",
       "      <td>26.99</td>\n",
       "    </tr>\n",
       "    <tr>\n",
       "      <th>avg_additional_charges_total</th>\n",
       "      <td>158.45</td>\n",
       "      <td>115.08</td>\n",
       "    </tr>\n",
       "    <tr>\n",
       "      <th>month_to_end_contract</th>\n",
       "      <td>5.28</td>\n",
       "      <td>1.66</td>\n",
       "    </tr>\n",
       "    <tr>\n",
       "      <th>lifetime</th>\n",
       "      <td>4.71</td>\n",
       "      <td>0.99</td>\n",
       "    </tr>\n",
       "    <tr>\n",
       "      <th>avg_class_frequency_total</th>\n",
       "      <td>2.02</td>\n",
       "      <td>1.47</td>\n",
       "    </tr>\n",
       "    <tr>\n",
       "      <th>avg_class_frequency_current_month</th>\n",
       "      <td>2.03</td>\n",
       "      <td>1.04</td>\n",
       "    </tr>\n",
       "  </tbody>\n",
       "</table>\n",
       "</div>"
      ],
      "text/plain": [
       "churn                                  0      1\n",
       "gender                              0.51   0.51\n",
       "near_location                       0.87   0.77\n",
       "partner                             0.53   0.36\n",
       "promo_friends                       0.35   0.18\n",
       "phone                               0.90   0.90\n",
       "contract_period                     5.75   1.73\n",
       "group_visits                        0.46   0.27\n",
       "age                                29.98  26.99\n",
       "avg_additional_charges_total      158.45 115.08\n",
       "month_to_end_contract               5.28   1.66\n",
       "lifetime                            4.71   0.99\n",
       "avg_class_frequency_total           2.02   1.47\n",
       "avg_class_frequency_current_month   2.03   1.04"
      ]
     },
     "metadata": {},
     "output_type": "display_data"
    }
   ],
   "source": [
    "display(data.groupby('churn').agg('mean').T)"
   ]
  },
  {
   "cell_type": "markdown",
   "metadata": {},
   "source": [
    "Выводы по таблице \"отток/ оставшиеся\":\n",
    "\n",
    "- Распределение по полу не отличается;\n",
    "- Близко живущие или работающие клиенты чуть реже попадают в отток;\n",
    "- Сотрудники компаний-партнеров реже перестают посещать фитнесс-клуб;\n",
    "- Пришедшие по акции \"Приведи друга\" почти в два раза реже попадают в отток;\n",
    "- Наличие мобильного номера клиента не влияет на отток, одинаково в обих группах;\n",
    "- Средняя длительность договора существенно больше у оставшихся клиентов, у клиентов в оттоке срок договора чаще составляет 1 месяц;\n",
    "- Оставшиеся клиенты чаще ходят на групповые занятия;\n",
    "- Есть небольшая разница в среднем возрасте клиентов;\n",
    "- Есть небольшое разница в выручке от доп. услуг фитнес-центра;\n",
    "- Оставшееся время до окончания срока действия договора логично больше у оставшихся клиентов;\n",
    "- Количество посещений в неделю за все время в два раза ниже у клиентов в оттоке;\n",
    "- Количество посещений в предыдущий месяц в два раза ниже у клиентов в оттоке."
   ]
  },
  {
   "cell_type": "markdown",
   "metadata": {},
   "source": [
    "### Построим столбчатые гистограммы и распределения признаков для тех, кто ушёл (отток) и тех, кто остался (не попали в отток)"
   ]
  },
  {
   "cell_type": "code",
   "execution_count": 7,
   "metadata": {
    "scrolled": false
   },
   "outputs": [
    {
     "data": {
      "image/png": "[encoded data removed]",
      "text/plain": [
       "<Figure size 720x288 with 1 Axes>"
      ]
     },
     "metadata": {
      "needs_background": "light"
     },
     "output_type": "display_data"
    },
    {
     "data": {
      "image/png": "[encoded data removed]",
      "text/plain": [
       "<Figure size 720x288 with 1 Axes>"
      ]
     },
     "metadata": {
      "needs_background": "light"
     },
     "output_type": "display_data"
    },
    {
     "data": {
      "image/png": "[encoded data removed]",
      "text/plain": [
       "<Figure size 720x288 with 1 Axes>"
      ]
     },
     "metadata": {
      "needs_background": "light"
     },
     "output_type": "display_data"
    },
    {
     "data": {
      "image/png": "[encoded data removed]",
      "text/plain": [
       "<Figure size 720x288 with 1 Axes>"
      ]
     },
     "metadata": {
      "needs_background": "light"
     },
     "output_type": "display_data"
    },
    {
     "data": {
      "image/png": "[encoded data removed]",
      "text/plain": [
       "<Figure size 720x288 with 1 Axes>"
      ]
     },
     "metadata": {
      "needs_background": "light"
     },
     "output_type": "display_data"
    },
    {
     "data": {
      "image/png": "[encoded data removed]",
      "text/plain": [
       "<Figure size 720x288 with 1 Axes>"
      ]
     },
     "metadata": {
      "needs_background": "light"
     },
     "output_type": "display_data"
    },
    {
     "data": {
      "image/png": "[encoded data removed]",
      "text/plain": [
       "<Figure size 720x288 with 1 Axes>"
      ]
     },
     "metadata": {
      "needs_background": "light"
     },
     "output_type": "display_data"
    }
   ],
   "source": [
    "outflow = data[data['churn'] == 1]\n",
    "remaining = data[data['churn'] == 0]\n",
    "\n",
    "distplot_columns = ['avg_additional_charges_total', 'avg_class_frequency_total', \n",
    "                    'avg_class_frequency_current_month', 'lifetime', 'age', \n",
    "                    'contract_period', 'month_to_end_contract']\n",
    "\n",
    "for column in distplot_columns: \n",
    "    plt.figure(figsize=(10,4)) \n",
    "    plt.title(column)\n",
    "    sns.distplot(remaining[column], kde=False, hist_kws={\"alpha\": 0.5})\n",
    "    sns.distplot(outflow[column], kde=False, hist_kws={\"alpha\": 1})\n",
    "    plt.legend(['Оставшиеся', 'Отток'])\n",
    "    plt.show()"
   ]
  },
  {
   "cell_type": "code",
   "execution_count": 8,
   "metadata": {
    "scrolled": false
   },
   "outputs": [
    {
     "data": {
      "image/png": "[encoded data removed]",
      "text/plain": [
       "<Figure size 432x288 with 1 Axes>"
      ]
     },
     "metadata": {
      "needs_background": "light"
     },
     "output_type": "display_data"
    },
    {
     "data": {
      "image/png": "[encoded data removed]",
      "text/plain": [
       "<Figure size 432x288 with 1 Axes>"
      ]
     },
     "metadata": {
      "needs_background": "light"
     },
     "output_type": "display_data"
    },
    {
     "data": {
      "image/png": "[encoded data removed]",
      "text/plain": [
       "<Figure size 432x288 with 1 Axes>"
      ]
     },
     "metadata": {
      "needs_background": "light"
     },
     "output_type": "display_data"
    },
    {
     "data": {
      "image/png": "[encoded data removed]",
      "text/plain": [
       "<Figure size 432x288 with 1 Axes>"
      ]
     },
     "metadata": {
      "needs_background": "light"
     },
     "output_type": "display_data"
    },
    {
     "data": {
      "image/png": "[encoded data removed]",
      "text/plain": [
       "<Figure size 432x288 with 1 Axes>"
      ]
     },
     "metadata": {
      "needs_background": "light"
     },
     "output_type": "display_data"
    },
    {
     "data": {
      "image/png": "[encoded data removed]",
      "text/plain": [
       "<Figure size 432x288 with 1 Axes>"
      ]
     },
     "metadata": {
      "needs_background": "light"
     },
     "output_type": "display_data"
    },
    {
     "data": {
      "image/png": "[encoded data removed]",
      "text/plain": [
       "<Figure size 432x288 with 1 Axes>"
      ]
     },
     "metadata": {
      "needs_background": "light"
     },
     "output_type": "display_data"
    }
   ],
   "source": [
    "for column in data.columns:\n",
    "    if column not in distplot_columns:\n",
    "        data.groupby('churn')[column].hist(alpha = 1)\n",
    "        plt.title(column)\n",
    "        plt.legend(['Оставшиеся', 'Отток'])\n",
    "        plt.show()"
   ]
  },
  {
   "cell_type": "markdown",
   "metadata": {},
   "source": [
    "### Построим матрицу корреляций и отобразим её."
   ]
  },
  {
   "cell_type": "code",
   "execution_count": 9,
   "metadata": {
    "scrolled": false
   },
   "outputs": [
    {
     "data": {
      "image/png": "[encoded data removed]",
      "text/plain": [
       "<Figure size 1008x720 with 2 Axes>"
      ]
     },
     "metadata": {
      "needs_background": "light"
     },
     "output_type": "display_data"
    }
   ],
   "source": [
    "plt.figure(figsize=(14,10))\n",
    "sns.heatmap(data = data.corr(), annot=True, square=True, cmap='YlOrRd')\n",
    "plt.title('Матрица корреляций')\n",
    "plt.show()"
   ]
  },
  {
   "cell_type": "markdown",
   "metadata": {},
   "source": [
    "Вывод: \n",
    "1. Мультиколлинеарные признаки:\n",
    "  - contract_period и month_to_end_contract;\n",
    "  - avg_class_frequency_current_month и avg_class_frequency_total.\n",
    "2. Признаки с нулевой важностью:\n",
    "  - phone;\n",
    "  - gender"
   ]
  },
  {
   "cell_type": "code",
   "execution_count": 10,
   "metadata": {},
   "outputs": [],
   "source": [
    "# Удалим по одному из пары мультьиколлинеарных признаков\n",
    "data = data.drop(['month_to_end_contract', 'avg_class_frequency_current_month'], axis = 1)"
   ]
  },
  {
   "cell_type": "markdown",
   "metadata": {},
   "source": [
    "## Построим модель прогнозирования оттока клиентов"
   ]
  },
  {
   "cell_type": "markdown",
   "metadata": {},
   "source": [
    "### Построим модель бинарной классификации клиентов, где целевой признак — факт оттока клиента в следующем месяце:"
   ]
  },
  {
   "cell_type": "markdown",
   "metadata": {},
   "source": [
    "#### Разобъем данные на обучающую и валидационную выборку функцией train_test_split()."
   ]
  },
  {
   "cell_type": "code",
   "execution_count": 11,
   "metadata": {},
   "outputs": [],
   "source": [
    "X = data.drop(['churn'], axis = 1)\n",
    "y = data['churn']\n",
    "\n",
    "X_train, X_test, y_train, y_test = train_test_split(X, y, test_size=0.2, random_state=0)\n",
    "scaler = StandardScaler()\n",
    "\n",
    "X_train_st = scaler.fit_transform(X_train)\n",
    "X_test_st = scaler.transform(X_test)"
   ]
  },
  {
   "cell_type": "markdown",
   "metadata": {},
   "source": [
    "#### Обучим модель на train-выборке двумя способами: \n",
    "- логистической регрессией,\n",
    "- случайным лесом."
   ]
  },
  {
   "cell_type": "code",
   "execution_count": 12,
   "metadata": {},
   "outputs": [
    {
     "name": "stdout",
     "output_type": "stream",
     "text": [
      "Метрики для модели логистической регрессии:\n",
      "Accuracy: 0.90\n",
      "Precision: 0.79\n",
      "Recall: 0.81\n",
      "F1: 0.80\n"
     ]
    }
   ],
   "source": [
    "# Логистическая регрессия\n",
    "lr_model = LogisticRegression(random_state=0)\n",
    "lr_model.fit(X_train_st, y_train)\n",
    "lr_predictions = lr_model.predict(X_test_st)\n",
    "lr_probabilities = lr_model.predict_proba(X_test_st)[:,1]\n",
    "\n",
    "print('Метрики для модели логистической регрессии:')\n",
    "print('Accuracy: {:.2f}'.format(accuracy_score(y_test, lr_predictions)))\n",
    "print('Precision: {:.2f}'.format(precision_score(y_test, lr_predictions)))\n",
    "print('Recall: {:.2f}'.format(recall_score(y_test, lr_predictions)))\n",
    "print('F1: {:.2f}'.format(f1_score(y_test, lr_predictions)))"
   ]
  },
  {
   "cell_type": "code",
   "execution_count": 13,
   "metadata": {},
   "outputs": [
    {
     "name": "stdout",
     "output_type": "stream",
     "text": [
      "Метрики для модели случайного леса:\n",
      "Accuracy: 0.89\n",
      "Precision: 0.79\n",
      "Recall: 0.76\n",
      "F1: 0.77\n"
     ]
    }
   ],
   "source": [
    "# Случайный лес\n",
    "rf_model = RandomForestClassifier(n_estimators = 100, random_state = 0) \n",
    "rf_model.fit(X_train_st, y_train)\n",
    "rf_predictions = rf_model.predict(X_test_st)\n",
    "rf_probabilities = rf_model.predict_proba(X_test_st)[:,1]\n",
    "\n",
    "print('Метрики для модели случайного леса:')\n",
    "print('Accuracy: {:.2f}'.format(accuracy_score(y_test, rf_predictions)))\n",
    "print('Precision: {:.2f}'.format(precision_score(y_test, rf_predictions)))\n",
    "print('Recall: {:.2f}'.format(recall_score(y_test, rf_predictions)))\n",
    "print('F1: {:.2f}'.format(f1_score(y_test, rf_predictions)))"
   ]
  },
  {
   "cell_type": "markdown",
   "metadata": {},
   "source": [
    "#### Оценим метрики accuracy, precision и recall для обеих моделей на валидационной выборке. Сравним по ним модели. Какая модель показала себя лучше на основании метрик?"
   ]
  },
  {
   "cell_type": "markdown",
   "metadata": {},
   "source": [
    "Модель Логистическая регрессия показала себя лучше на основании метрик Precision и  Recall."
   ]
  },
  {
   "cell_type": "markdown",
   "metadata": {},
   "source": [
    "## Сделаем кластеризацию клиентов"
   ]
  },
  {
   "cell_type": "markdown",
   "metadata": {},
   "source": [
    "Отложим в сторону столбец с оттоком и проведём кластеризацию объектов (клиентов):"
   ]
  },
  {
   "cell_type": "markdown",
   "metadata": {},
   "source": [
    "### Стандартизируем данные."
   ]
  },
  {
   "cell_type": "code",
   "execution_count": 14,
   "metadata": {},
   "outputs": [],
   "source": [
    "sc = StandardScaler()\n",
    "X_sc = sc.fit_transform(X)"
   ]
  },
  {
   "cell_type": "markdown",
   "metadata": {},
   "source": [
    "### Построим матрицу расстояний функцией linkage() на стандартизованной матрице признаков и нарисуем дендрограмму. "
   ]
  },
  {
   "cell_type": "code",
   "execution_count": 15,
   "metadata": {},
   "outputs": [
    {
     "data": {
      "image/png": "[encoded data removed]",
      "text/plain": [
       "<Figure size 1080x720 with 1 Axes>"
      ]
     },
     "metadata": {
      "needs_background": "light"
     },
     "output_type": "display_data"
    }
   ],
   "source": [
    "linked = linkage(X_sc, method = 'ward')\n",
    "plt.figure(figsize=(15, 10))\n",
    "dendrogram(linked, orientation='top')\n",
    "plt.title('Иерархическая кластеризация клиентов')\n",
    "plt.show()"
   ]
  },
  {
   "cell_type": "markdown",
   "metadata": {},
   "source": [
    "Выделяется 4 кластера"
   ]
  },
  {
   "cell_type": "markdown",
   "metadata": {},
   "source": [
    "### Обучим модель кластеризации на основании алгоритма K-Means и спрогнозируем кластеры клиентов. \n",
    "Договоримся за число кластеров принять n=5, чтобы наши результаты можно было сравнивать с результатами остальных студентов."
   ]
  },
  {
   "cell_type": "code",
   "execution_count": 16,
   "metadata": {},
   "outputs": [],
   "source": [
    "km = KMeans(n_clusters = 5, random_state=0) # задаём число кластеров, равное 5\n",
    "labels = km.fit_predict(X_sc) # применяем алгоритм к данным и формируем вектор кластеров\n",
    "data['cluster_km'] = labels"
   ]
  },
  {
   "cell_type": "markdown",
   "metadata": {},
   "source": [
    "### Посмотрим на средние значения признаков для кластеров. Можно ли сразу что-то заметить?"
   ]
  },
  {
   "cell_type": "code",
   "execution_count": 17,
   "metadata": {},
   "outputs": [
    {
     "data": {
      "text/html": [
       "<div>\n",
       "<style scoped>\n",
       "    .dataframe tbody tr th:only-of-type {\n",
       "        vertical-align: middle;\n",
       "    }\n",
       "\n",
       "    .dataframe tbody tr th {\n",
       "        vertical-align: top;\n",
       "    }\n",
       "\n",
       "    .dataframe thead th {\n",
       "        text-align: right;\n",
       "    }\n",
       "</style>\n",
       "<table border=\"1\" class=\"dataframe\">\n",
       "  <thead>\n",
       "    <tr style=\"text-align: right;\">\n",
       "      <th>cluster_km</th>\n",
       "      <th>0</th>\n",
       "      <th>1</th>\n",
       "      <th>2</th>\n",
       "      <th>3</th>\n",
       "      <th>4</th>\n",
       "    </tr>\n",
       "  </thead>\n",
       "  <tbody>\n",
       "    <tr>\n",
       "      <th>gender</th>\n",
       "      <td>0.50</td>\n",
       "      <td>0.49</td>\n",
       "      <td>0.51</td>\n",
       "      <td>0.54</td>\n",
       "      <td>0.52</td>\n",
       "    </tr>\n",
       "    <tr>\n",
       "      <th>near_location</th>\n",
       "      <td>0.00</td>\n",
       "      <td>1.00</td>\n",
       "      <td>1.00</td>\n",
       "      <td>1.00</td>\n",
       "      <td>0.86</td>\n",
       "    </tr>\n",
       "    <tr>\n",
       "      <th>partner</th>\n",
       "      <td>0.49</td>\n",
       "      <td>0.96</td>\n",
       "      <td>0.24</td>\n",
       "      <td>0.25</td>\n",
       "      <td>0.47</td>\n",
       "    </tr>\n",
       "    <tr>\n",
       "      <th>promo_friends</th>\n",
       "      <td>0.08</td>\n",
       "      <td>0.89</td>\n",
       "      <td>0.06</td>\n",
       "      <td>0.08</td>\n",
       "      <td>0.31</td>\n",
       "    </tr>\n",
       "    <tr>\n",
       "      <th>phone</th>\n",
       "      <td>1.00</td>\n",
       "      <td>1.00</td>\n",
       "      <td>1.00</td>\n",
       "      <td>1.00</td>\n",
       "      <td>0.00</td>\n",
       "    </tr>\n",
       "    <tr>\n",
       "      <th>contract_period</th>\n",
       "      <td>3.03</td>\n",
       "      <td>7.66</td>\n",
       "      <td>2.82</td>\n",
       "      <td>4.53</td>\n",
       "      <td>4.78</td>\n",
       "    </tr>\n",
       "    <tr>\n",
       "      <th>group_visits</th>\n",
       "      <td>0.24</td>\n",
       "      <td>0.46</td>\n",
       "      <td>0.00</td>\n",
       "      <td>1.00</td>\n",
       "      <td>0.43</td>\n",
       "    </tr>\n",
       "    <tr>\n",
       "      <th>age</th>\n",
       "      <td>28.72</td>\n",
       "      <td>29.54</td>\n",
       "      <td>28.77</td>\n",
       "      <td>29.54</td>\n",
       "      <td>29.30</td>\n",
       "    </tr>\n",
       "    <tr>\n",
       "      <th>avg_additional_charges_total</th>\n",
       "      <td>137.54</td>\n",
       "      <td>155.86</td>\n",
       "      <td>143.38</td>\n",
       "      <td>148.09</td>\n",
       "      <td>144.21</td>\n",
       "    </tr>\n",
       "    <tr>\n",
       "      <th>lifetime</th>\n",
       "      <td>3.06</td>\n",
       "      <td>4.38</td>\n",
       "      <td>3.34</td>\n",
       "      <td>3.76</td>\n",
       "      <td>3.94</td>\n",
       "    </tr>\n",
       "    <tr>\n",
       "      <th>avg_class_frequency_total</th>\n",
       "      <td>1.77</td>\n",
       "      <td>1.98</td>\n",
       "      <td>1.80</td>\n",
       "      <td>1.94</td>\n",
       "      <td>1.85</td>\n",
       "    </tr>\n",
       "    <tr>\n",
       "      <th>churn</th>\n",
       "      <td>0.40</td>\n",
       "      <td>0.12</td>\n",
       "      <td>0.38</td>\n",
       "      <td>0.20</td>\n",
       "      <td>0.27</td>\n",
       "    </tr>\n",
       "  </tbody>\n",
       "</table>\n",
       "</div>"
      ],
      "text/plain": [
       "cluster_km                        0      1      2      3      4\n",
       "gender                         0.50   0.49   0.51   0.54   0.52\n",
       "near_location                  0.00   1.00   1.00   1.00   0.86\n",
       "partner                        0.49   0.96   0.24   0.25   0.47\n",
       "promo_friends                  0.08   0.89   0.06   0.08   0.31\n",
       "phone                          1.00   1.00   1.00   1.00   0.00\n",
       "contract_period                3.03   7.66   2.82   4.53   4.78\n",
       "group_visits                   0.24   0.46   0.00   1.00   0.43\n",
       "age                           28.72  29.54  28.77  29.54  29.30\n",
       "avg_additional_charges_total 137.54 155.86 143.38 148.09 144.21\n",
       "lifetime                       3.06   4.38   3.34   3.76   3.94\n",
       "avg_class_frequency_total      1.77   1.98   1.80   1.94   1.85\n",
       "churn                          0.40   0.12   0.38   0.20   0.27"
      ]
     },
     "execution_count": 17,
     "metadata": {},
     "output_type": "execute_result"
    }
   ],
   "source": [
    "data.groupby('cluster_km').mean().T"
   ]
  },
  {
   "cell_type": "markdown",
   "metadata": {},
   "source": [
    "- Кластер 0:\n",
    "  - Отток - 40% самый большой\n",
    "  - живут не рядом\n",
    "  - Самая молодая аудитория\n",
    "  - Самая маленькая выручка по доп. услугам\n",
    "  - Самое короткое время с момента первого обращения в фитнес-центр - 3.06\n",
    "  - Самая низкая частота посещений - 1.77\n",
    "- Кластер 1:\n",
    "  - Отток - 12% самый маленький\n",
    "  - Все живут рядом\n",
    "  - Больше всего сотрудников компании-партнёра клуба\n",
    "  - Больше всего по промо акции \"приведи друга\"\n",
    "  - Длительность текущего действующего абонемента 7.66 мес - самый большой показатель\n",
    "  - Любят групповые занятия\n",
    "  - Самая большая выручка от доп. услуг\n",
    "  - Самое длительное время с момента первого обращения в фитнес-центр - 4.38\n",
    "  - Самая высокая частота посещений\n",
    "- Кластер 2:\n",
    "  - Отток - 38%\n",
    "  - Меньше всего сотрудников компании-партнёра клуба\n",
    "  - Меньше всего по промо акции \"приведи друга\"\n",
    "  - Длительность текущего действующего абонемента 2.82 мес - самый низкий показатель\n",
    "  - не посещают групповые занятия\n",
    "- Кластер 3:\n",
    "  - Отток - 20%\n",
    "  - Все ходят на групповые занятия\n",
    "- Кластер 4:\n",
    "  - Отток - 27% \n",
    "  - Остальные показатели средние\n"
   ]
  },
  {
   "cell_type": "markdown",
   "metadata": {},
   "source": [
    "### Построим распределения признаков для кластеров. "
   ]
  },
  {
   "cell_type": "code",
   "execution_count": 18,
   "metadata": {
    "scrolled": false
   },
   "outputs": [
    {
     "data": {
      "image/png": "[encoded data removed]",
      "text/plain": [
       "<Figure size 360x360 with 1 Axes>"
      ]
     },
     "metadata": {
      "needs_background": "light"
     },
     "output_type": "display_data"
    },
    {
     "data": {
      "image/png": "[encoded data removed]",
      "text/plain": [
       "<Figure size 360x360 with 1 Axes>"
      ]
     },
     "metadata": {
      "needs_background": "light"
     },
     "output_type": "display_data"
    },
    {
     "data": {
      "image/png": "[encoded data removed]",
      "text/plain": [
       "<Figure size 360x360 with 1 Axes>"
      ]
     },
     "metadata": {
      "needs_background": "light"
     },
     "output_type": "display_data"
    },
    {
     "data": {
      "image/png": "[encoded data removed]",
      "text/plain": [
       "<Figure size 360x360 with 1 Axes>"
      ]
     },
     "metadata": {
      "needs_background": "light"
     },
     "output_type": "display_data"
    },
    {
     "data": {
      "image/png": "[encoded data removed]",
      "text/plain": [
       "<Figure size 360x360 with 1 Axes>"
      ]
     },
     "metadata": {
      "needs_background": "light"
     },
     "output_type": "display_data"
    },
    {
     "data": {
      "image/png": "[encoded data removed]",
      "text/plain": [
       "<Figure size 360x360 with 1 Axes>"
      ]
     },
     "metadata": {
      "needs_background": "light"
     },
     "output_type": "display_data"
    }
   ],
   "source": [
    "\n",
    "for column in ['gender', \n",
    "               'near_location', \n",
    "               'partner', \n",
    "               'promo_friends',\n",
    "               'phone',\n",
    "               'contract_period']:\n",
    "    plt.figure(figsize=(5, 5))\n",
    "    sns.countplot(x = data[column], hue='cluster_km', data=data)\n",
    "    plt.title(column)\n",
    "    plt.show()"
   ]
  },
  {
   "cell_type": "code",
   "execution_count": 19,
   "metadata": {
    "scrolled": false
   },
   "outputs": [
    {
     "data": {
      "image/png": "[encoded data removed]",
      "text/plain": [
       "<Figure size 360x360 with 1 Axes>"
      ]
     },
     "metadata": {
      "needs_background": "light"
     },
     "output_type": "display_data"
    },
    {
     "data": {
      "image/png": "[encoded data removed]",
      "text/plain": [
       "<Figure size 360x360 with 1 Axes>"
      ]
     },
     "metadata": {
      "needs_background": "light"
     },
     "output_type": "display_data"
    },
    {
     "data": {
      "image/png": "[encoded data removed]",
      "text/plain": [
       "<Figure size 360x360 with 1 Axes>"
      ]
     },
     "metadata": {
      "needs_background": "light"
     },
     "output_type": "display_data"
    },
    {
     "data": {
      "image/png": "[encoded data removed]",
      "text/plain": [
       "<Figure size 360x360 with 1 Axes>"
      ]
     },
     "metadata": {
      "needs_background": "light"
     },
     "output_type": "display_data"
    }
   ],
   "source": [
    "for column in ['age', \n",
    "               'avg_additional_charges_total', \n",
    "               'lifetime', \n",
    "               'avg_class_frequency_total', \n",
    "               ]:\n",
    "    plt.figure(figsize=(5, 5))\n",
    "    sns.boxplot(x = 'cluster_km', y = data[column], data=data)\n",
    "    plt.show()"
   ]
  },
  {
   "cell_type": "markdown",
   "metadata": {},
   "source": [
    "Выводы: \n",
    "- Гендер распределен в классетрах примерно одинаково\n",
    "- Во всех класстерах клиенту живут рядом, кроме кластера 0\n",
    "- В кластере 1 почти все сотрудники компании-партнера, а в кластерах 2 и 3 наоброт\n",
    "- По акции \"Приведи друга\" ситауция повторяется ( в 1 кластере почти все, а в кластерах 2 и 3 почти никто)\n",
    "- В кластере 4 клиенты без номера телефона\n",
    "- Длительность текущего действующего абонемента: в кластере 2 больше всего клиентов с коротким сроком - месяц, а вот в кластере 1 больше клиентов со сроком - год\n",
    "- Возраст у клиентов в целом одинаков\n",
    "- Выручка больше в кластере 1, а меньше всех в кластере 0\n",
    "- Время с момента первого обращения в фитнес-центр:\n",
    "  - Кластер 1 - саое длинное\n",
    "  - Кластер 2 - самое низкое (примерно 1 месяц)\n",
    "  - Остальные кластеры в среднем одинаковы (примерно 3 месяца)\n",
    "- Средняя частота посещений в неделю за все время:\n",
    "  - Кластер 1 - самая высокая (примерно 2 и более раза)\n",
    "  - Кластер 0 - самая низкая (примерно 1 раз)\n",
    "  - Остальные кластеры в среднем одинаковы (примерно 2 раза)"
   ]
  },
  {
   "cell_type": "markdown",
   "metadata": {},
   "source": [
    "### Для каждого полученного кластера посчитаем долю оттока (методом groupby()). Отличаются ли они по доле оттока? Какие кластеры склонны к оттоку, а какие — надёжны?"
   ]
  },
  {
   "cell_type": "code",
   "execution_count": 20,
   "metadata": {},
   "outputs": [
    {
     "data": {
      "text/plain": [
       "cluster_km\n",
       "0     5.6%\n",
       "1    3.18%\n",
       "2    10.8%\n",
       "3    4.38%\n",
       "4    2.58%\n",
       "Name: churn, dtype: object"
      ]
     },
     "execution_count": 20,
     "metadata": {},
     "output_type": "execute_result"
    }
   ],
   "source": [
    "cluster_outflow = (data.groupby('cluster_km')['churn'].sum()/ len(data)*100).round(2).astype(str) + '%'\n",
    "cluster_outflow"
   ]
  },
  {
   "cell_type": "markdown",
   "metadata": {},
   "source": [
    "Вывод:\n",
    "- В 4 кластере - отток самый низкий\n",
    "- В 2 кластере - отток самый большой\n",
    "\n",
    "Поэтому надежными можно назвать  1 и 4 кластеры, остальные требуют внимания осбенно 2 кластер."
   ]
  },
  {
   "cell_type": "markdown",
   "metadata": {},
   "source": [
    "## Выводы и  базовые рекомендации по работе с клиентами:"
   ]
  },
  {
   "cell_type": "markdown",
   "metadata": {},
   "source": [
    "Выводы:"
   ]
  },
  {
   "cell_type": "markdown",
   "metadata": {},
   "source": [
    "EDA нам показало:\n",
    "- Признак \"пол\" - не влияет\n",
    "- Ближе живущие/ работающие клиенты меньше попадают в отток\n",
    "- Сотрудники компаний-партнеров реже перестают посещать фитнесс-клуб\n",
    "- Клиенты, пришедшие по акции \"Приведи друга\" намного реже уходят в отток\n",
    "- Наличие мобильного номера клиента - не влияет\n",
    "- Длительность текущего действующего абонемента равна обычно 1 месяцу у клиентов в оттоке\n",
    "- Клиенты попавшие в отток обычно не посещают групповые занятие, что логично( они просто не успевают)\n",
    "- Клиенты от 25 до 30 лет чаще оказываются в оттоке\n",
    "- Lifetime показывает, что люди обычно определяются в первые 3 месяца, ходить дальше или нет.\n",
    "- Среднее посещение в неделю у клиентов в отттоке за месяц иили за все время равно 1"
   ]
  },
  {
   "cell_type": "markdown",
   "metadata": {},
   "source": [
    "Модель прогнозирования Логистическая регрессия показала себя лучше на основании метрик Precision и Recall."
   ]
  },
  {
   "cell_type": "markdown",
   "metadata": {},
   "source": [
    "Кластеризация клиентов\n",
    "- Выделяется 4 кластера, но в этом задании мы использовали 5 кластеров\n",
    "- Высокий отток в кластерах 0, 2 и 3"
   ]
  },
  {
   "cell_type": "markdown",
   "metadata": {},
   "source": [
    "Рекомендации:\n",
    "- Во первых более глубже изучить кластеры 0, 2 и 3, чтобы снизить отток (узанть дополнительные признаки)\n",
    "- Т.к. отток клиентов в каком то проценте все равно будет, то было бы не плохо это пперекрывать рекламмой на целенной на аудиторию с признаками из оставшихся.\n",
    "- Может быть стоит добавить абонемент на 3 месяца (он мог бы увеличить выручку с тех кто определяется)\n"
   ]
  }
 ],
 "metadata": {
  "ExecuteTimeLog": [
   {
    "duration": 2382,
    "start_time": "2022-04-18T07:58:24.509Z"
   },
   {
    "duration": 3,
    "start_time": "2022-04-18T07:58:57.033Z"
   },
   {
    "duration": 27,
    "start_time": "2022-04-18T07:59:17.923Z"
   },
   {
    "duration": 18,
    "start_time": "2022-04-18T07:59:33.890Z"
   },
   {
    "duration": 25,
    "start_time": "2022-04-18T07:59:52.809Z"
   },
   {
    "duration": 17,
    "start_time": "2022-04-18T08:03:05.172Z"
   },
   {
    "duration": 13,
    "start_time": "2022-04-18T08:03:32.772Z"
   },
   {
    "duration": 3,
    "start_time": "2022-04-18T08:05:43.668Z"
   },
   {
    "duration": 31,
    "start_time": "2022-04-18T08:05:45.655Z"
   },
   {
    "duration": 23,
    "start_time": "2022-04-18T08:05:57.311Z"
   },
   {
    "duration": 43,
    "start_time": "2022-04-18T08:30:33.216Z"
   },
   {
    "duration": 56,
    "start_time": "2022-04-18T08:30:54.528Z"
   },
   {
    "duration": 56,
    "start_time": "2022-04-18T08:31:50.536Z"
   },
   {
    "duration": 130,
    "start_time": "2022-04-18T08:32:37.075Z"
   },
   {
    "duration": 73,
    "start_time": "2022-04-18T08:32:46.148Z"
   },
   {
    "duration": 45,
    "start_time": "2022-04-18T08:33:54.684Z"
   },
   {
    "duration": 48,
    "start_time": "2022-04-18T08:34:10.852Z"
   },
   {
    "duration": 46,
    "start_time": "2022-04-18T08:35:06.087Z"
   },
   {
    "duration": 4,
    "start_time": "2022-04-18T09:59:21.218Z"
   },
   {
    "duration": 9,
    "start_time": "2022-04-18T09:59:58.630Z"
   },
   {
    "duration": 4,
    "start_time": "2022-04-18T10:12:14.385Z"
   },
   {
    "duration": 3,
    "start_time": "2022-04-18T10:12:15.599Z"
   },
   {
    "duration": 23,
    "start_time": "2022-04-18T10:12:16.007Z"
   },
   {
    "duration": 48,
    "start_time": "2022-04-18T10:12:16.583Z"
   },
   {
    "duration": 36,
    "start_time": "2022-04-18T10:12:54.286Z"
   },
   {
    "duration": 18,
    "start_time": "2022-04-18T10:13:04.952Z"
   },
   {
    "duration": 35,
    "start_time": "2022-04-18T10:13:07.416Z"
   },
   {
    "duration": 4,
    "start_time": "2022-04-18T10:17:49.411Z"
   },
   {
    "duration": 3,
    "start_time": "2022-04-18T10:17:49.678Z"
   },
   {
    "duration": 25,
    "start_time": "2022-04-18T10:17:50.123Z"
   },
   {
    "duration": 16,
    "start_time": "2022-04-18T10:17:50.588Z"
   },
   {
    "duration": 41,
    "start_time": "2022-04-18T10:17:55.530Z"
   },
   {
    "duration": 10,
    "start_time": "2022-04-19T06:29:02.165Z"
   },
   {
    "duration": 24,
    "start_time": "2022-04-19T06:55:54.172Z"
   },
   {
    "duration": 18,
    "start_time": "2022-04-19T06:57:43.758Z"
   },
   {
    "duration": 19,
    "start_time": "2022-04-19T06:57:58.206Z"
   },
   {
    "duration": 19,
    "start_time": "2022-04-19T06:58:09.111Z"
   },
   {
    "duration": 18,
    "start_time": "2022-04-19T06:59:50.533Z"
   },
   {
    "duration": 26,
    "start_time": "2022-04-19T07:02:08.049Z"
   },
   {
    "duration": 25,
    "start_time": "2022-04-19T07:02:19.833Z"
   },
   {
    "duration": 23,
    "start_time": "2022-04-19T07:02:56.330Z"
   },
   {
    "duration": 21,
    "start_time": "2022-04-19T07:08:14.323Z"
   },
   {
    "duration": 25,
    "start_time": "2022-04-19T07:14:16.227Z"
   },
   {
    "duration": 17,
    "start_time": "2022-04-19T07:17:40.638Z"
   },
   {
    "duration": 13,
    "start_time": "2022-04-19T07:37:05.493Z"
   },
   {
    "duration": 13,
    "start_time": "2022-04-19T07:37:24.146Z"
   },
   {
    "duration": 11,
    "start_time": "2022-04-19T07:37:37.279Z"
   },
   {
    "duration": 11,
    "start_time": "2022-04-19T07:38:41.399Z"
   },
   {
    "duration": 146,
    "start_time": "2022-04-19T08:42:30.260Z"
   },
   {
    "duration": 1782,
    "start_time": "2022-04-19T08:44:56.659Z"
   },
   {
    "duration": 1201,
    "start_time": "2022-04-19T08:47:14.467Z"
   },
   {
    "duration": 0,
    "start_time": "2022-04-19T08:49:41.968Z"
   },
   {
    "duration": 1847,
    "start_time": "2022-04-19T08:49:59.293Z"
   },
   {
    "duration": 1347,
    "start_time": "2022-04-19T08:53:28.676Z"
   },
   {
    "duration": 1269,
    "start_time": "2022-04-19T08:55:50.187Z"
   },
   {
    "duration": 1546,
    "start_time": "2022-04-19T08:56:27.451Z"
   },
   {
    "duration": 1283,
    "start_time": "2022-04-19T08:56:53.507Z"
   },
   {
    "duration": 1296,
    "start_time": "2022-04-19T08:57:03.619Z"
   },
   {
    "duration": 12,
    "start_time": "2022-04-19T10:02:20.187Z"
   },
   {
    "duration": 163,
    "start_time": "2022-04-19T10:03:58.093Z"
   },
   {
    "duration": 500,
    "start_time": "2022-04-19T10:04:45.782Z"
   },
   {
    "duration": 152,
    "start_time": "2022-04-19T10:32:48.005Z"
   },
   {
    "duration": 339,
    "start_time": "2022-04-19T10:34:47.831Z"
   },
   {
    "duration": 12,
    "start_time": "2022-04-19T10:55:06.689Z"
   },
   {
    "duration": 20,
    "start_time": "2022-04-19T10:55:23.192Z"
   },
   {
    "duration": 166,
    "start_time": "2022-04-19T10:56:29.211Z"
   },
   {
    "duration": 17,
    "start_time": "2022-04-19T10:56:45.266Z"
   },
   {
    "duration": 339,
    "start_time": "2022-04-19T11:09:07.296Z"
   },
   {
    "duration": 7,
    "start_time": "2022-04-19T13:17:20.992Z"
   },
   {
    "duration": 97768,
    "start_time": "2022-04-19T13:21:29.765Z"
   },
   {
    "duration": 96053,
    "start_time": "2022-04-19T13:24:07.196Z"
   },
   {
    "duration": 1442,
    "start_time": "2022-04-19T13:27:51.517Z"
   },
   {
    "duration": 3,
    "start_time": "2022-04-19T13:29:39.899Z"
   },
   {
    "duration": 12,
    "start_time": "2022-04-19T13:30:43.603Z"
   },
   {
    "duration": 689,
    "start_time": "2022-04-20T07:44:04.973Z"
   },
   {
    "duration": 755,
    "start_time": "2022-04-20T08:25:21.705Z"
   },
   {
    "duration": 1334,
    "start_time": "2022-04-20T08:29:06.177Z"
   },
   {
    "duration": 14,
    "start_time": "2022-04-20T08:30:59.534Z"
   },
   {
    "duration": 0,
    "start_time": "2022-04-20T08:35:20.104Z"
   },
   {
    "duration": 739,
    "start_time": "2022-04-20T08:35:23.079Z"
   },
   {
    "duration": 979,
    "start_time": "2022-04-20T08:36:25.513Z"
   },
   {
    "duration": 2031,
    "start_time": "2022-04-20T08:38:45.403Z"
   },
   {
    "duration": 14,
    "start_time": "2022-04-20T08:39:15.443Z"
   },
   {
    "duration": 1470,
    "start_time": "2022-04-20T08:39:29.331Z"
   },
   {
    "duration": 14,
    "start_time": "2022-04-20T08:40:52.564Z"
   },
   {
    "duration": 17,
    "start_time": "2022-04-20T08:41:28.765Z"
   },
   {
    "duration": 796,
    "start_time": "2022-04-20T08:41:40.933Z"
   },
   {
    "duration": 12,
    "start_time": "2022-04-20T10:05:20.020Z"
   },
   {
    "duration": 6,
    "start_time": "2022-04-20T10:05:52.317Z"
   },
   {
    "duration": 5,
    "start_time": "2022-04-20T10:08:12.527Z"
   },
   {
    "duration": 4,
    "start_time": "2022-04-20T10:08:14.944Z"
   },
   {
    "duration": 14,
    "start_time": "2022-04-20T10:08:53.944Z"
   },
   {
    "duration": 6,
    "start_time": "2022-04-20T10:09:09.112Z"
   },
   {
    "duration": 8,
    "start_time": "2022-04-20T10:11:42.817Z"
   },
   {
    "duration": 8,
    "start_time": "2022-04-20T10:11:49.842Z"
   },
   {
    "duration": 9,
    "start_time": "2022-04-20T10:12:09.025Z"
   },
   {
    "duration": 7,
    "start_time": "2022-04-20T10:16:09.996Z"
   },
   {
    "duration": 7,
    "start_time": "2022-04-20T10:16:56.109Z"
   },
   {
    "duration": 12,
    "start_time": "2022-04-20T10:17:32.047Z"
   },
   {
    "duration": 9,
    "start_time": "2022-04-20T10:18:08.231Z"
   },
   {
    "duration": 10,
    "start_time": "2022-04-20T10:20:02.200Z"
   },
   {
    "duration": 7,
    "start_time": "2022-04-20T10:20:19.873Z"
   },
   {
    "duration": 8,
    "start_time": "2022-04-20T10:21:34.537Z"
   },
   {
    "duration": 10,
    "start_time": "2022-04-20T10:22:13.545Z"
   },
   {
    "duration": 9,
    "start_time": "2022-04-20T10:24:09.956Z"
   },
   {
    "duration": 9,
    "start_time": "2022-04-20T10:24:23.555Z"
   },
   {
    "duration": 14,
    "start_time": "2022-04-20T10:25:18.332Z"
   },
   {
    "duration": 11,
    "start_time": "2022-04-20T10:25:47.276Z"
   },
   {
    "duration": 18,
    "start_time": "2022-04-20T10:28:07.150Z"
   },
   {
    "duration": 14,
    "start_time": "2022-04-20T10:37:10.534Z"
   },
   {
    "duration": 15,
    "start_time": "2022-04-20T10:39:22.486Z"
   },
   {
    "duration": 15,
    "start_time": "2022-04-20T10:39:31.006Z"
   },
   {
    "duration": 7,
    "start_time": "2022-04-20T10:39:40.142Z"
   },
   {
    "duration": 6,
    "start_time": "2022-04-20T10:39:53.678Z"
   },
   {
    "duration": 32,
    "start_time": "2022-04-20T10:41:08.672Z"
   },
   {
    "duration": 9,
    "start_time": "2022-04-20T10:43:55.863Z"
   },
   {
    "duration": 9,
    "start_time": "2022-04-20T10:44:20.538Z"
   },
   {
    "duration": 11,
    "start_time": "2022-04-20T10:44:32.697Z"
   },
   {
    "duration": 12,
    "start_time": "2022-04-20T10:45:32.221Z"
   },
   {
    "duration": 849,
    "start_time": "2022-04-20T13:24:28.676Z"
   },
   {
    "duration": 1998,
    "start_time": "2022-04-20T14:04:43.805Z"
   },
   {
    "duration": 3,
    "start_time": "2022-04-20T14:04:45.805Z"
   },
   {
    "duration": 39,
    "start_time": "2022-04-20T14:04:45.810Z"
   },
   {
    "duration": 18,
    "start_time": "2022-04-20T14:04:45.851Z"
   },
   {
    "duration": 39,
    "start_time": "2022-04-20T14:04:45.871Z"
   },
   {
    "duration": 10,
    "start_time": "2022-04-20T14:04:45.912Z"
   },
   {
    "duration": 1905,
    "start_time": "2022-04-20T14:04:45.924Z"
   },
   {
    "duration": 1274,
    "start_time": "2022-04-20T14:04:47.831Z"
   },
   {
    "duration": 1360,
    "start_time": "2022-04-20T14:04:49.107Z"
   },
   {
    "duration": 15,
    "start_time": "2022-04-20T14:04:50.470Z"
   },
   {
    "duration": 171,
    "start_time": "2022-04-20T14:04:50.487Z"
   },
   {
    "duration": 473,
    "start_time": "2022-04-20T14:04:50.660Z"
   },
   {
    "duration": 8,
    "start_time": "2022-04-20T14:04:51.134Z"
   },
   {
    "duration": 100780,
    "start_time": "2022-04-20T14:04:51.154Z"
   },
   {
    "duration": 1019,
    "start_time": "2022-04-20T14:06:31.936Z"
   },
   {
    "duration": 102,
    "start_time": "2022-04-20T14:06:32.957Z"
   },
   {
    "duration": 1151,
    "start_time": "2022-04-20T14:06:33.061Z"
   },
   {
    "duration": 831,
    "start_time": "2022-04-20T14:06:34.214Z"
   },
   {
    "duration": 12,
    "start_time": "2022-04-20T14:06:35.047Z"
   },
   {
    "duration": 2078,
    "start_time": "2022-04-20T17:00:19.925Z"
   },
   {
    "duration": 3,
    "start_time": "2022-04-20T17:00:22.005Z"
   },
   {
    "duration": 58,
    "start_time": "2022-04-20T17:00:22.010Z"
   },
   {
    "duration": 19,
    "start_time": "2022-04-20T17:00:22.070Z"
   },
   {
    "duration": 38,
    "start_time": "2022-04-20T17:00:22.091Z"
   },
   {
    "duration": 30,
    "start_time": "2022-04-20T17:00:22.130Z"
   },
   {
    "duration": 2045,
    "start_time": "2022-04-20T17:00:22.162Z"
   },
   {
    "duration": 1271,
    "start_time": "2022-04-20T17:00:24.209Z"
   },
   {
    "duration": 1523,
    "start_time": "2022-04-20T17:00:25.481Z"
   },
   {
    "duration": 12,
    "start_time": "2022-04-20T17:00:27.007Z"
   },
   {
    "duration": 631,
    "start_time": "2022-04-20T17:00:27.021Z"
   },
   {
    "duration": 436,
    "start_time": "2022-04-20T17:00:27.653Z"
   },
   {
    "duration": 8,
    "start_time": "2022-04-20T17:00:28.091Z"
   },
   {
    "duration": 108502,
    "start_time": "2022-04-20T17:00:28.100Z"
   },
   {
    "duration": 1267,
    "start_time": "2022-04-20T17:02:16.604Z"
   },
   {
    "duration": 12,
    "start_time": "2022-04-20T17:02:17.873Z"
   },
   {
    "duration": 1109,
    "start_time": "2022-04-20T17:02:17.887Z"
   },
   {
    "duration": 836,
    "start_time": "2022-04-20T17:02:18.997Z"
   },
   {
    "duration": 21,
    "start_time": "2022-04-20T17:02:19.836Z"
   },
   {
    "duration": 115,
    "start_time": "2022-04-20T17:47:24.113Z"
   },
   {
    "duration": 109,
    "start_time": "2022-04-20T17:47:28.409Z"
   },
   {
    "duration": 12,
    "start_time": "2022-04-20T17:47:35.261Z"
   },
   {
    "duration": 49,
    "start_time": "2022-04-21T07:19:12.707Z"
   },
   {
    "duration": 2150,
    "start_time": "2022-04-21T07:19:29.145Z"
   },
   {
    "duration": 4,
    "start_time": "2022-04-21T07:19:31.297Z"
   },
   {
    "duration": 38,
    "start_time": "2022-04-21T07:19:31.302Z"
   },
   {
    "duration": 18,
    "start_time": "2022-04-21T07:19:31.342Z"
   },
   {
    "duration": 38,
    "start_time": "2022-04-21T07:19:31.361Z"
   },
   {
    "duration": 30,
    "start_time": "2022-04-21T07:19:31.401Z"
   },
   {
    "duration": 1465,
    "start_time": "2022-04-21T07:19:31.433Z"
   },
   {
    "duration": 1218,
    "start_time": "2022-04-21T07:19:32.899Z"
   },
   {
    "duration": 1413,
    "start_time": "2022-04-21T07:19:34.122Z"
   },
   {
    "duration": 13,
    "start_time": "2022-04-21T07:19:35.537Z"
   },
   {
    "duration": 1071,
    "start_time": "2022-04-21T07:19:35.552Z"
   },
   {
    "duration": 453,
    "start_time": "2022-04-21T07:19:36.625Z"
   },
   {
    "duration": 8,
    "start_time": "2022-04-21T07:19:37.080Z"
   },
   {
    "duration": 98362,
    "start_time": "2022-04-21T07:19:37.089Z"
   },
   {
    "duration": 1177,
    "start_time": "2022-04-21T07:21:15.452Z"
   },
   {
    "duration": 103,
    "start_time": "2022-04-21T07:21:16.631Z"
   },
   {
    "duration": 904,
    "start_time": "2022-04-21T07:21:16.735Z"
   },
   {
    "duration": 1055,
    "start_time": "2022-04-21T07:21:17.641Z"
   },
   {
    "duration": 8,
    "start_time": "2022-04-21T07:21:18.697Z"
   },
   {
    "duration": 291,
    "start_time": "2022-04-21T07:29:34.817Z"
   },
   {
    "duration": 4903,
    "start_time": "2022-04-21T07:30:22.895Z"
   },
   {
    "duration": 5008,
    "start_time": "2022-04-21T07:30:43.113Z"
   },
   {
    "duration": 5421,
    "start_time": "2022-04-21T07:31:20.577Z"
   },
   {
    "duration": 5374,
    "start_time": "2022-04-21T07:31:39.937Z"
   },
   {
    "duration": 5,
    "start_time": "2022-04-21T07:31:57.577Z"
   },
   {
    "duration": 3,
    "start_time": "2022-04-21T07:31:57.986Z"
   },
   {
    "duration": 39,
    "start_time": "2022-04-21T07:31:58.188Z"
   },
   {
    "duration": 18,
    "start_time": "2022-04-21T07:31:58.406Z"
   },
   {
    "duration": 40,
    "start_time": "2022-04-21T07:32:00.532Z"
   },
   {
    "duration": 10,
    "start_time": "2022-04-21T07:32:02.500Z"
   },
   {
    "duration": 5534,
    "start_time": "2022-04-21T07:32:05.249Z"
   },
   {
    "duration": 134,
    "start_time": "2022-04-21T07:33:18.168Z"
   },
   {
    "duration": 5112,
    "start_time": "2022-04-21T07:33:56.562Z"
   },
   {
    "duration": 147,
    "start_time": "2022-04-21T07:34:07.259Z"
   },
   {
    "duration": 1671,
    "start_time": "2022-04-21T07:34:24.779Z"
   },
   {
    "duration": 1960,
    "start_time": "2022-04-21T07:41:32.032Z"
   },
   {
    "duration": 1548,
    "start_time": "2022-04-21T07:41:51.009Z"
   },
   {
    "duration": 1573,
    "start_time": "2022-04-21T07:44:33.417Z"
   },
   {
    "duration": 2146,
    "start_time": "2022-04-21T07:45:19.811Z"
   },
   {
    "duration": 6,
    "start_time": "2022-04-21T07:46:02.949Z"
   },
   {
    "duration": 2879,
    "start_time": "2022-04-21T07:46:16.115Z"
   },
   {
    "duration": 147,
    "start_time": "2022-04-21T07:47:40.710Z"
   },
   {
    "duration": 198,
    "start_time": "2022-04-21T07:48:19.567Z"
   },
   {
    "duration": 1573,
    "start_time": "2022-04-21T07:50:18.701Z"
   },
   {
    "duration": 1782,
    "start_time": "2022-04-21T07:50:28.862Z"
   },
   {
    "duration": 1509,
    "start_time": "2022-04-21T07:50:50.695Z"
   },
   {
    "duration": 1638,
    "start_time": "2022-04-21T07:50:59.199Z"
   },
   {
    "duration": 1549,
    "start_time": "2022-04-21T08:04:13.410Z"
   },
   {
    "duration": 1577,
    "start_time": "2022-04-21T08:04:43.570Z"
   },
   {
    "duration": 1266,
    "start_time": "2022-04-21T08:06:23.547Z"
   },
   {
    "duration": 4,
    "start_time": "2022-04-21T08:38:13.410Z"
   },
   {
    "duration": 10,
    "start_time": "2022-04-21T08:38:42.597Z"
   },
   {
    "duration": 10,
    "start_time": "2022-04-21T08:38:58.186Z"
   },
   {
    "duration": 10,
    "start_time": "2022-04-21T08:42:14.316Z"
   },
   {
    "duration": 3,
    "start_time": "2022-04-21T08:43:48.561Z"
   },
   {
    "duration": 3,
    "start_time": "2022-04-21T08:43:49.256Z"
   },
   {
    "duration": 39,
    "start_time": "2022-04-21T08:43:49.487Z"
   },
   {
    "duration": 18,
    "start_time": "2022-04-21T08:43:49.731Z"
   },
   {
    "duration": 37,
    "start_time": "2022-04-21T08:43:51.702Z"
   },
   {
    "duration": 11,
    "start_time": "2022-04-21T08:43:53.211Z"
   },
   {
    "duration": 1462,
    "start_time": "2022-04-21T08:43:55.125Z"
   },
   {
    "duration": 1022,
    "start_time": "2022-04-21T08:43:57.188Z"
   },
   {
    "duration": 1407,
    "start_time": "2022-04-21T08:43:58.603Z"
   },
   {
    "duration": 12,
    "start_time": "2022-04-21T08:44:00.953Z"
   },
   {
    "duration": 15,
    "start_time": "2022-04-21T08:45:07.367Z"
   },
   {
    "duration": 23,
    "start_time": "2022-04-21T08:46:31.879Z"
   },
   {
    "duration": 23,
    "start_time": "2022-04-21T08:47:34.513Z"
   },
   {
    "duration": 31,
    "start_time": "2022-04-21T08:49:33.554Z"
   },
   {
    "duration": 29,
    "start_time": "2022-04-21T08:50:08.003Z"
   },
   {
    "duration": 18,
    "start_time": "2022-04-21T08:50:08.491Z"
   },
   {
    "duration": 36,
    "start_time": "2022-04-21T08:50:10.003Z"
   },
   {
    "duration": 11,
    "start_time": "2022-04-21T08:50:10.890Z"
   },
   {
    "duration": 1566,
    "start_time": "2022-04-21T08:50:12.524Z"
   },
   {
    "duration": 1113,
    "start_time": "2022-04-21T08:50:14.092Z"
   },
   {
    "duration": 1383,
    "start_time": "2022-04-21T08:50:15.208Z"
   },
   {
    "duration": 30,
    "start_time": "2022-04-21T08:50:16.593Z"
   },
   {
    "duration": 16,
    "start_time": "2022-04-21T08:50:41.233Z"
   },
   {
    "duration": 17,
    "start_time": "2022-04-21T08:53:16.900Z"
   },
   {
    "duration": 3,
    "start_time": "2022-04-21T08:53:42.551Z"
   },
   {
    "duration": 10,
    "start_time": "2022-04-21T08:53:42.556Z"
   },
   {
    "duration": 43,
    "start_time": "2022-04-21T08:53:42.568Z"
   },
   {
    "duration": 17,
    "start_time": "2022-04-21T08:53:42.612Z"
   },
   {
    "duration": 144,
    "start_time": "2022-04-21T08:53:42.631Z"
   },
   {
    "duration": 10,
    "start_time": "2022-04-21T08:53:42.776Z"
   },
   {
    "duration": 1409,
    "start_time": "2022-04-21T08:53:42.788Z"
   },
   {
    "duration": 1171,
    "start_time": "2022-04-21T08:53:44.199Z"
   },
   {
    "duration": 1305,
    "start_time": "2022-04-21T08:53:45.372Z"
   },
   {
    "duration": 4,
    "start_time": "2022-04-21T08:53:51.844Z"
   },
   {
    "duration": 14,
    "start_time": "2022-04-21T08:54:01.175Z"
   },
   {
    "duration": 48,
    "start_time": "2022-04-21T08:54:03.184Z"
   },
   {
    "duration": 353,
    "start_time": "2022-04-21T08:54:07.954Z"
   },
   {
    "duration": 332,
    "start_time": "2022-04-21T08:58:30.287Z"
   },
   {
    "duration": 8,
    "start_time": "2022-04-21T08:58:45.068Z"
   },
   {
    "duration": 96846,
    "start_time": "2022-04-21T08:58:47.254Z"
   },
   {
    "duration": 1369,
    "start_time": "2022-04-21T09:53:54.355Z"
   },
   {
    "duration": 12,
    "start_time": "2022-04-21T09:53:58.747Z"
   },
   {
    "duration": 4,
    "start_time": "2022-04-21T09:54:22.712Z"
   },
   {
    "duration": 4,
    "start_time": "2022-04-21T09:54:22.718Z"
   },
   {
    "duration": 56,
    "start_time": "2022-04-21T09:54:22.724Z"
   },
   {
    "duration": 23,
    "start_time": "2022-04-21T09:54:22.782Z"
   },
   {
    "duration": 41,
    "start_time": "2022-04-21T09:54:22.808Z"
   },
   {
    "duration": 10,
    "start_time": "2022-04-21T09:54:22.851Z"
   },
   {
    "duration": 1436,
    "start_time": "2022-04-21T09:54:22.863Z"
   },
   {
    "duration": 1291,
    "start_time": "2022-04-21T09:54:24.300Z"
   },
   {
    "duration": 1336,
    "start_time": "2022-04-21T09:54:25.592Z"
   },
   {
    "duration": 4,
    "start_time": "2022-04-21T09:54:26.930Z"
   },
   {
    "duration": 14,
    "start_time": "2022-04-21T09:54:26.935Z"
   },
   {
    "duration": 176,
    "start_time": "2022-04-21T09:54:26.950Z"
   },
   {
    "duration": 430,
    "start_time": "2022-04-21T09:54:27.129Z"
   },
   {
    "duration": 7,
    "start_time": "2022-04-21T09:54:27.561Z"
   },
   {
    "duration": 105598,
    "start_time": "2022-04-21T09:54:27.569Z"
   },
   {
    "duration": 1464,
    "start_time": "2022-04-21T09:56:13.169Z"
   },
   {
    "duration": 17,
    "start_time": "2022-04-21T09:56:14.638Z"
   },
   {
    "duration": 1242,
    "start_time": "2022-04-21T10:21:17.463Z"
   },
   {
    "duration": 3205,
    "start_time": "2022-04-21T10:21:31.444Z"
   },
   {
    "duration": 3819,
    "start_time": "2022-04-21T10:22:03.619Z"
   },
   {
    "duration": 552,
    "start_time": "2022-04-21T10:22:21.970Z"
   },
   {
    "duration": 8,
    "start_time": "2022-04-21T10:59:22.133Z"
   },
   {
    "duration": 3,
    "start_time": "2022-04-21T11:31:30.320Z"
   },
   {
    "duration": 11,
    "start_time": "2022-04-21T11:31:30.326Z"
   },
   {
    "duration": 56,
    "start_time": "2022-04-21T11:31:30.339Z"
   },
   {
    "duration": 126,
    "start_time": "2022-04-21T11:31:30.397Z"
   },
   {
    "duration": 43,
    "start_time": "2022-04-21T11:31:30.526Z"
   },
   {
    "duration": 11,
    "start_time": "2022-04-21T11:31:30.571Z"
   },
   {
    "duration": 1759,
    "start_time": "2022-04-21T11:31:30.584Z"
   },
   {
    "duration": 1424,
    "start_time": "2022-04-21T11:31:32.344Z"
   },
   {
    "duration": 1480,
    "start_time": "2022-04-21T11:31:33.769Z"
   },
   {
    "duration": 5,
    "start_time": "2022-04-21T11:31:35.251Z"
   },
   {
    "duration": 27,
    "start_time": "2022-04-21T11:31:35.258Z"
   },
   {
    "duration": 238,
    "start_time": "2022-04-21T11:31:35.287Z"
   },
   {
    "duration": 522,
    "start_time": "2022-04-21T11:31:35.529Z"
   },
   {
    "duration": 11,
    "start_time": "2022-04-21T11:31:36.053Z"
   },
   {
    "duration": 114362,
    "start_time": "2022-04-21T11:31:36.066Z"
   },
   {
    "duration": 1493,
    "start_time": "2022-04-21T11:33:30.430Z"
   },
   {
    "duration": 14,
    "start_time": "2022-04-21T11:33:31.925Z"
   },
   {
    "duration": 1068,
    "start_time": "2022-04-21T11:33:31.941Z"
   },
   {
    "duration": 598,
    "start_time": "2022-04-21T11:33:33.011Z"
   },
   {
    "duration": 17,
    "start_time": "2022-04-21T11:33:33.611Z"
   },
   {
    "duration": 12,
    "start_time": "2022-04-21T11:39:44.612Z"
   },
   {
    "duration": 13,
    "start_time": "2022-04-21T11:39:51.244Z"
   },
   {
    "duration": 2519,
    "start_time": "2022-04-21T11:40:42.911Z"
   },
   {
    "duration": 3,
    "start_time": "2022-04-21T11:40:45.432Z"
   },
   {
    "duration": 60,
    "start_time": "2022-04-21T11:40:45.437Z"
   },
   {
    "duration": 21,
    "start_time": "2022-04-21T11:40:45.500Z"
   },
   {
    "duration": 43,
    "start_time": "2022-04-21T11:40:45.524Z"
   },
   {
    "duration": 13,
    "start_time": "2022-04-21T11:40:45.569Z"
   },
   {
    "duration": 1661,
    "start_time": "2022-04-21T11:40:45.584Z"
   },
   {
    "duration": 1470,
    "start_time": "2022-04-21T11:40:47.246Z"
   },
   {
    "duration": 1561,
    "start_time": "2022-04-21T11:40:48.718Z"
   },
   {
    "duration": 4,
    "start_time": "2022-04-21T11:40:50.282Z"
   },
   {
    "duration": 15,
    "start_time": "2022-04-21T11:40:50.288Z"
   },
   {
    "duration": 333,
    "start_time": "2022-04-21T11:40:50.304Z"
   },
   {
    "duration": 429,
    "start_time": "2022-04-21T11:40:50.723Z"
   },
   {
    "duration": 8,
    "start_time": "2022-04-21T11:40:51.154Z"
   },
   {
    "duration": 115288,
    "start_time": "2022-04-21T11:40:51.164Z"
   },
   {
    "duration": 1678,
    "start_time": "2022-04-21T11:42:46.454Z"
   },
   {
    "duration": 13,
    "start_time": "2022-04-21T11:42:48.223Z"
   },
   {
    "duration": 1060,
    "start_time": "2022-04-21T11:42:48.237Z"
   },
   {
    "duration": 907,
    "start_time": "2022-04-21T11:42:49.300Z"
   },
   {
    "duration": 15,
    "start_time": "2022-04-21T11:42:50.208Z"
   },
   {
    "duration": 5,
    "start_time": "2022-04-21T11:59:07.596Z"
   },
   {
    "duration": 9,
    "start_time": "2022-04-21T11:59:07.603Z"
   },
   {
    "duration": 30,
    "start_time": "2022-04-21T11:59:07.614Z"
   },
   {
    "duration": 20,
    "start_time": "2022-04-21T11:59:07.646Z"
   },
   {
    "duration": 56,
    "start_time": "2022-04-21T11:59:07.668Z"
   },
   {
    "duration": 11,
    "start_time": "2022-04-21T11:59:07.726Z"
   },
   {
    "duration": 1933,
    "start_time": "2022-04-21T11:59:07.738Z"
   },
   {
    "duration": 1359,
    "start_time": "2022-04-21T11:59:09.673Z"
   },
   {
    "duration": 1912,
    "start_time": "2022-04-21T11:59:11.034Z"
   },
   {
    "duration": 6,
    "start_time": "2022-04-21T11:59:12.948Z"
   },
   {
    "duration": 16,
    "start_time": "2022-04-21T11:59:12.957Z"
   },
   {
    "duration": 155,
    "start_time": "2022-04-21T11:59:12.975Z"
   },
   {
    "duration": 512,
    "start_time": "2022-04-21T11:59:13.133Z"
   },
   {
    "duration": 8,
    "start_time": "2022-04-21T11:59:13.647Z"
   },
   {
    "duration": 116476,
    "start_time": "2022-04-21T11:59:13.657Z"
   },
   {
    "duration": 1394,
    "start_time": "2022-04-21T12:01:10.135Z"
   },
   {
    "duration": 102,
    "start_time": "2022-04-21T12:01:11.531Z"
   },
   {
    "duration": 1108,
    "start_time": "2022-04-21T12:01:11.635Z"
   },
   {
    "duration": 671,
    "start_time": "2022-04-21T12:01:12.744Z"
   },
   {
    "duration": 8,
    "start_time": "2022-04-21T12:01:13.417Z"
   },
   {
    "duration": 1887,
    "start_time": "2022-04-21T12:14:06.644Z"
   },
   {
    "duration": 18,
    "start_time": "2022-04-21T12:14:10.761Z"
   },
   {
    "duration": 5,
    "start_time": "2022-04-21T12:14:36.420Z"
   },
   {
    "duration": 5,
    "start_time": "2022-04-21T12:14:36.427Z"
   },
   {
    "duration": 691,
    "start_time": "2022-04-21T12:14:36.433Z"
   },
   {
    "duration": 20,
    "start_time": "2022-04-21T12:14:37.126Z"
   },
   {
    "duration": 301,
    "start_time": "2022-04-21T12:14:37.148Z"
   },
   {
    "duration": 12,
    "start_time": "2022-04-21T12:14:37.451Z"
   },
   {
    "duration": 1670,
    "start_time": "2022-04-21T12:14:37.465Z"
   },
   {
    "duration": 1301,
    "start_time": "2022-04-21T12:14:39.137Z"
   },
   {
    "duration": 1481,
    "start_time": "2022-04-21T12:14:40.441Z"
   },
   {
    "duration": 4,
    "start_time": "2022-04-21T12:14:41.924Z"
   },
   {
    "duration": 15,
    "start_time": "2022-04-21T12:14:41.930Z"
   },
   {
    "duration": 176,
    "start_time": "2022-04-21T12:14:41.947Z"
   },
   {
    "duration": 465,
    "start_time": "2022-04-21T12:14:42.126Z"
   },
   {
    "duration": 10,
    "start_time": "2022-04-21T12:14:42.594Z"
   },
   {
    "duration": 114038,
    "start_time": "2022-04-21T12:14:42.606Z"
   },
   {
    "duration": 1383,
    "start_time": "2022-04-21T12:16:36.645Z"
   },
   {
    "duration": 14,
    "start_time": "2022-04-21T12:16:38.030Z"
   },
   {
    "duration": 964,
    "start_time": "2022-04-21T12:16:38.046Z"
   },
   {
    "duration": 632,
    "start_time": "2022-04-21T12:16:39.012Z"
   },
   {
    "duration": 8,
    "start_time": "2022-04-21T12:16:39.646Z"
   },
   {
    "duration": 3205,
    "start_time": "2022-04-21T12:24:25.104Z"
   },
   {
    "duration": 4,
    "start_time": "2022-04-21T12:24:28.311Z"
   },
   {
    "duration": 38,
    "start_time": "2022-04-21T12:24:28.317Z"
   },
   {
    "duration": 27,
    "start_time": "2022-04-21T12:24:28.358Z"
   },
   {
    "duration": 55,
    "start_time": "2022-04-21T12:24:28.387Z"
   },
   {
    "duration": 11,
    "start_time": "2022-04-21T12:24:28.444Z"
   },
   {
    "duration": 1924,
    "start_time": "2022-04-21T12:24:28.457Z"
   },
   {
    "duration": 1330,
    "start_time": "2022-04-21T12:24:30.382Z"
   },
   {
    "duration": 1585,
    "start_time": "2022-04-21T12:24:31.714Z"
   },
   {
    "duration": 5,
    "start_time": "2022-04-21T12:24:33.303Z"
   },
   {
    "duration": 16,
    "start_time": "2022-04-21T12:24:33.310Z"
   },
   {
    "duration": 396,
    "start_time": "2022-04-21T12:24:33.327Z"
   },
   {
    "duration": 446,
    "start_time": "2022-04-21T12:24:33.725Z"
   },
   {
    "duration": 9,
    "start_time": "2022-04-21T12:24:34.174Z"
   },
   {
    "duration": 116254,
    "start_time": "2022-04-21T12:24:34.185Z"
   },
   {
    "duration": 1187,
    "start_time": "2022-04-21T12:26:30.441Z"
   },
   {
    "duration": 17,
    "start_time": "2022-04-21T12:26:31.630Z"
   },
   {
    "duration": 1013,
    "start_time": "2022-04-21T12:26:31.649Z"
   },
   {
    "duration": 782,
    "start_time": "2022-04-21T12:26:32.664Z"
   },
   {
    "duration": 11,
    "start_time": "2022-04-21T12:26:33.448Z"
   },
   {
    "duration": 1092,
    "start_time": "2022-04-21T12:48:32.683Z"
   },
   {
    "duration": 8,
    "start_time": "2022-04-21T12:55:24.669Z"
   },
   {
    "duration": 2270,
    "start_time": "2022-04-21T13:00:02.226Z"
   },
   {
    "duration": 3,
    "start_time": "2022-04-21T13:00:04.499Z"
   },
   {
    "duration": 53,
    "start_time": "2022-04-21T13:00:04.504Z"
   },
   {
    "duration": 20,
    "start_time": "2022-04-21T13:00:04.560Z"
   },
   {
    "duration": 45,
    "start_time": "2022-04-21T13:00:04.582Z"
   },
   {
    "duration": 10,
    "start_time": "2022-04-21T13:00:04.629Z"
   },
   {
    "duration": 1855,
    "start_time": "2022-04-21T13:00:04.641Z"
   },
   {
    "duration": 1392,
    "start_time": "2022-04-21T13:00:06.498Z"
   },
   {
    "duration": 1699,
    "start_time": "2022-04-21T13:00:07.892Z"
   },
   {
    "duration": 5,
    "start_time": "2022-04-21T13:00:09.594Z"
   },
   {
    "duration": 22,
    "start_time": "2022-04-21T13:00:09.601Z"
   },
   {
    "duration": 208,
    "start_time": "2022-04-21T13:00:09.625Z"
   },
   {
    "duration": 645,
    "start_time": "2022-04-21T13:00:09.836Z"
   },
   {
    "duration": 7,
    "start_time": "2022-04-21T13:00:10.483Z"
   },
   {
    "duration": 114719,
    "start_time": "2022-04-21T13:00:10.492Z"
   },
   {
    "duration": 1120,
    "start_time": "2022-04-21T13:02:05.213Z"
   },
   {
    "duration": 99,
    "start_time": "2022-04-21T13:02:06.335Z"
   },
   {
    "duration": 980,
    "start_time": "2022-04-21T13:02:06.436Z"
   },
   {
    "duration": 784,
    "start_time": "2022-04-21T13:02:07.422Z"
   },
   {
    "duration": 16,
    "start_time": "2022-04-21T13:02:08.208Z"
   },
   {
    "duration": 85,
    "start_time": "2022-04-21T13:23:21.137Z"
   },
   {
    "duration": 8,
    "start_time": "2022-04-21T13:23:42.447Z"
   },
   {
    "duration": 3462,
    "start_time": "2022-04-21T13:23:49.149Z"
   },
   {
    "duration": 3,
    "start_time": "2022-04-21T13:23:52.613Z"
   },
   {
    "duration": 84,
    "start_time": "2022-04-21T13:23:52.617Z"
   },
   {
    "duration": 20,
    "start_time": "2022-04-21T13:23:52.704Z"
   },
   {
    "duration": 107,
    "start_time": "2022-04-21T13:23:52.725Z"
   },
   {
    "duration": 66,
    "start_time": "2022-04-21T13:23:52.834Z"
   },
   {
    "duration": 3250,
    "start_time": "2022-04-21T13:23:53.877Z"
   },
   {
    "duration": 2666,
    "start_time": "2022-04-21T13:23:57.129Z"
   },
   {
    "duration": 3873,
    "start_time": "2022-04-21T13:24:07.927Z"
   },
   {
    "duration": 3138,
    "start_time": "2022-04-21T13:24:30.601Z"
   },
   {
    "duration": 1706,
    "start_time": "2022-04-21T13:26:53.761Z"
   },
   {
    "duration": 3,
    "start_time": "2022-04-21T13:26:55.469Z"
   },
   {
    "duration": 31,
    "start_time": "2022-04-21T13:26:55.473Z"
   },
   {
    "duration": 20,
    "start_time": "2022-04-21T13:26:55.506Z"
   },
   {
    "duration": 41,
    "start_time": "2022-04-21T13:26:55.528Z"
   },
   {
    "duration": 30,
    "start_time": "2022-04-21T13:26:55.571Z"
   },
   {
    "duration": 1560,
    "start_time": "2022-04-21T13:26:55.602Z"
   },
   {
    "duration": 1263,
    "start_time": "2022-04-21T13:26:57.164Z"
   },
   {
    "duration": 1375,
    "start_time": "2022-04-21T13:26:58.428Z"
   },
   {
    "duration": 4,
    "start_time": "2022-04-21T13:26:59.806Z"
   },
   {
    "duration": 14,
    "start_time": "2022-04-21T13:26:59.811Z"
   },
   {
    "duration": 79,
    "start_time": "2022-04-21T13:26:59.826Z"
   },
   {
    "duration": 539,
    "start_time": "2022-04-21T13:26:59.907Z"
   },
   {
    "duration": 7,
    "start_time": "2022-04-21T13:27:00.448Z"
   },
   {
    "duration": 105545,
    "start_time": "2022-04-21T13:27:00.457Z"
   },
   {
    "duration": 1497,
    "start_time": "2022-04-21T13:28:46.003Z"
   },
   {
    "duration": 14,
    "start_time": "2022-04-21T13:28:47.592Z"
   },
   {
    "duration": 940,
    "start_time": "2022-04-21T13:28:47.608Z"
   },
   {
    "duration": 757,
    "start_time": "2022-04-21T13:28:48.550Z"
   },
   {
    "duration": 8,
    "start_time": "2022-04-21T13:28:49.309Z"
   },
   {
    "duration": 2848,
    "start_time": "2022-04-21T13:31:52.613Z"
   },
   {
    "duration": 2852,
    "start_time": "2022-04-21T13:32:01.283Z"
   },
   {
    "duration": 2745,
    "start_time": "2022-04-21T13:32:11.575Z"
   },
   {
    "duration": 2841,
    "start_time": "2022-04-21T13:32:21.197Z"
   },
   {
    "duration": 2597,
    "start_time": "2022-04-21T13:34:10.510Z"
   },
   {
    "duration": 2845,
    "start_time": "2022-04-21T13:34:26.427Z"
   },
   {
    "duration": 4,
    "start_time": "2022-04-21T13:34:33.572Z"
   },
   {
    "duration": 3,
    "start_time": "2022-04-21T13:34:33.865Z"
   },
   {
    "duration": 23,
    "start_time": "2022-04-21T13:34:34.026Z"
   },
   {
    "duration": 18,
    "start_time": "2022-04-21T13:34:34.185Z"
   },
   {
    "duration": 41,
    "start_time": "2022-04-21T13:34:34.883Z"
   },
   {
    "duration": 11,
    "start_time": "2022-04-21T13:34:35.520Z"
   },
   {
    "duration": 1558,
    "start_time": "2022-04-21T13:34:36.619Z"
   },
   {
    "duration": 1098,
    "start_time": "2022-04-21T13:34:38.179Z"
   },
   {
    "duration": 1452,
    "start_time": "2022-04-21T13:34:39.279Z"
   },
   {
    "duration": 5,
    "start_time": "2022-04-21T13:34:40.734Z"
   },
   {
    "duration": 2204,
    "start_time": "2022-04-28T07:49:44.583Z"
   },
   {
    "duration": 4,
    "start_time": "2022-04-28T07:49:46.790Z"
   },
   {
    "duration": 41,
    "start_time": "2022-04-28T07:49:46.796Z"
   },
   {
    "duration": 36,
    "start_time": "2022-04-28T07:49:46.840Z"
   },
   {
    "duration": 79,
    "start_time": "2022-04-28T07:49:46.878Z"
   },
   {
    "duration": 16,
    "start_time": "2022-04-28T07:49:46.959Z"
   },
   {
    "duration": 2456,
    "start_time": "2022-04-28T07:49:46.977Z"
   },
   {
    "duration": 1906,
    "start_time": "2022-04-28T07:49:49.436Z"
   },
   {
    "duration": 2023,
    "start_time": "2022-04-28T07:49:51.344Z"
   },
   {
    "duration": 6,
    "start_time": "2022-04-28T07:49:53.370Z"
   },
   {
    "duration": 28,
    "start_time": "2022-04-28T07:49:53.378Z"
   },
   {
    "duration": 251,
    "start_time": "2022-04-28T07:49:53.408Z"
   },
   {
    "duration": 606,
    "start_time": "2022-04-28T07:49:53.662Z"
   },
   {
    "duration": 10,
    "start_time": "2022-04-28T07:49:54.271Z"
   },
   {
    "duration": 157080,
    "start_time": "2022-04-28T07:49:54.283Z"
   },
   {
    "duration": 1794,
    "start_time": "2022-04-28T07:52:31.365Z"
   },
   {
    "duration": 19,
    "start_time": "2022-04-28T07:52:33.161Z"
   },
   {
    "duration": 1556,
    "start_time": "2022-04-28T07:52:33.182Z"
   },
   {
    "duration": 1184,
    "start_time": "2022-04-28T07:52:34.740Z"
   },
   {
    "duration": 25,
    "start_time": "2022-04-28T07:52:35.926Z"
   }
  ],
  "kernelspec": {
   "display_name": "Python 3 (ipykernel)",
   "language": "python",
   "name": "python3"
  },
  "language_info": {
   "codemirror_mode": {
    "name": "ipython",
    "version": 3
   },
   "file_extension": ".py",
   "mimetype": "text/x-python",
   "name": "python",
   "nbconvert_exporter": "python",
   "pygments_lexer": "ipython3",
   "version": "3.9.5"
  },
  "toc": {
   "base_numbering": 1,
   "nav_menu": {},
   "number_sections": true,
   "sideBar": true,
   "skip_h1_title": true,
   "title_cell": "Table of Contents",
   "title_sidebar": "Contents",
   "toc_cell": false,
   "toc_position": {
    "height": "calc(100% - 180px)",
    "left": "10px",
    "top": "150px",
    "width": "165px"
   },
   "toc_section_display": true,
   "toc_window_display": false
  }
 },
 "nbformat": 4,
 "nbformat_minor": 2
}

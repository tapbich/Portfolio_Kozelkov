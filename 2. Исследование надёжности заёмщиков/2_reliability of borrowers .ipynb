{
 "cells": [
  {
   "cell_type": "markdown",
   "metadata": {},
   "source": [
    "# Исследование надёжности заёмщиков\n",
    "\n",
    "Заказчик — кредитный отдел банка. Нужно разобраться, влияет ли семейное положение и количество детей клиента на факт погашения кредита в срок. Входные данные от банка — статистика о платёжеспособности клиентов."
   ]
  },
  {
   "cell_type": "markdown",
   "metadata": {},
   "source": [
    "## Изучим файл с данными и общую информацию"
   ]
  },
  {
   "cell_type": "code",
   "execution_count": 1,
   "metadata": {},
   "outputs": [],
   "source": [
    "import pandas as pd"
   ]
  },
  {
   "cell_type": "code",
   "execution_count": 2,
   "metadata": {},
   "outputs": [
    {
     "data": {
      "text/html": [
       "<div>\n",
       "<style scoped>\n",
       "    .dataframe tbody tr th:only-of-type {\n",
       "        vertical-align: middle;\n",
       "    }\n",
       "\n",
       "    .dataframe tbody tr th {\n",
       "        vertical-align: top;\n",
       "    }\n",
       "\n",
       "    .dataframe thead th {\n",
       "        text-align: right;\n",
       "    }\n",
       "</style>\n",
       "<table border=\"1\" class=\"dataframe\">\n",
       "  <thead>\n",
       "    <tr style=\"text-align: right;\">\n",
       "      <th></th>\n",
       "      <th>children</th>\n",
       "      <th>days_employed</th>\n",
       "      <th>dob_years</th>\n",
       "      <th>education</th>\n",
       "      <th>education_id</th>\n",
       "      <th>family_status</th>\n",
       "      <th>family_status_id</th>\n",
       "      <th>gender</th>\n",
       "      <th>income_type</th>\n",
       "      <th>debt</th>\n",
       "      <th>total_income</th>\n",
       "      <th>purpose</th>\n",
       "    </tr>\n",
       "  </thead>\n",
       "  <tbody>\n",
       "    <tr>\n",
       "      <th>0</th>\n",
       "      <td>1</td>\n",
       "      <td>-8437.673028</td>\n",
       "      <td>42</td>\n",
       "      <td>высшее</td>\n",
       "      <td>0</td>\n",
       "      <td>женат / замужем</td>\n",
       "      <td>0</td>\n",
       "      <td>F</td>\n",
       "      <td>сотрудник</td>\n",
       "      <td>0</td>\n",
       "      <td>253875.639453</td>\n",
       "      <td>покупка жилья</td>\n",
       "    </tr>\n",
       "    <tr>\n",
       "      <th>1</th>\n",
       "      <td>1</td>\n",
       "      <td>-4024.803754</td>\n",
       "      <td>36</td>\n",
       "      <td>среднее</td>\n",
       "      <td>1</td>\n",
       "      <td>женат / замужем</td>\n",
       "      <td>0</td>\n",
       "      <td>F</td>\n",
       "      <td>сотрудник</td>\n",
       "      <td>0</td>\n",
       "      <td>112080.014102</td>\n",
       "      <td>приобретение автомобиля</td>\n",
       "    </tr>\n",
       "    <tr>\n",
       "      <th>2</th>\n",
       "      <td>0</td>\n",
       "      <td>-5623.422610</td>\n",
       "      <td>33</td>\n",
       "      <td>Среднее</td>\n",
       "      <td>1</td>\n",
       "      <td>женат / замужем</td>\n",
       "      <td>0</td>\n",
       "      <td>M</td>\n",
       "      <td>сотрудник</td>\n",
       "      <td>0</td>\n",
       "      <td>145885.952297</td>\n",
       "      <td>покупка жилья</td>\n",
       "    </tr>\n",
       "    <tr>\n",
       "      <th>3</th>\n",
       "      <td>3</td>\n",
       "      <td>-4124.747207</td>\n",
       "      <td>32</td>\n",
       "      <td>среднее</td>\n",
       "      <td>1</td>\n",
       "      <td>женат / замужем</td>\n",
       "      <td>0</td>\n",
       "      <td>M</td>\n",
       "      <td>сотрудник</td>\n",
       "      <td>0</td>\n",
       "      <td>267628.550329</td>\n",
       "      <td>дополнительное образование</td>\n",
       "    </tr>\n",
       "    <tr>\n",
       "      <th>4</th>\n",
       "      <td>0</td>\n",
       "      <td>340266.072047</td>\n",
       "      <td>53</td>\n",
       "      <td>среднее</td>\n",
       "      <td>1</td>\n",
       "      <td>гражданский брак</td>\n",
       "      <td>1</td>\n",
       "      <td>F</td>\n",
       "      <td>пенсионер</td>\n",
       "      <td>0</td>\n",
       "      <td>158616.077870</td>\n",
       "      <td>сыграть свадьбу</td>\n",
       "    </tr>\n",
       "    <tr>\n",
       "      <th>5</th>\n",
       "      <td>0</td>\n",
       "      <td>-926.185831</td>\n",
       "      <td>27</td>\n",
       "      <td>высшее</td>\n",
       "      <td>0</td>\n",
       "      <td>гражданский брак</td>\n",
       "      <td>1</td>\n",
       "      <td>M</td>\n",
       "      <td>компаньон</td>\n",
       "      <td>0</td>\n",
       "      <td>255763.565419</td>\n",
       "      <td>покупка жилья</td>\n",
       "    </tr>\n",
       "    <tr>\n",
       "      <th>6</th>\n",
       "      <td>0</td>\n",
       "      <td>-2879.202052</td>\n",
       "      <td>43</td>\n",
       "      <td>высшее</td>\n",
       "      <td>0</td>\n",
       "      <td>женат / замужем</td>\n",
       "      <td>0</td>\n",
       "      <td>F</td>\n",
       "      <td>компаньон</td>\n",
       "      <td>0</td>\n",
       "      <td>240525.971920</td>\n",
       "      <td>операции с жильем</td>\n",
       "    </tr>\n",
       "    <tr>\n",
       "      <th>7</th>\n",
       "      <td>0</td>\n",
       "      <td>-152.779569</td>\n",
       "      <td>50</td>\n",
       "      <td>СРЕДНЕЕ</td>\n",
       "      <td>1</td>\n",
       "      <td>женат / замужем</td>\n",
       "      <td>0</td>\n",
       "      <td>M</td>\n",
       "      <td>сотрудник</td>\n",
       "      <td>0</td>\n",
       "      <td>135823.934197</td>\n",
       "      <td>образование</td>\n",
       "    </tr>\n",
       "    <tr>\n",
       "      <th>8</th>\n",
       "      <td>2</td>\n",
       "      <td>-6929.865299</td>\n",
       "      <td>35</td>\n",
       "      <td>ВЫСШЕЕ</td>\n",
       "      <td>0</td>\n",
       "      <td>гражданский брак</td>\n",
       "      <td>1</td>\n",
       "      <td>F</td>\n",
       "      <td>сотрудник</td>\n",
       "      <td>0</td>\n",
       "      <td>95856.832424</td>\n",
       "      <td>на проведение свадьбы</td>\n",
       "    </tr>\n",
       "    <tr>\n",
       "      <th>9</th>\n",
       "      <td>0</td>\n",
       "      <td>-2188.756445</td>\n",
       "      <td>41</td>\n",
       "      <td>среднее</td>\n",
       "      <td>1</td>\n",
       "      <td>женат / замужем</td>\n",
       "      <td>0</td>\n",
       "      <td>M</td>\n",
       "      <td>сотрудник</td>\n",
       "      <td>0</td>\n",
       "      <td>144425.938277</td>\n",
       "      <td>покупка жилья для семьи</td>\n",
       "    </tr>\n",
       "  </tbody>\n",
       "</table>\n",
       "</div>"
      ],
      "text/plain": [
       "   children  days_employed  dob_years education  education_id  \\\n",
       "0         1   -8437.673028         42    высшее             0   \n",
       "1         1   -4024.803754         36   среднее             1   \n",
       "2         0   -5623.422610         33   Среднее             1   \n",
       "3         3   -4124.747207         32   среднее             1   \n",
       "4         0  340266.072047         53   среднее             1   \n",
       "5         0    -926.185831         27    высшее             0   \n",
       "6         0   -2879.202052         43    высшее             0   \n",
       "7         0    -152.779569         50   СРЕДНЕЕ             1   \n",
       "8         2   -6929.865299         35    ВЫСШЕЕ             0   \n",
       "9         0   -2188.756445         41   среднее             1   \n",
       "\n",
       "      family_status  family_status_id gender income_type  debt   total_income  \\\n",
       "0   женат / замужем                 0      F   сотрудник     0  253875.639453   \n",
       "1   женат / замужем                 0      F   сотрудник     0  112080.014102   \n",
       "2   женат / замужем                 0      M   сотрудник     0  145885.952297   \n",
       "3   женат / замужем                 0      M   сотрудник     0  267628.550329   \n",
       "4  гражданский брак                 1      F   пенсионер     0  158616.077870   \n",
       "5  гражданский брак                 1      M   компаньон     0  255763.565419   \n",
       "6   женат / замужем                 0      F   компаньон     0  240525.971920   \n",
       "7   женат / замужем                 0      M   сотрудник     0  135823.934197   \n",
       "8  гражданский брак                 1      F   сотрудник     0   95856.832424   \n",
       "9   женат / замужем                 0      M   сотрудник     0  144425.938277   \n",
       "\n",
       "                      purpose  \n",
       "0               покупка жилья  \n",
       "1     приобретение автомобиля  \n",
       "2               покупка жилья  \n",
       "3  дополнительное образование  \n",
       "4             сыграть свадьбу  \n",
       "5               покупка жилья  \n",
       "6           операции с жильем  \n",
       "7                 образование  \n",
       "8       на проведение свадьбы  \n",
       "9     покупка жилья для семьи  "
      ]
     },
     "metadata": {},
     "output_type": "display_data"
    },
    {
     "name": "stdout",
     "output_type": "stream",
     "text": [
      "<class 'pandas.core.frame.DataFrame'>\n",
      "RangeIndex: 21525 entries, 0 to 21524\n",
      "Data columns (total 12 columns):\n",
      " #   Column            Non-Null Count  Dtype  \n",
      "---  ------            --------------  -----  \n",
      " 0   children          21525 non-null  int64  \n",
      " 1   days_employed     19351 non-null  float64\n",
      " 2   dob_years         21525 non-null  int64  \n",
      " 3   education         21525 non-null  object \n",
      " 4   education_id      21525 non-null  int64  \n",
      " 5   family_status     21525 non-null  object \n",
      " 6   family_status_id  21525 non-null  int64  \n",
      " 7   gender            21525 non-null  object \n",
      " 8   income_type       21525 non-null  object \n",
      " 9   debt              21525 non-null  int64  \n",
      " 10  total_income      19351 non-null  float64\n",
      " 11  purpose           21525 non-null  object \n",
      "dtypes: float64(2), int64(5), object(5)\n",
      "memory usage: 2.0+ MB\n"
     ]
    }
   ],
   "source": [
    "data = pd.read_csv(\"/file.csv\")\n",
    "\n",
    "display(data.head(10))\n",
    "data.info()"
   ]
  },
  {
   "cell_type": "markdown",
   "metadata": {},
   "source": [
    "**Вывод** В файле с данными о заемщиках, есть пропуски и возможно неправильный тип данных."
   ]
  },
  {
   "cell_type": "markdown",
   "metadata": {},
   "source": [
    "## Предобработка данных"
   ]
  },
  {
   "cell_type": "markdown",
   "metadata": {},
   "source": [
    "### Обработка пропусков"
   ]
  },
  {
   "cell_type": "code",
   "execution_count": 3,
   "metadata": {},
   "outputs": [
    {
     "data": {
      "text/plain": [
       "count     19351.000000\n",
       "mean      63046.497661\n",
       "std      140827.311974\n",
       "min      -18388.949901\n",
       "25%       -2747.423625\n",
       "50%       -1203.369529\n",
       "75%        -291.095954\n",
       "max      401755.400475\n",
       "Name: days_employed, dtype: float64"
      ]
     },
     "metadata": {},
     "output_type": "display_data"
    }
   ],
   "source": [
    "# Изучим столбец \"days_employed\"\n",
    "display(data.days_employed.describe())"
   ]
  },
  {
   "cell_type": "code",
   "execution_count": 4,
   "metadata": {},
   "outputs": [],
   "source": [
    "# Приведем столбец \"days_employed\" в днях к нормальному виду (будем считать , что значение больше 22000 существовать не может,\n",
    "# соотвественно это часы, переведем эти занчения в дни)\n",
    "data.loc[(data['days_employed'] >22000), 'days_employed'] = data.loc[(data['days_employed'] >22000), 'days_employed'] / 24"
   ]
  },
  {
   "cell_type": "code",
   "execution_count": 5,
   "metadata": {},
   "outputs": [],
   "source": [
    "# Округлим зарплату до сотых\n",
    "data['total_income'] = round(data['total_income'].abs(), 2)"
   ]
  },
  {
   "cell_type": "code",
   "execution_count": 6,
   "metadata": {},
   "outputs": [
    {
     "name": "stdout",
     "output_type": "stream",
     "text": [
      "Пропусков в колонке days_employed:  0\n"
     ]
    }
   ],
   "source": [
    "# В колонках 'days_employed' и 'total_income' есть пропуски, поправим это:\n",
    "data.loc[data['days_employed'].isna(),'days_employed'] = data['days_employed'].median()\n",
    "data['days_employed'] = data['days_employed'].abs().astype('int') # округлим и уберем отрицательные значения\n",
    "print('Пропусков в колонке days_employed: ', data['days_employed'].isna().sum())"
   ]
  },
  {
   "cell_type": "code",
   "execution_count": 7,
   "metadata": {},
   "outputs": [
    {
     "name": "stdout",
     "output_type": "stream",
     "text": [
      "Пропусков в колонке total_income:  0\n"
     ]
    }
   ],
   "source": [
    "# Cформируем сводную табличку с группировкой по типу занятости и измерением медианного дохода\n",
    "group_income = data.groupby('income_type')['total_income'].median()\n",
    "# заполним пропуски на медианный доход, основываясь на типе занятости\n",
    "for i in group_income.index: \n",
    "    data.loc[(data['income_type'] == i) & (data['total_income'].isnull()), 'total_income'] = group_income[i]\n",
    "    \n",
    "print('Пропусков в колонке total_income: ',data['total_income'].isna().sum())"
   ]
  },
  {
   "cell_type": "code",
   "execution_count": 8,
   "metadata": {},
   "outputs": [
    {
     "name": "stdout",
     "output_type": "stream",
     "text": [
      "<class 'pandas.core.frame.DataFrame'>\n",
      "RangeIndex: 21525 entries, 0 to 21524\n",
      "Data columns (total 12 columns):\n",
      " #   Column            Non-Null Count  Dtype  \n",
      "---  ------            --------------  -----  \n",
      " 0   children          21525 non-null  int64  \n",
      " 1   days_employed     21525 non-null  int64  \n",
      " 2   dob_years         21525 non-null  int64  \n",
      " 3   education         21525 non-null  object \n",
      " 4   education_id      21525 non-null  int64  \n",
      " 5   family_status     21525 non-null  object \n",
      " 6   family_status_id  21525 non-null  int64  \n",
      " 7   gender            21525 non-null  object \n",
      " 8   income_type       21525 non-null  object \n",
      " 9   debt              21525 non-null  int64  \n",
      " 10  total_income      21525 non-null  float64\n",
      " 11  purpose           21525 non-null  object \n",
      "dtypes: float64(1), int64(6), object(5)\n",
      "memory usage: 2.0+ MB\n"
     ]
    }
   ],
   "source": [
    "data.info() # Снова проверим датафрейм"
   ]
  },
  {
   "cell_type": "markdown",
   "metadata": {},
   "source": [
    "**Вывод** \n",
    "\n",
    "Прежде чем заполнять пропуски по стажу ('days_employed'), приведем данные в порядок. \n",
    "- Положительные значения слишком велики, скорее всего они в часах, для нашей выборки я считаю что больше 22000 дней стаж быть не может. \n",
    "- Отрицательные выглядят одеватно и эти данные просто возьмем по модклю. \n",
    "\n",
    "Для заполнения пропусков в колонке доход ('income_type') сгруппируем данные по типу занятости и относительно этих групп заполним медианными занчениями пропуски.\n",
    "\n",
    "\n",
    "Убираем пропуски и теперь видно, что в колонках 'days_employed' и 'total_income' пропуски заменены на средние значения"
   ]
  },
  {
   "cell_type": "markdown",
   "metadata": {},
   "source": [
    "### Замена типа данных"
   ]
  },
  {
   "cell_type": "code",
   "execution_count": 9,
   "metadata": {},
   "outputs": [
    {
     "data": {
      "text/html": [
       "<div>\n",
       "<style scoped>\n",
       "    .dataframe tbody tr th:only-of-type {\n",
       "        vertical-align: middle;\n",
       "    }\n",
       "\n",
       "    .dataframe tbody tr th {\n",
       "        vertical-align: top;\n",
       "    }\n",
       "\n",
       "    .dataframe thead th {\n",
       "        text-align: right;\n",
       "    }\n",
       "</style>\n",
       "<table border=\"1\" class=\"dataframe\">\n",
       "  <thead>\n",
       "    <tr style=\"text-align: right;\">\n",
       "      <th></th>\n",
       "      <th>children</th>\n",
       "      <th>days_employed</th>\n",
       "      <th>dob_years</th>\n",
       "      <th>education</th>\n",
       "      <th>education_id</th>\n",
       "      <th>family_status</th>\n",
       "      <th>family_status_id</th>\n",
       "      <th>gender</th>\n",
       "      <th>income_type</th>\n",
       "      <th>debt</th>\n",
       "      <th>total_income</th>\n",
       "      <th>purpose</th>\n",
       "    </tr>\n",
       "  </thead>\n",
       "  <tbody>\n",
       "    <tr>\n",
       "      <th>0</th>\n",
       "      <td>1</td>\n",
       "      <td>8437</td>\n",
       "      <td>42</td>\n",
       "      <td>высшее</td>\n",
       "      <td>0</td>\n",
       "      <td>женат / замужем</td>\n",
       "      <td>0</td>\n",
       "      <td>F</td>\n",
       "      <td>сотрудник</td>\n",
       "      <td>0</td>\n",
       "      <td>253875</td>\n",
       "      <td>покупка жилья</td>\n",
       "    </tr>\n",
       "    <tr>\n",
       "      <th>1</th>\n",
       "      <td>1</td>\n",
       "      <td>4024</td>\n",
       "      <td>36</td>\n",
       "      <td>среднее</td>\n",
       "      <td>1</td>\n",
       "      <td>женат / замужем</td>\n",
       "      <td>0</td>\n",
       "      <td>F</td>\n",
       "      <td>сотрудник</td>\n",
       "      <td>0</td>\n",
       "      <td>112080</td>\n",
       "      <td>приобретение автомобиля</td>\n",
       "    </tr>\n",
       "    <tr>\n",
       "      <th>2</th>\n",
       "      <td>0</td>\n",
       "      <td>5623</td>\n",
       "      <td>33</td>\n",
       "      <td>среднее</td>\n",
       "      <td>1</td>\n",
       "      <td>женат / замужем</td>\n",
       "      <td>0</td>\n",
       "      <td>M</td>\n",
       "      <td>сотрудник</td>\n",
       "      <td>0</td>\n",
       "      <td>145885</td>\n",
       "      <td>покупка жилья</td>\n",
       "    </tr>\n",
       "    <tr>\n",
       "      <th>3</th>\n",
       "      <td>3</td>\n",
       "      <td>4124</td>\n",
       "      <td>32</td>\n",
       "      <td>среднее</td>\n",
       "      <td>1</td>\n",
       "      <td>женат / замужем</td>\n",
       "      <td>0</td>\n",
       "      <td>M</td>\n",
       "      <td>сотрудник</td>\n",
       "      <td>0</td>\n",
       "      <td>267628</td>\n",
       "      <td>дополнительное образование</td>\n",
       "    </tr>\n",
       "    <tr>\n",
       "      <th>4</th>\n",
       "      <td>0</td>\n",
       "      <td>14177</td>\n",
       "      <td>53</td>\n",
       "      <td>среднее</td>\n",
       "      <td>1</td>\n",
       "      <td>гражданский брак</td>\n",
       "      <td>1</td>\n",
       "      <td>F</td>\n",
       "      <td>пенсионер</td>\n",
       "      <td>0</td>\n",
       "      <td>158616</td>\n",
       "      <td>сыграть свадьбу</td>\n",
       "    </tr>\n",
       "    <tr>\n",
       "      <th>...</th>\n",
       "      <td>...</td>\n",
       "      <td>...</td>\n",
       "      <td>...</td>\n",
       "      <td>...</td>\n",
       "      <td>...</td>\n",
       "      <td>...</td>\n",
       "      <td>...</td>\n",
       "      <td>...</td>\n",
       "      <td>...</td>\n",
       "      <td>...</td>\n",
       "      <td>...</td>\n",
       "      <td>...</td>\n",
       "    </tr>\n",
       "    <tr>\n",
       "      <th>21520</th>\n",
       "      <td>1</td>\n",
       "      <td>4529</td>\n",
       "      <td>43</td>\n",
       "      <td>среднее</td>\n",
       "      <td>1</td>\n",
       "      <td>гражданский брак</td>\n",
       "      <td>1</td>\n",
       "      <td>F</td>\n",
       "      <td>компаньон</td>\n",
       "      <td>0</td>\n",
       "      <td>224791</td>\n",
       "      <td>операции с жильем</td>\n",
       "    </tr>\n",
       "    <tr>\n",
       "      <th>21521</th>\n",
       "      <td>0</td>\n",
       "      <td>14330</td>\n",
       "      <td>67</td>\n",
       "      <td>среднее</td>\n",
       "      <td>1</td>\n",
       "      <td>женат / замужем</td>\n",
       "      <td>0</td>\n",
       "      <td>F</td>\n",
       "      <td>пенсионер</td>\n",
       "      <td>0</td>\n",
       "      <td>155999</td>\n",
       "      <td>сделка с автомобилем</td>\n",
       "    </tr>\n",
       "    <tr>\n",
       "      <th>21522</th>\n",
       "      <td>1</td>\n",
       "      <td>2113</td>\n",
       "      <td>38</td>\n",
       "      <td>среднее</td>\n",
       "      <td>1</td>\n",
       "      <td>гражданский брак</td>\n",
       "      <td>1</td>\n",
       "      <td>M</td>\n",
       "      <td>сотрудник</td>\n",
       "      <td>1</td>\n",
       "      <td>89672</td>\n",
       "      <td>недвижимость</td>\n",
       "    </tr>\n",
       "    <tr>\n",
       "      <th>21523</th>\n",
       "      <td>3</td>\n",
       "      <td>3112</td>\n",
       "      <td>38</td>\n",
       "      <td>среднее</td>\n",
       "      <td>1</td>\n",
       "      <td>женат / замужем</td>\n",
       "      <td>0</td>\n",
       "      <td>M</td>\n",
       "      <td>сотрудник</td>\n",
       "      <td>1</td>\n",
       "      <td>244093</td>\n",
       "      <td>на покупку своего автомобиля</td>\n",
       "    </tr>\n",
       "    <tr>\n",
       "      <th>21524</th>\n",
       "      <td>2</td>\n",
       "      <td>1984</td>\n",
       "      <td>40</td>\n",
       "      <td>среднее</td>\n",
       "      <td>1</td>\n",
       "      <td>женат / замужем</td>\n",
       "      <td>0</td>\n",
       "      <td>F</td>\n",
       "      <td>сотрудник</td>\n",
       "      <td>0</td>\n",
       "      <td>82047</td>\n",
       "      <td>на покупку автомобиля</td>\n",
       "    </tr>\n",
       "  </tbody>\n",
       "</table>\n",
       "<p>21525 rows × 12 columns</p>\n",
       "</div>"
      ],
      "text/plain": [
       "       children  days_employed  dob_years education  education_id  \\\n",
       "0             1           8437         42    высшее             0   \n",
       "1             1           4024         36   среднее             1   \n",
       "2             0           5623         33   среднее             1   \n",
       "3             3           4124         32   среднее             1   \n",
       "4             0          14177         53   среднее             1   \n",
       "...         ...            ...        ...       ...           ...   \n",
       "21520         1           4529         43   среднее             1   \n",
       "21521         0          14330         67   среднее             1   \n",
       "21522         1           2113         38   среднее             1   \n",
       "21523         3           3112         38   среднее             1   \n",
       "21524         2           1984         40   среднее             1   \n",
       "\n",
       "          family_status  family_status_id gender income_type  debt  \\\n",
       "0       женат / замужем                 0      F   сотрудник     0   \n",
       "1       женат / замужем                 0      F   сотрудник     0   \n",
       "2       женат / замужем                 0      M   сотрудник     0   \n",
       "3       женат / замужем                 0      M   сотрудник     0   \n",
       "4      гражданский брак                 1      F   пенсионер     0   \n",
       "...                 ...               ...    ...         ...   ...   \n",
       "21520  гражданский брак                 1      F   компаньон     0   \n",
       "21521   женат / замужем                 0      F   пенсионер     0   \n",
       "21522  гражданский брак                 1      M   сотрудник     1   \n",
       "21523   женат / замужем                 0      M   сотрудник     1   \n",
       "21524   женат / замужем                 0      F   сотрудник     0   \n",
       "\n",
       "       total_income                       purpose  \n",
       "0            253875                 покупка жилья  \n",
       "1            112080       приобретение автомобиля  \n",
       "2            145885                 покупка жилья  \n",
       "3            267628    дополнительное образование  \n",
       "4            158616               сыграть свадьбу  \n",
       "...             ...                           ...  \n",
       "21520        224791             операции с жильем  \n",
       "21521        155999          сделка с автомобилем  \n",
       "21522         89672                  недвижимость  \n",
       "21523        244093  на покупку своего автомобиля  \n",
       "21524         82047         на покупку автомобиля  \n",
       "\n",
       "[21525 rows x 12 columns]"
      ]
     },
     "metadata": {},
     "output_type": "display_data"
    },
    {
     "name": "stdout",
     "output_type": "stream",
     "text": [
      "<class 'pandas.core.frame.DataFrame'>\n",
      "RangeIndex: 21525 entries, 0 to 21524\n",
      "Data columns (total 12 columns):\n",
      " #   Column            Non-Null Count  Dtype \n",
      "---  ------            --------------  ----- \n",
      " 0   children          21525 non-null  int64 \n",
      " 1   days_employed     21525 non-null  int64 \n",
      " 2   dob_years         21525 non-null  int64 \n",
      " 3   education         21525 non-null  object\n",
      " 4   education_id      21525 non-null  int64 \n",
      " 5   family_status     21525 non-null  object\n",
      " 6   family_status_id  21525 non-null  int64 \n",
      " 7   gender            21525 non-null  object\n",
      " 8   income_type       21525 non-null  object\n",
      " 9   debt              21525 non-null  int64 \n",
      " 10  total_income      21525 non-null  int64 \n",
      " 11  purpose           21525 non-null  object\n",
      "dtypes: int64(7), object(5)\n",
      "memory usage: 2.0+ MB\n",
      "None\n"
     ]
    }
   ],
   "source": [
    "# Видно, что данные не однородны: разный регистр,возможно единица измерения,отрицательные данные, неверные данные. \n",
    "# Исправим это:\n",
    "# С помощью цикла приведем строки к нижнему регистру\n",
    "for col in data:\n",
    "    try:\n",
    "        data[col] = data[col].str.lower()\n",
    "    except AttributeError:\n",
    "        pass\n",
    "    \n",
    "data['gender'] = data['gender'].str.upper() # Столбец гендер сделаем с верхним регистром\n",
    "\n",
    "# Поправим значения в колорнке 'children'        \n",
    "data.loc[(data['children'] == 20), 'children'] = 2 # предположим опечатка\n",
    "data.loc[(data['children'] == -1), 'children'] = 0 # предположим системная ошиюка\n",
    "\n",
    "# Поправим занчения в колонке 'gender'\n",
    "data.loc[(data['gender'] == 'XNA'), 'gender'] = 'F' # поменяем некорректное занчение на значение \n",
    "\n",
    "# Поправим занчения  \"0\" в колонке 'dob_years' на средний возраст\n",
    "data.loc[(data['dob_years'] == 0), 'dob_years'] = data['dob_years'].mean().astype('int')\n",
    "\n",
    "# Заменим вещественный тип данных в столбце total_income на целочисленный\n",
    "data['total_income'] = data['total_income'].astype('int')\n",
    "\n",
    "display(data)\n",
    "print(data.info())"
   ]
  },
  {
   "cell_type": "markdown",
   "metadata": {},
   "source": [
    "**Вывод** Теперь данные более однородны и приведены в порядок"
   ]
  },
  {
   "cell_type": "markdown",
   "metadata": {},
   "source": [
    "### Работа с дубликатами"
   ]
  },
  {
   "cell_type": "code",
   "execution_count": 10,
   "metadata": {},
   "outputs": [
    {
     "name": "stdout",
     "output_type": "stream",
     "text": [
      "Количество дубликатов до:  71\n",
      "Количество дубликатов после:  0\n"
     ]
    }
   ],
   "source": [
    "# Проверим таблицу на дубликаты и удалим их.\n",
    "print('Количество дубликатов до: ', data.duplicated().sum())\n",
    "\n",
    "data = data.drop_duplicates() #удаляем дубликаты\n",
    "\n",
    "print('Количество дубликатов после: ', data.duplicated().reset_index(drop = True).sum())\n"
   ]
  },
  {
   "cell_type": "markdown",
   "metadata": {},
   "source": [
    "**Вывод** Дубликаты удалены."
   ]
  },
  {
   "cell_type": "markdown",
   "metadata": {},
   "source": [
    "### Лемматизация"
   ]
  },
  {
   "cell_type": "code",
   "execution_count": 11,
   "metadata": {},
   "outputs": [
    {
     "data": {
      "text/plain": [
       "Counter({'покупка': 10,\n",
       "         ' ': 96,\n",
       "         'жилье': 7,\n",
       "         'приобретение': 1,\n",
       "         'автомобиль': 9,\n",
       "         'дополнительный': 2,\n",
       "         'образование': 9,\n",
       "         'сыграть': 1,\n",
       "         'свадьба': 3,\n",
       "         'операция': 4,\n",
       "         'с': 5,\n",
       "         'на': 4,\n",
       "         'проведение': 1,\n",
       "         'для': 2,\n",
       "         'семья': 1,\n",
       "         'недвижимость': 10,\n",
       "         'коммерческий': 2,\n",
       "         'жилой': 2,\n",
       "         'строительство': 3,\n",
       "         'собственный': 1,\n",
       "         'подержать': 2,\n",
       "         'свой': 4,\n",
       "         'со': 1,\n",
       "         'заниматься': 2,\n",
       "         'сделка': 2,\n",
       "         'получение': 3,\n",
       "         'высокий': 3,\n",
       "         'профильный': 1,\n",
       "         'сдача': 1,\n",
       "         'ремонт': 1,\n",
       "         '\\n': 1})"
      ]
     },
     "execution_count": 11,
     "metadata": {},
     "output_type": "execute_result"
    }
   ],
   "source": [
    "# В столбце \"purpose\" одни и те же данные могут называться по разному или похоже, проверим.\n",
    "# Применим Лемматизацию к столбцу \"purpose\"\n",
    "from pymystem3 import Mystem\n",
    "m = Mystem() \n",
    "\n",
    "lemmas = m.lemmatize(' '.join(data['purpose'].unique()))\n",
    "from collections import Counter\n",
    "Counter(lemmas)"
   ]
  },
  {
   "cell_type": "markdown",
   "metadata": {},
   "source": [
    "**Вывод**  Видно, что данные указывались в свободном стиле и нуждаются в категоризации т.к. одно и тоже может называться по разному."
   ]
  },
  {
   "cell_type": "markdown",
   "metadata": {},
   "source": [
    "### Категоризация данных"
   ]
  },
  {
   "cell_type": "code",
   "execution_count": 12,
   "metadata": {},
   "outputs": [
    {
     "data": {
      "text/html": [
       "<div>\n",
       "<style scoped>\n",
       "    .dataframe tbody tr th:only-of-type {\n",
       "        vertical-align: middle;\n",
       "    }\n",
       "\n",
       "    .dataframe tbody tr th {\n",
       "        vertical-align: top;\n",
       "    }\n",
       "\n",
       "    .dataframe thead th {\n",
       "        text-align: right;\n",
       "    }\n",
       "</style>\n",
       "<table border=\"1\" class=\"dataframe\">\n",
       "  <thead>\n",
       "    <tr style=\"text-align: right;\">\n",
       "      <th></th>\n",
       "      <th>children</th>\n",
       "      <th>days_employed</th>\n",
       "      <th>dob_years</th>\n",
       "      <th>education</th>\n",
       "      <th>education_id</th>\n",
       "      <th>family_status</th>\n",
       "      <th>family_status_id</th>\n",
       "      <th>gender</th>\n",
       "      <th>income_type</th>\n",
       "      <th>debt</th>\n",
       "      <th>total_income</th>\n",
       "      <th>purpose</th>\n",
       "      <th>purpose_category</th>\n",
       "    </tr>\n",
       "  </thead>\n",
       "  <tbody>\n",
       "    <tr>\n",
       "      <th>0</th>\n",
       "      <td>1</td>\n",
       "      <td>8437</td>\n",
       "      <td>42</td>\n",
       "      <td>высшее</td>\n",
       "      <td>0</td>\n",
       "      <td>женат / замужем</td>\n",
       "      <td>0</td>\n",
       "      <td>F</td>\n",
       "      <td>сотрудник</td>\n",
       "      <td>0</td>\n",
       "      <td>253875</td>\n",
       "      <td>покупка жилья</td>\n",
       "      <td>недвижимость</td>\n",
       "    </tr>\n",
       "    <tr>\n",
       "      <th>1</th>\n",
       "      <td>1</td>\n",
       "      <td>4024</td>\n",
       "      <td>36</td>\n",
       "      <td>среднее</td>\n",
       "      <td>1</td>\n",
       "      <td>женат / замужем</td>\n",
       "      <td>0</td>\n",
       "      <td>F</td>\n",
       "      <td>сотрудник</td>\n",
       "      <td>0</td>\n",
       "      <td>112080</td>\n",
       "      <td>приобретение автомобиля</td>\n",
       "      <td>автомобиль</td>\n",
       "    </tr>\n",
       "    <tr>\n",
       "      <th>2</th>\n",
       "      <td>0</td>\n",
       "      <td>5623</td>\n",
       "      <td>33</td>\n",
       "      <td>среднее</td>\n",
       "      <td>1</td>\n",
       "      <td>женат / замужем</td>\n",
       "      <td>0</td>\n",
       "      <td>M</td>\n",
       "      <td>сотрудник</td>\n",
       "      <td>0</td>\n",
       "      <td>145885</td>\n",
       "      <td>покупка жилья</td>\n",
       "      <td>недвижимость</td>\n",
       "    </tr>\n",
       "    <tr>\n",
       "      <th>3</th>\n",
       "      <td>3</td>\n",
       "      <td>4124</td>\n",
       "      <td>32</td>\n",
       "      <td>среднее</td>\n",
       "      <td>1</td>\n",
       "      <td>женат / замужем</td>\n",
       "      <td>0</td>\n",
       "      <td>M</td>\n",
       "      <td>сотрудник</td>\n",
       "      <td>0</td>\n",
       "      <td>267628</td>\n",
       "      <td>дополнительное образование</td>\n",
       "      <td>образование</td>\n",
       "    </tr>\n",
       "    <tr>\n",
       "      <th>4</th>\n",
       "      <td>0</td>\n",
       "      <td>14177</td>\n",
       "      <td>53</td>\n",
       "      <td>среднее</td>\n",
       "      <td>1</td>\n",
       "      <td>гражданский брак</td>\n",
       "      <td>1</td>\n",
       "      <td>F</td>\n",
       "      <td>пенсионер</td>\n",
       "      <td>0</td>\n",
       "      <td>158616</td>\n",
       "      <td>сыграть свадьбу</td>\n",
       "      <td>свадьба</td>\n",
       "    </tr>\n",
       "    <tr>\n",
       "      <th>...</th>\n",
       "      <td>...</td>\n",
       "      <td>...</td>\n",
       "      <td>...</td>\n",
       "      <td>...</td>\n",
       "      <td>...</td>\n",
       "      <td>...</td>\n",
       "      <td>...</td>\n",
       "      <td>...</td>\n",
       "      <td>...</td>\n",
       "      <td>...</td>\n",
       "      <td>...</td>\n",
       "      <td>...</td>\n",
       "      <td>...</td>\n",
       "    </tr>\n",
       "    <tr>\n",
       "      <th>21520</th>\n",
       "      <td>1</td>\n",
       "      <td>4529</td>\n",
       "      <td>43</td>\n",
       "      <td>среднее</td>\n",
       "      <td>1</td>\n",
       "      <td>гражданский брак</td>\n",
       "      <td>1</td>\n",
       "      <td>F</td>\n",
       "      <td>компаньон</td>\n",
       "      <td>0</td>\n",
       "      <td>224791</td>\n",
       "      <td>операции с жильем</td>\n",
       "      <td>недвижимость</td>\n",
       "    </tr>\n",
       "    <tr>\n",
       "      <th>21521</th>\n",
       "      <td>0</td>\n",
       "      <td>14330</td>\n",
       "      <td>67</td>\n",
       "      <td>среднее</td>\n",
       "      <td>1</td>\n",
       "      <td>женат / замужем</td>\n",
       "      <td>0</td>\n",
       "      <td>F</td>\n",
       "      <td>пенсионер</td>\n",
       "      <td>0</td>\n",
       "      <td>155999</td>\n",
       "      <td>сделка с автомобилем</td>\n",
       "      <td>автомобиль</td>\n",
       "    </tr>\n",
       "    <tr>\n",
       "      <th>21522</th>\n",
       "      <td>1</td>\n",
       "      <td>2113</td>\n",
       "      <td>38</td>\n",
       "      <td>среднее</td>\n",
       "      <td>1</td>\n",
       "      <td>гражданский брак</td>\n",
       "      <td>1</td>\n",
       "      <td>M</td>\n",
       "      <td>сотрудник</td>\n",
       "      <td>1</td>\n",
       "      <td>89672</td>\n",
       "      <td>недвижимость</td>\n",
       "      <td>недвижимость</td>\n",
       "    </tr>\n",
       "    <tr>\n",
       "      <th>21523</th>\n",
       "      <td>3</td>\n",
       "      <td>3112</td>\n",
       "      <td>38</td>\n",
       "      <td>среднее</td>\n",
       "      <td>1</td>\n",
       "      <td>женат / замужем</td>\n",
       "      <td>0</td>\n",
       "      <td>M</td>\n",
       "      <td>сотрудник</td>\n",
       "      <td>1</td>\n",
       "      <td>244093</td>\n",
       "      <td>на покупку своего автомобиля</td>\n",
       "      <td>автомобиль</td>\n",
       "    </tr>\n",
       "    <tr>\n",
       "      <th>21524</th>\n",
       "      <td>2</td>\n",
       "      <td>1984</td>\n",
       "      <td>40</td>\n",
       "      <td>среднее</td>\n",
       "      <td>1</td>\n",
       "      <td>женат / замужем</td>\n",
       "      <td>0</td>\n",
       "      <td>F</td>\n",
       "      <td>сотрудник</td>\n",
       "      <td>0</td>\n",
       "      <td>82047</td>\n",
       "      <td>на покупку автомобиля</td>\n",
       "      <td>автомобиль</td>\n",
       "    </tr>\n",
       "  </tbody>\n",
       "</table>\n",
       "<p>21454 rows × 13 columns</p>\n",
       "</div>"
      ],
      "text/plain": [
       "       children  days_employed  dob_years education  education_id  \\\n",
       "0             1           8437         42    высшее             0   \n",
       "1             1           4024         36   среднее             1   \n",
       "2             0           5623         33   среднее             1   \n",
       "3             3           4124         32   среднее             1   \n",
       "4             0          14177         53   среднее             1   \n",
       "...         ...            ...        ...       ...           ...   \n",
       "21520         1           4529         43   среднее             1   \n",
       "21521         0          14330         67   среднее             1   \n",
       "21522         1           2113         38   среднее             1   \n",
       "21523         3           3112         38   среднее             1   \n",
       "21524         2           1984         40   среднее             1   \n",
       "\n",
       "          family_status  family_status_id gender income_type  debt  \\\n",
       "0       женат / замужем                 0      F   сотрудник     0   \n",
       "1       женат / замужем                 0      F   сотрудник     0   \n",
       "2       женат / замужем                 0      M   сотрудник     0   \n",
       "3       женат / замужем                 0      M   сотрудник     0   \n",
       "4      гражданский брак                 1      F   пенсионер     0   \n",
       "...                 ...               ...    ...         ...   ...   \n",
       "21520  гражданский брак                 1      F   компаньон     0   \n",
       "21521   женат / замужем                 0      F   пенсионер     0   \n",
       "21522  гражданский брак                 1      M   сотрудник     1   \n",
       "21523   женат / замужем                 0      M   сотрудник     1   \n",
       "21524   женат / замужем                 0      F   сотрудник     0   \n",
       "\n",
       "       total_income                       purpose purpose_category  \n",
       "0            253875                 покупка жилья     недвижимость  \n",
       "1            112080       приобретение автомобиля       автомобиль  \n",
       "2            145885                 покупка жилья     недвижимость  \n",
       "3            267628    дополнительное образование      образование  \n",
       "4            158616               сыграть свадьбу          свадьба  \n",
       "...             ...                           ...              ...  \n",
       "21520        224791             операции с жильем     недвижимость  \n",
       "21521        155999          сделка с автомобилем       автомобиль  \n",
       "21522         89672                  недвижимость     недвижимость  \n",
       "21523        244093  на покупку своего автомобиля       автомобиль  \n",
       "21524         82047         на покупку автомобиля       автомобиль  \n",
       "\n",
       "[21454 rows x 13 columns]"
      ]
     },
     "metadata": {},
     "output_type": "display_data"
    },
    {
     "name": "stdout",
     "output_type": "stream",
     "text": [
      "недвижимость    10811\n",
      "автомобиль       4306\n",
      "образование      4013\n",
      "свадьба          2324\n",
      "Name: purpose_category, dtype: int64\n"
     ]
    }
   ],
   "source": [
    "# Напишем функцию для разбивки по лемам на основные категории\n",
    "def category(value):\n",
    "    lemmas = m.lemmatize(value)\n",
    "    if 'недвижимость' in lemmas:\n",
    "        return 'недвижимость'\n",
    "    if 'жилье' in lemmas:\n",
    "        return 'недвижимость'    \n",
    "    if 'автомобиль' in lemmas:\n",
    "        return 'автомобиль'\n",
    "    if 'образование' in lemmas:\n",
    "        return 'образование'\n",
    "    if 'свадьба' in lemmas:\n",
    "        return 'свадьба'\n",
    "    return 'прочее'\n",
    "\n",
    "# Добавим новый столбец\n",
    "data['purpose_category'] = data['purpose'].apply(category)\n",
    "\n",
    "display(data)\n",
    "print(data['purpose_category'].value_counts())"
   ]
  },
  {
   "cell_type": "markdown",
   "metadata": {},
   "source": [
    "**Вывод** Теперь все выглядит аккуратно и разбито на категории. Видно , что Заемщики чаще всего берут кредиты для сделок с недвижимостью. А в категорию \"Прочее\" не чего не вошло."
   ]
  },
  {
   "cell_type": "markdown",
   "metadata": {},
   "source": [
    "## Ответим на вопросы"
   ]
  },
  {
   "cell_type": "markdown",
   "metadata": {},
   "source": [
    "**1. Есть ли зависимость между наличием детей и возвратом кредита в срок?**"
   ]
  },
  {
   "cell_type": "code",
   "execution_count": 13,
   "metadata": {},
   "outputs": [
    {
     "data": {
      "text/html": [
       "<div>\n",
       "<style scoped>\n",
       "    .dataframe tbody tr th:only-of-type {\n",
       "        vertical-align: middle;\n",
       "    }\n",
       "\n",
       "    .dataframe tbody tr th {\n",
       "        vertical-align: top;\n",
       "    }\n",
       "\n",
       "    .dataframe thead th {\n",
       "        text-align: right;\n",
       "    }\n",
       "</style>\n",
       "<table border=\"1\" class=\"dataframe\">\n",
       "  <thead>\n",
       "    <tr style=\"text-align: right;\">\n",
       "      <th></th>\n",
       "      <th>no debt</th>\n",
       "      <th>debt</th>\n",
       "      <th>%</th>\n",
       "    </tr>\n",
       "    <tr>\n",
       "      <th>children_category</th>\n",
       "      <th></th>\n",
       "      <th></th>\n",
       "      <th></th>\n",
       "    </tr>\n",
       "  </thead>\n",
       "  <tbody>\n",
       "    <tr>\n",
       "      <th>Заёмщики без детей</th>\n",
       "      <td>13074</td>\n",
       "      <td>1064</td>\n",
       "      <td>7.53</td>\n",
       "    </tr>\n",
       "    <tr>\n",
       "      <th>Заёмщики с детьми</th>\n",
       "      <td>6639</td>\n",
       "      <td>677</td>\n",
       "      <td>9.25</td>\n",
       "    </tr>\n",
       "  </tbody>\n",
       "</table>\n",
       "</div>"
      ],
      "text/plain": [
       "                    no debt  debt     %\n",
       "children_category                      \n",
       "Заёмщики без детей    13074  1064  7.53\n",
       "Заёмщики с детьми      6639   677  9.25"
      ]
     },
     "metadata": {},
     "output_type": "display_data"
    }
   ],
   "source": [
    "# напишем функцию для разделения на категории\n",
    "def categ(value):\n",
    "    if value == 0:\n",
    "        return 'Заёмщики без детей'\n",
    "    else:\n",
    "        return 'Заёмщики с детьми'\n",
    "\n",
    "# Добавим новый столбец\n",
    "data['children_category'] = data['children'].apply(categ)\n",
    "# сгруппируем таблицу     \n",
    "report = data.pivot_table(index = 'children_category', columns = 'debt', values = 'total_income', aggfunc = 'count')\n",
    "report.columns = ['no debt', 'debt']\n",
    "# добавим доли\n",
    "report['%'] = round(report['debt']*100/(report['debt'] +  report['no debt']), 2)\n",
    "display(report)"
   ]
  },
  {
   "cell_type": "markdown",
   "metadata": {},
   "source": [
    "**Вывод** Судя по сводной таблице процент не возвратов в срок среди заемщиков с детьми выше."
   ]
  },
  {
   "cell_type": "markdown",
   "metadata": {},
   "source": [
    "**2. Есть ли зависимость между семейным положением и возвратом кредита в срок?**"
   ]
  },
  {
   "cell_type": "code",
   "execution_count": 14,
   "metadata": {},
   "outputs": [
    {
     "data": {
      "text/html": [
       "<div>\n",
       "<style scoped>\n",
       "    .dataframe tbody tr th:only-of-type {\n",
       "        vertical-align: middle;\n",
       "    }\n",
       "\n",
       "    .dataframe tbody tr th {\n",
       "        vertical-align: top;\n",
       "    }\n",
       "\n",
       "    .dataframe thead th {\n",
       "        text-align: right;\n",
       "    }\n",
       "</style>\n",
       "<table border=\"1\" class=\"dataframe\">\n",
       "  <thead>\n",
       "    <tr style=\"text-align: right;\">\n",
       "      <th></th>\n",
       "      <th>no debt</th>\n",
       "      <th>debt</th>\n",
       "      <th>%</th>\n",
       "    </tr>\n",
       "    <tr>\n",
       "      <th>family_status</th>\n",
       "      <th></th>\n",
       "      <th></th>\n",
       "      <th></th>\n",
       "    </tr>\n",
       "  </thead>\n",
       "  <tbody>\n",
       "    <tr>\n",
       "      <th>в разводе</th>\n",
       "      <td>1110</td>\n",
       "      <td>85</td>\n",
       "      <td>7.11</td>\n",
       "    </tr>\n",
       "    <tr>\n",
       "      <th>вдовец / вдова</th>\n",
       "      <td>896</td>\n",
       "      <td>63</td>\n",
       "      <td>6.57</td>\n",
       "    </tr>\n",
       "    <tr>\n",
       "      <th>гражданский брак</th>\n",
       "      <td>3763</td>\n",
       "      <td>388</td>\n",
       "      <td>9.35</td>\n",
       "    </tr>\n",
       "    <tr>\n",
       "      <th>женат / замужем</th>\n",
       "      <td>11408</td>\n",
       "      <td>931</td>\n",
       "      <td>7.55</td>\n",
       "    </tr>\n",
       "    <tr>\n",
       "      <th>не женат / не замужем</th>\n",
       "      <td>2536</td>\n",
       "      <td>274</td>\n",
       "      <td>9.75</td>\n",
       "    </tr>\n",
       "  </tbody>\n",
       "</table>\n",
       "</div>"
      ],
      "text/plain": [
       "                       no debt  debt     %\n",
       "family_status                             \n",
       "в разводе                 1110    85  7.11\n",
       "вдовец / вдова             896    63  6.57\n",
       "гражданский брак          3763   388  9.35\n",
       "женат / замужем          11408   931  7.55\n",
       "не женат / не замужем     2536   274  9.75"
      ]
     },
     "metadata": {},
     "output_type": "display_data"
    }
   ],
   "source": [
    "# сгруппируем таблицу по семейному статусу\n",
    "report_family = data.pivot_table(index = 'family_status', columns = 'debt', values = 'total_income', aggfunc = 'count')\n",
    "report_family.columns = ['no debt', 'debt']\n",
    "# добавим доли\n",
    "report_family['%'] = round(report_family['debt']*100/(report_family['debt'] +  report_family['no debt']), 2)\n",
    "display(report_family)"
   ]
  },
  {
   "cell_type": "markdown",
   "metadata": {},
   "source": [
    "**Вывод** Из сводной таблицы следует, что заемщики со статусами \"Гражданский брак\" и \"Не женат/ не замужем\"  чаще остальных групп не возвращают кредит в срок. Статус официальности отношений действительно положительно сказывается на возврате кредита. Люди, которые не состоят в официальных отношениях и никогда не состояли хуже возвращают кредиты, в отличии от семей, которые имеют официальный статус, пусть даже когда-то в прошлом."
   ]
  },
  {
   "cell_type": "markdown",
   "metadata": {},
   "source": [
    "**3. Есть ли зависимость между уровнем дохода и возвратом кредита в срок?**"
   ]
  },
  {
   "cell_type": "code",
   "execution_count": 15,
   "metadata": {},
   "outputs": [
    {
     "data": {
      "text/html": [
       "<div>\n",
       "<style scoped>\n",
       "    .dataframe tbody tr th:only-of-type {\n",
       "        vertical-align: middle;\n",
       "    }\n",
       "\n",
       "    .dataframe tbody tr th {\n",
       "        vertical-align: top;\n",
       "    }\n",
       "\n",
       "    .dataframe thead th {\n",
       "        text-align: right;\n",
       "    }\n",
       "</style>\n",
       "<table border=\"1\" class=\"dataframe\">\n",
       "  <thead>\n",
       "    <tr style=\"text-align: right;\">\n",
       "      <th></th>\n",
       "      <th>no debt</th>\n",
       "      <th>debt</th>\n",
       "      <th>%</th>\n",
       "    </tr>\n",
       "    <tr>\n",
       "      <th>total_income_gr</th>\n",
       "      <th></th>\n",
       "      <th></th>\n",
       "      <th></th>\n",
       "    </tr>\n",
       "  </thead>\n",
       "  <tbody>\n",
       "    <tr>\n",
       "      <th>низкий доход</th>\n",
       "      <td>4937</td>\n",
       "      <td>427</td>\n",
       "      <td>7.96</td>\n",
       "    </tr>\n",
       "    <tr>\n",
       "      <th>средний доход</th>\n",
       "      <td>4996</td>\n",
       "      <td>483</td>\n",
       "      <td>8.82</td>\n",
       "    </tr>\n",
       "    <tr>\n",
       "      <th>доход выше среднего</th>\n",
       "      <td>4799</td>\n",
       "      <td>448</td>\n",
       "      <td>8.54</td>\n",
       "    </tr>\n",
       "    <tr>\n",
       "      <th>высокий доход</th>\n",
       "      <td>4981</td>\n",
       "      <td>383</td>\n",
       "      <td>7.14</td>\n",
       "    </tr>\n",
       "  </tbody>\n",
       "</table>\n",
       "</div>"
      ],
      "text/plain": [
       "                      no debt  debt     %\n",
       "total_income_gr                          \n",
       "низкий доход             4937   427  7.96\n",
       "средний доход            4996   483  8.82\n",
       " доход выше среднего     4799   448  8.54\n",
       "высокий доход            4981   383  7.14"
      ]
     },
     "metadata": {},
     "output_type": "display_data"
    }
   ],
   "source": [
    "# проведем категоризацию, а именно разбьем на группы, опираясь на квартили распределения\n",
    "data['total_income_gr'] = pd.qcut(data['total_income'], 4, labels=[\"низкий доход\", \"средний доход\", \" доход выше среднего\", \"высокий доход\"])\n",
    "# сгруппируме таблицу\n",
    "report_income = data.pivot_table(index = 'total_income_gr', columns = 'debt', values = 'total_income', aggfunc = 'count')\n",
    "report_income.columns = ['no debt', 'debt']\n",
    "# добавим доли\n",
    "report_income['%'] = round(report_income['debt']*100/(report_income['debt'] +  report_income['no debt']), 2)\n",
    "display(report_income)"
   ]
  },
  {
   "cell_type": "markdown",
   "metadata": {},
   "source": [
    "**Вывод** Судя по таблице видно, что Заемщики со Средним доходом чаще остальных групп не возвращают кредит в срок. Скорее всего люди с низким доходом просто не берут кредит на то, чего не смогут вернуть, проходят куда более строгий контроль; люди с высоким достатком просто обладают достаточными средствами на погашение; люди со средними доходами вероятно слишком оптимистично подходят к своим финансовыми возможностям"
   ]
  },
  {
   "cell_type": "markdown",
   "metadata": {},
   "source": [
    "**4. Как разные цели кредита влияют на его возврат в срок?**"
   ]
  },
  {
   "cell_type": "code",
   "execution_count": 16,
   "metadata": {},
   "outputs": [
    {
     "data": {
      "text/html": [
       "<div>\n",
       "<style scoped>\n",
       "    .dataframe tbody tr th:only-of-type {\n",
       "        vertical-align: middle;\n",
       "    }\n",
       "\n",
       "    .dataframe tbody tr th {\n",
       "        vertical-align: top;\n",
       "    }\n",
       "\n",
       "    .dataframe thead th {\n",
       "        text-align: right;\n",
       "    }\n",
       "</style>\n",
       "<table border=\"1\" class=\"dataframe\">\n",
       "  <thead>\n",
       "    <tr style=\"text-align: right;\">\n",
       "      <th></th>\n",
       "      <th>no debt</th>\n",
       "      <th>debt</th>\n",
       "      <th>%</th>\n",
       "    </tr>\n",
       "    <tr>\n",
       "      <th>purpose_category</th>\n",
       "      <th></th>\n",
       "      <th></th>\n",
       "      <th></th>\n",
       "    </tr>\n",
       "  </thead>\n",
       "  <tbody>\n",
       "    <tr>\n",
       "      <th>автомобиль</th>\n",
       "      <td>3903</td>\n",
       "      <td>403</td>\n",
       "      <td>9.36</td>\n",
       "    </tr>\n",
       "    <tr>\n",
       "      <th>недвижимость</th>\n",
       "      <td>10029</td>\n",
       "      <td>782</td>\n",
       "      <td>7.23</td>\n",
       "    </tr>\n",
       "    <tr>\n",
       "      <th>образование</th>\n",
       "      <td>3643</td>\n",
       "      <td>370</td>\n",
       "      <td>9.22</td>\n",
       "    </tr>\n",
       "    <tr>\n",
       "      <th>свадьба</th>\n",
       "      <td>2138</td>\n",
       "      <td>186</td>\n",
       "      <td>8.00</td>\n",
       "    </tr>\n",
       "  </tbody>\n",
       "</table>\n",
       "</div>"
      ],
      "text/plain": [
       "                  no debt  debt     %\n",
       "purpose_category                     \n",
       "автомобиль           3903   403  9.36\n",
       "недвижимость        10029   782  7.23\n",
       "образование          3643   370  9.22\n",
       "свадьба              2138   186  8.00"
      ]
     },
     "metadata": {},
     "output_type": "display_data"
    }
   ],
   "source": [
    "# сгруппируме таблицу\n",
    "report_purpose = data.pivot_table(index = 'purpose_category', columns = 'debt', values = 'total_income', aggfunc = 'count')\n",
    "report_purpose.columns = ['no debt', 'debt']\n",
    "# добавим доли\n",
    "report_purpose['%'] = round(report_purpose['debt']*100/(report_purpose['debt'] +  report_purpose['no debt']), 2)\n",
    "display(report_purpose)"
   ]
  },
  {
   "cell_type": "markdown",
   "metadata": {},
   "source": [
    "**Вывод** Изучив сводную таблицу напрашивается вывод, что недвижимость, как правило находится в залоге у банка, к тому же люди осознанно подходят к взятию кредита на данную цель; образование вероятно не сразу окупается, тк студент должен набраться опыта; автомобиль влечет за собой множество дополнительных расходов, о которых люди часто забывают, когда берут на него кредит"
   ]
  },
  {
   "cell_type": "markdown",
   "metadata": {},
   "source": [
    "## Общий вывод \n",
    "Влияние количества детей и семейного положения на заемщика безусловно присуствует, что доказывает данная выборка. \n",
    "Приведя данные в порядок и используя не хитрые группировки данных с помощью сводных таблиц удалось убедтся, что заемщик не имеющий детей и находящий в семейном статусе \"Вдовец/вдова\", \"женат / замужем\" и \"В разводе\" более надежные остальных.\n",
    "И связано это скорее всего с наименьшей финансовой нагрузкой на заемщика. Доход заемщиков также влияет на возращения кредита в срок. Более надежные являтся заемщики с низким и высоким доходом, это следует скорее всего из того, что люди с низким доходом проходят более тчательный контроль; люди с высоким достатком обладают достаточными средствами на погашение"
   ]
  }
 ],
 "metadata": {
  "ExecuteTimeLog": [
   {
    "duration": 581,
    "start_time": "2021-11-19T07:18:42.905Z"
   },
   {
    "duration": 11,
    "start_time": "2021-11-19T07:34:04.631Z"
   },
   {
    "duration": 6085,
    "start_time": "2021-11-19T07:36:23.436Z"
   },
   {
    "duration": 4,
    "start_time": "2021-11-19T07:36:50.426Z"
   },
   {
    "duration": 11,
    "start_time": "2021-11-19T07:41:14.955Z"
   },
   {
    "duration": 58,
    "start_time": "2021-11-19T08:28:45.957Z"
   },
   {
    "duration": 56,
    "start_time": "2021-11-19T08:37:25.217Z"
   },
   {
    "duration": 269,
    "start_time": "2021-11-19T08:41:34.600Z"
   },
   {
    "duration": 11,
    "start_time": "2021-11-19T08:41:45.837Z"
   },
   {
    "duration": 20,
    "start_time": "2021-11-19T08:42:27.444Z"
   },
   {
    "duration": 20,
    "start_time": "2021-11-19T08:42:35.701Z"
   },
   {
    "duration": 252,
    "start_time": "2021-11-19T08:42:56.343Z"
   },
   {
    "duration": 242,
    "start_time": "2021-11-19T08:44:09.079Z"
   },
   {
    "duration": 13,
    "start_time": "2021-11-19T08:44:24.799Z"
   },
   {
    "duration": 13,
    "start_time": "2021-11-19T08:44:44.269Z"
   },
   {
    "duration": 11,
    "start_time": "2021-11-19T08:45:10.575Z"
   },
   {
    "duration": 11,
    "start_time": "2021-11-19T08:45:30.103Z"
   },
   {
    "duration": 12,
    "start_time": "2021-11-19T08:45:43.623Z"
   },
   {
    "duration": 10,
    "start_time": "2021-11-19T08:45:53.661Z"
   },
   {
    "duration": 11,
    "start_time": "2021-11-19T08:45:55.838Z"
   },
   {
    "duration": 269,
    "start_time": "2021-11-19T08:47:52.953Z"
   },
   {
    "duration": 250,
    "start_time": "2021-11-19T08:48:10.232Z"
   },
   {
    "duration": 11,
    "start_time": "2021-11-19T08:48:28.748Z"
   },
   {
    "duration": 74,
    "start_time": "2021-11-19T08:48:44.240Z"
   },
   {
    "duration": 11,
    "start_time": "2021-11-19T08:48:50.432Z"
   },
   {
    "duration": 13,
    "start_time": "2021-11-19T09:21:04.568Z"
   },
   {
    "duration": 239,
    "start_time": "2021-11-19T09:21:28.168Z"
   },
   {
    "duration": 11,
    "start_time": "2021-11-19T09:21:50.306Z"
   },
   {
    "duration": 14,
    "start_time": "2021-11-19T09:25:46.677Z"
   },
   {
    "duration": 78,
    "start_time": "2021-11-19T09:26:01.409Z"
   },
   {
    "duration": 15,
    "start_time": "2021-11-19T09:26:06.709Z"
   },
   {
    "duration": 80,
    "start_time": "2021-11-19T11:36:34.734Z"
   },
   {
    "duration": 79,
    "start_time": "2021-11-19T11:36:44.423Z"
   },
   {
    "duration": 1571,
    "start_time": "2021-11-19T11:36:53.615Z"
   },
   {
    "duration": 56,
    "start_time": "2021-11-19T11:37:12.341Z"
   },
   {
    "duration": 1578,
    "start_time": "2021-11-19T11:37:14.959Z"
   },
   {
    "duration": 12,
    "start_time": "2021-11-19T11:38:55.272Z"
   },
   {
    "duration": 772,
    "start_time": "2021-11-22T06:31:53.592Z"
   },
   {
    "duration": 18,
    "start_time": "2021-11-22T06:35:01.144Z"
   },
   {
    "duration": 62,
    "start_time": "2021-11-22T06:36:11.051Z"
   },
   {
    "duration": 15,
    "start_time": "2021-11-22T06:36:15.847Z"
   },
   {
    "duration": 2330,
    "start_time": "2021-11-22T06:36:50.569Z"
   },
   {
    "duration": 1872,
    "start_time": "2021-11-22T06:39:14.579Z"
   },
   {
    "duration": 14,
    "start_time": "2021-11-22T06:40:35.068Z"
   },
   {
    "duration": 15,
    "start_time": "2021-11-22T06:40:48.028Z"
   },
   {
    "duration": 23,
    "start_time": "2021-11-22T06:42:03.396Z"
   },
   {
    "duration": 13,
    "start_time": "2021-11-22T06:43:06.102Z"
   },
   {
    "duration": 14,
    "start_time": "2021-11-22T06:44:08.631Z"
   },
   {
    "duration": 61,
    "start_time": "2021-11-22T06:44:51.691Z"
   },
   {
    "duration": 69,
    "start_time": "2021-11-22T06:45:16.679Z"
   },
   {
    "duration": 7,
    "start_time": "2021-11-22T06:45:25.342Z"
   },
   {
    "duration": 67,
    "start_time": "2021-11-22T08:19:28.817Z"
   },
   {
    "duration": 254,
    "start_time": "2021-11-22T08:42:16.742Z"
   },
   {
    "duration": 11,
    "start_time": "2021-11-22T08:42:49.140Z"
   },
   {
    "duration": 9,
    "start_time": "2021-11-22T08:47:38.611Z"
   },
   {
    "duration": 64,
    "start_time": "2021-11-22T08:48:25.790Z"
   },
   {
    "duration": 10,
    "start_time": "2021-11-22T08:48:30.813Z"
   },
   {
    "duration": 12,
    "start_time": "2021-11-22T08:48:50.189Z"
   },
   {
    "duration": 917,
    "start_time": "2021-11-23T05:32:30.467Z"
   },
   {
    "duration": 90,
    "start_time": "2021-11-23T06:06:37.618Z"
   },
   {
    "duration": 15,
    "start_time": "2021-11-23T06:06:42.657Z"
   },
   {
    "duration": 24,
    "start_time": "2021-11-23T06:06:58.235Z"
   },
   {
    "duration": 88,
    "start_time": "2021-11-23T06:10:45.292Z"
   },
   {
    "duration": 727,
    "start_time": "2021-11-23T06:13:32.656Z"
   },
   {
    "duration": 9741,
    "start_time": "2021-11-23T06:13:35.342Z"
   },
   {
    "duration": 13,
    "start_time": "2021-11-23T06:29:55.123Z"
   },
   {
    "duration": 18,
    "start_time": "2021-11-23T06:30:41.963Z"
   },
   {
    "duration": 21,
    "start_time": "2021-11-23T06:31:48.320Z"
   },
   {
    "duration": 536,
    "start_time": "2021-11-23T06:35:53.664Z"
   },
   {
    "duration": 26,
    "start_time": "2021-11-23T06:39:45.570Z"
   },
   {
    "duration": 549,
    "start_time": "2021-11-23T06:41:47.676Z"
   },
   {
    "duration": 505,
    "start_time": "2021-11-23T06:57:30.505Z"
   },
   {
    "duration": 388,
    "start_time": "2021-11-23T06:59:25.609Z"
   },
   {
    "duration": 120,
    "start_time": "2021-11-23T06:59:41.064Z"
   },
   {
    "duration": 137,
    "start_time": "2021-11-23T07:00:11.530Z"
   },
   {
    "duration": 87,
    "start_time": "2021-11-23T07:00:31.644Z"
   },
   {
    "duration": 139,
    "start_time": "2021-11-23T07:01:15.020Z"
   },
   {
    "duration": 123,
    "start_time": "2021-11-23T07:16:46.505Z"
   },
   {
    "duration": 142,
    "start_time": "2021-11-23T07:16:58.565Z"
   },
   {
    "duration": 155,
    "start_time": "2021-11-23T07:17:11.165Z"
   },
   {
    "duration": 153,
    "start_time": "2021-11-23T07:17:42.351Z"
   },
   {
    "duration": 227,
    "start_time": "2021-11-23T07:29:30.243Z"
   },
   {
    "duration": 197,
    "start_time": "2021-11-23T07:29:47.624Z"
   },
   {
    "duration": 192,
    "start_time": "2021-11-23T07:29:52.209Z"
   },
   {
    "duration": 85,
    "start_time": "2021-11-23T07:29:57.031Z"
   },
   {
    "duration": 25,
    "start_time": "2021-11-23T07:30:00.711Z"
   },
   {
    "duration": 198,
    "start_time": "2021-11-23T07:30:02.935Z"
   },
   {
    "duration": 207,
    "start_time": "2021-11-23T07:30:07.472Z"
   },
   {
    "duration": 294,
    "start_time": "2021-11-23T07:30:20.967Z"
   },
   {
    "duration": 198,
    "start_time": "2021-11-23T07:31:04.729Z"
   },
   {
    "duration": 132,
    "start_time": "2021-11-23T07:33:23.139Z"
   },
   {
    "duration": 554,
    "start_time": "2021-11-23T07:39:11.814Z"
   },
   {
    "duration": 133,
    "start_time": "2021-11-23T07:39:25.239Z"
   },
   {
    "duration": 134,
    "start_time": "2021-11-23T07:42:46.393Z"
   },
   {
    "duration": 142,
    "start_time": "2021-11-23T07:43:18.474Z"
   },
   {
    "duration": 139,
    "start_time": "2021-11-23T07:47:21.365Z"
   },
   {
    "duration": 143,
    "start_time": "2021-11-23T07:48:37.486Z"
   },
   {
    "duration": 140,
    "start_time": "2021-11-23T07:58:11.814Z"
   },
   {
    "duration": 151,
    "start_time": "2021-11-23T07:58:18.852Z"
   },
   {
    "duration": 87,
    "start_time": "2021-11-23T07:58:26.421Z"
   },
   {
    "duration": 26,
    "start_time": "2021-11-23T07:58:30.060Z"
   },
   {
    "duration": 144,
    "start_time": "2021-11-23T07:58:34.133Z"
   },
   {
    "duration": 153,
    "start_time": "2021-11-23T07:58:40.053Z"
   },
   {
    "duration": 88,
    "start_time": "2021-11-23T07:59:38.446Z"
   },
   {
    "duration": 23,
    "start_time": "2021-11-23T07:59:41.216Z"
   },
   {
    "duration": 152,
    "start_time": "2021-11-23T07:59:43.822Z"
   },
   {
    "duration": 134,
    "start_time": "2021-11-23T08:03:43.060Z"
   },
   {
    "duration": 637,
    "start_time": "2021-11-24T07:34:48.916Z"
   },
   {
    "duration": 25,
    "start_time": "2021-11-24T07:34:53.034Z"
   },
   {
    "duration": 136,
    "start_time": "2021-11-24T07:34:58.082Z"
   },
   {
    "duration": 99,
    "start_time": "2021-11-24T07:35:39.674Z"
   },
   {
    "duration": 366,
    "start_time": "2021-11-24T07:40:07.760Z"
   },
   {
    "duration": 324,
    "start_time": "2021-11-24T07:41:16.380Z"
   },
   {
    "duration": 7216,
    "start_time": "2021-11-24T07:42:28.295Z"
   },
   {
    "duration": 348,
    "start_time": "2021-11-24T07:43:07.577Z"
   },
   {
    "duration": 99,
    "start_time": "2021-11-24T07:43:29.857Z"
   },
   {
    "duration": 59,
    "start_time": "2021-11-24T07:43:39.016Z"
   },
   {
    "duration": 61,
    "start_time": "2021-11-24T07:45:02.921Z"
   },
   {
    "duration": 6620,
    "start_time": "2021-11-24T07:45:39.353Z"
   },
   {
    "duration": 1918,
    "start_time": "2021-11-24T07:46:19.218Z"
   },
   {
    "duration": 61,
    "start_time": "2021-11-24T07:47:05.855Z"
   },
   {
    "duration": 59,
    "start_time": "2021-11-24T07:47:45.204Z"
   },
   {
    "duration": 335,
    "start_time": "2021-11-24T07:56:50.838Z"
   },
   {
    "duration": 61,
    "start_time": "2021-11-24T07:57:23.227Z"
   },
   {
    "duration": 22,
    "start_time": "2021-11-24T07:57:26.466Z"
   },
   {
    "duration": 95,
    "start_time": "2021-11-24T07:57:28.508Z"
   },
   {
    "duration": 61,
    "start_time": "2021-11-24T07:57:59.932Z"
   },
   {
    "duration": 341,
    "start_time": "2021-11-24T07:58:51.620Z"
   },
   {
    "duration": 64,
    "start_time": "2021-11-24T07:58:56.701Z"
   },
   {
    "duration": 19,
    "start_time": "2021-11-24T07:59:01.692Z"
   },
   {
    "duration": 107,
    "start_time": "2021-11-24T07:59:04.053Z"
   },
   {
    "duration": 106,
    "start_time": "2021-11-24T08:03:01.360Z"
   },
   {
    "duration": 100,
    "start_time": "2021-11-24T08:03:20.393Z"
   },
   {
    "duration": 102,
    "start_time": "2021-11-24T08:12:28.697Z"
   },
   {
    "duration": 173,
    "start_time": "2021-11-24T08:12:52.527Z"
   },
   {
    "duration": 101,
    "start_time": "2021-11-24T08:17:14.574Z"
   },
   {
    "duration": 109,
    "start_time": "2021-11-24T08:27:16.940Z"
   },
   {
    "duration": 108,
    "start_time": "2021-11-24T08:27:43.642Z"
   },
   {
    "duration": 108,
    "start_time": "2021-11-24T08:34:06.695Z"
   },
   {
    "duration": 114,
    "start_time": "2021-11-24T08:42:02.166Z"
   },
   {
    "duration": 98,
    "start_time": "2021-11-24T08:42:57.997Z"
   },
   {
    "duration": 110,
    "start_time": "2021-11-24T08:43:07.788Z"
   },
   {
    "duration": 115,
    "start_time": "2021-11-24T08:44:05.422Z"
   },
   {
    "duration": 110,
    "start_time": "2021-11-24T08:44:36.695Z"
   },
   {
    "duration": 109,
    "start_time": "2021-11-24T08:48:22.865Z"
   },
   {
    "duration": 106,
    "start_time": "2021-11-24T08:48:39.915Z"
   },
   {
    "duration": 63,
    "start_time": "2021-11-24T09:45:04.188Z"
   },
   {
    "duration": 313,
    "start_time": "2021-11-24T09:49:41.313Z"
   },
   {
    "duration": 318,
    "start_time": "2021-11-24T09:49:57.975Z"
   },
   {
    "duration": 67,
    "start_time": "2021-11-24T09:52:49.569Z"
   },
   {
    "duration": 76,
    "start_time": "2021-11-24T09:53:48.962Z"
   },
   {
    "duration": 69,
    "start_time": "2021-11-24T09:54:30.895Z"
   },
   {
    "duration": 85,
    "start_time": "2021-11-24T09:54:48.307Z"
   },
   {
    "duration": 77,
    "start_time": "2021-11-24T09:55:38.155Z"
   },
   {
    "duration": 435,
    "start_time": "2021-11-24T09:56:39.812Z"
   },
   {
    "duration": 12,
    "start_time": "2021-11-24T09:56:46.275Z"
   },
   {
    "duration": 319,
    "start_time": "2021-11-24T09:56:48.436Z"
   },
   {
    "duration": 66,
    "start_time": "2021-11-24T09:57:16.461Z"
   },
   {
    "duration": 21,
    "start_time": "2021-11-24T09:57:19.731Z"
   },
   {
    "duration": 116,
    "start_time": "2021-11-24T09:57:22.123Z"
   },
   {
    "duration": 80,
    "start_time": "2021-11-24T09:57:54.436Z"
   },
   {
    "duration": 318,
    "start_time": "2021-11-24T13:05:07.091Z"
   },
   {
    "duration": 77,
    "start_time": "2021-11-24T13:05:10.986Z"
   },
   {
    "duration": 79,
    "start_time": "2021-11-24T13:05:33.595Z"
   },
   {
    "duration": 17,
    "start_time": "2021-11-24T13:05:55.041Z"
   },
   {
    "duration": 290,
    "start_time": "2021-11-24T13:05:58.385Z"
   },
   {
    "duration": 256,
    "start_time": "2021-11-24T13:06:04.738Z"
   },
   {
    "duration": 13,
    "start_time": "2021-11-24T13:06:14.392Z"
   },
   {
    "duration": 255,
    "start_time": "2021-11-24T13:06:16.657Z"
   },
   {
    "duration": 77,
    "start_time": "2021-11-24T13:06:22.292Z"
   },
   {
    "duration": 13,
    "start_time": "2021-11-24T13:06:26.610Z"
   },
   {
    "duration": 256,
    "start_time": "2021-11-24T13:06:31.826Z"
   },
   {
    "duration": 250,
    "start_time": "2021-11-24T13:07:14.723Z"
   },
   {
    "duration": 262,
    "start_time": "2021-11-24T13:07:24.491Z"
   },
   {
    "duration": 73,
    "start_time": "2021-11-24T13:07:47.013Z"
   },
   {
    "duration": 18,
    "start_time": "2021-11-24T13:07:50.562Z"
   },
   {
    "duration": 106,
    "start_time": "2021-11-24T13:07:53.315Z"
   },
   {
    "duration": 116,
    "start_time": "2021-11-24T13:08:11.924Z"
   },
   {
    "duration": 244,
    "start_time": "2021-11-24T13:09:21.476Z"
   },
   {
    "duration": 247,
    "start_time": "2021-11-24T13:10:27.477Z"
   },
   {
    "duration": 71,
    "start_time": "2021-11-24T13:10:32.303Z"
   },
   {
    "duration": 19,
    "start_time": "2021-11-24T13:10:41.140Z"
   },
   {
    "duration": 482,
    "start_time": "2021-11-24T13:10:44.029Z"
   },
   {
    "duration": 108,
    "start_time": "2021-11-24T13:11:08.902Z"
   },
   {
    "duration": 10083,
    "start_time": "2021-11-24T13:11:45.142Z"
   },
   {
    "duration": 7807,
    "start_time": "2021-11-24T13:11:57.390Z"
   },
   {
    "duration": 7222,
    "start_time": "2021-11-24T13:12:31.534Z"
   },
   {
    "duration": 7133,
    "start_time": "2021-11-24T13:13:10.807Z"
   },
   {
    "duration": 7505,
    "start_time": "2021-11-24T13:13:28.735Z"
   },
   {
    "duration": 7538,
    "start_time": "2021-11-24T13:15:01.280Z"
   },
   {
    "duration": 7629,
    "start_time": "2021-11-24T13:16:15.770Z"
   },
   {
    "duration": 59,
    "start_time": "2021-11-24T13:18:46.997Z"
   },
   {
    "duration": 19,
    "start_time": "2021-11-24T13:18:49.526Z"
   },
   {
    "duration": 100,
    "start_time": "2021-11-24T13:18:51.824Z"
   },
   {
    "duration": 60,
    "start_time": "2021-11-25T06:22:14.261Z"
   },
   {
    "duration": 18,
    "start_time": "2021-11-25T06:22:17.065Z"
   },
   {
    "duration": 110,
    "start_time": "2021-11-25T06:22:20.948Z"
   },
   {
    "duration": 100,
    "start_time": "2021-11-25T06:23:37.068Z"
   },
   {
    "duration": 95,
    "start_time": "2021-11-25T06:23:55.796Z"
   },
   {
    "duration": 97,
    "start_time": "2021-11-25T06:24:25.347Z"
   },
   {
    "duration": 94,
    "start_time": "2021-11-25T06:24:54.765Z"
   },
   {
    "duration": 103,
    "start_time": "2021-11-25T06:25:12.325Z"
   },
   {
    "duration": 98,
    "start_time": "2021-11-25T06:25:42.605Z"
   },
   {
    "duration": 97,
    "start_time": "2021-11-25T06:27:03.502Z"
   },
   {
    "duration": 109,
    "start_time": "2021-11-25T06:29:45.383Z"
   },
   {
    "duration": 388,
    "start_time": "2021-11-25T06:47:54.209Z"
   },
   {
    "duration": 347,
    "start_time": "2021-11-25T06:50:19.072Z"
   },
   {
    "duration": 84,
    "start_time": "2021-11-25T06:50:30.727Z"
   },
   {
    "duration": 343,
    "start_time": "2021-11-25T06:50:35.431Z"
   },
   {
    "duration": 99,
    "start_time": "2021-11-25T06:51:52.768Z"
   },
   {
    "duration": 94,
    "start_time": "2021-11-25T06:52:34.167Z"
   },
   {
    "duration": 189,
    "start_time": "2021-11-25T06:53:24.017Z"
   },
   {
    "duration": 109,
    "start_time": "2021-11-25T07:14:20.505Z"
   },
   {
    "duration": 359,
    "start_time": "2021-11-25T07:14:46.561Z"
   },
   {
    "duration": 417,
    "start_time": "2021-11-25T07:15:00.705Z"
   },
   {
    "duration": 189,
    "start_time": "2021-11-25T07:15:40.835Z"
   },
   {
    "duration": 104,
    "start_time": "2021-11-25T07:17:10.507Z"
   },
   {
    "duration": 101,
    "start_time": "2021-11-25T07:17:49.371Z"
   },
   {
    "duration": 127,
    "start_time": "2021-11-25T07:18:32.845Z"
   },
   {
    "duration": 97,
    "start_time": "2021-11-25T07:57:59.684Z"
   },
   {
    "duration": 87,
    "start_time": "2021-11-25T07:59:37.109Z"
   },
   {
    "duration": 356,
    "start_time": "2021-11-25T07:59:53.731Z"
   },
   {
    "duration": 111,
    "start_time": "2021-11-25T08:00:06.500Z"
   },
   {
    "duration": 28,
    "start_time": "2021-11-25T08:01:53.286Z"
   },
   {
    "duration": 21,
    "start_time": "2021-11-25T08:03:49.703Z"
   },
   {
    "duration": 29,
    "start_time": "2021-11-25T08:04:23.974Z"
   },
   {
    "duration": 63,
    "start_time": "2021-11-25T08:05:59.219Z"
   },
   {
    "duration": 20,
    "start_time": "2021-11-25T08:06:02.431Z"
   },
   {
    "duration": 131,
    "start_time": "2021-11-25T08:06:04.897Z"
   },
   {
    "duration": 47,
    "start_time": "2021-11-25T08:06:09.503Z"
   },
   {
    "duration": 20,
    "start_time": "2021-11-25T08:06:20.441Z"
   },
   {
    "duration": 67,
    "start_time": "2021-11-25T08:06:49.145Z"
   },
   {
    "duration": 93,
    "start_time": "2021-11-25T08:07:04.920Z"
   },
   {
    "duration": 82,
    "start_time": "2021-11-25T08:07:15.391Z"
   },
   {
    "duration": 27,
    "start_time": "2021-11-25T08:07:18.649Z"
   },
   {
    "duration": 200,
    "start_time": "2021-11-25T08:07:25.886Z"
   },
   {
    "duration": 105,
    "start_time": "2021-11-25T08:07:29.434Z"
   },
   {
    "duration": 95,
    "start_time": "2021-11-25T08:10:51.717Z"
   },
   {
    "duration": 49,
    "start_time": "2021-11-25T08:11:05.691Z"
   },
   {
    "duration": 128,
    "start_time": "2021-11-25T08:11:10.807Z"
   },
   {
    "duration": 56,
    "start_time": "2021-11-25T08:11:14.859Z"
   },
   {
    "duration": 59,
    "start_time": "2021-11-25T08:11:19.760Z"
   },
   {
    "duration": 18,
    "start_time": "2021-11-25T08:11:20.714Z"
   },
   {
    "duration": 128,
    "start_time": "2021-11-25T08:11:21.383Z"
   },
   {
    "duration": 53,
    "start_time": "2021-11-25T08:11:23.293Z"
   },
   {
    "duration": 278,
    "start_time": "2021-11-25T08:40:21.121Z"
   },
   {
    "duration": 62,
    "start_time": "2021-11-25T08:40:26.519Z"
   },
   {
    "duration": 20,
    "start_time": "2021-11-25T08:40:27.542Z"
   },
   {
    "duration": 122,
    "start_time": "2021-11-25T08:40:28.204Z"
   },
   {
    "duration": 62,
    "start_time": "2021-11-25T08:40:30.093Z"
   },
   {
    "duration": 261,
    "start_time": "2021-11-25T08:40:33.144Z"
   },
   {
    "duration": 649,
    "start_time": "2021-11-25T08:42:56.485Z"
   },
   {
    "duration": 931,
    "start_time": "2021-11-25T08:44:20.463Z"
   },
   {
    "duration": 713,
    "start_time": "2021-11-25T08:44:27.895Z"
   },
   {
    "duration": 68,
    "start_time": "2021-11-26T06:05:06.786Z"
   },
   {
    "duration": 21,
    "start_time": "2021-11-26T06:05:08.767Z"
   },
   {
    "duration": 117,
    "start_time": "2021-11-26T06:05:09.553Z"
   },
   {
    "duration": 56,
    "start_time": "2021-11-26T06:05:10.346Z"
   },
   {
    "duration": 680,
    "start_time": "2021-11-26T06:05:11.257Z"
   },
   {
    "duration": 2894,
    "start_time": "2021-11-26T06:05:21.643Z"
   },
   {
    "duration": 2779,
    "start_time": "2021-11-26T06:17:07.962Z"
   },
   {
    "duration": 3179,
    "start_time": "2021-11-26T06:44:42.897Z"
   },
   {
    "duration": 3210,
    "start_time": "2021-11-26T06:44:51.062Z"
   },
   {
    "duration": 3239,
    "start_time": "2021-11-26T06:46:18.608Z"
   },
   {
    "duration": 3450,
    "start_time": "2021-11-26T06:46:48.882Z"
   },
   {
    "duration": 68,
    "start_time": "2021-11-26T06:47:11.478Z"
   },
   {
    "duration": 21,
    "start_time": "2021-11-26T06:47:12.643Z"
   },
   {
    "duration": 124,
    "start_time": "2021-11-26T06:47:13.409Z"
   },
   {
    "duration": 55,
    "start_time": "2021-11-26T06:47:14.565Z"
   },
   {
    "duration": 689,
    "start_time": "2021-11-26T06:47:16.365Z"
   },
   {
    "duration": 3399,
    "start_time": "2021-11-26T06:47:24.274Z"
   },
   {
    "duration": 2936,
    "start_time": "2021-11-26T06:56:00.802Z"
   },
   {
    "duration": 68,
    "start_time": "2021-11-26T07:16:59.235Z"
   },
   {
    "duration": 21,
    "start_time": "2021-11-26T07:17:00.205Z"
   },
   {
    "duration": 118,
    "start_time": "2021-11-26T07:17:00.860Z"
   },
   {
    "duration": 58,
    "start_time": "2021-11-26T07:17:01.537Z"
   },
   {
    "duration": 698,
    "start_time": "2021-11-26T07:17:02.212Z"
   },
   {
    "duration": 2742,
    "start_time": "2021-11-26T07:17:03.007Z"
   },
   {
    "duration": 2871,
    "start_time": "2021-11-26T07:17:15.782Z"
   },
   {
    "duration": 138,
    "start_time": "2021-11-26T07:25:54.440Z"
   },
   {
    "duration": 61,
    "start_time": "2021-11-26T07:25:57.516Z"
   },
   {
    "duration": 19,
    "start_time": "2021-11-26T07:26:01.236Z"
   },
   {
    "duration": 114,
    "start_time": "2021-11-26T07:26:06.431Z"
   },
   {
    "duration": 124,
    "start_time": "2021-11-26T07:32:33.510Z"
   },
   {
    "duration": 60,
    "start_time": "2021-11-26T07:33:02.475Z"
   },
   {
    "duration": 20,
    "start_time": "2021-11-26T07:33:05.594Z"
   },
   {
    "duration": 125,
    "start_time": "2021-11-26T07:33:07.900Z"
   },
   {
    "duration": 125,
    "start_time": "2021-11-26T07:33:33.379Z"
   },
   {
    "duration": 20,
    "start_time": "2021-11-26T07:43:59.356Z"
   },
   {
    "duration": 62,
    "start_time": "2021-11-26T07:44:15.667Z"
   },
   {
    "duration": 19,
    "start_time": "2021-11-26T07:44:24.308Z"
   },
   {
    "duration": 182,
    "start_time": "2021-11-26T07:44:27.340Z"
   },
   {
    "duration": 55,
    "start_time": "2021-11-26T07:44:39.091Z"
   },
   {
    "duration": 740,
    "start_time": "2021-11-26T07:44:42.043Z"
   },
   {
    "duration": 3035,
    "start_time": "2021-11-26T07:44:55.469Z"
   },
   {
    "duration": 92,
    "start_time": "2021-11-26T08:06:13.077Z"
   },
   {
    "duration": 18,
    "start_time": "2021-11-26T08:06:15.571Z"
   },
   {
    "duration": 118,
    "start_time": "2021-11-26T08:06:17.892Z"
   },
   {
    "duration": 57,
    "start_time": "2021-11-26T08:06:21.066Z"
   },
   {
    "duration": 692,
    "start_time": "2021-11-26T08:06:23.746Z"
   },
   {
    "duration": 3015,
    "start_time": "2021-11-26T08:06:26.917Z"
   },
   {
    "duration": 6,
    "start_time": "2021-11-26T08:09:20.590Z"
   },
   {
    "duration": 79,
    "start_time": "2021-11-26T08:10:17.849Z"
   },
   {
    "duration": 302,
    "start_time": "2021-11-26T08:10:30.407Z"
   },
   {
    "duration": 91,
    "start_time": "2021-11-26T08:11:20.471Z"
   },
   {
    "duration": 5,
    "start_time": "2021-11-26T08:11:59.264Z"
   },
   {
    "duration": 111,
    "start_time": "2021-11-26T08:13:17.994Z"
   },
   {
    "duration": 6,
    "start_time": "2021-11-26T08:13:29.145Z"
   },
   {
    "duration": 246,
    "start_time": "2021-11-26T08:14:57.217Z"
   },
   {
    "duration": 7,
    "start_time": "2021-11-26T08:15:07.314Z"
   },
   {
    "duration": 249,
    "start_time": "2021-11-26T08:20:58.727Z"
   },
   {
    "duration": 273,
    "start_time": "2021-11-26T08:26:25.430Z"
   },
   {
    "duration": 260,
    "start_time": "2021-11-26T08:26:54.403Z"
   },
   {
    "duration": 274,
    "start_time": "2021-11-26T08:29:01.916Z"
   },
   {
    "duration": 55,
    "start_time": "2021-11-26T08:29:12.996Z"
   },
   {
    "duration": 6773,
    "start_time": "2021-11-26T08:31:24.500Z"
   },
   {
    "duration": 34,
    "start_time": "2021-11-26T08:31:47.471Z"
   },
   {
    "duration": 254,
    "start_time": "2021-11-26T08:32:42.446Z"
   },
   {
    "duration": 34,
    "start_time": "2021-11-26T08:41:32.768Z"
   },
   {
    "duration": 261,
    "start_time": "2021-11-26T08:48:18.101Z"
   },
   {
    "duration": 34,
    "start_time": "2021-11-26T08:48:38.203Z"
   },
   {
    "duration": 34,
    "start_time": "2021-11-26T08:50:02.860Z"
   },
   {
    "duration": 264,
    "start_time": "2021-11-26T08:50:40.477Z"
   },
   {
    "duration": 51,
    "start_time": "2021-11-26T08:50:50.613Z"
   },
   {
    "duration": 7,
    "start_time": "2021-11-26T08:52:00.999Z"
   },
   {
    "duration": 6,
    "start_time": "2021-11-26T08:52:21.926Z"
   },
   {
    "duration": 261,
    "start_time": "2021-11-26T08:52:59.839Z"
   },
   {
    "duration": 255,
    "start_time": "2021-11-26T08:53:45.889Z"
   },
   {
    "duration": 321,
    "start_time": "2021-11-28T12:53:43.860Z"
   },
   {
    "duration": 907,
    "start_time": "2021-11-28T12:53:55.951Z"
   },
   {
    "duration": 30,
    "start_time": "2021-11-28T12:54:00.342Z"
   },
   {
    "duration": 138,
    "start_time": "2021-11-28T12:54:03.845Z"
   },
   {
    "duration": 61,
    "start_time": "2021-11-28T12:54:07.454Z"
   },
   {
    "duration": 818,
    "start_time": "2021-11-28T12:54:10.772Z"
   },
   {
    "duration": 3606,
    "start_time": "2021-11-28T12:54:14.588Z"
   },
   {
    "duration": 307,
    "start_time": "2021-11-28T12:54:23.792Z"
   },
   {
    "duration": 100,
    "start_time": "2021-11-28T13:46:20.460Z"
   },
   {
    "duration": 21,
    "start_time": "2021-11-28T13:46:38.749Z"
   },
   {
    "duration": 15,
    "start_time": "2021-11-28T13:46:52.364Z"
   },
   {
    "duration": 19,
    "start_time": "2021-11-28T13:47:15.080Z"
   },
   {
    "duration": 77,
    "start_time": "2021-11-28T14:06:29.667Z"
   },
   {
    "duration": 99,
    "start_time": "2021-11-28T14:07:23.456Z"
   },
   {
    "duration": 394,
    "start_time": "2021-11-28T14:08:06.099Z"
   },
   {
    "duration": 1135,
    "start_time": "2021-11-28T14:10:24.969Z"
   },
   {
    "duration": 83,
    "start_time": "2021-11-28T14:11:42.438Z"
   },
   {
    "duration": 178,
    "start_time": "2021-11-28T14:12:07.667Z"
   },
   {
    "duration": 117,
    "start_time": "2021-11-28T14:13:26.567Z"
   },
   {
    "duration": 1160,
    "start_time": "2021-11-28T14:14:59.218Z"
   },
   {
    "duration": 1605,
    "start_time": "2021-11-28T14:15:15.087Z"
   },
   {
    "duration": 235,
    "start_time": "2021-11-28T14:15:59.639Z"
   },
   {
    "duration": 232,
    "start_time": "2021-11-28T14:16:44.473Z"
   },
   {
    "duration": 230,
    "start_time": "2021-11-28T14:17:55.744Z"
   },
   {
    "duration": 228,
    "start_time": "2021-11-28T14:18:52.248Z"
   },
   {
    "duration": 221,
    "start_time": "2021-11-28T14:19:49.119Z"
   },
   {
    "duration": 226,
    "start_time": "2021-11-28T14:20:09.875Z"
   },
   {
    "duration": 4386,
    "start_time": "2021-11-28T14:20:39.424Z"
   },
   {
    "duration": 4598,
    "start_time": "2021-11-28T14:21:07.001Z"
   },
   {
    "duration": 6486,
    "start_time": "2021-11-28T14:21:23.860Z"
   },
   {
    "duration": 82,
    "start_time": "2021-11-28T14:22:17.061Z"
   },
   {
    "duration": 81,
    "start_time": "2021-11-28T14:22:38.287Z"
   },
   {
    "duration": 87,
    "start_time": "2021-11-28T14:23:14.277Z"
   },
   {
    "duration": 99,
    "start_time": "2021-11-28T14:23:21.521Z"
   },
   {
    "duration": 17,
    "start_time": "2021-11-28T14:30:39.628Z"
   },
   {
    "duration": 15,
    "start_time": "2021-11-28T14:30:50.467Z"
   },
   {
    "duration": 23,
    "start_time": "2021-11-28T14:31:07.604Z"
   },
   {
    "duration": 1172,
    "start_time": "2021-11-28T14:35:07.805Z"
   },
   {
    "duration": 1203,
    "start_time": "2021-11-28T14:35:35.478Z"
   },
   {
    "duration": 224,
    "start_time": "2021-11-28T14:36:30.492Z"
   },
   {
    "duration": 244,
    "start_time": "2021-11-28T14:37:22.756Z"
   },
   {
    "duration": 84,
    "start_time": "2021-11-28T14:41:26.372Z"
   },
   {
    "duration": 19,
    "start_time": "2021-11-28T14:41:27.399Z"
   },
   {
    "duration": 141,
    "start_time": "2021-11-28T14:41:28.104Z"
   },
   {
    "duration": 56,
    "start_time": "2021-11-28T14:41:28.835Z"
   },
   {
    "duration": 677,
    "start_time": "2021-11-28T14:41:29.544Z"
   },
   {
    "duration": 3328,
    "start_time": "2021-11-28T14:41:30.279Z"
   },
   {
    "duration": 391,
    "start_time": "2021-11-28T14:41:33.609Z"
   },
   {
    "duration": 29,
    "start_time": "2021-11-28T14:43:35.635Z"
   },
   {
    "duration": 29,
    "start_time": "2021-11-28T14:44:38.548Z"
   },
   {
    "duration": 35,
    "start_time": "2021-11-28T14:45:56.226Z"
   },
   {
    "duration": 24,
    "start_time": "2021-11-28T14:47:09.464Z"
   },
   {
    "duration": 24,
    "start_time": "2021-11-28T14:48:21.082Z"
   },
   {
    "duration": 25,
    "start_time": "2021-11-28T14:48:41.897Z"
   },
   {
    "duration": 865,
    "start_time": "2021-11-29T06:20:43.184Z"
   },
   {
    "duration": 28,
    "start_time": "2021-11-29T06:20:55.781Z"
   },
   {
    "duration": 197,
    "start_time": "2021-11-29T06:21:01.822Z"
   },
   {
    "duration": 190,
    "start_time": "2021-11-29T06:21:22.585Z"
   },
   {
    "duration": 74,
    "start_time": "2021-11-29T06:21:25.926Z"
   },
   {
    "duration": 930,
    "start_time": "2021-11-29T06:21:28.142Z"
   },
   {
    "duration": 3768,
    "start_time": "2021-11-29T06:21:31.454Z"
   },
   {
    "duration": 48,
    "start_time": "2021-11-29T06:21:41.118Z"
   },
   {
    "duration": 24,
    "start_time": "2021-11-29T06:31:45.592Z"
   },
   {
    "duration": 31,
    "start_time": "2021-11-29T06:34:36.086Z"
   },
   {
    "duration": 34,
    "start_time": "2021-11-29T06:35:16.424Z"
   },
   {
    "duration": 31,
    "start_time": "2021-11-29T06:35:59.585Z"
   },
   {
    "duration": 6,
    "start_time": "2021-11-29T06:38:39.299Z"
   },
   {
    "duration": 7,
    "start_time": "2021-11-29T06:38:57.323Z"
   },
   {
    "duration": 7,
    "start_time": "2021-11-29T06:39:19.884Z"
   },
   {
    "duration": 405,
    "start_time": "2021-11-29T07:11:02.896Z"
   },
   {
    "duration": 8,
    "start_time": "2021-11-29T07:11:14.196Z"
   },
   {
    "duration": 12,
    "start_time": "2021-11-29T07:13:33.517Z"
   },
   {
    "duration": 42,
    "start_time": "2021-11-29T07:24:50.009Z"
   },
   {
    "duration": 33,
    "start_time": "2021-11-29T07:26:14.129Z"
   },
   {
    "duration": 83,
    "start_time": "2021-11-29T07:28:52.454Z"
   },
   {
    "duration": 40,
    "start_time": "2021-11-29T07:30:01.036Z"
   },
   {
    "duration": 43,
    "start_time": "2021-11-29T07:30:30.353Z"
   },
   {
    "duration": 32,
    "start_time": "2021-11-29T07:30:59.905Z"
   },
   {
    "duration": 38,
    "start_time": "2021-11-29T07:31:21.090Z"
   },
   {
    "duration": 8,
    "start_time": "2021-11-29T07:32:31.490Z"
   },
   {
    "duration": 36,
    "start_time": "2021-11-29T07:33:56.654Z"
   },
   {
    "duration": 31,
    "start_time": "2021-11-29T07:34:32.644Z"
   },
   {
    "duration": 79,
    "start_time": "2021-11-29T07:35:56.573Z"
   },
   {
    "duration": 97,
    "start_time": "2021-11-29T07:39:04.025Z"
   },
   {
    "duration": 1011,
    "start_time": "2021-11-29T16:55:28.987Z"
   },
   {
    "duration": 12,
    "start_time": "2021-11-29T16:55:30.000Z"
   },
   {
    "duration": 40,
    "start_time": "2021-11-29T16:55:30.015Z"
   },
   {
    "duration": 895,
    "start_time": "2021-11-30T06:00:35.055Z"
   },
   {
    "duration": 14,
    "start_time": "2021-11-30T06:00:43.318Z"
   },
   {
    "duration": 47,
    "start_time": "2021-11-30T06:00:45.686Z"
   },
   {
    "duration": 42,
    "start_time": "2021-11-30T06:12:52.181Z"
   },
   {
    "duration": 89,
    "start_time": "2021-11-30T06:12:55.567Z"
   },
   {
    "duration": 565,
    "start_time": "2021-11-30T06:13:01.005Z"
   },
   {
    "duration": 382,
    "start_time": "2021-11-30T06:13:04.752Z"
   },
   {
    "duration": 89,
    "start_time": "2021-11-30T06:13:16.799Z"
   },
   {
    "duration": 11,
    "start_time": "2021-11-30T06:13:20.775Z"
   },
   {
    "duration": 394,
    "start_time": "2021-11-30T06:13:22.872Z"
   },
   {
    "duration": 478,
    "start_time": "2021-11-30T06:14:38.369Z"
   },
   {
    "duration": 421,
    "start_time": "2021-11-30T06:27:48.141Z"
   },
   {
    "duration": 43,
    "start_time": "2021-11-30T06:28:14.189Z"
   },
   {
    "duration": 503,
    "start_time": "2021-11-30T06:29:43.947Z"
   },
   {
    "duration": 45,
    "start_time": "2021-11-30T06:29:59.819Z"
   },
   {
    "duration": 45,
    "start_time": "2021-11-30T06:30:26.740Z"
   },
   {
    "duration": 102,
    "start_time": "2021-11-30T06:37:34.153Z"
   },
   {
    "duration": 83,
    "start_time": "2021-11-30T06:41:00.076Z"
   },
   {
    "duration": 76,
    "start_time": "2021-11-30T06:59:45.882Z"
   },
   {
    "duration": 72,
    "start_time": "2021-11-30T07:02:03.912Z"
   },
   {
    "duration": 63,
    "start_time": "2021-11-30T07:08:43.357Z"
   },
   {
    "duration": 2698,
    "start_time": "2021-11-30T07:27:19.692Z"
   },
   {
    "duration": 1000,
    "start_time": "2021-11-30T07:27:40.048Z"
   },
   {
    "duration": 3836,
    "start_time": "2021-11-30T07:27:44.065Z"
   },
   {
    "duration": 262,
    "start_time": "2021-11-30T07:35:23.652Z"
   },
   {
    "duration": 124,
    "start_time": "2021-11-30T07:35:38.150Z"
   },
   {
    "duration": 150,
    "start_time": "2021-11-30T07:37:52.017Z"
   },
   {
    "duration": 3553,
    "start_time": "2021-11-30T07:38:17.848Z"
   },
   {
    "duration": 3515,
    "start_time": "2021-11-30T07:38:32.961Z"
   },
   {
    "duration": 3629,
    "start_time": "2021-11-30T07:39:00.409Z"
   },
   {
    "duration": 3557,
    "start_time": "2021-11-30T07:39:46.922Z"
   },
   {
    "duration": 198,
    "start_time": "2021-11-30T07:41:03.255Z"
   },
   {
    "duration": 89,
    "start_time": "2021-11-30T07:41:11.506Z"
   },
   {
    "duration": 81,
    "start_time": "2021-11-30T07:41:15.138Z"
   },
   {
    "duration": 75,
    "start_time": "2021-11-30T07:41:17.506Z"
   },
   {
    "duration": 96,
    "start_time": "2021-11-30T07:41:23.764Z"
   },
   {
    "duration": 12,
    "start_time": "2021-11-30T07:41:25.113Z"
   },
   {
    "duration": 71,
    "start_time": "2021-11-30T07:41:25.323Z"
   },
   {
    "duration": 177,
    "start_time": "2021-11-30T07:41:26.384Z"
   },
   {
    "duration": 77,
    "start_time": "2021-11-30T07:41:27.448Z"
   },
   {
    "duration": 1078,
    "start_time": "2021-11-30T07:41:29.099Z"
   },
   {
    "duration": 4038,
    "start_time": "2021-11-30T07:41:37.031Z"
   },
   {
    "duration": 3559,
    "start_time": "2021-11-30T07:42:44.141Z"
   },
   {
    "duration": 3591,
    "start_time": "2021-11-30T07:42:54.613Z"
   },
   {
    "duration": 3710,
    "start_time": "2021-11-30T07:45:02.429Z"
   },
   {
    "duration": 47,
    "start_time": "2021-11-30T07:46:44.672Z"
   },
   {
    "duration": 33,
    "start_time": "2021-11-30T07:46:50.830Z"
   },
   {
    "duration": 52,
    "start_time": "2021-11-30T07:47:02.857Z"
   },
   {
    "duration": 43,
    "start_time": "2021-11-30T07:52:53.062Z"
   },
   {
    "duration": 32,
    "start_time": "2021-11-30T07:53:16.412Z"
   },
   {
    "duration": 641,
    "start_time": "2021-11-30T17:32:55.703Z"
   },
   {
    "duration": 8,
    "start_time": "2021-11-30T17:32:56.346Z"
   },
   {
    "duration": 242,
    "start_time": "2021-11-30T17:32:56.356Z"
   },
   {
    "duration": -2497,
    "start_time": "2021-11-30T17:32:59.098Z"
   },
   {
    "duration": -2502,
    "start_time": "2021-11-30T17:32:59.104Z"
   },
   {
    "duration": 179,
    "start_time": "2021-11-30T17:33:23.239Z"
   },
   {
    "duration": 46,
    "start_time": "2021-11-30T17:34:17.231Z"
   },
   {
    "duration": 14,
    "start_time": "2021-11-30T17:35:20.448Z"
   },
   {
    "duration": 70,
    "start_time": "2022-04-26T13:39:44.150Z"
   },
   {
    "duration": 454,
    "start_time": "2022-04-26T13:40:20.204Z"
   },
   {
    "duration": 113,
    "start_time": "2022-04-26T13:40:20.718Z"
   },
   {
    "duration": 101,
    "start_time": "2022-04-26T13:41:48.974Z"
   },
   {
    "duration": 126,
    "start_time": "2022-04-26T13:42:14.886Z"
   },
   {
    "duration": 95,
    "start_time": "2022-04-26T13:42:29.455Z"
   },
   {
    "duration": 11,
    "start_time": "2022-04-26T13:49:20.944Z"
   },
   {
    "duration": 5,
    "start_time": "2022-04-26T13:49:23.091Z"
   },
   {
    "duration": 13,
    "start_time": "2022-04-26T13:49:23.555Z"
   },
   {
    "duration": 52,
    "start_time": "2022-04-26T13:49:24.603Z"
   },
   {
    "duration": 35,
    "start_time": "2022-04-26T13:49:29.859Z"
   },
   {
    "duration": 9,
    "start_time": "2022-04-26T13:49:38.031Z"
   },
   {
    "duration": 6,
    "start_time": "2022-04-26T13:49:39.348Z"
   },
   {
    "duration": 10,
    "start_time": "2022-04-26T13:49:39.883Z"
   },
   {
    "duration": 33,
    "start_time": "2022-04-26T13:49:41.220Z"
   },
   {
    "duration": 21,
    "start_time": "2022-04-26T13:49:42.275Z"
   },
   {
    "duration": 121,
    "start_time": "2022-04-26T13:59:06.767Z"
   },
   {
    "duration": 83,
    "start_time": "2022-04-26T14:01:30.213Z"
   },
   {
    "duration": 68,
    "start_time": "2022-04-26T14:01:55.873Z"
   },
   {
    "duration": 121,
    "start_time": "2022-04-26T14:02:01.912Z"
   },
   {
    "duration": 76,
    "start_time": "2022-04-26T14:02:03.773Z"
   },
   {
    "duration": 4,
    "start_time": "2022-04-26T14:02:13.369Z"
   },
   {
    "duration": 98,
    "start_time": "2022-04-26T14:02:13.377Z"
   },
   {
    "duration": 10,
    "start_time": "2022-04-26T14:02:13.478Z"
   },
   {
    "duration": 6,
    "start_time": "2022-04-26T14:02:13.491Z"
   },
   {
    "duration": 6,
    "start_time": "2022-04-26T14:02:13.500Z"
   },
   {
    "duration": 51,
    "start_time": "2022-04-26T14:02:13.508Z"
   },
   {
    "duration": 34,
    "start_time": "2022-04-26T14:02:13.562Z"
   },
   {
    "duration": 18,
    "start_time": "2022-04-26T14:02:13.599Z"
   },
   {
    "duration": 260,
    "start_time": "2022-04-26T14:02:13.620Z"
   },
   {
    "duration": 79,
    "start_time": "2022-04-26T14:02:17.101Z"
   },
   {
    "duration": 927,
    "start_time": "2022-04-26T14:02:56.678Z"
   },
   {
    "duration": 4292,
    "start_time": "2022-04-26T14:03:58.728Z"
   },
   {
    "duration": 66,
    "start_time": "2022-04-26T14:08:46.142Z"
   },
   {
    "duration": 29,
    "start_time": "2022-04-26T14:10:49.931Z"
   },
   {
    "duration": 48,
    "start_time": "2022-04-26T14:15:44.964Z"
   },
   {
    "duration": 28,
    "start_time": "2022-04-26T14:18:39.274Z"
   },
   {
    "duration": 4,
    "start_time": "2022-04-26T14:21:19.001Z"
   },
   {
    "duration": 110,
    "start_time": "2022-04-26T14:21:19.008Z"
   },
   {
    "duration": 11,
    "start_time": "2022-04-26T14:21:19.120Z"
   },
   {
    "duration": 21,
    "start_time": "2022-04-26T14:21:19.134Z"
   },
   {
    "duration": 7,
    "start_time": "2022-04-26T14:21:19.157Z"
   },
   {
    "duration": 9,
    "start_time": "2022-04-26T14:21:19.167Z"
   },
   {
    "duration": 31,
    "start_time": "2022-04-26T14:21:19.178Z"
   },
   {
    "duration": 51,
    "start_time": "2022-04-26T14:21:19.211Z"
   },
   {
    "duration": 132,
    "start_time": "2022-04-26T14:21:19.264Z"
   },
   {
    "duration": 92,
    "start_time": "2022-04-26T14:21:19.399Z"
   },
   {
    "duration": 947,
    "start_time": "2022-04-26T14:21:19.493Z"
   },
   {
    "duration": 4131,
    "start_time": "2022-04-26T14:21:20.442Z"
   },
   {
    "duration": 44,
    "start_time": "2022-04-26T14:21:24.575Z"
   },
   {
    "duration": 49,
    "start_time": "2022-04-26T14:21:24.621Z"
   },
   {
    "duration": 33,
    "start_time": "2022-04-26T14:21:24.672Z"
   },
   {
    "duration": 58,
    "start_time": "2022-04-26T14:21:24.707Z"
   },
   {
    "duration": 3,
    "start_time": "2022-04-26T14:21:57.826Z"
   },
   {
    "duration": 104,
    "start_time": "2022-04-26T14:21:57.831Z"
   },
   {
    "duration": 24,
    "start_time": "2022-04-26T14:21:57.938Z"
   },
   {
    "duration": 9,
    "start_time": "2022-04-26T14:21:57.965Z"
   },
   {
    "duration": 7,
    "start_time": "2022-04-26T14:21:57.979Z"
   },
   {
    "duration": 13,
    "start_time": "2022-04-26T14:21:57.989Z"
   },
   {
    "duration": 83,
    "start_time": "2022-04-26T14:21:58.005Z"
   },
   {
    "duration": 32,
    "start_time": "2022-04-26T14:21:58.091Z"
   },
   {
    "duration": 237,
    "start_time": "2022-04-26T14:21:58.126Z"
   },
   {
    "duration": 135,
    "start_time": "2022-04-26T14:21:58.366Z"
   },
   {
    "duration": 960,
    "start_time": "2022-04-26T14:21:58.505Z"
   },
   {
    "duration": 4527,
    "start_time": "2022-04-26T14:21:59.468Z"
   },
   {
    "duration": 62,
    "start_time": "2022-04-26T14:22:03.998Z"
   },
   {
    "duration": 29,
    "start_time": "2022-04-26T14:22:04.062Z"
   },
   {
    "duration": 41,
    "start_time": "2022-04-26T14:22:04.094Z"
   },
   {
    "duration": 41,
    "start_time": "2022-04-26T14:22:04.153Z"
   },
   {
    "duration": 5,
    "start_time": "2022-04-26T14:22:46.057Z"
   },
   {
    "duration": 175,
    "start_time": "2022-04-26T14:22:46.065Z"
   },
   {
    "duration": 15,
    "start_time": "2022-04-26T14:22:46.251Z"
   },
   {
    "duration": 9,
    "start_time": "2022-04-26T14:22:46.270Z"
   },
   {
    "duration": 13,
    "start_time": "2022-04-26T14:22:46.281Z"
   },
   {
    "duration": 14,
    "start_time": "2022-04-26T14:22:46.297Z"
   },
   {
    "duration": 81,
    "start_time": "2022-04-26T14:22:46.314Z"
   },
   {
    "duration": 28,
    "start_time": "2022-04-26T14:22:46.398Z"
   },
   {
    "duration": 148,
    "start_time": "2022-04-26T14:22:46.429Z"
   },
   {
    "duration": 94,
    "start_time": "2022-04-26T14:22:46.579Z"
   },
   {
    "duration": 961,
    "start_time": "2022-04-26T14:22:46.675Z"
   },
   {
    "duration": 4226,
    "start_time": "2022-04-26T14:22:47.638Z"
   },
   {
    "duration": 85,
    "start_time": "2022-04-26T14:22:51.867Z"
   },
   {
    "duration": 32,
    "start_time": "2022-04-26T14:22:51.954Z"
   },
   {
    "duration": 36,
    "start_time": "2022-04-26T14:22:51.988Z"
   },
   {
    "duration": 29,
    "start_time": "2022-04-26T14:22:52.051Z"
   },
   {
    "duration": 530,
    "start_time": "2022-04-26T14:23:27.409Z"
   },
   {
    "duration": 121,
    "start_time": "2022-04-26T14:23:27.942Z"
   },
   {
    "duration": 11,
    "start_time": "2022-04-26T14:23:28.066Z"
   },
   {
    "duration": 11,
    "start_time": "2022-04-26T14:23:28.080Z"
   },
   {
    "duration": 19,
    "start_time": "2022-04-26T14:23:28.093Z"
   },
   {
    "duration": 21,
    "start_time": "2022-04-26T14:23:28.114Z"
   },
   {
    "duration": 48,
    "start_time": "2022-04-26T14:23:28.137Z"
   },
   {
    "duration": 22,
    "start_time": "2022-04-26T14:23:28.187Z"
   },
   {
    "duration": 152,
    "start_time": "2022-04-26T14:23:28.211Z"
   },
   {
    "duration": 94,
    "start_time": "2022-04-26T14:23:28.366Z"
   },
   {
    "duration": 938,
    "start_time": "2022-04-26T14:23:28.462Z"
   },
   {
    "duration": 4452,
    "start_time": "2022-04-26T14:23:29.403Z"
   },
   {
    "duration": 48,
    "start_time": "2022-04-26T14:23:33.858Z"
   },
   {
    "duration": 55,
    "start_time": "2022-04-26T14:23:33.909Z"
   },
   {
    "duration": 34,
    "start_time": "2022-04-26T14:23:33.967Z"
   },
   {
    "duration": 58,
    "start_time": "2022-04-26T14:23:34.003Z"
   }
  ],
  "kernelspec": {
   "display_name": "Python 3 (ipykernel)",
   "language": "python",
   "name": "python3"
  },
  "language_info": {
   "codemirror_mode": {
    "name": "ipython",
    "version": 3
   },
   "file_extension": ".py",
   "mimetype": "text/x-python",
   "name": "python",
   "nbconvert_exporter": "python",
   "pygments_lexer": "ipython3",
   "version": "3.9.5"
  },
  "toc": {
   "base_numbering": 1,
   "nav_menu": {},
   "number_sections": true,
   "sideBar": true,
   "skip_h1_title": true,
   "title_cell": "Table of Contents",
   "title_sidebar": "Contents",
   "toc_cell": false,
   "toc_position": {},
   "toc_section_display": true,
   "toc_window_display": false
  }
 },
 "nbformat": 4,
 "nbformat_minor": 2
}

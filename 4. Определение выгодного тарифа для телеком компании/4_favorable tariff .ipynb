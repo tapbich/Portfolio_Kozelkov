{
 "cells": [
  {
   "cell_type": "markdown",
   "metadata": {},
   "source": [
    "# Определение перспективного тарифа для телеком-компании"
   ]
  },
  {
   "cell_type": "markdown",
   "metadata": {},
   "source": [
    "Я аналитик компании федерального оператора сотовой связи. Клиентам предлагают два тарифных плана: «Смарт» и «Ультра». Чтобы скорректировать рекламный бюджет, коммерческий департамент хочет понять, какой тариф приносит больше денег.\n",
    "\n",
    "**Предстоит:**\n",
    "* Сделать предварительный анализ тарифов на небольшой выборке клиентов.\n",
    "* Проанализировать пользователей: кто они, откуда, каким тарифом пользуются, сколько звонков и сообщений каждый отправил за 2018 год.\n",
    "* Проанализировать поведение клиентов и сделать вывод — какой тариф лучше.\n",
    "\n",
    "\n",
    "**Описание тарифов**\n",
    "\n",
    "**Тариф «Смарт»**\n",
    "* Ежемесячная плата: 550 рублей\n",
    "* Включено 500 минут разговора, 50 сообщений и 15 Гб интернет-трафика\n",
    "* Стоимость услуг сверх тарифного пакета:\n",
    "  * минута разговора: 3 рубля\n",
    "  * сообщение: 3 рубля\n",
    "  * 1 Гб интернет-трафика: 200 рублей\n",
    "\n",
    "**Тариф «Ультра»**\n",
    "* Ежемесячная плата: 1950 рублей\n",
    "* Включено 3000 минут разговора, 1000 сообщений и 30 Гб интернет-трафика\n",
    "* Стоимость услуг сверх тарифного пакета:\n",
    "  * минута разговора: 1 рубль\n",
    "  * сообщение: 1 рубль\n",
    "  * 1 Гб интернет-трафика: 150 рублей\n",
    "  \n",
    "**Примечание**\n",
    "* Оператор всегда округляет секунды до минут, а мегабайты — до гигабайт. \n",
    "* Каждый звонок округляется отдельно: даже если он длился всего 1 секунду, будет засчитан как 1 минута.\n",
    "* Для веб-трафика отдельные сессии не считаются. Вместо этого общая сумма за месяц округляется в бо́льшую сторону. Если абонент использует 1025 мегабайт в этом месяце, с него возьмут плату за 2 гигабайта. \n",
    "* Примите, что неиспользованные за предыдущий месяц звонки, смс, интернет на следующий месяц не переносятся."
   ]
  },
  {
   "cell_type": "markdown",
   "metadata": {},
   "source": [
    "##  Откроем файлы и изучим общую информацию"
   ]
  },
  {
   "cell_type": "code",
   "execution_count": 1,
   "metadata": {},
   "outputs": [],
   "source": [
    "import pandas as pd\n",
    "import numpy as np\n",
    "from datetime import datetime\n",
    "import matplotlib.pyplot as plt\n",
    "from scipy import stats as st\n",
    "\n",
    "data_calls = pd.read_csv('/file.csv')\n",
    "data_internet = pd.read_csv('/file2.csv', index_col=0)\n",
    "data_msg = pd.read_csv('/file3.csv')\n",
    "data_tarif = pd.read_csv('/file4.csv')\n",
    "data_usr = pd.read_csv('/file5.csv')"
   ]
  },
  {
   "cell_type": "markdown",
   "metadata": {},
   "source": [
    " Таблица звонков"
   ]
  },
  {
   "cell_type": "code",
   "execution_count": 2,
   "metadata": {},
   "outputs": [
    {
     "data": {
      "text/html": [
       "<div>\n",
       "<style scoped>\n",
       "    .dataframe tbody tr th:only-of-type {\n",
       "        vertical-align: middle;\n",
       "    }\n",
       "\n",
       "    .dataframe tbody tr th {\n",
       "        vertical-align: top;\n",
       "    }\n",
       "\n",
       "    .dataframe thead th {\n",
       "        text-align: right;\n",
       "    }\n",
       "</style>\n",
       "<table border=\"1\" class=\"dataframe\">\n",
       "  <thead>\n",
       "    <tr style=\"text-align: right;\">\n",
       "      <th></th>\n",
       "      <th>id</th>\n",
       "      <th>call_date</th>\n",
       "      <th>duration</th>\n",
       "      <th>user_id</th>\n",
       "    </tr>\n",
       "  </thead>\n",
       "  <tbody>\n",
       "    <tr>\n",
       "      <th>0</th>\n",
       "      <td>1000_0</td>\n",
       "      <td>2018-07-25</td>\n",
       "      <td>0.00</td>\n",
       "      <td>1000</td>\n",
       "    </tr>\n",
       "    <tr>\n",
       "      <th>1</th>\n",
       "      <td>1000_1</td>\n",
       "      <td>2018-08-17</td>\n",
       "      <td>0.00</td>\n",
       "      <td>1000</td>\n",
       "    </tr>\n",
       "    <tr>\n",
       "      <th>2</th>\n",
       "      <td>1000_2</td>\n",
       "      <td>2018-06-11</td>\n",
       "      <td>2.85</td>\n",
       "      <td>1000</td>\n",
       "    </tr>\n",
       "    <tr>\n",
       "      <th>3</th>\n",
       "      <td>1000_3</td>\n",
       "      <td>2018-09-21</td>\n",
       "      <td>13.80</td>\n",
       "      <td>1000</td>\n",
       "    </tr>\n",
       "    <tr>\n",
       "      <th>4</th>\n",
       "      <td>1000_4</td>\n",
       "      <td>2018-12-15</td>\n",
       "      <td>5.18</td>\n",
       "      <td>1000</td>\n",
       "    </tr>\n",
       "  </tbody>\n",
       "</table>\n",
       "</div>"
      ],
      "text/plain": [
       "       id   call_date  duration  user_id\n",
       "0  1000_0  2018-07-25      0.00     1000\n",
       "1  1000_1  2018-08-17      0.00     1000\n",
       "2  1000_2  2018-06-11      2.85     1000\n",
       "3  1000_3  2018-09-21     13.80     1000\n",
       "4  1000_4  2018-12-15      5.18     1000"
      ]
     },
     "metadata": {},
     "output_type": "display_data"
    },
    {
     "name": "stdout",
     "output_type": "stream",
     "text": [
      "<class 'pandas.core.frame.DataFrame'>\n",
      "RangeIndex: 202607 entries, 0 to 202606\n",
      "Data columns (total 4 columns):\n",
      " #   Column     Non-Null Count   Dtype  \n",
      "---  ------     --------------   -----  \n",
      " 0   id         202607 non-null  object \n",
      " 1   call_date  202607 non-null  object \n",
      " 2   duration   202607 non-null  float64\n",
      " 3   user_id    202607 non-null  int64  \n",
      "dtypes: float64(1), int64(1), object(2)\n",
      "memory usage: 6.2+ MB\n"
     ]
    },
    {
     "data": {
      "text/html": [
       "<div>\n",
       "<style scoped>\n",
       "    .dataframe tbody tr th:only-of-type {\n",
       "        vertical-align: middle;\n",
       "    }\n",
       "\n",
       "    .dataframe tbody tr th {\n",
       "        vertical-align: top;\n",
       "    }\n",
       "\n",
       "    .dataframe thead th {\n",
       "        text-align: right;\n",
       "    }\n",
       "</style>\n",
       "<table border=\"1\" class=\"dataframe\">\n",
       "  <thead>\n",
       "    <tr style=\"text-align: right;\">\n",
       "      <th></th>\n",
       "      <th>duration</th>\n",
       "      <th>user_id</th>\n",
       "    </tr>\n",
       "  </thead>\n",
       "  <tbody>\n",
       "    <tr>\n",
       "      <th>count</th>\n",
       "      <td>202607.000000</td>\n",
       "      <td>202607.000000</td>\n",
       "    </tr>\n",
       "    <tr>\n",
       "      <th>mean</th>\n",
       "      <td>6.755887</td>\n",
       "      <td>1253.940619</td>\n",
       "    </tr>\n",
       "    <tr>\n",
       "      <th>std</th>\n",
       "      <td>5.843365</td>\n",
       "      <td>144.722751</td>\n",
       "    </tr>\n",
       "    <tr>\n",
       "      <th>min</th>\n",
       "      <td>0.000000</td>\n",
       "      <td>1000.000000</td>\n",
       "    </tr>\n",
       "    <tr>\n",
       "      <th>25%</th>\n",
       "      <td>1.300000</td>\n",
       "      <td>1126.000000</td>\n",
       "    </tr>\n",
       "    <tr>\n",
       "      <th>50%</th>\n",
       "      <td>6.000000</td>\n",
       "      <td>1260.000000</td>\n",
       "    </tr>\n",
       "    <tr>\n",
       "      <th>75%</th>\n",
       "      <td>10.700000</td>\n",
       "      <td>1379.000000</td>\n",
       "    </tr>\n",
       "    <tr>\n",
       "      <th>max</th>\n",
       "      <td>38.000000</td>\n",
       "      <td>1499.000000</td>\n",
       "    </tr>\n",
       "  </tbody>\n",
       "</table>\n",
       "</div>"
      ],
      "text/plain": [
       "            duration        user_id\n",
       "count  202607.000000  202607.000000\n",
       "mean        6.755887    1253.940619\n",
       "std         5.843365     144.722751\n",
       "min         0.000000    1000.000000\n",
       "25%         1.300000    1126.000000\n",
       "50%         6.000000    1260.000000\n",
       "75%        10.700000    1379.000000\n",
       "max        38.000000    1499.000000"
      ]
     },
     "execution_count": 2,
     "metadata": {},
     "output_type": "execute_result"
    }
   ],
   "source": [
    "display(data_calls.head())\n",
    "data_calls.info()\n",
    "data_calls.describe()"
   ]
  },
  {
   "cell_type": "markdown",
   "metadata": {},
   "source": [
    "Таблица интернет-трафика"
   ]
  },
  {
   "cell_type": "code",
   "execution_count": 3,
   "metadata": {},
   "outputs": [
    {
     "data": {
      "text/html": [
       "<div>\n",
       "<style scoped>\n",
       "    .dataframe tbody tr th:only-of-type {\n",
       "        vertical-align: middle;\n",
       "    }\n",
       "\n",
       "    .dataframe tbody tr th {\n",
       "        vertical-align: top;\n",
       "    }\n",
       "\n",
       "    .dataframe thead th {\n",
       "        text-align: right;\n",
       "    }\n",
       "</style>\n",
       "<table border=\"1\" class=\"dataframe\">\n",
       "  <thead>\n",
       "    <tr style=\"text-align: right;\">\n",
       "      <th></th>\n",
       "      <th>id</th>\n",
       "      <th>mb_used</th>\n",
       "      <th>session_date</th>\n",
       "      <th>user_id</th>\n",
       "    </tr>\n",
       "  </thead>\n",
       "  <tbody>\n",
       "    <tr>\n",
       "      <th>0</th>\n",
       "      <td>1000_0</td>\n",
       "      <td>112.95</td>\n",
       "      <td>2018-11-25</td>\n",
       "      <td>1000</td>\n",
       "    </tr>\n",
       "    <tr>\n",
       "      <th>1</th>\n",
       "      <td>1000_1</td>\n",
       "      <td>1052.81</td>\n",
       "      <td>2018-09-07</td>\n",
       "      <td>1000</td>\n",
       "    </tr>\n",
       "    <tr>\n",
       "      <th>2</th>\n",
       "      <td>1000_2</td>\n",
       "      <td>1197.26</td>\n",
       "      <td>2018-06-25</td>\n",
       "      <td>1000</td>\n",
       "    </tr>\n",
       "    <tr>\n",
       "      <th>3</th>\n",
       "      <td>1000_3</td>\n",
       "      <td>550.27</td>\n",
       "      <td>2018-08-22</td>\n",
       "      <td>1000</td>\n",
       "    </tr>\n",
       "    <tr>\n",
       "      <th>4</th>\n",
       "      <td>1000_4</td>\n",
       "      <td>302.56</td>\n",
       "      <td>2018-09-24</td>\n",
       "      <td>1000</td>\n",
       "    </tr>\n",
       "  </tbody>\n",
       "</table>\n",
       "</div>"
      ],
      "text/plain": [
       "       id  mb_used session_date  user_id\n",
       "0  1000_0   112.95   2018-11-25     1000\n",
       "1  1000_1  1052.81   2018-09-07     1000\n",
       "2  1000_2  1197.26   2018-06-25     1000\n",
       "3  1000_3   550.27   2018-08-22     1000\n",
       "4  1000_4   302.56   2018-09-24     1000"
      ]
     },
     "metadata": {},
     "output_type": "display_data"
    },
    {
     "name": "stdout",
     "output_type": "stream",
     "text": [
      "<class 'pandas.core.frame.DataFrame'>\n",
      "Int64Index: 149396 entries, 0 to 149395\n",
      "Data columns (total 4 columns):\n",
      " #   Column        Non-Null Count   Dtype  \n",
      "---  ------        --------------   -----  \n",
      " 0   id            149396 non-null  object \n",
      " 1   mb_used       149396 non-null  float64\n",
      " 2   session_date  149396 non-null  object \n",
      " 3   user_id       149396 non-null  int64  \n",
      "dtypes: float64(1), int64(1), object(2)\n",
      "memory usage: 5.7+ MB\n"
     ]
    },
    {
     "data": {
      "text/html": [
       "<div>\n",
       "<style scoped>\n",
       "    .dataframe tbody tr th:only-of-type {\n",
       "        vertical-align: middle;\n",
       "    }\n",
       "\n",
       "    .dataframe tbody tr th {\n",
       "        vertical-align: top;\n",
       "    }\n",
       "\n",
       "    .dataframe thead th {\n",
       "        text-align: right;\n",
       "    }\n",
       "</style>\n",
       "<table border=\"1\" class=\"dataframe\">\n",
       "  <thead>\n",
       "    <tr style=\"text-align: right;\">\n",
       "      <th></th>\n",
       "      <th>mb_used</th>\n",
       "      <th>user_id</th>\n",
       "    </tr>\n",
       "  </thead>\n",
       "  <tbody>\n",
       "    <tr>\n",
       "      <th>count</th>\n",
       "      <td>149396.000000</td>\n",
       "      <td>149396.000000</td>\n",
       "    </tr>\n",
       "    <tr>\n",
       "      <th>mean</th>\n",
       "      <td>370.192426</td>\n",
       "      <td>1252.099842</td>\n",
       "    </tr>\n",
       "    <tr>\n",
       "      <th>std</th>\n",
       "      <td>278.300951</td>\n",
       "      <td>144.050823</td>\n",
       "    </tr>\n",
       "    <tr>\n",
       "      <th>min</th>\n",
       "      <td>0.000000</td>\n",
       "      <td>1000.000000</td>\n",
       "    </tr>\n",
       "    <tr>\n",
       "      <th>25%</th>\n",
       "      <td>138.187500</td>\n",
       "      <td>1130.000000</td>\n",
       "    </tr>\n",
       "    <tr>\n",
       "      <th>50%</th>\n",
       "      <td>348.015000</td>\n",
       "      <td>1251.000000</td>\n",
       "    </tr>\n",
       "    <tr>\n",
       "      <th>75%</th>\n",
       "      <td>559.552500</td>\n",
       "      <td>1380.000000</td>\n",
       "    </tr>\n",
       "    <tr>\n",
       "      <th>max</th>\n",
       "      <td>1724.830000</td>\n",
       "      <td>1499.000000</td>\n",
       "    </tr>\n",
       "  </tbody>\n",
       "</table>\n",
       "</div>"
      ],
      "text/plain": [
       "             mb_used        user_id\n",
       "count  149396.000000  149396.000000\n",
       "mean      370.192426    1252.099842\n",
       "std       278.300951     144.050823\n",
       "min         0.000000    1000.000000\n",
       "25%       138.187500    1130.000000\n",
       "50%       348.015000    1251.000000\n",
       "75%       559.552500    1380.000000\n",
       "max      1724.830000    1499.000000"
      ]
     },
     "execution_count": 3,
     "metadata": {},
     "output_type": "execute_result"
    }
   ],
   "source": [
    "display(data_internet.head())\n",
    "data_internet.info()\n",
    "data_internet.describe()"
   ]
  },
  {
   "cell_type": "markdown",
   "metadata": {},
   "source": [
    "Таблица с информацией по сообщениям"
   ]
  },
  {
   "cell_type": "code",
   "execution_count": 4,
   "metadata": {},
   "outputs": [
    {
     "data": {
      "text/html": [
       "<div>\n",
       "<style scoped>\n",
       "    .dataframe tbody tr th:only-of-type {\n",
       "        vertical-align: middle;\n",
       "    }\n",
       "\n",
       "    .dataframe tbody tr th {\n",
       "        vertical-align: top;\n",
       "    }\n",
       "\n",
       "    .dataframe thead th {\n",
       "        text-align: right;\n",
       "    }\n",
       "</style>\n",
       "<table border=\"1\" class=\"dataframe\">\n",
       "  <thead>\n",
       "    <tr style=\"text-align: right;\">\n",
       "      <th></th>\n",
       "      <th>id</th>\n",
       "      <th>message_date</th>\n",
       "      <th>user_id</th>\n",
       "    </tr>\n",
       "  </thead>\n",
       "  <tbody>\n",
       "    <tr>\n",
       "      <th>0</th>\n",
       "      <td>1000_0</td>\n",
       "      <td>2018-06-27</td>\n",
       "      <td>1000</td>\n",
       "    </tr>\n",
       "    <tr>\n",
       "      <th>1</th>\n",
       "      <td>1000_1</td>\n",
       "      <td>2018-10-08</td>\n",
       "      <td>1000</td>\n",
       "    </tr>\n",
       "    <tr>\n",
       "      <th>2</th>\n",
       "      <td>1000_2</td>\n",
       "      <td>2018-08-04</td>\n",
       "      <td>1000</td>\n",
       "    </tr>\n",
       "    <tr>\n",
       "      <th>3</th>\n",
       "      <td>1000_3</td>\n",
       "      <td>2018-06-16</td>\n",
       "      <td>1000</td>\n",
       "    </tr>\n",
       "    <tr>\n",
       "      <th>4</th>\n",
       "      <td>1000_4</td>\n",
       "      <td>2018-12-05</td>\n",
       "      <td>1000</td>\n",
       "    </tr>\n",
       "  </tbody>\n",
       "</table>\n",
       "</div>"
      ],
      "text/plain": [
       "       id message_date  user_id\n",
       "0  1000_0   2018-06-27     1000\n",
       "1  1000_1   2018-10-08     1000\n",
       "2  1000_2   2018-08-04     1000\n",
       "3  1000_3   2018-06-16     1000\n",
       "4  1000_4   2018-12-05     1000"
      ]
     },
     "metadata": {},
     "output_type": "display_data"
    },
    {
     "name": "stdout",
     "output_type": "stream",
     "text": [
      "<class 'pandas.core.frame.DataFrame'>\n",
      "RangeIndex: 123036 entries, 0 to 123035\n",
      "Data columns (total 3 columns):\n",
      " #   Column        Non-Null Count   Dtype \n",
      "---  ------        --------------   ----- \n",
      " 0   id            123036 non-null  object\n",
      " 1   message_date  123036 non-null  object\n",
      " 2   user_id       123036 non-null  int64 \n",
      "dtypes: int64(1), object(2)\n",
      "memory usage: 2.8+ MB\n"
     ]
    }
   ],
   "source": [
    "display(data_msg.head())\n",
    "data_msg.info()"
   ]
  },
  {
   "cell_type": "markdown",
   "metadata": {},
   "source": [
    "Таблица описания тарифов"
   ]
  },
  {
   "cell_type": "code",
   "execution_count": 5,
   "metadata": {},
   "outputs": [
    {
     "data": {
      "text/html": [
       "<div>\n",
       "<style scoped>\n",
       "    .dataframe tbody tr th:only-of-type {\n",
       "        vertical-align: middle;\n",
       "    }\n",
       "\n",
       "    .dataframe tbody tr th {\n",
       "        vertical-align: top;\n",
       "    }\n",
       "\n",
       "    .dataframe thead th {\n",
       "        text-align: right;\n",
       "    }\n",
       "</style>\n",
       "<table border=\"1\" class=\"dataframe\">\n",
       "  <thead>\n",
       "    <tr style=\"text-align: right;\">\n",
       "      <th></th>\n",
       "      <th>messages_included</th>\n",
       "      <th>mb_per_month_included</th>\n",
       "      <th>minutes_included</th>\n",
       "      <th>rub_monthly_fee</th>\n",
       "      <th>rub_per_gb</th>\n",
       "      <th>rub_per_message</th>\n",
       "      <th>rub_per_minute</th>\n",
       "      <th>tariff_name</th>\n",
       "    </tr>\n",
       "  </thead>\n",
       "  <tbody>\n",
       "    <tr>\n",
       "      <th>0</th>\n",
       "      <td>50</td>\n",
       "      <td>15360</td>\n",
       "      <td>500</td>\n",
       "      <td>550</td>\n",
       "      <td>200</td>\n",
       "      <td>3</td>\n",
       "      <td>3</td>\n",
       "      <td>smart</td>\n",
       "    </tr>\n",
       "    <tr>\n",
       "      <th>1</th>\n",
       "      <td>1000</td>\n",
       "      <td>30720</td>\n",
       "      <td>3000</td>\n",
       "      <td>1950</td>\n",
       "      <td>150</td>\n",
       "      <td>1</td>\n",
       "      <td>1</td>\n",
       "      <td>ultra</td>\n",
       "    </tr>\n",
       "  </tbody>\n",
       "</table>\n",
       "</div>"
      ],
      "text/plain": [
       "   messages_included  mb_per_month_included  minutes_included  \\\n",
       "0                 50                  15360               500   \n",
       "1               1000                  30720              3000   \n",
       "\n",
       "   rub_monthly_fee  rub_per_gb  rub_per_message  rub_per_minute tariff_name  \n",
       "0              550         200                3               3       smart  \n",
       "1             1950         150                1               1       ultra  "
      ]
     },
     "metadata": {},
     "output_type": "display_data"
    },
    {
     "name": "stdout",
     "output_type": "stream",
     "text": [
      "<class 'pandas.core.frame.DataFrame'>\n",
      "RangeIndex: 2 entries, 0 to 1\n",
      "Data columns (total 8 columns):\n",
      " #   Column                 Non-Null Count  Dtype \n",
      "---  ------                 --------------  ----- \n",
      " 0   messages_included      2 non-null      int64 \n",
      " 1   mb_per_month_included  2 non-null      int64 \n",
      " 2   minutes_included       2 non-null      int64 \n",
      " 3   rub_monthly_fee        2 non-null      int64 \n",
      " 4   rub_per_gb             2 non-null      int64 \n",
      " 5   rub_per_message        2 non-null      int64 \n",
      " 6   rub_per_minute         2 non-null      int64 \n",
      " 7   tariff_name            2 non-null      object\n",
      "dtypes: int64(7), object(1)\n",
      "memory usage: 256.0+ bytes\n"
     ]
    }
   ],
   "source": [
    "display(data_tarif.head())\n",
    "data_tarif.info()"
   ]
  },
  {
   "cell_type": "markdown",
   "metadata": {},
   "source": [
    "Таблица с информацией о пользователях"
   ]
  },
  {
   "cell_type": "code",
   "execution_count": 6,
   "metadata": {},
   "outputs": [
    {
     "data": {
      "text/html": [
       "<div>\n",
       "<style scoped>\n",
       "    .dataframe tbody tr th:only-of-type {\n",
       "        vertical-align: middle;\n",
       "    }\n",
       "\n",
       "    .dataframe tbody tr th {\n",
       "        vertical-align: top;\n",
       "    }\n",
       "\n",
       "    .dataframe thead th {\n",
       "        text-align: right;\n",
       "    }\n",
       "</style>\n",
       "<table border=\"1\" class=\"dataframe\">\n",
       "  <thead>\n",
       "    <tr style=\"text-align: right;\">\n",
       "      <th></th>\n",
       "      <th>user_id</th>\n",
       "      <th>age</th>\n",
       "      <th>churn_date</th>\n",
       "      <th>city</th>\n",
       "      <th>first_name</th>\n",
       "      <th>last_name</th>\n",
       "      <th>reg_date</th>\n",
       "      <th>tariff</th>\n",
       "    </tr>\n",
       "  </thead>\n",
       "  <tbody>\n",
       "    <tr>\n",
       "      <th>0</th>\n",
       "      <td>1000</td>\n",
       "      <td>52</td>\n",
       "      <td>NaN</td>\n",
       "      <td>Краснодар</td>\n",
       "      <td>Рафаил</td>\n",
       "      <td>Верещагин</td>\n",
       "      <td>2018-05-25</td>\n",
       "      <td>ultra</td>\n",
       "    </tr>\n",
       "    <tr>\n",
       "      <th>1</th>\n",
       "      <td>1001</td>\n",
       "      <td>41</td>\n",
       "      <td>NaN</td>\n",
       "      <td>Москва</td>\n",
       "      <td>Иван</td>\n",
       "      <td>Ежов</td>\n",
       "      <td>2018-11-01</td>\n",
       "      <td>smart</td>\n",
       "    </tr>\n",
       "    <tr>\n",
       "      <th>2</th>\n",
       "      <td>1002</td>\n",
       "      <td>59</td>\n",
       "      <td>NaN</td>\n",
       "      <td>Стерлитамак</td>\n",
       "      <td>Евгений</td>\n",
       "      <td>Абрамович</td>\n",
       "      <td>2018-06-17</td>\n",
       "      <td>smart</td>\n",
       "    </tr>\n",
       "    <tr>\n",
       "      <th>3</th>\n",
       "      <td>1003</td>\n",
       "      <td>23</td>\n",
       "      <td>NaN</td>\n",
       "      <td>Москва</td>\n",
       "      <td>Белла</td>\n",
       "      <td>Белякова</td>\n",
       "      <td>2018-08-17</td>\n",
       "      <td>ultra</td>\n",
       "    </tr>\n",
       "    <tr>\n",
       "      <th>4</th>\n",
       "      <td>1004</td>\n",
       "      <td>68</td>\n",
       "      <td>NaN</td>\n",
       "      <td>Новокузнецк</td>\n",
       "      <td>Татьяна</td>\n",
       "      <td>Авдеенко</td>\n",
       "      <td>2018-05-14</td>\n",
       "      <td>ultra</td>\n",
       "    </tr>\n",
       "  </tbody>\n",
       "</table>\n",
       "</div>"
      ],
      "text/plain": [
       "   user_id  age churn_date         city first_name  last_name    reg_date  \\\n",
       "0     1000   52        NaN    Краснодар     Рафаил  Верещагин  2018-05-25   \n",
       "1     1001   41        NaN       Москва       Иван       Ежов  2018-11-01   \n",
       "2     1002   59        NaN  Стерлитамак    Евгений  Абрамович  2018-06-17   \n",
       "3     1003   23        NaN       Москва      Белла   Белякова  2018-08-17   \n",
       "4     1004   68        NaN  Новокузнецк    Татьяна   Авдеенко  2018-05-14   \n",
       "\n",
       "  tariff  \n",
       "0  ultra  \n",
       "1  smart  \n",
       "2  smart  \n",
       "3  ultra  \n",
       "4  ultra  "
      ]
     },
     "metadata": {},
     "output_type": "display_data"
    },
    {
     "name": "stdout",
     "output_type": "stream",
     "text": [
      "<class 'pandas.core.frame.DataFrame'>\n",
      "RangeIndex: 500 entries, 0 to 499\n",
      "Data columns (total 8 columns):\n",
      " #   Column      Non-Null Count  Dtype \n",
      "---  ------      --------------  ----- \n",
      " 0   user_id     500 non-null    int64 \n",
      " 1   age         500 non-null    int64 \n",
      " 2   churn_date  38 non-null     object\n",
      " 3   city        500 non-null    object\n",
      " 4   first_name  500 non-null    object\n",
      " 5   last_name   500 non-null    object\n",
      " 6   reg_date    500 non-null    object\n",
      " 7   tariff      500 non-null    object\n",
      "dtypes: int64(2), object(6)\n",
      "memory usage: 31.4+ KB\n"
     ]
    }
   ],
   "source": [
    "display(data_usr.head())\n",
    "data_usr.info()"
   ]
  },
  {
   "cell_type": "markdown",
   "metadata": {},
   "source": [
    "Все таблицы без пропусков, включаяя колонку churn_date, где NaN означает, что тариф еще действует."
   ]
  },
  {
   "cell_type": "markdown",
   "metadata": {},
   "source": [
    "## Подготовим данные и приведем к нужным типам"
   ]
  },
  {
   "cell_type": "markdown",
   "metadata": {},
   "source": [
    "### Приведем даты к правильному типу"
   ]
  },
  {
   "cell_type": "code",
   "execution_count": 7,
   "metadata": {},
   "outputs": [],
   "source": [
    "data_calls['duration'] = np.ceil(data_calls['duration'])\n",
    "\n",
    "data_calls['call_date'] = pd.to_datetime(data_calls['call_date'])\n",
    "\n",
    "data_internet['session_date'] = pd.to_datetime(data_internet['session_date'])\n",
    "\n",
    "data_msg['message_date'] = pd.to_datetime(data_msg['message_date'])\n",
    "\n",
    "data_usr['churn_date'] = pd.to_datetime(data_usr['churn_date'])\n",
    "\n",
    "data_usr['reg_date'] = pd.to_datetime(data_usr['reg_date'])"
   ]
  },
  {
   "cell_type": "code",
   "execution_count": 8,
   "metadata": {},
   "outputs": [
    {
     "name": "stdout",
     "output_type": "stream",
     "text": [
      "2018    202607\n",
      "Name: call_date, dtype: int64\n",
      "2018    149396\n",
      "Name: session_date, dtype: int64\n",
      "2018    123036\n",
      "Name: message_date, dtype: int64\n"
     ]
    }
   ],
   "source": [
    "# Проверим действительно ли все сессии были в 2018 году:\n",
    "print(data_calls['call_date'].dt.year.value_counts())\n",
    "print(data_internet['session_date'].dt.year.value_counts())\n",
    "print(data_msg['message_date'].dt.year.value_counts())"
   ]
  },
  {
   "cell_type": "code",
   "execution_count": 9,
   "metadata": {
    "scrolled": false
   },
   "outputs": [
    {
     "data": {
      "text/html": [
       "<div>\n",
       "<style scoped>\n",
       "    .dataframe tbody tr th:only-of-type {\n",
       "        vertical-align: middle;\n",
       "    }\n",
       "\n",
       "    .dataframe tbody tr th {\n",
       "        vertical-align: top;\n",
       "    }\n",
       "\n",
       "    .dataframe thead th {\n",
       "        text-align: right;\n",
       "    }\n",
       "</style>\n",
       "<table border=\"1\" class=\"dataframe\">\n",
       "  <thead>\n",
       "    <tr style=\"text-align: right;\">\n",
       "      <th></th>\n",
       "      <th>user_id</th>\n",
       "      <th>month</th>\n",
       "      <th>duration</th>\n",
       "      <th>mb_used</th>\n",
       "      <th>mess_count</th>\n",
       "      <th>age</th>\n",
       "      <th>churn_date</th>\n",
       "      <th>city</th>\n",
       "      <th>first_name</th>\n",
       "      <th>last_name</th>\n",
       "      <th>reg_date</th>\n",
       "      <th>tariff</th>\n",
       "    </tr>\n",
       "  </thead>\n",
       "  <tbody>\n",
       "    <tr>\n",
       "      <th>0</th>\n",
       "      <td>1000</td>\n",
       "      <td>5.0</td>\n",
       "      <td>159.0</td>\n",
       "      <td>2253.49</td>\n",
       "      <td>22.0</td>\n",
       "      <td>52</td>\n",
       "      <td>NaT</td>\n",
       "      <td>Краснодар</td>\n",
       "      <td>Рафаил</td>\n",
       "      <td>Верещагин</td>\n",
       "      <td>2018-05-25</td>\n",
       "      <td>ultra</td>\n",
       "    </tr>\n",
       "    <tr>\n",
       "      <th>1</th>\n",
       "      <td>1000</td>\n",
       "      <td>6.0</td>\n",
       "      <td>172.0</td>\n",
       "      <td>23233.77</td>\n",
       "      <td>60.0</td>\n",
       "      <td>52</td>\n",
       "      <td>NaT</td>\n",
       "      <td>Краснодар</td>\n",
       "      <td>Рафаил</td>\n",
       "      <td>Верещагин</td>\n",
       "      <td>2018-05-25</td>\n",
       "      <td>ultra</td>\n",
       "    </tr>\n",
       "    <tr>\n",
       "      <th>2</th>\n",
       "      <td>1000</td>\n",
       "      <td>7.0</td>\n",
       "      <td>340.0</td>\n",
       "      <td>14003.64</td>\n",
       "      <td>75.0</td>\n",
       "      <td>52</td>\n",
       "      <td>NaT</td>\n",
       "      <td>Краснодар</td>\n",
       "      <td>Рафаил</td>\n",
       "      <td>Верещагин</td>\n",
       "      <td>2018-05-25</td>\n",
       "      <td>ultra</td>\n",
       "    </tr>\n",
       "    <tr>\n",
       "      <th>3</th>\n",
       "      <td>1000</td>\n",
       "      <td>8.0</td>\n",
       "      <td>408.0</td>\n",
       "      <td>14055.93</td>\n",
       "      <td>81.0</td>\n",
       "      <td>52</td>\n",
       "      <td>NaT</td>\n",
       "      <td>Краснодар</td>\n",
       "      <td>Рафаил</td>\n",
       "      <td>Верещагин</td>\n",
       "      <td>2018-05-25</td>\n",
       "      <td>ultra</td>\n",
       "    </tr>\n",
       "    <tr>\n",
       "      <th>4</th>\n",
       "      <td>1000</td>\n",
       "      <td>9.0</td>\n",
       "      <td>466.0</td>\n",
       "      <td>14568.91</td>\n",
       "      <td>57.0</td>\n",
       "      <td>52</td>\n",
       "      <td>NaT</td>\n",
       "      <td>Краснодар</td>\n",
       "      <td>Рафаил</td>\n",
       "      <td>Верещагин</td>\n",
       "      <td>2018-05-25</td>\n",
       "      <td>ultra</td>\n",
       "    </tr>\n",
       "    <tr>\n",
       "      <th>...</th>\n",
       "      <td>...</td>\n",
       "      <td>...</td>\n",
       "      <td>...</td>\n",
       "      <td>...</td>\n",
       "      <td>...</td>\n",
       "      <td>...</td>\n",
       "      <td>...</td>\n",
       "      <td>...</td>\n",
       "      <td>...</td>\n",
       "      <td>...</td>\n",
       "      <td>...</td>\n",
       "      <td>...</td>\n",
       "    </tr>\n",
       "    <tr>\n",
       "      <th>3211</th>\n",
       "      <td>1489</td>\n",
       "      <td>10.0</td>\n",
       "      <td>NaN</td>\n",
       "      <td>19559.44</td>\n",
       "      <td>21.0</td>\n",
       "      <td>35</td>\n",
       "      <td>NaT</td>\n",
       "      <td>Санкт-Петербург</td>\n",
       "      <td>Павел</td>\n",
       "      <td>Гончаров</td>\n",
       "      <td>2018-08-15</td>\n",
       "      <td>smart</td>\n",
       "    </tr>\n",
       "    <tr>\n",
       "      <th>3212</th>\n",
       "      <td>1489</td>\n",
       "      <td>11.0</td>\n",
       "      <td>NaN</td>\n",
       "      <td>17491.56</td>\n",
       "      <td>20.0</td>\n",
       "      <td>35</td>\n",
       "      <td>NaT</td>\n",
       "      <td>Санкт-Петербург</td>\n",
       "      <td>Павел</td>\n",
       "      <td>Гончаров</td>\n",
       "      <td>2018-08-15</td>\n",
       "      <td>smart</td>\n",
       "    </tr>\n",
       "    <tr>\n",
       "      <th>3213</th>\n",
       "      <td>1489</td>\n",
       "      <td>12.0</td>\n",
       "      <td>NaN</td>\n",
       "      <td>17322.51</td>\n",
       "      <td>35.0</td>\n",
       "      <td>35</td>\n",
       "      <td>NaT</td>\n",
       "      <td>Санкт-Петербург</td>\n",
       "      <td>Павел</td>\n",
       "      <td>Гончаров</td>\n",
       "      <td>2018-08-15</td>\n",
       "      <td>smart</td>\n",
       "    </tr>\n",
       "    <tr>\n",
       "      <th>3214</th>\n",
       "      <td>1128</td>\n",
       "      <td>NaN</td>\n",
       "      <td>NaN</td>\n",
       "      <td>NaN</td>\n",
       "      <td>NaN</td>\n",
       "      <td>51</td>\n",
       "      <td>2018-12-23</td>\n",
       "      <td>Волжский</td>\n",
       "      <td>Ксения</td>\n",
       "      <td>Агаева</td>\n",
       "      <td>2018-12-15</td>\n",
       "      <td>ultra</td>\n",
       "    </tr>\n",
       "    <tr>\n",
       "      <th>3215</th>\n",
       "      <td>1371</td>\n",
       "      <td>NaN</td>\n",
       "      <td>NaN</td>\n",
       "      <td>NaN</td>\n",
       "      <td>NaN</td>\n",
       "      <td>50</td>\n",
       "      <td>2018-12-30</td>\n",
       "      <td>Омск</td>\n",
       "      <td>Ириней</td>\n",
       "      <td>Трофимов</td>\n",
       "      <td>2018-12-25</td>\n",
       "      <td>smart</td>\n",
       "    </tr>\n",
       "  </tbody>\n",
       "</table>\n",
       "<p>3216 rows × 12 columns</p>\n",
       "</div>"
      ],
      "text/plain": [
       "      user_id  month  duration   mb_used  mess_count  age churn_date  \\\n",
       "0        1000    5.0     159.0   2253.49        22.0   52        NaT   \n",
       "1        1000    6.0     172.0  23233.77        60.0   52        NaT   \n",
       "2        1000    7.0     340.0  14003.64        75.0   52        NaT   \n",
       "3        1000    8.0     408.0  14055.93        81.0   52        NaT   \n",
       "4        1000    9.0     466.0  14568.91        57.0   52        NaT   \n",
       "...       ...    ...       ...       ...         ...  ...        ...   \n",
       "3211     1489   10.0       NaN  19559.44        21.0   35        NaT   \n",
       "3212     1489   11.0       NaN  17491.56        20.0   35        NaT   \n",
       "3213     1489   12.0       NaN  17322.51        35.0   35        NaT   \n",
       "3214     1128    NaN       NaN       NaN         NaN   51 2018-12-23   \n",
       "3215     1371    NaN       NaN       NaN         NaN   50 2018-12-30   \n",
       "\n",
       "                 city first_name  last_name   reg_date tariff  \n",
       "0           Краснодар     Рафаил  Верещагин 2018-05-25  ultra  \n",
       "1           Краснодар     Рафаил  Верещагин 2018-05-25  ultra  \n",
       "2           Краснодар     Рафаил  Верещагин 2018-05-25  ultra  \n",
       "3           Краснодар     Рафаил  Верещагин 2018-05-25  ultra  \n",
       "4           Краснодар     Рафаил  Верещагин 2018-05-25  ultra  \n",
       "...               ...        ...        ...        ...    ...  \n",
       "3211  Санкт-Петербург      Павел   Гончаров 2018-08-15  smart  \n",
       "3212  Санкт-Петербург      Павел   Гончаров 2018-08-15  smart  \n",
       "3213  Санкт-Петербург      Павел   Гончаров 2018-08-15  smart  \n",
       "3214         Волжский     Ксения     Агаева 2018-12-15  ultra  \n",
       "3215             Омск     Ириней   Трофимов 2018-12-25  smart  \n",
       "\n",
       "[3216 rows x 12 columns]"
      ]
     },
     "metadata": {},
     "output_type": "display_data"
    },
    {
     "name": "stdout",
     "output_type": "stream",
     "text": [
      "<class 'pandas.core.frame.DataFrame'>\n",
      "Int64Index: 3216 entries, 0 to 3215\n",
      "Data columns (total 12 columns):\n",
      " #   Column      Non-Null Count  Dtype         \n",
      "---  ------      --------------  -----         \n",
      " 0   user_id     3216 non-null   int64         \n",
      " 1   month       3214 non-null   float64       \n",
      " 2   duration    3174 non-null   float64       \n",
      " 3   mb_used     3203 non-null   float64       \n",
      " 4   mess_count  2717 non-null   float64       \n",
      " 5   age         3216 non-null   int64         \n",
      " 6   churn_date  189 non-null    datetime64[ns]\n",
      " 7   city        3216 non-null   object        \n",
      " 8   first_name  3216 non-null   object        \n",
      " 9   last_name   3216 non-null   object        \n",
      " 10  reg_date    3216 non-null   datetime64[ns]\n",
      " 11  tariff      3216 non-null   object        \n",
      "dtypes: datetime64[ns](2), float64(4), int64(2), object(4)\n",
      "memory usage: 326.6+ KB\n"
     ]
    }
   ],
   "source": [
    "# Группируем и объединяем данные в одну таблицу\n",
    "data_calls['month'] = data_calls['call_date'].dt.month\n",
    "data_calls = data_calls.groupby(['user_id', 'month']).agg({'duration': 'sum'}).reset_index()\n",
    "\n",
    "data_internet['month'] = data_internet['session_date'].dt.month\n",
    "data_internet = data_internet.groupby(['user_id', 'month']).agg({'mb_used': 'sum'}).reset_index()\n",
    "\n",
    "data_msg['month'] = data_msg['message_date'].dt.month\n",
    "data_msg = data_msg.groupby(['user_id', 'month']).agg({'id': 'count'}).reset_index()\n",
    "data_msg = data_msg.rename(columns={'id': 'mess_count'}) # переименуем столбец в количество сообщений\n",
    "\n",
    "report = data_calls.merge(data_internet, on = ['user_id', 'month'], how = 'outer')\n",
    "report = report.merge(data_msg, on = ['user_id', 'month'], how = 'outer')\n",
    "data = report.merge(data_usr, on = ['user_id'], how = 'outer')\n",
    "\n",
    "display(data)\n",
    "data.info()"
   ]
  },
  {
   "cell_type": "code",
   "execution_count": 10,
   "metadata": {},
   "outputs": [
    {
     "data": {
      "text/html": [
       "<div>\n",
       "<style scoped>\n",
       "    .dataframe tbody tr th:only-of-type {\n",
       "        vertical-align: middle;\n",
       "    }\n",
       "\n",
       "    .dataframe tbody tr th {\n",
       "        vertical-align: top;\n",
       "    }\n",
       "\n",
       "    .dataframe thead th {\n",
       "        text-align: right;\n",
       "    }\n",
       "</style>\n",
       "<table border=\"1\" class=\"dataframe\">\n",
       "  <thead>\n",
       "    <tr style=\"text-align: right;\">\n",
       "      <th></th>\n",
       "      <th>user_id</th>\n",
       "      <th>month</th>\n",
       "      <th>duration</th>\n",
       "      <th>mb_used</th>\n",
       "      <th>mess_count</th>\n",
       "      <th>age</th>\n",
       "      <th>churn_date</th>\n",
       "      <th>city</th>\n",
       "      <th>first_name</th>\n",
       "      <th>last_name</th>\n",
       "      <th>reg_date</th>\n",
       "      <th>tariff</th>\n",
       "    </tr>\n",
       "  </thead>\n",
       "  <tbody>\n",
       "    <tr>\n",
       "      <th>0</th>\n",
       "      <td>1000</td>\n",
       "      <td>5</td>\n",
       "      <td>159.0</td>\n",
       "      <td>2253.49</td>\n",
       "      <td>22</td>\n",
       "      <td>52</td>\n",
       "      <td>NaT</td>\n",
       "      <td>Краснодар</td>\n",
       "      <td>Рафаил</td>\n",
       "      <td>Верещагин</td>\n",
       "      <td>2018-05-25</td>\n",
       "      <td>ultra</td>\n",
       "    </tr>\n",
       "    <tr>\n",
       "      <th>1</th>\n",
       "      <td>1000</td>\n",
       "      <td>6</td>\n",
       "      <td>172.0</td>\n",
       "      <td>23233.77</td>\n",
       "      <td>60</td>\n",
       "      <td>52</td>\n",
       "      <td>NaT</td>\n",
       "      <td>Краснодар</td>\n",
       "      <td>Рафаил</td>\n",
       "      <td>Верещагин</td>\n",
       "      <td>2018-05-25</td>\n",
       "      <td>ultra</td>\n",
       "    </tr>\n",
       "    <tr>\n",
       "      <th>2</th>\n",
       "      <td>1000</td>\n",
       "      <td>7</td>\n",
       "      <td>340.0</td>\n",
       "      <td>14003.64</td>\n",
       "      <td>75</td>\n",
       "      <td>52</td>\n",
       "      <td>NaT</td>\n",
       "      <td>Краснодар</td>\n",
       "      <td>Рафаил</td>\n",
       "      <td>Верещагин</td>\n",
       "      <td>2018-05-25</td>\n",
       "      <td>ultra</td>\n",
       "    </tr>\n",
       "    <tr>\n",
       "      <th>3</th>\n",
       "      <td>1000</td>\n",
       "      <td>8</td>\n",
       "      <td>408.0</td>\n",
       "      <td>14055.93</td>\n",
       "      <td>81</td>\n",
       "      <td>52</td>\n",
       "      <td>NaT</td>\n",
       "      <td>Краснодар</td>\n",
       "      <td>Рафаил</td>\n",
       "      <td>Верещагин</td>\n",
       "      <td>2018-05-25</td>\n",
       "      <td>ultra</td>\n",
       "    </tr>\n",
       "    <tr>\n",
       "      <th>4</th>\n",
       "      <td>1000</td>\n",
       "      <td>9</td>\n",
       "      <td>466.0</td>\n",
       "      <td>14568.91</td>\n",
       "      <td>57</td>\n",
       "      <td>52</td>\n",
       "      <td>NaT</td>\n",
       "      <td>Краснодар</td>\n",
       "      <td>Рафаил</td>\n",
       "      <td>Верещагин</td>\n",
       "      <td>2018-05-25</td>\n",
       "      <td>ultra</td>\n",
       "    </tr>\n",
       "    <tr>\n",
       "      <th>...</th>\n",
       "      <td>...</td>\n",
       "      <td>...</td>\n",
       "      <td>...</td>\n",
       "      <td>...</td>\n",
       "      <td>...</td>\n",
       "      <td>...</td>\n",
       "      <td>...</td>\n",
       "      <td>...</td>\n",
       "      <td>...</td>\n",
       "      <td>...</td>\n",
       "      <td>...</td>\n",
       "      <td>...</td>\n",
       "    </tr>\n",
       "    <tr>\n",
       "      <th>3209</th>\n",
       "      <td>1489</td>\n",
       "      <td>8</td>\n",
       "      <td>0.0</td>\n",
       "      <td>11050.56</td>\n",
       "      <td>17</td>\n",
       "      <td>35</td>\n",
       "      <td>NaT</td>\n",
       "      <td>Санкт-Петербург</td>\n",
       "      <td>Павел</td>\n",
       "      <td>Гончаров</td>\n",
       "      <td>2018-08-15</td>\n",
       "      <td>smart</td>\n",
       "    </tr>\n",
       "    <tr>\n",
       "      <th>3210</th>\n",
       "      <td>1489</td>\n",
       "      <td>9</td>\n",
       "      <td>0.0</td>\n",
       "      <td>17206.30</td>\n",
       "      <td>32</td>\n",
       "      <td>35</td>\n",
       "      <td>NaT</td>\n",
       "      <td>Санкт-Петербург</td>\n",
       "      <td>Павел</td>\n",
       "      <td>Гончаров</td>\n",
       "      <td>2018-08-15</td>\n",
       "      <td>smart</td>\n",
       "    </tr>\n",
       "    <tr>\n",
       "      <th>3211</th>\n",
       "      <td>1489</td>\n",
       "      <td>10</td>\n",
       "      <td>0.0</td>\n",
       "      <td>19559.44</td>\n",
       "      <td>21</td>\n",
       "      <td>35</td>\n",
       "      <td>NaT</td>\n",
       "      <td>Санкт-Петербург</td>\n",
       "      <td>Павел</td>\n",
       "      <td>Гончаров</td>\n",
       "      <td>2018-08-15</td>\n",
       "      <td>smart</td>\n",
       "    </tr>\n",
       "    <tr>\n",
       "      <th>3212</th>\n",
       "      <td>1489</td>\n",
       "      <td>11</td>\n",
       "      <td>0.0</td>\n",
       "      <td>17491.56</td>\n",
       "      <td>20</td>\n",
       "      <td>35</td>\n",
       "      <td>NaT</td>\n",
       "      <td>Санкт-Петербург</td>\n",
       "      <td>Павел</td>\n",
       "      <td>Гончаров</td>\n",
       "      <td>2018-08-15</td>\n",
       "      <td>smart</td>\n",
       "    </tr>\n",
       "    <tr>\n",
       "      <th>3213</th>\n",
       "      <td>1489</td>\n",
       "      <td>12</td>\n",
       "      <td>0.0</td>\n",
       "      <td>17322.51</td>\n",
       "      <td>35</td>\n",
       "      <td>35</td>\n",
       "      <td>NaT</td>\n",
       "      <td>Санкт-Петербург</td>\n",
       "      <td>Павел</td>\n",
       "      <td>Гончаров</td>\n",
       "      <td>2018-08-15</td>\n",
       "      <td>smart</td>\n",
       "    </tr>\n",
       "  </tbody>\n",
       "</table>\n",
       "<p>3214 rows × 12 columns</p>\n",
       "</div>"
      ],
      "text/plain": [
       "      user_id  month  duration   mb_used  mess_count  age churn_date  \\\n",
       "0        1000      5     159.0   2253.49          22   52        NaT   \n",
       "1        1000      6     172.0  23233.77          60   52        NaT   \n",
       "2        1000      7     340.0  14003.64          75   52        NaT   \n",
       "3        1000      8     408.0  14055.93          81   52        NaT   \n",
       "4        1000      9     466.0  14568.91          57   52        NaT   \n",
       "...       ...    ...       ...       ...         ...  ...        ...   \n",
       "3209     1489      8       0.0  11050.56          17   35        NaT   \n",
       "3210     1489      9       0.0  17206.30          32   35        NaT   \n",
       "3211     1489     10       0.0  19559.44          21   35        NaT   \n",
       "3212     1489     11       0.0  17491.56          20   35        NaT   \n",
       "3213     1489     12       0.0  17322.51          35   35        NaT   \n",
       "\n",
       "                 city first_name  last_name   reg_date tariff  \n",
       "0           Краснодар     Рафаил  Верещагин 2018-05-25  ultra  \n",
       "1           Краснодар     Рафаил  Верещагин 2018-05-25  ultra  \n",
       "2           Краснодар     Рафаил  Верещагин 2018-05-25  ultra  \n",
       "3           Краснодар     Рафаил  Верещагин 2018-05-25  ultra  \n",
       "4           Краснодар     Рафаил  Верещагин 2018-05-25  ultra  \n",
       "...               ...        ...        ...        ...    ...  \n",
       "3209  Санкт-Петербург      Павел   Гончаров 2018-08-15  smart  \n",
       "3210  Санкт-Петербург      Павел   Гончаров 2018-08-15  smart  \n",
       "3211  Санкт-Петербург      Павел   Гончаров 2018-08-15  smart  \n",
       "3212  Санкт-Петербург      Павел   Гончаров 2018-08-15  smart  \n",
       "3213  Санкт-Петербург      Павел   Гончаров 2018-08-15  smart  \n",
       "\n",
       "[3214 rows x 12 columns]"
      ]
     },
     "metadata": {},
     "output_type": "display_data"
    },
    {
     "name": "stdout",
     "output_type": "stream",
     "text": [
      "<class 'pandas.core.frame.DataFrame'>\n",
      "Int64Index: 3214 entries, 0 to 3213\n",
      "Data columns (total 12 columns):\n",
      " #   Column      Non-Null Count  Dtype         \n",
      "---  ------      --------------  -----         \n",
      " 0   user_id     3214 non-null   int64         \n",
      " 1   month       3214 non-null   int64         \n",
      " 2   duration    3214 non-null   float64       \n",
      " 3   mb_used     3214 non-null   float64       \n",
      " 4   mess_count  3214 non-null   int64         \n",
      " 5   age         3214 non-null   int64         \n",
      " 6   churn_date  187 non-null    datetime64[ns]\n",
      " 7   city        3214 non-null   object        \n",
      " 8   first_name  3214 non-null   object        \n",
      " 9   last_name   3214 non-null   object        \n",
      " 10  reg_date    3214 non-null   datetime64[ns]\n",
      " 11  tariff      3214 non-null   object        \n",
      "dtypes: datetime64[ns](2), float64(2), int64(4), object(4)\n",
      "memory usage: 326.4+ KB\n"
     ]
    }
   ],
   "source": [
    "# Удалим из столбца 'month' две строчки с пустыми значениями тк по ним никаких данных нет\n",
    "data = data[data['month'].notna()]\n",
    "\n",
    "# Пустые занчения столбцов duration, mb_used, mess_count заменим на 0\n",
    "data['duration'] = data['duration'].fillna(0)\n",
    "data['mb_used'] = data['mb_used'].fillna(0)\n",
    "data['mess_count'] = data['mess_count'].fillna(0)\n",
    "\n",
    "# Приведем к правильному типу колонки month, mess_count\n",
    "data['month'] = data['month'].astype(int)\n",
    "data['mess_count'] = data['mess_count'].astype(int)\n",
    "display(data)\n",
    "data.info()"
   ]
  },
  {
   "cell_type": "code",
   "execution_count": 11,
   "metadata": {},
   "outputs": [
    {
     "data": {
      "text/html": [
       "<div>\n",
       "<style scoped>\n",
       "    .dataframe tbody tr th:only-of-type {\n",
       "        vertical-align: middle;\n",
       "    }\n",
       "\n",
       "    .dataframe tbody tr th {\n",
       "        vertical-align: top;\n",
       "    }\n",
       "\n",
       "    .dataframe thead th {\n",
       "        text-align: right;\n",
       "    }\n",
       "</style>\n",
       "<table border=\"1\" class=\"dataframe\">\n",
       "  <thead>\n",
       "    <tr style=\"text-align: right;\">\n",
       "      <th></th>\n",
       "      <th>user_id</th>\n",
       "      <th>month</th>\n",
       "      <th>duration</th>\n",
       "      <th>mb_used</th>\n",
       "      <th>mess_count</th>\n",
       "      <th>age</th>\n",
       "      <th>churn_date</th>\n",
       "      <th>city</th>\n",
       "      <th>first_name</th>\n",
       "      <th>last_name</th>\n",
       "      <th>reg_date</th>\n",
       "      <th>tariff</th>\n",
       "      <th>messages_included</th>\n",
       "      <th>mb_per_month_included</th>\n",
       "      <th>minutes_included</th>\n",
       "      <th>rub_monthly_fee</th>\n",
       "      <th>rub_per_gb</th>\n",
       "      <th>rub_per_message</th>\n",
       "      <th>rub_per_minute</th>\n",
       "    </tr>\n",
       "  </thead>\n",
       "  <tbody>\n",
       "    <tr>\n",
       "      <th>0</th>\n",
       "      <td>1000</td>\n",
       "      <td>5</td>\n",
       "      <td>159.0</td>\n",
       "      <td>2253.49</td>\n",
       "      <td>22</td>\n",
       "      <td>52</td>\n",
       "      <td>NaT</td>\n",
       "      <td>Краснодар</td>\n",
       "      <td>Рафаил</td>\n",
       "      <td>Верещагин</td>\n",
       "      <td>2018-05-25</td>\n",
       "      <td>ultra</td>\n",
       "      <td>1000</td>\n",
       "      <td>30720</td>\n",
       "      <td>3000</td>\n",
       "      <td>1950</td>\n",
       "      <td>150</td>\n",
       "      <td>1</td>\n",
       "      <td>1</td>\n",
       "    </tr>\n",
       "    <tr>\n",
       "      <th>1</th>\n",
       "      <td>1000</td>\n",
       "      <td>6</td>\n",
       "      <td>172.0</td>\n",
       "      <td>23233.77</td>\n",
       "      <td>60</td>\n",
       "      <td>52</td>\n",
       "      <td>NaT</td>\n",
       "      <td>Краснодар</td>\n",
       "      <td>Рафаил</td>\n",
       "      <td>Верещагин</td>\n",
       "      <td>2018-05-25</td>\n",
       "      <td>ultra</td>\n",
       "      <td>1000</td>\n",
       "      <td>30720</td>\n",
       "      <td>3000</td>\n",
       "      <td>1950</td>\n",
       "      <td>150</td>\n",
       "      <td>1</td>\n",
       "      <td>1</td>\n",
       "    </tr>\n",
       "    <tr>\n",
       "      <th>2</th>\n",
       "      <td>1000</td>\n",
       "      <td>7</td>\n",
       "      <td>340.0</td>\n",
       "      <td>14003.64</td>\n",
       "      <td>75</td>\n",
       "      <td>52</td>\n",
       "      <td>NaT</td>\n",
       "      <td>Краснодар</td>\n",
       "      <td>Рафаил</td>\n",
       "      <td>Верещагин</td>\n",
       "      <td>2018-05-25</td>\n",
       "      <td>ultra</td>\n",
       "      <td>1000</td>\n",
       "      <td>30720</td>\n",
       "      <td>3000</td>\n",
       "      <td>1950</td>\n",
       "      <td>150</td>\n",
       "      <td>1</td>\n",
       "      <td>1</td>\n",
       "    </tr>\n",
       "    <tr>\n",
       "      <th>3</th>\n",
       "      <td>1000</td>\n",
       "      <td>8</td>\n",
       "      <td>408.0</td>\n",
       "      <td>14055.93</td>\n",
       "      <td>81</td>\n",
       "      <td>52</td>\n",
       "      <td>NaT</td>\n",
       "      <td>Краснодар</td>\n",
       "      <td>Рафаил</td>\n",
       "      <td>Верещагин</td>\n",
       "      <td>2018-05-25</td>\n",
       "      <td>ultra</td>\n",
       "      <td>1000</td>\n",
       "      <td>30720</td>\n",
       "      <td>3000</td>\n",
       "      <td>1950</td>\n",
       "      <td>150</td>\n",
       "      <td>1</td>\n",
       "      <td>1</td>\n",
       "    </tr>\n",
       "    <tr>\n",
       "      <th>4</th>\n",
       "      <td>1000</td>\n",
       "      <td>9</td>\n",
       "      <td>466.0</td>\n",
       "      <td>14568.91</td>\n",
       "      <td>57</td>\n",
       "      <td>52</td>\n",
       "      <td>NaT</td>\n",
       "      <td>Краснодар</td>\n",
       "      <td>Рафаил</td>\n",
       "      <td>Верещагин</td>\n",
       "      <td>2018-05-25</td>\n",
       "      <td>ultra</td>\n",
       "      <td>1000</td>\n",
       "      <td>30720</td>\n",
       "      <td>3000</td>\n",
       "      <td>1950</td>\n",
       "      <td>150</td>\n",
       "      <td>1</td>\n",
       "      <td>1</td>\n",
       "    </tr>\n",
       "    <tr>\n",
       "      <th>...</th>\n",
       "      <td>...</td>\n",
       "      <td>...</td>\n",
       "      <td>...</td>\n",
       "      <td>...</td>\n",
       "      <td>...</td>\n",
       "      <td>...</td>\n",
       "      <td>...</td>\n",
       "      <td>...</td>\n",
       "      <td>...</td>\n",
       "      <td>...</td>\n",
       "      <td>...</td>\n",
       "      <td>...</td>\n",
       "      <td>...</td>\n",
       "      <td>...</td>\n",
       "      <td>...</td>\n",
       "      <td>...</td>\n",
       "      <td>...</td>\n",
       "      <td>...</td>\n",
       "      <td>...</td>\n",
       "    </tr>\n",
       "    <tr>\n",
       "      <th>3209</th>\n",
       "      <td>1489</td>\n",
       "      <td>8</td>\n",
       "      <td>0.0</td>\n",
       "      <td>11050.56</td>\n",
       "      <td>17</td>\n",
       "      <td>35</td>\n",
       "      <td>NaT</td>\n",
       "      <td>Санкт-Петербург</td>\n",
       "      <td>Павел</td>\n",
       "      <td>Гончаров</td>\n",
       "      <td>2018-08-15</td>\n",
       "      <td>smart</td>\n",
       "      <td>50</td>\n",
       "      <td>15360</td>\n",
       "      <td>500</td>\n",
       "      <td>550</td>\n",
       "      <td>200</td>\n",
       "      <td>3</td>\n",
       "      <td>3</td>\n",
       "    </tr>\n",
       "    <tr>\n",
       "      <th>3210</th>\n",
       "      <td>1489</td>\n",
       "      <td>9</td>\n",
       "      <td>0.0</td>\n",
       "      <td>17206.30</td>\n",
       "      <td>32</td>\n",
       "      <td>35</td>\n",
       "      <td>NaT</td>\n",
       "      <td>Санкт-Петербург</td>\n",
       "      <td>Павел</td>\n",
       "      <td>Гончаров</td>\n",
       "      <td>2018-08-15</td>\n",
       "      <td>smart</td>\n",
       "      <td>50</td>\n",
       "      <td>15360</td>\n",
       "      <td>500</td>\n",
       "      <td>550</td>\n",
       "      <td>200</td>\n",
       "      <td>3</td>\n",
       "      <td>3</td>\n",
       "    </tr>\n",
       "    <tr>\n",
       "      <th>3211</th>\n",
       "      <td>1489</td>\n",
       "      <td>10</td>\n",
       "      <td>0.0</td>\n",
       "      <td>19559.44</td>\n",
       "      <td>21</td>\n",
       "      <td>35</td>\n",
       "      <td>NaT</td>\n",
       "      <td>Санкт-Петербург</td>\n",
       "      <td>Павел</td>\n",
       "      <td>Гончаров</td>\n",
       "      <td>2018-08-15</td>\n",
       "      <td>smart</td>\n",
       "      <td>50</td>\n",
       "      <td>15360</td>\n",
       "      <td>500</td>\n",
       "      <td>550</td>\n",
       "      <td>200</td>\n",
       "      <td>3</td>\n",
       "      <td>3</td>\n",
       "    </tr>\n",
       "    <tr>\n",
       "      <th>3212</th>\n",
       "      <td>1489</td>\n",
       "      <td>11</td>\n",
       "      <td>0.0</td>\n",
       "      <td>17491.56</td>\n",
       "      <td>20</td>\n",
       "      <td>35</td>\n",
       "      <td>NaT</td>\n",
       "      <td>Санкт-Петербург</td>\n",
       "      <td>Павел</td>\n",
       "      <td>Гончаров</td>\n",
       "      <td>2018-08-15</td>\n",
       "      <td>smart</td>\n",
       "      <td>50</td>\n",
       "      <td>15360</td>\n",
       "      <td>500</td>\n",
       "      <td>550</td>\n",
       "      <td>200</td>\n",
       "      <td>3</td>\n",
       "      <td>3</td>\n",
       "    </tr>\n",
       "    <tr>\n",
       "      <th>3213</th>\n",
       "      <td>1489</td>\n",
       "      <td>12</td>\n",
       "      <td>0.0</td>\n",
       "      <td>17322.51</td>\n",
       "      <td>35</td>\n",
       "      <td>35</td>\n",
       "      <td>NaT</td>\n",
       "      <td>Санкт-Петербург</td>\n",
       "      <td>Павел</td>\n",
       "      <td>Гончаров</td>\n",
       "      <td>2018-08-15</td>\n",
       "      <td>smart</td>\n",
       "      <td>50</td>\n",
       "      <td>15360</td>\n",
       "      <td>500</td>\n",
       "      <td>550</td>\n",
       "      <td>200</td>\n",
       "      <td>3</td>\n",
       "      <td>3</td>\n",
       "    </tr>\n",
       "  </tbody>\n",
       "</table>\n",
       "<p>3214 rows × 19 columns</p>\n",
       "</div>"
      ],
      "text/plain": [
       "      user_id  month  duration   mb_used  mess_count  age churn_date  \\\n",
       "0        1000      5     159.0   2253.49          22   52        NaT   \n",
       "1        1000      6     172.0  23233.77          60   52        NaT   \n",
       "2        1000      7     340.0  14003.64          75   52        NaT   \n",
       "3        1000      8     408.0  14055.93          81   52        NaT   \n",
       "4        1000      9     466.0  14568.91          57   52        NaT   \n",
       "...       ...    ...       ...       ...         ...  ...        ...   \n",
       "3209     1489      8       0.0  11050.56          17   35        NaT   \n",
       "3210     1489      9       0.0  17206.30          32   35        NaT   \n",
       "3211     1489     10       0.0  19559.44          21   35        NaT   \n",
       "3212     1489     11       0.0  17491.56          20   35        NaT   \n",
       "3213     1489     12       0.0  17322.51          35   35        NaT   \n",
       "\n",
       "                 city first_name  last_name   reg_date tariff  \\\n",
       "0           Краснодар     Рафаил  Верещагин 2018-05-25  ultra   \n",
       "1           Краснодар     Рафаил  Верещагин 2018-05-25  ultra   \n",
       "2           Краснодар     Рафаил  Верещагин 2018-05-25  ultra   \n",
       "3           Краснодар     Рафаил  Верещагин 2018-05-25  ultra   \n",
       "4           Краснодар     Рафаил  Верещагин 2018-05-25  ultra   \n",
       "...               ...        ...        ...        ...    ...   \n",
       "3209  Санкт-Петербург      Павел   Гончаров 2018-08-15  smart   \n",
       "3210  Санкт-Петербург      Павел   Гончаров 2018-08-15  smart   \n",
       "3211  Санкт-Петербург      Павел   Гончаров 2018-08-15  smart   \n",
       "3212  Санкт-Петербург      Павел   Гончаров 2018-08-15  smart   \n",
       "3213  Санкт-Петербург      Павел   Гончаров 2018-08-15  smart   \n",
       "\n",
       "      messages_included  mb_per_month_included  minutes_included  \\\n",
       "0                  1000                  30720              3000   \n",
       "1                  1000                  30720              3000   \n",
       "2                  1000                  30720              3000   \n",
       "3                  1000                  30720              3000   \n",
       "4                  1000                  30720              3000   \n",
       "...                 ...                    ...               ...   \n",
       "3209                 50                  15360               500   \n",
       "3210                 50                  15360               500   \n",
       "3211                 50                  15360               500   \n",
       "3212                 50                  15360               500   \n",
       "3213                 50                  15360               500   \n",
       "\n",
       "      rub_monthly_fee  rub_per_gb  rub_per_message  rub_per_minute  \n",
       "0                1950         150                1               1  \n",
       "1                1950         150                1               1  \n",
       "2                1950         150                1               1  \n",
       "3                1950         150                1               1  \n",
       "4                1950         150                1               1  \n",
       "...               ...         ...              ...             ...  \n",
       "3209              550         200                3               3  \n",
       "3210              550         200                3               3  \n",
       "3211              550         200                3               3  \n",
       "3212              550         200                3               3  \n",
       "3213              550         200                3               3  \n",
       "\n",
       "[3214 rows x 19 columns]"
      ]
     },
     "metadata": {},
     "output_type": "display_data"
    },
    {
     "name": "stdout",
     "output_type": "stream",
     "text": [
      "<class 'pandas.core.frame.DataFrame'>\n",
      "Int64Index: 3214 entries, 0 to 3213\n",
      "Data columns (total 19 columns):\n",
      " #   Column                 Non-Null Count  Dtype         \n",
      "---  ------                 --------------  -----         \n",
      " 0   user_id                3214 non-null   int64         \n",
      " 1   month                  3214 non-null   int64         \n",
      " 2   duration               3214 non-null   float64       \n",
      " 3   mb_used                3214 non-null   float64       \n",
      " 4   mess_count             3214 non-null   int64         \n",
      " 5   age                    3214 non-null   int64         \n",
      " 6   churn_date             187 non-null    datetime64[ns]\n",
      " 7   city                   3214 non-null   object        \n",
      " 8   first_name             3214 non-null   object        \n",
      " 9   last_name              3214 non-null   object        \n",
      " 10  reg_date               3214 non-null   datetime64[ns]\n",
      " 11  tariff                 3214 non-null   object        \n",
      " 12  messages_included      3214 non-null   int64         \n",
      " 13  mb_per_month_included  3214 non-null   int64         \n",
      " 14  minutes_included       3214 non-null   int64         \n",
      " 15  rub_monthly_fee        3214 non-null   int64         \n",
      " 16  rub_per_gb             3214 non-null   int64         \n",
      " 17  rub_per_message        3214 non-null   int64         \n",
      " 18  rub_per_minute         3214 non-null   int64         \n",
      "dtypes: datetime64[ns](2), float64(2), int64(11), object(4)\n",
      "memory usage: 502.2+ KB\n"
     ]
    }
   ],
   "source": [
    "# И накоенц обьединим с последней таблицей и получим наш полный датафрейм\n",
    "data_tarif = data_tarif.rename(columns={'tariff_name': 'tariff'}) # переименуем столбец\n",
    "data = data.merge(data_tarif, on = ['tariff'], how = 'outer')\n",
    "display(data)\n",
    "data.info()"
   ]
  },
  {
   "cell_type": "code",
   "execution_count": 12,
   "metadata": {},
   "outputs": [
    {
     "data": {
      "text/html": [
       "<div>\n",
       "<style scoped>\n",
       "    .dataframe tbody tr th:only-of-type {\n",
       "        vertical-align: middle;\n",
       "    }\n",
       "\n",
       "    .dataframe tbody tr th {\n",
       "        vertical-align: top;\n",
       "    }\n",
       "\n",
       "    .dataframe thead th {\n",
       "        text-align: right;\n",
       "    }\n",
       "</style>\n",
       "<table border=\"1\" class=\"dataframe\">\n",
       "  <thead>\n",
       "    <tr style=\"text-align: right;\">\n",
       "      <th></th>\n",
       "      <th>user_id</th>\n",
       "      <th>month</th>\n",
       "      <th>duration</th>\n",
       "      <th>mb_used</th>\n",
       "      <th>mess_count</th>\n",
       "      <th>age</th>\n",
       "      <th>churn_date</th>\n",
       "      <th>city</th>\n",
       "      <th>first_name</th>\n",
       "      <th>last_name</th>\n",
       "      <th>...</th>\n",
       "      <th>rub_monthly_fee</th>\n",
       "      <th>rub_per_gb</th>\n",
       "      <th>rub_per_message</th>\n",
       "      <th>rub_per_minute</th>\n",
       "      <th>gb_used</th>\n",
       "      <th>gb_per_month_included</th>\n",
       "      <th>duration_over</th>\n",
       "      <th>gb_used_over</th>\n",
       "      <th>mess_count_over</th>\n",
       "      <th>revenue</th>\n",
       "    </tr>\n",
       "  </thead>\n",
       "  <tbody>\n",
       "    <tr>\n",
       "      <th>0</th>\n",
       "      <td>1000</td>\n",
       "      <td>5</td>\n",
       "      <td>159</td>\n",
       "      <td>2253.49</td>\n",
       "      <td>22</td>\n",
       "      <td>52</td>\n",
       "      <td>NaT</td>\n",
       "      <td>Краснодар</td>\n",
       "      <td>Рафаил</td>\n",
       "      <td>Верещагин</td>\n",
       "      <td>...</td>\n",
       "      <td>1950</td>\n",
       "      <td>150</td>\n",
       "      <td>1</td>\n",
       "      <td>1</td>\n",
       "      <td>3</td>\n",
       "      <td>30</td>\n",
       "      <td>0</td>\n",
       "      <td>0</td>\n",
       "      <td>0</td>\n",
       "      <td>1950</td>\n",
       "    </tr>\n",
       "    <tr>\n",
       "      <th>1</th>\n",
       "      <td>1000</td>\n",
       "      <td>6</td>\n",
       "      <td>172</td>\n",
       "      <td>23233.77</td>\n",
       "      <td>60</td>\n",
       "      <td>52</td>\n",
       "      <td>NaT</td>\n",
       "      <td>Краснодар</td>\n",
       "      <td>Рафаил</td>\n",
       "      <td>Верещагин</td>\n",
       "      <td>...</td>\n",
       "      <td>1950</td>\n",
       "      <td>150</td>\n",
       "      <td>1</td>\n",
       "      <td>1</td>\n",
       "      <td>23</td>\n",
       "      <td>30</td>\n",
       "      <td>0</td>\n",
       "      <td>0</td>\n",
       "      <td>0</td>\n",
       "      <td>1950</td>\n",
       "    </tr>\n",
       "    <tr>\n",
       "      <th>2</th>\n",
       "      <td>1000</td>\n",
       "      <td>7</td>\n",
       "      <td>340</td>\n",
       "      <td>14003.64</td>\n",
       "      <td>75</td>\n",
       "      <td>52</td>\n",
       "      <td>NaT</td>\n",
       "      <td>Краснодар</td>\n",
       "      <td>Рафаил</td>\n",
       "      <td>Верещагин</td>\n",
       "      <td>...</td>\n",
       "      <td>1950</td>\n",
       "      <td>150</td>\n",
       "      <td>1</td>\n",
       "      <td>1</td>\n",
       "      <td>14</td>\n",
       "      <td>30</td>\n",
       "      <td>0</td>\n",
       "      <td>0</td>\n",
       "      <td>0</td>\n",
       "      <td>1950</td>\n",
       "    </tr>\n",
       "    <tr>\n",
       "      <th>3</th>\n",
       "      <td>1000</td>\n",
       "      <td>8</td>\n",
       "      <td>408</td>\n",
       "      <td>14055.93</td>\n",
       "      <td>81</td>\n",
       "      <td>52</td>\n",
       "      <td>NaT</td>\n",
       "      <td>Краснодар</td>\n",
       "      <td>Рафаил</td>\n",
       "      <td>Верещагин</td>\n",
       "      <td>...</td>\n",
       "      <td>1950</td>\n",
       "      <td>150</td>\n",
       "      <td>1</td>\n",
       "      <td>1</td>\n",
       "      <td>14</td>\n",
       "      <td>30</td>\n",
       "      <td>0</td>\n",
       "      <td>0</td>\n",
       "      <td>0</td>\n",
       "      <td>1950</td>\n",
       "    </tr>\n",
       "    <tr>\n",
       "      <th>4</th>\n",
       "      <td>1000</td>\n",
       "      <td>9</td>\n",
       "      <td>466</td>\n",
       "      <td>14568.91</td>\n",
       "      <td>57</td>\n",
       "      <td>52</td>\n",
       "      <td>NaT</td>\n",
       "      <td>Краснодар</td>\n",
       "      <td>Рафаил</td>\n",
       "      <td>Верещагин</td>\n",
       "      <td>...</td>\n",
       "      <td>1950</td>\n",
       "      <td>150</td>\n",
       "      <td>1</td>\n",
       "      <td>1</td>\n",
       "      <td>15</td>\n",
       "      <td>30</td>\n",
       "      <td>0</td>\n",
       "      <td>0</td>\n",
       "      <td>0</td>\n",
       "      <td>1950</td>\n",
       "    </tr>\n",
       "    <tr>\n",
       "      <th>...</th>\n",
       "      <td>...</td>\n",
       "      <td>...</td>\n",
       "      <td>...</td>\n",
       "      <td>...</td>\n",
       "      <td>...</td>\n",
       "      <td>...</td>\n",
       "      <td>...</td>\n",
       "      <td>...</td>\n",
       "      <td>...</td>\n",
       "      <td>...</td>\n",
       "      <td>...</td>\n",
       "      <td>...</td>\n",
       "      <td>...</td>\n",
       "      <td>...</td>\n",
       "      <td>...</td>\n",
       "      <td>...</td>\n",
       "      <td>...</td>\n",
       "      <td>...</td>\n",
       "      <td>...</td>\n",
       "      <td>...</td>\n",
       "      <td>...</td>\n",
       "    </tr>\n",
       "    <tr>\n",
       "      <th>3209</th>\n",
       "      <td>1489</td>\n",
       "      <td>8</td>\n",
       "      <td>0</td>\n",
       "      <td>11050.56</td>\n",
       "      <td>17</td>\n",
       "      <td>35</td>\n",
       "      <td>NaT</td>\n",
       "      <td>Санкт-Петербург</td>\n",
       "      <td>Павел</td>\n",
       "      <td>Гончаров</td>\n",
       "      <td>...</td>\n",
       "      <td>550</td>\n",
       "      <td>200</td>\n",
       "      <td>3</td>\n",
       "      <td>3</td>\n",
       "      <td>11</td>\n",
       "      <td>15</td>\n",
       "      <td>0</td>\n",
       "      <td>0</td>\n",
       "      <td>0</td>\n",
       "      <td>550</td>\n",
       "    </tr>\n",
       "    <tr>\n",
       "      <th>3210</th>\n",
       "      <td>1489</td>\n",
       "      <td>9</td>\n",
       "      <td>0</td>\n",
       "      <td>17206.30</td>\n",
       "      <td>32</td>\n",
       "      <td>35</td>\n",
       "      <td>NaT</td>\n",
       "      <td>Санкт-Петербург</td>\n",
       "      <td>Павел</td>\n",
       "      <td>Гончаров</td>\n",
       "      <td>...</td>\n",
       "      <td>550</td>\n",
       "      <td>200</td>\n",
       "      <td>3</td>\n",
       "      <td>3</td>\n",
       "      <td>17</td>\n",
       "      <td>15</td>\n",
       "      <td>0</td>\n",
       "      <td>400</td>\n",
       "      <td>0</td>\n",
       "      <td>950</td>\n",
       "    </tr>\n",
       "    <tr>\n",
       "      <th>3211</th>\n",
       "      <td>1489</td>\n",
       "      <td>10</td>\n",
       "      <td>0</td>\n",
       "      <td>19559.44</td>\n",
       "      <td>21</td>\n",
       "      <td>35</td>\n",
       "      <td>NaT</td>\n",
       "      <td>Санкт-Петербург</td>\n",
       "      <td>Павел</td>\n",
       "      <td>Гончаров</td>\n",
       "      <td>...</td>\n",
       "      <td>550</td>\n",
       "      <td>200</td>\n",
       "      <td>3</td>\n",
       "      <td>3</td>\n",
       "      <td>20</td>\n",
       "      <td>15</td>\n",
       "      <td>0</td>\n",
       "      <td>1000</td>\n",
       "      <td>0</td>\n",
       "      <td>1550</td>\n",
       "    </tr>\n",
       "    <tr>\n",
       "      <th>3212</th>\n",
       "      <td>1489</td>\n",
       "      <td>11</td>\n",
       "      <td>0</td>\n",
       "      <td>17491.56</td>\n",
       "      <td>20</td>\n",
       "      <td>35</td>\n",
       "      <td>NaT</td>\n",
       "      <td>Санкт-Петербург</td>\n",
       "      <td>Павел</td>\n",
       "      <td>Гончаров</td>\n",
       "      <td>...</td>\n",
       "      <td>550</td>\n",
       "      <td>200</td>\n",
       "      <td>3</td>\n",
       "      <td>3</td>\n",
       "      <td>18</td>\n",
       "      <td>15</td>\n",
       "      <td>0</td>\n",
       "      <td>600</td>\n",
       "      <td>0</td>\n",
       "      <td>1150</td>\n",
       "    </tr>\n",
       "    <tr>\n",
       "      <th>3213</th>\n",
       "      <td>1489</td>\n",
       "      <td>12</td>\n",
       "      <td>0</td>\n",
       "      <td>17322.51</td>\n",
       "      <td>35</td>\n",
       "      <td>35</td>\n",
       "      <td>NaT</td>\n",
       "      <td>Санкт-Петербург</td>\n",
       "      <td>Павел</td>\n",
       "      <td>Гончаров</td>\n",
       "      <td>...</td>\n",
       "      <td>550</td>\n",
       "      <td>200</td>\n",
       "      <td>3</td>\n",
       "      <td>3</td>\n",
       "      <td>17</td>\n",
       "      <td>15</td>\n",
       "      <td>0</td>\n",
       "      <td>400</td>\n",
       "      <td>0</td>\n",
       "      <td>950</td>\n",
       "    </tr>\n",
       "  </tbody>\n",
       "</table>\n",
       "<p>3214 rows × 25 columns</p>\n",
       "</div>"
      ],
      "text/plain": [
       "      user_id  month  duration   mb_used  mess_count  age churn_date  \\\n",
       "0        1000      5       159   2253.49          22   52        NaT   \n",
       "1        1000      6       172  23233.77          60   52        NaT   \n",
       "2        1000      7       340  14003.64          75   52        NaT   \n",
       "3        1000      8       408  14055.93          81   52        NaT   \n",
       "4        1000      9       466  14568.91          57   52        NaT   \n",
       "...       ...    ...       ...       ...         ...  ...        ...   \n",
       "3209     1489      8         0  11050.56          17   35        NaT   \n",
       "3210     1489      9         0  17206.30          32   35        NaT   \n",
       "3211     1489     10         0  19559.44          21   35        NaT   \n",
       "3212     1489     11         0  17491.56          20   35        NaT   \n",
       "3213     1489     12         0  17322.51          35   35        NaT   \n",
       "\n",
       "                 city first_name  last_name  ... rub_monthly_fee rub_per_gb  \\\n",
       "0           Краснодар     Рафаил  Верещагин  ...            1950        150   \n",
       "1           Краснодар     Рафаил  Верещагин  ...            1950        150   \n",
       "2           Краснодар     Рафаил  Верещагин  ...            1950        150   \n",
       "3           Краснодар     Рафаил  Верещагин  ...            1950        150   \n",
       "4           Краснодар     Рафаил  Верещагин  ...            1950        150   \n",
       "...               ...        ...        ...  ...             ...        ...   \n",
       "3209  Санкт-Петербург      Павел   Гончаров  ...             550        200   \n",
       "3210  Санкт-Петербург      Павел   Гончаров  ...             550        200   \n",
       "3211  Санкт-Петербург      Павел   Гончаров  ...             550        200   \n",
       "3212  Санкт-Петербург      Павел   Гончаров  ...             550        200   \n",
       "3213  Санкт-Петербург      Павел   Гончаров  ...             550        200   \n",
       "\n",
       "      rub_per_message  rub_per_minute  gb_used  gb_per_month_included  \\\n",
       "0                   1               1        3                     30   \n",
       "1                   1               1       23                     30   \n",
       "2                   1               1       14                     30   \n",
       "3                   1               1       14                     30   \n",
       "4                   1               1       15                     30   \n",
       "...               ...             ...      ...                    ...   \n",
       "3209                3               3       11                     15   \n",
       "3210                3               3       17                     15   \n",
       "3211                3               3       20                     15   \n",
       "3212                3               3       18                     15   \n",
       "3213                3               3       17                     15   \n",
       "\n",
       "      duration_over  gb_used_over  mess_count_over  revenue  \n",
       "0                 0             0                0     1950  \n",
       "1                 0             0                0     1950  \n",
       "2                 0             0                0     1950  \n",
       "3                 0             0                0     1950  \n",
       "4                 0             0                0     1950  \n",
       "...             ...           ...              ...      ...  \n",
       "3209              0             0                0      550  \n",
       "3210              0           400                0      950  \n",
       "3211              0          1000                0     1550  \n",
       "3212              0           600                0     1150  \n",
       "3213              0           400                0      950  \n",
       "\n",
       "[3214 rows x 25 columns]"
      ]
     },
     "metadata": {},
     "output_type": "display_data"
    }
   ],
   "source": [
    "# ТК в описаниии написано что минуты округляются в большую сторону, то приведем эту клолонку к правильному виду\n",
    "\n",
    "data['duration'] = data['duration'].astype(int)\n",
    "\n",
    "# ТК в описаниии написано что расчет нужно производить в гигабайтах и \n",
    "# округляются в большую сторону, то приведем эту клолонку к правильному виду\n",
    "data['gb_used'] = data['mb_used']/1024\n",
    "data['gb_used'] = np.ceil(data['gb_used']).astype(int)\n",
    "data['gb_per_month_included'] = data['mb_per_month_included']/1024\n",
    "data['gb_per_month_included'] = data['gb_per_month_included'].astype(int)\n",
    "\n",
    "# убираем перерасходы\n",
    "data['duration_over'] = (data['duration'] - data['minutes_included']) * data['rub_per_minute']\n",
    "data['gb_used_over'] = (data['gb_used'] - data['gb_per_month_included']) * data['rub_per_gb']\n",
    "data['mess_count_over'] = (data['mess_count'] - data['messages_included']) * data['rub_per_message']\n",
    "\n",
    "# убираем отрицательные перерасходы\n",
    "data['duration_over'] = data['duration_over'].clip(lower = 0)\n",
    "data['gb_used_over'] = data['gb_used_over'].clip(lower = 0)\n",
    "data['mess_count_over'] = data['mess_count_over'].clip(lower = 0)\n",
    "\n",
    "# считаем выручку\n",
    "data['revenue'] = data['duration_over'] + data['gb_used_over'] + data['mess_count_over'] + data['rub_monthly_fee']\n",
    "display(data)"
   ]
  },
  {
   "cell_type": "markdown",
   "metadata": {},
   "source": [
    "### Анализ данных"
   ]
  },
  {
   "cell_type": "code",
   "execution_count": 13,
   "metadata": {},
   "outputs": [
    {
     "data": {
      "image/png": "[encoded data removed]",
      "text/plain": [
       "<Figure size 1080x360 with 3 Axes>"
      ]
     },
     "metadata": {
      "needs_background": "light"
     },
     "output_type": "display_data"
    }
   ],
   "source": [
    "# Построим гистограммы по каждой из интересующих колонок в разрезе тарифов\n",
    "\n",
    "fig, axes = plt.subplots(1,3, figsize=(15,5))\n",
    "\n",
    "data[data['tariff'] == 'smart']['duration'].plot(kind ='hist', legend= True, label= \"smart\",title= 'Сколько минут пользователи тратят в месяц', grid= True, ax=axes[0])\n",
    "data[data['tariff'] == 'ultra']['duration'].plot(kind ='hist', legend= True, label= \"ultra\", grid= True, ax=axes[0])\n",
    "axes[0].set_xlabel(\"Минуты\")\n",
    "axes[0].set_ylabel(\"Пользователи\")\n",
    "\n",
    "#Построим гистограмму \"Сколько сообщений пользователи тратят в месяц\"\n",
    "data[data['tariff'] == 'smart']['mess_count'].plot(kind ='hist', legend= True, label= \"smart\", title= 'Сколько сообщений пользователи тратят в месяц', grid= True, ax=axes[1])\n",
    "data[data['tariff'] == 'ultra']['mess_count'].plot(kind ='hist', legend= True, label= \"ultra\", grid= True, ax=axes[1])\n",
    "axes[1].set_xlabel(\"Сообщения\")\n",
    "axes[1].set_ylabel(\"Пользователи\")\n",
    "\n",
    "# Построим гистограмму \"Сколько гигабайт пользователи тратят в месяц\"\n",
    "data[data['tariff'] == 'smart']['gb_used'].plot(kind ='hist', legend= True, label= \"smart\", title= 'Сколько гигабайт пользователи тратят в месяц', grid= True, ax=axes[2])\n",
    "data[data['tariff'] == 'ultra']['gb_used'].plot(kind ='hist', legend= True, label= \"ultra\", grid= True, ax=axes[2])\n",
    "axes[2].set_xlabel(\"Гигабайт\")\n",
    "axes[2].set_ylabel(\"Пользователи\")\n",
    "\n",
    "plt.tight_layout()\n",
    "plt.show()"
   ]
  },
  {
   "cell_type": "code",
   "execution_count": 14,
   "metadata": {},
   "outputs": [
    {
     "data": {
      "text/plain": [
       "'Срднее, дисперссия и стандпртное отклонение минут'"
      ]
     },
     "metadata": {},
     "output_type": "display_data"
    },
    {
     "data": {
      "text/html": [
       "<div>\n",
       "<style scoped>\n",
       "    .dataframe tbody tr th:only-of-type {\n",
       "        vertical-align: middle;\n",
       "    }\n",
       "\n",
       "    .dataframe tbody tr th {\n",
       "        vertical-align: top;\n",
       "    }\n",
       "\n",
       "    .dataframe thead tr th {\n",
       "        text-align: left;\n",
       "    }\n",
       "\n",
       "    .dataframe thead tr:last-of-type th {\n",
       "        text-align: right;\n",
       "    }\n",
       "</style>\n",
       "<table border=\"1\" class=\"dataframe\">\n",
       "  <thead>\n",
       "    <tr>\n",
       "      <th></th>\n",
       "      <th colspan=\"3\" halign=\"left\">duration</th>\n",
       "    </tr>\n",
       "    <tr>\n",
       "      <th></th>\n",
       "      <th>mean</th>\n",
       "      <th>var</th>\n",
       "      <th>std</th>\n",
       "    </tr>\n",
       "    <tr>\n",
       "      <th>tariff</th>\n",
       "      <th></th>\n",
       "      <th></th>\n",
       "      <th></th>\n",
       "    </tr>\n",
       "  </thead>\n",
       "  <tbody>\n",
       "    <tr>\n",
       "      <th>smart</th>\n",
       "      <td>417.934948</td>\n",
       "      <td>36219.315784</td>\n",
       "      <td>190.313730</td>\n",
       "    </tr>\n",
       "    <tr>\n",
       "      <th>ultra</th>\n",
       "      <td>526.623350</td>\n",
       "      <td>100873.633397</td>\n",
       "      <td>317.606098</td>\n",
       "    </tr>\n",
       "  </tbody>\n",
       "</table>\n",
       "</div>"
      ],
      "text/plain": [
       "          duration                           \n",
       "              mean            var         std\n",
       "tariff                                       \n",
       "smart   417.934948   36219.315784  190.313730\n",
       "ultra   526.623350  100873.633397  317.606098"
      ]
     },
     "metadata": {},
     "output_type": "display_data"
    },
    {
     "data": {
      "text/plain": [
       "'Срднее, дисперссия и стандпртное отклонение смс'"
      ]
     },
     "metadata": {},
     "output_type": "display_data"
    },
    {
     "data": {
      "text/html": [
       "<div>\n",
       "<style scoped>\n",
       "    .dataframe tbody tr th:only-of-type {\n",
       "        vertical-align: middle;\n",
       "    }\n",
       "\n",
       "    .dataframe tbody tr th {\n",
       "        vertical-align: top;\n",
       "    }\n",
       "\n",
       "    .dataframe thead tr th {\n",
       "        text-align: left;\n",
       "    }\n",
       "\n",
       "    .dataframe thead tr:last-of-type th {\n",
       "        text-align: right;\n",
       "    }\n",
       "</style>\n",
       "<table border=\"1\" class=\"dataframe\">\n",
       "  <thead>\n",
       "    <tr>\n",
       "      <th></th>\n",
       "      <th colspan=\"3\" halign=\"left\">mess_count</th>\n",
       "    </tr>\n",
       "    <tr>\n",
       "      <th></th>\n",
       "      <th>mean</th>\n",
       "      <th>var</th>\n",
       "      <th>std</th>\n",
       "    </tr>\n",
       "    <tr>\n",
       "      <th>tariff</th>\n",
       "      <th></th>\n",
       "      <th></th>\n",
       "      <th></th>\n",
       "    </tr>\n",
       "  </thead>\n",
       "  <tbody>\n",
       "    <tr>\n",
       "      <th>smart</th>\n",
       "      <td>33.384029</td>\n",
       "      <td>796.812958</td>\n",
       "      <td>28.227876</td>\n",
       "    </tr>\n",
       "    <tr>\n",
       "      <th>ultra</th>\n",
       "      <td>49.363452</td>\n",
       "      <td>2285.266143</td>\n",
       "      <td>47.804457</td>\n",
       "    </tr>\n",
       "  </tbody>\n",
       "</table>\n",
       "</div>"
      ],
      "text/plain": [
       "       mess_count                        \n",
       "             mean          var        std\n",
       "tariff                                   \n",
       "smart   33.384029   796.812958  28.227876\n",
       "ultra   49.363452  2285.266143  47.804457"
      ]
     },
     "metadata": {},
     "output_type": "display_data"
    },
    {
     "data": {
      "text/plain": [
       "'Срднее, дисперссия и стандпртное отклонение Гб'"
      ]
     },
     "metadata": {},
     "output_type": "display_data"
    },
    {
     "data": {
      "text/html": [
       "<div>\n",
       "<style scoped>\n",
       "    .dataframe tbody tr th:only-of-type {\n",
       "        vertical-align: middle;\n",
       "    }\n",
       "\n",
       "    .dataframe tbody tr th {\n",
       "        vertical-align: top;\n",
       "    }\n",
       "\n",
       "    .dataframe thead tr th {\n",
       "        text-align: left;\n",
       "    }\n",
       "\n",
       "    .dataframe thead tr:last-of-type th {\n",
       "        text-align: right;\n",
       "    }\n",
       "</style>\n",
       "<table border=\"1\" class=\"dataframe\">\n",
       "  <thead>\n",
       "    <tr>\n",
       "      <th></th>\n",
       "      <th colspan=\"3\" halign=\"left\">gb_used</th>\n",
       "    </tr>\n",
       "    <tr>\n",
       "      <th></th>\n",
       "      <th>mean</th>\n",
       "      <th>var</th>\n",
       "      <th>std</th>\n",
       "    </tr>\n",
       "    <tr>\n",
       "      <th>tariff</th>\n",
       "      <th></th>\n",
       "      <th></th>\n",
       "      <th></th>\n",
       "    </tr>\n",
       "  </thead>\n",
       "  <tbody>\n",
       "    <tr>\n",
       "      <th>smart</th>\n",
       "      <td>16.328847</td>\n",
       "      <td>33.028705</td>\n",
       "      <td>5.747061</td>\n",
       "    </tr>\n",
       "    <tr>\n",
       "      <th>ultra</th>\n",
       "      <td>19.494416</td>\n",
       "      <td>97.091686</td>\n",
       "      <td>9.853511</td>\n",
       "    </tr>\n",
       "  </tbody>\n",
       "</table>\n",
       "</div>"
      ],
      "text/plain": [
       "          gb_used                     \n",
       "             mean        var       std\n",
       "tariff                                \n",
       "smart   16.328847  33.028705  5.747061\n",
       "ultra   19.494416  97.091686  9.853511"
      ]
     },
     "metadata": {},
     "output_type": "display_data"
    }
   ],
   "source": [
    "# Посчитаем среднее количество, дисперсию и стандартное отклонение\n",
    "dur = data.groupby('tariff').agg({'duration' : ['mean', 'var', 'std']}) \n",
    "display(\"Срднее, дисперссия и стандпртное отклонение минут\", dur)\n",
    "\n",
    "sms = data.groupby('tariff').agg({'mess_count' : ['mean', 'var', 'std']}) \n",
    "display(\"Срднее, дисперссия и стандпртное отклонение смс\", sms)\n",
    "\n",
    "gb = data.groupby('tariff').agg({'gb_used' : ['mean', 'var', 'std']}) \n",
    "display(\"Срднее, дисперссия и стандпртное отклонение Гб\", gb)"
   ]
  },
  {
   "cell_type": "markdown",
   "metadata": {},
   "source": [
    "### Итоги анализа данных: \n",
    "Из гистограмм видно, что у обоих тарифов есть существенный перерасход интернета, смс и минуты укладываются в тарифы.\n",
    "Из таблиц со срднем, дисперсией и стандартным отклонением видно что разброс данных большой. У тарифа Ультра разброс выше, потому что больше лимиты."
   ]
  },
  {
   "cell_type": "markdown",
   "metadata": {},
   "source": [
    "## Проверим гипотезы\n",
    "- средняя выручка пользователей тарифов «Ультра» и «Смарт» различаются;\n",
    "- средняя выручка пользователей из Москвы отличается от выручки пользователей из других регионов.\n"
   ]
  },
  {
   "cell_type": "markdown",
   "metadata": {},
   "source": [
    "### Проверим отличается ли средняя выручка пользователей тарифов «Ультра» и «Смарт» "
   ]
  },
  {
   "cell_type": "code",
   "execution_count": 15,
   "metadata": {},
   "outputs": [
    {
     "name": "stdout",
     "output_type": "stream",
     "text": [
      "p-значение: 4.2606313931076085e-250\n",
      "Отвергаем нулевую гипотезу\n"
     ]
    }
   ],
   "source": [
    "# нулевая гипотеза, что средние выручки по двум тарифам равны(у выборок генеральных совокупностей)\n",
    "# альтернативная гипотеза, что средние выручки не равны\n",
    "data_ultra = data[data['tariff']  == 'ultra']['revenue']\n",
    "data_smart = data[data['tariff']  == 'smart']['revenue']\n",
    "\n",
    "alpha = 0.05 # Общепринятые пороговое значение\n",
    "results = st.ttest_ind(data_ultra, data_smart,equal_var = False)\n",
    "\n",
    "print('p-значение:', results.pvalue)\n",
    "\n",
    "if results.pvalue < alpha:\n",
    "    print(\"Отвергаем нулевую гипотезу\")\n",
    "else:\n",
    "    print(\"Не получилось отвергнуть нулевую гипотезу\")"
   ]
  },
  {
   "cell_type": "markdown",
   "metadata": {},
   "source": [
    "p-value очень мало и показывает что средние у генеральных совокупностей не равны"
   ]
  },
  {
   "cell_type": "markdown",
   "metadata": {},
   "source": [
    "### Проверим как средняя выручка пользователей из Москвы отличается от выручки пользователей из других регионов."
   ]
  },
  {
   "cell_type": "code",
   "execution_count": 16,
   "metadata": {},
   "outputs": [
    {
     "name": "stdout",
     "output_type": "stream",
     "text": [
      "p-значение: 0.5257376663729298\n",
      "Не получилось отвергнуть нулевую гипотезу\n"
     ]
    }
   ],
   "source": [
    "# нулевая гипотеза, что средняя выручка по Москве равна средней выручки(у генеральных совокупностей)\n",
    "# альтернативная гипотеза, что средние выручки не равны\n",
    "data_moscow = data[data['city']  == 'Москва']['revenue']\n",
    "data_any = data[data['city']  != 'Москва']['revenue']\n",
    "\n",
    "alpha = 0.05 # Общепринятые пороговое значение\n",
    "results_2 = st.ttest_ind(data_moscow, data_any, equal_var = False)\n",
    "\n",
    "print('p-значение:', results_2.pvalue)\n",
    "\n",
    "if results_2.pvalue < alpha:\n",
    "    print(\"Отвергаем нулевую гипотезу\")\n",
    "else:\n",
    "    print(\"Не получилось отвергнуть нулевую гипотезу\")\n",
    "\n"
   ]
  },
  {
   "cell_type": "markdown",
   "metadata": {},
   "source": [
    "p-value= 0.28 показывает что средние у генеральных совокупностей будут равны с вероятностью 28 процентов"
   ]
  },
  {
   "cell_type": "markdown",
   "metadata": {},
   "source": [
    "Использовался критерей \"Гипотеза о равенстве средних двух генеральных совокупностей\""
   ]
  },
  {
   "cell_type": "code",
   "execution_count": 17,
   "metadata": {},
   "outputs": [
    {
     "data": {
      "image/png": "[encoded data removed]",
      "text/plain": [
       "<Figure size 1080x360 with 3 Axes>"
      ]
     },
     "metadata": {},
     "output_type": "display_data"
    }
   ],
   "source": [
    "# немного визуализации для Заключения\n",
    "values = [data[data['tariff']  == 'ultra']['revenue'].sum(),\n",
    "          data[data['tariff']  == 'smart']['revenue'].sum()]\n",
    "values1 = [data[(data['tariff'] == \"smart\") & (data['gb_used_over'] == 0)]['gb_used_over'].count(),\n",
    "          data[(data['tariff'] == \"smart\") & (data['gb_used_over'] != 0)]['gb_used_over'].count()]\n",
    "values2 = [data[(data['tariff'] == \"ultra\") & (data['gb_used_over'] == 0)]['gb_used_over'].count(),\n",
    "          data[(data['tariff'] == \"ultra\") & (data['gb_used_over'] != 0)]['gb_used_over'].count()]\n",
    "labels = ['Ультра', 'Смарт']\n",
    "labels1 = ['Уложились', 'Перерасход']\n",
    "\n",
    "fig1, (ax1, ax2,ax3) = plt.subplots(1,3, figsize=(15,5))\n",
    "ax1.set_title('выручка')\n",
    "ax1.pie(values, labels = labels, autopct='%1.2f%%')\n",
    "ax2.set_title('интернет smart ')\n",
    "ax2.pie(values1, labels = labels1, autopct='%1.2f%%')\n",
    "ax3.set_title('интернет ultra ')\n",
    "ax3.pie(values2, labels = labels1, autopct='%1.2f%%')\n",
    "\n",
    "plt.tight_layout()\n",
    "plt.show()\n"
   ]
  },
  {
   "cell_type": "markdown",
   "metadata": {},
   "source": [
    "## Заключение:\n",
    "По моему мнению тариф \"Смарт\" безперспективен, потому что клиенты часто уходят в перерасход в интернете, а минут и смс обычно хватает. Это может приводить к оттоку.\n",
    "Нужно менять условия тарифа, ведь этот тариф приносит существенный доход. \n",
    "В ультре клиенты в основном укладываются в свой тариф но стоит он существенно дороже.\n",
    "\n",
    "Проверив гипотезы видно, что средняя выручка этих двух тарифных планов с большой вероятностью будут не равны, хотя один тарифнвй план и дешевле другого.\n",
    "Проверка гипотезы по регионам показала, что их средняя выручка  с  вероятностью  28% будут  равны."
   ]
  }
 ],
 "metadata": {
  "ExecuteTimeLog": [
   {
    "duration": 952,
    "start_time": "2021-12-20T06:38:14.820Z"
   },
   {
    "duration": 62,
    "start_time": "2021-12-20T06:38:16.018Z"
   },
   {
    "duration": 55,
    "start_time": "2021-12-20T06:38:20.667Z"
   },
   {
    "duration": 49,
    "start_time": "2021-12-20T06:39:08.449Z"
   },
   {
    "duration": 48,
    "start_time": "2021-12-20T06:39:11.565Z"
   },
   {
    "duration": 31,
    "start_time": "2021-12-20T06:39:14.996Z"
   },
   {
    "duration": 36,
    "start_time": "2021-12-20T06:39:18.347Z"
   },
   {
    "duration": 30,
    "start_time": "2021-12-20T06:39:22.350Z"
   },
   {
    "duration": 47,
    "start_time": "2021-12-20T06:43:22.610Z"
   },
   {
    "duration": 47,
    "start_time": "2021-12-20T06:43:31.712Z"
   },
   {
    "duration": 29,
    "start_time": "2021-12-20T06:45:23.827Z"
   },
   {
    "duration": 12,
    "start_time": "2021-12-20T06:46:03.828Z"
   },
   {
    "duration": 24,
    "start_time": "2021-12-20T06:54:07.619Z"
   },
   {
    "duration": 29,
    "start_time": "2021-12-20T06:55:15.595Z"
   },
   {
    "duration": 48,
    "start_time": "2021-12-20T06:56:18.709Z"
   },
   {
    "duration": 45,
    "start_time": "2021-12-20T06:56:19.861Z"
   },
   {
    "duration": 30,
    "start_time": "2021-12-20T06:56:20.755Z"
   },
   {
    "duration": 11,
    "start_time": "2021-12-20T06:56:22.659Z"
   },
   {
    "duration": 25,
    "start_time": "2021-12-20T06:56:23.820Z"
   },
   {
    "duration": 34,
    "start_time": "2021-12-20T06:57:51.422Z"
   },
   {
    "duration": 19,
    "start_time": "2021-12-20T06:58:13.063Z"
   },
   {
    "duration": 18,
    "start_time": "2021-12-20T06:58:28.774Z"
   },
   {
    "duration": 19,
    "start_time": "2021-12-20T06:58:38.391Z"
   },
   {
    "duration": 266,
    "start_time": "2021-12-20T08:10:09.622Z"
   },
   {
    "duration": 14,
    "start_time": "2021-12-20T08:10:27.862Z"
   },
   {
    "duration": 1271,
    "start_time": "2021-12-20T08:23:06.727Z"
   },
   {
    "duration": 1844,
    "start_time": "2021-12-20T08:28:59.163Z"
   },
   {
    "duration": 1388,
    "start_time": "2021-12-20T08:38:20.227Z"
   },
   {
    "duration": 31,
    "start_time": "2021-12-20T08:38:43.449Z"
   },
   {
    "duration": 13,
    "start_time": "2021-12-20T08:41:54.867Z"
   },
   {
    "duration": 11,
    "start_time": "2021-12-20T08:42:43.124Z"
   },
   {
    "duration": 47,
    "start_time": "2021-12-20T08:43:02.300Z"
   },
   {
    "duration": 15,
    "start_time": "2021-12-20T08:43:09.387Z"
   },
   {
    "duration": 11,
    "start_time": "2021-12-20T08:43:35.468Z"
   },
   {
    "duration": 174,
    "start_time": "2021-12-20T08:43:36.827Z"
   },
   {
    "duration": 5,
    "start_time": "2021-12-20T08:43:48.644Z"
   },
   {
    "duration": 10,
    "start_time": "2021-12-20T08:44:40.269Z"
   },
   {
    "duration": 10,
    "start_time": "2021-12-20T08:44:42.300Z"
   },
   {
    "duration": 10,
    "start_time": "2021-12-20T08:44:44.374Z"
   },
   {
    "duration": 10,
    "start_time": "2021-12-20T09:25:32.018Z"
   },
   {
    "duration": 4369,
    "start_time": "2021-12-20T09:27:14.147Z"
   },
   {
    "duration": 47,
    "start_time": "2021-12-20T09:27:46.868Z"
   },
   {
    "duration": 18,
    "start_time": "2021-12-20T09:28:31.196Z"
   },
   {
    "duration": 46,
    "start_time": "2021-12-20T09:30:10.285Z"
   },
   {
    "duration": 15,
    "start_time": "2021-12-20T09:41:38.383Z"
   },
   {
    "duration": 193,
    "start_time": "2021-12-20T09:49:03.508Z"
   },
   {
    "duration": 20,
    "start_time": "2021-12-20T09:49:40.188Z"
   },
   {
    "duration": 189,
    "start_time": "2021-12-20T09:49:56.924Z"
   },
   {
    "duration": 176,
    "start_time": "2021-12-20T09:49:59.749Z"
   },
   {
    "duration": 189,
    "start_time": "2021-12-20T09:50:20.765Z"
   },
   {
    "duration": 260,
    "start_time": "2021-12-20T09:50:26.725Z"
   },
   {
    "duration": 177,
    "start_time": "2021-12-20T09:51:32.391Z"
   },
   {
    "duration": 198,
    "start_time": "2021-12-20T09:52:57.408Z"
   },
   {
    "duration": 208,
    "start_time": "2021-12-20T09:53:07.168Z"
   },
   {
    "duration": 4309,
    "start_time": "2021-12-20T09:53:39.207Z"
   },
   {
    "duration": 4617,
    "start_time": "2021-12-20T09:53:55.783Z"
   },
   {
    "duration": 8,
    "start_time": "2021-12-20T09:54:14.120Z"
   },
   {
    "duration": 17,
    "start_time": "2021-12-20T09:54:34.743Z"
   },
   {
    "duration": 16,
    "start_time": "2021-12-20T12:54:25.185Z"
   },
   {
    "duration": 198,
    "start_time": "2021-12-20T12:54:27.177Z"
   },
   {
    "duration": 384,
    "start_time": "2021-12-20T12:54:32.561Z"
   },
   {
    "duration": 47,
    "start_time": "2021-12-20T12:54:34.273Z"
   },
   {
    "duration": 48,
    "start_time": "2021-12-20T12:54:35.632Z"
   },
   {
    "duration": 20,
    "start_time": "2021-12-20T12:54:36.354Z"
   },
   {
    "duration": 12,
    "start_time": "2021-12-20T12:54:37.001Z"
   },
   {
    "duration": 14,
    "start_time": "2021-12-20T12:54:37.592Z"
   },
   {
    "duration": 3,
    "start_time": "2021-12-20T12:54:38.233Z"
   },
   {
    "duration": 63,
    "start_time": "2021-12-20T12:54:39.913Z"
   },
   {
    "duration": 199,
    "start_time": "2021-12-20T12:54:43.145Z"
   },
   {
    "duration": 18,
    "start_time": "2021-12-20T12:54:51.753Z"
   },
   {
    "duration": 196,
    "start_time": "2021-12-20T12:58:03.508Z"
   },
   {
    "duration": 31,
    "start_time": "2021-12-20T12:58:44.780Z"
   },
   {
    "duration": 31,
    "start_time": "2021-12-20T12:58:54.883Z"
   },
   {
    "duration": 189,
    "start_time": "2021-12-21T06:05:51.646Z"
   },
   {
    "duration": 424,
    "start_time": "2021-12-21T06:05:58.481Z"
   },
   {
    "duration": 46,
    "start_time": "2021-12-21T06:05:58.985Z"
   },
   {
    "duration": 48,
    "start_time": "2021-12-21T06:05:59.444Z"
   },
   {
    "duration": 33,
    "start_time": "2021-12-21T06:06:00.341Z"
   },
   {
    "duration": 14,
    "start_time": "2021-12-21T06:06:01.154Z"
   },
   {
    "duration": 17,
    "start_time": "2021-12-21T06:06:01.903Z"
   },
   {
    "duration": 3,
    "start_time": "2021-12-21T06:06:03.019Z"
   },
   {
    "duration": 75,
    "start_time": "2021-12-21T06:06:04.876Z"
   },
   {
    "duration": 8,
    "start_time": "2021-12-21T06:06:05.911Z"
   },
   {
    "duration": 11,
    "start_time": "2021-12-21T06:06:27.806Z"
   },
   {
    "duration": 30,
    "start_time": "2021-12-21T06:08:08.640Z"
   },
   {
    "duration": 179,
    "start_time": "2021-12-21T06:08:48.080Z"
   },
   {
    "duration": 410,
    "start_time": "2021-12-21T06:09:55.339Z"
   },
   {
    "duration": 48,
    "start_time": "2021-12-21T06:09:55.805Z"
   },
   {
    "duration": 47,
    "start_time": "2021-12-21T06:09:56.226Z"
   },
   {
    "duration": 21,
    "start_time": "2021-12-21T06:09:56.450Z"
   },
   {
    "duration": 12,
    "start_time": "2021-12-21T06:09:56.686Z"
   },
   {
    "duration": 13,
    "start_time": "2021-12-21T06:09:56.895Z"
   },
   {
    "duration": 2,
    "start_time": "2021-12-21T06:09:57.105Z"
   },
   {
    "duration": 62,
    "start_time": "2021-12-21T06:09:57.944Z"
   },
   {
    "duration": 8,
    "start_time": "2021-12-21T06:09:58.599Z"
   },
   {
    "duration": 46,
    "start_time": "2021-12-21T06:10:00.460Z"
   },
   {
    "duration": 171,
    "start_time": "2021-12-21T06:10:26.824Z"
   },
   {
    "duration": 8,
    "start_time": "2021-12-21T06:10:41.009Z"
   },
   {
    "duration": 259,
    "start_time": "2021-12-21T06:12:20.794Z"
   },
   {
    "duration": 10,
    "start_time": "2021-12-21T06:12:27.786Z"
   },
   {
    "duration": 38,
    "start_time": "2021-12-21T06:14:52.814Z"
   },
   {
    "duration": 8,
    "start_time": "2021-12-21T06:16:56.248Z"
   },
   {
    "duration": 34,
    "start_time": "2021-12-21T06:18:41.815Z"
   },
   {
    "duration": 10,
    "start_time": "2021-12-21T06:26:48.885Z"
   },
   {
    "duration": 10,
    "start_time": "2021-12-21T06:27:18.981Z"
   },
   {
    "duration": 9,
    "start_time": "2021-12-21T06:27:48.797Z"
   },
   {
    "duration": 787,
    "start_time": "2021-12-21T06:45:54.612Z"
   },
   {
    "duration": 438,
    "start_time": "2021-12-21T06:46:01.196Z"
   },
   {
    "duration": 53,
    "start_time": "2021-12-21T06:46:01.636Z"
   },
   {
    "duration": 60,
    "start_time": "2021-12-21T06:46:01.692Z"
   },
   {
    "duration": 19,
    "start_time": "2021-12-21T06:46:01.822Z"
   },
   {
    "duration": 12,
    "start_time": "2021-12-21T06:46:01.998Z"
   },
   {
    "duration": 15,
    "start_time": "2021-12-21T06:46:02.470Z"
   },
   {
    "duration": 2,
    "start_time": "2021-12-21T06:46:03.014Z"
   },
   {
    "duration": 63,
    "start_time": "2021-12-21T06:46:04.411Z"
   },
   {
    "duration": 9,
    "start_time": "2021-12-21T06:46:05.387Z"
   },
   {
    "duration": 141,
    "start_time": "2021-12-21T06:46:06.377Z"
   },
   {
    "duration": 24,
    "start_time": "2021-12-21T06:46:49.980Z"
   },
   {
    "duration": 4397,
    "start_time": "2021-12-21T06:47:24.358Z"
   },
   {
    "duration": 398,
    "start_time": "2021-12-21T06:47:30.798Z"
   },
   {
    "duration": 49,
    "start_time": "2021-12-21T06:47:31.198Z"
   },
   {
    "duration": 67,
    "start_time": "2021-12-21T06:47:31.248Z"
   },
   {
    "duration": 20,
    "start_time": "2021-12-21T06:47:31.380Z"
   },
   {
    "duration": 11,
    "start_time": "2021-12-21T06:47:31.552Z"
   },
   {
    "duration": 13,
    "start_time": "2021-12-21T06:47:31.769Z"
   },
   {
    "duration": 2,
    "start_time": "2021-12-21T06:47:32.073Z"
   },
   {
    "duration": 62,
    "start_time": "2021-12-21T06:47:32.811Z"
   },
   {
    "duration": 9,
    "start_time": "2021-12-21T06:47:33.341Z"
   },
   {
    "duration": 113,
    "start_time": "2021-12-21T06:47:34.619Z"
   },
   {
    "duration": 17,
    "start_time": "2021-12-21T06:48:55.368Z"
   },
   {
    "duration": 15,
    "start_time": "2021-12-21T06:50:19.272Z"
   },
   {
    "duration": 27,
    "start_time": "2021-12-21T07:00:20.583Z"
   },
   {
    "duration": 39,
    "start_time": "2021-12-21T07:03:56.139Z"
   },
   {
    "duration": 401,
    "start_time": "2021-12-21T07:04:13.439Z"
   },
   {
    "duration": 48,
    "start_time": "2021-12-21T07:04:13.929Z"
   },
   {
    "duration": 45,
    "start_time": "2021-12-21T07:04:14.147Z"
   },
   {
    "duration": 19,
    "start_time": "2021-12-21T07:04:14.357Z"
   },
   {
    "duration": 11,
    "start_time": "2021-12-21T07:04:14.551Z"
   },
   {
    "duration": 12,
    "start_time": "2021-12-21T07:04:14.832Z"
   },
   {
    "duration": 3,
    "start_time": "2021-12-21T07:04:15.384Z"
   },
   {
    "duration": 62,
    "start_time": "2021-12-21T07:04:18.610Z"
   },
   {
    "duration": 8,
    "start_time": "2021-12-21T07:04:19.488Z"
   },
   {
    "duration": 122,
    "start_time": "2021-12-21T07:04:28.614Z"
   },
   {
    "duration": 179,
    "start_time": "2021-12-21T07:06:46.613Z"
   },
   {
    "duration": 175,
    "start_time": "2021-12-21T07:11:14.377Z"
   },
   {
    "duration": 26,
    "start_time": "2021-12-21T07:13:02.538Z"
   },
   {
    "duration": 60,
    "start_time": "2021-12-21T07:14:23.508Z"
   },
   {
    "duration": 183,
    "start_time": "2021-12-21T07:14:29.530Z"
   },
   {
    "duration": 7,
    "start_time": "2021-12-21T07:14:35.058Z"
   },
   {
    "duration": 417,
    "start_time": "2021-12-21T07:15:23.220Z"
   },
   {
    "duration": 4570,
    "start_time": "2021-12-21T07:17:13.420Z"
   },
   {
    "duration": 4555,
    "start_time": "2021-12-21T07:17:39.901Z"
   },
   {
    "duration": 530,
    "start_time": "2021-12-21T07:18:15.687Z"
   },
   {
    "duration": 61,
    "start_time": "2021-12-21T07:18:22.373Z"
   },
   {
    "duration": 4983,
    "start_time": "2021-12-21T07:19:00.509Z"
   },
   {
    "duration": 380,
    "start_time": "2021-12-21T07:19:09.072Z"
   },
   {
    "duration": 51,
    "start_time": "2021-12-21T07:19:09.727Z"
   },
   {
    "duration": 46,
    "start_time": "2021-12-21T07:19:10.179Z"
   },
   {
    "duration": 19,
    "start_time": "2021-12-21T07:19:10.637Z"
   },
   {
    "duration": 10,
    "start_time": "2021-12-21T07:19:11.106Z"
   },
   {
    "duration": 12,
    "start_time": "2021-12-21T07:19:11.602Z"
   },
   {
    "duration": 2,
    "start_time": "2021-12-21T07:19:12.322Z"
   },
   {
    "duration": 63,
    "start_time": "2021-12-21T07:19:13.521Z"
   },
   {
    "duration": 8,
    "start_time": "2021-12-21T07:19:14.193Z"
   },
   {
    "duration": 123,
    "start_time": "2021-12-21T07:19:15.650Z"
   },
   {
    "duration": 5,
    "start_time": "2021-12-21T07:19:29.405Z"
   },
   {
    "duration": 4,
    "start_time": "2021-12-21T07:21:01.839Z"
   },
   {
    "duration": 20,
    "start_time": "2021-12-21T07:59:45.302Z"
   },
   {
    "duration": 7,
    "start_time": "2021-12-21T08:01:21.399Z"
   },
   {
    "duration": 205,
    "start_time": "2021-12-21T08:01:25.060Z"
   },
   {
    "duration": 219,
    "start_time": "2021-12-21T08:01:30.862Z"
   },
   {
    "duration": 187,
    "start_time": "2021-12-21T08:01:58.876Z"
   },
   {
    "duration": 3,
    "start_time": "2021-12-21T08:02:11.096Z"
   },
   {
    "duration": 4,
    "start_time": "2021-12-21T08:02:13.286Z"
   },
   {
    "duration": 5230,
    "start_time": "2021-12-21T08:02:17.553Z"
   },
   {
    "duration": 3,
    "start_time": "2021-12-21T08:02:25.791Z"
   },
   {
    "duration": 404,
    "start_time": "2021-12-21T08:02:29.935Z"
   },
   {
    "duration": 48,
    "start_time": "2021-12-21T08:02:30.341Z"
   },
   {
    "duration": 44,
    "start_time": "2021-12-21T08:02:30.391Z"
   },
   {
    "duration": 19,
    "start_time": "2021-12-21T08:02:30.505Z"
   },
   {
    "duration": 12,
    "start_time": "2021-12-21T08:02:30.676Z"
   },
   {
    "duration": 13,
    "start_time": "2021-12-21T08:02:30.877Z"
   },
   {
    "duration": 2,
    "start_time": "2021-12-21T08:02:31.071Z"
   },
   {
    "duration": 67,
    "start_time": "2021-12-21T08:02:31.445Z"
   },
   {
    "duration": 8,
    "start_time": "2021-12-21T08:02:31.912Z"
   },
   {
    "duration": 126,
    "start_time": "2021-12-21T08:02:32.726Z"
   },
   {
    "duration": 20,
    "start_time": "2021-12-21T08:02:39.550Z"
   },
   {
    "duration": 39,
    "start_time": "2021-12-21T08:07:01.131Z"
   },
   {
    "duration": 38,
    "start_time": "2021-12-21T08:07:24.940Z"
   },
   {
    "duration": 23,
    "start_time": "2021-12-21T08:08:52.436Z"
   },
   {
    "duration": 2347,
    "start_time": "2021-12-21T08:09:16.101Z"
   },
   {
    "duration": 390,
    "start_time": "2021-12-21T08:09:31.562Z"
   },
   {
    "duration": 46,
    "start_time": "2021-12-21T08:09:31.954Z"
   },
   {
    "duration": 45,
    "start_time": "2021-12-21T08:09:32.002Z"
   },
   {
    "duration": 21,
    "start_time": "2021-12-21T08:09:32.138Z"
   },
   {
    "duration": 10,
    "start_time": "2021-12-21T08:09:32.317Z"
   },
   {
    "duration": 12,
    "start_time": "2021-12-21T08:09:32.512Z"
   },
   {
    "duration": 2,
    "start_time": "2021-12-21T08:09:32.674Z"
   },
   {
    "duration": 64,
    "start_time": "2021-12-21T08:09:33.048Z"
   },
   {
    "duration": 8,
    "start_time": "2021-12-21T08:09:33.616Z"
   },
   {
    "duration": 124,
    "start_time": "2021-12-21T08:09:34.421Z"
   },
   {
    "duration": 22,
    "start_time": "2021-12-21T08:09:38.875Z"
   },
   {
    "duration": 386,
    "start_time": "2021-12-21T08:10:12.537Z"
   },
   {
    "duration": 47,
    "start_time": "2021-12-21T08:10:12.925Z"
   },
   {
    "duration": 45,
    "start_time": "2021-12-21T08:10:12.974Z"
   },
   {
    "duration": 20,
    "start_time": "2021-12-21T08:10:13.051Z"
   },
   {
    "duration": 12,
    "start_time": "2021-12-21T08:10:13.192Z"
   },
   {
    "duration": 14,
    "start_time": "2021-12-21T08:10:13.347Z"
   },
   {
    "duration": 2,
    "start_time": "2021-12-21T08:10:13.511Z"
   },
   {
    "duration": 64,
    "start_time": "2021-12-21T08:10:14.211Z"
   },
   {
    "duration": 8,
    "start_time": "2021-12-21T08:10:14.575Z"
   },
   {
    "duration": 126,
    "start_time": "2021-12-21T08:10:15.123Z"
   },
   {
    "duration": 36,
    "start_time": "2021-12-21T08:10:15.923Z"
   },
   {
    "duration": 38,
    "start_time": "2021-12-21T08:10:56.558Z"
   },
   {
    "duration": 37,
    "start_time": "2021-12-21T08:21:58.431Z"
   },
   {
    "duration": 42,
    "start_time": "2021-12-21T08:23:02.648Z"
   },
   {
    "duration": 37,
    "start_time": "2021-12-21T08:23:08.880Z"
   },
   {
    "duration": 38,
    "start_time": "2021-12-21T08:23:14.481Z"
   },
   {
    "duration": 38,
    "start_time": "2021-12-21T08:23:30.088Z"
   },
   {
    "duration": 197,
    "start_time": "2021-12-21T08:23:41.705Z"
   },
   {
    "duration": 37,
    "start_time": "2021-12-21T08:23:49.274Z"
   },
   {
    "duration": 367,
    "start_time": "2021-12-21T08:23:54.825Z"
   },
   {
    "duration": 50,
    "start_time": "2021-12-21T08:23:55.224Z"
   },
   {
    "duration": 46,
    "start_time": "2021-12-21T08:23:55.402Z"
   },
   {
    "duration": 19,
    "start_time": "2021-12-21T08:23:55.588Z"
   },
   {
    "duration": 13,
    "start_time": "2021-12-21T08:23:55.773Z"
   },
   {
    "duration": 14,
    "start_time": "2021-12-21T08:23:55.957Z"
   },
   {
    "duration": 2,
    "start_time": "2021-12-21T08:23:56.141Z"
   },
   {
    "duration": 64,
    "start_time": "2021-12-21T08:23:56.530Z"
   },
   {
    "duration": 8,
    "start_time": "2021-12-21T08:23:56.927Z"
   },
   {
    "duration": 130,
    "start_time": "2021-12-21T08:23:57.424Z"
   },
   {
    "duration": 38,
    "start_time": "2021-12-21T08:23:58.178Z"
   },
   {
    "duration": 26,
    "start_time": "2021-12-21T08:24:33.353Z"
   },
   {
    "duration": 14,
    "start_time": "2021-12-21T08:24:43.040Z"
   },
   {
    "duration": 14,
    "start_time": "2021-12-21T08:24:46.720Z"
   },
   {
    "duration": 7,
    "start_time": "2021-12-21T08:24:58.984Z"
   },
   {
    "duration": 372,
    "start_time": "2021-12-21T08:25:17.473Z"
   },
   {
    "duration": 49,
    "start_time": "2021-12-21T08:25:17.847Z"
   },
   {
    "duration": 44,
    "start_time": "2021-12-21T08:25:17.899Z"
   },
   {
    "duration": 18,
    "start_time": "2021-12-21T08:25:17.981Z"
   },
   {
    "duration": 12,
    "start_time": "2021-12-21T08:25:18.140Z"
   },
   {
    "duration": 14,
    "start_time": "2021-12-21T08:25:18.304Z"
   },
   {
    "duration": 3,
    "start_time": "2021-12-21T08:25:18.770Z"
   },
   {
    "duration": 66,
    "start_time": "2021-12-21T08:25:19.968Z"
   },
   {
    "duration": 9,
    "start_time": "2021-12-21T08:25:20.474Z"
   },
   {
    "duration": 130,
    "start_time": "2021-12-21T08:25:21.346Z"
   },
   {
    "duration": 25,
    "start_time": "2021-12-21T08:25:29.162Z"
   },
   {
    "duration": 16,
    "start_time": "2021-12-21T08:25:36.889Z"
   },
   {
    "duration": 379,
    "start_time": "2021-12-21T08:26:00.437Z"
   },
   {
    "duration": 49,
    "start_time": "2021-12-21T08:26:00.818Z"
   },
   {
    "duration": 44,
    "start_time": "2021-12-21T08:26:00.869Z"
   },
   {
    "duration": 17,
    "start_time": "2021-12-21T08:26:00.915Z"
   },
   {
    "duration": 10,
    "start_time": "2021-12-21T08:26:00.934Z"
   },
   {
    "duration": 14,
    "start_time": "2021-12-21T08:26:00.946Z"
   },
   {
    "duration": 4,
    "start_time": "2021-12-21T08:26:00.962Z"
   },
   {
    "duration": 63,
    "start_time": "2021-12-21T08:26:01.184Z"
   },
   {
    "duration": 8,
    "start_time": "2021-12-21T08:26:01.312Z"
   },
   {
    "duration": 131,
    "start_time": "2021-12-21T08:26:01.708Z"
   },
   {
    "duration": 27,
    "start_time": "2021-12-21T08:26:01.910Z"
   },
   {
    "duration": 9,
    "start_time": "2021-12-21T08:26:31.770Z"
   },
   {
    "duration": 9,
    "start_time": "2021-12-21T08:26:35.369Z"
   },
   {
    "duration": 8,
    "start_time": "2021-12-21T08:26:47.187Z"
   },
   {
    "duration": 7,
    "start_time": "2021-12-21T08:26:56.018Z"
   },
   {
    "duration": 363,
    "start_time": "2021-12-21T08:28:42.773Z"
   },
   {
    "duration": 47,
    "start_time": "2021-12-21T08:28:43.137Z"
   },
   {
    "duration": 44,
    "start_time": "2021-12-21T08:28:43.199Z"
   },
   {
    "duration": 19,
    "start_time": "2021-12-21T08:28:43.355Z"
   },
   {
    "duration": 10,
    "start_time": "2021-12-21T08:28:43.518Z"
   },
   {
    "duration": 13,
    "start_time": "2021-12-21T08:28:43.672Z"
   },
   {
    "duration": 2,
    "start_time": "2021-12-21T08:28:43.828Z"
   },
   {
    "duration": 70,
    "start_time": "2021-12-21T08:28:44.986Z"
   },
   {
    "duration": 9,
    "start_time": "2021-12-21T08:28:45.671Z"
   },
   {
    "duration": 128,
    "start_time": "2021-12-21T08:28:46.433Z"
   },
   {
    "duration": 37,
    "start_time": "2021-12-21T08:28:47.601Z"
   },
   {
    "duration": 22,
    "start_time": "2021-12-21T08:33:41.264Z"
   },
   {
    "duration": 24,
    "start_time": "2021-12-21T08:35:52.674Z"
   },
   {
    "duration": 7,
    "start_time": "2021-12-21T08:38:04.866Z"
   },
   {
    "duration": 38,
    "start_time": "2021-12-21T08:48:29.995Z"
   },
   {
    "duration": 6,
    "start_time": "2021-12-21T09:40:15.305Z"
   },
   {
    "duration": 6,
    "start_time": "2021-12-21T09:41:13.673Z"
   },
   {
    "duration": 7,
    "start_time": "2021-12-21T09:41:15.849Z"
   },
   {
    "duration": 6,
    "start_time": "2021-12-21T09:42:00.623Z"
   },
   {
    "duration": 15,
    "start_time": "2021-12-21T09:42:46.787Z"
   },
   {
    "duration": 24,
    "start_time": "2021-12-21T09:43:00.931Z"
   },
   {
    "duration": 22,
    "start_time": "2021-12-21T10:03:00.004Z"
   },
   {
    "duration": 25,
    "start_time": "2021-12-21T10:12:42.713Z"
   },
   {
    "duration": 24,
    "start_time": "2021-12-21T10:13:07.874Z"
   },
   {
    "duration": 382,
    "start_time": "2021-12-21T10:16:14.032Z"
   },
   {
    "duration": 48,
    "start_time": "2021-12-21T10:16:14.416Z"
   },
   {
    "duration": 49,
    "start_time": "2021-12-21T10:16:14.575Z"
   },
   {
    "duration": 21,
    "start_time": "2021-12-21T10:16:14.739Z"
   },
   {
    "duration": 11,
    "start_time": "2021-12-21T10:16:14.904Z"
   },
   {
    "duration": 13,
    "start_time": "2021-12-21T10:16:15.074Z"
   },
   {
    "duration": 2,
    "start_time": "2021-12-21T10:16:15.238Z"
   },
   {
    "duration": 64,
    "start_time": "2021-12-21T10:16:16.039Z"
   },
   {
    "duration": 9,
    "start_time": "2021-12-21T10:16:16.445Z"
   },
   {
    "duration": 130,
    "start_time": "2021-12-21T10:16:17.040Z"
   },
   {
    "duration": 28,
    "start_time": "2021-12-21T10:16:18.141Z"
   },
   {
    "duration": 33,
    "start_time": "2021-12-21T10:16:18.984Z"
   },
   {
    "duration": 24,
    "start_time": "2021-12-21T10:16:19.938Z"
   },
   {
    "duration": 23,
    "start_time": "2021-12-21T10:16:48.796Z"
   },
   {
    "duration": 5165,
    "start_time": "2021-12-21T10:22:02.835Z"
   },
   {
    "duration": 25,
    "start_time": "2021-12-21T10:22:10.712Z"
   },
   {
    "duration": 32,
    "start_time": "2021-12-21T10:24:34.785Z"
   },
   {
    "duration": 33,
    "start_time": "2021-12-21T10:34:06.233Z"
   },
   {
    "duration": 37,
    "start_time": "2021-12-21T10:34:40.432Z"
   },
   {
    "duration": 34,
    "start_time": "2021-12-21T10:35:46.206Z"
   },
   {
    "duration": 33,
    "start_time": "2021-12-21T10:36:22.139Z"
   },
   {
    "duration": 20,
    "start_time": "2021-12-21T10:37:24.620Z"
   },
   {
    "duration": 21,
    "start_time": "2021-12-21T10:37:39.403Z"
   },
   {
    "duration": 21,
    "start_time": "2021-12-21T10:37:48.395Z"
   },
   {
    "duration": 32,
    "start_time": "2021-12-21T10:38:03.652Z"
   },
   {
    "duration": 32,
    "start_time": "2021-12-22T08:09:26.342Z"
   },
   {
    "duration": 389,
    "start_time": "2021-12-22T08:09:40.796Z"
   },
   {
    "duration": 52,
    "start_time": "2021-12-22T08:09:41.233Z"
   },
   {
    "duration": 49,
    "start_time": "2021-12-22T08:09:41.407Z"
   },
   {
    "duration": 21,
    "start_time": "2021-12-22T08:09:41.568Z"
   },
   {
    "duration": 12,
    "start_time": "2021-12-22T08:09:41.739Z"
   },
   {
    "duration": 15,
    "start_time": "2021-12-22T08:09:41.902Z"
   },
   {
    "duration": 3,
    "start_time": "2021-12-22T08:09:42.074Z"
   },
   {
    "duration": 67,
    "start_time": "2021-12-22T08:09:42.689Z"
   },
   {
    "duration": 9,
    "start_time": "2021-12-22T08:09:42.969Z"
   },
   {
    "duration": 128,
    "start_time": "2021-12-22T08:09:43.218Z"
   },
   {
    "duration": 28,
    "start_time": "2021-12-22T08:09:43.574Z"
   },
   {
    "duration": 35,
    "start_time": "2021-12-22T08:09:44.144Z"
   },
   {
    "duration": 35,
    "start_time": "2021-12-22T08:09:44.597Z"
   },
   {
    "duration": 815,
    "start_time": "2021-12-22T08:24:06.040Z"
   },
   {
    "duration": 250,
    "start_time": "2021-12-22T08:24:23.408Z"
   },
   {
    "duration": 32893,
    "start_time": "2021-12-22T08:25:42.636Z"
   },
   {
    "duration": 197,
    "start_time": "2021-12-22T08:26:42.274Z"
   },
   {
    "duration": 185,
    "start_time": "2021-12-22T08:27:41.860Z"
   },
   {
    "duration": 201,
    "start_time": "2021-12-22T08:28:55.792Z"
   },
   {
    "duration": 42,
    "start_time": "2021-12-22T08:29:05.724Z"
   },
   {
    "duration": 31,
    "start_time": "2021-12-22T08:30:47.470Z"
   },
   {
    "duration": 195,
    "start_time": "2021-12-22T08:30:50.845Z"
   },
   {
    "duration": 195,
    "start_time": "2021-12-22T08:34:32.584Z"
   },
   {
    "duration": 370,
    "start_time": "2021-12-22T08:36:38.466Z"
   },
   {
    "duration": 209,
    "start_time": "2021-12-22T08:39:12.133Z"
   },
   {
    "duration": 213,
    "start_time": "2021-12-22T08:40:21.724Z"
   },
   {
    "duration": 226,
    "start_time": "2021-12-22T08:42:30.974Z"
   },
   {
    "duration": 923,
    "start_time": "2021-12-22T08:49:00.394Z"
   },
   {
    "duration": 438,
    "start_time": "2021-12-22T08:50:01.858Z"
   },
   {
    "duration": 629,
    "start_time": "2021-12-22T08:51:15.804Z"
   },
   {
    "duration": 632,
    "start_time": "2021-12-22T08:53:11.526Z"
   },
   {
    "duration": 6,
    "start_time": "2021-12-22T09:30:24.953Z"
   },
   {
    "duration": 667,
    "start_time": "2021-12-22T09:45:25.556Z"
   },
   {
    "duration": 679,
    "start_time": "2021-12-22T09:47:16.695Z"
   },
   {
    "duration": 699,
    "start_time": "2021-12-22T09:48:10.263Z"
   },
   {
    "duration": 684,
    "start_time": "2021-12-22T09:49:29.240Z"
   },
   {
    "duration": 721,
    "start_time": "2021-12-22T09:49:51.658Z"
   },
   {
    "duration": 741,
    "start_time": "2021-12-22T09:50:57.001Z"
   },
   {
    "duration": 16,
    "start_time": "2021-12-22T09:59:44.590Z"
   },
   {
    "duration": 26,
    "start_time": "2021-12-22T10:05:18.529Z"
   },
   {
    "duration": 29,
    "start_time": "2021-12-22T10:08:11.220Z"
   },
   {
    "duration": 59,
    "start_time": "2021-12-22T10:08:58.091Z"
   },
   {
    "duration": 63,
    "start_time": "2021-12-22T10:09:22.803Z"
   },
   {
    "duration": 62,
    "start_time": "2021-12-22T10:09:26.324Z"
   },
   {
    "duration": 29,
    "start_time": "2021-12-22T10:09:37.363Z"
   },
   {
    "duration": 17,
    "start_time": "2021-12-22T10:12:47.864Z"
   },
   {
    "duration": 25,
    "start_time": "2021-12-22T10:15:22.288Z"
   },
   {
    "duration": 741,
    "start_time": "2021-12-22T10:15:36.552Z"
   },
   {
    "duration": 26,
    "start_time": "2021-12-22T10:15:40.137Z"
   },
   {
    "duration": 242,
    "start_time": "2021-12-22T10:17:23.906Z"
   },
   {
    "duration": 28,
    "start_time": "2021-12-22T10:17:37.290Z"
   },
   {
    "duration": 31,
    "start_time": "2021-12-22T10:17:45.442Z"
   },
   {
    "duration": 38,
    "start_time": "2021-12-22T10:19:12.259Z"
   },
   {
    "duration": 38,
    "start_time": "2021-12-22T10:24:37.407Z"
   },
   {
    "duration": 1068,
    "start_time": "2021-12-22T10:57:03.773Z"
   },
   {
    "duration": 343,
    "start_time": "2021-12-22T16:56:32.529Z"
   },
   {
    "duration": 10,
    "start_time": "2021-12-22T17:08:55.605Z"
   },
   {
    "duration": 101,
    "start_time": "2021-12-23T08:41:13.396Z"
   },
   {
    "duration": 1063,
    "start_time": "2021-12-23T09:33:04.808Z"
   },
   {
    "duration": 61,
    "start_time": "2021-12-23T09:33:08.014Z"
   },
   {
    "duration": 41,
    "start_time": "2021-12-23T09:33:15.541Z"
   },
   {
    "duration": 19,
    "start_time": "2021-12-23T09:33:22.307Z"
   },
   {
    "duration": 12,
    "start_time": "2021-12-23T09:33:23.027Z"
   },
   {
    "duration": 14,
    "start_time": "2021-12-23T09:33:25.867Z"
   },
   {
    "duration": 903,
    "start_time": "2021-12-23T10:32:57.916Z"
   },
   {
    "duration": 48,
    "start_time": "2021-12-23T10:33:00.016Z"
   },
   {
    "duration": 45,
    "start_time": "2021-12-23T10:33:02.322Z"
   },
   {
    "duration": 20,
    "start_time": "2021-12-23T10:33:06.000Z"
   },
   {
    "duration": 12,
    "start_time": "2021-12-23T10:33:08.216Z"
   },
   {
    "duration": 16,
    "start_time": "2021-12-23T10:33:10.057Z"
   },
   {
    "duration": 65,
    "start_time": "2021-12-23T10:34:45.289Z"
   },
   {
    "duration": 9017,
    "start_time": "2021-12-23T10:39:40.537Z"
   },
   {
    "duration": 25,
    "start_time": "2021-12-23T10:40:14.664Z"
   },
   {
    "duration": 342,
    "start_time": "2021-12-23T10:44:26.821Z"
   },
   {
    "duration": 25,
    "start_time": "2021-12-23T10:48:46.261Z"
   },
   {
    "duration": 19,
    "start_time": "2021-12-23T10:49:01.480Z"
   },
   {
    "duration": 20,
    "start_time": "2021-12-23T10:49:16.196Z"
   },
   {
    "duration": 24,
    "start_time": "2021-12-23T10:49:27.484Z"
   },
   {
    "duration": 26,
    "start_time": "2021-12-23T10:52:09.574Z"
   },
   {
    "duration": 24,
    "start_time": "2021-12-23T10:52:13.223Z"
   },
   {
    "duration": 46,
    "start_time": "2021-12-23T10:56:00.303Z"
   },
   {
    "duration": 45,
    "start_time": "2021-12-23T10:56:52.338Z"
   },
   {
    "duration": 19160,
    "start_time": "2021-12-23T10:58:35.437Z"
   },
   {
    "duration": 48,
    "start_time": "2021-12-23T10:59:00.797Z"
   },
   {
    "duration": 19338,
    "start_time": "2021-12-23T10:59:26.500Z"
   },
   {
    "duration": 477,
    "start_time": "2021-12-23T11:01:00.133Z"
   },
   {
    "duration": 9441,
    "start_time": "2021-12-23T11:02:08.864Z"
   },
   {
    "duration": 412,
    "start_time": "2021-12-23T11:02:53.182Z"
   },
   {
    "duration": 48,
    "start_time": "2021-12-23T11:02:55.178Z"
   },
   {
    "duration": 40,
    "start_time": "2021-12-23T11:02:55.743Z"
   },
   {
    "duration": 26,
    "start_time": "2021-12-23T11:02:56.233Z"
   },
   {
    "duration": 13,
    "start_time": "2021-12-23T11:02:56.676Z"
   },
   {
    "duration": 13,
    "start_time": "2021-12-23T11:02:57.191Z"
   },
   {
    "duration": 3,
    "start_time": "2021-12-23T11:03:00.056Z"
   },
   {
    "duration": 3,
    "start_time": "2021-12-23T11:03:02.133Z"
   },
   {
    "duration": 198,
    "start_time": "2021-12-23T11:03:03.819Z"
   },
   {
    "duration": 8703,
    "start_time": "2021-12-23T11:13:26.996Z"
   },
   {
    "duration": 11559,
    "start_time": "2021-12-23T11:13:40.287Z"
   },
   {
    "duration": 402,
    "start_time": "2021-12-23T11:14:13.471Z"
   },
   {
    "duration": 49,
    "start_time": "2021-12-23T11:14:13.875Z"
   },
   {
    "duration": 40,
    "start_time": "2021-12-23T11:14:13.926Z"
   },
   {
    "duration": 19,
    "start_time": "2021-12-23T11:14:14.041Z"
   },
   {
    "duration": 11,
    "start_time": "2021-12-23T11:14:14.227Z"
   },
   {
    "duration": 13,
    "start_time": "2021-12-23T11:14:14.413Z"
   },
   {
    "duration": 143,
    "start_time": "2021-12-23T11:14:15.476Z"
   },
   {
    "duration": 361,
    "start_time": "2021-12-23T11:14:20.308Z"
   },
   {
    "duration": 2045,
    "start_time": "2021-12-23T11:14:28.179Z"
   },
   {
    "duration": 62,
    "start_time": "2021-12-23T11:15:15.820Z"
   },
   {
    "duration": 23,
    "start_time": "2021-12-23T11:15:24.256Z"
   },
   {
    "duration": 24,
    "start_time": "2021-12-23T11:17:46.163Z"
   },
   {
    "duration": 53,
    "start_time": "2021-12-23T11:19:52.344Z"
   },
   {
    "duration": 56,
    "start_time": "2021-12-23T11:23:09.126Z"
   },
   {
    "duration": 51,
    "start_time": "2021-12-23T11:23:47.135Z"
   },
   {
    "duration": 337,
    "start_time": "2021-12-23T11:24:25.477Z"
   },
   {
    "duration": 402,
    "start_time": "2021-12-23T11:24:45.625Z"
   },
   {
    "duration": 428,
    "start_time": "2021-12-23T11:24:57.339Z"
   },
   {
    "duration": 51,
    "start_time": "2021-12-23T11:24:58.767Z"
   },
   {
    "duration": 43,
    "start_time": "2021-12-23T11:25:00.178Z"
   },
   {
    "duration": 19,
    "start_time": "2021-12-23T11:25:00.223Z"
   },
   {
    "duration": 15,
    "start_time": "2021-12-23T11:25:00.244Z"
   },
   {
    "duration": 14,
    "start_time": "2021-12-23T11:25:00.260Z"
   },
   {
    "duration": 2,
    "start_time": "2021-12-23T11:25:02.039Z"
   },
   {
    "duration": 401,
    "start_time": "2021-12-23T11:25:04.806Z"
   },
   {
    "duration": 603,
    "start_time": "2021-12-23T11:26:18.280Z"
   },
   {
    "duration": 353,
    "start_time": "2021-12-23T11:27:06.049Z"
   },
   {
    "duration": 610,
    "start_time": "2021-12-23T11:31:44.527Z"
   },
   {
    "duration": 566,
    "start_time": "2021-12-23T11:32:03.668Z"
   },
   {
    "duration": 562,
    "start_time": "2021-12-23T11:32:35.454Z"
   },
   {
    "duration": 425,
    "start_time": "2021-12-23T11:32:57.262Z"
   },
   {
    "duration": 51,
    "start_time": "2021-12-23T11:32:57.689Z"
   },
   {
    "duration": 44,
    "start_time": "2021-12-23T11:32:57.743Z"
   },
   {
    "duration": 29,
    "start_time": "2021-12-23T11:32:57.792Z"
   },
   {
    "duration": 12,
    "start_time": "2021-12-23T11:32:57.950Z"
   },
   {
    "duration": 17,
    "start_time": "2021-12-23T11:32:58.128Z"
   },
   {
    "duration": 64,
    "start_time": "2021-12-23T11:33:00.943Z"
   },
   {
    "duration": 602,
    "start_time": "2021-12-23T11:33:02.054Z"
   },
   {
    "duration": 411,
    "start_time": "2021-12-23T11:34:06.703Z"
   },
   {
    "duration": 26,
    "start_time": "2021-12-23T11:42:19.998Z"
   },
   {
    "duration": 25,
    "start_time": "2021-12-23T11:42:42.045Z"
   },
   {
    "duration": 121,
    "start_time": "2021-12-23T11:46:39.610Z"
   },
   {
    "duration": 57,
    "start_time": "2021-12-23T11:47:06.033Z"
   },
   {
    "duration": 17,
    "start_time": "2021-12-23T11:47:19.858Z"
   },
   {
    "duration": 56,
    "start_time": "2021-12-23T11:47:22.489Z"
   },
   {
    "duration": 17,
    "start_time": "2021-12-23T11:47:51.480Z"
   },
   {
    "duration": 445,
    "start_time": "2021-12-23T11:47:57.330Z"
   },
   {
    "duration": 49,
    "start_time": "2021-12-23T11:47:57.777Z"
   },
   {
    "duration": 41,
    "start_time": "2021-12-23T11:47:57.828Z"
   },
   {
    "duration": 31,
    "start_time": "2021-12-23T11:47:57.878Z"
   },
   {
    "duration": 19,
    "start_time": "2021-12-23T11:47:58.078Z"
   },
   {
    "duration": 13,
    "start_time": "2021-12-23T11:47:58.282Z"
   },
   {
    "duration": 68,
    "start_time": "2021-12-23T11:48:00.253Z"
   },
   {
    "duration": 55,
    "start_time": "2021-12-23T11:48:02.121Z"
   },
   {
    "duration": 125,
    "start_time": "2021-12-23T11:49:25.491Z"
   },
   {
    "duration": 125,
    "start_time": "2021-12-23T11:49:34.689Z"
   },
   {
    "duration": 157,
    "start_time": "2021-12-23T11:56:26.087Z"
   },
   {
    "duration": 9128,
    "start_time": "2021-12-23T11:56:47.700Z"
   },
   {
    "duration": 9619,
    "start_time": "2021-12-23T12:01:25.802Z"
   },
   {
    "duration": 9542,
    "start_time": "2021-12-23T12:02:57.276Z"
   },
   {
    "duration": 472,
    "start_time": "2021-12-23T12:03:22.269Z"
   },
   {
    "duration": 50,
    "start_time": "2021-12-23T12:03:22.743Z"
   },
   {
    "duration": 44,
    "start_time": "2021-12-23T12:03:22.795Z"
   },
   {
    "duration": 21,
    "start_time": "2021-12-23T12:03:22.910Z"
   },
   {
    "duration": 11,
    "start_time": "2021-12-23T12:03:23.093Z"
   },
   {
    "duration": 14,
    "start_time": "2021-12-23T12:03:23.273Z"
   },
   {
    "duration": 65,
    "start_time": "2021-12-23T12:03:24.843Z"
   },
   {
    "duration": 54,
    "start_time": "2021-12-23T12:03:30.025Z"
   },
   {
    "duration": 454,
    "start_time": "2021-12-23T12:03:34.143Z"
   },
   {
    "duration": 8684,
    "start_time": "2021-12-23T12:24:30.704Z"
   },
   {
    "duration": 9904,
    "start_time": "2021-12-23T12:24:53.884Z"
   },
   {
    "duration": 8706,
    "start_time": "2021-12-23T12:25:09.805Z"
   },
   {
    "duration": 446,
    "start_time": "2021-12-23T12:25:54.301Z"
   },
   {
    "duration": 54,
    "start_time": "2021-12-23T12:25:56.153Z"
   },
   {
    "duration": 41,
    "start_time": "2021-12-23T12:25:57.494Z"
   },
   {
    "duration": 20,
    "start_time": "2021-12-23T12:25:58.133Z"
   },
   {
    "duration": 12,
    "start_time": "2021-12-23T12:25:58.717Z"
   },
   {
    "duration": 16,
    "start_time": "2021-12-23T12:25:59.373Z"
   },
   {
    "duration": 70,
    "start_time": "2021-12-23T12:26:07.333Z"
   },
   {
    "duration": 18,
    "start_time": "2021-12-23T12:27:02.126Z"
   },
   {
    "duration": 60,
    "start_time": "2021-12-23T12:27:07.495Z"
   },
   {
    "duration": 107,
    "start_time": "2021-12-23T12:27:10.976Z"
   },
   {
    "duration": 9172,
    "start_time": "2021-12-23T12:28:59.958Z"
   },
   {
    "duration": 2319,
    "start_time": "2021-12-23T12:30:28.856Z"
   },
   {
    "duration": 49,
    "start_time": "2021-12-23T12:30:31.177Z"
   },
   {
    "duration": 42,
    "start_time": "2021-12-23T12:30:31.228Z"
   },
   {
    "duration": 40,
    "start_time": "2021-12-23T12:30:31.272Z"
   },
   {
    "duration": 12,
    "start_time": "2021-12-23T12:30:31.584Z"
   },
   {
    "duration": 13,
    "start_time": "2021-12-23T12:30:32.113Z"
   },
   {
    "duration": 67,
    "start_time": "2021-12-23T12:30:34.376Z"
   },
   {
    "duration": 55,
    "start_time": "2021-12-23T12:30:41.345Z"
   },
   {
    "duration": 128,
    "start_time": "2021-12-23T12:30:42.570Z"
   },
   {
    "duration": 9253,
    "start_time": "2021-12-23T12:31:37.977Z"
   },
   {
    "duration": 405,
    "start_time": "2021-12-23T12:31:56.792Z"
   },
   {
    "duration": 50,
    "start_time": "2021-12-23T12:31:57.199Z"
   },
   {
    "duration": 58,
    "start_time": "2021-12-23T12:31:57.251Z"
   },
   {
    "duration": 19,
    "start_time": "2021-12-23T12:31:57.314Z"
   },
   {
    "duration": 10,
    "start_time": "2021-12-23T12:31:57.477Z"
   },
   {
    "duration": 14,
    "start_time": "2021-12-23T12:31:57.640Z"
   },
   {
    "duration": 65,
    "start_time": "2021-12-23T12:31:58.938Z"
   },
   {
    "duration": 57,
    "start_time": "2021-12-23T12:32:01.104Z"
   },
   {
    "duration": 136,
    "start_time": "2021-12-23T12:32:02.278Z"
   },
   {
    "duration": 30,
    "start_time": "2021-12-23T12:34:02.932Z"
   },
   {
    "duration": 36,
    "start_time": "2021-12-23T12:39:02.769Z"
   },
   {
    "duration": 37,
    "start_time": "2021-12-23T12:43:30.725Z"
   },
   {
    "duration": 8489,
    "start_time": "2021-12-23T12:45:20.109Z"
   },
   {
    "duration": 8646,
    "start_time": "2021-12-23T12:46:20.383Z"
   },
   {
    "duration": 409,
    "start_time": "2021-12-23T12:47:25.766Z"
   },
   {
    "duration": 63,
    "start_time": "2021-12-23T12:47:26.178Z"
   },
   {
    "duration": 43,
    "start_time": "2021-12-23T12:47:26.244Z"
   },
   {
    "duration": 20,
    "start_time": "2021-12-23T12:47:26.465Z"
   },
   {
    "duration": 11,
    "start_time": "2021-12-23T12:47:26.675Z"
   },
   {
    "duration": 13,
    "start_time": "2021-12-23T12:47:26.877Z"
   },
   {
    "duration": 64,
    "start_time": "2021-12-23T12:47:29.032Z"
   },
   {
    "duration": 53,
    "start_time": "2021-12-23T12:47:31.568Z"
   },
   {
    "duration": 131,
    "start_time": "2021-12-23T12:47:32.713Z"
   },
   {
    "duration": 28,
    "start_time": "2021-12-23T12:47:40.219Z"
   },
   {
    "duration": 35,
    "start_time": "2021-12-23T12:47:51.594Z"
   },
   {
    "duration": 45,
    "start_time": "2021-12-23T12:48:07.645Z"
   },
   {
    "duration": 41,
    "start_time": "2021-12-23T12:49:53.097Z"
   },
   {
    "duration": 49,
    "start_time": "2021-12-23T12:51:39.695Z"
   },
   {
    "duration": 46,
    "start_time": "2021-12-23T12:52:30.573Z"
   },
   {
    "duration": 39,
    "start_time": "2021-12-23T12:52:40.450Z"
   },
   {
    "duration": 39,
    "start_time": "2021-12-23T12:52:48.722Z"
   },
   {
    "duration": 9234,
    "start_time": "2021-12-23T12:52:53.914Z"
   },
   {
    "duration": 404,
    "start_time": "2021-12-23T12:53:13.801Z"
   },
   {
    "duration": 52,
    "start_time": "2021-12-23T12:53:15.665Z"
   },
   {
    "duration": 47,
    "start_time": "2021-12-23T12:53:15.837Z"
   },
   {
    "duration": 20,
    "start_time": "2021-12-23T12:53:16.015Z"
   },
   {
    "duration": 12,
    "start_time": "2021-12-23T12:53:16.186Z"
   },
   {
    "duration": 17,
    "start_time": "2021-12-23T12:53:16.373Z"
   },
   {
    "duration": 87,
    "start_time": "2021-12-23T12:53:17.969Z"
   },
   {
    "duration": 57,
    "start_time": "2021-12-23T12:53:18.924Z"
   },
   {
    "duration": 131,
    "start_time": "2021-12-23T12:53:19.129Z"
   },
   {
    "duration": 29,
    "start_time": "2021-12-23T12:53:27.359Z"
   },
   {
    "duration": 39,
    "start_time": "2021-12-23T12:53:36.436Z"
   },
   {
    "duration": 38,
    "start_time": "2021-12-23T12:53:51.893Z"
   },
   {
    "duration": 12,
    "start_time": "2021-12-23T13:02:30.409Z"
   },
   {
    "duration": 168,
    "start_time": "2021-12-23T13:02:49.744Z"
   },
   {
    "duration": 30,
    "start_time": "2021-12-23T13:02:56.466Z"
   },
   {
    "duration": 413,
    "start_time": "2021-12-23T13:04:42.426Z"
   },
   {
    "duration": 435,
    "start_time": "2021-12-23T13:04:44.954Z"
   },
   {
    "duration": 52,
    "start_time": "2021-12-23T13:04:48.275Z"
   },
   {
    "duration": 88,
    "start_time": "2021-12-23T13:04:48.628Z"
   },
   {
    "duration": 40,
    "start_time": "2021-12-23T13:04:49.288Z"
   },
   {
    "duration": 27,
    "start_time": "2021-12-23T13:04:50.346Z"
   },
   {
    "duration": 30,
    "start_time": "2021-12-23T13:04:53.537Z"
   },
   {
    "duration": 75,
    "start_time": "2021-12-23T13:11:44.601Z"
   },
   {
    "duration": 56,
    "start_time": "2021-12-23T13:13:28.468Z"
   },
   {
    "duration": 139,
    "start_time": "2021-12-23T13:13:34.098Z"
   },
   {
    "duration": 8969,
    "start_time": "2021-12-23T13:14:04.757Z"
   },
   {
    "duration": 177,
    "start_time": "2021-12-23T13:14:13.551Z"
   },
   {
    "duration": 175,
    "start_time": "2021-12-23T13:14:13.554Z"
   },
   {
    "duration": 8649,
    "start_time": "2021-12-23T13:14:38.179Z"
   },
   {
    "duration": 3796,
    "start_time": "2021-12-23T13:15:08.387Z"
   },
   {
    "duration": 50,
    "start_time": "2021-12-23T13:15:12.185Z"
   },
   {
    "duration": 45,
    "start_time": "2021-12-23T13:15:12.237Z"
   },
   {
    "duration": 37,
    "start_time": "2021-12-23T13:15:12.284Z"
   },
   {
    "duration": 12,
    "start_time": "2021-12-23T13:15:12.323Z"
   },
   {
    "duration": 19,
    "start_time": "2021-12-23T13:15:12.336Z"
   },
   {
    "duration": 73,
    "start_time": "2021-12-23T13:15:12.569Z"
   },
   {
    "duration": 59,
    "start_time": "2021-12-23T13:15:43.622Z"
   },
   {
    "duration": 147,
    "start_time": "2021-12-23T13:15:46.265Z"
   },
   {
    "duration": 32,
    "start_time": "2021-12-23T13:16:01.441Z"
   },
   {
    "duration": 36,
    "start_time": "2021-12-23T13:16:10.526Z"
   },
   {
    "duration": 423,
    "start_time": "2021-12-23T13:21:22.410Z"
   },
   {
    "duration": 423,
    "start_time": "2021-12-23T13:22:03.424Z"
   },
   {
    "duration": 36,
    "start_time": "2021-12-23T13:25:54.012Z"
   },
   {
    "duration": 711,
    "start_time": "2021-12-24T06:42:24.843Z"
   },
   {
    "duration": 645,
    "start_time": "2021-12-24T06:42:58.434Z"
   },
   {
    "duration": 779,
    "start_time": "2021-12-24T06:43:40.511Z"
   },
   {
    "duration": 115,
    "start_time": "2021-12-24T06:50:22.379Z"
   },
   {
    "duration": 108,
    "start_time": "2021-12-24T06:51:36.924Z"
   },
   {
    "duration": 103,
    "start_time": "2021-12-24T06:51:43.348Z"
   },
   {
    "duration": 866,
    "start_time": "2021-12-24T06:52:13.981Z"
   },
   {
    "duration": 616,
    "start_time": "2021-12-24T06:52:39.285Z"
   },
   {
    "duration": 1077,
    "start_time": "2021-12-24T06:53:09.845Z"
   },
   {
    "duration": 613,
    "start_time": "2021-12-24T06:58:30.406Z"
   },
   {
    "duration": 576,
    "start_time": "2021-12-24T07:01:24.770Z"
   },
   {
    "duration": 888,
    "start_time": "2021-12-24T07:08:13.667Z"
   },
   {
    "duration": 506,
    "start_time": "2021-12-24T07:13:55.480Z"
   },
   {
    "duration": 469,
    "start_time": "2021-12-24T07:14:59.518Z"
   },
   {
    "duration": 573,
    "start_time": "2021-12-24T07:15:33.183Z"
   },
   {
    "duration": 515,
    "start_time": "2021-12-24T07:16:24.631Z"
   },
   {
    "duration": 651,
    "start_time": "2021-12-24T07:16:59.728Z"
   },
   {
    "duration": 739,
    "start_time": "2021-12-24T07:17:53.449Z"
   },
   {
    "duration": 758,
    "start_time": "2021-12-24T07:18:58.537Z"
   },
   {
    "duration": 754,
    "start_time": "2021-12-24T07:19:42.842Z"
   },
   {
    "duration": 691,
    "start_time": "2021-12-24T07:20:32.146Z"
   },
   {
    "duration": 1100,
    "start_time": "2021-12-24T07:20:59.652Z"
   },
   {
    "duration": 1193,
    "start_time": "2021-12-24T07:21:15.011Z"
   },
   {
    "duration": 1943,
    "start_time": "2021-12-24T07:22:12.651Z"
   },
   {
    "duration": 859,
    "start_time": "2021-12-24T07:24:38.240Z"
   },
   {
    "duration": 904,
    "start_time": "2021-12-24T07:24:57.493Z"
   },
   {
    "duration": 724,
    "start_time": "2021-12-24T07:26:23.664Z"
   },
   {
    "duration": 775,
    "start_time": "2021-12-24T07:32:41.031Z"
   },
   {
    "duration": 803,
    "start_time": "2021-12-24T07:32:55.486Z"
   },
   {
    "duration": 755,
    "start_time": "2021-12-24T07:35:14.541Z"
   },
   {
    "duration": 759,
    "start_time": "2021-12-24T07:36:44.712Z"
   },
   {
    "duration": 724,
    "start_time": "2021-12-24T07:39:15.545Z"
   },
   {
    "duration": 671,
    "start_time": "2021-12-24T07:40:09.257Z"
   },
   {
    "duration": 696,
    "start_time": "2021-12-24T07:40:59.986Z"
   },
   {
    "duration": 696,
    "start_time": "2021-12-24T07:41:17.241Z"
   },
   {
    "duration": 322,
    "start_time": "2021-12-24T08:09:43.029Z"
   },
   {
    "duration": 404,
    "start_time": "2021-12-24T08:10:09.193Z"
   },
   {
    "duration": 762,
    "start_time": "2021-12-24T08:10:30.182Z"
   },
   {
    "duration": 305,
    "start_time": "2021-12-24T08:10:39.149Z"
   },
   {
    "duration": 544,
    "start_time": "2021-12-24T08:11:47.087Z"
   },
   {
    "duration": 313,
    "start_time": "2021-12-24T08:12:00.590Z"
   },
   {
    "duration": 741,
    "start_time": "2021-12-24T08:36:58.388Z"
   },
   {
    "duration": 381,
    "start_time": "2021-12-24T08:37:19.803Z"
   },
   {
    "duration": 380,
    "start_time": "2021-12-24T08:39:16.972Z"
   },
   {
    "duration": 472,
    "start_time": "2021-12-24T08:39:32.932Z"
   },
   {
    "duration": 406,
    "start_time": "2021-12-24T08:41:07.213Z"
   },
   {
    "duration": 174,
    "start_time": "2021-12-24T08:42:10.272Z"
   },
   {
    "duration": 687,
    "start_time": "2021-12-24T08:42:20.886Z"
   },
   {
    "duration": 594,
    "start_time": "2021-12-24T08:42:36.644Z"
   },
   {
    "duration": 550,
    "start_time": "2021-12-24T08:43:11.856Z"
   },
   {
    "duration": 841,
    "start_time": "2021-12-24T08:43:24.024Z"
   },
   {
    "duration": 1094,
    "start_time": "2021-12-24T08:50:59.669Z"
   },
   {
    "duration": 943,
    "start_time": "2021-12-24T09:38:56.140Z"
   },
   {
    "duration": 636,
    "start_time": "2021-12-24T09:41:40.887Z"
   },
   {
    "duration": 622,
    "start_time": "2021-12-24T09:42:07.555Z"
   },
   {
    "duration": 871,
    "start_time": "2021-12-24T09:43:41.591Z"
   },
   {
    "duration": 647,
    "start_time": "2021-12-24T09:46:53.509Z"
   },
   {
    "duration": 755,
    "start_time": "2021-12-24T09:55:12.823Z"
   },
   {
    "duration": 756,
    "start_time": "2021-12-24T09:56:00.332Z"
   },
   {
    "duration": 644,
    "start_time": "2021-12-24T09:58:44.308Z"
   },
   {
    "duration": 599,
    "start_time": "2021-12-24T09:58:56.167Z"
   },
   {
    "duration": 606,
    "start_time": "2021-12-24T09:59:04.983Z"
   },
   {
    "duration": 1232,
    "start_time": "2021-12-24T09:59:26.128Z"
   },
   {
    "duration": 780,
    "start_time": "2021-12-24T10:00:00.808Z"
   },
   {
    "duration": 655,
    "start_time": "2021-12-24T10:00:15.984Z"
   },
   {
    "duration": 726,
    "start_time": "2021-12-24T10:01:14.187Z"
   },
   {
    "duration": 757,
    "start_time": "2021-12-24T10:05:44.453Z"
   },
   {
    "duration": 9,
    "start_time": "2021-12-24T10:25:37.759Z"
   },
   {
    "duration": 9,
    "start_time": "2021-12-24T10:32:17.883Z"
   },
   {
    "duration": 9,
    "start_time": "2021-12-24T10:32:26.887Z"
   },
   {
    "duration": 12,
    "start_time": "2021-12-24T10:37:52.597Z"
   },
   {
    "duration": 8,
    "start_time": "2021-12-24T10:39:34.467Z"
   },
   {
    "duration": 1032,
    "start_time": "2021-12-24T10:42:20.958Z"
   },
   {
    "duration": 116,
    "start_time": "2021-12-24T11:27:08.279Z"
   },
   {
    "duration": 105,
    "start_time": "2021-12-24T11:27:23.924Z"
   },
   {
    "duration": 456,
    "start_time": "2021-12-24T11:27:40.252Z"
   },
   {
    "duration": 53,
    "start_time": "2021-12-24T11:30:04.854Z"
   },
   {
    "duration": 58,
    "start_time": "2021-12-24T11:35:21.122Z"
   },
   {
    "duration": 61,
    "start_time": "2021-12-24T11:41:54.242Z"
   },
   {
    "duration": 34,
    "start_time": "2021-12-24T11:42:16.483Z"
   },
   {
    "duration": 9,
    "start_time": "2021-12-24T11:42:39.440Z"
   },
   {
    "duration": 9,
    "start_time": "2021-12-24T11:42:42.840Z"
   },
   {
    "duration": 62,
    "start_time": "2021-12-24T11:42:50.969Z"
   },
   {
    "duration": 86,
    "start_time": "2021-12-24T11:43:06.409Z"
   },
   {
    "duration": 377,
    "start_time": "2021-12-24T12:03:06.205Z"
   },
   {
    "duration": 68,
    "start_time": "2021-12-24T12:03:08.372Z"
   },
   {
    "duration": 56,
    "start_time": "2021-12-24T12:03:09.187Z"
   },
   {
    "duration": 20,
    "start_time": "2021-12-24T12:03:09.701Z"
   },
   {
    "duration": 11,
    "start_time": "2021-12-24T12:03:10.737Z"
   },
   {
    "duration": 12,
    "start_time": "2021-12-24T12:03:11.795Z"
   },
   {
    "duration": 62,
    "start_time": "2021-12-24T12:03:15.639Z"
   },
   {
    "duration": 52,
    "start_time": "2021-12-24T12:03:19.012Z"
   },
   {
    "duration": 120,
    "start_time": "2021-12-24T12:03:25.826Z"
   },
   {
    "duration": 9261,
    "start_time": "2021-12-24T12:04:10.361Z"
   },
   {
    "duration": 588,
    "start_time": "2021-12-24T12:04:19.035Z"
   },
   {
    "duration": 9190,
    "start_time": "2021-12-24T12:04:40.592Z"
   },
   {
    "duration": 1072,
    "start_time": "2021-12-24T12:04:48.712Z"
   },
   {
    "duration": 35,
    "start_time": "2021-12-24T12:04:50.666Z"
   },
   {
    "duration": 341,
    "start_time": "2021-12-24T12:04:58.048Z"
   },
   {
    "duration": 505,
    "start_time": "2021-12-24T12:06:14.603Z"
   },
   {
    "duration": 529,
    "start_time": "2021-12-24T12:09:07.012Z"
   },
   {
    "duration": 45,
    "start_time": "2021-12-24T12:09:08.474Z"
   },
   {
    "duration": 38,
    "start_time": "2021-12-24T12:09:09.259Z"
   },
   {
    "duration": 17,
    "start_time": "2021-12-24T12:09:09.842Z"
   },
   {
    "duration": 14,
    "start_time": "2021-12-24T12:09:10.744Z"
   },
   {
    "duration": 12,
    "start_time": "2021-12-24T12:09:11.744Z"
   },
   {
    "duration": 96,
    "start_time": "2021-12-24T12:09:19.497Z"
   },
   {
    "duration": 50,
    "start_time": "2021-12-24T12:10:11.663Z"
   },
   {
    "duration": 130,
    "start_time": "2021-12-24T12:10:15.123Z"
   },
   {
    "duration": 33,
    "start_time": "2021-12-24T12:10:20.610Z"
   },
   {
    "duration": 34,
    "start_time": "2021-12-24T12:10:26.391Z"
   },
   {
    "duration": 36,
    "start_time": "2021-12-24T12:10:31.062Z"
   },
   {
    "duration": 690,
    "start_time": "2021-12-24T12:10:36.962Z"
   },
   {
    "duration": 40,
    "start_time": "2021-12-24T12:10:41.523Z"
   },
   {
    "duration": 9,
    "start_time": "2021-12-24T12:10:46.018Z"
   },
   {
    "duration": 9,
    "start_time": "2021-12-24T12:10:50.118Z"
   },
   {
    "duration": 483,
    "start_time": "2021-12-24T12:10:56.108Z"
   },
   {
    "duration": 539,
    "start_time": "2021-12-24T12:16:23.766Z"
   },
   {
    "duration": 524,
    "start_time": "2021-12-24T12:16:31.497Z"
   },
   {
    "duration": 589,
    "start_time": "2021-12-24T12:17:42.203Z"
   },
   {
    "duration": 648,
    "start_time": "2021-12-24T12:17:54.483Z"
   },
   {
    "duration": 649,
    "start_time": "2021-12-24T12:19:06.709Z"
   },
   {
    "duration": 767,
    "start_time": "2021-12-24T12:19:45.118Z"
   },
   {
    "duration": 82,
    "start_time": "2021-12-24T12:20:42.577Z"
   },
   {
    "duration": 62,
    "start_time": "2021-12-24T12:22:25.465Z"
   },
   {
    "duration": 353,
    "start_time": "2021-12-24T14:39:36.771Z"
   },
   {
    "duration": 1975,
    "start_time": "2021-12-24T14:40:07.229Z"
   },
   {
    "duration": 79,
    "start_time": "2021-12-24T14:40:09.207Z"
   },
   {
    "duration": 83,
    "start_time": "2021-12-24T14:40:09.289Z"
   },
   {
    "duration": 27,
    "start_time": "2021-12-24T14:40:09.374Z"
   },
   {
    "duration": 17,
    "start_time": "2021-12-24T14:40:09.403Z"
   },
   {
    "duration": 55,
    "start_time": "2021-12-24T14:40:09.423Z"
   },
   {
    "duration": 109,
    "start_time": "2021-12-24T14:40:09.861Z"
   },
   {
    "duration": 81,
    "start_time": "2021-12-24T14:40:10.844Z"
   },
   {
    "duration": 207,
    "start_time": "2021-12-24T14:40:11.022Z"
   },
   {
    "duration": 45,
    "start_time": "2021-12-24T14:40:11.544Z"
   },
   {
    "duration": 55,
    "start_time": "2021-12-24T14:40:11.873Z"
   },
   {
    "duration": 58,
    "start_time": "2021-12-24T14:40:12.227Z"
   },
   {
    "duration": 1176,
    "start_time": "2021-12-24T14:40:12.579Z"
   },
   {
    "duration": 61,
    "start_time": "2021-12-24T14:40:13.758Z"
   },
   {
    "duration": 12,
    "start_time": "2021-12-24T14:40:14.478Z"
   },
   {
    "duration": 14,
    "start_time": "2021-12-24T14:40:15.771Z"
   },
   {
    "duration": 133,
    "start_time": "2021-12-24T14:40:17.342Z"
   },
   {
    "duration": 128,
    "start_time": "2021-12-24T14:42:24.192Z"
   },
   {
    "duration": 121,
    "start_time": "2021-12-24T14:42:38.551Z"
   },
   {
    "duration": 105,
    "start_time": "2021-12-24T14:43:03.139Z"
   },
   {
    "duration": 111,
    "start_time": "2021-12-24T14:43:17.338Z"
   },
   {
    "duration": 107,
    "start_time": "2021-12-24T14:43:45.138Z"
   },
   {
    "duration": 745,
    "start_time": "2021-12-24T14:45:16.624Z"
   },
   {
    "duration": 604,
    "start_time": "2021-12-24T14:47:26.266Z"
   },
   {
    "duration": 621,
    "start_time": "2021-12-24T14:48:11.992Z"
   },
   {
    "duration": 204,
    "start_time": "2021-12-24T14:48:26.077Z"
   },
   {
    "duration": 207,
    "start_time": "2021-12-24T14:49:00.160Z"
   },
   {
    "duration": 578,
    "start_time": "2021-12-24T14:49:37.613Z"
   },
   {
    "duration": 504,
    "start_time": "2021-12-24T14:50:27.845Z"
   },
   {
    "duration": 156,
    "start_time": "2021-12-24T14:53:03.824Z"
   },
   {
    "duration": 157,
    "start_time": "2021-12-24T14:55:01.236Z"
   },
   {
    "duration": 679,
    "start_time": "2021-12-24T14:55:18.634Z"
   },
   {
    "duration": 970,
    "start_time": "2021-12-24T14:56:27.654Z"
   },
   {
    "duration": 258,
    "start_time": "2021-12-24T14:56:38.469Z"
   },
   {
    "duration": 353,
    "start_time": "2021-12-24T15:06:46.819Z"
   },
   {
    "duration": 226,
    "start_time": "2021-12-24T15:24:33.941Z"
   },
   {
    "duration": 409,
    "start_time": "2021-12-25T09:27:09.522Z"
   },
   {
    "duration": 1863,
    "start_time": "2021-12-25T09:27:23.346Z"
   },
   {
    "duration": 78,
    "start_time": "2021-12-25T09:27:25.211Z"
   },
   {
    "duration": 75,
    "start_time": "2021-12-25T09:27:25.292Z"
   },
   {
    "duration": 25,
    "start_time": "2021-12-25T09:27:25.369Z"
   },
   {
    "duration": 17,
    "start_time": "2021-12-25T09:27:25.417Z"
   },
   {
    "duration": 20,
    "start_time": "2021-12-25T09:27:25.436Z"
   },
   {
    "duration": 144,
    "start_time": "2021-12-25T09:27:25.458Z"
   },
   {
    "duration": 13,
    "start_time": "2021-12-25T09:27:25.606Z"
   },
   {
    "duration": 95,
    "start_time": "2021-12-25T09:27:25.622Z"
   },
   {
    "duration": 213,
    "start_time": "2021-12-25T09:27:25.720Z"
   },
   {
    "duration": 46,
    "start_time": "2021-12-25T09:27:25.935Z"
   },
   {
    "duration": 83,
    "start_time": "2021-12-25T09:27:25.983Z"
   },
   {
    "duration": 84,
    "start_time": "2021-12-25T09:27:26.068Z"
   },
   {
    "duration": 1273,
    "start_time": "2021-12-25T09:27:26.155Z"
   },
   {
    "duration": 56,
    "start_time": "2021-12-25T09:27:27.430Z"
   },
   {
    "duration": 37,
    "start_time": "2021-12-25T09:27:27.488Z"
   },
   {
    "duration": 15,
    "start_time": "2021-12-25T09:27:27.528Z"
   },
   {
    "duration": 253,
    "start_time": "2021-12-25T09:27:27.545Z"
   },
   {
    "duration": 543,
    "start_time": "2021-12-25T09:32:31.761Z"
   },
   {
    "duration": 67,
    "start_time": "2021-12-25T09:32:32.306Z"
   },
   {
    "duration": 75,
    "start_time": "2021-12-25T09:32:32.375Z"
   },
   {
    "duration": 26,
    "start_time": "2021-12-25T09:32:32.452Z"
   },
   {
    "duration": 41,
    "start_time": "2021-12-25T09:32:32.480Z"
   },
   {
    "duration": 20,
    "start_time": "2021-12-25T09:32:32.524Z"
   },
   {
    "duration": 127,
    "start_time": "2021-12-25T09:32:32.546Z"
   },
   {
    "duration": 6,
    "start_time": "2021-12-25T09:32:32.677Z"
   },
   {
    "duration": 96,
    "start_time": "2021-12-25T09:32:32.685Z"
   },
   {
    "duration": 223,
    "start_time": "2021-12-25T09:32:32.783Z"
   },
   {
    "duration": 49,
    "start_time": "2021-12-25T09:32:33.008Z"
   },
   {
    "duration": 80,
    "start_time": "2021-12-25T09:32:33.059Z"
   },
   {
    "duration": 58,
    "start_time": "2021-12-25T09:32:33.141Z"
   },
   {
    "duration": 1216,
    "start_time": "2021-12-25T09:32:33.201Z"
   },
   {
    "duration": 112,
    "start_time": "2021-12-25T09:32:34.420Z"
   },
   {
    "duration": -3773,
    "start_time": "2021-12-25T09:32:38.308Z"
   },
   {
    "duration": -3775,
    "start_time": "2021-12-25T09:32:38.311Z"
   },
   {
    "duration": -3775,
    "start_time": "2021-12-25T09:32:38.312Z"
   },
   {
    "duration": -3776,
    "start_time": "2021-12-25T09:32:38.314Z"
   },
   {
    "duration": 529,
    "start_time": "2021-12-25T09:32:41.392Z"
   },
   {
    "duration": 71,
    "start_time": "2021-12-25T09:32:41.924Z"
   },
   {
    "duration": 57,
    "start_time": "2021-12-25T09:32:42.019Z"
   },
   {
    "duration": 49,
    "start_time": "2021-12-25T09:32:42.079Z"
   },
   {
    "duration": 16,
    "start_time": "2021-12-25T09:32:42.131Z"
   },
   {
    "duration": 43,
    "start_time": "2021-12-25T09:32:42.150Z"
   },
   {
    "duration": 141,
    "start_time": "2021-12-25T09:32:42.196Z"
   },
   {
    "duration": 7,
    "start_time": "2021-12-25T09:32:42.341Z"
   },
   {
    "duration": 99,
    "start_time": "2021-12-25T09:32:42.351Z"
   },
   {
    "duration": 220,
    "start_time": "2021-12-25T09:32:42.453Z"
   },
   {
    "duration": 57,
    "start_time": "2021-12-25T09:32:42.675Z"
   },
   {
    "duration": 55,
    "start_time": "2021-12-25T09:32:42.734Z"
   },
   {
    "duration": 78,
    "start_time": "2021-12-25T09:32:42.792Z"
   },
   {
    "duration": 1278,
    "start_time": "2021-12-25T09:32:42.872Z"
   },
   {
    "duration": 84,
    "start_time": "2021-12-25T09:32:44.153Z"
   },
   {
    "duration": 13,
    "start_time": "2021-12-25T09:32:44.239Z"
   },
   {
    "duration": 17,
    "start_time": "2021-12-25T09:32:44.254Z"
   },
   {
    "duration": 258,
    "start_time": "2021-12-25T09:32:44.273Z"
   },
   {
    "duration": 167,
    "start_time": "2021-12-25T09:34:46.972Z"
   },
   {
    "duration": 996,
    "start_time": "2021-12-25T09:34:55.904Z"
   },
   {
    "duration": 1137,
    "start_time": "2021-12-25T09:35:05.337Z"
   },
   {
    "duration": 1391,
    "start_time": "2021-12-25T09:35:20.567Z"
   },
   {
    "duration": 413,
    "start_time": "2021-12-25T09:37:29.488Z"
   },
   {
    "duration": 443,
    "start_time": "2021-12-25T09:37:38.181Z"
   },
   {
    "duration": 2245,
    "start_time": "2022-04-27T09:57:35.867Z"
   },
   {
    "duration": 83,
    "start_time": "2022-04-27T09:57:38.116Z"
   },
   {
    "duration": 86,
    "start_time": "2022-04-27T09:57:38.202Z"
   },
   {
    "duration": 68,
    "start_time": "2022-04-27T09:57:38.291Z"
   },
   {
    "duration": 28,
    "start_time": "2022-04-27T09:57:38.363Z"
   },
   {
    "duration": 58,
    "start_time": "2022-04-27T09:57:38.394Z"
   },
   {
    "duration": 131,
    "start_time": "2022-04-27T09:57:38.454Z"
   },
   {
    "duration": 90,
    "start_time": "2022-04-27T09:57:38.589Z"
   },
   {
    "duration": 212,
    "start_time": "2022-04-27T09:57:38.682Z"
   },
   {
    "duration": 67,
    "start_time": "2022-04-27T09:57:38.898Z"
   },
   {
    "duration": 108,
    "start_time": "2022-04-27T09:57:38.967Z"
   },
   {
    "duration": 107,
    "start_time": "2022-04-27T09:57:39.077Z"
   },
   {
    "duration": 1816,
    "start_time": "2022-04-27T09:57:39.187Z"
   },
   {
    "duration": 96,
    "start_time": "2022-04-27T09:57:41.006Z"
   },
   {
    "duration": 16,
    "start_time": "2022-04-27T09:57:41.105Z"
   },
   {
    "duration": 38,
    "start_time": "2022-04-27T09:57:41.123Z"
   },
   {
    "duration": 760,
    "start_time": "2022-04-27T09:57:41.164Z"
   }
  ],
  "kernelspec": {
   "display_name": "Python 3 (ipykernel)",
   "language": "python",
   "name": "python3"
  },
  "language_info": {
   "codemirror_mode": {
    "name": "ipython",
    "version": 3
   },
   "file_extension": ".py",
   "mimetype": "text/x-python",
   "name": "python",
   "nbconvert_exporter": "python",
   "pygments_lexer": "ipython3",
   "version": "3.9.5"
  },
  "toc": {
   "base_numbering": 1,
   "nav_menu": {
    "height": "147px",
    "width": "369px"
   },
   "number_sections": true,
   "sideBar": true,
   "skip_h1_title": true,
   "title_cell": "Table of Contents",
   "title_sidebar": "Contents",
   "toc_cell": false,
   "toc_position": {},
   "toc_section_display": true,
   "toc_window_display": false
  }
 },
 "nbformat": 4,
 "nbformat_minor": 2
}

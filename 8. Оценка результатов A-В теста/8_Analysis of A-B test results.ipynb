{
 "cells": [
  {
   "cell_type": "markdown",
   "metadata": {},
   "source": [
    "# Анализ результатов A/B-теста для последующего принятия решений в бизнесе"
   ]
  },
  {
   "cell_type": "markdown",
   "metadata": {},
   "source": [
    "Описание проекта\n",
    "\n",
    "Я — аналитик крупного интернет-магазина. Вместе с отделом маркетинга мы подготовили список гипотез для увеличения выручки.\n",
    "Приоритизируем гипотезы, запустим A/B-тест и проанализируем результаты."
   ]
  },
  {
   "cell_type": "markdown",
   "metadata": {},
   "source": [
    "Описание данных\n",
    "\n",
    "Файл_1\n",
    "- Hypothesis — краткое описание гипотезы;\n",
    "- Reach — охват пользователей по 10-балльной шкале;\n",
    "- Impact — влияние на пользователей по 10-балльной шкале;\n",
    "- Confidence — уверенность в гипотезе по 10-балльной шкале;\n",
    "- Efforts — затраты ресурсов на проверку гипотезы по 10-балльной шкале. Чем больше значение Efforts, тем дороже проверка гипотезы.\n",
    "\n",
    "Файл_2\n",
    "- transactionId — идентификатор заказа;\n",
    "- visitorId — идентификатор пользователя, совершившего заказ;\n",
    "- date — дата, когда был совершён заказ;\n",
    "- revenue — выручка заказа;\n",
    "- group — группа A/B-теста, в которую попал заказ.\n",
    "\n",
    "Файл_3\n",
    "- date — дата;\n",
    "- group — группа A/B-теста;\n",
    "- visitors — количество пользователей в указанную дату в указанной группе A/B-теста"
   ]
  },
  {
   "cell_type": "markdown",
   "metadata": {},
   "source": [
    "### Приоритизация гипотез.\n",
    "В файле_1 9 гипотез по увеличению выручки интернет-магазина с указанными параметрами Reach, Impact, Confidence, Effort."
   ]
  },
  {
   "cell_type": "markdown",
   "metadata": {},
   "source": [
    "#### Предоброботка данных"
   ]
  },
  {
   "cell_type": "code",
   "execution_count": 1,
   "metadata": {},
   "outputs": [],
   "source": [
    "import pandas as pd\n",
    "import matplotlib.pyplot as plt\n",
    "from pandas.plotting import register_matplotlib_converters\n",
    "register_matplotlib_converters()\n",
    "import warnings\n",
    "\n",
    "import seaborn as sns\n",
    "sns.set(rc={'figure.figsize':(10, 8)})\n",
    "\n",
    "from scipy import stats as st\n",
    "\n",
    "import math\n",
    "import numpy as np"
   ]
  },
  {
   "cell_type": "code",
   "execution_count": 2,
   "metadata": {},
   "outputs": [],
   "source": [
    "pd.set_option('display.max_columns', None)\n",
    "pd.options.display.max_colwidth = 150 \n",
    "pd.options.display.float_format = '{:,.2f}'.format"
   ]
  },
  {
   "cell_type": "code",
   "execution_count": 3,
   "metadata": {},
   "outputs": [],
   "source": [
    "hypothesis = pd.read_csv('/file.csv')\n",
    "orders = pd.read_csv('/file2.csv')\n",
    "visitors = pd.read_csv('/file3.csv')"
   ]
  },
  {
   "cell_type": "code",
   "execution_count": 4,
   "metadata": {},
   "outputs": [
    {
     "name": "stdout",
     "output_type": "stream",
     "text": [
      "<class 'pandas.core.frame.DataFrame'>\n",
      "RangeIndex: 9 entries, 0 to 8\n",
      "Data columns (total 5 columns):\n",
      " #   Column      Non-Null Count  Dtype \n",
      "---  ------      --------------  ----- \n",
      " 0   Hypothesis  9 non-null      object\n",
      " 1   Reach       9 non-null      int64 \n",
      " 2   Impact      9 non-null      int64 \n",
      " 3   Confidence  9 non-null      int64 \n",
      " 4   Efforts     9 non-null      int64 \n",
      "dtypes: int64(4), object(1)\n",
      "memory usage: 488.0+ bytes\n"
     ]
    },
    {
     "data": {
      "text/html": [
       "<div>\n",
       "<style scoped>\n",
       "    .dataframe tbody tr th:only-of-type {\n",
       "        vertical-align: middle;\n",
       "    }\n",
       "\n",
       "    .dataframe tbody tr th {\n",
       "        vertical-align: top;\n",
       "    }\n",
       "\n",
       "    .dataframe thead th {\n",
       "        text-align: right;\n",
       "    }\n",
       "</style>\n",
       "<table border=\"1\" class=\"dataframe\">\n",
       "  <thead>\n",
       "    <tr style=\"text-align: right;\">\n",
       "      <th></th>\n",
       "      <th>Hypothesis</th>\n",
       "      <th>Reach</th>\n",
       "      <th>Impact</th>\n",
       "      <th>Confidence</th>\n",
       "      <th>Efforts</th>\n",
       "    </tr>\n",
       "  </thead>\n",
       "  <tbody>\n",
       "    <tr>\n",
       "      <th>0</th>\n",
       "      <td>Добавить два новых канала привлечения трафика, что позволит привлекать на 30% больше пользователей</td>\n",
       "      <td>3</td>\n",
       "      <td>10</td>\n",
       "      <td>8</td>\n",
       "      <td>6</td>\n",
       "    </tr>\n",
       "    <tr>\n",
       "      <th>1</th>\n",
       "      <td>Запустить собственную службу доставки, что сократит срок доставки заказов</td>\n",
       "      <td>2</td>\n",
       "      <td>5</td>\n",
       "      <td>4</td>\n",
       "      <td>10</td>\n",
       "    </tr>\n",
       "    <tr>\n",
       "      <th>2</th>\n",
       "      <td>Добавить блоки рекомендаций товаров на сайт интернет магазина, чтобы повысить конверсию и средний чек заказа</td>\n",
       "      <td>8</td>\n",
       "      <td>3</td>\n",
       "      <td>7</td>\n",
       "      <td>3</td>\n",
       "    </tr>\n",
       "    <tr>\n",
       "      <th>3</th>\n",
       "      <td>Изменить структура категорий, что увеличит конверсию, т.к. пользователи быстрее найдут нужный товар</td>\n",
       "      <td>8</td>\n",
       "      <td>3</td>\n",
       "      <td>3</td>\n",
       "      <td>8</td>\n",
       "    </tr>\n",
       "    <tr>\n",
       "      <th>4</th>\n",
       "      <td>Изменить цвет фона главной страницы, чтобы увеличить вовлеченность пользователей</td>\n",
       "      <td>3</td>\n",
       "      <td>1</td>\n",
       "      <td>1</td>\n",
       "      <td>1</td>\n",
       "    </tr>\n",
       "  </tbody>\n",
       "</table>\n",
       "</div>"
      ],
      "text/plain": [
       "                                                                                                     Hypothesis  \\\n",
       "0            Добавить два новых канала привлечения трафика, что позволит привлекать на 30% больше пользователей   \n",
       "1                                     Запустить собственную службу доставки, что сократит срок доставки заказов   \n",
       "2  Добавить блоки рекомендаций товаров на сайт интернет магазина, чтобы повысить конверсию и средний чек заказа   \n",
       "3           Изменить структура категорий, что увеличит конверсию, т.к. пользователи быстрее найдут нужный товар   \n",
       "4                              Изменить цвет фона главной страницы, чтобы увеличить вовлеченность пользователей   \n",
       "\n",
       "   Reach  Impact  Confidence  Efforts  \n",
       "0      3      10           8        6  \n",
       "1      2       5           4       10  \n",
       "2      8       3           7        3  \n",
       "3      8       3           3        8  \n",
       "4      3       1           1        1  "
      ]
     },
     "metadata": {},
     "output_type": "display_data"
    },
    {
     "name": "stdout",
     "output_type": "stream",
     "text": [
      "Hypothesis    0\n",
      "Reach         0\n",
      "Impact        0\n",
      "Confidence    0\n",
      "Efforts       0\n",
      "dtype: int64\n",
      "0\n"
     ]
    }
   ],
   "source": [
    "def predobr (df):\n",
    "    df.info()\n",
    "    display(df.head())\n",
    "    print(df.isna().sum())\n",
    "    print(df.duplicated().sum())\n",
    "            \n",
    "predobr(hypothesis)"
   ]
  },
  {
   "cell_type": "code",
   "execution_count": 5,
   "metadata": {},
   "outputs": [
    {
     "name": "stdout",
     "output_type": "stream",
     "text": [
      "<class 'pandas.core.frame.DataFrame'>\n",
      "RangeIndex: 1197 entries, 0 to 1196\n",
      "Data columns (total 5 columns):\n",
      " #   Column         Non-Null Count  Dtype \n",
      "---  ------         --------------  ----- \n",
      " 0   transactionId  1197 non-null   int64 \n",
      " 1   visitorId      1197 non-null   int64 \n",
      " 2   date           1197 non-null   object\n",
      " 3   revenue        1197 non-null   int64 \n",
      " 4   group          1197 non-null   object\n",
      "dtypes: int64(3), object(2)\n",
      "memory usage: 46.9+ KB\n"
     ]
    },
    {
     "data": {
      "text/html": [
       "<div>\n",
       "<style scoped>\n",
       "    .dataframe tbody tr th:only-of-type {\n",
       "        vertical-align: middle;\n",
       "    }\n",
       "\n",
       "    .dataframe tbody tr th {\n",
       "        vertical-align: top;\n",
       "    }\n",
       "\n",
       "    .dataframe thead th {\n",
       "        text-align: right;\n",
       "    }\n",
       "</style>\n",
       "<table border=\"1\" class=\"dataframe\">\n",
       "  <thead>\n",
       "    <tr style=\"text-align: right;\">\n",
       "      <th></th>\n",
       "      <th>transactionId</th>\n",
       "      <th>visitorId</th>\n",
       "      <th>date</th>\n",
       "      <th>revenue</th>\n",
       "      <th>group</th>\n",
       "    </tr>\n",
       "  </thead>\n",
       "  <tbody>\n",
       "    <tr>\n",
       "      <th>0</th>\n",
       "      <td>3667963787</td>\n",
       "      <td>3312258926</td>\n",
       "      <td>2019-08-15</td>\n",
       "      <td>1650</td>\n",
       "      <td>B</td>\n",
       "    </tr>\n",
       "    <tr>\n",
       "      <th>1</th>\n",
       "      <td>2804400009</td>\n",
       "      <td>3642806036</td>\n",
       "      <td>2019-08-15</td>\n",
       "      <td>730</td>\n",
       "      <td>B</td>\n",
       "    </tr>\n",
       "    <tr>\n",
       "      <th>2</th>\n",
       "      <td>2961555356</td>\n",
       "      <td>4069496402</td>\n",
       "      <td>2019-08-15</td>\n",
       "      <td>400</td>\n",
       "      <td>A</td>\n",
       "    </tr>\n",
       "    <tr>\n",
       "      <th>3</th>\n",
       "      <td>3797467345</td>\n",
       "      <td>1196621759</td>\n",
       "      <td>2019-08-15</td>\n",
       "      <td>9759</td>\n",
       "      <td>B</td>\n",
       "    </tr>\n",
       "    <tr>\n",
       "      <th>4</th>\n",
       "      <td>2282983706</td>\n",
       "      <td>2322279887</td>\n",
       "      <td>2019-08-15</td>\n",
       "      <td>2308</td>\n",
       "      <td>B</td>\n",
       "    </tr>\n",
       "  </tbody>\n",
       "</table>\n",
       "</div>"
      ],
      "text/plain": [
       "   transactionId   visitorId        date  revenue group\n",
       "0     3667963787  3312258926  2019-08-15     1650     B\n",
       "1     2804400009  3642806036  2019-08-15      730     B\n",
       "2     2961555356  4069496402  2019-08-15      400     A\n",
       "3     3797467345  1196621759  2019-08-15     9759     B\n",
       "4     2282983706  2322279887  2019-08-15     2308     B"
      ]
     },
     "metadata": {},
     "output_type": "display_data"
    },
    {
     "name": "stdout",
     "output_type": "stream",
     "text": [
      "transactionId    0\n",
      "visitorId        0\n",
      "date             0\n",
      "revenue          0\n",
      "group            0\n",
      "dtype: int64\n",
      "0\n"
     ]
    }
   ],
   "source": [
    "predobr(orders)"
   ]
  },
  {
   "cell_type": "code",
   "execution_count": 6,
   "metadata": {},
   "outputs": [
    {
     "name": "stdout",
     "output_type": "stream",
     "text": [
      "<class 'pandas.core.frame.DataFrame'>\n",
      "RangeIndex: 62 entries, 0 to 61\n",
      "Data columns (total 3 columns):\n",
      " #   Column    Non-Null Count  Dtype \n",
      "---  ------    --------------  ----- \n",
      " 0   date      62 non-null     object\n",
      " 1   group     62 non-null     object\n",
      " 2   visitors  62 non-null     int64 \n",
      "dtypes: int64(1), object(2)\n",
      "memory usage: 1.6+ KB\n"
     ]
    },
    {
     "data": {
      "text/html": [
       "<div>\n",
       "<style scoped>\n",
       "    .dataframe tbody tr th:only-of-type {\n",
       "        vertical-align: middle;\n",
       "    }\n",
       "\n",
       "    .dataframe tbody tr th {\n",
       "        vertical-align: top;\n",
       "    }\n",
       "\n",
       "    .dataframe thead th {\n",
       "        text-align: right;\n",
       "    }\n",
       "</style>\n",
       "<table border=\"1\" class=\"dataframe\">\n",
       "  <thead>\n",
       "    <tr style=\"text-align: right;\">\n",
       "      <th></th>\n",
       "      <th>date</th>\n",
       "      <th>group</th>\n",
       "      <th>visitors</th>\n",
       "    </tr>\n",
       "  </thead>\n",
       "  <tbody>\n",
       "    <tr>\n",
       "      <th>0</th>\n",
       "      <td>2019-08-01</td>\n",
       "      <td>A</td>\n",
       "      <td>719</td>\n",
       "    </tr>\n",
       "    <tr>\n",
       "      <th>1</th>\n",
       "      <td>2019-08-02</td>\n",
       "      <td>A</td>\n",
       "      <td>619</td>\n",
       "    </tr>\n",
       "    <tr>\n",
       "      <th>2</th>\n",
       "      <td>2019-08-03</td>\n",
       "      <td>A</td>\n",
       "      <td>507</td>\n",
       "    </tr>\n",
       "    <tr>\n",
       "      <th>3</th>\n",
       "      <td>2019-08-04</td>\n",
       "      <td>A</td>\n",
       "      <td>717</td>\n",
       "    </tr>\n",
       "    <tr>\n",
       "      <th>4</th>\n",
       "      <td>2019-08-05</td>\n",
       "      <td>A</td>\n",
       "      <td>756</td>\n",
       "    </tr>\n",
       "  </tbody>\n",
       "</table>\n",
       "</div>"
      ],
      "text/plain": [
       "         date group  visitors\n",
       "0  2019-08-01     A       719\n",
       "1  2019-08-02     A       619\n",
       "2  2019-08-03     A       507\n",
       "3  2019-08-04     A       717\n",
       "4  2019-08-05     A       756"
      ]
     },
     "metadata": {},
     "output_type": "display_data"
    },
    {
     "name": "stdout",
     "output_type": "stream",
     "text": [
      "date        0\n",
      "group       0\n",
      "visitors    0\n",
      "dtype: int64\n",
      "0\n"
     ]
    }
   ],
   "source": [
    "predobr(visitors)"
   ]
  },
  {
   "cell_type": "code",
   "execution_count": 7,
   "metadata": {},
   "outputs": [],
   "source": [
    "# там, где в таблицах даты, нужно поправить тип\n",
    "orders['date'] = pd.to_datetime(orders['date'])\n",
    "visitors['date'] = pd.to_datetime(visitors['date'])\n",
    "\n",
    "# поменяем регистр в названии колонок\n",
    "hypothesis.columns = [x.lower() for x in hypothesis.columns.values]\n",
    "orders.columns = [x.lower() for x in orders.columns.values]\n",
    "visitors.columns = [x.lower() for x in visitors.columns.values]\n",
    "\n",
    "# Проверим есть ли у нас пользователи, которые попали в две группы теста одновременно\n",
    "countGroups = orders.loc[orders[\"group\"]==\"A\", \"visitorid\"].isin(orders.loc[orders[\"group\"]==\"B\", \"visitorid\"])\n",
    "\n",
    "# убираем пользователей, попавших в обе группы\n",
    "orders = orders.drop(countGroups[countGroups].index)\n",
    "# print(orders)\n",
    "# visitors.info()"
   ]
  },
  {
   "cell_type": "markdown",
   "metadata": {},
   "source": [
    "#### Применим фреймворк ICE для приоритизации гипотез. Отсортируем их по убыванию приоритета."
   ]
  },
  {
   "cell_type": "code",
   "execution_count": 8,
   "metadata": {},
   "outputs": [
    {
     "data": {
      "text/html": [
       "<style  type=\"text/css\" >\n",
       "#T_9ab44_row0_col1,#T_9ab44_row8_col2{\n",
       "            background-color:  #ffffd9;\n",
       "            color:  #000000;\n",
       "        }#T_9ab44_row0_col2{\n",
       "            background-color:  #081d58;\n",
       "            color:  #f1f1f1;\n",
       "        }#T_9ab44_row1_col1,#T_9ab44_row6_col1,#T_9ab44_row8_col1{\n",
       "            background-color:  #ecf7b1;\n",
       "            color:  #000000;\n",
       "        }#T_9ab44_row1_col2{\n",
       "            background-color:  #23499e;\n",
       "            color:  #f1f1f1;\n",
       "        }#T_9ab44_row2_col1{\n",
       "            background-color:  #269bc1;\n",
       "            color:  #000000;\n",
       "        }#T_9ab44_row2_col2{\n",
       "            background-color:  #1f7eb7;\n",
       "            color:  #000000;\n",
       "        }#T_9ab44_row3_col1{\n",
       "            background-color:  #c0e6b5;\n",
       "            color:  #000000;\n",
       "        }#T_9ab44_row3_col2,#T_9ab44_row4_col1,#T_9ab44_row7_col1{\n",
       "            background-color:  #55bec1;\n",
       "            color:  #000000;\n",
       "        }#T_9ab44_row4_col2{\n",
       "            background-color:  #75c9bd;\n",
       "            color:  #000000;\n",
       "        }#T_9ab44_row5_col1,#T_9ab44_row5_col2{\n",
       "            background-color:  #f6fbc5;\n",
       "            color:  #000000;\n",
       "        }#T_9ab44_row6_col2{\n",
       "            background-color:  #fcfed3;\n",
       "            color:  #000000;\n",
       "        }#T_9ab44_row7_col2{\n",
       "            background-color:  #feffd6;\n",
       "            color:  #000000;\n",
       "        }</style><table id=\"T_9ab44_\" ><thead>    <tr>        <th class=\"blank level0\" ></th>        <th class=\"col_heading level0 col0\" >hypothesis</th>        <th class=\"col_heading level0 col1\" >reach</th>        <th class=\"col_heading level0 col2\" >ICE</th>    </tr></thead><tbody>\n",
       "                <tr>\n",
       "                        <th id=\"T_9ab44_level0_row0\" class=\"row_heading level0 row0\" >8</th>\n",
       "                        <td id=\"T_9ab44_row0_col0\" class=\"data row0 col0\" >Запустить акцию, дающую скидку на товар в день рождения</td>\n",
       "                        <td id=\"T_9ab44_row0_col1\" class=\"data row0 col1\" >1</td>\n",
       "                        <td id=\"T_9ab44_row0_col2\" class=\"data row0 col2\" >16.200000</td>\n",
       "            </tr>\n",
       "            <tr>\n",
       "                        <th id=\"T_9ab44_level0_row1\" class=\"row_heading level0 row1\" >0</th>\n",
       "                        <td id=\"T_9ab44_row1_col0\" class=\"data row1 col0\" >Добавить два новых канала привлечения трафика, что позволит привлекать на 30% больше пользователей</td>\n",
       "                        <td id=\"T_9ab44_row1_col1\" class=\"data row1 col1\" >3</td>\n",
       "                        <td id=\"T_9ab44_row1_col2\" class=\"data row1 col2\" >13.333333</td>\n",
       "            </tr>\n",
       "            <tr>\n",
       "                        <th id=\"T_9ab44_level0_row2\" class=\"row_heading level0 row2\" >7</th>\n",
       "                        <td id=\"T_9ab44_row2_col0\" class=\"data row2 col0\" >Добавить форму подписки на все основные страницы, чтобы собрать базу клиентов для email-рассылок</td>\n",
       "                        <td id=\"T_9ab44_row2_col1\" class=\"data row2 col1\" >10</td>\n",
       "                        <td id=\"T_9ab44_row2_col2\" class=\"data row2 col2\" >11.200000</td>\n",
       "            </tr>\n",
       "            <tr>\n",
       "                        <th id=\"T_9ab44_level0_row3\" class=\"row_heading level0 row3\" >6</th>\n",
       "                        <td id=\"T_9ab44_row3_col0\" class=\"data row3 col0\" >Показать на главной странице баннеры с актуальными акциями и распродажами, чтобы увеличить конверсию</td>\n",
       "                        <td id=\"T_9ab44_row3_col1\" class=\"data row3 col1\" >5</td>\n",
       "                        <td id=\"T_9ab44_row3_col2\" class=\"data row3 col2\" >8.000000</td>\n",
       "            </tr>\n",
       "            <tr>\n",
       "                        <th id=\"T_9ab44_level0_row4\" class=\"row_heading level0 row4\" >2</th>\n",
       "                        <td id=\"T_9ab44_row4_col0\" class=\"data row4 col0\" >Добавить блоки рекомендаций товаров на сайт интернет магазина, чтобы повысить конверсию и средний чек заказа</td>\n",
       "                        <td id=\"T_9ab44_row4_col1\" class=\"data row4 col1\" >8</td>\n",
       "                        <td id=\"T_9ab44_row4_col2\" class=\"data row4 col2\" >7.000000</td>\n",
       "            </tr>\n",
       "            <tr>\n",
       "                        <th id=\"T_9ab44_level0_row5\" class=\"row_heading level0 row5\" >1</th>\n",
       "                        <td id=\"T_9ab44_row5_col0\" class=\"data row5 col0\" >Запустить собственную службу доставки, что сократит срок доставки заказов</td>\n",
       "                        <td id=\"T_9ab44_row5_col1\" class=\"data row5 col1\" >2</td>\n",
       "                        <td id=\"T_9ab44_row5_col2\" class=\"data row5 col2\" >2.000000</td>\n",
       "            </tr>\n",
       "            <tr>\n",
       "                        <th id=\"T_9ab44_level0_row6\" class=\"row_heading level0 row6\" >5</th>\n",
       "                        <td id=\"T_9ab44_row6_col0\" class=\"data row6 col0\" >Добавить страницу отзывов клиентов о магазине, что позволит увеличить количество заказов</td>\n",
       "                        <td id=\"T_9ab44_row6_col1\" class=\"data row6 col1\" >3</td>\n",
       "                        <td id=\"T_9ab44_row6_col2\" class=\"data row6 col2\" >1.333333</td>\n",
       "            </tr>\n",
       "            <tr>\n",
       "                        <th id=\"T_9ab44_level0_row7\" class=\"row_heading level0 row7\" >3</th>\n",
       "                        <td id=\"T_9ab44_row7_col0\" class=\"data row7 col0\" >Изменить структура категорий, что увеличит конверсию, т.к. пользователи быстрее найдут нужный товар</td>\n",
       "                        <td id=\"T_9ab44_row7_col1\" class=\"data row7 col1\" >8</td>\n",
       "                        <td id=\"T_9ab44_row7_col2\" class=\"data row7 col2\" >1.125000</td>\n",
       "            </tr>\n",
       "            <tr>\n",
       "                        <th id=\"T_9ab44_level0_row8\" class=\"row_heading level0 row8\" >4</th>\n",
       "                        <td id=\"T_9ab44_row8_col0\" class=\"data row8 col0\" >Изменить цвет фона главной страницы, чтобы увеличить вовлеченность пользователей</td>\n",
       "                        <td id=\"T_9ab44_row8_col1\" class=\"data row8 col1\" >3</td>\n",
       "                        <td id=\"T_9ab44_row8_col2\" class=\"data row8 col2\" >1.000000</td>\n",
       "            </tr>\n",
       "    </tbody></table>"
      ],
      "text/plain": [
       "<pandas.io.formats.style.Styler at 0x7f2e33c2acd0>"
      ]
     },
     "execution_count": 8,
     "metadata": {},
     "output_type": "execute_result"
    }
   ],
   "source": [
    "hypothesis['ICE'] = hypothesis['impact'] * hypothesis['confidence'] / hypothesis['efforts']\n",
    "\n",
    "(\n",
    "    hypothesis[['hypothesis','reach','ICE']]\n",
    "    .sort_values('ICE', ascending=False)\n",
    "    .style.background_gradient(axis=None, cmap='YlGnBu')\n",
    ")"
   ]
  },
  {
   "cell_type": "markdown",
   "metadata": {},
   "source": [
    "#### Применим фреймворк RICE для приоритизации гипотез. Отсортируем их по убыванию приоритета."
   ]
  },
  {
   "cell_type": "code",
   "execution_count": 9,
   "metadata": {},
   "outputs": [
    {
     "data": {
      "text/html": [
       "<style  type=\"text/css\" >\n",
       "#T_e7d26_row0_col1{\n",
       "            background-color:  #f4fbc0;\n",
       "            color:  #000000;\n",
       "        }#T_e7d26_row0_col2{\n",
       "            background-color:  #f2fabc;\n",
       "            color:  #000000;\n",
       "        }#T_e7d26_row0_col3{\n",
       "            background-color:  #081d58;\n",
       "            color:  #f1f1f1;\n",
       "        }#T_e7d26_row1_col1,#T_e7d26_row3_col2,#T_e7d26_row5_col1{\n",
       "            background-color:  #f6fbc5;\n",
       "            color:  #000000;\n",
       "        }#T_e7d26_row1_col2{\n",
       "            background-color:  #f8fcc9;\n",
       "            color:  #000000;\n",
       "        }#T_e7d26_row1_col3{\n",
       "            background-color:  #44b7c4;\n",
       "            color:  #000000;\n",
       "        }#T_e7d26_row2_col1,#T_e7d26_row7_col1,#T_e7d26_row8_col1,#T_e7d26_row8_col3{\n",
       "            background-color:  #fdfed4;\n",
       "            color:  #000000;\n",
       "        }#T_e7d26_row2_col2{\n",
       "            background-color:  #eff9b6;\n",
       "            color:  #000000;\n",
       "        }#T_e7d26_row2_col3,#T_e7d26_row3_col3{\n",
       "            background-color:  #8ed3ba;\n",
       "            color:  #000000;\n",
       "        }#T_e7d26_row3_col1{\n",
       "            background-color:  #fafdce;\n",
       "            color:  #000000;\n",
       "        }#T_e7d26_row4_col1,#T_e7d26_row5_col2,#T_e7d26_row7_col2,#T_e7d26_row8_col2{\n",
       "            background-color:  #ffffd9;\n",
       "            color:  #000000;\n",
       "        }#T_e7d26_row4_col2,#T_e7d26_row4_col3{\n",
       "            background-color:  #e9f7b1;\n",
       "            color:  #000000;\n",
       "        }#T_e7d26_row5_col3{\n",
       "            background-color:  #f5fbc2;\n",
       "            color:  #000000;\n",
       "        }#T_e7d26_row6_col1,#T_e7d26_row6_col2{\n",
       "            background-color:  #feffd6;\n",
       "            color:  #000000;\n",
       "        }#T_e7d26_row6_col3,#T_e7d26_row7_col3{\n",
       "            background-color:  #fcfed1;\n",
       "            color:  #000000;\n",
       "        }</style><table id=\"T_e7d26_\" ><thead>    <tr>        <th class=\"blank level0\" ></th>        <th class=\"col_heading level0 col0\" >hypothesis</th>        <th class=\"col_heading level0 col1\" >reach</th>        <th class=\"col_heading level0 col2\" >ICE</th>        <th class=\"col_heading level0 col3\" >RICE</th>    </tr></thead><tbody>\n",
       "                <tr>\n",
       "                        <th id=\"T_e7d26_level0_row0\" class=\"row_heading level0 row0\" >7</th>\n",
       "                        <td id=\"T_e7d26_row0_col0\" class=\"data row0 col0\" >Добавить форму подписки на все основные страницы, чтобы собрать базу клиентов для email-рассылок</td>\n",
       "                        <td id=\"T_e7d26_row0_col1\" class=\"data row0 col1\" >10</td>\n",
       "                        <td id=\"T_e7d26_row0_col2\" class=\"data row0 col2\" >11.200000</td>\n",
       "                        <td id=\"T_e7d26_row0_col3\" class=\"data row0 col3\" >112.000000</td>\n",
       "            </tr>\n",
       "            <tr>\n",
       "                        <th id=\"T_e7d26_level0_row1\" class=\"row_heading level0 row1\" >2</th>\n",
       "                        <td id=\"T_e7d26_row1_col0\" class=\"data row1 col0\" >Добавить блоки рекомендаций товаров на сайт интернет магазина, чтобы повысить конверсию и средний чек заказа</td>\n",
       "                        <td id=\"T_e7d26_row1_col1\" class=\"data row1 col1\" >8</td>\n",
       "                        <td id=\"T_e7d26_row1_col2\" class=\"data row1 col2\" >7.000000</td>\n",
       "                        <td id=\"T_e7d26_row1_col3\" class=\"data row1 col3\" >56.000000</td>\n",
       "            </tr>\n",
       "            <tr>\n",
       "                        <th id=\"T_e7d26_level0_row2\" class=\"row_heading level0 row2\" >0</th>\n",
       "                        <td id=\"T_e7d26_row2_col0\" class=\"data row2 col0\" >Добавить два новых канала привлечения трафика, что позволит привлекать на 30% больше пользователей</td>\n",
       "                        <td id=\"T_e7d26_row2_col1\" class=\"data row2 col1\" >3</td>\n",
       "                        <td id=\"T_e7d26_row2_col2\" class=\"data row2 col2\" >13.333333</td>\n",
       "                        <td id=\"T_e7d26_row2_col3\" class=\"data row2 col3\" >40.000000</td>\n",
       "            </tr>\n",
       "            <tr>\n",
       "                        <th id=\"T_e7d26_level0_row3\" class=\"row_heading level0 row3\" >6</th>\n",
       "                        <td id=\"T_e7d26_row3_col0\" class=\"data row3 col0\" >Показать на главной странице баннеры с актуальными акциями и распродажами, чтобы увеличить конверсию</td>\n",
       "                        <td id=\"T_e7d26_row3_col1\" class=\"data row3 col1\" >5</td>\n",
       "                        <td id=\"T_e7d26_row3_col2\" class=\"data row3 col2\" >8.000000</td>\n",
       "                        <td id=\"T_e7d26_row3_col3\" class=\"data row3 col3\" >40.000000</td>\n",
       "            </tr>\n",
       "            <tr>\n",
       "                        <th id=\"T_e7d26_level0_row4\" class=\"row_heading level0 row4\" >8</th>\n",
       "                        <td id=\"T_e7d26_row4_col0\" class=\"data row4 col0\" >Запустить акцию, дающую скидку на товар в день рождения</td>\n",
       "                        <td id=\"T_e7d26_row4_col1\" class=\"data row4 col1\" >1</td>\n",
       "                        <td id=\"T_e7d26_row4_col2\" class=\"data row4 col2\" >16.200000</td>\n",
       "                        <td id=\"T_e7d26_row4_col3\" class=\"data row4 col3\" >16.200000</td>\n",
       "            </tr>\n",
       "            <tr>\n",
       "                        <th id=\"T_e7d26_level0_row5\" class=\"row_heading level0 row5\" >3</th>\n",
       "                        <td id=\"T_e7d26_row5_col0\" class=\"data row5 col0\" >Изменить структура категорий, что увеличит конверсию, т.к. пользователи быстрее найдут нужный товар</td>\n",
       "                        <td id=\"T_e7d26_row5_col1\" class=\"data row5 col1\" >8</td>\n",
       "                        <td id=\"T_e7d26_row5_col2\" class=\"data row5 col2\" >1.125000</td>\n",
       "                        <td id=\"T_e7d26_row5_col3\" class=\"data row5 col3\" >9.000000</td>\n",
       "            </tr>\n",
       "            <tr>\n",
       "                        <th id=\"T_e7d26_level0_row6\" class=\"row_heading level0 row6\" >1</th>\n",
       "                        <td id=\"T_e7d26_row6_col0\" class=\"data row6 col0\" >Запустить собственную службу доставки, что сократит срок доставки заказов</td>\n",
       "                        <td id=\"T_e7d26_row6_col1\" class=\"data row6 col1\" >2</td>\n",
       "                        <td id=\"T_e7d26_row6_col2\" class=\"data row6 col2\" >2.000000</td>\n",
       "                        <td id=\"T_e7d26_row6_col3\" class=\"data row6 col3\" >4.000000</td>\n",
       "            </tr>\n",
       "            <tr>\n",
       "                        <th id=\"T_e7d26_level0_row7\" class=\"row_heading level0 row7\" >5</th>\n",
       "                        <td id=\"T_e7d26_row7_col0\" class=\"data row7 col0\" >Добавить страницу отзывов клиентов о магазине, что позволит увеличить количество заказов</td>\n",
       "                        <td id=\"T_e7d26_row7_col1\" class=\"data row7 col1\" >3</td>\n",
       "                        <td id=\"T_e7d26_row7_col2\" class=\"data row7 col2\" >1.333333</td>\n",
       "                        <td id=\"T_e7d26_row7_col3\" class=\"data row7 col3\" >4.000000</td>\n",
       "            </tr>\n",
       "            <tr>\n",
       "                        <th id=\"T_e7d26_level0_row8\" class=\"row_heading level0 row8\" >4</th>\n",
       "                        <td id=\"T_e7d26_row8_col0\" class=\"data row8 col0\" >Изменить цвет фона главной страницы, чтобы увеличить вовлеченность пользователей</td>\n",
       "                        <td id=\"T_e7d26_row8_col1\" class=\"data row8 col1\" >3</td>\n",
       "                        <td id=\"T_e7d26_row8_col2\" class=\"data row8 col2\" >1.000000</td>\n",
       "                        <td id=\"T_e7d26_row8_col3\" class=\"data row8 col3\" >3.000000</td>\n",
       "            </tr>\n",
       "    </tbody></table>"
      ],
      "text/plain": [
       "<pandas.io.formats.style.Styler at 0x7f2e33bcdd60>"
      ]
     },
     "execution_count": 9,
     "metadata": {},
     "output_type": "execute_result"
    }
   ],
   "source": [
    "hypothesis['RICE'] = hypothesis['reach'] * hypothesis['impact'] * hypothesis['confidence'] / hypothesis['efforts']\n",
    "(\n",
    "    hypothesis[['hypothesis','reach','ICE','RICE']]\n",
    "    .sort_values('RICE', ascending=False)\n",
    "    .style.background_gradient(axis=None, cmap='YlGnBu')\n",
    ")"
   ]
  },
  {
   "cell_type": "markdown",
   "metadata": {},
   "source": [
    "#### Укажем, как изменилась приоритизация гипотез при применении RICE вместо ICE. Объясним, почему так произошло."
   ]
  },
  {
   "cell_type": "markdown",
   "metadata": {},
   "source": [
    "Все дело в параметре reach (скольких пользователей затронет изменение, которое мы хотим внести) у гипотезы \"Добавить форму подписки на все основные страницы, чтобы собрать базу клиентов для email-рассылок\" самый высокий и равен 10, а у гипотезы \"Запустить акцию, дающую скидку на товар в день рождения\" он маленький и равен 1"
   ]
  },
  {
   "cell_type": "markdown",
   "metadata": {},
   "source": [
    "### Анализ A/B-теста\n",
    "Мы провели A/B-тест и получили результаты, которые описаны в файлах 2 м 3"
   ]
  },
  {
   "cell_type": "markdown",
   "metadata": {},
   "source": [
    "#### Построим график кумулятивной выручки по группам. "
   ]
  },
  {
   "cell_type": "code",
   "execution_count": 10,
   "metadata": {},
   "outputs": [
    {
     "data": {
      "text/html": [
       "<div>\n",
       "<style scoped>\n",
       "    .dataframe tbody tr th:only-of-type {\n",
       "        vertical-align: middle;\n",
       "    }\n",
       "\n",
       "    .dataframe tbody tr th {\n",
       "        vertical-align: top;\n",
       "    }\n",
       "\n",
       "    .dataframe thead th {\n",
       "        text-align: right;\n",
       "    }\n",
       "</style>\n",
       "<table border=\"1\" class=\"dataframe\">\n",
       "  <thead>\n",
       "    <tr style=\"text-align: right;\">\n",
       "      <th></th>\n",
       "      <th>date</th>\n",
       "      <th>group</th>\n",
       "      <th>orders</th>\n",
       "      <th>buyers</th>\n",
       "      <th>revenue</th>\n",
       "      <th>visitors</th>\n",
       "      <th>conversion</th>\n",
       "    </tr>\n",
       "  </thead>\n",
       "  <tbody>\n",
       "    <tr>\n",
       "      <th>0</th>\n",
       "      <td>2019-08-01</td>\n",
       "      <td>A</td>\n",
       "      <td>23</td>\n",
       "      <td>19</td>\n",
       "      <td>142779</td>\n",
       "      <td>719</td>\n",
       "      <td>0.03</td>\n",
       "    </tr>\n",
       "    <tr>\n",
       "      <th>1</th>\n",
       "      <td>2019-08-01</td>\n",
       "      <td>B</td>\n",
       "      <td>21</td>\n",
       "      <td>20</td>\n",
       "      <td>101217</td>\n",
       "      <td>713</td>\n",
       "      <td>0.03</td>\n",
       "    </tr>\n",
       "    <tr>\n",
       "      <th>2</th>\n",
       "      <td>2019-08-02</td>\n",
       "      <td>A</td>\n",
       "      <td>42</td>\n",
       "      <td>36</td>\n",
       "      <td>234381</td>\n",
       "      <td>1338</td>\n",
       "      <td>0.03</td>\n",
       "    </tr>\n",
       "    <tr>\n",
       "      <th>3</th>\n",
       "      <td>2019-08-02</td>\n",
       "      <td>B</td>\n",
       "      <td>45</td>\n",
       "      <td>43</td>\n",
       "      <td>266748</td>\n",
       "      <td>1294</td>\n",
       "      <td>0.03</td>\n",
       "    </tr>\n",
       "    <tr>\n",
       "      <th>4</th>\n",
       "      <td>2019-08-03</td>\n",
       "      <td>A</td>\n",
       "      <td>66</td>\n",
       "      <td>60</td>\n",
       "      <td>346854</td>\n",
       "      <td>1845</td>\n",
       "      <td>0.04</td>\n",
       "    </tr>\n",
       "  </tbody>\n",
       "</table>\n",
       "</div>"
      ],
      "text/plain": [
       "        date group  orders  buyers  revenue  visitors  conversion\n",
       "0 2019-08-01     A      23      19   142779       719        0.03\n",
       "1 2019-08-01     B      21      20   101217       713        0.03\n",
       "2 2019-08-02     A      42      36   234381      1338        0.03\n",
       "3 2019-08-02     B      45      43   266748      1294        0.03\n",
       "4 2019-08-03     A      66      60   346854      1845        0.04"
      ]
     },
     "execution_count": 10,
     "metadata": {},
     "output_type": "execute_result"
    }
   ],
   "source": [
    "# Создадим кумулятивную таблицу\n",
    "datesGroups = orders[['date', 'group']].drop_duplicates()\n",
    "\n",
    "ordersAggregated = datesGroups.apply(\n",
    "    lambda x: orders[\n",
    "        np.logical_and(\n",
    "            orders['date'] <= x['date'], orders['group'] == x['group']\n",
    "        )\n",
    "    ].agg(\n",
    "        {\n",
    "            'date': 'max',\n",
    "            'group': 'max',\n",
    "            'transactionid': 'nunique',\n",
    "            'visitorid': 'nunique',\n",
    "            'revenue': 'sum',\n",
    "        }\n",
    "    ),\n",
    "    axis=1,\n",
    ").sort_values(by=['date', 'group'])\n",
    "\n",
    "visitorsAggregated = datesGroups.apply(\n",
    "    lambda x: visitors[\n",
    "        np.logical_and(\n",
    "            visitors['date'] <= x['date'], visitors['group'] == x['group']\n",
    "        )\n",
    "    ].agg({'date': 'max', 'group': 'max', 'visitors': 'sum'}),\n",
    "    axis=1,\n",
    ").sort_values(by=['date', 'group'])\n",
    "\n",
    "cumulativeData = ordersAggregated.merge(\n",
    "    visitorsAggregated, left_on=['date', 'group'], right_on=['date', 'group']\n",
    ")\n",
    "\n",
    "cumulativeData.columns = [\n",
    "    'date',\n",
    "    'group',\n",
    "    'orders',\n",
    "    'buyers',\n",
    "    'revenue',\n",
    "    'visitors',\n",
    "]\n",
    "\n",
    "cumulativeData['conversion'] = (\n",
    "    cumulativeData['orders'] / cumulativeData['visitors']\n",
    ")\n",
    "\n",
    "cumulativeData.head()"
   ]
  },
  {
   "cell_type": "code",
   "execution_count": 11,
   "metadata": {},
   "outputs": [
    {
     "data": {
      "image/png": "[encoded data removed]",
      "text/plain": [
       "<Figure size 720x576 with 1 Axes>"
      ]
     },
     "metadata": {},
     "output_type": "display_data"
    }
   ],
   "source": [
    "cumulativeRevenueA = cumulativeData[cumulativeData['group']=='A'][['date','revenue', 'orders']]\n",
    "cumulativeRevenueB = cumulativeData[cumulativeData['group']=='B'][['date','revenue', 'orders']]\n",
    "\n",
    "plt.plot(cumulativeRevenueA['date'], cumulativeRevenueA['revenue'], label='A')\n",
    "plt.plot(cumulativeRevenueB['date'], cumulativeRevenueB['revenue'], label='B')\n",
    "plt.annotate('скачок', xy=('2019-08-17', 2800000), xytext=('2019-08-10', 3500000),\n",
    "            arrowprops=dict(facecolor='g'))\n",
    "plt.annotate('отрыв', xy=('2019-08-05', 800000), xytext=('2019-08-05', 2000000),\n",
    "            arrowprops=dict(facecolor='g')) \n",
    "plt.title('График кумулятивной выручки по группам')\n",
    "plt.ylabel(\"Выручка\")\n",
    "plt.xticks(rotation=45)\n",
    "plt.legend()\n",
    "plt.show()"
   ]
  },
  {
   "cell_type": "markdown",
   "metadata": {},
   "source": [
    "Вывод: Сегмент В вырвался вперед и продолжает лидировать. Но в середине есть резкий скачок, что может указаывать на анмально большие заказы, которые влияют на результаты."
   ]
  },
  {
   "cell_type": "markdown",
   "metadata": {},
   "source": [
    "#### Построим график кумулятивного среднего чека по группам."
   ]
  },
  {
   "cell_type": "code",
   "execution_count": 12,
   "metadata": {
    "scrolled": false
   },
   "outputs": [
    {
     "data": {
      "image/png": "[encoded data removed]",
      "text/plain": [
       "<Figure size 720x576 with 1 Axes>"
      ]
     },
     "metadata": {},
     "output_type": "display_data"
    }
   ],
   "source": [
    "plt.plot(cumulativeRevenueA['date'], cumulativeRevenueA['revenue']/cumulativeRevenueA['orders'], label='A')\n",
    "plt.plot(cumulativeRevenueB['date'], cumulativeRevenueB['revenue']/cumulativeRevenueB['orders'], label='B')\n",
    "plt.annotate('скачок', xy=('2019-08-17', 7300), xytext=('2019-08-13', 8000),\n",
    "            arrowprops=dict(facecolor='g'))\n",
    "plt.title('График кумулятивного среднего чека по группам')\n",
    "plt.ylabel(\"Средний чек\")\n",
    "plt.xticks(rotation=45)\n",
    "plt.legend()\n",
    "plt.show()"
   ]
  },
  {
   "cell_type": "markdown",
   "metadata": {},
   "source": [
    "Вывод: На этом графике видны сильные колебания, так же у сегмента В в середине резкий скачок. Принимать решение рано продолжим анализ"
   ]
  },
  {
   "cell_type": "markdown",
   "metadata": {},
   "source": [
    "#### Построим график относительного изменения кумулятивного среднего чека группы B к группе A."
   ]
  },
  {
   "cell_type": "code",
   "execution_count": 13,
   "metadata": {
    "scrolled": false
   },
   "outputs": [
    {
     "data": {
      "image/png": "[encoded data removed]",
      "text/plain": [
       "<Figure size 720x576 with 1 Axes>"
      ]
     },
     "metadata": {},
     "output_type": "display_data"
    }
   ],
   "source": [
    "# собираем данные в одном датафрейме\n",
    "mergedCumulativeRevenue = cumulativeRevenueA.merge(cumulativeRevenueB, left_on='date', right_on='date', how='left', suffixes=['A', 'B'])\n",
    "\n",
    "# cтроим отношение средних чеков\n",
    "plt.plot(mergedCumulativeRevenue['date'], \n",
    "         (mergedCumulativeRevenue['revenueB']/mergedCumulativeRevenue['ordersB'])/(mergedCumulativeRevenue['revenueA']/mergedCumulativeRevenue['ordersA'])-1)\n",
    "# добавляем ось X\n",
    "plt.axhline(y=0, color='black', linestyle='--') \n",
    "plt.title('График относительного изменения кумулятивного среднего чека группы B к группе A')\n",
    "plt.xticks(rotation=45)\n",
    "plt.show()"
   ]
  },
  {
   "cell_type": "markdown",
   "metadata": {},
   "source": [
    "Вывод:Результаты теста значительно и резко менялись в несколько дат. Видимо именно тогда были совершены аномальные заказы."
   ]
  },
  {
   "cell_type": "markdown",
   "metadata": {},
   "source": [
    "#### Построим график кумулятивной конверсии по группам."
   ]
  },
  {
   "cell_type": "code",
   "execution_count": 14,
   "metadata": {},
   "outputs": [
    {
     "data": {
      "image/png": "[encoded data removed]",
      "text/plain": [
       "<Figure size 720x576 with 1 Axes>"
      ]
     },
     "metadata": {},
     "output_type": "display_data"
    }
   ],
   "source": [
    "# считаем кумулятивную конверсию\n",
    "cumulativeData['conversion'] = cumulativeData['orders']/cumulativeData['visitors']\n",
    "\n",
    "# отделяем данные по группе A\n",
    "cumulativeDataA = cumulativeData[cumulativeData['group']=='A']\n",
    "\n",
    "# отделяем данные по группе B\n",
    "cumulativeDataB = cumulativeData[cumulativeData['group']=='B']\n",
    "\n",
    "# строим графики\n",
    "plt.plot(cumulativeDataA['date'], cumulativeDataA['conversion'], label='A')\n",
    "plt.plot(cumulativeDataB['date'], cumulativeDataB['conversion'], label='B')\n",
    "plt.title('График кумулятивной конверсии по группам')\n",
    "plt.ylabel(\"Выручка\")\n",
    "plt.xticks(rotation=45)\n",
    "plt.legend()\n",
    "plt.show()"
   ]
  },
  {
   "cell_type": "markdown",
   "metadata": {},
   "source": [
    "Вывод: В начале теста сегмент А имел большую конверсию, но постепенно снизился и выровнялся. Сегмент В постепенно выровнялся и стал иметь большую конверсию. Сегмент В пока выглядит лучше. Продолжим анализ дальше."
   ]
  },
  {
   "cell_type": "markdown",
   "metadata": {},
   "source": [
    "#### Построим график относительного изменения кумулятивной конверсии группы B к группе A."
   ]
  },
  {
   "cell_type": "code",
   "execution_count": 15,
   "metadata": {},
   "outputs": [
    {
     "data": {
      "image/png": "[encoded data removed]",
      "text/plain": [
       "<Figure size 720x576 with 1 Axes>"
      ]
     },
     "metadata": {},
     "output_type": "display_data"
    }
   ],
   "source": [
    "mergedCumulativeConversions = cumulativeDataA[['date','conversion']].merge(cumulativeDataB[['date','conversion']], \n",
    "       left_on='date', right_on='date', how='left', suffixes=['A', 'B'])\n",
    "\n",
    "plt.plot(mergedCumulativeConversions['date'], \n",
    "         mergedCumulativeConversions['conversionB']/mergedCumulativeConversions['conversionA']-1, \n",
    "         label=\"Относительный прирост конверсии группы B относительно группы A\")\n",
    "plt.title('График относительного изменения кумулятивной конверсии группы B к группе A')\n",
    "plt.axhline(y=0, color='grey', linestyle='--')\n",
    "plt.axhline(y=0.35, color='red', linestyle='--')\n",
    "plt.xticks(rotation=45)\n",
    "plt.show()"
   ]
  },
  {
   "cell_type": "markdown",
   "metadata": {},
   "source": [
    "Вывод: На графике видно, что группа В окончательно занимает лидирующую позицию по конверсии и зафиксировалась около прироста в 35% относительно группы А"
   ]
  },
  {
   "cell_type": "markdown",
   "metadata": {},
   "source": [
    "#### Построим точечный график количества заказов по пользователям. "
   ]
  },
  {
   "cell_type": "code",
   "execution_count": 16,
   "metadata": {
    "scrolled": true
   },
   "outputs": [
    {
     "name": "stdout",
     "output_type": "stream",
     "text": [
      "       visitorid  orders\n",
      "591   2458001652       6\n",
      "569   2378935119       5\n",
      "917   3803269165       4\n",
      "1023  4256040402       4\n",
      "744   3062433592       4\n",
      "897   3717692402       4\n",
      "114    457167155       3\n",
      "959   3967698036       3\n",
      "667   2742574263       3\n",
      "487   2038680547       3\n"
     ]
    }
   ],
   "source": [
    "# сделаем таблицу число заказов по пользователю\n",
    "ordersByUsers = (\n",
    "    orders.groupby('visitorid', as_index=False)\n",
    "    .agg({'transactionid' : pd.Series.nunique})\n",
    ")\n",
    "ordersByUsers.columns = ['visitorid', 'orders']\n",
    "print(ordersByUsers.sort_values(by='orders', ascending=False).head(10)) "
   ]
  },
  {
   "cell_type": "code",
   "execution_count": 17,
   "metadata": {},
   "outputs": [
    {
     "data": {
      "image/png": "[encoded data removed]",
      "text/plain": [
       "<Figure size 720x576 with 1 Axes>"
      ]
     },
     "metadata": {},
     "output_type": "display_data"
    }
   ],
   "source": [
    "x_values = pd.Series(range(0, len(ordersByUsers)))\n",
    "plt.scatter(x_values, ordersByUsers['orders']) \n",
    "plt.title('График количества заказов по пользователям')\n",
    "plt.ylabel(\"Кол-во заказов, шт.\")\n",
    "plt.xlabel(\"Порядковый номер пользователя\")\n",
    "plt.show()"
   ]
  },
  {
   "cell_type": "markdown",
   "metadata": {},
   "source": [
    "Вывод: Пользователей заказавшие более 3-х раз вполне могут быть аномальными. Продолжим анализировать."
   ]
  },
  {
   "cell_type": "markdown",
   "metadata": {},
   "source": [
    "#### Посчитаем 95-й и 99-й перцентили количества заказов на пользователя."
   ]
  },
  {
   "cell_type": "code",
   "execution_count": 18,
   "metadata": {},
   "outputs": [
    {
     "name": "stdout",
     "output_type": "stream",
     "text": [
      "Перцентиль 95: [1.5]\n",
      "Перцентиль 99: [3.]\n"
     ]
    }
   ],
   "source": [
    "print('Перцентиль 95:',np.percentile(ordersByUsers['orders'], [95]))\n",
    "print('Перцентиль 99:',np.percentile(ordersByUsers['orders'], [99]))"
   ]
  },
  {
   "cell_type": "markdown",
   "metadata": {},
   "source": [
    "Вывод: Не более 5% пользователей совершили больше 1 заказа и не более 1% пользователей больше 3 заказов. Считаю, все что выше 3 заказов аномально для периода в месяц"
   ]
  },
  {
   "cell_type": "markdown",
   "metadata": {},
   "source": [
    "#### Построим точечный график стоимостей заказов."
   ]
  },
  {
   "cell_type": "code",
   "execution_count": 19,
   "metadata": {},
   "outputs": [
    {
     "data": {
      "image/png": "[encoded data removed]",
      "text/plain": [
       "<Figure size 720x576 with 1 Axes>"
      ]
     },
     "metadata": {},
     "output_type": "display_data"
    }
   ],
   "source": [
    "x_values = pd.Series(range(0, len(orders['revenue'])))\n",
    "plt.scatter(x_values, orders['revenue'], color='red')\n",
    "plt.title('График стоимостей заказов')\n",
    "plt.ylabel(\"Стоимость заказа, руб.\")\n",
    "plt.xlabel(\"Порядковый номер заказа\")\n",
    "plt.show()"
   ]
  },
  {
   "cell_type": "markdown",
   "metadata": {},
   "source": [
    "Вывод: Из графика видны два выброса в чуть более 200 000 руб. и в более чем 1 200 000 руб., последний скорее всего и вызвает скачки на графиках."
   ]
  },
  {
   "cell_type": "markdown",
   "metadata": {},
   "source": [
    "#### Посчитаем 95-й и 99-й перцентили стоимости заказов."
   ]
  },
  {
   "cell_type": "code",
   "execution_count": 20,
   "metadata": {},
   "outputs": [
    {
     "name": "stdout",
     "output_type": "stream",
     "text": [
      "Перцентиль 95 [28033.75]\n",
      "Перцентиль 99 [56457.78]\n"
     ]
    }
   ],
   "source": [
    "print('Перцентиль 95',np.percentile(orders['revenue'], [95]))\n",
    "print('Перцентиль 99',np.percentile(orders['revenue'], [99]))"
   ]
  },
  {
   "cell_type": "markdown",
   "metadata": {},
   "source": [
    "Вывод: Не более 5% пользователей совершили покупок на 28 033.75 и неболее 1% пользователей совершили покупок на 56 457.78. Считаю, все что выше суммы 56 457.78 аномально."
   ]
  },
  {
   "cell_type": "markdown",
   "metadata": {},
   "source": [
    "#### Посчитаем статистическую значимость различий в конверсии между группами по «сырым» данным."
   ]
  },
  {
   "cell_type": "markdown",
   "metadata": {},
   "source": [
    "##### Подготовим данные"
   ]
  },
  {
   "cell_type": "code",
   "execution_count": 21,
   "metadata": {},
   "outputs": [
    {
     "data": {
      "text/html": [
       "<div>\n",
       "<style scoped>\n",
       "    .dataframe tbody tr th:only-of-type {\n",
       "        vertical-align: middle;\n",
       "    }\n",
       "\n",
       "    .dataframe tbody tr th {\n",
       "        vertical-align: top;\n",
       "    }\n",
       "\n",
       "    .dataframe thead th {\n",
       "        text-align: right;\n",
       "    }\n",
       "</style>\n",
       "<table border=\"1\" class=\"dataframe\">\n",
       "  <thead>\n",
       "    <tr style=\"text-align: right;\">\n",
       "      <th></th>\n",
       "      <th>date</th>\n",
       "      <th>ordersPerDateA</th>\n",
       "      <th>revenuePerDateA</th>\n",
       "      <th>ordersPerDateB</th>\n",
       "      <th>revenuePerDateB</th>\n",
       "      <th>ordersCummulativeA</th>\n",
       "      <th>revenueCummulativeA</th>\n",
       "      <th>ordersCummulativeB</th>\n",
       "      <th>revenueCummulativeB</th>\n",
       "      <th>visitorsPerDateA</th>\n",
       "      <th>visitorsPerDateB</th>\n",
       "      <th>visitorsCummulativeA</th>\n",
       "      <th>visitorsCummulativeB</th>\n",
       "    </tr>\n",
       "  </thead>\n",
       "  <tbody>\n",
       "    <tr>\n",
       "      <th>0</th>\n",
       "      <td>2019-08-01</td>\n",
       "      <td>23</td>\n",
       "      <td>142779</td>\n",
       "      <td>21</td>\n",
       "      <td>101217</td>\n",
       "      <td>23</td>\n",
       "      <td>142779</td>\n",
       "      <td>21</td>\n",
       "      <td>101217</td>\n",
       "      <td>719</td>\n",
       "      <td>713</td>\n",
       "      <td>719</td>\n",
       "      <td>713</td>\n",
       "    </tr>\n",
       "    <tr>\n",
       "      <th>1</th>\n",
       "      <td>2019-08-02</td>\n",
       "      <td>19</td>\n",
       "      <td>91602</td>\n",
       "      <td>24</td>\n",
       "      <td>165531</td>\n",
       "      <td>42</td>\n",
       "      <td>234381</td>\n",
       "      <td>45</td>\n",
       "      <td>266748</td>\n",
       "      <td>619</td>\n",
       "      <td>581</td>\n",
       "      <td>1338</td>\n",
       "      <td>1294</td>\n",
       "    </tr>\n",
       "    <tr>\n",
       "      <th>2</th>\n",
       "      <td>2019-08-03</td>\n",
       "      <td>24</td>\n",
       "      <td>112473</td>\n",
       "      <td>16</td>\n",
       "      <td>114248</td>\n",
       "      <td>66</td>\n",
       "      <td>346854</td>\n",
       "      <td>61</td>\n",
       "      <td>380996</td>\n",
       "      <td>507</td>\n",
       "      <td>509</td>\n",
       "      <td>1845</td>\n",
       "      <td>1803</td>\n",
       "    </tr>\n",
       "    <tr>\n",
       "      <th>3</th>\n",
       "      <td>2019-08-04</td>\n",
       "      <td>11</td>\n",
       "      <td>41176</td>\n",
       "      <td>17</td>\n",
       "      <td>108571</td>\n",
       "      <td>77</td>\n",
       "      <td>388030</td>\n",
       "      <td>78</td>\n",
       "      <td>489567</td>\n",
       "      <td>717</td>\n",
       "      <td>770</td>\n",
       "      <td>2562</td>\n",
       "      <td>2573</td>\n",
       "    </tr>\n",
       "    <tr>\n",
       "      <th>4</th>\n",
       "      <td>2019-08-05</td>\n",
       "      <td>22</td>\n",
       "      <td>86383</td>\n",
       "      <td>23</td>\n",
       "      <td>92428</td>\n",
       "      <td>99</td>\n",
       "      <td>474413</td>\n",
       "      <td>101</td>\n",
       "      <td>581995</td>\n",
       "      <td>756</td>\n",
       "      <td>707</td>\n",
       "      <td>3318</td>\n",
       "      <td>3280</td>\n",
       "    </tr>\n",
       "  </tbody>\n",
       "</table>\n",
       "</div>"
      ],
      "text/plain": [
       "        date  ordersPerDateA  revenuePerDateA  ordersPerDateB  \\\n",
       "0 2019-08-01              23           142779              21   \n",
       "1 2019-08-02              19            91602              24   \n",
       "2 2019-08-03              24           112473              16   \n",
       "3 2019-08-04              11            41176              17   \n",
       "4 2019-08-05              22            86383              23   \n",
       "\n",
       "   revenuePerDateB  ordersCummulativeA  revenueCummulativeA  \\\n",
       "0           101217                  23               142779   \n",
       "1           165531                  42               234381   \n",
       "2           114248                  66               346854   \n",
       "3           108571                  77               388030   \n",
       "4            92428                  99               474413   \n",
       "\n",
       "   ordersCummulativeB  revenueCummulativeB  visitorsPerDateA  \\\n",
       "0                  21               101217               719   \n",
       "1                  45               266748               619   \n",
       "2                  61               380996               507   \n",
       "3                  78               489567               717   \n",
       "4                 101               581995               756   \n",
       "\n",
       "   visitorsPerDateB  visitorsCummulativeA  visitorsCummulativeB  \n",
       "0               713                   719                   713  \n",
       "1               581                  1338                  1294  \n",
       "2               509                  1845                  1803  \n",
       "3               770                  2562                  2573  \n",
       "4               707                  3318                  3280  "
      ]
     },
     "metadata": {},
     "output_type": "display_data"
    }
   ],
   "source": [
    "\n",
    "visitorsADaily = visitors[visitors['group'] == 'A'][['date', 'visitors']]\n",
    "visitorsADaily.columns = ['date', 'visitorsPerDateA']\n",
    "\n",
    "visitorsACummulative = visitorsADaily.apply(\n",
    "    lambda x: visitorsADaily[visitorsADaily['date'] <= x['date']].agg(\n",
    "        {'date': 'max', 'visitorsPerDateA': 'sum'}\n",
    "    ),\n",
    "    axis=1,\n",
    ")\n",
    "visitorsACummulative.columns = ['date', 'visitorsCummulativeA']\n",
    "\n",
    "visitorsBDaily = visitors[visitors['group'] == 'B'][['date', 'visitors']]\n",
    "visitorsBDaily.columns = ['date', 'visitorsPerDateB']\n",
    "\n",
    "visitorsBCummulative = visitorsBDaily.apply(\n",
    "    lambda x: visitorsBDaily[visitorsBDaily['date'] <= x['date']].agg(\n",
    "        {'date': 'max', 'visitorsPerDateB': 'sum'}\n",
    "    ),\n",
    "    axis=1,\n",
    ")\n",
    "visitorsBCummulative.columns = ['date', 'visitorsCummulativeB']\n",
    "\n",
    "ordersADaily = (\n",
    "    orders[orders['group'] == 'A'][['date', 'transactionid', 'visitorid', 'revenue']]\n",
    "    .groupby('date', as_index=False)\n",
    "    .agg({'transactionid': pd.Series.nunique, 'revenue': 'sum'})\n",
    ")\n",
    "ordersADaily.columns = ['date', 'ordersPerDateA', 'revenuePerDateA']\n",
    "\n",
    "ordersACummulative = ordersADaily.apply(\n",
    "    lambda x: ordersADaily[ordersADaily['date'] <= x['date']].agg(\n",
    "        {'date': 'max', 'ordersPerDateA': 'sum', 'revenuePerDateA': 'sum'}\n",
    "    ),\n",
    "    axis=1,\n",
    ").sort_values(by=['date'])\n",
    "ordersACummulative.columns = [\n",
    "    'date',\n",
    "    'ordersCummulativeA',\n",
    "    'revenueCummulativeA',\n",
    "]\n",
    "\n",
    "ordersBDaily = (\n",
    "    orders[orders['group'] == 'B'][['date', 'transactionid', 'visitorid', 'revenue']]\n",
    "    .groupby('date', as_index=False)\n",
    "    .agg({'transactionid': pd.Series.nunique, 'revenue': 'sum'})\n",
    ")\n",
    "ordersBDaily.columns = ['date', 'ordersPerDateB', 'revenuePerDateB']\n",
    "\n",
    "ordersBCummulative = ordersBDaily.apply(\n",
    "    lambda x: ordersBDaily[ordersBDaily['date'] <= x['date']].agg(\n",
    "        {'date': 'max', 'ordersPerDateB': 'sum', 'revenuePerDateB': 'sum'}\n",
    "    ),\n",
    "    axis=1,\n",
    ").sort_values(by=['date'])\n",
    "ordersBCummulative.columns = [\n",
    "    'date',\n",
    "    'ordersCummulativeB',\n",
    "    'revenueCummulativeB',\n",
    "]\n",
    "\n",
    "data = (\n",
    "    ordersADaily.merge(\n",
    "        ordersBDaily, left_on='date', right_on='date', how='left'\n",
    "    )\n",
    "    .merge(ordersACummulative, left_on='date', right_on='date', how='left')\n",
    "    .merge(ordersBCummulative, left_on='date', right_on='date', how='left')\n",
    "    .merge(visitorsADaily, left_on='date', right_on='date', how='left')\n",
    "    .merge(visitorsBDaily, left_on='date', right_on='date', how='left')\n",
    "    .merge(visitorsACummulative, left_on='date', right_on='date', how='left')\n",
    "    .merge(visitorsBCummulative, left_on='date', right_on='date', how='left')\n",
    ")\n",
    "\n",
    "display(data.head(5))"
   ]
  },
  {
   "cell_type": "markdown",
   "metadata": {},
   "source": [
    "Названия столбцов полученных данных:\n",
    "- date — дата;\n",
    "- ordersPerDateA — количество заказов в выбранную дату в группе A;\n",
    "- revenuePerDateA — суммарная выручка в выбранную дату в группе A;\n",
    "- ordersPerDateB — количество заказов в выбранную дату в группе B;\n",
    "- revenuePerDateB — суммарная выручка в выбранную дату в группе B;\n",
    "- ordersCummulativeA — суммарное число заказов до выбранной даты включительно в группе A;\n",
    "- revenueCummulativeA — суммарная выручка до выбранной даты включительно в группе A;\n",
    "- ordersCummulativeB — суммарное количество заказов до выбранной даты включительно в группе B;\n",
    "- revenueCummulativeB — суммарная выручка до выбранной даты включительно в группе B;\n",
    "- visitorsPerDateA — количество пользователей в выбранную дату в группе A;\n",
    "- visitorsPerDateB — количество пользователей в выбранную дату в группе B;\n",
    "- visitorsCummulativeA — количество пользователей до выбранной даты включительно в группе A;\n",
    "- visitorsCummulativeB — количество пользователей до выбранной даты включительно в группе B."
   ]
  },
  {
   "cell_type": "markdown",
   "metadata": {},
   "source": [
    "##### Создадим переменные ordersByUsersA и ordersByUsersB со столбцами ['visitorid, 'orders'], где для пользователей, совершивших хотя бы 1 заказ, будет указано число заказов."
   ]
  },
  {
   "cell_type": "code",
   "execution_count": 22,
   "metadata": {},
   "outputs": [],
   "source": [
    "ordersByUsersA = (\n",
    "    orders[orders['group'] == 'A']\n",
    "    .groupby('visitorid', as_index=False)\n",
    "    .agg({'transactionid': pd.Series.nunique})\n",
    ")\n",
    "ordersByUsersA.columns = ['visitorid', 'orders']\n",
    "\n",
    "ordersByUsersB = (\n",
    "    orders[orders['group'] == 'B']\n",
    "    .groupby('visitorid', as_index=False)\n",
    "    .agg({'transactionid': pd.Series.nunique})\n",
    ")\n",
    "ordersByUsersB.columns = ['visitorid', 'orders']\n"
   ]
  },
  {
   "cell_type": "markdown",
   "metadata": {},
   "source": [
    "##### Объявим переменные sampleA и sampleB, в которых пользователям с заказами будет соответствовать число заказов пользователя. А пользователям без заказов — нули"
   ]
  },
  {
   "cell_type": "code",
   "execution_count": 23,
   "metadata": {},
   "outputs": [],
   "source": [
    "sampleA = pd.concat([ordersByUsersA['orders'],pd.Series(0, index=np.arange(data['visitorsPerDateA'].sum() - len(ordersByUsersA['orders'])), name='orders')],axis=0)\n",
    "sampleB = pd.concat([ordersByUsersB['orders'],pd.Series(0, index=np.arange(data['visitorsPerDateB'].sum() - len(ordersByUsersB['orders'])), name='orders')],axis=0)"
   ]
  },
  {
   "cell_type": "markdown",
   "metadata": {},
   "source": [
    "##### Применим тест Манна-Уитни."
   ]
  },
  {
   "cell_type": "markdown",
   "metadata": {},
   "source": [
    "Сформулируем гипотезы:\n",
    "- H0: Конверсия в группе A равна конверсии в группе B\n",
    "- H1: Конверсия в группе A НЕ равна конверсии в группе B"
   ]
  },
  {
   "cell_type": "code",
   "execution_count": 24,
   "metadata": {},
   "outputs": [
    {
     "name": "stdout",
     "output_type": "stream",
     "text": [
      "p-value 0.00002\n",
      "относительное различие в конверсии 0.355\n"
     ]
    }
   ],
   "source": [
    "print( 'p-value',\"{0:.5f}\".format(st.mannwhitneyu(sampleA, sampleB)[1], alternative='two-sided'))     \n",
    "print('относительное различие в конверсии',\"{0:.3f}\".format((data['ordersPerDateB'].sum()/data['visitorsPerDateB'].sum())/(data['ordersPerDateA'].sum()/data['visitorsPerDateA'].sum())-1))"
   ]
  },
  {
   "cell_type": "markdown",
   "metadata": {},
   "source": [
    "Вывод: \n",
    "- p-value значительно меньше 0,05\n",
    "- Значит, нулевую гипотезу отвергаем, статистически значимые различия есть.\n",
    "- Относительный прирост коверсии группы В к группе А рвен 35,5%"
   ]
  },
  {
   "cell_type": "markdown",
   "metadata": {},
   "source": [
    "#### Посчитаем статистическую значимость различий в среднем чеке заказа между группами по «сырым» данным."
   ]
  },
  {
   "cell_type": "markdown",
   "metadata": {},
   "source": [
    "Сформулируем гипотезы:\n",
    "- H0: Средний чек группы A НЕ превосходит среднему чеку группы B\n",
    "- H1: Средний чек группы A превосходит среднему чеку группы B"
   ]
  },
  {
   "cell_type": "code",
   "execution_count": 25,
   "metadata": {},
   "outputs": [
    {
     "name": "stdout",
     "output_type": "stream",
     "text": [
      "p-value 0.765\n",
      "относительный прирост среднего чека группы B: 0.284\n"
     ]
    }
   ],
   "source": [
    "print('p-value','{0:.3f}'.format(st.mannwhitneyu(orders[orders['group']=='A']['revenue'], orders[orders['group']=='B']['revenue'])[1], alternative='two-sided',))\n",
    "print('относительный прирост среднего чека группы B:', '{0:.3f}'.format(orders[orders['group']=='B']['revenue'].mean()/orders[orders['group']=='A']['revenue'].mean()-1))"
   ]
  },
  {
   "cell_type": "markdown",
   "metadata": {},
   "source": [
    "Вывод:\n",
    "- P-value значительно больше 0.05.\n",
    "- Значит нулевую гипотезу не отвергаем, статстически значимых отличий в реднем чеке между группами, нет. \n",
    "- Средний чек группы B значительно выше среднего чека группы A на 28,4%\n",
    "\n",
    "Приступим к анализу аномалий"
   ]
  },
  {
   "cell_type": "markdown",
   "metadata": {},
   "source": [
    "#### Посчитаем статистическую значимость различий в конверсии между группами по «очищенным» данным."
   ]
  },
  {
   "cell_type": "markdown",
   "metadata": {},
   "source": [
    "Выше мы нашли границы аномалий:\n",
    "Для 99-й перцентили стоимости заказа 56 457.78 рубля. \n",
    "Для 99-й перцентили числа заказов на одного пользователя 3.\n",
    "Соответсвенно отсеем пользователей совершивших 3 заказа и более, или совершил заказ на сумму свыше 56 457.78"
   ]
  },
  {
   "cell_type": "code",
   "execution_count": 26,
   "metadata": {},
   "outputs": [
    {
     "name": "stdout",
     "output_type": "stream",
     "text": [
      "1099     148427295\n",
      "949      887908475\n",
      "744      888512513\n",
      "1103    1164614297\n",
      "1136    1307669133\n",
      "Name: visitorid, dtype: int64\n",
      "(16,)\n"
     ]
    }
   ],
   "source": [
    "usersWithManyOrders = pd.concat(\n",
    "    [\n",
    "        ordersByUsersA[ordersByUsersA['orders'] > 3]['visitorid'],\n",
    "        ordersByUsersB[ordersByUsersB['orders'] > 3]['visitorid'],\n",
    "    ],\n",
    "    axis=0,\n",
    ")\n",
    "usersWithExpensiveOrders = orders[orders['revenue'] > 56457.78]['visitorid']\n",
    "abnormalUsers = (\n",
    "    pd.concat([usersWithManyOrders, usersWithExpensiveOrders], axis=0)\n",
    "    .drop_duplicates()\n",
    "    .sort_values()\n",
    ")\n",
    "print(abnormalUsers.head(5))\n",
    "print(abnormalUsers.shape)"
   ]
  },
  {
   "cell_type": "markdown",
   "metadata": {},
   "source": [
    "Всего 16 аномальных пользователей."
   ]
  },
  {
   "cell_type": "code",
   "execution_count": 27,
   "metadata": {},
   "outputs": [],
   "source": [
    "# Сначала подготовим выборки количества заказов по пользователям по группам теста\n",
    "sampleAFiltered = pd.concat(\n",
    "    [\n",
    "        ordersByUsersA[\n",
    "            np.logical_not(ordersByUsersA['visitorid'].isin(abnormalUsers))\n",
    "        ]['orders'],\n",
    "        pd.Series(\n",
    "            0,\n",
    "            index=np.arange(\n",
    "                data['visitorsPerDateA'].sum() - len(ordersByUsersA['orders'])\n",
    "            ),\n",
    "            name='orders',\n",
    "        ),\n",
    "    ],\n",
    "    axis=0,\n",
    ")\n",
    "\n",
    "sampleBFiltered = pd.concat(\n",
    "    [\n",
    "        ordersByUsersB[\n",
    "            np.logical_not(ordersByUsersB['visitorid'].isin(abnormalUsers))\n",
    "        ]['orders'],\n",
    "        pd.Series(\n",
    "            0,\n",
    "            index=np.arange(\n",
    "                data['visitorsPerDateB'].sum() - len(ordersByUsersB['orders'])\n",
    "            ),\n",
    "            name='orders',\n",
    "        ),\n",
    "    ],\n",
    "    axis=0,\n",
    ")"
   ]
  },
  {
   "cell_type": "markdown",
   "metadata": {},
   "source": [
    "Применим статистический критерий Манна-Уитни к полученным выборкам:"
   ]
  },
  {
   "cell_type": "markdown",
   "metadata": {},
   "source": [
    "Сформулируем гипотезы:\n",
    "- H0: Конверсия в группе A равна конверсии в группе B\n",
    "- H1: Конверсия в группе A НЕ равна конверсии в группе B"
   ]
  },
  {
   "cell_type": "code",
   "execution_count": 28,
   "metadata": {},
   "outputs": [
    {
     "name": "stdout",
     "output_type": "stream",
     "text": [
      "p-value 0.00003\n",
      "относительное различие в конверсии 0.301\n"
     ]
    }
   ],
   "source": [
    "print('p-value','{0:.5f}'.format(st.mannwhitneyu(sampleAFiltered, sampleBFiltered)[1], alternative='two-sided',))\n",
    "print('относительное различие в конверсии','{0:.3f}'.format(sampleBFiltered.mean()/sampleAFiltered.mean()-1))"
   ]
  },
  {
   "cell_type": "markdown",
   "metadata": {},
   "source": [
    "Вывод: Результаты по конверсии практически не изменились, значит нулевую гипотезу снова отвергаем, конверсии групп не равны"
   ]
  },
  {
   "cell_type": "markdown",
   "metadata": {},
   "source": [
    "#### Посчитаем статистическую значимость различий в среднем чеке заказа между группами по \"очищенным» данным\". "
   ]
  },
  {
   "cell_type": "markdown",
   "metadata": {},
   "source": [
    "Сформулируем гипотезы:\n",
    "- H0: Средний чек группы A НЕ превосходит среднему чеку группы B\n",
    "- H1: Средний чек группы A превосходит среднему чеку группы B"
   ]
  },
  {
   "cell_type": "code",
   "execution_count": 29,
   "metadata": {},
   "outputs": [
    {
     "name": "stdout",
     "output_type": "stream",
     "text": [
      "p-value 0.92438\n",
      "относительный прирост среднего чека группы B: -0.021\n"
     ]
    }
   ],
   "source": [
    "print('p-value',\n",
    "    '{0:.5f}'.format(\n",
    "        st.mannwhitneyu(\n",
    "            orders[\n",
    "                np.logical_and(\n",
    "                    orders['group'] == 'A',\n",
    "                    np.logical_not(orders['visitorid'].isin(abnormalUsers)),\n",
    "                )\n",
    "            ]['revenue'],\n",
    "            orders[\n",
    "                np.logical_and(\n",
    "                    orders['group'] == 'B',\n",
    "                    np.logical_not(orders['visitorid'].isin(abnormalUsers)),\n",
    "                )\n",
    "            ]['revenue'],\n",
    "        alternative='two-sided')[1]\n",
    "    )\n",
    ")\n",
    "\n",
    "print('относительный прирост среднего чека группы B:',\n",
    "    \"{0:.3f}\".format(\n",
    "        orders[\n",
    "            np.logical_and(\n",
    "                orders['group'] == 'B',\n",
    "                np.logical_not(orders['visitorid'].isin(abnormalUsers)),\n",
    "            )\n",
    "        ]['revenue'].mean()\n",
    "        / orders[\n",
    "            np.logical_and(\n",
    "                orders['group'] == 'A',\n",
    "                np.logical_not(orders['visitorid'].isin(abnormalUsers)),\n",
    "            )\n",
    "        ]['revenue'].mean()\n",
    "        - 1\n",
    "    )\n",
    ")"
   ]
  },
  {
   "cell_type": "markdown",
   "metadata": {},
   "source": [
    "Вывод: \n",
    "- P-value увеличился, но и разница между сегментами изменилась.\n",
    "- Значит нулевую гипотезу не отвергаем, статстически значимых отличий в реднем чеке между группами, нет. \n",
    "- Средний чек группы B ниже среднего чека группы A на 2,1%"
   ]
  },
  {
   "cell_type": "markdown",
   "metadata": {},
   "source": [
    "### Результаты теста"
   ]
  },
  {
   "cell_type": "markdown",
   "metadata": {},
   "source": [
    "1. В первой части проекта мы провели приоритезацию 9-ти гипотез по увеличению выручки интернет-магазина. С помощью двух фреймворков ICE и RICE мы получили разные приоритеты. Все дело в параметре reach (скольких пользователей затронет изменение, которое мы хотим внести).В нашем случае охват важен и  наиболее  приоритетными гипотезами будут:\n",
    "- \"Добавить форму подписки на все основные страницы, чтобы собрать базу клиентов для email-рассылок\" на первом месте в приоритезации.\n",
    "- \"Добавить блоки рекомендаций товаров на сайт интернет магазина, чтобы повысить конверсию и средний чек заказа\" второе место.\n",
    "2. Во второй части проекта мы провели анализ данных, проведенного А/В теста:\n",
    "- В ходе предобработки данных, были выявлены пользователи вошедшие в обе группы теста и были удалены.\n",
    "- График различия среднего чека говорит о том, что результаты группы B лучше, где то на 28%\n",
    "- График различия конверсии между группами сообщает, что результаты группы B лучше группы A и нет значительной тенденции к ухудшению;\n",
    "- При подсчете статистической значимости среднего чека с помощью теста Манна-Уитни по \"сырым\" и по \"очищенным\" данным различия групп A и B отстутствуют, несмотря на то, что средний чек группы B оказался незначительно на 2,1% ниже среднего чека группы A по \"очищенным\" данным, в то время как по \"сырым\" данным, он был больше на 35,5%, - и всё это из-за одного аномального заказа на 1,2 млн. \n",
    "- При подсчете статистической значимости в конверсии с помощью теста Манна-Уитни по \"сырым\" и по \"очищенным\" данным групп A и B показал,что статистически значимые различия есть.\n",
    "\n",
    "Исходя из выше сказанного считаю, что можно принять решение остановить тестирование и признать его успешным: группа B значительно лучше группы A по конверсии, хотя по среднему чеку группы примерно равны."
   ]
  }
 ],
 "metadata": {
  "ExecuteTimeLog": [
   {
    "duration": 1219,
    "start_time": "2022-02-22T06:23:47.858Z"
   },
   {
    "duration": 3,
    "start_time": "2022-02-22T06:24:09.614Z"
   },
   {
    "duration": 48,
    "start_time": "2022-02-22T06:24:38.871Z"
   },
   {
    "duration": 66,
    "start_time": "2022-02-22T06:31:03.090Z"
   },
   {
    "duration": 71,
    "start_time": "2022-02-22T06:32:25.151Z"
   },
   {
    "duration": 59,
    "start_time": "2022-02-22T06:32:49.085Z"
   },
   {
    "duration": 57,
    "start_time": "2022-02-22T06:33:08.412Z"
   },
   {
    "duration": 313,
    "start_time": "2022-02-22T06:36:59.616Z"
   },
   {
    "duration": 10,
    "start_time": "2022-02-22T06:38:16.425Z"
   },
   {
    "duration": 20,
    "start_time": "2022-02-22T06:38:52.450Z"
   },
   {
    "duration": 188,
    "start_time": "2022-02-22T06:55:01.545Z"
   },
   {
    "duration": 6,
    "start_time": "2022-02-22T06:55:20.962Z"
   },
   {
    "duration": 16,
    "start_time": "2022-02-22T06:55:48.087Z"
   },
   {
    "duration": 14,
    "start_time": "2022-02-22T06:56:27.067Z"
   },
   {
    "duration": 14,
    "start_time": "2022-02-22T07:00:12.285Z"
   },
   {
    "duration": 7,
    "start_time": "2022-02-22T07:00:25.998Z"
   },
   {
    "duration": 6,
    "start_time": "2022-02-22T07:00:28.499Z"
   },
   {
    "duration": 6,
    "start_time": "2022-02-22T07:25:37.359Z"
   },
   {
    "duration": 11,
    "start_time": "2022-02-22T07:26:46.016Z"
   },
   {
    "duration": 182,
    "start_time": "2022-02-22T07:34:25.523Z"
   },
   {
    "duration": 5,
    "start_time": "2022-02-22T07:34:44.393Z"
   },
   {
    "duration": 221,
    "start_time": "2022-02-22T07:38:32.834Z"
   },
   {
    "duration": 221,
    "start_time": "2022-02-22T07:39:36.877Z"
   },
   {
    "duration": 207,
    "start_time": "2022-02-22T07:40:56.948Z"
   },
   {
    "duration": 11,
    "start_time": "2022-02-22T07:42:29.197Z"
   },
   {
    "duration": 9,
    "start_time": "2022-02-22T07:42:56.429Z"
   },
   {
    "duration": 13,
    "start_time": "2022-02-22T07:43:06.365Z"
   },
   {
    "duration": 11,
    "start_time": "2022-02-22T07:43:24.830Z"
   },
   {
    "duration": 4,
    "start_time": "2022-02-22T07:43:42.494Z"
   },
   {
    "duration": 2,
    "start_time": "2022-02-22T07:43:42.733Z"
   },
   {
    "duration": 50,
    "start_time": "2022-02-22T07:43:42.927Z"
   },
   {
    "duration": 14,
    "start_time": "2022-02-22T07:43:43.120Z"
   },
   {
    "duration": 14,
    "start_time": "2022-02-22T07:43:43.324Z"
   },
   {
    "duration": 13,
    "start_time": "2022-02-22T07:43:43.540Z"
   },
   {
    "duration": 9,
    "start_time": "2022-02-22T07:43:43.744Z"
   },
   {
    "duration": 12,
    "start_time": "2022-02-22T07:43:46.116Z"
   },
   {
    "duration": 7,
    "start_time": "2022-02-22T07:44:36.390Z"
   },
   {
    "duration": 953,
    "start_time": "2022-02-22T07:44:42.053Z"
   },
   {
    "duration": 12,
    "start_time": "2022-02-22T07:44:53.246Z"
   },
   {
    "duration": 8,
    "start_time": "2022-02-22T07:45:41.439Z"
   },
   {
    "duration": 14,
    "start_time": "2022-02-22T07:45:43.370Z"
   },
   {
    "duration": 7,
    "start_time": "2022-02-22T07:46:51.040Z"
   },
   {
    "duration": 14,
    "start_time": "2022-02-22T07:47:52.689Z"
   },
   {
    "duration": 5,
    "start_time": "2022-02-22T07:48:19.136Z"
   },
   {
    "duration": 3,
    "start_time": "2022-02-22T07:48:19.315Z"
   },
   {
    "duration": 44,
    "start_time": "2022-02-22T07:48:19.486Z"
   },
   {
    "duration": 15,
    "start_time": "2022-02-22T07:48:19.659Z"
   },
   {
    "duration": 16,
    "start_time": "2022-02-22T07:48:19.812Z"
   },
   {
    "duration": 15,
    "start_time": "2022-02-22T07:48:19.976Z"
   },
   {
    "duration": 8,
    "start_time": "2022-02-22T07:48:20.147Z"
   },
   {
    "duration": 11,
    "start_time": "2022-02-22T07:48:20.488Z"
   },
   {
    "duration": 12,
    "start_time": "2022-02-22T07:48:21.959Z"
   },
   {
    "duration": 5238,
    "start_time": "2022-02-22T08:24:39.306Z"
   },
   {
    "duration": 544,
    "start_time": "2022-02-22T08:25:03.169Z"
   },
   {
    "duration": 319,
    "start_time": "2022-02-22T08:25:32.577Z"
   },
   {
    "duration": 408,
    "start_time": "2022-02-22T08:47:04.483Z"
   },
   {
    "duration": 5,
    "start_time": "2022-02-22T08:48:06.125Z"
   },
   {
    "duration": 3,
    "start_time": "2022-02-22T08:48:06.319Z"
   },
   {
    "duration": 58,
    "start_time": "2022-02-22T08:48:06.475Z"
   },
   {
    "duration": 16,
    "start_time": "2022-02-22T08:48:06.665Z"
   },
   {
    "duration": 16,
    "start_time": "2022-02-22T08:48:06.826Z"
   },
   {
    "duration": 16,
    "start_time": "2022-02-22T08:48:06.974Z"
   },
   {
    "duration": 8,
    "start_time": "2022-02-22T08:48:07.130Z"
   },
   {
    "duration": 14,
    "start_time": "2022-02-22T08:48:07.471Z"
   },
   {
    "duration": 12,
    "start_time": "2022-02-22T08:48:07.859Z"
   },
   {
    "duration": 352,
    "start_time": "2022-02-22T08:48:10.476Z"
   },
   {
    "duration": 441,
    "start_time": "2022-02-22T08:48:15.386Z"
   },
   {
    "duration": 362,
    "start_time": "2022-02-22T08:52:26.164Z"
   },
   {
    "duration": 362,
    "start_time": "2022-02-22T08:53:03.237Z"
   },
   {
    "duration": 382,
    "start_time": "2022-02-22T08:53:10.132Z"
   },
   {
    "duration": 347,
    "start_time": "2022-02-22T09:36:35.342Z"
   },
   {
    "duration": 370,
    "start_time": "2022-02-22T09:36:35.766Z"
   },
   {
    "duration": 466,
    "start_time": "2022-02-22T09:48:07.521Z"
   },
   {
    "duration": 352,
    "start_time": "2022-02-22T09:50:47.650Z"
   },
   {
    "duration": 349,
    "start_time": "2022-02-22T10:03:34.590Z"
   },
   {
    "duration": 367,
    "start_time": "2022-02-22T10:04:40.375Z"
   },
   {
    "duration": 357,
    "start_time": "2022-02-22T10:04:54.494Z"
   },
   {
    "duration": 487,
    "start_time": "2022-02-22T10:07:10.064Z"
   },
   {
    "duration": 391,
    "start_time": "2022-02-22T10:13:51.078Z"
   },
   {
    "duration": 81,
    "start_time": "2022-02-22T10:23:17.070Z"
   },
   {
    "duration": 505,
    "start_time": "2022-02-22T10:23:30.845Z"
   },
   {
    "duration": 447,
    "start_time": "2022-02-22T10:24:13.782Z"
   },
   {
    "duration": 491,
    "start_time": "2022-02-22T10:29:38.732Z"
   },
   {
    "duration": 212,
    "start_time": "2022-02-22T10:36:34.494Z"
   },
   {
    "duration": 157,
    "start_time": "2022-02-22T10:37:14.120Z"
   },
   {
    "duration": 449,
    "start_time": "2022-02-22T10:40:46.452Z"
   },
   {
    "duration": 528,
    "start_time": "2022-02-22T10:41:02.972Z"
   },
   {
    "duration": 5,
    "start_time": "2022-02-22T10:47:12.426Z"
   },
   {
    "duration": 9,
    "start_time": "2022-02-22T11:03:01.275Z"
   },
   {
    "duration": 484,
    "start_time": "2022-02-22T11:09:49.765Z"
   },
   {
    "duration": 7,
    "start_time": "2022-02-22T11:15:43.336Z"
   },
   {
    "duration": 338,
    "start_time": "2022-02-22T11:28:38.857Z"
   },
   {
    "duration": 284,
    "start_time": "2022-02-22T11:30:55.637Z"
   },
   {
    "duration": 493,
    "start_time": "2022-02-22T11:33:14.340Z"
   },
   {
    "duration": 288,
    "start_time": "2022-02-22T11:33:23.940Z"
   },
   {
    "duration": 257,
    "start_time": "2022-02-22T11:45:17.272Z"
   },
   {
    "duration": 115,
    "start_time": "2022-02-22T11:45:35.205Z"
   },
   {
    "duration": 6,
    "start_time": "2022-02-22T11:45:36.215Z"
   },
   {
    "duration": 8,
    "start_time": "2022-02-22T11:45:37.701Z"
   },
   {
    "duration": 8,
    "start_time": "2022-02-22T11:47:16.287Z"
   },
   {
    "duration": 7,
    "start_time": "2022-02-22T11:48:05.369Z"
   },
   {
    "duration": 272,
    "start_time": "2022-02-22T11:49:14.421Z"
   },
   {
    "duration": 115,
    "start_time": "2022-02-22T11:49:14.944Z"
   },
   {
    "duration": 6,
    "start_time": "2022-02-22T11:49:15.277Z"
   },
   {
    "duration": 8,
    "start_time": "2022-02-22T11:49:16.816Z"
   },
   {
    "duration": 13,
    "start_time": "2022-02-22T16:13:56.028Z"
   },
   {
    "duration": 12,
    "start_time": "2022-02-22T16:15:29.302Z"
   },
   {
    "duration": 59,
    "start_time": "2022-02-22T16:36:07.659Z"
   },
   {
    "duration": 56,
    "start_time": "2022-02-22T16:36:23.144Z"
   },
   {
    "duration": 63,
    "start_time": "2022-02-22T16:36:39.809Z"
   },
   {
    "duration": 15,
    "start_time": "2022-02-22T16:36:50.856Z"
   },
   {
    "duration": 9,
    "start_time": "2022-02-22T16:40:00.806Z"
   },
   {
    "duration": 7,
    "start_time": "2022-02-22T16:40:46.413Z"
   },
   {
    "duration": 7,
    "start_time": "2022-02-22T16:41:21.693Z"
   },
   {
    "duration": 8,
    "start_time": "2022-02-22T16:42:37.949Z"
   },
   {
    "duration": 15,
    "start_time": "2022-02-22T16:46:48.617Z"
   },
   {
    "duration": 1205,
    "start_time": "2022-02-22T18:45:13.499Z"
   },
   {
    "duration": 3,
    "start_time": "2022-02-22T18:45:14.706Z"
   },
   {
    "duration": 42,
    "start_time": "2022-02-22T18:45:14.713Z"
   },
   {
    "duration": 22,
    "start_time": "2022-02-22T18:45:14.757Z"
   },
   {
    "duration": 15,
    "start_time": "2022-02-22T18:45:14.781Z"
   },
   {
    "duration": 12,
    "start_time": "2022-02-22T18:45:14.798Z"
   },
   {
    "duration": 23,
    "start_time": "2022-02-22T18:45:14.812Z"
   },
   {
    "duration": 16,
    "start_time": "2022-02-22T18:45:14.839Z"
   },
   {
    "duration": 17,
    "start_time": "2022-02-22T18:45:14.857Z"
   },
   {
    "duration": 383,
    "start_time": "2022-02-22T18:45:14.876Z"
   },
   {
    "duration": 388,
    "start_time": "2022-02-22T18:45:15.261Z"
   },
   {
    "duration": 377,
    "start_time": "2022-02-22T18:45:15.652Z"
   },
   {
    "duration": 502,
    "start_time": "2022-02-22T18:45:16.031Z"
   },
   {
    "duration": 431,
    "start_time": "2022-02-22T18:45:16.535Z"
   },
   {
    "duration": 477,
    "start_time": "2022-02-22T18:45:16.968Z"
   },
   {
    "duration": 148,
    "start_time": "2022-02-22T18:45:17.447Z"
   },
   {
    "duration": 467,
    "start_time": "2022-02-22T18:45:17.597Z"
   },
   {
    "duration": 6,
    "start_time": "2022-02-22T18:45:18.066Z"
   },
   {
    "duration": 543,
    "start_time": "2022-02-22T18:45:18.074Z"
   },
   {
    "duration": 11,
    "start_time": "2022-02-22T18:45:18.619Z"
   },
   {
    "duration": 287,
    "start_time": "2022-02-22T18:45:18.632Z"
   },
   {
    "duration": 151,
    "start_time": "2022-02-22T18:45:18.921Z"
   },
   {
    "duration": 5,
    "start_time": "2022-02-22T18:45:19.074Z"
   },
   {
    "duration": 8,
    "start_time": "2022-02-22T18:45:19.081Z"
   },
   {
    "duration": 9,
    "start_time": "2022-02-22T18:45:19.090Z"
   },
   {
    "duration": 33,
    "start_time": "2022-02-22T18:45:19.102Z"
   },
   {
    "duration": 11,
    "start_time": "2022-02-22T18:45:19.138Z"
   },
   {
    "duration": 7,
    "start_time": "2022-02-22T18:45:19.150Z"
   },
   {
    "duration": 14,
    "start_time": "2022-02-22T18:45:19.159Z"
   },
   {
    "duration": 121,
    "start_time": "2022-02-22T19:14:12.651Z"
   },
   {
    "duration": 62,
    "start_time": "2022-02-22T19:20:09.667Z"
   },
   {
    "duration": 220,
    "start_time": "2022-02-22T19:32:24.979Z"
   },
   {
    "duration": 210,
    "start_time": "2022-02-22T19:32:45.338Z"
   },
   {
    "duration": 209,
    "start_time": "2022-02-22T19:32:45.697Z"
   },
   {
    "duration": 195,
    "start_time": "2022-02-22T19:32:46.122Z"
   },
   {
    "duration": 1125,
    "start_time": "2022-02-22T19:33:00.408Z"
   },
   {
    "duration": 3,
    "start_time": "2022-02-22T19:33:03.172Z"
   },
   {
    "duration": 40,
    "start_time": "2022-02-22T19:33:04.016Z"
   },
   {
    "duration": 22,
    "start_time": "2022-02-22T19:33:04.489Z"
   },
   {
    "duration": 254,
    "start_time": "2022-02-22T19:33:05.039Z"
   },
   {
    "duration": 14,
    "start_time": "2022-02-22T19:33:06.112Z"
   },
   {
    "duration": 8,
    "start_time": "2022-02-22T19:33:07.127Z"
   },
   {
    "duration": 4484,
    "start_time": "2022-02-22T19:33:22.597Z"
   },
   {
    "duration": 196,
    "start_time": "2022-02-22T19:33:40.959Z"
   },
   {
    "duration": 205,
    "start_time": "2022-02-22T19:34:23.578Z"
   },
   {
    "duration": 19,
    "start_time": "2022-02-22T19:34:32.981Z"
   },
   {
    "duration": 15,
    "start_time": "2022-02-22T19:34:58.389Z"
   },
   {
    "duration": 17,
    "start_time": "2022-02-22T19:54:45.043Z"
   },
   {
    "duration": 64,
    "start_time": "2022-02-22T19:58:25.839Z"
   },
   {
    "duration": 198,
    "start_time": "2022-02-22T19:58:43.737Z"
   },
   {
    "duration": 219,
    "start_time": "2022-02-22T19:59:12.050Z"
   },
   {
    "duration": 4,
    "start_time": "2022-02-22T19:59:33.713Z"
   },
   {
    "duration": 4490,
    "start_time": "2022-02-22T20:02:36.626Z"
   },
   {
    "duration": 236,
    "start_time": "2022-02-22T20:02:53.701Z"
   },
   {
    "duration": 196,
    "start_time": "2022-02-22T20:03:03.100Z"
   },
   {
    "duration": 173,
    "start_time": "2022-02-22T20:03:59.459Z"
   },
   {
    "duration": 7,
    "start_time": "2022-02-22T20:04:20.629Z"
   },
   {
    "duration": 6,
    "start_time": "2022-02-22T20:12:25.655Z"
   },
   {
    "duration": 14,
    "start_time": "2022-02-22T20:14:30.284Z"
   },
   {
    "duration": 209,
    "start_time": "2022-02-22T20:15:04.330Z"
   },
   {
    "duration": 5,
    "start_time": "2022-02-22T20:15:53.999Z"
   },
   {
    "duration": 3,
    "start_time": "2022-02-22T20:15:54.620Z"
   },
   {
    "duration": 42,
    "start_time": "2022-02-22T20:15:54.873Z"
   },
   {
    "duration": 14,
    "start_time": "2022-02-22T20:15:55.087Z"
   },
   {
    "duration": 182,
    "start_time": "2022-02-22T20:15:55.306Z"
   },
   {
    "duration": 14,
    "start_time": "2022-02-22T20:15:56.710Z"
   },
   {
    "duration": 8,
    "start_time": "2022-02-22T20:15:58.181Z"
   },
   {
    "duration": 6,
    "start_time": "2022-02-22T20:16:17.188Z"
   },
   {
    "duration": 3,
    "start_time": "2022-02-22T20:16:17.743Z"
   },
   {
    "duration": 41,
    "start_time": "2022-02-22T20:16:17.924Z"
   },
   {
    "duration": 14,
    "start_time": "2022-02-22T20:16:18.113Z"
   },
   {
    "duration": 269,
    "start_time": "2022-02-22T20:16:18.299Z"
   },
   {
    "duration": -1146,
    "start_time": "2022-02-22T20:16:19.716Z"
   },
   {
    "duration": 8,
    "start_time": "2022-02-22T20:16:18.672Z"
   },
   {
    "duration": 5,
    "start_time": "2022-02-22T20:17:01.726Z"
   },
   {
    "duration": 3,
    "start_time": "2022-02-22T20:17:02.267Z"
   },
   {
    "duration": 39,
    "start_time": "2022-02-22T20:17:02.448Z"
   },
   {
    "duration": 14,
    "start_time": "2022-02-22T20:17:02.626Z"
   },
   {
    "duration": 27,
    "start_time": "2022-02-22T20:17:02.814Z"
   },
   {
    "duration": 13,
    "start_time": "2022-02-22T20:17:03.016Z"
   },
   {
    "duration": 7,
    "start_time": "2022-02-22T20:17:03.212Z"
   },
   {
    "duration": 238,
    "start_time": "2022-02-22T20:18:20.673Z"
   },
   {
    "duration": 4,
    "start_time": "2022-02-22T20:18:38.951Z"
   },
   {
    "duration": 3,
    "start_time": "2022-02-22T20:18:39.515Z"
   },
   {
    "duration": 38,
    "start_time": "2022-02-22T20:18:39.728Z"
   },
   {
    "duration": 14,
    "start_time": "2022-02-22T20:18:39.967Z"
   },
   {
    "duration": 24,
    "start_time": "2022-02-22T20:18:40.203Z"
   },
   {
    "duration": 14,
    "start_time": "2022-02-22T20:18:40.403Z"
   },
   {
    "duration": 4,
    "start_time": "2022-02-22T20:24:33.448Z"
   },
   {
    "duration": 3,
    "start_time": "2022-02-22T20:24:34.021Z"
   },
   {
    "duration": 43,
    "start_time": "2022-02-22T20:24:34.192Z"
   },
   {
    "duration": 15,
    "start_time": "2022-02-22T20:24:34.402Z"
   },
   {
    "duration": 15,
    "start_time": "2022-02-22T20:24:34.602Z"
   },
   {
    "duration": 18,
    "start_time": "2022-02-22T20:24:34.796Z"
   },
   {
    "duration": 187,
    "start_time": "2022-02-22T20:24:35.228Z"
   },
   {
    "duration": 5,
    "start_time": "2022-02-22T20:25:03.809Z"
   },
   {
    "duration": 4,
    "start_time": "2022-02-22T20:25:04.378Z"
   },
   {
    "duration": 38,
    "start_time": "2022-02-22T20:25:04.584Z"
   },
   {
    "duration": 17,
    "start_time": "2022-02-22T20:25:04.780Z"
   },
   {
    "duration": 18,
    "start_time": "2022-02-22T20:25:04.967Z"
   },
   {
    "duration": 16,
    "start_time": "2022-02-22T20:25:05.159Z"
   },
   {
    "duration": 16,
    "start_time": "2022-02-22T20:25:05.338Z"
   },
   {
    "duration": 12,
    "start_time": "2022-02-22T20:25:16.851Z"
   },
   {
    "duration": 4,
    "start_time": "2022-02-22T20:25:41.194Z"
   },
   {
    "duration": 3,
    "start_time": "2022-02-22T20:25:42.243Z"
   },
   {
    "duration": 41,
    "start_time": "2022-02-22T20:25:42.248Z"
   },
   {
    "duration": 14,
    "start_time": "2022-02-22T20:25:42.291Z"
   },
   {
    "duration": 17,
    "start_time": "2022-02-22T20:25:42.306Z"
   },
   {
    "duration": 12,
    "start_time": "2022-02-22T20:25:42.441Z"
   },
   {
    "duration": 15,
    "start_time": "2022-02-22T20:25:42.632Z"
   },
   {
    "duration": 11,
    "start_time": "2022-02-22T20:25:44.584Z"
   },
   {
    "duration": 11,
    "start_time": "2022-02-22T20:26:49.112Z"
   },
   {
    "duration": 554,
    "start_time": "2022-02-22T20:32:44.399Z"
   },
   {
    "duration": 176,
    "start_time": "2022-02-22T20:35:23.573Z"
   },
   {
    "duration": 179,
    "start_time": "2022-02-22T20:35:48.592Z"
   },
   {
    "duration": 203,
    "start_time": "2022-02-22T20:36:06.202Z"
   },
   {
    "duration": 42,
    "start_time": "2022-02-22T20:36:23.435Z"
   },
   {
    "duration": 180,
    "start_time": "2022-02-22T20:37:36.252Z"
   },
   {
    "duration": 173,
    "start_time": "2022-02-22T20:37:45.535Z"
   },
   {
    "duration": 19,
    "start_time": "2022-02-22T20:44:55.752Z"
   },
   {
    "duration": 186,
    "start_time": "2022-02-22T20:47:06.628Z"
   },
   {
    "duration": 29,
    "start_time": "2022-02-22T20:47:47.246Z"
   },
   {
    "duration": 25,
    "start_time": "2022-02-22T20:48:15.286Z"
   },
   {
    "duration": 62,
    "start_time": "2022-02-22T20:51:24.894Z"
   },
   {
    "duration": 173,
    "start_time": "2022-02-22T20:51:34.367Z"
   },
   {
    "duration": 19,
    "start_time": "2022-02-22T20:55:02.093Z"
   },
   {
    "duration": 18,
    "start_time": "2022-02-22T20:56:03.344Z"
   },
   {
    "duration": 18,
    "start_time": "2022-02-22T20:58:34.428Z"
   },
   {
    "duration": 19,
    "start_time": "2022-02-22T20:58:58.474Z"
   },
   {
    "duration": 193,
    "start_time": "2022-02-22T21:01:13.874Z"
   },
   {
    "duration": 17,
    "start_time": "2022-02-22T21:01:28.402Z"
   },
   {
    "duration": 69,
    "start_time": "2022-02-22T21:04:30.749Z"
   },
   {
    "duration": 19,
    "start_time": "2022-02-22T21:05:26.124Z"
   },
   {
    "duration": 20,
    "start_time": "2022-02-22T21:06:02.021Z"
   },
   {
    "duration": 21,
    "start_time": "2022-02-22T21:06:48.366Z"
   },
   {
    "duration": 24,
    "start_time": "2022-02-22T21:08:04.645Z"
   },
   {
    "duration": 189,
    "start_time": "2022-02-22T21:08:28.928Z"
   },
   {
    "duration": 19,
    "start_time": "2022-02-22T21:08:34.344Z"
   },
   {
    "duration": 62,
    "start_time": "2022-02-22T21:11:56.310Z"
   },
   {
    "duration": 180,
    "start_time": "2022-02-22T21:12:14.278Z"
   },
   {
    "duration": 182,
    "start_time": "2022-02-22T21:12:15.332Z"
   },
   {
    "duration": 190,
    "start_time": "2022-02-22T21:14:17.382Z"
   },
   {
    "duration": 5,
    "start_time": "2022-02-22T21:14:29.605Z"
   },
   {
    "duration": 3,
    "start_time": "2022-02-22T21:14:30.578Z"
   },
   {
    "duration": 43,
    "start_time": "2022-02-22T21:14:31.045Z"
   },
   {
    "duration": 23,
    "start_time": "2022-02-22T21:14:31.460Z"
   },
   {
    "duration": 16,
    "start_time": "2022-02-22T21:14:31.967Z"
   },
   {
    "duration": 18,
    "start_time": "2022-02-22T21:14:32.587Z"
   },
   {
    "duration": 20,
    "start_time": "2022-02-22T21:14:33.447Z"
   },
   {
    "duration": 195,
    "start_time": "2022-02-22T21:15:40.233Z"
   },
   {
    "duration": 5,
    "start_time": "2022-02-22T21:15:54.752Z"
   },
   {
    "duration": 5,
    "start_time": "2022-02-22T21:15:55.276Z"
   },
   {
    "duration": 41,
    "start_time": "2022-02-22T21:15:55.448Z"
   },
   {
    "duration": 14,
    "start_time": "2022-02-22T21:15:55.622Z"
   },
   {
    "duration": 16,
    "start_time": "2022-02-22T21:15:55.795Z"
   },
   {
    "duration": 14,
    "start_time": "2022-02-22T21:15:55.979Z"
   },
   {
    "duration": 20,
    "start_time": "2022-02-22T21:15:56.623Z"
   },
   {
    "duration": 189,
    "start_time": "2022-02-22T21:17:27.285Z"
   },
   {
    "duration": 4,
    "start_time": "2022-02-22T21:17:46.423Z"
   },
   {
    "duration": 4,
    "start_time": "2022-02-22T21:17:46.983Z"
   },
   {
    "duration": 40,
    "start_time": "2022-02-22T21:17:47.185Z"
   },
   {
    "duration": 15,
    "start_time": "2022-02-22T21:17:47.371Z"
   },
   {
    "duration": 15,
    "start_time": "2022-02-22T21:17:47.589Z"
   },
   {
    "duration": 13,
    "start_time": "2022-02-22T21:17:47.772Z"
   },
   {
    "duration": 20,
    "start_time": "2022-02-22T21:17:47.978Z"
   },
   {
    "duration": 178,
    "start_time": "2022-02-22T21:19:32.448Z"
   },
   {
    "duration": 4,
    "start_time": "2022-02-22T21:19:37.101Z"
   },
   {
    "duration": 3,
    "start_time": "2022-02-22T21:19:37.608Z"
   },
   {
    "duration": 37,
    "start_time": "2022-02-22T21:19:37.783Z"
   },
   {
    "duration": 13,
    "start_time": "2022-02-22T21:19:37.982Z"
   },
   {
    "duration": 15,
    "start_time": "2022-02-22T21:19:38.219Z"
   },
   {
    "duration": 13,
    "start_time": "2022-02-22T21:19:38.683Z"
   },
   {
    "duration": 21,
    "start_time": "2022-02-22T21:19:39.251Z"
   },
   {
    "duration": 5,
    "start_time": "2022-02-22T21:22:31.897Z"
   },
   {
    "duration": 2,
    "start_time": "2022-02-22T21:22:32.802Z"
   },
   {
    "duration": 40,
    "start_time": "2022-02-22T21:22:32.969Z"
   },
   {
    "duration": 15,
    "start_time": "2022-02-22T21:22:33.158Z"
   },
   {
    "duration": 16,
    "start_time": "2022-02-22T21:22:33.377Z"
   },
   {
    "duration": 14,
    "start_time": "2022-02-22T21:22:33.887Z"
   },
   {
    "duration": 20,
    "start_time": "2022-02-22T21:22:34.325Z"
   },
   {
    "duration": 18,
    "start_time": "2022-02-22T21:22:47.232Z"
   },
   {
    "duration": 19,
    "start_time": "2022-02-22T21:22:48.066Z"
   },
   {
    "duration": 22,
    "start_time": "2022-02-22T21:22:50.609Z"
   },
   {
    "duration": 337,
    "start_time": "2022-02-22T21:23:00.538Z"
   },
   {
    "duration": 418,
    "start_time": "2022-02-22T21:23:07.253Z"
   },
   {
    "duration": 4,
    "start_time": "2022-02-22T21:24:52.940Z"
   },
   {
    "duration": 3,
    "start_time": "2022-02-22T21:24:54.133Z"
   },
   {
    "duration": 37,
    "start_time": "2022-02-22T21:24:54.381Z"
   },
   {
    "duration": 15,
    "start_time": "2022-02-22T21:24:54.595Z"
   },
   {
    "duration": 15,
    "start_time": "2022-02-22T21:24:54.785Z"
   },
   {
    "duration": 14,
    "start_time": "2022-02-22T21:24:54.984Z"
   },
   {
    "duration": 19,
    "start_time": "2022-02-22T21:24:55.205Z"
   },
   {
    "duration": 19,
    "start_time": "2022-02-22T21:24:56.304Z"
   },
   {
    "duration": 24,
    "start_time": "2022-02-22T21:24:58.096Z"
   },
   {
    "duration": 343,
    "start_time": "2022-02-22T21:25:02.541Z"
   },
   {
    "duration": 371,
    "start_time": "2022-02-22T21:25:10.336Z"
   },
   {
    "duration": 21,
    "start_time": "2022-02-23T09:29:26.369Z"
   },
   {
    "duration": 23,
    "start_time": "2022-02-23T09:29:34.909Z"
   },
   {
    "duration": 25,
    "start_time": "2022-02-23T09:29:39.260Z"
   },
   {
    "duration": 5,
    "start_time": "2022-02-23T09:30:05.136Z"
   },
   {
    "duration": 8,
    "start_time": "2022-02-23T09:30:05.143Z"
   },
   {
    "duration": 48,
    "start_time": "2022-02-23T09:30:05.154Z"
   },
   {
    "duration": 14,
    "start_time": "2022-02-23T09:30:05.204Z"
   },
   {
    "duration": 19,
    "start_time": "2022-02-23T09:30:05.220Z"
   },
   {
    "duration": 28,
    "start_time": "2022-02-23T09:30:05.241Z"
   },
   {
    "duration": 29,
    "start_time": "2022-02-23T09:30:05.272Z"
   },
   {
    "duration": 22,
    "start_time": "2022-02-23T09:30:05.303Z"
   },
   {
    "duration": 38,
    "start_time": "2022-02-23T09:30:05.358Z"
   },
   {
    "duration": 401,
    "start_time": "2022-02-23T09:30:05.399Z"
   },
   {
    "duration": 390,
    "start_time": "2022-02-23T09:30:05.802Z"
   },
   {
    "duration": 465,
    "start_time": "2022-02-23T09:30:06.194Z"
   },
   {
    "duration": 525,
    "start_time": "2022-02-23T09:30:06.661Z"
   },
   {
    "duration": 443,
    "start_time": "2022-02-23T09:30:07.188Z"
   },
   {
    "duration": 525,
    "start_time": "2022-02-23T09:30:07.634Z"
   },
   {
    "duration": 113,
    "start_time": "2022-02-23T09:30:08.161Z"
   },
   {
    "duration": 473,
    "start_time": "2022-02-23T09:30:08.276Z"
   },
   {
    "duration": 6,
    "start_time": "2022-02-23T09:30:08.758Z"
   },
   {
    "duration": 484,
    "start_time": "2022-02-23T09:30:08.769Z"
   },
   {
    "duration": 7,
    "start_time": "2022-02-23T09:30:09.258Z"
   },
   {
    "duration": 301,
    "start_time": "2022-02-23T09:30:09.267Z"
   },
   {
    "duration": 170,
    "start_time": "2022-02-23T09:30:09.570Z"
   },
   {
    "duration": 16,
    "start_time": "2022-02-23T09:30:09.742Z"
   },
   {
    "duration": 182,
    "start_time": "2022-02-23T09:30:09.760Z"
   },
   {
    "duration": -657,
    "start_time": "2022-02-23T09:30:10.601Z"
   },
   {
    "duration": -663,
    "start_time": "2022-02-23T09:30:10.608Z"
   },
   {
    "duration": -668,
    "start_time": "2022-02-23T09:30:10.614Z"
   },
   {
    "duration": -673,
    "start_time": "2022-02-23T09:30:10.620Z"
   },
   {
    "duration": -678,
    "start_time": "2022-02-23T09:30:10.626Z"
   },
   {
    "duration": 441,
    "start_time": "2022-02-23T09:33:25.641Z"
   },
   {
    "duration": 347,
    "start_time": "2022-02-23T09:37:28.869Z"
   },
   {
    "duration": 61,
    "start_time": "2022-02-23T09:38:30.540Z"
   },
   {
    "duration": 415,
    "start_time": "2022-02-23T09:38:38.577Z"
   },
   {
    "duration": 399,
    "start_time": "2022-02-23T09:39:19.537Z"
   },
   {
    "duration": 442,
    "start_time": "2022-02-23T09:39:34.178Z"
   },
   {
    "duration": 553,
    "start_time": "2022-02-23T09:42:23.310Z"
   },
   {
    "duration": 454,
    "start_time": "2022-02-23T09:42:57.163Z"
   },
   {
    "duration": 388,
    "start_time": "2022-02-23T09:43:05.142Z"
   },
   {
    "duration": 477,
    "start_time": "2022-02-23T09:43:13.440Z"
   },
   {
    "duration": 135,
    "start_time": "2022-02-23T09:43:52.739Z"
   },
   {
    "duration": 439,
    "start_time": "2022-02-23T09:44:02.872Z"
   },
   {
    "duration": 442,
    "start_time": "2022-02-23T09:49:09.370Z"
   },
   {
    "duration": 490,
    "start_time": "2022-02-23T09:49:30.297Z"
   },
   {
    "duration": 432,
    "start_time": "2022-02-23T09:49:43.979Z"
   },
   {
    "duration": 119,
    "start_time": "2022-02-23T09:53:05.922Z"
   },
   {
    "duration": 102,
    "start_time": "2022-02-23T09:53:26.612Z"
   },
   {
    "duration": 460,
    "start_time": "2022-02-23T09:53:27.442Z"
   },
   {
    "duration": 216,
    "start_time": "2022-02-23T10:13:19.118Z"
   },
   {
    "duration": 201,
    "start_time": "2022-02-23T10:14:51.037Z"
   },
   {
    "duration": 116,
    "start_time": "2022-02-23T10:15:05.151Z"
   },
   {
    "duration": 31,
    "start_time": "2022-02-23T10:23:53.894Z"
   },
   {
    "duration": 6,
    "start_time": "2022-02-23T10:24:16.999Z"
   },
   {
    "duration": 4,
    "start_time": "2022-02-23T10:24:17.683Z"
   },
   {
    "duration": 50,
    "start_time": "2022-02-23T10:24:17.925Z"
   },
   {
    "duration": 15,
    "start_time": "2022-02-23T10:24:18.152Z"
   },
   {
    "duration": 16,
    "start_time": "2022-02-23T10:24:18.372Z"
   },
   {
    "duration": 14,
    "start_time": "2022-02-23T10:24:18.865Z"
   },
   {
    "duration": 28,
    "start_time": "2022-02-23T10:24:19.260Z"
   },
   {
    "duration": -241,
    "start_time": "2022-02-23T10:34:19.281Z"
   },
   {
    "duration": -226,
    "start_time": "2022-02-23T10:34:42.309Z"
   },
   {
    "duration": 5651,
    "start_time": "2022-02-23T10:35:14.951Z"
   },
   {
    "duration": 5,
    "start_time": "2022-02-23T10:35:36.428Z"
   },
   {
    "duration": 4,
    "start_time": "2022-02-23T10:35:37.028Z"
   },
   {
    "duration": 41,
    "start_time": "2022-02-23T10:35:37.214Z"
   },
   {
    "duration": 14,
    "start_time": "2022-02-23T10:35:38.453Z"
   },
   {
    "duration": 24,
    "start_time": "2022-02-23T10:35:38.470Z"
   },
   {
    "duration": 14,
    "start_time": "2022-02-23T10:35:38.496Z"
   },
   {
    "duration": 60,
    "start_time": "2022-02-23T10:35:38.512Z"
   },
   {
    "duration": 5292,
    "start_time": "2022-02-23T10:37:39.871Z"
   },
   {
    "duration": 5,
    "start_time": "2022-02-23T10:37:53.826Z"
   },
   {
    "duration": 3,
    "start_time": "2022-02-23T10:37:54.320Z"
   },
   {
    "duration": 38,
    "start_time": "2022-02-23T10:37:54.490Z"
   },
   {
    "duration": 14,
    "start_time": "2022-02-23T10:37:54.666Z"
   },
   {
    "duration": 14,
    "start_time": "2022-02-23T10:37:54.828Z"
   },
   {
    "duration": 12,
    "start_time": "2022-02-23T10:37:54.987Z"
   },
   {
    "duration": 31,
    "start_time": "2022-02-23T10:37:55.168Z"
   },
   {
    "duration": 5282,
    "start_time": "2022-02-23T10:38:20.218Z"
   },
   {
    "duration": 5,
    "start_time": "2022-02-23T10:38:30.501Z"
   },
   {
    "duration": 3,
    "start_time": "2022-02-23T10:38:31.062Z"
   },
   {
    "duration": 45,
    "start_time": "2022-02-23T10:38:31.233Z"
   },
   {
    "duration": 15,
    "start_time": "2022-02-23T10:38:31.436Z"
   },
   {
    "duration": 16,
    "start_time": "2022-02-23T10:38:31.649Z"
   },
   {
    "duration": 13,
    "start_time": "2022-02-23T10:38:32.403Z"
   },
   {
    "duration": 220,
    "start_time": "2022-02-23T10:38:32.661Z"
   },
   {
    "duration": 4,
    "start_time": "2022-02-23T10:39:07.112Z"
   },
   {
    "duration": 4,
    "start_time": "2022-02-23T10:39:07.615Z"
   },
   {
    "duration": 39,
    "start_time": "2022-02-23T10:39:07.793Z"
   },
   {
    "duration": 15,
    "start_time": "2022-02-23T10:39:07.999Z"
   },
   {
    "duration": 15,
    "start_time": "2022-02-23T10:39:08.469Z"
   },
   {
    "duration": 13,
    "start_time": "2022-02-23T10:39:08.878Z"
   },
   {
    "duration": 31,
    "start_time": "2022-02-23T10:39:09.223Z"
   },
   {
    "duration": 4,
    "start_time": "2022-02-23T10:40:16.075Z"
   },
   {
    "duration": 3,
    "start_time": "2022-02-23T10:40:16.619Z"
   },
   {
    "duration": 38,
    "start_time": "2022-02-23T10:40:16.791Z"
   },
   {
    "duration": 15,
    "start_time": "2022-02-23T10:40:16.975Z"
   },
   {
    "duration": 15,
    "start_time": "2022-02-23T10:40:17.166Z"
   },
   {
    "duration": 13,
    "start_time": "2022-02-23T10:40:17.453Z"
   },
   {
    "duration": 30,
    "start_time": "2022-02-23T10:40:18.148Z"
   },
   {
    "duration": 5,
    "start_time": "2022-02-23T10:48:04.160Z"
   },
   {
    "duration": 3,
    "start_time": "2022-02-23T10:48:04.708Z"
   },
   {
    "duration": 45,
    "start_time": "2022-02-23T10:48:04.898Z"
   },
   {
    "duration": 14,
    "start_time": "2022-02-23T10:48:05.079Z"
   },
   {
    "duration": 15,
    "start_time": "2022-02-23T10:48:05.261Z"
   },
   {
    "duration": 14,
    "start_time": "2022-02-23T10:48:05.441Z"
   },
   {
    "duration": 243,
    "start_time": "2022-02-23T10:48:05.636Z"
   },
   {
    "duration": 5,
    "start_time": "2022-02-23T10:48:40.331Z"
   },
   {
    "duration": 3,
    "start_time": "2022-02-23T10:48:40.813Z"
   },
   {
    "duration": 37,
    "start_time": "2022-02-23T10:48:40.982Z"
   },
   {
    "duration": 15,
    "start_time": "2022-02-23T10:48:41.147Z"
   },
   {
    "duration": 15,
    "start_time": "2022-02-23T10:48:41.312Z"
   },
   {
    "duration": 13,
    "start_time": "2022-02-23T10:48:41.484Z"
   },
   {
    "duration": 35,
    "start_time": "2022-02-23T10:48:42.104Z"
   },
   {
    "duration": 4,
    "start_time": "2022-02-23T10:51:39.341Z"
   },
   {
    "duration": 3,
    "start_time": "2022-02-23T10:51:39.849Z"
   },
   {
    "duration": 42,
    "start_time": "2022-02-23T10:51:40.016Z"
   },
   {
    "duration": 15,
    "start_time": "2022-02-23T10:51:40.204Z"
   },
   {
    "duration": 15,
    "start_time": "2022-02-23T10:51:40.351Z"
   },
   {
    "duration": 14,
    "start_time": "2022-02-23T10:51:40.509Z"
   },
   {
    "duration": 208,
    "start_time": "2022-02-23T10:51:41.143Z"
   },
   {
    "duration": 4,
    "start_time": "2022-02-23T10:53:40.742Z"
   },
   {
    "duration": 3,
    "start_time": "2022-02-23T10:53:41.435Z"
   },
   {
    "duration": 41,
    "start_time": "2022-02-23T10:53:41.625Z"
   },
   {
    "duration": 15,
    "start_time": "2022-02-23T10:53:41.802Z"
   },
   {
    "duration": 14,
    "start_time": "2022-02-23T10:53:41.993Z"
   },
   {
    "duration": 13,
    "start_time": "2022-02-23T10:53:42.173Z"
   },
   {
    "duration": 34,
    "start_time": "2022-02-23T10:53:42.617Z"
   },
   {
    "duration": 5,
    "start_time": "2022-02-24T07:39:44.540Z"
   },
   {
    "duration": 3,
    "start_time": "2022-02-24T07:39:45.283Z"
   },
   {
    "duration": 47,
    "start_time": "2022-02-24T07:39:45.476Z"
   },
   {
    "duration": 14,
    "start_time": "2022-02-24T07:39:45.673Z"
   },
   {
    "duration": 16,
    "start_time": "2022-02-24T07:39:45.888Z"
   },
   {
    "duration": 13,
    "start_time": "2022-02-24T07:39:46.128Z"
   },
   {
    "duration": 259,
    "start_time": "2022-02-24T07:39:46.347Z"
   },
   {
    "duration": 5,
    "start_time": "2022-02-24T07:40:09.273Z"
   },
   {
    "duration": 3,
    "start_time": "2022-02-24T07:40:09.844Z"
   },
   {
    "duration": 49,
    "start_time": "2022-02-24T07:40:10.061Z"
   },
   {
    "duration": 17,
    "start_time": "2022-02-24T07:40:10.287Z"
   },
   {
    "duration": 15,
    "start_time": "2022-02-24T07:40:10.773Z"
   },
   {
    "duration": 17,
    "start_time": "2022-02-24T07:40:11.157Z"
   },
   {
    "duration": 19,
    "start_time": "2022-02-24T07:40:12.078Z"
   },
   {
    "duration": 5,
    "start_time": "2022-02-24T07:42:28.580Z"
   },
   {
    "duration": 3,
    "start_time": "2022-02-24T07:42:29.179Z"
   },
   {
    "duration": 38,
    "start_time": "2022-02-24T07:42:29.381Z"
   },
   {
    "duration": 16,
    "start_time": "2022-02-24T07:42:29.616Z"
   },
   {
    "duration": 16,
    "start_time": "2022-02-24T07:42:29.866Z"
   },
   {
    "duration": 14,
    "start_time": "2022-02-24T07:42:30.277Z"
   },
   {
    "duration": 36,
    "start_time": "2022-02-24T07:42:30.681Z"
   },
   {
    "duration": 4,
    "start_time": "2022-02-24T07:43:36.347Z"
   },
   {
    "duration": 3,
    "start_time": "2022-02-24T07:43:36.865Z"
   },
   {
    "duration": 40,
    "start_time": "2022-02-24T07:43:37.039Z"
   },
   {
    "duration": 14,
    "start_time": "2022-02-24T07:43:37.203Z"
   },
   {
    "duration": 15,
    "start_time": "2022-02-24T07:43:37.372Z"
   },
   {
    "duration": 12,
    "start_time": "2022-02-24T07:43:37.546Z"
   },
   {
    "duration": 14,
    "start_time": "2022-02-24T07:43:37.722Z"
   },
   {
    "duration": 5,
    "start_time": "2022-02-24T07:44:49.319Z"
   },
   {
    "duration": 3,
    "start_time": "2022-02-24T07:44:49.871Z"
   },
   {
    "duration": 38,
    "start_time": "2022-02-24T07:44:50.050Z"
   },
   {
    "duration": 15,
    "start_time": "2022-02-24T07:44:50.237Z"
   },
   {
    "duration": 14,
    "start_time": "2022-02-24T07:44:50.743Z"
   },
   {
    "duration": 13,
    "start_time": "2022-02-24T07:44:51.186Z"
   },
   {
    "duration": 17,
    "start_time": "2022-02-24T07:44:51.832Z"
   },
   {
    "duration": 20,
    "start_time": "2022-02-24T07:45:02.537Z"
   },
   {
    "duration": 22,
    "start_time": "2022-02-24T07:45:06.787Z"
   },
   {
    "duration": 333,
    "start_time": "2022-02-24T07:45:13.195Z"
   },
   {
    "duration": 446,
    "start_time": "2022-02-24T07:45:17.666Z"
   },
   {
    "duration": 434,
    "start_time": "2022-02-24T07:45:22.562Z"
   },
   {
    "duration": 478,
    "start_time": "2022-02-24T07:45:27.159Z"
   },
   {
    "duration": 465,
    "start_time": "2022-02-24T07:45:30.398Z"
   },
   {
    "duration": 484,
    "start_time": "2022-02-24T07:45:33.135Z"
   },
   {
    "duration": 120,
    "start_time": "2022-02-24T07:45:51.681Z"
   },
   {
    "duration": 400,
    "start_time": "2022-02-24T07:45:53.006Z"
   },
   {
    "duration": 4,
    "start_time": "2022-02-24T07:46:14.589Z"
   },
   {
    "duration": 15,
    "start_time": "2022-02-24T07:46:14.595Z"
   },
   {
    "duration": 81,
    "start_time": "2022-02-24T07:46:14.613Z"
   },
   {
    "duration": 29,
    "start_time": "2022-02-24T07:46:14.696Z"
   },
   {
    "duration": 21,
    "start_time": "2022-02-24T07:46:14.727Z"
   },
   {
    "duration": 30,
    "start_time": "2022-02-24T07:46:14.750Z"
   },
   {
    "duration": 37,
    "start_time": "2022-02-24T07:46:14.782Z"
   },
   {
    "duration": 30,
    "start_time": "2022-02-24T07:46:14.821Z"
   },
   {
    "duration": 51,
    "start_time": "2022-02-24T07:46:14.853Z"
   },
   {
    "duration": 380,
    "start_time": "2022-02-24T07:46:14.907Z"
   },
   {
    "duration": 508,
    "start_time": "2022-02-24T07:46:15.289Z"
   },
   {
    "duration": 448,
    "start_time": "2022-02-24T07:46:15.798Z"
   },
   {
    "duration": 525,
    "start_time": "2022-02-24T07:46:16.248Z"
   },
   {
    "duration": 406,
    "start_time": "2022-02-24T07:46:16.775Z"
   },
   {
    "duration": 467,
    "start_time": "2022-02-24T07:46:17.184Z"
   },
   {
    "duration": 144,
    "start_time": "2022-02-24T07:46:17.652Z"
   },
   {
    "duration": 431,
    "start_time": "2022-02-24T07:46:17.798Z"
   },
   {
    "duration": 5,
    "start_time": "2022-02-24T07:46:18.231Z"
   },
   {
    "duration": 501,
    "start_time": "2022-02-24T07:46:18.238Z"
   },
   {
    "duration": 18,
    "start_time": "2022-02-24T07:46:18.741Z"
   },
   {
    "duration": 298,
    "start_time": "2022-02-24T07:46:18.766Z"
   },
   {
    "duration": 144,
    "start_time": "2022-02-24T07:46:19.067Z"
   },
   {
    "duration": 6,
    "start_time": "2022-02-24T07:46:19.215Z"
   },
   {
    "duration": 207,
    "start_time": "2022-02-24T07:46:19.223Z"
   },
   {
    "duration": 1802,
    "start_time": "2022-02-24T07:46:17.630Z"
   },
   {
    "duration": 1800,
    "start_time": "2022-02-24T07:46:17.634Z"
   },
   {
    "duration": 1796,
    "start_time": "2022-02-24T07:46:17.639Z"
   },
   {
    "duration": 1793,
    "start_time": "2022-02-24T07:46:17.643Z"
   },
   {
    "duration": 1790,
    "start_time": "2022-02-24T07:46:17.647Z"
   },
   {
    "duration": 5,
    "start_time": "2022-02-24T07:47:57.106Z"
   },
   {
    "duration": 3,
    "start_time": "2022-02-24T07:48:04.701Z"
   },
   {
    "duration": 54,
    "start_time": "2022-02-24T07:48:05.183Z"
   },
   {
    "duration": 18,
    "start_time": "2022-02-24T07:48:07.448Z"
   },
   {
    "duration": 19,
    "start_time": "2022-02-24T07:48:14.787Z"
   },
   {
    "duration": 23,
    "start_time": "2022-02-24T07:48:20.070Z"
   },
   {
    "duration": 77,
    "start_time": "2022-02-24T07:50:05.410Z"
   },
   {
    "duration": 14,
    "start_time": "2022-02-24T07:50:17.014Z"
   },
   {
    "duration": 26,
    "start_time": "2022-02-24T07:50:25.646Z"
   },
   {
    "duration": 23,
    "start_time": "2022-02-24T07:50:39.821Z"
   },
   {
    "duration": 372,
    "start_time": "2022-02-24T07:50:57.920Z"
   },
   {
    "duration": 4,
    "start_time": "2022-02-24T07:51:11.137Z"
   },
   {
    "duration": 5,
    "start_time": "2022-02-24T07:51:11.660Z"
   },
   {
    "duration": 64,
    "start_time": "2022-02-24T07:51:11.831Z"
   },
   {
    "duration": 16,
    "start_time": "2022-02-24T07:51:11.999Z"
   },
   {
    "duration": 21,
    "start_time": "2022-02-24T07:51:12.172Z"
   },
   {
    "duration": 21,
    "start_time": "2022-02-24T07:51:12.349Z"
   },
   {
    "duration": 13,
    "start_time": "2022-02-24T07:51:12.523Z"
   },
   {
    "duration": 21,
    "start_time": "2022-02-24T07:51:13.247Z"
   },
   {
    "duration": 24,
    "start_time": "2022-02-24T07:51:14.802Z"
   },
   {
    "duration": 395,
    "start_time": "2022-02-24T07:51:19.587Z"
   },
   {
    "duration": 526,
    "start_time": "2022-02-24T07:51:22.185Z"
   },
   {
    "duration": 4,
    "start_time": "2022-02-24T07:52:38.246Z"
   },
   {
    "duration": 3,
    "start_time": "2022-02-24T07:52:38.791Z"
   },
   {
    "duration": 50,
    "start_time": "2022-02-24T07:52:38.962Z"
   },
   {
    "duration": 14,
    "start_time": "2022-02-24T07:52:39.139Z"
   },
   {
    "duration": 15,
    "start_time": "2022-02-24T07:52:39.295Z"
   },
   {
    "duration": 14,
    "start_time": "2022-02-24T07:52:39.470Z"
   },
   {
    "duration": 12,
    "start_time": "2022-02-24T07:52:39.631Z"
   },
   {
    "duration": 20,
    "start_time": "2022-02-24T07:52:40.315Z"
   },
   {
    "duration": 126,
    "start_time": "2022-02-24T07:52:41.185Z"
   },
   {
    "duration": 372,
    "start_time": "2022-02-24T07:52:45.831Z"
   },
   {
    "duration": 456,
    "start_time": "2022-02-24T07:52:47.201Z"
   },
   {
    "duration": 433,
    "start_time": "2022-02-24T07:52:56.575Z"
   },
   {
    "duration": 465,
    "start_time": "2022-02-24T07:53:17.006Z"
   },
   {
    "duration": 412,
    "start_time": "2022-02-24T07:53:26.792Z"
   },
   {
    "duration": 487,
    "start_time": "2022-02-24T08:17:12.601Z"
   },
   {
    "duration": 458,
    "start_time": "2022-02-24T08:17:27.913Z"
   },
   {
    "duration": 118,
    "start_time": "2022-02-24T08:17:59.066Z"
   },
   {
    "duration": 413,
    "start_time": "2022-02-24T08:18:16.095Z"
   },
   {
    "duration": 123,
    "start_time": "2022-02-24T08:44:07.720Z"
   },
   {
    "duration": 177,
    "start_time": "2022-02-24T08:44:25.667Z"
   },
   {
    "duration": 128,
    "start_time": "2022-02-24T08:44:56.562Z"
   },
   {
    "duration": 115,
    "start_time": "2022-02-24T08:45:27.529Z"
   },
   {
    "duration": 801,
    "start_time": "2022-02-24T08:48:25.373Z"
   },
   {
    "duration": 474,
    "start_time": "2022-02-24T08:48:45.872Z"
   },
   {
    "duration": 506,
    "start_time": "2022-02-24T08:49:01.169Z"
   },
   {
    "duration": 488,
    "start_time": "2022-02-24T08:49:08.950Z"
   },
   {
    "duration": 612,
    "start_time": "2022-02-24T08:51:05.742Z"
   },
   {
    "duration": 7,
    "start_time": "2022-02-24T08:51:15.514Z"
   },
   {
    "duration": 6,
    "start_time": "2022-02-24T08:52:24.121Z"
   },
   {
    "duration": 9,
    "start_time": "2022-02-24T08:52:24.129Z"
   },
   {
    "duration": 50,
    "start_time": "2022-02-24T08:52:24.140Z"
   },
   {
    "duration": 16,
    "start_time": "2022-02-24T08:52:24.193Z"
   },
   {
    "duration": 19,
    "start_time": "2022-02-24T08:52:24.211Z"
   },
   {
    "duration": 17,
    "start_time": "2022-02-24T08:52:24.231Z"
   },
   {
    "duration": 14,
    "start_time": "2022-02-24T08:52:24.263Z"
   },
   {
    "duration": 21,
    "start_time": "2022-02-24T08:52:24.281Z"
   },
   {
    "duration": 23,
    "start_time": "2022-02-24T08:52:24.304Z"
   },
   {
    "duration": 399,
    "start_time": "2022-02-24T08:52:24.329Z"
   },
   {
    "duration": 486,
    "start_time": "2022-02-24T08:52:24.729Z"
   },
   {
    "duration": 423,
    "start_time": "2022-02-24T08:52:25.217Z"
   },
   {
    "duration": 529,
    "start_time": "2022-02-24T08:52:25.642Z"
   },
   {
    "duration": 410,
    "start_time": "2022-02-24T08:52:26.173Z"
   },
   {
    "duration": 486,
    "start_time": "2022-02-24T08:52:26.585Z"
   },
   {
    "duration": 131,
    "start_time": "2022-02-24T08:52:27.074Z"
   },
   {
    "duration": 471,
    "start_time": "2022-02-24T08:52:27.207Z"
   },
   {
    "duration": 6,
    "start_time": "2022-02-24T08:52:27.680Z"
   },
   {
    "duration": 472,
    "start_time": "2022-02-24T08:52:27.687Z"
   },
   {
    "duration": 10,
    "start_time": "2022-02-24T08:52:28.161Z"
   },
   {
    "duration": 304,
    "start_time": "2022-02-24T08:52:28.173Z"
   },
   {
    "duration": 137,
    "start_time": "2022-02-24T08:52:28.479Z"
   },
   {
    "duration": 6,
    "start_time": "2022-02-24T08:52:28.620Z"
   },
   {
    "duration": 247,
    "start_time": "2022-02-24T08:52:28.628Z"
   },
   {
    "duration": -17,
    "start_time": "2022-02-24T08:52:28.894Z"
   },
   {
    "duration": -20,
    "start_time": "2022-02-24T08:52:28.898Z"
   },
   {
    "duration": -25,
    "start_time": "2022-02-24T08:52:28.904Z"
   },
   {
    "duration": -27,
    "start_time": "2022-02-24T08:52:28.908Z"
   },
   {
    "duration": -30,
    "start_time": "2022-02-24T08:52:28.912Z"
   },
   {
    "duration": 6,
    "start_time": "2022-02-24T08:54:54.482Z"
   },
   {
    "duration": 6,
    "start_time": "2022-02-24T08:55:32.833Z"
   },
   {
    "duration": 5,
    "start_time": "2022-02-24T08:55:55.725Z"
   },
   {
    "duration": 6,
    "start_time": "2022-02-24T10:07:53.423Z"
   },
   {
    "duration": 448,
    "start_time": "2022-02-24T10:08:07.389Z"
   },
   {
    "duration": 461,
    "start_time": "2022-02-24T10:09:09.981Z"
   },
   {
    "duration": 5,
    "start_time": "2022-02-24T10:09:25.608Z"
   },
   {
    "duration": 284,
    "start_time": "2022-02-24T10:10:36.746Z"
   },
   {
    "duration": 284,
    "start_time": "2022-02-24T10:11:01.389Z"
   },
   {
    "duration": 114,
    "start_time": "2022-02-24T10:12:54.213Z"
   },
   {
    "duration": 6,
    "start_time": "2022-02-24T10:12:58.460Z"
   },
   {
    "duration": 312,
    "start_time": "2022-02-24T10:13:30.572Z"
   },
   {
    "duration": 411,
    "start_time": "2022-02-24T10:13:49.222Z"
   },
   {
    "duration": 5,
    "start_time": "2022-02-24T10:13:59.648Z"
   },
   {
    "duration": 18,
    "start_time": "2022-02-24T10:13:59.655Z"
   },
   {
    "duration": 47,
    "start_time": "2022-02-24T10:13:59.675Z"
   },
   {
    "duration": 13,
    "start_time": "2022-02-24T10:13:59.724Z"
   },
   {
    "duration": 15,
    "start_time": "2022-02-24T10:13:59.739Z"
   },
   {
    "duration": 18,
    "start_time": "2022-02-24T10:13:59.756Z"
   },
   {
    "duration": 13,
    "start_time": "2022-02-24T10:13:59.777Z"
   },
   {
    "duration": 19,
    "start_time": "2022-02-24T10:13:59.792Z"
   },
   {
    "duration": 21,
    "start_time": "2022-02-24T10:13:59.812Z"
   },
   {
    "duration": 394,
    "start_time": "2022-02-24T10:13:59.834Z"
   },
   {
    "duration": 491,
    "start_time": "2022-02-24T10:14:00.231Z"
   },
   {
    "duration": 546,
    "start_time": "2022-02-24T10:14:00.725Z"
   },
   {
    "duration": 514,
    "start_time": "2022-02-24T10:14:01.274Z"
   },
   {
    "duration": 410,
    "start_time": "2022-02-24T10:14:01.790Z"
   },
   {
    "duration": 476,
    "start_time": "2022-02-24T10:14:02.202Z"
   },
   {
    "duration": 118,
    "start_time": "2022-02-24T10:14:02.680Z"
   },
   {
    "duration": 442,
    "start_time": "2022-02-24T10:14:02.800Z"
   },
   {
    "duration": 5,
    "start_time": "2022-02-24T10:14:03.244Z"
   },
   {
    "duration": 472,
    "start_time": "2022-02-24T10:14:03.263Z"
   },
   {
    "duration": 4,
    "start_time": "2022-02-24T10:14:03.737Z"
   },
   {
    "duration": 285,
    "start_time": "2022-02-24T10:14:03.743Z"
   },
   {
    "duration": 138,
    "start_time": "2022-02-24T10:14:04.029Z"
   },
   {
    "duration": 8,
    "start_time": "2022-02-24T10:14:04.170Z"
   },
   {
    "duration": 207,
    "start_time": "2022-02-24T10:14:04.180Z"
   },
   {
    "duration": 47,
    "start_time": "2022-02-24T10:14:04.342Z"
   },
   {
    "duration": 38,
    "start_time": "2022-02-24T10:14:04.352Z"
   },
   {
    "duration": 34,
    "start_time": "2022-02-24T10:14:04.357Z"
   },
   {
    "duration": 31,
    "start_time": "2022-02-24T10:14:04.361Z"
   },
   {
    "duration": 28,
    "start_time": "2022-02-24T10:14:04.365Z"
   },
   {
    "duration": 458,
    "start_time": "2022-02-24T16:09:52.674Z"
   },
   {
    "duration": 6,
    "start_time": "2022-02-24T16:10:01.775Z"
   },
   {
    "duration": 266,
    "start_time": "2022-02-24T16:10:08.425Z"
   },
   {
    "duration": 100,
    "start_time": "2022-02-24T16:10:17.415Z"
   },
   {
    "duration": 6,
    "start_time": "2022-02-24T16:10:20.958Z"
   },
   {
    "duration": 249,
    "start_time": "2022-02-24T16:44:40.459Z"
   },
   {
    "duration": 9,
    "start_time": "2022-02-24T16:45:14.040Z"
   },
   {
    "duration": 8,
    "start_time": "2022-02-24T17:02:08.763Z"
   },
   {
    "duration": 214,
    "start_time": "2022-02-24T17:02:12.677Z"
   },
   {
    "duration": 10,
    "start_time": "2022-02-24T17:02:21.361Z"
   },
   {
    "duration": 11,
    "start_time": "2022-02-24T17:18:57.908Z"
   },
   {
    "duration": 10,
    "start_time": "2022-02-24T17:19:05.532Z"
   },
   {
    "duration": 11,
    "start_time": "2022-02-24T17:27:21.054Z"
   },
   {
    "duration": 10,
    "start_time": "2022-02-24T17:27:37.284Z"
   },
   {
    "duration": 10,
    "start_time": "2022-02-24T17:28:08.305Z"
   },
   {
    "duration": 7,
    "start_time": "2022-02-24T17:29:04.355Z"
   },
   {
    "duration": 10,
    "start_time": "2022-02-24T17:32:22.619Z"
   },
   {
    "duration": 187,
    "start_time": "2022-02-24T17:33:57.292Z"
   },
   {
    "duration": 16,
    "start_time": "2022-02-24T17:34:12.970Z"
   },
   {
    "duration": 475,
    "start_time": "2022-02-24T17:39:30.563Z"
   },
   {
    "duration": 17,
    "start_time": "2022-02-24T17:40:01.482Z"
   },
   {
    "duration": 10,
    "start_time": "2022-02-24T17:40:47.502Z"
   },
   {
    "duration": 12,
    "start_time": "2022-02-24T17:41:30.192Z"
   },
   {
    "duration": 10,
    "start_time": "2022-02-24T17:41:50.092Z"
   },
   {
    "duration": 8,
    "start_time": "2022-02-24T17:42:01.899Z"
   },
   {
    "duration": 15,
    "start_time": "2022-02-24T17:42:41.154Z"
   },
   {
    "duration": 61,
    "start_time": "2022-02-24T17:46:03.237Z"
   },
   {
    "duration": 26,
    "start_time": "2022-02-25T06:28:50.528Z"
   },
   {
    "duration": 22,
    "start_time": "2022-02-25T06:28:54.212Z"
   },
   {
    "duration": 342,
    "start_time": "2022-02-25T06:30:27.039Z"
   },
   {
    "duration": 443,
    "start_time": "2022-02-25T06:30:46.759Z"
   },
   {
    "duration": 404,
    "start_time": "2022-02-25T06:31:19.644Z"
   },
   {
    "duration": 456,
    "start_time": "2022-02-25T06:31:25.085Z"
   },
   {
    "duration": 376,
    "start_time": "2022-02-25T06:31:31.046Z"
   },
   {
    "duration": 551,
    "start_time": "2022-02-25T06:32:04.486Z"
   },
   {
    "duration": 110,
    "start_time": "2022-02-25T06:32:36.918Z"
   },
   {
    "duration": 409,
    "start_time": "2022-02-25T06:32:42.110Z"
   },
   {
    "duration": 5,
    "start_time": "2022-02-25T06:33:23.718Z"
   },
   {
    "duration": 441,
    "start_time": "2022-02-25T06:33:25.918Z"
   },
   {
    "duration": 6,
    "start_time": "2022-02-25T06:33:55.007Z"
   },
   {
    "duration": 60,
    "start_time": "2022-02-25T06:48:43.597Z"
   },
   {
    "duration": 436,
    "start_time": "2022-02-25T06:48:52.777Z"
   },
   {
    "duration": 626,
    "start_time": "2022-02-25T06:50:27.270Z"
   },
   {
    "duration": 423,
    "start_time": "2022-02-25T06:51:02.299Z"
   },
   {
    "duration": 428,
    "start_time": "2022-02-25T06:51:38.988Z"
   },
   {
    "duration": 5,
    "start_time": "2022-02-25T06:52:18.109Z"
   },
   {
    "duration": 264,
    "start_time": "2022-02-25T06:52:22.735Z"
   },
   {
    "duration": 115,
    "start_time": "2022-02-25T06:52:25.332Z"
   },
   {
    "duration": 7,
    "start_time": "2022-02-25T06:52:26.203Z"
   },
   {
    "duration": 8,
    "start_time": "2022-02-25T06:52:28.531Z"
   },
   {
    "duration": 11,
    "start_time": "2022-02-25T06:52:30.356Z"
   },
   {
    "duration": 10,
    "start_time": "2022-02-25T06:52:46.652Z"
   },
   {
    "duration": 9,
    "start_time": "2022-02-25T06:52:54.290Z"
   },
   {
    "duration": 8,
    "start_time": "2022-02-25T06:52:56.203Z"
   },
   {
    "duration": 14,
    "start_time": "2022-02-25T08:03:28.342Z"
   },
   {
    "duration": 6,
    "start_time": "2022-02-25T08:03:28.358Z"
   },
   {
    "duration": 126,
    "start_time": "2022-02-25T08:03:28.366Z"
   },
   {
    "duration": 21,
    "start_time": "2022-02-25T08:03:28.495Z"
   },
   {
    "duration": 15,
    "start_time": "2022-02-25T08:03:28.517Z"
   },
   {
    "duration": 13,
    "start_time": "2022-02-25T08:03:28.534Z"
   },
   {
    "duration": 15,
    "start_time": "2022-02-25T08:03:28.549Z"
   },
   {
    "duration": 63,
    "start_time": "2022-02-25T08:03:28.565Z"
   },
   {
    "duration": 23,
    "start_time": "2022-02-25T08:03:28.631Z"
   },
   {
    "duration": 402,
    "start_time": "2022-02-25T08:03:28.656Z"
   },
   {
    "duration": 486,
    "start_time": "2022-02-25T08:03:29.060Z"
   },
   {
    "duration": 464,
    "start_time": "2022-02-25T08:03:29.548Z"
   },
   {
    "duration": 510,
    "start_time": "2022-02-25T08:03:30.015Z"
   },
   {
    "duration": 425,
    "start_time": "2022-02-25T08:03:30.527Z"
   },
   {
    "duration": 462,
    "start_time": "2022-02-25T08:03:30.954Z"
   },
   {
    "duration": 115,
    "start_time": "2022-02-25T08:03:31.418Z"
   },
   {
    "duration": 660,
    "start_time": "2022-02-25T08:03:31.535Z"
   },
   {
    "duration": 6,
    "start_time": "2022-02-25T08:03:32.197Z"
   },
   {
    "duration": 460,
    "start_time": "2022-02-25T08:03:32.212Z"
   },
   {
    "duration": 6,
    "start_time": "2022-02-25T08:03:32.674Z"
   },
   {
    "duration": 306,
    "start_time": "2022-02-25T08:03:32.682Z"
   },
   {
    "duration": 111,
    "start_time": "2022-02-25T08:03:32.989Z"
   },
   {
    "duration": 15,
    "start_time": "2022-02-25T08:03:33.102Z"
   },
   {
    "duration": 30,
    "start_time": "2022-02-25T08:03:33.119Z"
   },
   {
    "duration": 27,
    "start_time": "2022-02-25T08:03:33.151Z"
   },
   {
    "duration": 20,
    "start_time": "2022-02-25T08:03:33.180Z"
   },
   {
    "duration": 44,
    "start_time": "2022-02-25T08:03:33.203Z"
   },
   {
    "duration": 18,
    "start_time": "2022-02-25T08:03:33.250Z"
   },
   {
    "duration": 16,
    "start_time": "2022-02-25T08:03:33.270Z"
   },
   {
    "duration": 1562,
    "start_time": "2022-02-25T19:22:38.873Z"
   },
   {
    "duration": 4,
    "start_time": "2022-02-25T19:22:40.438Z"
   },
   {
    "duration": 65,
    "start_time": "2022-02-25T19:22:40.445Z"
   },
   {
    "duration": 35,
    "start_time": "2022-02-25T19:22:40.512Z"
   },
   {
    "duration": 29,
    "start_time": "2022-02-25T19:22:40.550Z"
   },
   {
    "duration": 53,
    "start_time": "2022-02-25T19:22:40.582Z"
   },
   {
    "duration": 19,
    "start_time": "2022-02-25T19:22:40.637Z"
   },
   {
    "duration": 70305,
    "start_time": "2022-02-25T19:22:40.660Z"
   },
   {
    "duration": 59,
    "start_time": "2022-02-25T19:23:50.970Z"
   },
   {
    "duration": 620,
    "start_time": "2022-02-25T19:23:51.032Z"
   },
   {
    "duration": 739,
    "start_time": "2022-02-25T19:23:51.655Z"
   },
   {
    "duration": 664,
    "start_time": "2022-02-25T19:23:52.396Z"
   },
   {
    "duration": 779,
    "start_time": "2022-02-25T19:23:53.062Z"
   },
   {
    "duration": 608,
    "start_time": "2022-02-25T19:23:53.845Z"
   },
   {
    "duration": 791,
    "start_time": "2022-02-25T19:23:54.456Z"
   },
   {
    "duration": 246,
    "start_time": "2022-02-25T19:23:55.250Z"
   },
   {
    "duration": 666,
    "start_time": "2022-02-25T19:23:55.498Z"
   },
   {
    "duration": 8,
    "start_time": "2022-02-25T19:23:56.167Z"
   },
   {
    "duration": 704,
    "start_time": "2022-02-25T19:23:56.178Z"
   },
   {
    "duration": 9,
    "start_time": "2022-02-25T19:23:56.885Z"
   },
   {
    "duration": 503,
    "start_time": "2022-02-25T19:23:56.897Z"
   },
   {
    "duration": 258,
    "start_time": "2022-02-25T19:23:57.403Z"
   },
   {
    "duration": 8,
    "start_time": "2022-02-25T19:23:57.666Z"
   },
   {
    "duration": 13,
    "start_time": "2022-02-25T19:23:57.677Z"
   },
   {
    "duration": 38,
    "start_time": "2022-02-25T19:23:57.693Z"
   },
   {
    "duration": 13,
    "start_time": "2022-02-25T19:23:57.733Z"
   },
   {
    "duration": 15,
    "start_time": "2022-02-25T19:23:57.749Z"
   },
   {
    "duration": 11,
    "start_time": "2022-02-25T19:23:57.767Z"
   },
   {
    "duration": 60,
    "start_time": "2022-02-25T19:23:57.780Z"
   },
   {
    "duration": 7,
    "start_time": "2022-02-25T19:23:57.843Z"
   },
   {
    "duration": 21,
    "start_time": "2022-02-25T19:25:20.547Z"
   },
   {
    "duration": 7,
    "start_time": "2022-02-25T19:25:31.149Z"
   },
   {
    "duration": 7,
    "start_time": "2022-02-25T19:42:12.435Z"
   },
   {
    "duration": 5,
    "start_time": "2022-02-25T19:42:33.235Z"
   },
   {
    "duration": 422,
    "start_time": "2022-02-25T19:42:40.486Z"
   },
   {
    "duration": 6,
    "start_time": "2022-02-25T19:42:44.106Z"
   },
   {
    "duration": 1745,
    "start_time": "2022-04-27T11:57:43.987Z"
   },
   {
    "duration": 4,
    "start_time": "2022-04-27T11:57:45.735Z"
   },
   {
    "duration": 77,
    "start_time": "2022-04-27T11:57:45.742Z"
   },
   {
    "duration": 56,
    "start_time": "2022-04-27T11:57:45.823Z"
   },
   {
    "duration": 40,
    "start_time": "2022-04-27T11:57:45.882Z"
   },
   {
    "duration": 47,
    "start_time": "2022-04-27T11:57:45.924Z"
   },
   {
    "duration": 31,
    "start_time": "2022-04-27T11:57:45.973Z"
   },
   {
    "duration": 143,
    "start_time": "2022-04-27T11:57:46.006Z"
   },
   {
    "duration": 38,
    "start_time": "2022-04-27T11:57:46.152Z"
   },
   {
    "duration": 673,
    "start_time": "2022-04-27T11:57:46.196Z"
   },
   {
    "duration": 802,
    "start_time": "2022-04-27T11:57:46.874Z"
   },
   {
    "duration": 730,
    "start_time": "2022-04-27T11:57:47.679Z"
   },
   {
    "duration": 834,
    "start_time": "2022-04-27T11:57:48.411Z"
   },
   {
    "duration": 558,
    "start_time": "2022-04-27T11:57:49.247Z"
   },
   {
    "duration": 723,
    "start_time": "2022-04-27T11:57:49.808Z"
   },
   {
    "duration": 339,
    "start_time": "2022-04-27T11:57:50.534Z"
   },
   {
    "duration": 343,
    "start_time": "2022-04-27T11:57:50.876Z"
   },
   {
    "duration": 9,
    "start_time": "2022-04-27T11:57:51.222Z"
   },
   {
    "duration": 472,
    "start_time": "2022-04-27T11:57:51.234Z"
   },
   {
    "duration": 8,
    "start_time": "2022-04-27T11:57:51.709Z"
   },
   {
    "duration": 461,
    "start_time": "2022-04-27T11:57:51.720Z"
   },
   {
    "duration": 342,
    "start_time": "2022-04-27T11:57:52.185Z"
   },
   {
    "duration": 9,
    "start_time": "2022-04-27T11:57:52.531Z"
   },
   {
    "duration": 86,
    "start_time": "2022-04-27T11:57:52.543Z"
   },
   {
    "duration": 17,
    "start_time": "2022-04-27T11:57:52.640Z"
   },
   {
    "duration": 57,
    "start_time": "2022-04-27T11:57:52.661Z"
   },
   {
    "duration": 16,
    "start_time": "2022-04-27T11:57:52.721Z"
   },
   {
    "duration": 51,
    "start_time": "2022-04-27T11:57:52.743Z"
   },
   {
    "duration": 22,
    "start_time": "2022-04-27T11:57:52.796Z"
   }
  ],
  "kernelspec": {
   "display_name": "Python 3 (ipykernel)",
   "language": "python",
   "name": "python3"
  },
  "language_info": {
   "codemirror_mode": {
    "name": "ipython",
    "version": 3
   },
   "file_extension": ".py",
   "mimetype": "text/x-python",
   "name": "python",
   "nbconvert_exporter": "python",
   "pygments_lexer": "ipython3",
   "version": "3.9.5"
  },
  "toc": {
   "base_numbering": 1,
   "nav_menu": {
    "height": "156px",
    "width": "189px"
   },
   "number_sections": true,
   "sideBar": true,
   "skip_h1_title": true,
   "title_cell": "Table of Contents",
   "title_sidebar": "Contents",
   "toc_cell": false,
   "toc_position": {
    "height": "calc(100% - 180px)",
    "left": "10px",
    "top": "150px",
    "width": "179px"
   },
   "toc_section_display": true,
   "toc_window_display": false
  }
 },
 "nbformat": 4,
 "nbformat_minor": 2
}

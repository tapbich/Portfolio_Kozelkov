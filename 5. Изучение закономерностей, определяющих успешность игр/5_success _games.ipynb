{
 "cells": [
  {
   "cell_type": "markdown",
   "metadata": {},
   "source": [
    "# Сборный проект 1 \"Изучение закономерностей, определяющих успешность игр\""
   ]
  },
  {
   "cell_type": "markdown",
   "metadata": {},
   "source": [
    "### Описание проекта:\n",
    "Согласно условию задачи я работаю в интернет-магазине, который продаёт по всему миру компьютерные игры. Из открытых источников доступны исторические данные о продажах игр, оценки пользователей и экспертов, жанры и платформы (например, Xbox или PlayStation). Мне нужно выявить определяющие успешность игры закономерности. Это позволит сделать ставку на потенциально популярный продукт и спланировать рекламные кампании.\n",
    "Передо мною данные до 2016 года. Представим, что сейчас декабрь 2016 г., и я планирую кампанию на 2017-й. \n",
    "\n",
    "Значение аббревиатуры ESRB (Entertainment Software Rating Board) — это ассоциация, определяющая возрастной рейтинг компьютерных игр. ESRB оценивает игровой контент и присваивает ему подходящую возрастную категорию, например, «Для взрослых», «Для детей младшего возраста» или «Для подростков»"
   ]
  },
  {
   "cell_type": "markdown",
   "metadata": {},
   "source": [
    "### Описание данных\n",
    "* Name — название игры\n",
    "* Platform — платформа\n",
    "* Year_of_Release — год выпуска\n",
    "* Genre — жанр игры\n",
    "* NA_sales — продажи в Северной Америке (миллионы проданных копий)\n",
    "* EU_sales — продажи в Европе (миллионы проданных копий)\n",
    "* JP_sales — продажи в Японии (миллионы проданных копий)\n",
    "* Other_sales — продажи в других странах (миллионы проданных копий)\n",
    "* Critic_Score — оценка критиков (максимум 100)\n",
    "* User_Score — оценка пользователей (максимум 10)\n",
    "* Rating — рейтинг от организации ESRB (англ. Entertainment Software Rating Board). Эта ассоциация определяет рейтинг компьютерных игр и присваивает им подходящую возрастную категорию."
   ]
  },
  {
   "cell_type": "markdown",
   "metadata": {},
   "source": [
    "### Откроем файл с данными и изучим их"
   ]
  },
  {
   "cell_type": "code",
   "execution_count": 1,
   "metadata": {},
   "outputs": [
    {
     "data": {
      "text/html": [
       "<div>\n",
       "<style scoped>\n",
       "    .dataframe tbody tr th:only-of-type {\n",
       "        vertical-align: middle;\n",
       "    }\n",
       "\n",
       "    .dataframe tbody tr th {\n",
       "        vertical-align: top;\n",
       "    }\n",
       "\n",
       "    .dataframe thead th {\n",
       "        text-align: right;\n",
       "    }\n",
       "</style>\n",
       "<table border=\"1\" class=\"dataframe\">\n",
       "  <thead>\n",
       "    <tr style=\"text-align: right;\">\n",
       "      <th></th>\n",
       "      <th>Name</th>\n",
       "      <th>Platform</th>\n",
       "      <th>Year_of_Release</th>\n",
       "      <th>Genre</th>\n",
       "      <th>NA_sales</th>\n",
       "      <th>EU_sales</th>\n",
       "      <th>JP_sales</th>\n",
       "      <th>Other_sales</th>\n",
       "      <th>Critic_Score</th>\n",
       "      <th>User_Score</th>\n",
       "      <th>Rating</th>\n",
       "    </tr>\n",
       "  </thead>\n",
       "  <tbody>\n",
       "    <tr>\n",
       "      <th>0</th>\n",
       "      <td>Wii Sports</td>\n",
       "      <td>Wii</td>\n",
       "      <td>2006.0</td>\n",
       "      <td>Sports</td>\n",
       "      <td>41.36</td>\n",
       "      <td>28.96</td>\n",
       "      <td>3.77</td>\n",
       "      <td>8.45</td>\n",
       "      <td>76.0</td>\n",
       "      <td>8</td>\n",
       "      <td>E</td>\n",
       "    </tr>\n",
       "    <tr>\n",
       "      <th>1</th>\n",
       "      <td>Super Mario Bros.</td>\n",
       "      <td>NES</td>\n",
       "      <td>1985.0</td>\n",
       "      <td>Platform</td>\n",
       "      <td>29.08</td>\n",
       "      <td>3.58</td>\n",
       "      <td>6.81</td>\n",
       "      <td>0.77</td>\n",
       "      <td>NaN</td>\n",
       "      <td>NaN</td>\n",
       "      <td>NaN</td>\n",
       "    </tr>\n",
       "    <tr>\n",
       "      <th>2</th>\n",
       "      <td>Mario Kart Wii</td>\n",
       "      <td>Wii</td>\n",
       "      <td>2008.0</td>\n",
       "      <td>Racing</td>\n",
       "      <td>15.68</td>\n",
       "      <td>12.76</td>\n",
       "      <td>3.79</td>\n",
       "      <td>3.29</td>\n",
       "      <td>82.0</td>\n",
       "      <td>8.3</td>\n",
       "      <td>E</td>\n",
       "    </tr>\n",
       "    <tr>\n",
       "      <th>3</th>\n",
       "      <td>Wii Sports Resort</td>\n",
       "      <td>Wii</td>\n",
       "      <td>2009.0</td>\n",
       "      <td>Sports</td>\n",
       "      <td>15.61</td>\n",
       "      <td>10.93</td>\n",
       "      <td>3.28</td>\n",
       "      <td>2.95</td>\n",
       "      <td>80.0</td>\n",
       "      <td>8</td>\n",
       "      <td>E</td>\n",
       "    </tr>\n",
       "    <tr>\n",
       "      <th>4</th>\n",
       "      <td>Pokemon Red/Pokemon Blue</td>\n",
       "      <td>GB</td>\n",
       "      <td>1996.0</td>\n",
       "      <td>Role-Playing</td>\n",
       "      <td>11.27</td>\n",
       "      <td>8.89</td>\n",
       "      <td>10.22</td>\n",
       "      <td>1.00</td>\n",
       "      <td>NaN</td>\n",
       "      <td>NaN</td>\n",
       "      <td>NaN</td>\n",
       "    </tr>\n",
       "    <tr>\n",
       "      <th>...</th>\n",
       "      <td>...</td>\n",
       "      <td>...</td>\n",
       "      <td>...</td>\n",
       "      <td>...</td>\n",
       "      <td>...</td>\n",
       "      <td>...</td>\n",
       "      <td>...</td>\n",
       "      <td>...</td>\n",
       "      <td>...</td>\n",
       "      <td>...</td>\n",
       "      <td>...</td>\n",
       "    </tr>\n",
       "    <tr>\n",
       "      <th>16710</th>\n",
       "      <td>Samurai Warriors: Sanada Maru</td>\n",
       "      <td>PS3</td>\n",
       "      <td>2016.0</td>\n",
       "      <td>Action</td>\n",
       "      <td>0.00</td>\n",
       "      <td>0.00</td>\n",
       "      <td>0.01</td>\n",
       "      <td>0.00</td>\n",
       "      <td>NaN</td>\n",
       "      <td>NaN</td>\n",
       "      <td>NaN</td>\n",
       "    </tr>\n",
       "    <tr>\n",
       "      <th>16711</th>\n",
       "      <td>LMA Manager 2007</td>\n",
       "      <td>X360</td>\n",
       "      <td>2006.0</td>\n",
       "      <td>Sports</td>\n",
       "      <td>0.00</td>\n",
       "      <td>0.01</td>\n",
       "      <td>0.00</td>\n",
       "      <td>0.00</td>\n",
       "      <td>NaN</td>\n",
       "      <td>NaN</td>\n",
       "      <td>NaN</td>\n",
       "    </tr>\n",
       "    <tr>\n",
       "      <th>16712</th>\n",
       "      <td>Haitaka no Psychedelica</td>\n",
       "      <td>PSV</td>\n",
       "      <td>2016.0</td>\n",
       "      <td>Adventure</td>\n",
       "      <td>0.00</td>\n",
       "      <td>0.00</td>\n",
       "      <td>0.01</td>\n",
       "      <td>0.00</td>\n",
       "      <td>NaN</td>\n",
       "      <td>NaN</td>\n",
       "      <td>NaN</td>\n",
       "    </tr>\n",
       "    <tr>\n",
       "      <th>16713</th>\n",
       "      <td>Spirits &amp; Spells</td>\n",
       "      <td>GBA</td>\n",
       "      <td>2003.0</td>\n",
       "      <td>Platform</td>\n",
       "      <td>0.01</td>\n",
       "      <td>0.00</td>\n",
       "      <td>0.00</td>\n",
       "      <td>0.00</td>\n",
       "      <td>NaN</td>\n",
       "      <td>NaN</td>\n",
       "      <td>NaN</td>\n",
       "    </tr>\n",
       "    <tr>\n",
       "      <th>16714</th>\n",
       "      <td>Winning Post 8 2016</td>\n",
       "      <td>PSV</td>\n",
       "      <td>2016.0</td>\n",
       "      <td>Simulation</td>\n",
       "      <td>0.00</td>\n",
       "      <td>0.00</td>\n",
       "      <td>0.01</td>\n",
       "      <td>0.00</td>\n",
       "      <td>NaN</td>\n",
       "      <td>NaN</td>\n",
       "      <td>NaN</td>\n",
       "    </tr>\n",
       "  </tbody>\n",
       "</table>\n",
       "<p>16715 rows × 11 columns</p>\n",
       "</div>"
      ],
      "text/plain": [
       "                                Name Platform  Year_of_Release         Genre  \\\n",
       "0                         Wii Sports      Wii           2006.0        Sports   \n",
       "1                  Super Mario Bros.      NES           1985.0      Platform   \n",
       "2                     Mario Kart Wii      Wii           2008.0        Racing   \n",
       "3                  Wii Sports Resort      Wii           2009.0        Sports   \n",
       "4           Pokemon Red/Pokemon Blue       GB           1996.0  Role-Playing   \n",
       "...                              ...      ...              ...           ...   \n",
       "16710  Samurai Warriors: Sanada Maru      PS3           2016.0        Action   \n",
       "16711               LMA Manager 2007     X360           2006.0        Sports   \n",
       "16712        Haitaka no Psychedelica      PSV           2016.0     Adventure   \n",
       "16713               Spirits & Spells      GBA           2003.0      Platform   \n",
       "16714            Winning Post 8 2016      PSV           2016.0    Simulation   \n",
       "\n",
       "       NA_sales  EU_sales  JP_sales  Other_sales  Critic_Score User_Score  \\\n",
       "0         41.36     28.96      3.77         8.45          76.0          8   \n",
       "1         29.08      3.58      6.81         0.77           NaN        NaN   \n",
       "2         15.68     12.76      3.79         3.29          82.0        8.3   \n",
       "3         15.61     10.93      3.28         2.95          80.0          8   \n",
       "4         11.27      8.89     10.22         1.00           NaN        NaN   \n",
       "...         ...       ...       ...          ...           ...        ...   \n",
       "16710      0.00      0.00      0.01         0.00           NaN        NaN   \n",
       "16711      0.00      0.01      0.00         0.00           NaN        NaN   \n",
       "16712      0.00      0.00      0.01         0.00           NaN        NaN   \n",
       "16713      0.01      0.00      0.00         0.00           NaN        NaN   \n",
       "16714      0.00      0.00      0.01         0.00           NaN        NaN   \n",
       "\n",
       "      Rating  \n",
       "0          E  \n",
       "1        NaN  \n",
       "2          E  \n",
       "3          E  \n",
       "4        NaN  \n",
       "...      ...  \n",
       "16710    NaN  \n",
       "16711    NaN  \n",
       "16712    NaN  \n",
       "16713    NaN  \n",
       "16714    NaN  \n",
       "\n",
       "[16715 rows x 11 columns]"
      ]
     },
     "metadata": {},
     "output_type": "display_data"
    },
    {
     "name": "stdout",
     "output_type": "stream",
     "text": [
      "<class 'pandas.core.frame.DataFrame'>\n",
      "RangeIndex: 16715 entries, 0 to 16714\n",
      "Data columns (total 11 columns):\n",
      " #   Column           Non-Null Count  Dtype  \n",
      "---  ------           --------------  -----  \n",
      " 0   Name             16713 non-null  object \n",
      " 1   Platform         16715 non-null  object \n",
      " 2   Year_of_Release  16446 non-null  float64\n",
      " 3   Genre            16713 non-null  object \n",
      " 4   NA_sales         16715 non-null  float64\n",
      " 5   EU_sales         16715 non-null  float64\n",
      " 6   JP_sales         16715 non-null  float64\n",
      " 7   Other_sales      16715 non-null  float64\n",
      " 8   Critic_Score     8137 non-null   float64\n",
      " 9   User_Score       10014 non-null  object \n",
      " 10  Rating           9949 non-null   object \n",
      "dtypes: float64(6), object(5)\n",
      "memory usage: 1.4+ MB\n"
     ]
    }
   ],
   "source": [
    "import pandas as pd\n",
    "import numpy as np\n",
    "import matplotlib.pyplot as plt\n",
    "from scipy import stats as st\n",
    "import warnings\n",
    "warnings.filterwarnings('ignore')\n",
    "\n",
    "data = pd.read_csv('/datasets/games.csv')\n",
    "display(data)\n",
    "data.info()"
   ]
  },
  {
   "cell_type": "markdown",
   "metadata": {},
   "source": [
    "Изучив таблицу видим что:\n",
    "* названия колонок и текстовые данные следует привести к нижнему регистру\n",
    "* в колонке Year_of_Release есть незначительное количество пропусков и стоит округлить числа\n",
    "* в колонке Critic_Score есть пропуски, надо изучить \n",
    "* в колонке User_Score есть пропуски, надо изучить\n",
    "* в колонке Rating есть пропуски, надо изучить"
   ]
  },
  {
   "cell_type": "markdown",
   "metadata": {},
   "source": [
    "### Подготовка данных"
   ]
  },
  {
   "cell_type": "markdown",
   "metadata": {},
   "source": [
    "#### Заменим названия столбцов (приведем к нижнему регистру):"
   ]
  },
  {
   "cell_type": "code",
   "execution_count": 2,
   "metadata": {},
   "outputs": [],
   "source": [
    "data.columns = data.columns.str.lower()\n",
    "# Заодно и названия в колонках\n",
    "data['name'] = data['name'].str.lower()\n",
    "data['platform'] = data['platform'].str.lower()\n",
    "data['genre'] = data['genre'].str.lower()\n",
    "data['rating'] = data['rating'].str.lower()"
   ]
  },
  {
   "cell_type": "markdown",
   "metadata": {},
   "source": [
    "#### Преобразуем данные в нужные типы:"
   ]
  },
  {
   "cell_type": "code",
   "execution_count": 3,
   "metadata": {},
   "outputs": [
    {
     "name": "stdout",
     "output_type": "stream",
     "text": [
      "['8' nan '8.3' '8.5' '6.6' '8.4' '8.6' '7.7' '6.3' '7.4' '8.2' '9' '7.9'\n",
      " '8.1' '8.7' '7.1' '3.4' '5.3' '4.8' '3.2' '8.9' '6.4' '7.8' '7.5' '2.6'\n",
      " '7.2' '9.2' '7' '7.3' '4.3' '7.6' '5.7' '5' '9.1' '6.5' 'tbd' '8.8' '6.9'\n",
      " '9.4' '6.8' '6.1' '6.7' '5.4' '4' '4.9' '4.5' '9.3' '6.2' '4.2' '6' '3.7'\n",
      " '4.1' '5.8' '5.6' '5.5' '4.4' '4.6' '5.9' '3.9' '3.1' '2.9' '5.2' '3.3'\n",
      " '4.7' '5.1' '3.5' '2.5' '1.9' '3' '2.7' '2.2' '2' '9.5' '2.1' '3.6' '2.8'\n",
      " '1.8' '3.8' '0' '1.6' '9.6' '2.4' '1.7' '1.1' '0.3' '1.5' '0.7' '1.2'\n",
      " '2.3' '0.5' '1.3' '0.2' '0.6' '1.4' '0.9' '1' '9.7']\n"
     ]
    }
   ],
   "source": [
    "data = data[data['year_of_release'].notna()] # не занчительное количество пропусков, удалим иначе не приведем к типу дата\n",
    "data['year_of_release'] = data['year_of_release'].astype('int')\n",
    "\n",
    "# Посмотрим что мешает в этой колонке\n",
    "print(data['user_score'].unique())"
   ]
  },
  {
   "cell_type": "code",
   "execution_count": 4,
   "metadata": {},
   "outputs": [
    {
     "name": "stdout",
     "output_type": "stream",
     "text": [
      "tbd    2376\n",
      "7.8     322\n",
      "8       285\n",
      "8.2     276\n",
      "8.3     252\n",
      "       ... \n",
      "0.7       2\n",
      "1         2\n",
      "0.5       2\n",
      "9.7       1\n",
      "0         1\n",
      "Name: user_score, Length: 96, dtype: int64\n"
     ]
    }
   ],
   "source": [
    "# 'tbd' - это 'to be defined' (подлежащий определению)\n",
    "print(data['user_score'].value_counts())"
   ]
  },
  {
   "cell_type": "markdown",
   "metadata": {},
   "source": [
    "'tbd' значений много"
   ]
  },
  {
   "cell_type": "markdown",
   "metadata": {},
   "source": [
    "#### Заменим пропуски"
   ]
  },
  {
   "cell_type": "code",
   "execution_count": 5,
   "metadata": {},
   "outputs": [
    {
     "name": "stdout",
     "output_type": "stream",
     "text": [
      "<class 'pandas.core.frame.DataFrame'>\n",
      "Int64Index: 16444 entries, 0 to 16714\n",
      "Data columns (total 11 columns):\n",
      " #   Column           Non-Null Count  Dtype  \n",
      "---  ------           --------------  -----  \n",
      " 0   name             16444 non-null  object \n",
      " 1   platform         16444 non-null  object \n",
      " 2   year_of_release  16444 non-null  int64  \n",
      " 3   genre            16444 non-null  object \n",
      " 4   na_sales         16444 non-null  float64\n",
      " 5   eu_sales         16444 non-null  float64\n",
      " 6   jp_sales         16444 non-null  float64\n",
      " 7   other_sales      16444 non-null  float64\n",
      " 8   critic_score     16444 non-null  object \n",
      " 9   user_score       16444 non-null  object \n",
      " 10  rating           16444 non-null  object \n",
      "dtypes: float64(4), int64(1), object(6)\n",
      "memory usage: 1.5+ MB\n"
     ]
    },
    {
     "data": {
      "text/html": [
       "<div>\n",
       "<style scoped>\n",
       "    .dataframe tbody tr th:only-of-type {\n",
       "        vertical-align: middle;\n",
       "    }\n",
       "\n",
       "    .dataframe tbody tr th {\n",
       "        vertical-align: top;\n",
       "    }\n",
       "\n",
       "    .dataframe thead th {\n",
       "        text-align: right;\n",
       "    }\n",
       "</style>\n",
       "<table border=\"1\" class=\"dataframe\">\n",
       "  <thead>\n",
       "    <tr style=\"text-align: right;\">\n",
       "      <th></th>\n",
       "      <th>name</th>\n",
       "      <th>platform</th>\n",
       "      <th>year_of_release</th>\n",
       "      <th>genre</th>\n",
       "      <th>na_sales</th>\n",
       "      <th>eu_sales</th>\n",
       "      <th>jp_sales</th>\n",
       "      <th>other_sales</th>\n",
       "      <th>critic_score</th>\n",
       "      <th>user_score</th>\n",
       "      <th>rating</th>\n",
       "    </tr>\n",
       "  </thead>\n",
       "  <tbody>\n",
       "    <tr>\n",
       "      <th>0</th>\n",
       "      <td>wii sports</td>\n",
       "      <td>wii</td>\n",
       "      <td>2006</td>\n",
       "      <td>sports</td>\n",
       "      <td>41.36</td>\n",
       "      <td>28.96</td>\n",
       "      <td>3.77</td>\n",
       "      <td>8.45</td>\n",
       "      <td>76.0</td>\n",
       "      <td>8.0</td>\n",
       "      <td>e</td>\n",
       "    </tr>\n",
       "    <tr>\n",
       "      <th>1</th>\n",
       "      <td>super mario bros.</td>\n",
       "      <td>nes</td>\n",
       "      <td>1985</td>\n",
       "      <td>platform</td>\n",
       "      <td>29.08</td>\n",
       "      <td>3.58</td>\n",
       "      <td>6.81</td>\n",
       "      <td>0.77</td>\n",
       "      <td>no score</td>\n",
       "      <td>no score</td>\n",
       "      <td>no rating</td>\n",
       "    </tr>\n",
       "    <tr>\n",
       "      <th>2</th>\n",
       "      <td>mario kart wii</td>\n",
       "      <td>wii</td>\n",
       "      <td>2008</td>\n",
       "      <td>racing</td>\n",
       "      <td>15.68</td>\n",
       "      <td>12.76</td>\n",
       "      <td>3.79</td>\n",
       "      <td>3.29</td>\n",
       "      <td>82.0</td>\n",
       "      <td>8.3</td>\n",
       "      <td>e</td>\n",
       "    </tr>\n",
       "    <tr>\n",
       "      <th>3</th>\n",
       "      <td>wii sports resort</td>\n",
       "      <td>wii</td>\n",
       "      <td>2009</td>\n",
       "      <td>sports</td>\n",
       "      <td>15.61</td>\n",
       "      <td>10.93</td>\n",
       "      <td>3.28</td>\n",
       "      <td>2.95</td>\n",
       "      <td>80.0</td>\n",
       "      <td>8.0</td>\n",
       "      <td>e</td>\n",
       "    </tr>\n",
       "    <tr>\n",
       "      <th>4</th>\n",
       "      <td>pokemon red/pokemon blue</td>\n",
       "      <td>gb</td>\n",
       "      <td>1996</td>\n",
       "      <td>role-playing</td>\n",
       "      <td>11.27</td>\n",
       "      <td>8.89</td>\n",
       "      <td>10.22</td>\n",
       "      <td>1.00</td>\n",
       "      <td>no score</td>\n",
       "      <td>no score</td>\n",
       "      <td>no rating</td>\n",
       "    </tr>\n",
       "    <tr>\n",
       "      <th>...</th>\n",
       "      <td>...</td>\n",
       "      <td>...</td>\n",
       "      <td>...</td>\n",
       "      <td>...</td>\n",
       "      <td>...</td>\n",
       "      <td>...</td>\n",
       "      <td>...</td>\n",
       "      <td>...</td>\n",
       "      <td>...</td>\n",
       "      <td>...</td>\n",
       "      <td>...</td>\n",
       "    </tr>\n",
       "    <tr>\n",
       "      <th>16710</th>\n",
       "      <td>samurai warriors: sanada maru</td>\n",
       "      <td>ps3</td>\n",
       "      <td>2016</td>\n",
       "      <td>action</td>\n",
       "      <td>0.00</td>\n",
       "      <td>0.00</td>\n",
       "      <td>0.01</td>\n",
       "      <td>0.00</td>\n",
       "      <td>no score</td>\n",
       "      <td>no score</td>\n",
       "      <td>no rating</td>\n",
       "    </tr>\n",
       "    <tr>\n",
       "      <th>16711</th>\n",
       "      <td>lma manager 2007</td>\n",
       "      <td>x360</td>\n",
       "      <td>2006</td>\n",
       "      <td>sports</td>\n",
       "      <td>0.00</td>\n",
       "      <td>0.01</td>\n",
       "      <td>0.00</td>\n",
       "      <td>0.00</td>\n",
       "      <td>no score</td>\n",
       "      <td>no score</td>\n",
       "      <td>no rating</td>\n",
       "    </tr>\n",
       "    <tr>\n",
       "      <th>16712</th>\n",
       "      <td>haitaka no psychedelica</td>\n",
       "      <td>psv</td>\n",
       "      <td>2016</td>\n",
       "      <td>adventure</td>\n",
       "      <td>0.00</td>\n",
       "      <td>0.00</td>\n",
       "      <td>0.01</td>\n",
       "      <td>0.00</td>\n",
       "      <td>no score</td>\n",
       "      <td>no score</td>\n",
       "      <td>no rating</td>\n",
       "    </tr>\n",
       "    <tr>\n",
       "      <th>16713</th>\n",
       "      <td>spirits &amp; spells</td>\n",
       "      <td>gba</td>\n",
       "      <td>2003</td>\n",
       "      <td>platform</td>\n",
       "      <td>0.01</td>\n",
       "      <td>0.00</td>\n",
       "      <td>0.00</td>\n",
       "      <td>0.00</td>\n",
       "      <td>no score</td>\n",
       "      <td>no score</td>\n",
       "      <td>no rating</td>\n",
       "    </tr>\n",
       "    <tr>\n",
       "      <th>16714</th>\n",
       "      <td>winning post 8 2016</td>\n",
       "      <td>psv</td>\n",
       "      <td>2016</td>\n",
       "      <td>simulation</td>\n",
       "      <td>0.00</td>\n",
       "      <td>0.00</td>\n",
       "      <td>0.01</td>\n",
       "      <td>0.00</td>\n",
       "      <td>no score</td>\n",
       "      <td>no score</td>\n",
       "      <td>no rating</td>\n",
       "    </tr>\n",
       "  </tbody>\n",
       "</table>\n",
       "<p>16444 rows × 11 columns</p>\n",
       "</div>"
      ],
      "text/plain": [
       "                                name platform  year_of_release         genre  \\\n",
       "0                         wii sports      wii             2006        sports   \n",
       "1                  super mario bros.      nes             1985      platform   \n",
       "2                     mario kart wii      wii             2008        racing   \n",
       "3                  wii sports resort      wii             2009        sports   \n",
       "4           pokemon red/pokemon blue       gb             1996  role-playing   \n",
       "...                              ...      ...              ...           ...   \n",
       "16710  samurai warriors: sanada maru      ps3             2016        action   \n",
       "16711               lma manager 2007     x360             2006        sports   \n",
       "16712        haitaka no psychedelica      psv             2016     adventure   \n",
       "16713               spirits & spells      gba             2003      platform   \n",
       "16714            winning post 8 2016      psv             2016    simulation   \n",
       "\n",
       "       na_sales  eu_sales  jp_sales  other_sales critic_score user_score  \\\n",
       "0         41.36     28.96      3.77         8.45         76.0        8.0   \n",
       "1         29.08      3.58      6.81         0.77     no score   no score   \n",
       "2         15.68     12.76      3.79         3.29         82.0        8.3   \n",
       "3         15.61     10.93      3.28         2.95         80.0        8.0   \n",
       "4         11.27      8.89     10.22         1.00     no score   no score   \n",
       "...         ...       ...       ...          ...          ...        ...   \n",
       "16710      0.00      0.00      0.01         0.00     no score   no score   \n",
       "16711      0.00      0.01      0.00         0.00     no score   no score   \n",
       "16712      0.00      0.00      0.01         0.00     no score   no score   \n",
       "16713      0.01      0.00      0.00         0.00     no score   no score   \n",
       "16714      0.00      0.00      0.01         0.00     no score   no score   \n",
       "\n",
       "          rating  \n",
       "0              e  \n",
       "1      no rating  \n",
       "2              e  \n",
       "3              e  \n",
       "4      no rating  \n",
       "...          ...  \n",
       "16710  no rating  \n",
       "16711  no rating  \n",
       "16712  no rating  \n",
       "16713  no rating  \n",
       "16714  no rating  \n",
       "\n",
       "[16444 rows x 11 columns]"
      ]
     },
     "metadata": {},
     "output_type": "display_data"
    }
   ],
   "source": [
    "data.loc[data['user_score'] == 'tbd','user_score'] = np.nan # заменим на пропуски так как заменить не на что \n",
    "data['user_score'] = data['user_score'].astype('float')\n",
    "\n",
    "# Удалим две игры без названия\n",
    "data = data[data['name'].notna()]\n",
    "\n",
    "# Заменим пропуски в колонках с рейтингами на \"заглушки\"\n",
    "data['rating'] = data['rating'].fillna('no rating')\n",
    "data['critic_score'] = data['critic_score'].fillna('no score')\n",
    "data['user_score'] = data['user_score'].fillna('no score')\n",
    "data.info()\n",
    "display(data)"
   ]
  },
  {
   "cell_type": "markdown",
   "metadata": {},
   "source": [
    "Любое заполнение исказит результаты корреляционного анализа и стат-тестов, поэтому пропуски в колонках\n",
    "critic_score, user_score не заполняем"
   ]
  },
  {
   "cell_type": "code",
   "execution_count": 6,
   "metadata": {},
   "outputs": [
    {
     "data": {
      "text/plain": [
       "0"
      ]
     },
     "execution_count": 6,
     "metadata": {},
     "output_type": "execute_result"
    }
   ],
   "source": [
    "# Проверим на дубликаты\n",
    "data.duplicated().sum()"
   ]
  },
  {
   "cell_type": "markdown",
   "metadata": {},
   "source": [
    "#### Посчитаем суммарные продажи во всех регионах и запишим их в отдельный столбец."
   ]
  },
  {
   "cell_type": "code",
   "execution_count": 7,
   "metadata": {},
   "outputs": [
    {
     "data": {
      "text/html": [
       "<div>\n",
       "<style scoped>\n",
       "    .dataframe tbody tr th:only-of-type {\n",
       "        vertical-align: middle;\n",
       "    }\n",
       "\n",
       "    .dataframe tbody tr th {\n",
       "        vertical-align: top;\n",
       "    }\n",
       "\n",
       "    .dataframe thead th {\n",
       "        text-align: right;\n",
       "    }\n",
       "</style>\n",
       "<table border=\"1\" class=\"dataframe\">\n",
       "  <thead>\n",
       "    <tr style=\"text-align: right;\">\n",
       "      <th></th>\n",
       "      <th>name</th>\n",
       "      <th>platform</th>\n",
       "      <th>year_of_release</th>\n",
       "      <th>genre</th>\n",
       "      <th>na_sales</th>\n",
       "      <th>eu_sales</th>\n",
       "      <th>jp_sales</th>\n",
       "      <th>other_sales</th>\n",
       "      <th>critic_score</th>\n",
       "      <th>user_score</th>\n",
       "      <th>rating</th>\n",
       "      <th>total_sales</th>\n",
       "    </tr>\n",
       "  </thead>\n",
       "  <tbody>\n",
       "    <tr>\n",
       "      <th>0</th>\n",
       "      <td>wii sports</td>\n",
       "      <td>wii</td>\n",
       "      <td>2006</td>\n",
       "      <td>sports</td>\n",
       "      <td>41.36</td>\n",
       "      <td>28.96</td>\n",
       "      <td>3.77</td>\n",
       "      <td>8.45</td>\n",
       "      <td>76.0</td>\n",
       "      <td>8.0</td>\n",
       "      <td>e</td>\n",
       "      <td>82.54</td>\n",
       "    </tr>\n",
       "    <tr>\n",
       "      <th>1</th>\n",
       "      <td>super mario bros.</td>\n",
       "      <td>nes</td>\n",
       "      <td>1985</td>\n",
       "      <td>platform</td>\n",
       "      <td>29.08</td>\n",
       "      <td>3.58</td>\n",
       "      <td>6.81</td>\n",
       "      <td>0.77</td>\n",
       "      <td>no score</td>\n",
       "      <td>no score</td>\n",
       "      <td>no rating</td>\n",
       "      <td>40.24</td>\n",
       "    </tr>\n",
       "    <tr>\n",
       "      <th>2</th>\n",
       "      <td>mario kart wii</td>\n",
       "      <td>wii</td>\n",
       "      <td>2008</td>\n",
       "      <td>racing</td>\n",
       "      <td>15.68</td>\n",
       "      <td>12.76</td>\n",
       "      <td>3.79</td>\n",
       "      <td>3.29</td>\n",
       "      <td>82.0</td>\n",
       "      <td>8.3</td>\n",
       "      <td>e</td>\n",
       "      <td>35.52</td>\n",
       "    </tr>\n",
       "    <tr>\n",
       "      <th>3</th>\n",
       "      <td>wii sports resort</td>\n",
       "      <td>wii</td>\n",
       "      <td>2009</td>\n",
       "      <td>sports</td>\n",
       "      <td>15.61</td>\n",
       "      <td>10.93</td>\n",
       "      <td>3.28</td>\n",
       "      <td>2.95</td>\n",
       "      <td>80.0</td>\n",
       "      <td>8.0</td>\n",
       "      <td>e</td>\n",
       "      <td>32.77</td>\n",
       "    </tr>\n",
       "    <tr>\n",
       "      <th>4</th>\n",
       "      <td>pokemon red/pokemon blue</td>\n",
       "      <td>gb</td>\n",
       "      <td>1996</td>\n",
       "      <td>role-playing</td>\n",
       "      <td>11.27</td>\n",
       "      <td>8.89</td>\n",
       "      <td>10.22</td>\n",
       "      <td>1.00</td>\n",
       "      <td>no score</td>\n",
       "      <td>no score</td>\n",
       "      <td>no rating</td>\n",
       "      <td>31.38</td>\n",
       "    </tr>\n",
       "    <tr>\n",
       "      <th>...</th>\n",
       "      <td>...</td>\n",
       "      <td>...</td>\n",
       "      <td>...</td>\n",
       "      <td>...</td>\n",
       "      <td>...</td>\n",
       "      <td>...</td>\n",
       "      <td>...</td>\n",
       "      <td>...</td>\n",
       "      <td>...</td>\n",
       "      <td>...</td>\n",
       "      <td>...</td>\n",
       "      <td>...</td>\n",
       "    </tr>\n",
       "    <tr>\n",
       "      <th>16710</th>\n",
       "      <td>samurai warriors: sanada maru</td>\n",
       "      <td>ps3</td>\n",
       "      <td>2016</td>\n",
       "      <td>action</td>\n",
       "      <td>0.00</td>\n",
       "      <td>0.00</td>\n",
       "      <td>0.01</td>\n",
       "      <td>0.00</td>\n",
       "      <td>no score</td>\n",
       "      <td>no score</td>\n",
       "      <td>no rating</td>\n",
       "      <td>0.01</td>\n",
       "    </tr>\n",
       "    <tr>\n",
       "      <th>16711</th>\n",
       "      <td>lma manager 2007</td>\n",
       "      <td>x360</td>\n",
       "      <td>2006</td>\n",
       "      <td>sports</td>\n",
       "      <td>0.00</td>\n",
       "      <td>0.01</td>\n",
       "      <td>0.00</td>\n",
       "      <td>0.00</td>\n",
       "      <td>no score</td>\n",
       "      <td>no score</td>\n",
       "      <td>no rating</td>\n",
       "      <td>0.01</td>\n",
       "    </tr>\n",
       "    <tr>\n",
       "      <th>16712</th>\n",
       "      <td>haitaka no psychedelica</td>\n",
       "      <td>psv</td>\n",
       "      <td>2016</td>\n",
       "      <td>adventure</td>\n",
       "      <td>0.00</td>\n",
       "      <td>0.00</td>\n",
       "      <td>0.01</td>\n",
       "      <td>0.00</td>\n",
       "      <td>no score</td>\n",
       "      <td>no score</td>\n",
       "      <td>no rating</td>\n",
       "      <td>0.01</td>\n",
       "    </tr>\n",
       "    <tr>\n",
       "      <th>16713</th>\n",
       "      <td>spirits &amp; spells</td>\n",
       "      <td>gba</td>\n",
       "      <td>2003</td>\n",
       "      <td>platform</td>\n",
       "      <td>0.01</td>\n",
       "      <td>0.00</td>\n",
       "      <td>0.00</td>\n",
       "      <td>0.00</td>\n",
       "      <td>no score</td>\n",
       "      <td>no score</td>\n",
       "      <td>no rating</td>\n",
       "      <td>0.01</td>\n",
       "    </tr>\n",
       "    <tr>\n",
       "      <th>16714</th>\n",
       "      <td>winning post 8 2016</td>\n",
       "      <td>psv</td>\n",
       "      <td>2016</td>\n",
       "      <td>simulation</td>\n",
       "      <td>0.00</td>\n",
       "      <td>0.00</td>\n",
       "      <td>0.01</td>\n",
       "      <td>0.00</td>\n",
       "      <td>no score</td>\n",
       "      <td>no score</td>\n",
       "      <td>no rating</td>\n",
       "      <td>0.01</td>\n",
       "    </tr>\n",
       "  </tbody>\n",
       "</table>\n",
       "<p>16444 rows × 12 columns</p>\n",
       "</div>"
      ],
      "text/plain": [
       "                                name platform  year_of_release         genre  \\\n",
       "0                         wii sports      wii             2006        sports   \n",
       "1                  super mario bros.      nes             1985      platform   \n",
       "2                     mario kart wii      wii             2008        racing   \n",
       "3                  wii sports resort      wii             2009        sports   \n",
       "4           pokemon red/pokemon blue       gb             1996  role-playing   \n",
       "...                              ...      ...              ...           ...   \n",
       "16710  samurai warriors: sanada maru      ps3             2016        action   \n",
       "16711               lma manager 2007     x360             2006        sports   \n",
       "16712        haitaka no psychedelica      psv             2016     adventure   \n",
       "16713               spirits & spells      gba             2003      platform   \n",
       "16714            winning post 8 2016      psv             2016    simulation   \n",
       "\n",
       "       na_sales  eu_sales  jp_sales  other_sales critic_score user_score  \\\n",
       "0         41.36     28.96      3.77         8.45         76.0        8.0   \n",
       "1         29.08      3.58      6.81         0.77     no score   no score   \n",
       "2         15.68     12.76      3.79         3.29         82.0        8.3   \n",
       "3         15.61     10.93      3.28         2.95         80.0        8.0   \n",
       "4         11.27      8.89     10.22         1.00     no score   no score   \n",
       "...         ...       ...       ...          ...          ...        ...   \n",
       "16710      0.00      0.00      0.01         0.00     no score   no score   \n",
       "16711      0.00      0.01      0.00         0.00     no score   no score   \n",
       "16712      0.00      0.00      0.01         0.00     no score   no score   \n",
       "16713      0.01      0.00      0.00         0.00     no score   no score   \n",
       "16714      0.00      0.00      0.01         0.00     no score   no score   \n",
       "\n",
       "          rating  total_sales  \n",
       "0              e        82.54  \n",
       "1      no rating        40.24  \n",
       "2              e        35.52  \n",
       "3              e        32.77  \n",
       "4      no rating        31.38  \n",
       "...          ...          ...  \n",
       "16710  no rating         0.01  \n",
       "16711  no rating         0.01  \n",
       "16712  no rating         0.01  \n",
       "16713  no rating         0.01  \n",
       "16714  no rating         0.01  \n",
       "\n",
       "[16444 rows x 12 columns]"
      ]
     },
     "metadata": {},
     "output_type": "display_data"
    }
   ],
   "source": [
    "data['total_sales'] = data['na_sales'] + data['eu_sales'] + data['jp_sales'] +  data['other_sales']\n",
    "display(data)"
   ]
  },
  {
   "cell_type": "markdown",
   "metadata": {},
   "source": [
    "### Проведем исследовательский анализ данных"
   ]
  },
  {
   "cell_type": "markdown",
   "metadata": {},
   "source": [
    "#### Посмотрим, сколько игр выпускалось в разные годы. Важны ли данные за все периоды?"
   ]
  },
  {
   "cell_type": "code",
   "execution_count": 8,
   "metadata": {},
   "outputs": [
    {
     "data": {
      "image/png": "[encoded data removed]",
      "text/plain": [
       "<Figure size 432x288 with 1 Axes>"
      ]
     },
     "metadata": {
      "needs_background": "light"
     },
     "output_type": "display_data"
    },
    {
     "data": {
      "text/plain": [
       "2008    1427\n",
       "2009    1426\n",
       "2010    1255\n",
       "2007    1197\n",
       "2011    1136\n",
       "2006    1006\n",
       "2005     939\n",
       "2002     829\n",
       "2003     775\n",
       "2004     762\n",
       "2012     653\n",
       "2015     606\n",
       "2014     581\n",
       "2013     544\n",
       "2016     502\n",
       "2001     482\n",
       "1998     379\n",
       "2000     350\n",
       "1999     338\n",
       "1997     289\n",
       "1996     263\n",
       "1995     219\n",
       "1994     121\n",
       "1993      60\n",
       "1981      46\n",
       "1992      43\n",
       "1991      41\n",
       "1982      36\n",
       "1986      21\n",
       "1983      17\n",
       "1989      17\n",
       "1990      16\n",
       "1987      16\n",
       "1988      15\n",
       "1985      14\n",
       "1984      14\n",
       "1980       9\n",
       "Name: year_of_release, dtype: int64"
      ]
     },
     "execution_count": 8,
     "metadata": {},
     "output_type": "execute_result"
    }
   ],
   "source": [
    "data['year_of_release'].plot(kind ='hist', legend= True, bins=37, title= 'Количество игр по годам', grid= True)\n",
    "plt.xlabel(\"Год\")\n",
    "plt.ylabel(\"Кол-во игр\")\n",
    "plt.show()\n",
    "data['year_of_release'].value_counts()"
   ]
  },
  {
   "cell_type": "markdown",
   "metadata": {},
   "source": [
    "С 2003 года наблюдается резкий подъем выпуска игр, с 2011 резкий спад , \n",
    "считаю нужно взять промежуток с 2011 по 2016 для анализа причин подъема и спада"
   ]
  },
  {
   "cell_type": "markdown",
   "metadata": {},
   "source": [
    "#### Посмотрим, как менялись продажи по платформам. Выберим платформы с наибольшими суммарными продажами и построим распределение по годам. Выясним за какой характерный срок появляются новые и исчезают старые платформы?"
   ]
  },
  {
   "cell_type": "code",
   "execution_count": 9,
   "metadata": {},
   "outputs": [
    {
     "data": {
      "image/png": "[encoded data removed]",
      "text/plain": [
       "<Figure size 720x360 with 1 Axes>"
      ]
     },
     "metadata": {
      "needs_background": "light"
     },
     "output_type": "display_data"
    },
    {
     "name": "stdout",
     "output_type": "stream",
     "text": [
      "          total_sales\n",
      "platform             \n",
      "ps2           1233.56\n",
      "x360           961.24\n",
      "ps3            931.34\n",
      "wii            891.18\n",
      "ds             802.78\n"
     ]
    }
   ],
   "source": [
    "# Отсортируем и выберем топ-5 платформ по продажам\n",
    "top_5 = data.groupby('platform').agg({'total_sales':'sum'}).sort_values(by='total_sales', ascending=False).head(5).index\n",
    "data.query('platform in @top_5').pivot_table(index= 'year_of_release', columns= 'platform',values= 'total_sales', aggfunc= 'sum').plot(grid= True, figsize = (10,5))\n",
    "plt.show()\n",
    "print(data.groupby('platform').agg({'total_sales':'sum'}).sort_values(by='total_sales', ascending=False).head(5))"
   ]
  },
  {
   "cell_type": "markdown",
   "metadata": {},
   "source": [
    "Судя по графику жизнь платформы проходит где то за 10 лет, и видно что в 2005 практически сразу три крутых платформы появилось/\n",
    "Видно что на закате ps2 появляется ps3"
   ]
  },
  {
   "cell_type": "markdown",
   "metadata": {},
   "source": [
    "#### Возьмём данные за период с 2011-2016гг. \n"
   ]
  },
  {
   "cell_type": "markdown",
   "metadata": {},
   "source": [
    "Потвердим период жизни платформы вычислениями:"
   ]
  },
  {
   "cell_type": "code",
   "execution_count": 10,
   "metadata": {},
   "outputs": [
    {
     "data": {
      "text/plain": [
       "year_of_release    10.8\n",
       "dtype: float64"
      ]
     },
     "execution_count": 10,
     "metadata": {},
     "output_type": "execute_result"
    }
   ],
   "source": [
    "# возьмем минимальный порог продаж (например 1 млн)\n",
    "actual_period = data.groupby(['platform','year_of_release']).agg({'total_sales': 'sum'}).query('platform in @ top_5 and total_sales > 1')\n",
    "# \n",
    "actual_period = actual_period.reset_index().groupby('platform').agg({'year_of_release': 'count'}) # расчитает жизненный период каждой платформы\n",
    "actual_period.mean() # расчитает сколько в среднем живет платформа"
   ]
  },
  {
   "cell_type": "code",
   "execution_count": 11,
   "metadata": {},
   "outputs": [
    {
     "data": {
      "text/html": [
       "<div>\n",
       "<style scoped>\n",
       "    .dataframe tbody tr th:only-of-type {\n",
       "        vertical-align: middle;\n",
       "    }\n",
       "\n",
       "    .dataframe tbody tr th {\n",
       "        vertical-align: top;\n",
       "    }\n",
       "\n",
       "    .dataframe thead th {\n",
       "        text-align: right;\n",
       "    }\n",
       "</style>\n",
       "<table border=\"1\" class=\"dataframe\">\n",
       "  <thead>\n",
       "    <tr style=\"text-align: right;\">\n",
       "      <th></th>\n",
       "      <th>name</th>\n",
       "      <th>platform</th>\n",
       "      <th>year_of_release</th>\n",
       "      <th>genre</th>\n",
       "      <th>na_sales</th>\n",
       "      <th>eu_sales</th>\n",
       "      <th>jp_sales</th>\n",
       "      <th>other_sales</th>\n",
       "      <th>critic_score</th>\n",
       "      <th>user_score</th>\n",
       "      <th>rating</th>\n",
       "      <th>total_sales</th>\n",
       "    </tr>\n",
       "  </thead>\n",
       "  <tbody>\n",
       "    <tr>\n",
       "      <th>16</th>\n",
       "      <td>grand theft auto v</td>\n",
       "      <td>ps3</td>\n",
       "      <td>2013</td>\n",
       "      <td>action</td>\n",
       "      <td>7.02</td>\n",
       "      <td>9.09</td>\n",
       "      <td>0.98</td>\n",
       "      <td>3.96</td>\n",
       "      <td>97.0</td>\n",
       "      <td>8.2</td>\n",
       "      <td>m</td>\n",
       "      <td>21.05</td>\n",
       "    </tr>\n",
       "    <tr>\n",
       "      <th>23</th>\n",
       "      <td>grand theft auto v</td>\n",
       "      <td>x360</td>\n",
       "      <td>2013</td>\n",
       "      <td>action</td>\n",
       "      <td>9.66</td>\n",
       "      <td>5.14</td>\n",
       "      <td>0.06</td>\n",
       "      <td>1.41</td>\n",
       "      <td>97.0</td>\n",
       "      <td>8.1</td>\n",
       "      <td>m</td>\n",
       "      <td>16.27</td>\n",
       "    </tr>\n",
       "    <tr>\n",
       "      <th>31</th>\n",
       "      <td>call of duty: black ops 3</td>\n",
       "      <td>ps4</td>\n",
       "      <td>2015</td>\n",
       "      <td>shooter</td>\n",
       "      <td>6.03</td>\n",
       "      <td>5.86</td>\n",
       "      <td>0.36</td>\n",
       "      <td>2.38</td>\n",
       "      <td>no score</td>\n",
       "      <td>no score</td>\n",
       "      <td>no rating</td>\n",
       "      <td>14.63</td>\n",
       "    </tr>\n",
       "    <tr>\n",
       "      <th>33</th>\n",
       "      <td>pokemon x/pokemon y</td>\n",
       "      <td>3ds</td>\n",
       "      <td>2013</td>\n",
       "      <td>role-playing</td>\n",
       "      <td>5.28</td>\n",
       "      <td>4.19</td>\n",
       "      <td>4.35</td>\n",
       "      <td>0.78</td>\n",
       "      <td>no score</td>\n",
       "      <td>no score</td>\n",
       "      <td>no rating</td>\n",
       "      <td>14.60</td>\n",
       "    </tr>\n",
       "    <tr>\n",
       "      <th>34</th>\n",
       "      <td>call of duty: black ops ii</td>\n",
       "      <td>ps3</td>\n",
       "      <td>2012</td>\n",
       "      <td>shooter</td>\n",
       "      <td>4.99</td>\n",
       "      <td>5.73</td>\n",
       "      <td>0.65</td>\n",
       "      <td>2.42</td>\n",
       "      <td>83.0</td>\n",
       "      <td>5.3</td>\n",
       "      <td>m</td>\n",
       "      <td>13.79</td>\n",
       "    </tr>\n",
       "    <tr>\n",
       "      <th>...</th>\n",
       "      <td>...</td>\n",
       "      <td>...</td>\n",
       "      <td>...</td>\n",
       "      <td>...</td>\n",
       "      <td>...</td>\n",
       "      <td>...</td>\n",
       "      <td>...</td>\n",
       "      <td>...</td>\n",
       "      <td>...</td>\n",
       "      <td>...</td>\n",
       "      <td>...</td>\n",
       "      <td>...</td>\n",
       "    </tr>\n",
       "    <tr>\n",
       "      <th>16703</th>\n",
       "      <td>strawberry nauts</td>\n",
       "      <td>psv</td>\n",
       "      <td>2016</td>\n",
       "      <td>adventure</td>\n",
       "      <td>0.00</td>\n",
       "      <td>0.00</td>\n",
       "      <td>0.01</td>\n",
       "      <td>0.00</td>\n",
       "      <td>no score</td>\n",
       "      <td>no score</td>\n",
       "      <td>no rating</td>\n",
       "      <td>0.01</td>\n",
       "    </tr>\n",
       "    <tr>\n",
       "      <th>16707</th>\n",
       "      <td>aiyoku no eustia</td>\n",
       "      <td>psv</td>\n",
       "      <td>2014</td>\n",
       "      <td>misc</td>\n",
       "      <td>0.00</td>\n",
       "      <td>0.00</td>\n",
       "      <td>0.01</td>\n",
       "      <td>0.00</td>\n",
       "      <td>no score</td>\n",
       "      <td>no score</td>\n",
       "      <td>no rating</td>\n",
       "      <td>0.01</td>\n",
       "    </tr>\n",
       "    <tr>\n",
       "      <th>16710</th>\n",
       "      <td>samurai warriors: sanada maru</td>\n",
       "      <td>ps3</td>\n",
       "      <td>2016</td>\n",
       "      <td>action</td>\n",
       "      <td>0.00</td>\n",
       "      <td>0.00</td>\n",
       "      <td>0.01</td>\n",
       "      <td>0.00</td>\n",
       "      <td>no score</td>\n",
       "      <td>no score</td>\n",
       "      <td>no rating</td>\n",
       "      <td>0.01</td>\n",
       "    </tr>\n",
       "    <tr>\n",
       "      <th>16712</th>\n",
       "      <td>haitaka no psychedelica</td>\n",
       "      <td>psv</td>\n",
       "      <td>2016</td>\n",
       "      <td>adventure</td>\n",
       "      <td>0.00</td>\n",
       "      <td>0.00</td>\n",
       "      <td>0.01</td>\n",
       "      <td>0.00</td>\n",
       "      <td>no score</td>\n",
       "      <td>no score</td>\n",
       "      <td>no rating</td>\n",
       "      <td>0.01</td>\n",
       "    </tr>\n",
       "    <tr>\n",
       "      <th>16714</th>\n",
       "      <td>winning post 8 2016</td>\n",
       "      <td>psv</td>\n",
       "      <td>2016</td>\n",
       "      <td>simulation</td>\n",
       "      <td>0.00</td>\n",
       "      <td>0.00</td>\n",
       "      <td>0.01</td>\n",
       "      <td>0.00</td>\n",
       "      <td>no score</td>\n",
       "      <td>no score</td>\n",
       "      <td>no rating</td>\n",
       "      <td>0.01</td>\n",
       "    </tr>\n",
       "  </tbody>\n",
       "</table>\n",
       "<p>2886 rows × 12 columns</p>\n",
       "</div>"
      ],
      "text/plain": [
       "                                name platform  year_of_release         genre  \\\n",
       "16                grand theft auto v      ps3             2013        action   \n",
       "23                grand theft auto v     x360             2013        action   \n",
       "31         call of duty: black ops 3      ps4             2015       shooter   \n",
       "33               pokemon x/pokemon y      3ds             2013  role-playing   \n",
       "34        call of duty: black ops ii      ps3             2012       shooter   \n",
       "...                              ...      ...              ...           ...   \n",
       "16703               strawberry nauts      psv             2016     adventure   \n",
       "16707               aiyoku no eustia      psv             2014          misc   \n",
       "16710  samurai warriors: sanada maru      ps3             2016        action   \n",
       "16712        haitaka no psychedelica      psv             2016     adventure   \n",
       "16714            winning post 8 2016      psv             2016    simulation   \n",
       "\n",
       "       na_sales  eu_sales  jp_sales  other_sales critic_score user_score  \\\n",
       "16         7.02      9.09      0.98         3.96         97.0        8.2   \n",
       "23         9.66      5.14      0.06         1.41         97.0        8.1   \n",
       "31         6.03      5.86      0.36         2.38     no score   no score   \n",
       "33         5.28      4.19      4.35         0.78     no score   no score   \n",
       "34         4.99      5.73      0.65         2.42         83.0        5.3   \n",
       "...         ...       ...       ...          ...          ...        ...   \n",
       "16703      0.00      0.00      0.01         0.00     no score   no score   \n",
       "16707      0.00      0.00      0.01         0.00     no score   no score   \n",
       "16710      0.00      0.00      0.01         0.00     no score   no score   \n",
       "16712      0.00      0.00      0.01         0.00     no score   no score   \n",
       "16714      0.00      0.00      0.01         0.00     no score   no score   \n",
       "\n",
       "          rating  total_sales  \n",
       "16             m        21.05  \n",
       "23             m        16.27  \n",
       "31     no rating        14.63  \n",
       "33     no rating        14.60  \n",
       "34             m        13.79  \n",
       "...          ...          ...  \n",
       "16703  no rating         0.01  \n",
       "16707  no rating         0.01  \n",
       "16710  no rating         0.01  \n",
       "16712  no rating         0.01  \n",
       "16714  no rating         0.01  \n",
       "\n",
       "[2886 rows x 12 columns]"
      ]
     },
     "metadata": {},
     "output_type": "display_data"
    }
   ],
   "source": [
    "# Отфилтруем таблицу за актуальный период , который я решил взять с 2011 года\n",
    "data_actual = data.query('year_of_release > 2011')\n",
    "display(data_actual)"
   ]
  },
  {
   "cell_type": "code",
   "execution_count": 12,
   "metadata": {},
   "outputs": [
    {
     "data": {
      "text/html": [
       "<div>\n",
       "<style scoped>\n",
       "    .dataframe tbody tr th:only-of-type {\n",
       "        vertical-align: middle;\n",
       "    }\n",
       "\n",
       "    .dataframe tbody tr th {\n",
       "        vertical-align: top;\n",
       "    }\n",
       "\n",
       "    .dataframe thead th {\n",
       "        text-align: right;\n",
       "    }\n",
       "</style>\n",
       "<table border=\"1\" class=\"dataframe\">\n",
       "  <thead>\n",
       "    <tr style=\"text-align: right;\">\n",
       "      <th></th>\n",
       "      <th>total_sales</th>\n",
       "    </tr>\n",
       "    <tr>\n",
       "      <th>platform</th>\n",
       "      <th></th>\n",
       "    </tr>\n",
       "  </thead>\n",
       "  <tbody>\n",
       "    <tr>\n",
       "      <th>ps4</th>\n",
       "      <td>314.14</td>\n",
       "    </tr>\n",
       "    <tr>\n",
       "      <th>ps3</th>\n",
       "      <td>288.79</td>\n",
       "    </tr>\n",
       "    <tr>\n",
       "      <th>x360</th>\n",
       "      <td>236.54</td>\n",
       "    </tr>\n",
       "    <tr>\n",
       "      <th>3ds</th>\n",
       "      <td>194.61</td>\n",
       "    </tr>\n",
       "    <tr>\n",
       "      <th>xone</th>\n",
       "      <td>159.32</td>\n",
       "    </tr>\n",
       "  </tbody>\n",
       "</table>\n",
       "</div>"
      ],
      "text/plain": [
       "          total_sales\n",
       "platform             \n",
       "ps4            314.14\n",
       "ps3            288.79\n",
       "x360           236.54\n",
       "3ds            194.61\n",
       "xone           159.32"
      ]
     },
     "execution_count": 12,
     "metadata": {},
     "output_type": "execute_result"
    }
   ],
   "source": [
    "# Топ 5 лидирующих платформ\n",
    "data_actual.groupby('platform').agg({'total_sales':'sum'}).sort_values(by='total_sales', ascending=False).head()"
   ]
  },
  {
   "cell_type": "code",
   "execution_count": 13,
   "metadata": {},
   "outputs": [
    {
     "data": {
      "image/png": "[encoded data removed]",
      "text/plain": [
       "<Figure size 288x360 with 1 Axes>"
      ]
     },
     "metadata": {
      "needs_background": "light"
     },
     "output_type": "display_data"
    },
    {
     "data": {
      "image/png": "[encoded data removed]",
      "text/plain": [
       "<Figure size 288x360 with 1 Axes>"
      ]
     },
     "metadata": {
      "needs_background": "light"
     },
     "output_type": "display_data"
    },
    {
     "data": {
      "image/png": "[encoded data removed]",
      "text/plain": [
       "<Figure size 288x360 with 1 Axes>"
      ]
     },
     "metadata": {
      "needs_background": "light"
     },
     "output_type": "display_data"
    },
    {
     "data": {
      "image/png": "[encoded data removed]",
      "text/plain": [
       "<Figure size 216x360 with 1 Axes>"
      ]
     },
     "metadata": {
      "needs_background": "light"
     },
     "output_type": "display_data"
    },
    {
     "data": {
      "image/png": "[encoded data removed]",
      "text/plain": [
       "<Figure size 216x360 with 1 Axes>"
      ]
     },
     "metadata": {
      "needs_background": "light"
     },
     "output_type": "display_data"
    }
   ],
   "source": [
    "# С помощью графиков посмотрим есть ли спад продаж или подъем\n",
    "data_actual.query('platform == \"x360\"').pivot_table(index= 'year_of_release', values= 'total_sales', aggfunc= 'sum').plot(title= \"x360\", grid= True, figsize = (4,5))\n",
    "data_actual.query('platform == \"ps3\"').pivot_table(index= 'year_of_release', values= 'total_sales', aggfunc= 'sum').plot(title= \"ps3\", grid= True, figsize = (4,5))\n",
    "data_actual.query('platform == \"3ds\"').pivot_table(index= 'year_of_release', values= 'total_sales', aggfunc= 'sum').plot(title= \"3ds\", grid= True, figsize = (4,5))\n",
    "data_actual.query('platform == \"xone\"').pivot_table(index= 'year_of_release', values= 'total_sales', aggfunc= 'sum').plot(title= \"xone\", grid= True, figsize = (3,5))\n",
    "data_actual.query('platform == \"ps4\"').pivot_table(index= 'year_of_release', values= 'total_sales', aggfunc= 'sum').plot(title= \"ps4\", grid= True, figsize = (3,5))\n",
    "plt.show()"
   ]
  },
  {
   "cell_type": "markdown",
   "metadata": {},
   "source": [
    "Судя из графиков на спаде платформы ps3, x360, 3ds. Потенциально прибыльными считаю две относительно новых платформы ps4 и xone."
   ]
  },
  {
   "cell_type": "code",
   "execution_count": 14,
   "metadata": {
    "scrolled": false
   },
   "outputs": [
    {
     "data": {
      "image/png": "[encoded data removed]",
      "text/plain": [
       "<Figure size 720x720 with 1 Axes>"
      ]
     },
     "metadata": {
      "needs_background": "light"
     },
     "output_type": "display_data"
    }
   ],
   "source": [
    "# Построим «ящик с усами» по глобальным продажам игр в разбивке по платформам\n",
    "data_actual.boxplot(column='total_sales',by= 'platform', figsize=(10,10))\n",
    "plt.ylim(0, 5)\n",
    "plt.show()\n"
   ]
  },
  {
   "cell_type": "markdown",
   "metadata": {},
   "source": [
    "по графику видно, что есть выбросы у платформ, это \"анамальные значения\" они скорее всего связаны с рекламными акциями определенных игр."
   ]
  },
  {
   "cell_type": "markdown",
   "metadata": {},
   "source": [
    "#### Построим диаграмму рассеяния и посчитаем корреляцию между отзывами внутри одной популярной платформы"
   ]
  },
  {
   "cell_type": "code",
   "execution_count": 15,
   "metadata": {},
   "outputs": [
    {
     "data": {
      "image/png": "[encoded data removed]",
      "text/plain": [
       "<Figure size 432x288 with 1 Axes>"
      ]
     },
     "metadata": {
      "needs_background": "light"
     },
     "output_type": "display_data"
    }
   ],
   "source": [
    "# возьмем платформу ps4 как перспективную\n",
    "data_actual.loc[data_actual['critic_score'] == 'no score', 'critic_score'] = float('nan')\n",
    "data_actual['critic_score'] = data_actual['critic_score'].astype('float')\n",
    "\n",
    "ps_4 = data_actual.query('platform == \"ps4\"')\n",
    "ps_4.plot(x='critic_score', y='total_sales', kind='scatter') \n",
    "plt.show()"
   ]
  },
  {
   "cell_type": "code",
   "execution_count": 16,
   "metadata": {},
   "outputs": [
    {
     "data": {
      "text/html": [
       "<style  type=\"text/css\" >\n",
       "</style><table id=\"T_7a4aa_\" ><thead>    <tr>        <th class=\"blank level0\" ></th>        <th class=\"col_heading level0 col0\" >critic_score</th>        <th class=\"col_heading level0 col1\" >total_sales</th>    </tr></thead><tbody>\n",
       "                <tr>\n",
       "                        <th id=\"T_7a4aa_level0_row0\" class=\"row_heading level0 row0\" >critic_score</th>\n",
       "                        <td id=\"T_7a4aa_row0_col0\" class=\"data row0 col0\" >100.00%</td>\n",
       "                        <td id=\"T_7a4aa_row0_col1\" class=\"data row0 col1\" >40.66%</td>\n",
       "            </tr>\n",
       "            <tr>\n",
       "                        <th id=\"T_7a4aa_level0_row1\" class=\"row_heading level0 row1\" >total_sales</th>\n",
       "                        <td id=\"T_7a4aa_row1_col0\" class=\"data row1 col0\" >40.66%</td>\n",
       "                        <td id=\"T_7a4aa_row1_col1\" class=\"data row1 col1\" >100.00%</td>\n",
       "            </tr>\n",
       "    </tbody></table>"
      ],
      "text/plain": [
       "<pandas.io.formats.style.Styler at 0x7f5a1f12a130>"
      ]
     },
     "execution_count": 16,
     "metadata": {},
     "output_type": "execute_result"
    }
   ],
   "source": [
    "critic_corr = ps_4[['critic_score', 'total_sales']].corr()\n",
    "critic_corr.style.format(\"{:.2%}\")"
   ]
  },
  {
   "cell_type": "markdown",
   "metadata": {},
   "source": [
    "Судя по графику  и корреляции зависимость присутствует в 41%"
   ]
  },
  {
   "cell_type": "code",
   "execution_count": 17,
   "metadata": {},
   "outputs": [
    {
     "data": {
      "image/png": "[encoded data removed]",
      "text/plain": [
       "<Figure size 432x288 with 1 Axes>"
      ]
     },
     "metadata": {
      "needs_background": "light"
     },
     "output_type": "display_data"
    }
   ],
   "source": [
    "data_actual.loc[data_actual['user_score'] == 'no score', 'user_score'] = float('nan')\n",
    "data_actual['user_score'] = data_actual['user_score'].astype('float')\n",
    "\n",
    "ps_4 = data_actual.query('platform == \"ps4\"')\n",
    "ps_4.plot(x='user_score', y='total_sales', kind='scatter') \n",
    "plt.show()"
   ]
  },
  {
   "cell_type": "code",
   "execution_count": 18,
   "metadata": {},
   "outputs": [
    {
     "data": {
      "text/html": [
       "<style  type=\"text/css\" >\n",
       "</style><table id=\"T_bfbfb_\" ><thead>    <tr>        <th class=\"blank level0\" ></th>        <th class=\"col_heading level0 col0\" >user_score</th>        <th class=\"col_heading level0 col1\" >total_sales</th>    </tr></thead><tbody>\n",
       "                <tr>\n",
       "                        <th id=\"T_bfbfb_level0_row0\" class=\"row_heading level0 row0\" >user_score</th>\n",
       "                        <td id=\"T_bfbfb_row0_col0\" class=\"data row0 col0\" >100.00%</td>\n",
       "                        <td id=\"T_bfbfb_row0_col1\" class=\"data row0 col1\" >-3.20%</td>\n",
       "            </tr>\n",
       "            <tr>\n",
       "                        <th id=\"T_bfbfb_level0_row1\" class=\"row_heading level0 row1\" >total_sales</th>\n",
       "                        <td id=\"T_bfbfb_row1_col0\" class=\"data row1 col0\" >-3.20%</td>\n",
       "                        <td id=\"T_bfbfb_row1_col1\" class=\"data row1 col1\" >100.00%</td>\n",
       "            </tr>\n",
       "    </tbody></table>"
      ],
      "text/plain": [
       "<pandas.io.formats.style.Styler at 0x7f5a1ea1ac70>"
      ]
     },
     "execution_count": 18,
     "metadata": {},
     "output_type": "execute_result"
    }
   ],
   "source": [
    "us_corr = ps_4[['user_score', 'total_sales']].corr()\n",
    "us_corr.style.format(\"{:.2%}\")"
   ]
  },
  {
   "cell_type": "markdown",
   "metadata": {},
   "source": [
    "Судя по графику  и отрицательной корреляции, зависимость слабая, практически нет."
   ]
  },
  {
   "cell_type": "markdown",
   "metadata": {},
   "source": [
    "#### Cоотнесем выводы с продажами игр на других платформах"
   ]
  },
  {
   "cell_type": "code",
   "execution_count": 19,
   "metadata": {},
   "outputs": [
    {
     "data": {
      "image/png": "[encoded data removed]",
      "text/plain": [
       "<Figure size 432x288 with 1 Axes>"
      ]
     },
     "metadata": {
      "needs_background": "light"
     },
     "output_type": "display_data"
    }
   ],
   "source": [
    "# Построим диаграмму рассеяния по топ 5\n",
    "data_actual.plot(x='critic_score', y='total_sales', kind='scatter') \n",
    "plt.show()"
   ]
  },
  {
   "cell_type": "code",
   "execution_count": 20,
   "metadata": {},
   "outputs": [
    {
     "data": {
      "text/html": [
       "<style  type=\"text/css\" >\n",
       "</style><table id=\"T_5e6e7_\" ><thead>    <tr>        <th class=\"blank level0\" ></th>        <th class=\"col_heading level0 col0\" >critic_score</th>        <th class=\"col_heading level0 col1\" >total_sales</th>    </tr></thead><tbody>\n",
       "                <tr>\n",
       "                        <th id=\"T_5e6e7_level0_row0\" class=\"row_heading level0 row0\" >critic_score</th>\n",
       "                        <td id=\"T_5e6e7_row0_col0\" class=\"data row0 col0\" >100.00%</td>\n",
       "                        <td id=\"T_5e6e7_row0_col1\" class=\"data row0 col1\" >30.82%</td>\n",
       "            </tr>\n",
       "            <tr>\n",
       "                        <th id=\"T_5e6e7_level0_row1\" class=\"row_heading level0 row1\" >total_sales</th>\n",
       "                        <td id=\"T_5e6e7_row1_col0\" class=\"data row1 col0\" >30.82%</td>\n",
       "                        <td id=\"T_5e6e7_row1_col1\" class=\"data row1 col1\" >100.00%</td>\n",
       "            </tr>\n",
       "    </tbody></table>"
      ],
      "text/plain": [
       "<pandas.io.formats.style.Styler at 0x7f5a1ee55610>"
      ]
     },
     "execution_count": 20,
     "metadata": {},
     "output_type": "execute_result"
    }
   ],
   "source": [
    "# Корреляция по топ 5 \n",
    "all_corr = data_actual[['critic_score', 'total_sales']].corr()\n",
    "all_corr.style.format(\"{:.2%}\")"
   ]
  },
  {
   "cell_type": "code",
   "execution_count": 21,
   "metadata": {},
   "outputs": [
    {
     "data": {
      "image/png": "[encoded data removed]",
      "text/plain": [
       "<Figure size 432x288 with 1 Axes>"
      ]
     },
     "metadata": {
      "needs_background": "light"
     },
     "output_type": "display_data"
    }
   ],
   "source": [
    "# Построим диаграмму рассеяния по топ 5\n",
    "data_actual.plot(x='user_score', y='total_sales', kind='scatter') \n",
    "plt.show()"
   ]
  },
  {
   "cell_type": "code",
   "execution_count": 22,
   "metadata": {},
   "outputs": [
    {
     "data": {
      "text/html": [
       "<style  type=\"text/css\" >\n",
       "</style><table id=\"T_4a5b0_\" ><thead>    <tr>        <th class=\"blank level0\" ></th>        <th class=\"col_heading level0 col0\" >user_score</th>        <th class=\"col_heading level0 col1\" >total_sales</th>    </tr></thead><tbody>\n",
       "                <tr>\n",
       "                        <th id=\"T_4a5b0_level0_row0\" class=\"row_heading level0 row0\" >user_score</th>\n",
       "                        <td id=\"T_4a5b0_row0_col0\" class=\"data row0 col0\" >100.00%</td>\n",
       "                        <td id=\"T_4a5b0_row0_col1\" class=\"data row0 col1\" >0.44%</td>\n",
       "            </tr>\n",
       "            <tr>\n",
       "                        <th id=\"T_4a5b0_level0_row1\" class=\"row_heading level0 row1\" >total_sales</th>\n",
       "                        <td id=\"T_4a5b0_row1_col0\" class=\"data row1 col0\" >0.44%</td>\n",
       "                        <td id=\"T_4a5b0_row1_col1\" class=\"data row1 col1\" >100.00%</td>\n",
       "            </tr>\n",
       "    </tbody></table>"
      ],
      "text/plain": [
       "<pandas.io.formats.style.Styler at 0x7f5a1ee33400>"
      ]
     },
     "execution_count": 22,
     "metadata": {},
     "output_type": "execute_result"
    }
   ],
   "source": [
    "# Корреляция по топ 5 \n",
    "all_corr = data_actual[['user_score', 'total_sales']].corr()\n",
    "all_corr.style.format(\"{:.2%}\")"
   ]
  },
  {
   "cell_type": "markdown",
   "metadata": {},
   "source": [
    "Вывод: Оценка критиков имеет влияния на продажу, а оценки пользователей в меньшей степени влияют на продажи."
   ]
  },
  {
   "cell_type": "markdown",
   "metadata": {},
   "source": [
    "#### Посмотрим на общее распределение игр по жанрам. Выделим жанры с высокими и низкими продажами"
   ]
  },
  {
   "cell_type": "code",
   "execution_count": 23,
   "metadata": {},
   "outputs": [
    {
     "data": {
      "image/png": "[encoded data removed]",
      "text/plain": [
       "<Figure size 432x288 with 1 Axes>"
      ]
     },
     "metadata": {
      "needs_background": "light"
     },
     "output_type": "display_data"
    },
    {
     "data": {
      "text/html": [
       "<div>\n",
       "<style scoped>\n",
       "    .dataframe tbody tr th:only-of-type {\n",
       "        vertical-align: middle;\n",
       "    }\n",
       "\n",
       "    .dataframe tbody tr th {\n",
       "        vertical-align: top;\n",
       "    }\n",
       "\n",
       "    .dataframe thead th {\n",
       "        text-align: right;\n",
       "    }\n",
       "</style>\n",
       "<table border=\"1\" class=\"dataframe\">\n",
       "  <thead>\n",
       "    <tr style=\"text-align: right;\">\n",
       "      <th></th>\n",
       "      <th>total_sales</th>\n",
       "    </tr>\n",
       "    <tr>\n",
       "      <th>genre</th>\n",
       "      <th></th>\n",
       "    </tr>\n",
       "  </thead>\n",
       "  <tbody>\n",
       "    <tr>\n",
       "      <th>shooter</th>\n",
       "      <td>0.44</td>\n",
       "    </tr>\n",
       "    <tr>\n",
       "      <th>sports</th>\n",
       "      <td>0.24</td>\n",
       "    </tr>\n",
       "    <tr>\n",
       "      <th>platform</th>\n",
       "      <td>0.21</td>\n",
       "    </tr>\n",
       "    <tr>\n",
       "      <th>role-playing</th>\n",
       "      <td>0.14</td>\n",
       "    </tr>\n",
       "    <tr>\n",
       "      <th>racing</th>\n",
       "      <td>0.14</td>\n",
       "    </tr>\n",
       "  </tbody>\n",
       "</table>\n",
       "</div>"
      ],
      "text/plain": [
       "              total_sales\n",
       "genre                    \n",
       "shooter              0.44\n",
       "sports               0.24\n",
       "platform             0.21\n",
       "role-playing         0.14\n",
       "racing               0.14"
      ]
     },
     "metadata": {},
     "output_type": "display_data"
    }
   ],
   "source": [
    "# общее распределение игр по жанрам\n",
    "all_genre = data_actual.groupby('genre').agg({'total_sales':'median'}).sort_values(by='total_sales', ascending=False)\n",
    "all_genre.plot(kind= 'bar')\n",
    "plt.show()\n",
    "\n",
    "# Топ 5 самых прибольных жанров\n",
    "top_5_genre = all_genre.head()\n",
    "display(top_5_genre)"
   ]
  },
  {
   "cell_type": "markdown",
   "metadata": {},
   "source": [
    "По графику и по расчетам можно выделить топ пять прибыльных жанров:shooter, sports, platform, role-playing, racing."
   ]
  },
  {
   "cell_type": "markdown",
   "metadata": {},
   "source": [
    "### Составим портрет пользователя каждого региона"
   ]
  },
  {
   "cell_type": "markdown",
   "metadata": {},
   "source": [
    "#### Определим для пользователя каждого региона (NA, EU, JP): \n",
    "* Самые популярные платформы (топ-5).\n",
    "* Самые популярные жанры (топ-5).\n",
    "* Влияет ли рейтинг ESRB на продажи в отдельном регионе?"
   ]
  },
  {
   "cell_type": "code",
   "execution_count": 24,
   "metadata": {},
   "outputs": [
    {
     "data": {
      "text/html": [
       "<div>\n",
       "<style scoped>\n",
       "    .dataframe tbody tr th:only-of-type {\n",
       "        vertical-align: middle;\n",
       "    }\n",
       "\n",
       "    .dataframe tbody tr th {\n",
       "        vertical-align: top;\n",
       "    }\n",
       "\n",
       "    .dataframe thead th {\n",
       "        text-align: right;\n",
       "    }\n",
       "</style>\n",
       "<table border=\"1\" class=\"dataframe\">\n",
       "  <thead>\n",
       "    <tr style=\"text-align: right;\">\n",
       "      <th></th>\n",
       "      <th>na_sales</th>\n",
       "    </tr>\n",
       "    <tr>\n",
       "      <th>platform</th>\n",
       "      <th></th>\n",
       "    </tr>\n",
       "  </thead>\n",
       "  <tbody>\n",
       "    <tr>\n",
       "      <th>x360</th>\n",
       "      <td>27.976428</td>\n",
       "    </tr>\n",
       "    <tr>\n",
       "      <th>ps4</th>\n",
       "      <td>21.721934</td>\n",
       "    </tr>\n",
       "    <tr>\n",
       "      <th>ps3</th>\n",
       "      <td>20.651219</td>\n",
       "    </tr>\n",
       "    <tr>\n",
       "      <th>xone</th>\n",
       "      <td>18.601678</td>\n",
       "    </tr>\n",
       "    <tr>\n",
       "      <th>3ds</th>\n",
       "      <td>11.048742</td>\n",
       "    </tr>\n",
       "  </tbody>\n",
       "</table>\n",
       "</div>"
      ],
      "text/plain": [
       "           na_sales\n",
       "platform           \n",
       "x360      27.976428\n",
       "ps4       21.721934\n",
       "ps3       20.651219\n",
       "xone      18.601678\n",
       "3ds       11.048742"
      ]
     },
     "metadata": {},
     "output_type": "display_data"
    },
    {
     "data": {
      "text/html": [
       "<div>\n",
       "<style scoped>\n",
       "    .dataframe tbody tr th:only-of-type {\n",
       "        vertical-align: middle;\n",
       "    }\n",
       "\n",
       "    .dataframe tbody tr th {\n",
       "        vertical-align: top;\n",
       "    }\n",
       "\n",
       "    .dataframe thead th {\n",
       "        text-align: right;\n",
       "    }\n",
       "</style>\n",
       "<table border=\"1\" class=\"dataframe\">\n",
       "  <thead>\n",
       "    <tr style=\"text-align: right;\">\n",
       "      <th></th>\n",
       "      <th>na_sales</th>\n",
       "    </tr>\n",
       "    <tr>\n",
       "      <th>genre</th>\n",
       "      <th></th>\n",
       "    </tr>\n",
       "  </thead>\n",
       "  <tbody>\n",
       "    <tr>\n",
       "      <th>action</th>\n",
       "      <td>177.84</td>\n",
       "    </tr>\n",
       "    <tr>\n",
       "      <th>shooter</th>\n",
       "      <td>144.77</td>\n",
       "    </tr>\n",
       "    <tr>\n",
       "      <th>sports</th>\n",
       "      <td>81.53</td>\n",
       "    </tr>\n",
       "    <tr>\n",
       "      <th>role-playing</th>\n",
       "      <td>64.00</td>\n",
       "    </tr>\n",
       "    <tr>\n",
       "      <th>misc</th>\n",
       "      <td>38.19</td>\n",
       "    </tr>\n",
       "  </tbody>\n",
       "</table>\n",
       "</div>"
      ],
      "text/plain": [
       "              na_sales\n",
       "genre                 \n",
       "action          177.84\n",
       "shooter         144.77\n",
       "sports           81.53\n",
       "role-playing     64.00\n",
       "misc             38.19"
      ]
     },
     "metadata": {},
     "output_type": "display_data"
    },
    {
     "data": {
      "image/png": "[encoded data removed]",
      "text/plain": [
       "<Figure size 432x288 with 1 Axes>"
      ]
     },
     "metadata": {
      "needs_background": "light"
     },
     "output_type": "display_data"
    }
   ],
   "source": [
    "# Топ 5 платформ в регионе Северная Америка в долях продаж\n",
    "na_platf = data_actual.groupby(by='platform').agg({'na_sales':'sum'}).sort_values(by='na_sales', ascending=False).head(5)\n",
    "na_platf['na_sales'] = (na_platf['na_sales'] / na_platf['na_sales'].sum()) * 100\n",
    "display(na_platf)\n",
    "\n",
    "# Топ 5 жанров в регионе Северная Америка \n",
    "na_genre = data_actual.groupby(by='genre').agg({'na_sales':'sum'}).sort_values(by='na_sales', ascending=False).head(5)\n",
    "display(na_genre)\n",
    "\n",
    "# рейтинг ESRB на продажи в регионе Севернаяй Америка\n",
    "na_esrb = data_actual.groupby(by='rating').agg({'na_sales':'sum'}).sort_values(by='na_sales', ascending=False).plot(kind='bar')\n",
    "plt.show()"
   ]
  },
  {
   "cell_type": "code",
   "execution_count": 25,
   "metadata": {},
   "outputs": [
    {
     "data": {
      "text/html": [
       "<div>\n",
       "<style scoped>\n",
       "    .dataframe tbody tr th:only-of-type {\n",
       "        vertical-align: middle;\n",
       "    }\n",
       "\n",
       "    .dataframe tbody tr th {\n",
       "        vertical-align: top;\n",
       "    }\n",
       "\n",
       "    .dataframe thead th {\n",
       "        text-align: right;\n",
       "    }\n",
       "</style>\n",
       "<table border=\"1\" class=\"dataframe\">\n",
       "  <thead>\n",
       "    <tr style=\"text-align: right;\">\n",
       "      <th></th>\n",
       "      <th>eu_sales</th>\n",
       "    </tr>\n",
       "    <tr>\n",
       "      <th>platform</th>\n",
       "      <th></th>\n",
       "    </tr>\n",
       "  </thead>\n",
       "  <tbody>\n",
       "    <tr>\n",
       "      <th>ps4</th>\n",
       "      <td>33.858891</td>\n",
       "    </tr>\n",
       "    <tr>\n",
       "      <th>ps3</th>\n",
       "      <td>25.644348</td>\n",
       "    </tr>\n",
       "    <tr>\n",
       "      <th>x360</th>\n",
       "      <td>17.883369</td>\n",
       "    </tr>\n",
       "    <tr>\n",
       "      <th>xone</th>\n",
       "      <td>12.380610</td>\n",
       "    </tr>\n",
       "    <tr>\n",
       "      <th>3ds</th>\n",
       "      <td>10.232781</td>\n",
       "    </tr>\n",
       "  </tbody>\n",
       "</table>\n",
       "</div>"
      ],
      "text/plain": [
       "           eu_sales\n",
       "platform           \n",
       "ps4       33.858891\n",
       "ps3       25.644348\n",
       "x360      17.883369\n",
       "xone      12.380610\n",
       "3ds       10.232781"
      ]
     },
     "metadata": {},
     "output_type": "display_data"
    },
    {
     "data": {
      "text/html": [
       "<div>\n",
       "<style scoped>\n",
       "    .dataframe tbody tr th:only-of-type {\n",
       "        vertical-align: middle;\n",
       "    }\n",
       "\n",
       "    .dataframe tbody tr th {\n",
       "        vertical-align: top;\n",
       "    }\n",
       "\n",
       "    .dataframe thead th {\n",
       "        text-align: right;\n",
       "    }\n",
       "</style>\n",
       "<table border=\"1\" class=\"dataframe\">\n",
       "  <thead>\n",
       "    <tr style=\"text-align: right;\">\n",
       "      <th></th>\n",
       "      <th>eu_sales</th>\n",
       "    </tr>\n",
       "    <tr>\n",
       "      <th>genre</th>\n",
       "      <th></th>\n",
       "    </tr>\n",
       "  </thead>\n",
       "  <tbody>\n",
       "    <tr>\n",
       "      <th>action</th>\n",
       "      <td>159.34</td>\n",
       "    </tr>\n",
       "    <tr>\n",
       "      <th>shooter</th>\n",
       "      <td>113.47</td>\n",
       "    </tr>\n",
       "    <tr>\n",
       "      <th>sports</th>\n",
       "      <td>69.09</td>\n",
       "    </tr>\n",
       "    <tr>\n",
       "      <th>role-playing</th>\n",
       "      <td>48.53</td>\n",
       "    </tr>\n",
       "    <tr>\n",
       "      <th>racing</th>\n",
       "      <td>27.29</td>\n",
       "    </tr>\n",
       "  </tbody>\n",
       "</table>\n",
       "</div>"
      ],
      "text/plain": [
       "              eu_sales\n",
       "genre                 \n",
       "action          159.34\n",
       "shooter         113.47\n",
       "sports           69.09\n",
       "role-playing     48.53\n",
       "racing           27.29"
      ]
     },
     "metadata": {},
     "output_type": "display_data"
    },
    {
     "data": {
      "image/png": "[encoded data removed]",
      "text/plain": [
       "<Figure size 432x288 with 1 Axes>"
      ]
     },
     "metadata": {
      "needs_background": "light"
     },
     "output_type": "display_data"
    }
   ],
   "source": [
    "# Топ 5 платформ в регионе Европа в долях продаж\n",
    "eu_platf = data_actual.groupby(by='platform').agg({'eu_sales':'sum'}).sort_values(by='eu_sales', ascending=False).head(5)\n",
    "eu_platf['eu_sales'] = (eu_platf['eu_sales'] / eu_platf['eu_sales'].sum()) * 100\n",
    "display(eu_platf)\n",
    "\n",
    "# Топ 5 жанров в регионе Европа \n",
    "eu_genre = data_actual.groupby(by='genre').agg({'eu_sales':'sum'}).sort_values(by='eu_sales', ascending=False).head(5)\n",
    "display(eu_genre)\n",
    "\n",
    "# рейтинг ESRB на продажи в регионе Европа\n",
    "eu_esrb = data_actual.groupby(by='rating').agg({'eu_sales':'sum'}).sort_values(by='eu_sales', ascending=False).plot(kind='bar')\n",
    "plt.show()"
   ]
  },
  {
   "cell_type": "code",
   "execution_count": 26,
   "metadata": {},
   "outputs": [
    {
     "data": {
      "text/html": [
       "<div>\n",
       "<style scoped>\n",
       "    .dataframe tbody tr th:only-of-type {\n",
       "        vertical-align: middle;\n",
       "    }\n",
       "\n",
       "    .dataframe tbody tr th {\n",
       "        vertical-align: top;\n",
       "    }\n",
       "\n",
       "    .dataframe thead th {\n",
       "        text-align: right;\n",
       "    }\n",
       "</style>\n",
       "<table border=\"1\" class=\"dataframe\">\n",
       "  <thead>\n",
       "    <tr style=\"text-align: right;\">\n",
       "      <th></th>\n",
       "      <th>jp_sales</th>\n",
       "    </tr>\n",
       "    <tr>\n",
       "      <th>platform</th>\n",
       "      <th></th>\n",
       "    </tr>\n",
       "  </thead>\n",
       "  <tbody>\n",
       "    <tr>\n",
       "      <th>3ds</th>\n",
       "      <td>50.719279</td>\n",
       "    </tr>\n",
       "    <tr>\n",
       "      <th>ps3</th>\n",
       "      <td>20.388237</td>\n",
       "    </tr>\n",
       "    <tr>\n",
       "      <th>psv</th>\n",
       "      <td>12.155526</td>\n",
       "    </tr>\n",
       "    <tr>\n",
       "      <th>ps4</th>\n",
       "      <td>9.220637</td>\n",
       "    </tr>\n",
       "    <tr>\n",
       "      <th>wiiu</th>\n",
       "      <td>7.516321</td>\n",
       "    </tr>\n",
       "  </tbody>\n",
       "</table>\n",
       "</div>"
      ],
      "text/plain": [
       "           jp_sales\n",
       "platform           \n",
       "3ds       50.719279\n",
       "ps3       20.388237\n",
       "psv       12.155526\n",
       "ps4        9.220637\n",
       "wiiu       7.516321"
      ]
     },
     "metadata": {},
     "output_type": "display_data"
    },
    {
     "data": {
      "text/html": [
       "<div>\n",
       "<style scoped>\n",
       "    .dataframe tbody tr th:only-of-type {\n",
       "        vertical-align: middle;\n",
       "    }\n",
       "\n",
       "    .dataframe tbody tr th {\n",
       "        vertical-align: top;\n",
       "    }\n",
       "\n",
       "    .dataframe thead th {\n",
       "        text-align: right;\n",
       "    }\n",
       "</style>\n",
       "<table border=\"1\" class=\"dataframe\">\n",
       "  <thead>\n",
       "    <tr style=\"text-align: right;\">\n",
       "      <th></th>\n",
       "      <th>jp_sales</th>\n",
       "    </tr>\n",
       "    <tr>\n",
       "      <th>genre</th>\n",
       "      <th></th>\n",
       "    </tr>\n",
       "  </thead>\n",
       "  <tbody>\n",
       "    <tr>\n",
       "      <th>role-playing</th>\n",
       "      <td>65.44</td>\n",
       "    </tr>\n",
       "    <tr>\n",
       "      <th>action</th>\n",
       "      <td>52.80</td>\n",
       "    </tr>\n",
       "    <tr>\n",
       "      <th>misc</th>\n",
       "      <td>12.86</td>\n",
       "    </tr>\n",
       "    <tr>\n",
       "      <th>simulation</th>\n",
       "      <td>10.41</td>\n",
       "    </tr>\n",
       "    <tr>\n",
       "      <th>fighting</th>\n",
       "      <td>9.44</td>\n",
       "    </tr>\n",
       "  </tbody>\n",
       "</table>\n",
       "</div>"
      ],
      "text/plain": [
       "              jp_sales\n",
       "genre                 \n",
       "role-playing     65.44\n",
       "action           52.80\n",
       "misc             12.86\n",
       "simulation       10.41\n",
       "fighting          9.44"
      ]
     },
     "metadata": {},
     "output_type": "display_data"
    },
    {
     "data": {
      "image/png": "[encoded data removed]",
      "text/plain": [
       "<Figure size 432x288 with 1 Axes>"
      ]
     },
     "metadata": {
      "needs_background": "light"
     },
     "output_type": "display_data"
    }
   ],
   "source": [
    "# Топ 5 платформ в регионе Япония в долях продаж\n",
    "jp_platf = data_actual.groupby(by='platform').agg({'jp_sales':'sum'}).sort_values(by='jp_sales', ascending=False).head(5)\n",
    "jp_platf['jp_sales'] = (jp_platf['jp_sales'] / jp_platf['jp_sales'].sum()) * 100\n",
    "display(jp_platf)\n",
    "\n",
    "# Топ 5 жанров в регионе Япония  \n",
    "jp_genre = data_actual.groupby(by='genre').agg({'jp_sales':'sum'}).sort_values(by='jp_sales', ascending=False).head(5)\n",
    "display(jp_genre)\n",
    "\n",
    "# рейтинг ESRB на продажи в регионе Япония\n",
    "jp_esrb = data_actual.groupby(by='rating').agg({'jp_sales':'sum'}).sort_values(by='jp_sales', ascending=False).plot(kind='bar')\n",
    "plt.show()"
   ]
  },
  {
   "cell_type": "markdown",
   "metadata": {},
   "source": [
    "Выводы: \n",
    "1. Регион Северная америка: Лидирует приставка американского производства xbox 360 28% продаж, жанры action и shooter пользуются успехом,рейтинг \"е\" даёт максимальные продажи.\n",
    "2. Регион Европа: Лидирует платформа play station 4 - 33% продаж,жанры action и shooter пользуются успехом, рейтинг \"е\" и \"м\" даёт максимальные продажи.\n",
    "3. Регион Япония: Лидирууют приставка Nintendo 3ds - 50% продаж, жанры \"role-playing\" и action пользуются успехом, рейтинг \"е\" и \"T\" дают максимальные продажи, но важнее игры вообще без рейтинга ESRB тк в Японии действует своя система рейтинга CERO."
   ]
  },
  {
   "cell_type": "markdown",
   "metadata": {},
   "source": [
    "### Гипотезы"
   ]
  },
  {
   "cell_type": "markdown",
   "metadata": {},
   "source": [
    "* Средние пользовательские рейтинги платформ Xbox One и PC одинаковые;\n",
    "* Средние пользовательские рейтинги жанров Action (англ. «действие», экшен-игры) и Sports (англ. «спортивные соревнования») разные."
   ]
  },
  {
   "cell_type": "markdown",
   "metadata": {},
   "source": [
    "#### Гипотеза: Средние пользовательские рейтинги платформ Xbox One и PC одинаковые"
   ]
  },
  {
   "cell_type": "code",
   "execution_count": 27,
   "metadata": {},
   "outputs": [
    {
     "name": "stdout",
     "output_type": "stream",
     "text": [
      "p-значение: 0.5489537965134912\n",
      "Не получилось отвергнуть нулевую гипотезу\n"
     ]
    }
   ],
   "source": [
    "# Нулевая гипотеза: Средние пользовательские рейтинги платформ Xbox One и PC одинаковые\n",
    "# Альтернативная гиротеза: Средние пользовательские рейтинги платформ Xbox One и PC не равны\n",
    "xbox = data_actual[data_actual['platform'] == 'xone']['user_score'].dropna()\n",
    "pc = data_actual[data_actual['platform'] == 'pc']['user_score'].dropna()\n",
    "\n",
    "alpha = 0.05 # Общепринятое пороговое значение\n",
    "results = st.ttest_ind(xbox, pc, equal_var = False)\n",
    "\n",
    "print('p-значение:', results.pvalue)\n",
    "\n",
    "if results.pvalue < alpha:\n",
    "    print(\"Отвергаем нулевую гипотезу\")\n",
    "else:\n",
    "    print(\"Не получилось отвергнуть нулевую гипотезу\")"
   ]
  },
  {
   "cell_type": "markdown",
   "metadata": {},
   "source": [
    "p-value равно примерно 54%, что не отвергает нулевую гипотезу. Значит гипотеза, о том, что средние пользовательские рейтинги платформ Xbox One и PC скорее всего будут равны"
   ]
  },
  {
   "cell_type": "markdown",
   "metadata": {},
   "source": [
    "#### Гипотеза: Средние пользовательские рейтинги жанров Action и Sports разные"
   ]
  },
  {
   "cell_type": "code",
   "execution_count": 28,
   "metadata": {},
   "outputs": [
    {
     "name": "stdout",
     "output_type": "stream",
     "text": [
      "p-значение: 4.24307776572644e-20\n",
      "Отвергаем нулевую гипотезу\n"
     ]
    }
   ],
   "source": [
    "# Нулевая гипотеза: Средние пользовательские рейтинги жанров Action и Sports одинаковые\n",
    "# Альтернативная гиротеза: Средние пользовательские рейтинги жанров Action и Sports разные\n",
    "action = data_actual[data_actual['genre'] == 'action']['user_score'].dropna()\n",
    "sports = data_actual[data_actual['genre'] == 'sports']['user_score'].dropna()\n",
    "\n",
    "alpha = 0.05 # Общепринятое пороговое значение\n",
    "results_1 = st.ttest_ind(action, sports, equal_var = False)\n",
    "\n",
    "print('p-значение:', results_1.pvalue)\n",
    "\n",
    "if results_1.pvalue < alpha:\n",
    "    print(\"Отвергаем нулевую гипотезу\")\n",
    "else:\n",
    "    print(\"Не получилось отвергнуть нулевую гипотезу\")"
   ]
  },
  {
   "cell_type": "markdown",
   "metadata": {},
   "source": [
    "p-value почти равно нулю, что отвергает нулевую гипотезу.Значит гипотеза, о том, что средние пользовательские рейтинги жанров Action и Sports скорее всего будут разные."
   ]
  },
  {
   "cell_type": "markdown",
   "metadata": {},
   "source": [
    "### Общий вывод:"
   ]
  },
  {
   "cell_type": "markdown",
   "metadata": {},
   "source": [
    "* Из анализа понятно, что не стоит учитывать мнение критиков (проплаченые обзоры например).\n",
    "* Есть смысл сделать ставку на самые продоваемые жанры игр, например:\n",
    "  1. Регион Северная америка жанры экшн и шутеры пользуются успехом;\n",
    "  2. Регион Европа в топе тоже жанры экшн и шутеры;\n",
    "  3. Регион Япония  жанр ролевые игры и экшн.\n",
    "* Стоит учитывать платформы в регионах:\n",
    "  1. Регион Северная америка xbox 360;\n",
    "  2. Регион Европа ps4;\n",
    "  3. Регион Япония  nintendo 3ds.\n",
    "* Рейтинг ESRB тоже занимает не последее место и для каждго региона он свой:\n",
    "  1. Регион Северная америка рейтинг \"е\";\n",
    "  2. Регион Европа рейтинг \"е\" и \"м\";\n",
    "  3. Регион Япония  здесь действует своя система рейтинга CERO стоит знать ее прнцип.\n",
    "* Учитывая, выше сказанные выврды помогут спланировать успешные рекламные компании и выделить потенциально продоваемые продукты. \n"
   ]
  }
 ],
 "metadata": {
  "ExecuteTimeLog": [
   {
    "duration": 834,
    "start_time": "2021-12-27T08:12:33.095Z"
   },
   {
    "duration": 59,
    "start_time": "2021-12-27T08:13:26.776Z"
   },
   {
    "duration": 79,
    "start_time": "2021-12-27T08:13:38.474Z"
   },
   {
    "duration": 3,
    "start_time": "2021-12-27T08:14:18.452Z"
   },
   {
    "duration": 14,
    "start_time": "2021-12-27T08:17:05.275Z"
   },
   {
    "duration": 13,
    "start_time": "2021-12-27T08:17:10.593Z"
   },
   {
    "duration": 14,
    "start_time": "2021-12-27T08:17:33.422Z"
   },
   {
    "duration": 20,
    "start_time": "2021-12-27T08:26:44.183Z"
   },
   {
    "duration": 19,
    "start_time": "2021-12-27T08:30:28.089Z"
   },
   {
    "duration": 31,
    "start_time": "2021-12-27T08:36:36.486Z"
   },
   {
    "duration": 44,
    "start_time": "2021-12-27T08:37:01.543Z"
   },
   {
    "duration": 33,
    "start_time": "2021-12-27T08:39:59.932Z"
   },
   {
    "duration": 138,
    "start_time": "2021-12-27T09:27:31.153Z"
   },
   {
    "duration": 48,
    "start_time": "2021-12-27T09:27:40.987Z"
   },
   {
    "duration": 1706,
    "start_time": "2021-12-27T14:22:19.297Z"
   },
   {
    "duration": 9438,
    "start_time": "2021-12-27T14:24:00.068Z"
   },
   {
    "duration": 48,
    "start_time": "2021-12-27T14:24:31.494Z"
   },
   {
    "duration": 52,
    "start_time": "2021-12-27T14:30:35.739Z"
   },
   {
    "duration": 68,
    "start_time": "2021-12-27T14:34:03.477Z"
   },
   {
    "duration": 22,
    "start_time": "2021-12-27T14:34:36.954Z"
   },
   {
    "duration": 15,
    "start_time": "2021-12-27T14:37:53.221Z"
   },
   {
    "duration": 485,
    "start_time": "2021-12-27T14:43:08.930Z"
   },
   {
    "duration": 83,
    "start_time": "2021-12-27T14:43:51.809Z"
   },
   {
    "duration": 22,
    "start_time": "2021-12-27T14:43:54.187Z"
   },
   {
    "duration": 9,
    "start_time": "2021-12-27T14:43:54.381Z"
   },
   {
    "duration": 19,
    "start_time": "2021-12-27T14:43:54.584Z"
   },
   {
    "duration": 20,
    "start_time": "2021-12-27T14:45:13.908Z"
   },
   {
    "duration": 352,
    "start_time": "2021-12-27T14:45:28.548Z"
   },
   {
    "duration": 200,
    "start_time": "2021-12-27T14:45:34.709Z"
   },
   {
    "duration": 17,
    "start_time": "2021-12-27T14:45:46.324Z"
   },
   {
    "duration": 18,
    "start_time": "2021-12-27T14:45:58.125Z"
   },
   {
    "duration": 20,
    "start_time": "2021-12-27T14:47:37.248Z"
   },
   {
    "duration": 10,
    "start_time": "2021-12-27T14:48:00.663Z"
   },
   {
    "duration": 83,
    "start_time": "2021-12-27T14:48:04.768Z"
   },
   {
    "duration": 18,
    "start_time": "2021-12-27T14:48:05.114Z"
   },
   {
    "duration": 9,
    "start_time": "2021-12-27T14:48:05.274Z"
   },
   {
    "duration": 20,
    "start_time": "2021-12-27T14:48:05.431Z"
   },
   {
    "duration": 81,
    "start_time": "2021-12-28T05:50:05.267Z"
   },
   {
    "duration": 956,
    "start_time": "2021-12-28T05:50:27.462Z"
   },
   {
    "duration": 77,
    "start_time": "2021-12-28T05:50:33.636Z"
   },
   {
    "duration": 18,
    "start_time": "2021-12-28T05:50:35.277Z"
   },
   {
    "duration": 9,
    "start_time": "2021-12-28T05:50:36.352Z"
   },
   {
    "duration": 49,
    "start_time": "2021-12-28T05:50:37.371Z"
   },
   {
    "duration": 345,
    "start_time": "2021-12-28T05:54:05.037Z"
   },
   {
    "duration": 17,
    "start_time": "2021-12-28T05:54:23.404Z"
   },
   {
    "duration": 12,
    "start_time": "2021-12-28T05:54:34.560Z"
   },
   {
    "duration": 13,
    "start_time": "2021-12-28T05:55:10.977Z"
   },
   {
    "duration": 12,
    "start_time": "2021-12-28T05:55:16.041Z"
   },
   {
    "duration": 12,
    "start_time": "2021-12-28T05:55:56.203Z"
   },
   {
    "duration": 368,
    "start_time": "2021-12-28T05:57:54.036Z"
   },
   {
    "duration": 18,
    "start_time": "2021-12-28T05:58:55.212Z"
   },
   {
    "duration": 46,
    "start_time": "2021-12-28T05:59:54.758Z"
   },
   {
    "duration": 50,
    "start_time": "2021-12-28T06:01:22.460Z"
   },
   {
    "duration": 49,
    "start_time": "2021-12-28T06:07:07.509Z"
   },
   {
    "duration": 85,
    "start_time": "2021-12-28T06:07:24.751Z"
   },
   {
    "duration": 51,
    "start_time": "2021-12-28T06:07:26.916Z"
   },
   {
    "duration": 10,
    "start_time": "2021-12-28T06:07:30.995Z"
   },
   {
    "duration": 49,
    "start_time": "2021-12-28T06:07:35.875Z"
   },
   {
    "duration": 23,
    "start_time": "2021-12-28T06:11:11.832Z"
   },
   {
    "duration": 85,
    "start_time": "2021-12-28T06:11:28.661Z"
   },
   {
    "duration": 51,
    "start_time": "2021-12-28T06:11:29.760Z"
   },
   {
    "duration": 9,
    "start_time": "2021-12-28T06:11:30.430Z"
   },
   {
    "duration": 27,
    "start_time": "2021-12-28T06:11:31.209Z"
   },
   {
    "duration": 47,
    "start_time": "2021-12-28T06:14:03.296Z"
   },
   {
    "duration": 57,
    "start_time": "2021-12-28T06:18:18.999Z"
   },
   {
    "duration": 25,
    "start_time": "2021-12-28T06:19:33.684Z"
   },
   {
    "duration": 126,
    "start_time": "2021-12-28T06:59:54.766Z"
   },
   {
    "duration": 391,
    "start_time": "2021-12-28T07:00:05.802Z"
   },
   {
    "duration": 35,
    "start_time": "2021-12-28T07:00:23.588Z"
   },
   {
    "duration": 4,
    "start_time": "2021-12-28T07:01:51.873Z"
   },
   {
    "duration": 39,
    "start_time": "2021-12-28T07:04:05.973Z"
   },
   {
    "duration": 17,
    "start_time": "2021-12-28T07:04:15.431Z"
   },
   {
    "duration": 86,
    "start_time": "2021-12-28T07:04:24.942Z"
   },
   {
    "duration": 36,
    "start_time": "2021-12-28T07:04:26.192Z"
   },
   {
    "duration": 19,
    "start_time": "2021-12-28T07:04:27.779Z"
   },
   {
    "duration": 9,
    "start_time": "2021-12-28T07:04:31.416Z"
   },
   {
    "duration": 102,
    "start_time": "2021-12-28T07:05:28.817Z"
   },
   {
    "duration": 46,
    "start_time": "2021-12-28T07:06:15.570Z"
   },
   {
    "duration": 88,
    "start_time": "2021-12-28T07:06:25.345Z"
   },
   {
    "duration": 50,
    "start_time": "2021-12-28T07:06:26.138Z"
   },
   {
    "duration": 16,
    "start_time": "2021-12-28T07:06:26.504Z"
   },
   {
    "duration": 10,
    "start_time": "2021-12-28T07:06:26.673Z"
   },
   {
    "duration": 65,
    "start_time": "2021-12-28T07:06:27.098Z"
   },
   {
    "duration": 25,
    "start_time": "2021-12-28T07:06:27.688Z"
   },
   {
    "duration": 34,
    "start_time": "2021-12-28T07:06:28.389Z"
   },
   {
    "duration": 617,
    "start_time": "2021-12-28T07:08:29.605Z"
   },
   {
    "duration": 45,
    "start_time": "2021-12-28T07:09:54.643Z"
   },
   {
    "duration": 42,
    "start_time": "2021-12-28T07:10:35.672Z"
   },
   {
    "duration": 37,
    "start_time": "2021-12-28T07:10:46.718Z"
   },
   {
    "duration": 85,
    "start_time": "2021-12-28T07:10:49.853Z"
   },
   {
    "duration": 34,
    "start_time": "2021-12-28T07:10:55.123Z"
   },
   {
    "duration": 38,
    "start_time": "2021-12-28T07:10:56.925Z"
   },
   {
    "duration": 37,
    "start_time": "2021-12-28T07:11:05.183Z"
   },
   {
    "duration": 43,
    "start_time": "2021-12-28T07:11:08.555Z"
   },
   {
    "duration": 37,
    "start_time": "2021-12-28T07:11:13.903Z"
   },
   {
    "duration": 85,
    "start_time": "2021-12-28T07:11:18.700Z"
   },
   {
    "duration": 36,
    "start_time": "2021-12-28T07:11:21.019Z"
   },
   {
    "duration": 44,
    "start_time": "2021-12-28T07:11:24.508Z"
   },
   {
    "duration": 88,
    "start_time": "2021-12-28T07:11:39.997Z"
   },
   {
    "duration": 35,
    "start_time": "2021-12-28T07:11:41.499Z"
   },
   {
    "duration": 44,
    "start_time": "2021-12-28T07:11:42.637Z"
   },
   {
    "duration": 82,
    "start_time": "2021-12-28T07:13:36.072Z"
   },
   {
    "duration": 41,
    "start_time": "2021-12-28T07:13:36.728Z"
   },
   {
    "duration": 49,
    "start_time": "2021-12-28T07:13:37.733Z"
   },
   {
    "duration": 86,
    "start_time": "2021-12-28T07:14:05.102Z"
   },
   {
    "duration": 36,
    "start_time": "2021-12-28T07:14:05.614Z"
   },
   {
    "duration": 40,
    "start_time": "2021-12-28T07:14:06.743Z"
   },
   {
    "duration": 9,
    "start_time": "2021-12-28T07:14:28.796Z"
   },
   {
    "duration": 63,
    "start_time": "2021-12-28T07:14:29.879Z"
   },
   {
    "duration": 25,
    "start_time": "2021-12-28T07:14:30.889Z"
   },
   {
    "duration": 43,
    "start_time": "2021-12-28T07:14:31.832Z"
   },
   {
    "duration": 61,
    "start_time": "2021-12-28T07:14:36.805Z"
   },
   {
    "duration": 9,
    "start_time": "2021-12-28T07:15:30.088Z"
   },
   {
    "duration": 3600,
    "start_time": "2021-12-28T07:16:53.090Z"
   },
   {
    "duration": 15,
    "start_time": "2021-12-28T07:20:18.412Z"
   },
   {
    "duration": 87,
    "start_time": "2021-12-28T07:20:24.778Z"
   },
   {
    "duration": 38,
    "start_time": "2021-12-28T07:20:26.041Z"
   },
   {
    "duration": 15,
    "start_time": "2021-12-28T07:20:27.339Z"
   },
   {
    "duration": 35,
    "start_time": "2021-12-28T07:20:42.185Z"
   },
   {
    "duration": 81,
    "start_time": "2021-12-28T07:22:36.460Z"
   },
   {
    "duration": 35,
    "start_time": "2021-12-28T07:22:38.548Z"
   },
   {
    "duration": 37,
    "start_time": "2021-12-28T07:22:39.708Z"
   },
   {
    "duration": 51,
    "start_time": "2021-12-28T07:22:52.301Z"
   },
   {
    "duration": 79,
    "start_time": "2021-12-28T07:22:55.052Z"
   },
   {
    "duration": 39,
    "start_time": "2021-12-28T07:22:56.561Z"
   },
   {
    "duration": 34,
    "start_time": "2021-12-28T07:22:57.308Z"
   },
   {
    "duration": 44,
    "start_time": "2021-12-28T07:23:47.663Z"
   },
   {
    "duration": 84,
    "start_time": "2021-12-28T07:23:50.869Z"
   },
   {
    "duration": 45,
    "start_time": "2021-12-28T07:23:53.436Z"
   },
   {
    "duration": 42,
    "start_time": "2021-12-28T07:23:53.905Z"
   },
   {
    "duration": 1378,
    "start_time": "2021-12-28T07:24:41.550Z"
   },
   {
    "duration": 34,
    "start_time": "2021-12-28T07:24:52.807Z"
   },
   {
    "duration": 7145,
    "start_time": "2021-12-28T07:25:53.615Z"
   },
   {
    "duration": 6799,
    "start_time": "2021-12-28T07:26:16.896Z"
   },
   {
    "duration": 1392,
    "start_time": "2021-12-28T07:27:51.482Z"
   },
   {
    "duration": 84,
    "start_time": "2021-12-28T07:28:05.720Z"
   },
   {
    "duration": 35,
    "start_time": "2021-12-28T07:28:06.249Z"
   },
   {
    "duration": 55,
    "start_time": "2021-12-28T07:28:07.230Z"
   },
   {
    "duration": 10473,
    "start_time": "2021-12-28T07:29:03.602Z"
   },
   {
    "duration": 85,
    "start_time": "2021-12-28T07:29:38.902Z"
   },
   {
    "duration": 35,
    "start_time": "2021-12-28T07:29:39.398Z"
   },
   {
    "duration": 38,
    "start_time": "2021-12-28T07:29:40.239Z"
   },
   {
    "duration": 78,
    "start_time": "2021-12-28T07:29:50.646Z"
   },
   {
    "duration": 38,
    "start_time": "2021-12-28T07:29:51.135Z"
   },
   {
    "duration": 63,
    "start_time": "2021-12-28T07:29:51.735Z"
   },
   {
    "duration": 9,
    "start_time": "2021-12-28T07:30:07.289Z"
   },
   {
    "duration": 63,
    "start_time": "2021-12-28T07:30:07.621Z"
   },
   {
    "duration": 25,
    "start_time": "2021-12-28T07:30:07.942Z"
   },
   {
    "duration": 49,
    "start_time": "2021-12-28T07:30:08.268Z"
   },
   {
    "duration": 9,
    "start_time": "2021-12-28T07:30:09.146Z"
   },
   {
    "duration": 80,
    "start_time": "2021-12-28T07:30:40.806Z"
   },
   {
    "duration": 36,
    "start_time": "2021-12-28T07:30:41.311Z"
   },
   {
    "duration": 36,
    "start_time": "2021-12-28T07:30:41.988Z"
   },
   {
    "duration": 10,
    "start_time": "2021-12-28T07:30:43.421Z"
   },
   {
    "duration": 62,
    "start_time": "2021-12-28T07:30:43.764Z"
   },
   {
    "duration": 25,
    "start_time": "2021-12-28T07:30:44.113Z"
   },
   {
    "duration": 34,
    "start_time": "2021-12-28T07:30:44.526Z"
   },
   {
    "duration": 473,
    "start_time": "2021-12-28T07:32:09.931Z"
   },
   {
    "duration": 344,
    "start_time": "2021-12-28T07:33:54.196Z"
   },
   {
    "duration": 611,
    "start_time": "2021-12-28T07:34:45.990Z"
   },
   {
    "duration": 601,
    "start_time": "2021-12-28T07:35:22.249Z"
   },
   {
    "duration": 37,
    "start_time": "2021-12-28T07:35:22.852Z"
   },
   {
    "duration": 12,
    "start_time": "2021-12-28T07:35:23.007Z"
   },
   {
    "duration": 10,
    "start_time": "2021-12-28T07:35:23.183Z"
   },
   {
    "duration": 63,
    "start_time": "2021-12-28T07:35:23.511Z"
   },
   {
    "duration": 26,
    "start_time": "2021-12-28T07:35:23.835Z"
   },
   {
    "duration": 33,
    "start_time": "2021-12-28T07:35:24.157Z"
   },
   {
    "duration": 350,
    "start_time": "2021-12-28T07:35:25.050Z"
   },
   {
    "duration": 548,
    "start_time": "2021-12-28T07:36:11.415Z"
   },
   {
    "duration": 450,
    "start_time": "2021-12-28T07:37:33.929Z"
   },
   {
    "duration": 737,
    "start_time": "2021-12-28T07:38:16.529Z"
   },
   {
    "duration": 401,
    "start_time": "2021-12-28T07:38:34.408Z"
   },
   {
    "duration": 445,
    "start_time": "2021-12-28T07:39:03.872Z"
   },
   {
    "duration": 435,
    "start_time": "2021-12-28T07:39:42.184Z"
   },
   {
    "duration": 448,
    "start_time": "2021-12-28T07:40:26.611Z"
   },
   {
    "duration": 439,
    "start_time": "2021-12-28T07:44:39.644Z"
   },
   {
    "duration": 441,
    "start_time": "2021-12-28T07:46:22.311Z"
   },
   {
    "duration": 462,
    "start_time": "2021-12-28T07:46:25.806Z"
   },
   {
    "duration": 460,
    "start_time": "2021-12-28T07:46:40.936Z"
   },
   {
    "duration": 459,
    "start_time": "2021-12-28T07:46:44.830Z"
   },
   {
    "duration": 437,
    "start_time": "2021-12-28T07:49:34.297Z"
   },
   {
    "duration": 535,
    "start_time": "2021-12-28T07:49:38.608Z"
   },
   {
    "duration": 719,
    "start_time": "2021-12-28T07:50:44.410Z"
   },
   {
    "duration": 830,
    "start_time": "2021-12-28T07:51:03.259Z"
   },
   {
    "duration": 15,
    "start_time": "2021-12-28T08:14:32.691Z"
   },
   {
    "duration": 505,
    "start_time": "2021-12-28T08:16:58.487Z"
   },
   {
    "duration": 15,
    "start_time": "2021-12-28T08:17:06.485Z"
   },
   {
    "duration": 547,
    "start_time": "2021-12-28T08:20:00.056Z"
   },
   {
    "duration": 307,
    "start_time": "2021-12-28T08:20:11.403Z"
   },
   {
    "duration": 16,
    "start_time": "2021-12-28T08:20:18.773Z"
   },
   {
    "duration": 15,
    "start_time": "2021-12-28T08:20:39.392Z"
   },
   {
    "duration": 14,
    "start_time": "2021-12-28T08:28:59.711Z"
   },
   {
    "duration": 14,
    "start_time": "2021-12-28T08:29:19.804Z"
   },
   {
    "duration": 40,
    "start_time": "2021-12-28T08:31:52.841Z"
   },
   {
    "duration": 373,
    "start_time": "2021-12-28T08:32:56.611Z"
   },
   {
    "duration": 382,
    "start_time": "2021-12-28T08:33:11.627Z"
   },
   {
    "duration": 15,
    "start_time": "2021-12-28T08:35:00.188Z"
   },
   {
    "duration": 14,
    "start_time": "2021-12-28T08:35:03.020Z"
   },
   {
    "duration": 1160,
    "start_time": "2021-12-28T08:35:05.702Z"
   },
   {
    "duration": 505,
    "start_time": "2021-12-28T08:36:25.998Z"
   },
   {
    "duration": 429,
    "start_time": "2021-12-28T08:37:10.038Z"
   },
   {
    "duration": 325,
    "start_time": "2021-12-28T08:37:42.823Z"
   },
   {
    "duration": 32,
    "start_time": "2021-12-28T08:37:51.302Z"
   },
   {
    "duration": 31,
    "start_time": "2021-12-28T08:38:13.083Z"
   },
   {
    "duration": 40,
    "start_time": "2021-12-28T08:39:16.767Z"
   },
   {
    "duration": 45,
    "start_time": "2021-12-28T08:39:42.559Z"
   },
   {
    "duration": 509,
    "start_time": "2021-12-28T08:40:16.081Z"
   },
   {
    "duration": 422,
    "start_time": "2021-12-28T08:40:24.866Z"
   },
   {
    "duration": 81,
    "start_time": "2021-12-28T08:40:55.489Z"
   },
   {
    "duration": 10,
    "start_time": "2021-12-28T09:31:03.957Z"
   },
   {
    "duration": 12,
    "start_time": "2021-12-28T09:31:20.163Z"
   },
   {
    "duration": 43,
    "start_time": "2021-12-28T09:32:10.228Z"
   },
   {
    "duration": 341,
    "start_time": "2021-12-28T09:33:08.741Z"
   },
   {
    "duration": 6,
    "start_time": "2021-12-28T09:33:19.804Z"
   },
   {
    "duration": 12,
    "start_time": "2021-12-28T09:33:55.454Z"
   },
   {
    "duration": 14,
    "start_time": "2021-12-28T09:34:43.655Z"
   },
   {
    "duration": 68,
    "start_time": "2021-12-28T09:35:34.024Z"
   },
   {
    "duration": 29,
    "start_time": "2021-12-28T09:35:50.028Z"
   },
   {
    "duration": 29,
    "start_time": "2021-12-28T09:36:25.681Z"
   },
   {
    "duration": 12,
    "start_time": "2021-12-28T09:37:14.587Z"
   },
   {
    "duration": 157,
    "start_time": "2021-12-28T09:38:01.203Z"
   },
   {
    "duration": 451,
    "start_time": "2021-12-28T09:38:12.937Z"
   },
   {
    "duration": 13,
    "start_time": "2021-12-28T09:38:25.705Z"
   },
   {
    "duration": 11,
    "start_time": "2021-12-28T09:38:27.794Z"
   },
   {
    "duration": 71,
    "start_time": "2021-12-28T09:39:39.827Z"
   },
   {
    "duration": 10,
    "start_time": "2021-12-28T09:43:50.386Z"
   },
   {
    "duration": 11,
    "start_time": "2021-12-28T09:43:56.471Z"
   },
   {
    "duration": 12,
    "start_time": "2021-12-28T09:44:00.733Z"
   },
   {
    "duration": 18,
    "start_time": "2021-12-28T09:46:58.016Z"
   },
   {
    "duration": 412,
    "start_time": "2021-12-28T09:48:11.514Z"
   },
   {
    "duration": 462,
    "start_time": "2021-12-28T09:49:01.355Z"
   },
   {
    "duration": 415,
    "start_time": "2021-12-28T09:50:24.532Z"
   },
   {
    "duration": 81,
    "start_time": "2021-12-28T09:51:41.756Z"
   },
   {
    "duration": 34,
    "start_time": "2021-12-28T09:51:42.317Z"
   },
   {
    "duration": 12,
    "start_time": "2021-12-28T09:51:42.658Z"
   },
   {
    "duration": 10,
    "start_time": "2021-12-28T09:51:42.836Z"
   },
   {
    "duration": 67,
    "start_time": "2021-12-28T09:51:43.179Z"
   },
   {
    "duration": 25,
    "start_time": "2021-12-28T09:51:43.531Z"
   },
   {
    "duration": 35,
    "start_time": "2021-12-28T09:51:43.866Z"
   },
   {
    "duration": 468,
    "start_time": "2021-12-28T09:51:44.440Z"
   },
   {
    "duration": 25,
    "start_time": "2021-12-28T09:54:08.951Z"
   },
   {
    "duration": 10,
    "start_time": "2021-12-28T09:54:46.838Z"
   },
   {
    "duration": 670,
    "start_time": "2021-12-28T09:55:30.407Z"
   },
   {
    "duration": 484,
    "start_time": "2021-12-28T09:56:38.337Z"
   },
   {
    "duration": 472,
    "start_time": "2021-12-28T09:56:52.991Z"
   },
   {
    "duration": 575,
    "start_time": "2021-12-28T09:58:34.530Z"
   },
   {
    "duration": 451,
    "start_time": "2021-12-28T10:03:35.972Z"
   },
   {
    "duration": 965,
    "start_time": "2021-12-28T10:05:52.846Z"
   },
   {
    "duration": 468,
    "start_time": "2021-12-28T10:06:09.560Z"
   },
   {
    "duration": 500,
    "start_time": "2021-12-28T10:08:34.888Z"
   },
   {
    "duration": 473,
    "start_time": "2021-12-28T10:08:45.472Z"
   },
   {
    "duration": 806,
    "start_time": "2021-12-28T11:49:32.087Z"
   },
   {
    "duration": 729,
    "start_time": "2021-12-28T11:49:44.886Z"
   },
   {
    "duration": 429,
    "start_time": "2021-12-28T11:49:54.780Z"
   },
   {
    "duration": 378,
    "start_time": "2021-12-28T12:05:23.921Z"
   },
   {
    "duration": 36,
    "start_time": "2021-12-28T12:05:33.625Z"
   },
   {
    "duration": 40,
    "start_time": "2021-12-28T12:06:20.405Z"
   },
   {
    "duration": 37,
    "start_time": "2021-12-28T12:06:36.200Z"
   },
   {
    "duration": 49,
    "start_time": "2021-12-28T12:06:59.996Z"
   },
   {
    "duration": 19,
    "start_time": "2021-12-28T12:08:11.084Z"
   },
   {
    "duration": 599,
    "start_time": "2021-12-28T12:15:09.553Z"
   },
   {
    "duration": 2376,
    "start_time": "2021-12-28T12:16:21.125Z"
   },
   {
    "duration": 1381,
    "start_time": "2021-12-28T12:21:36.072Z"
   },
   {
    "duration": 1306,
    "start_time": "2021-12-28T12:22:13.850Z"
   },
   {
    "duration": 1635,
    "start_time": "2021-12-28T12:22:37.624Z"
   },
   {
    "duration": 2545,
    "start_time": "2021-12-28T12:23:04.145Z"
   },
   {
    "duration": 2346,
    "start_time": "2021-12-28T12:23:21.737Z"
   },
   {
    "duration": 1920,
    "start_time": "2021-12-28T12:25:59.827Z"
   },
   {
    "duration": 1829,
    "start_time": "2021-12-28T12:27:18.668Z"
   },
   {
    "duration": 2079,
    "start_time": "2021-12-28T12:28:18.629Z"
   },
   {
    "duration": 388,
    "start_time": "2021-12-28T13:10:33.532Z"
   },
   {
    "duration": 287,
    "start_time": "2021-12-28T13:10:44.252Z"
   },
   {
    "duration": 669,
    "start_time": "2021-12-28T13:14:13.015Z"
   },
   {
    "duration": 864,
    "start_time": "2021-12-28T13:14:45.424Z"
   },
   {
    "duration": 1593,
    "start_time": "2021-12-28T13:15:01.656Z"
   },
   {
    "duration": 1060,
    "start_time": "2021-12-28T13:16:17.154Z"
   },
   {
    "duration": 1210,
    "start_time": "2021-12-28T13:16:38.586Z"
   },
   {
    "duration": 677,
    "start_time": "2021-12-28T13:16:56.474Z"
   },
   {
    "duration": 1232,
    "start_time": "2021-12-28T13:17:21.162Z"
   },
   {
    "duration": 733,
    "start_time": "2021-12-28T13:17:47.690Z"
   },
   {
    "duration": 203,
    "start_time": "2021-12-28T17:33:09.414Z"
   },
   {
    "duration": 216,
    "start_time": "2021-12-28T17:33:27.846Z"
   },
   {
    "duration": 677,
    "start_time": "2021-12-28T17:37:01.261Z"
   },
   {
    "duration": 906,
    "start_time": "2021-12-28T17:37:09.141Z"
   },
   {
    "duration": 1450,
    "start_time": "2021-12-28T17:39:24.968Z"
   },
   {
    "duration": 1416,
    "start_time": "2021-12-28T17:39:36.391Z"
   },
   {
    "duration": 789,
    "start_time": "2021-12-28T17:39:50.821Z"
   },
   {
    "duration": 765,
    "start_time": "2021-12-28T17:40:00.763Z"
   },
   {
    "duration": 1070,
    "start_time": "2021-12-28T17:41:20.160Z"
   },
   {
    "duration": 1237,
    "start_time": "2021-12-28T17:41:47.067Z"
   },
   {
    "duration": 1741,
    "start_time": "2021-12-28T17:42:23.253Z"
   },
   {
    "duration": 1642,
    "start_time": "2021-12-28T17:42:36.452Z"
   },
   {
    "duration": 1130,
    "start_time": "2021-12-28T17:44:34.334Z"
   },
   {
    "duration": 785,
    "start_time": "2021-12-28T17:47:23.471Z"
   },
   {
    "duration": 34,
    "start_time": "2021-12-28T17:52:26.281Z"
   },
   {
    "duration": 15,
    "start_time": "2021-12-28T17:52:30.339Z"
   },
   {
    "duration": 734,
    "start_time": "2021-12-28T17:52:46.801Z"
   },
   {
    "duration": 654,
    "start_time": "2021-12-28T17:53:07.775Z"
   },
   {
    "duration": 88,
    "start_time": "2021-12-28T17:53:53.628Z"
   },
   {
    "duration": 37,
    "start_time": "2021-12-28T17:53:54.117Z"
   },
   {
    "duration": 11,
    "start_time": "2021-12-28T17:53:54.440Z"
   },
   {
    "duration": 9,
    "start_time": "2021-12-28T17:53:54.619Z"
   },
   {
    "duration": 68,
    "start_time": "2021-12-28T17:53:54.948Z"
   },
   {
    "duration": 27,
    "start_time": "2021-12-28T17:53:55.284Z"
   },
   {
    "duration": 32,
    "start_time": "2021-12-28T17:53:55.635Z"
   },
   {
    "duration": 519,
    "start_time": "2021-12-28T17:53:56.132Z"
   },
   {
    "duration": 495,
    "start_time": "2021-12-28T17:53:56.660Z"
   },
   {
    "duration": 4,
    "start_time": "2021-12-28T17:53:57.173Z"
   },
   {
    "duration": 37,
    "start_time": "2021-12-28T17:53:57.348Z"
   },
   {
    "duration": 22,
    "start_time": "2021-12-28T17:53:57.528Z"
   },
   {
    "duration": 2321,
    "start_time": "2021-12-28T17:53:57.709Z"
   },
   {
    "duration": 756,
    "start_time": "2021-12-28T17:54:00.033Z"
   },
   {
    "duration": 766,
    "start_time": "2021-12-28T17:55:55.178Z"
   },
   {
    "duration": 37,
    "start_time": "2021-12-28T18:02:40.720Z"
   },
   {
    "duration": 14,
    "start_time": "2021-12-28T18:02:44.133Z"
   },
   {
    "duration": 1960,
    "start_time": "2021-12-28T18:02:47.684Z"
   },
   {
    "duration": 698,
    "start_time": "2021-12-28T18:02:54.364Z"
   },
   {
    "duration": 1099,
    "start_time": "2021-12-28T18:05:30.873Z"
   },
   {
    "duration": 1726,
    "start_time": "2021-12-28T18:05:57.671Z"
   },
   {
    "duration": 2735,
    "start_time": "2021-12-28T18:06:19.590Z"
   },
   {
    "duration": 29,
    "start_time": "2021-12-28T18:23:52.348Z"
   },
   {
    "duration": 382,
    "start_time": "2021-12-28T18:25:38.820Z"
   },
   {
    "duration": 398,
    "start_time": "2021-12-28T18:32:49.559Z"
   },
   {
    "duration": 675,
    "start_time": "2021-12-28T18:35:14.348Z"
   },
   {
    "duration": 387,
    "start_time": "2021-12-28T18:35:25.328Z"
   },
   {
    "duration": 442,
    "start_time": "2021-12-28T18:38:04.317Z"
   },
   {
    "duration": 561,
    "start_time": "2021-12-28T18:39:16.125Z"
   },
   {
    "duration": 81,
    "start_time": "2021-12-29T05:52:58.224Z"
   },
   {
    "duration": 36,
    "start_time": "2021-12-29T05:52:58.717Z"
   },
   {
    "duration": 14,
    "start_time": "2021-12-29T05:52:59.068Z"
   },
   {
    "duration": 10,
    "start_time": "2021-12-29T05:52:59.238Z"
   },
   {
    "duration": 66,
    "start_time": "2021-12-29T05:52:59.604Z"
   },
   {
    "duration": 26,
    "start_time": "2021-12-29T05:52:59.942Z"
   },
   {
    "duration": 36,
    "start_time": "2021-12-29T05:53:00.259Z"
   },
   {
    "duration": 453,
    "start_time": "2021-12-29T05:53:00.764Z"
   },
   {
    "duration": 423,
    "start_time": "2021-12-29T05:53:01.282Z"
   },
   {
    "duration": 3,
    "start_time": "2021-12-29T05:53:01.791Z"
   },
   {
    "duration": 40,
    "start_time": "2021-12-29T05:53:01.967Z"
   },
   {
    "duration": 17,
    "start_time": "2021-12-29T05:53:02.150Z"
   },
   {
    "duration": 1791,
    "start_time": "2021-12-29T05:53:02.330Z"
   },
   {
    "duration": 2562,
    "start_time": "2021-12-29T05:53:04.124Z"
   },
   {
    "duration": 127,
    "start_time": "2021-12-29T05:53:06.690Z"
   },
   {
    "duration": 890,
    "start_time": "2021-12-29T05:53:05.930Z"
   },
   {
    "duration": 887,
    "start_time": "2021-12-29T05:53:05.935Z"
   },
   {
    "duration": 551,
    "start_time": "2021-12-29T05:53:23.031Z"
   },
   {
    "duration": 392,
    "start_time": "2021-12-29T05:53:26.384Z"
   },
   {
    "duration": 139,
    "start_time": "2021-12-29T06:01:00.638Z"
   },
   {
    "duration": 124,
    "start_time": "2021-12-29T06:01:34.075Z"
   },
   {
    "duration": 9237,
    "start_time": "2021-12-29T06:04:35.450Z"
   },
   {
    "duration": 9509,
    "start_time": "2021-12-29T06:04:44.906Z"
   },
   {
    "duration": 24,
    "start_time": "2021-12-29T06:05:02.724Z"
   },
   {
    "duration": 23,
    "start_time": "2021-12-29T06:09:11.513Z"
   },
   {
    "duration": 35,
    "start_time": "2021-12-29T06:09:37.474Z"
   },
   {
    "duration": 15,
    "start_time": "2021-12-29T06:09:43.173Z"
   },
   {
    "duration": 51,
    "start_time": "2021-12-29T06:10:06.141Z"
   },
   {
    "duration": 16,
    "start_time": "2021-12-29T06:10:08.957Z"
   },
   {
    "duration": 14,
    "start_time": "2021-12-29T06:10:23.051Z"
   },
   {
    "duration": 36,
    "start_time": "2021-12-29T06:10:40.789Z"
   },
   {
    "duration": 15,
    "start_time": "2021-12-29T06:10:44.365Z"
   },
   {
    "duration": 1881,
    "start_time": "2021-12-29T06:10:48.726Z"
   },
   {
    "duration": 2422,
    "start_time": "2021-12-29T06:11:35.103Z"
   },
   {
    "duration": 1130,
    "start_time": "2021-12-29T06:12:04.004Z"
   },
   {
    "duration": 419,
    "start_time": "2021-12-29T06:47:25.963Z"
   },
   {
    "duration": 402,
    "start_time": "2021-12-29T06:47:30.281Z"
   },
   {
    "duration": 537,
    "start_time": "2021-12-29T06:48:21.730Z"
   },
   {
    "duration": 431,
    "start_time": "2021-12-29T06:48:31.218Z"
   },
   {
    "duration": 411,
    "start_time": "2021-12-29T06:54:11.166Z"
   },
   {
    "duration": 751,
    "start_time": "2021-12-29T07:04:00.885Z"
   },
   {
    "duration": 7,
    "start_time": "2021-12-29T07:07:08.328Z"
   },
   {
    "duration": 6,
    "start_time": "2021-12-29T07:07:10.935Z"
   },
   {
    "duration": 381,
    "start_time": "2021-12-29T07:07:19.727Z"
   },
   {
    "duration": 10,
    "start_time": "2021-12-29T07:07:29.705Z"
   },
   {
    "duration": 10,
    "start_time": "2021-12-29T07:10:31.147Z"
   },
   {
    "duration": 12,
    "start_time": "2021-12-29T07:10:53.994Z"
   },
   {
    "duration": 14,
    "start_time": "2021-12-29T07:11:09.938Z"
   },
   {
    "duration": 10,
    "start_time": "2021-12-29T07:11:19.507Z"
   },
   {
    "duration": 13,
    "start_time": "2021-12-29T07:11:45.475Z"
   },
   {
    "duration": 9,
    "start_time": "2021-12-29T07:12:38.291Z"
   },
   {
    "duration": 485,
    "start_time": "2021-12-29T07:12:52.026Z"
   },
   {
    "duration": 11,
    "start_time": "2021-12-29T07:12:52.514Z"
   },
   {
    "duration": 415,
    "start_time": "2021-12-29T07:12:52.588Z"
   },
   {
    "duration": 8,
    "start_time": "2021-12-29T07:12:53.006Z"
   },
   {
    "duration": 87,
    "start_time": "2021-12-29T07:13:12.178Z"
   },
   {
    "duration": 39,
    "start_time": "2021-12-29T07:13:12.658Z"
   },
   {
    "duration": 13,
    "start_time": "2021-12-29T07:13:12.971Z"
   },
   {
    "duration": 9,
    "start_time": "2021-12-29T07:13:13.140Z"
   },
   {
    "duration": 66,
    "start_time": "2021-12-29T07:13:13.438Z"
   },
   {
    "duration": 27,
    "start_time": "2021-12-29T07:13:13.773Z"
   },
   {
    "duration": 33,
    "start_time": "2021-12-29T07:13:14.100Z"
   },
   {
    "duration": 462,
    "start_time": "2021-12-29T07:13:14.566Z"
   },
   {
    "duration": 439,
    "start_time": "2021-12-29T07:13:15.048Z"
   },
   {
    "duration": 23,
    "start_time": "2021-12-29T07:13:15.695Z"
   },
   {
    "duration": 35,
    "start_time": "2021-12-29T07:13:15.866Z"
   },
   {
    "duration": 15,
    "start_time": "2021-12-29T07:13:16.031Z"
   },
   {
    "duration": 1904,
    "start_time": "2021-12-29T07:13:16.184Z"
   },
   {
    "duration": 1314,
    "start_time": "2021-12-29T07:13:18.090Z"
   },
   {
    "duration": 576,
    "start_time": "2021-12-29T07:13:19.407Z"
   },
   {
    "duration": 9,
    "start_time": "2021-12-29T07:13:19.985Z"
   },
   {
    "duration": 468,
    "start_time": "2021-12-29T07:13:19.997Z"
   },
   {
    "duration": 10,
    "start_time": "2021-12-29T07:13:20.467Z"
   },
   {
    "duration": 9,
    "start_time": "2021-12-29T07:14:09.733Z"
   },
   {
    "duration": 10,
    "start_time": "2021-12-29T07:14:28.661Z"
   },
   {
    "duration": 433,
    "start_time": "2021-12-29T07:29:05.240Z"
   },
   {
    "duration": 11,
    "start_time": "2021-12-29T07:29:08.624Z"
   },
   {
    "duration": 494,
    "start_time": "2021-12-29T07:29:10.848Z"
   },
   {
    "duration": 9,
    "start_time": "2021-12-29T07:29:13.432Z"
   },
   {
    "duration": 9,
    "start_time": "2021-12-29T07:29:38.201Z"
   },
   {
    "duration": 434,
    "start_time": "2021-12-29T07:29:50.816Z"
   },
   {
    "duration": 9,
    "start_time": "2021-12-29T07:29:54.456Z"
   },
   {
    "duration": 492,
    "start_time": "2021-12-29T07:35:08.149Z"
   },
   {
    "duration": 9,
    "start_time": "2021-12-29T07:35:40.789Z"
   },
   {
    "duration": 462,
    "start_time": "2021-12-29T07:41:32.075Z"
   },
   {
    "duration": 10,
    "start_time": "2021-12-29T07:41:35.034Z"
   },
   {
    "duration": 499,
    "start_time": "2021-12-29T07:41:59.809Z"
   },
   {
    "duration": 10,
    "start_time": "2021-12-29T07:42:03.914Z"
   },
   {
    "duration": 31,
    "start_time": "2021-12-29T07:55:19.620Z"
   },
   {
    "duration": 15,
    "start_time": "2021-12-29T07:57:33.704Z"
   },
   {
    "duration": 338,
    "start_time": "2021-12-29T08:00:02.079Z"
   },
   {
    "duration": 243,
    "start_time": "2021-12-29T08:00:31.119Z"
   },
   {
    "duration": 324,
    "start_time": "2021-12-29T08:03:25.980Z"
   },
   {
    "duration": 343,
    "start_time": "2021-12-29T08:03:51.634Z"
   },
   {
    "duration": 332,
    "start_time": "2021-12-29T08:04:03.179Z"
   },
   {
    "duration": 325,
    "start_time": "2021-12-29T08:04:20.634Z"
   },
   {
    "duration": 471,
    "start_time": "2021-12-29T08:04:37.692Z"
   },
   {
    "duration": 358,
    "start_time": "2021-12-29T08:05:20.676Z"
   },
   {
    "duration": 1169,
    "start_time": "2021-12-29T08:29:26.094Z"
   },
   {
    "duration": 860,
    "start_time": "2021-12-29T08:31:40.680Z"
   },
   {
    "duration": 25,
    "start_time": "2021-12-29T08:42:23.657Z"
   },
   {
    "duration": 392,
    "start_time": "2021-12-29T08:44:03.852Z"
   },
   {
    "duration": 33,
    "start_time": "2021-12-29T08:44:13.232Z"
   },
   {
    "duration": 30,
    "start_time": "2021-12-29T08:44:49.379Z"
   },
   {
    "duration": 34,
    "start_time": "2021-12-29T08:45:11.276Z"
   },
   {
    "duration": 38,
    "start_time": "2021-12-29T08:49:42.129Z"
   },
   {
    "duration": 811,
    "start_time": "2021-12-29T08:55:34.371Z"
   },
   {
    "duration": 616,
    "start_time": "2021-12-29T08:57:29.972Z"
   },
   {
    "duration": 36,
    "start_time": "2021-12-29T08:58:06.212Z"
   },
   {
    "duration": 37,
    "start_time": "2021-12-29T08:58:43.271Z"
   },
   {
    "duration": 38,
    "start_time": "2021-12-29T08:59:07.973Z"
   },
   {
    "duration": 1028,
    "start_time": "2021-12-29T09:00:12.758Z"
   },
   {
    "duration": 9513,
    "start_time": "2021-12-29T09:00:32.192Z"
   },
   {
    "duration": 38,
    "start_time": "2021-12-29T09:01:43.367Z"
   },
   {
    "duration": 399,
    "start_time": "2021-12-29T09:04:12.273Z"
   },
   {
    "duration": 64,
    "start_time": "2021-12-29T09:04:42.233Z"
   },
   {
    "duration": 39,
    "start_time": "2021-12-29T09:06:28.373Z"
   },
   {
    "duration": 293,
    "start_time": "2021-12-29T09:13:17.936Z"
   },
   {
    "duration": 278,
    "start_time": "2021-12-29T09:14:26.035Z"
   },
   {
    "duration": 497,
    "start_time": "2021-12-29T09:59:05.667Z"
   },
   {
    "duration": 297,
    "start_time": "2021-12-29T09:59:26.929Z"
   },
   {
    "duration": 296,
    "start_time": "2021-12-29T10:00:21.900Z"
   },
   {
    "duration": 379,
    "start_time": "2021-12-29T10:06:50.143Z"
   },
   {
    "duration": 373,
    "start_time": "2021-12-29T10:07:01.167Z"
   },
   {
    "duration": 7,
    "start_time": "2021-12-29T10:07:12.784Z"
   },
   {
    "duration": 8,
    "start_time": "2021-12-29T10:58:54.054Z"
   },
   {
    "duration": 623,
    "start_time": "2021-12-29T11:00:18.464Z"
   },
   {
    "duration": 7,
    "start_time": "2021-12-29T11:01:59.642Z"
   },
   {
    "duration": 14,
    "start_time": "2021-12-29T11:02:11.176Z"
   },
   {
    "duration": 11,
    "start_time": "2021-12-29T11:05:05.618Z"
   },
   {
    "duration": 18,
    "start_time": "2021-12-29T11:05:30.147Z"
   },
   {
    "duration": 22,
    "start_time": "2021-12-29T11:06:34.619Z"
   },
   {
    "duration": 17,
    "start_time": "2021-12-29T11:06:41.299Z"
   },
   {
    "duration": 7,
    "start_time": "2021-12-29T11:10:11.735Z"
   },
   {
    "duration": 16,
    "start_time": "2021-12-29T11:11:11.272Z"
   },
   {
    "duration": 132,
    "start_time": "2021-12-29T15:57:09.348Z"
   },
   {
    "duration": 90,
    "start_time": "2021-12-30T17:09:20.901Z"
   },
   {
    "duration": 37,
    "start_time": "2021-12-30T17:09:20.995Z"
   },
   {
    "duration": 31,
    "start_time": "2021-12-30T17:09:21.035Z"
   },
   {
    "duration": 12,
    "start_time": "2021-12-30T17:09:21.069Z"
   },
   {
    "duration": 96,
    "start_time": "2021-12-30T17:09:21.084Z"
   },
   {
    "duration": 26,
    "start_time": "2021-12-30T17:09:21.183Z"
   },
   {
    "duration": 70,
    "start_time": "2021-12-30T17:09:21.211Z"
   },
   {
    "duration": 485,
    "start_time": "2021-12-30T17:09:21.285Z"
   },
   {
    "duration": 446,
    "start_time": "2021-12-30T17:09:21.774Z"
   },
   {
    "duration": 37,
    "start_time": "2021-12-30T17:09:22.222Z"
   },
   {
    "duration": 37,
    "start_time": "2021-12-30T17:09:22.262Z"
   },
   {
    "duration": 14,
    "start_time": "2021-12-30T17:09:22.301Z"
   },
   {
    "duration": 2002,
    "start_time": "2021-12-30T17:09:22.317Z"
   },
   {
    "duration": 1219,
    "start_time": "2021-12-30T17:09:24.322Z"
   },
   {
    "duration": 462,
    "start_time": "2021-12-30T17:09:25.544Z"
   },
   {
    "duration": 1517,
    "start_time": "2021-12-30T17:40:04.569Z"
   },
   {
    "duration": 39,
    "start_time": "2021-12-30T17:40:06.089Z"
   },
   {
    "duration": 14,
    "start_time": "2021-12-30T17:40:06.131Z"
   },
   {
    "duration": 8,
    "start_time": "2021-12-30T17:40:06.148Z"
   },
   {
    "duration": 68,
    "start_time": "2021-12-30T17:40:06.158Z"
   },
   {
    "duration": 23,
    "start_time": "2021-12-30T17:40:06.228Z"
   },
   {
    "duration": 39,
    "start_time": "2021-12-30T17:40:06.254Z"
   },
   {
    "duration": 467,
    "start_time": "2021-12-30T17:40:06.296Z"
   },
   {
    "duration": 527,
    "start_time": "2021-12-30T17:40:06.767Z"
   },
   {
    "duration": 23,
    "start_time": "2021-12-30T17:40:07.297Z"
   },
   {
    "duration": 32,
    "start_time": "2021-12-30T17:40:07.322Z"
   },
   {
    "duration": 13,
    "start_time": "2021-12-30T17:40:07.357Z"
   },
   {
    "duration": 1911,
    "start_time": "2021-12-30T17:40:07.373Z"
   },
   {
    "duration": 1146,
    "start_time": "2021-12-30T17:40:09.286Z"
   },
   {
    "duration": 396,
    "start_time": "2021-12-30T17:40:10.435Z"
   },
   {
    "duration": 318268,
    "start_time": "2021-12-30T17:40:10.833Z"
   },
   {
    "duration": 584,
    "start_time": "2021-12-30T17:45:29.105Z"
   },
   {
    "duration": -1605,
    "start_time": "2021-12-30T17:45:31.297Z"
   },
   {
    "duration": -1604,
    "start_time": "2021-12-30T17:45:31.298Z"
   },
   {
    "duration": -1610,
    "start_time": "2021-12-30T17:45:31.305Z"
   },
   {
    "duration": -1621,
    "start_time": "2021-12-30T17:45:31.317Z"
   },
   {
    "duration": -1621,
    "start_time": "2021-12-30T17:45:31.319Z"
   },
   {
    "duration": -1621,
    "start_time": "2021-12-30T17:45:31.320Z"
   },
   {
    "duration": -3212,
    "start_time": "2021-12-30T17:45:32.913Z"
   },
   {
    "duration": -3220,
    "start_time": "2021-12-30T17:45:32.922Z"
   },
   {
    "duration": -3220,
    "start_time": "2021-12-30T17:45:32.924Z"
   },
   {
    "duration": -3224,
    "start_time": "2021-12-30T17:45:32.930Z"
   },
   {
    "duration": -3224,
    "start_time": "2021-12-30T17:45:32.932Z"
   },
   {
    "duration": 9,
    "start_time": "2021-12-30T17:50:56.617Z"
   },
   {
    "duration": 577,
    "start_time": "2021-12-30T17:50:56.629Z"
   },
   {
    "duration": 9,
    "start_time": "2021-12-30T17:50:57.217Z"
   },
   {
    "duration": 469,
    "start_time": "2021-12-30T17:50:57.229Z"
   },
   {
    "duration": 21,
    "start_time": "2021-12-30T17:50:57.701Z"
   },
   {
    "duration": 330,
    "start_time": "2021-12-30T17:50:57.725Z"
   },
   {
    "duration": 312,
    "start_time": "2021-12-30T17:50:58.057Z"
   },
   {
    "duration": 308,
    "start_time": "2021-12-30T17:50:58.373Z"
   },
   {
    "duration": 288,
    "start_time": "2021-12-30T17:50:58.683Z"
   },
   {
    "duration": 13,
    "start_time": "2021-12-30T17:50:58.974Z"
   },
   {
    "duration": 34,
    "start_time": "2021-12-30T17:50:58.990Z"
   },
   {
    "duration": 554,
    "start_time": "2021-12-30T18:16:28.397Z"
   },
   {
    "duration": 9,
    "start_time": "2021-12-30T18:16:42.516Z"
   },
   {
    "duration": 82,
    "start_time": "2022-01-07T09:37:29.032Z"
   },
   {
    "duration": 40,
    "start_time": "2022-01-07T09:58:55.049Z"
   },
   {
    "duration": 12,
    "start_time": "2022-01-07T09:58:56.497Z"
   },
   {
    "duration": 10,
    "start_time": "2022-01-07T09:58:59.825Z"
   },
   {
    "duration": 70,
    "start_time": "2022-01-07T09:59:02.715Z"
   },
   {
    "duration": 27,
    "start_time": "2022-01-07T09:59:06.938Z"
   },
   {
    "duration": 37,
    "start_time": "2022-01-07T09:59:28.982Z"
   },
   {
    "duration": 467,
    "start_time": "2022-01-07T09:59:46.928Z"
   },
   {
    "duration": 778,
    "start_time": "2022-01-07T10:00:21.741Z"
   },
   {
    "duration": 26,
    "start_time": "2022-01-07T10:17:27.866Z"
   },
   {
    "duration": 25,
    "start_time": "2022-01-07T10:17:40.557Z"
   },
   {
    "duration": 25,
    "start_time": "2022-01-07T10:18:20.826Z"
   },
   {
    "duration": 24,
    "start_time": "2022-01-07T10:18:27.345Z"
   },
   {
    "duration": 23,
    "start_time": "2022-01-07T10:19:38.937Z"
   },
   {
    "duration": 24,
    "start_time": "2022-01-07T10:19:57.288Z"
   },
   {
    "duration": 33,
    "start_time": "2022-01-07T10:21:02.531Z"
   },
   {
    "duration": 14,
    "start_time": "2022-01-07T10:21:17.056Z"
   },
   {
    "duration": 1832,
    "start_time": "2022-01-07T10:22:39.091Z"
   },
   {
    "duration": 1889,
    "start_time": "2022-01-07T10:23:18.897Z"
   },
   {
    "duration": 2469,
    "start_time": "2022-01-07T10:24:30.401Z"
   },
   {
    "duration": 2670,
    "start_time": "2022-01-07T10:24:45.046Z"
   },
   {
    "duration": 2503,
    "start_time": "2022-01-07T10:25:16.768Z"
   },
   {
    "duration": 2417,
    "start_time": "2022-01-07T10:25:28.099Z"
   },
   {
    "duration": 1634,
    "start_time": "2022-01-07T10:25:59.525Z"
   },
   {
    "duration": 420,
    "start_time": "2022-01-07T10:28:31.673Z"
   },
   {
    "duration": 1509,
    "start_time": "2022-01-07T10:29:34.633Z"
   },
   {
    "duration": 1643,
    "start_time": "2022-01-07T10:30:18.183Z"
   },
   {
    "duration": 1438,
    "start_time": "2022-01-07T10:30:47.449Z"
   },
   {
    "duration": 139,
    "start_time": "2022-01-07T10:35:29.153Z"
   },
   {
    "duration": 643,
    "start_time": "2022-01-07T10:38:54.953Z"
   },
   {
    "duration": 693,
    "start_time": "2022-01-07T10:40:49.198Z"
   },
   {
    "duration": 652,
    "start_time": "2022-01-07T10:41:06.393Z"
   },
   {
    "duration": 149,
    "start_time": "2022-01-07T10:41:53.277Z"
   },
   {
    "duration": 447,
    "start_time": "2022-01-07T10:55:28.534Z"
   },
   {
    "duration": 10,
    "start_time": "2022-01-07T10:55:32.269Z"
   },
   {
    "duration": 409,
    "start_time": "2022-01-07T10:55:40.084Z"
   },
   {
    "duration": 11,
    "start_time": "2022-01-07T10:56:05.612Z"
   },
   {
    "duration": 11,
    "start_time": "2022-01-07T10:58:42.412Z"
   },
   {
    "duration": 600,
    "start_time": "2022-01-07T10:59:07.288Z"
   },
   {
    "duration": 10,
    "start_time": "2022-01-07T10:59:10.957Z"
   },
   {
    "duration": 10,
    "start_time": "2022-01-07T11:01:17.204Z"
   },
   {
    "duration": 420,
    "start_time": "2022-01-07T11:01:21.713Z"
   },
   {
    "duration": 436,
    "start_time": "2022-01-07T11:01:25.943Z"
   },
   {
    "duration": 9,
    "start_time": "2022-01-07T11:01:29.847Z"
   },
   {
    "duration": 353,
    "start_time": "2022-01-07T11:02:05.041Z"
   },
   {
    "duration": 340,
    "start_time": "2022-01-07T11:10:11.210Z"
   },
   {
    "duration": 353,
    "start_time": "2022-01-07T11:10:27.649Z"
   },
   {
    "duration": 322,
    "start_time": "2022-01-07T11:10:50.340Z"
   },
   {
    "duration": 411,
    "start_time": "2022-01-07T11:15:55.318Z"
   },
   {
    "duration": 421,
    "start_time": "2022-01-07T11:17:31.088Z"
   },
   {
    "duration": 4,
    "start_time": "2022-01-07T11:36:12.320Z"
   },
   {
    "duration": 5,
    "start_time": "2022-01-07T11:42:38.437Z"
   },
   {
    "duration": 5,
    "start_time": "2022-01-07T11:42:44.751Z"
   },
   {
    "duration": 82,
    "start_time": "2022-01-07T11:43:17.967Z"
   },
   {
    "duration": 40,
    "start_time": "2022-01-07T11:43:18.803Z"
   },
   {
    "duration": 12,
    "start_time": "2022-01-07T11:43:19.140Z"
   },
   {
    "duration": 9,
    "start_time": "2022-01-07T11:43:19.488Z"
   },
   {
    "duration": 72,
    "start_time": "2022-01-07T11:43:19.818Z"
   },
   {
    "duration": 29,
    "start_time": "2022-01-07T11:43:20.169Z"
   },
   {
    "duration": 38,
    "start_time": "2022-01-07T11:43:20.522Z"
   },
   {
    "duration": 475,
    "start_time": "2022-01-07T11:43:21.223Z"
   },
   {
    "duration": 438,
    "start_time": "2022-01-07T11:43:21.921Z"
   },
   {
    "duration": 24,
    "start_time": "2022-01-07T11:43:28.300Z"
   },
   {
    "duration": 38,
    "start_time": "2022-01-07T11:43:29.136Z"
   },
   {
    "duration": 21,
    "start_time": "2022-01-07T11:43:29.856Z"
   },
   {
    "duration": 1565,
    "start_time": "2022-01-07T11:43:30.365Z"
   },
   {
    "duration": 846,
    "start_time": "2022-01-07T11:43:33.017Z"
   },
   {
    "duration": 466,
    "start_time": "2022-01-07T11:43:35.897Z"
   },
   {
    "duration": 9,
    "start_time": "2022-01-07T11:43:36.403Z"
   },
   {
    "duration": 418,
    "start_time": "2022-01-07T11:43:37.853Z"
   },
   {
    "duration": 10,
    "start_time": "2022-01-07T11:43:39.786Z"
   },
   {
    "duration": 427,
    "start_time": "2022-01-07T11:43:41.823Z"
   },
   {
    "duration": 11,
    "start_time": "2022-01-07T11:43:43.125Z"
   },
   {
    "duration": 422,
    "start_time": "2022-01-07T11:43:44.143Z"
   },
   {
    "duration": 12,
    "start_time": "2022-01-07T11:43:45.255Z"
   },
   {
    "duration": 5,
    "start_time": "2022-01-07T11:43:51.159Z"
   },
   {
    "duration": 6,
    "start_time": "2022-01-07T11:44:16.360Z"
   },
   {
    "duration": 394,
    "start_time": "2022-01-07T11:45:03.247Z"
   },
   {
    "duration": 12,
    "start_time": "2022-01-07T11:45:47.617Z"
   },
   {
    "duration": 10,
    "start_time": "2022-01-07T11:46:00.772Z"
   },
   {
    "duration": 11,
    "start_time": "2022-01-07T11:46:38.571Z"
   },
   {
    "duration": 12,
    "start_time": "2022-01-07T11:47:41.529Z"
   },
   {
    "duration": 12,
    "start_time": "2022-01-07T11:47:52.994Z"
   },
   {
    "duration": 11,
    "start_time": "2022-01-07T11:48:05.156Z"
   },
   {
    "duration": 17,
    "start_time": "2022-01-07T11:48:36.099Z"
   },
   {
    "duration": 665,
    "start_time": "2022-01-07T11:51:52.313Z"
   },
   {
    "duration": 659,
    "start_time": "2022-01-07T11:52:41.509Z"
   },
   {
    "duration": 325,
    "start_time": "2022-01-07T11:56:48.791Z"
   },
   {
    "duration": 264,
    "start_time": "2022-01-07T12:01:59.718Z"
   },
   {
    "duration": 314,
    "start_time": "2022-01-07T12:02:22.635Z"
   },
   {
    "duration": 279,
    "start_time": "2022-01-07T12:02:32.241Z"
   },
   {
    "duration": 284,
    "start_time": "2022-01-07T12:02:40.938Z"
   },
   {
    "duration": 293,
    "start_time": "2022-01-07T12:11:48.752Z"
   },
   {
    "duration": 310,
    "start_time": "2022-01-07T12:11:49.366Z"
   },
   {
    "duration": 287,
    "start_time": "2022-01-07T12:11:49.955Z"
   },
   {
    "duration": 13,
    "start_time": "2022-01-08T09:24:05.697Z"
   },
   {
    "duration": 15,
    "start_time": "2022-01-08T09:24:17.581Z"
   },
   {
    "duration": 12,
    "start_time": "2022-01-08T09:57:22.231Z"
   },
   {
    "duration": 18,
    "start_time": "2022-01-08T09:57:27.433Z"
   },
   {
    "duration": 124,
    "start_time": "2022-01-08T09:58:24.756Z"
   },
   {
    "duration": 1529,
    "start_time": "2022-01-08T17:45:24.741Z"
   },
   {
    "duration": 50,
    "start_time": "2022-01-08T17:45:26.274Z"
   },
   {
    "duration": 11,
    "start_time": "2022-01-08T17:45:26.327Z"
   },
   {
    "duration": 9,
    "start_time": "2022-01-08T17:45:26.341Z"
   },
   {
    "duration": 101,
    "start_time": "2022-01-08T17:45:26.352Z"
   },
   {
    "duration": 27,
    "start_time": "2022-01-08T17:45:26.456Z"
   },
   {
    "duration": 58,
    "start_time": "2022-01-08T17:45:26.486Z"
   },
   {
    "duration": 539,
    "start_time": "2022-01-08T17:45:26.547Z"
   },
   {
    "duration": 568,
    "start_time": "2022-01-08T17:45:27.089Z"
   },
   {
    "duration": 77,
    "start_time": "2022-01-08T17:45:27.659Z"
   },
   {
    "duration": 85,
    "start_time": "2022-01-08T17:45:27.738Z"
   },
   {
    "duration": 12,
    "start_time": "2022-01-08T17:45:33.457Z"
   },
   {
    "duration": 138,
    "start_time": "2022-01-08T17:45:37.290Z"
   },
   {
    "duration": 62,
    "start_time": "2022-01-08T17:45:37.431Z"
   },
   {
    "duration": 26,
    "start_time": "2022-01-08T17:45:37.497Z"
   },
   {
    "duration": 12,
    "start_time": "2022-01-08T17:45:37.526Z"
   },
   {
    "duration": 115,
    "start_time": "2022-01-08T17:45:37.541Z"
   },
   {
    "duration": 35,
    "start_time": "2022-01-08T17:45:37.659Z"
   },
   {
    "duration": 68,
    "start_time": "2022-01-08T17:45:37.696Z"
   },
   {
    "duration": 680,
    "start_time": "2022-01-08T17:45:37.770Z"
   },
   {
    "duration": 799,
    "start_time": "2022-01-08T17:45:38.454Z"
   },
   {
    "duration": 82,
    "start_time": "2022-01-08T17:45:39.256Z"
   },
   {
    "duration": 87,
    "start_time": "2022-01-08T17:45:39.340Z"
   },
   {
    "duration": 12,
    "start_time": "2022-01-08T17:45:39.429Z"
   },
   {
    "duration": 2760,
    "start_time": "2022-01-08T17:45:39.443Z"
   },
   {
    "duration": 715,
    "start_time": "2022-01-08T17:45:42.205Z"
   },
   {
    "duration": 746,
    "start_time": "2022-01-08T17:45:42.922Z"
   },
   {
    "duration": 6016,
    "start_time": "2022-01-08T17:45:43.670Z"
   },
   {
    "duration": 471,
    "start_time": "2022-01-08T17:45:49.689Z"
   },
   {
    "duration": 9,
    "start_time": "2022-01-08T17:45:50.163Z"
   },
   {
    "duration": 429,
    "start_time": "2022-01-08T17:45:50.174Z"
   },
   {
    "duration": 18,
    "start_time": "2022-01-08T17:45:50.606Z"
   },
   {
    "duration": 384,
    "start_time": "2022-01-08T17:45:50.626Z"
   },
   {
    "duration": 10,
    "start_time": "2022-01-08T17:45:51.012Z"
   },
   {
    "duration": 327,
    "start_time": "2022-01-08T17:45:51.028Z"
   },
   {
    "duration": 272,
    "start_time": "2022-01-08T17:45:51.358Z"
   },
   {
    "duration": 295,
    "start_time": "2022-01-08T17:45:51.633Z"
   },
   {
    "duration": 273,
    "start_time": "2022-01-08T17:45:51.930Z"
   },
   {
    "duration": 17,
    "start_time": "2022-01-08T17:45:52.205Z"
   },
   {
    "duration": 14,
    "start_time": "2022-01-08T17:45:52.225Z"
   },
   {
    "duration": 122,
    "start_time": "2022-01-08T17:46:03.563Z"
   },
   {
    "duration": 71,
    "start_time": "2022-01-08T17:46:03.688Z"
   },
   {
    "duration": 16,
    "start_time": "2022-01-08T17:46:03.763Z"
   },
   {
    "duration": 45,
    "start_time": "2022-01-08T17:46:03.782Z"
   },
   {
    "duration": 188,
    "start_time": "2022-01-08T17:46:03.830Z"
   },
   {
    "duration": 24,
    "start_time": "2022-01-08T17:46:04.020Z"
   },
   {
    "duration": 32,
    "start_time": "2022-01-08T17:46:04.046Z"
   },
   {
    "duration": 495,
    "start_time": "2022-01-08T17:46:04.080Z"
   },
   {
    "duration": 559,
    "start_time": "2022-01-08T17:46:04.578Z"
   },
   {
    "duration": 25,
    "start_time": "2022-01-08T17:46:05.140Z"
   },
   {
    "duration": 34,
    "start_time": "2022-01-08T17:46:05.168Z"
   },
   {
    "duration": 22,
    "start_time": "2022-01-08T17:46:05.205Z"
   },
   {
    "duration": 2189,
    "start_time": "2022-01-08T17:46:05.230Z"
   },
   {
    "duration": 746,
    "start_time": "2022-01-08T17:46:07.422Z"
   },
   {
    "duration": 447,
    "start_time": "2022-01-08T17:46:08.171Z"
   },
   {
    "duration": 12,
    "start_time": "2022-01-08T17:46:08.621Z"
   },
   {
    "duration": 401,
    "start_time": "2022-01-08T17:46:08.635Z"
   },
   {
    "duration": 9,
    "start_time": "2022-01-08T17:46:09.039Z"
   },
   {
    "duration": 382,
    "start_time": "2022-01-08T17:46:09.050Z"
   },
   {
    "duration": 10,
    "start_time": "2022-01-08T17:46:09.434Z"
   },
   {
    "duration": 379,
    "start_time": "2022-01-08T17:46:09.446Z"
   },
   {
    "duration": 9,
    "start_time": "2022-01-08T17:46:09.828Z"
   },
   {
    "duration": 468,
    "start_time": "2022-01-08T17:46:09.840Z"
   },
   {
    "duration": 268,
    "start_time": "2022-01-08T17:46:10.317Z"
   },
   {
    "duration": 297,
    "start_time": "2022-01-08T17:46:10.587Z"
   },
   {
    "duration": 281,
    "start_time": "2022-01-08T17:46:10.887Z"
   },
   {
    "duration": 91,
    "start_time": "2022-01-08T17:46:11.172Z"
   },
   {
    "duration": 17,
    "start_time": "2022-01-08T17:46:11.266Z"
   },
   {
    "duration": 31,
    "start_time": "2022-01-08T17:46:43.175Z"
   },
   {
    "duration": 7,
    "start_time": "2022-01-08T17:47:02.044Z"
   },
   {
    "duration": 32,
    "start_time": "2022-01-08T17:47:22.751Z"
   },
   {
    "duration": 7,
    "start_time": "2022-01-08T17:47:34.315Z"
   },
   {
    "duration": 6,
    "start_time": "2022-01-08T17:47:39.675Z"
   },
   {
    "duration": 7,
    "start_time": "2022-01-08T17:48:50.299Z"
   },
   {
    "duration": 7,
    "start_time": "2022-01-08T17:51:07.619Z"
   },
   {
    "duration": 11,
    "start_time": "2022-01-08T17:53:40.706Z"
   },
   {
    "duration": 20,
    "start_time": "2022-01-08T17:54:13.100Z"
   },
   {
    "duration": 12,
    "start_time": "2022-01-09T13:14:37.919Z"
   },
   {
    "duration": 17,
    "start_time": "2022-01-09T13:14:55.272Z"
   },
   {
    "duration": 12,
    "start_time": "2022-01-09T13:17:04.371Z"
   },
   {
    "duration": 12,
    "start_time": "2022-01-09T13:18:56.904Z"
   },
   {
    "duration": 17,
    "start_time": "2022-01-09T13:19:22.523Z"
   },
   {
    "duration": 15,
    "start_time": "2022-01-09T13:19:47.127Z"
   },
   {
    "duration": 131,
    "start_time": "2022-01-09T13:20:42.781Z"
   },
   {
    "duration": 15,
    "start_time": "2022-01-09T13:23:31.002Z"
   },
   {
    "duration": 88,
    "start_time": "2022-01-09T13:30:16.144Z"
   },
   {
    "duration": 64,
    "start_time": "2022-01-09T13:30:16.235Z"
   },
   {
    "duration": 12,
    "start_time": "2022-01-09T13:30:16.302Z"
   },
   {
    "duration": 9,
    "start_time": "2022-01-09T13:30:16.317Z"
   },
   {
    "duration": 69,
    "start_time": "2022-01-09T13:30:16.622Z"
   },
   {
    "duration": 27,
    "start_time": "2022-01-09T13:30:16.974Z"
   },
   {
    "duration": 44,
    "start_time": "2022-01-09T13:30:17.330Z"
   },
   {
    "duration": 488,
    "start_time": "2022-01-09T13:30:18.023Z"
   },
   {
    "duration": 632,
    "start_time": "2022-01-09T13:30:18.705Z"
   },
   {
    "duration": 24,
    "start_time": "2022-01-09T13:30:20.081Z"
   },
   {
    "duration": 35,
    "start_time": "2022-01-09T13:30:20.270Z"
   },
   {
    "duration": 15,
    "start_time": "2022-01-09T13:30:20.442Z"
   },
   {
    "duration": 1512,
    "start_time": "2022-01-09T13:30:20.591Z"
   },
   {
    "duration": 711,
    "start_time": "2022-01-09T13:30:22.106Z"
   },
   {
    "duration": 458,
    "start_time": "2022-01-09T13:30:22.821Z"
   },
   {
    "duration": 10,
    "start_time": "2022-01-09T13:30:23.282Z"
   },
   {
    "duration": 486,
    "start_time": "2022-01-09T13:30:23.294Z"
   },
   {
    "duration": 10,
    "start_time": "2022-01-09T13:30:23.784Z"
   },
   {
    "duration": 430,
    "start_time": "2022-01-09T13:30:24.193Z"
   },
   {
    "duration": 9,
    "start_time": "2022-01-09T13:30:24.626Z"
   },
   {
    "duration": 471,
    "start_time": "2022-01-09T13:30:24.638Z"
   },
   {
    "duration": 11,
    "start_time": "2022-01-09T13:30:25.112Z"
   },
   {
    "duration": 362,
    "start_time": "2022-01-09T13:30:25.557Z"
   },
   {
    "duration": 296,
    "start_time": "2022-01-09T13:30:26.656Z"
   },
   {
    "duration": 346,
    "start_time": "2022-01-09T13:30:26.959Z"
   },
   {
    "duration": 317,
    "start_time": "2022-01-09T13:30:27.309Z"
   },
   {
    "duration": 13,
    "start_time": "2022-01-09T13:30:28.608Z"
   },
   {
    "duration": 7,
    "start_time": "2022-01-09T13:30:29.144Z"
   },
   {
    "duration": 14,
    "start_time": "2022-01-09T13:30:30.016Z"
   },
   {
    "duration": 75,
    "start_time": "2022-04-27T10:18:23.982Z"
   },
   {
    "duration": 1569,
    "start_time": "2022-04-27T10:18:38.030Z"
   },
   {
    "duration": 50,
    "start_time": "2022-04-27T10:18:39.603Z"
   },
   {
    "duration": 17,
    "start_time": "2022-04-27T10:18:39.656Z"
   },
   {
    "duration": 16,
    "start_time": "2022-04-27T10:18:39.677Z"
   },
   {
    "duration": 100,
    "start_time": "2022-04-27T10:23:55.726Z"
   },
   {
    "duration": 57,
    "start_time": "2022-04-27T10:23:55.830Z"
   },
   {
    "duration": 10,
    "start_time": "2022-04-27T10:23:55.889Z"
   },
   {
    "duration": 8,
    "start_time": "2022-04-27T10:23:55.902Z"
   },
   {
    "duration": 110,
    "start_time": "2022-04-27T10:23:55.913Z"
   },
   {
    "duration": 24,
    "start_time": "2022-04-27T10:23:56.025Z"
   },
   {
    "duration": 41,
    "start_time": "2022-04-27T10:23:56.051Z"
   },
   {
    "duration": 381,
    "start_time": "2022-04-27T10:23:56.094Z"
   },
   {
    "duration": 344,
    "start_time": "2022-04-27T10:23:56.477Z"
   },
   {
    "duration": 42,
    "start_time": "2022-04-27T10:23:56.825Z"
   },
   {
    "duration": 34,
    "start_time": "2022-04-27T10:23:56.870Z"
   },
   {
    "duration": 19,
    "start_time": "2022-04-27T10:23:56.906Z"
   },
   {
    "duration": 1075,
    "start_time": "2022-04-27T10:23:56.927Z"
   },
   {
    "duration": 438,
    "start_time": "2022-04-27T10:23:58.004Z"
   },
   {
    "duration": 250,
    "start_time": "2022-04-27T10:23:58.444Z"
   },
   {
    "duration": 98,
    "start_time": "2022-04-27T10:23:58.697Z"
   },
   {
    "duration": 482,
    "start_time": "2022-04-27T10:23:58.797Z"
   },
   {
    "duration": 13,
    "start_time": "2022-04-27T10:23:59.282Z"
   },
   {
    "duration": 327,
    "start_time": "2022-04-27T10:23:59.298Z"
   },
   {
    "duration": 24,
    "start_time": "2022-04-27T10:23:59.628Z"
   },
   {
    "duration": 315,
    "start_time": "2022-04-27T10:23:59.655Z"
   },
   {
    "duration": 10,
    "start_time": "2022-04-27T10:23:59.974Z"
   },
   {
    "duration": 289,
    "start_time": "2022-04-27T10:23:59.987Z"
   },
   {
    "duration": 242,
    "start_time": "2022-04-27T10:24:00.279Z"
   },
   {
    "duration": 262,
    "start_time": "2022-04-27T10:24:00.524Z"
   },
   {
    "duration": 244,
    "start_time": "2022-04-27T10:24:00.789Z"
   },
   {
    "duration": 20,
    "start_time": "2022-04-27T10:24:01.036Z"
   },
   {
    "duration": 20,
    "start_time": "2022-04-27T10:24:01.061Z"
   },
   {
    "duration": 1768,
    "start_time": "2022-04-27T10:27:41.101Z"
   },
   {
    "duration": 46,
    "start_time": "2022-04-27T10:27:42.871Z"
   },
   {
    "duration": 43,
    "start_time": "2022-04-27T10:27:42.920Z"
   },
   {
    "duration": 11,
    "start_time": "2022-04-27T10:27:42.966Z"
   },
   {
    "duration": 96,
    "start_time": "2022-04-27T10:27:42.981Z"
   },
   {
    "duration": 26,
    "start_time": "2022-04-27T10:27:43.079Z"
   },
   {
    "duration": 78,
    "start_time": "2022-04-27T10:27:43.107Z"
   },
   {
    "duration": 369,
    "start_time": "2022-04-27T10:27:43.187Z"
   },
   {
    "duration": 345,
    "start_time": "2022-04-27T10:27:43.559Z"
   },
   {
    "duration": 49,
    "start_time": "2022-04-27T10:27:43.910Z"
   },
   {
    "duration": 38,
    "start_time": "2022-04-27T10:27:43.962Z"
   },
   {
    "duration": 15,
    "start_time": "2022-04-27T10:27:44.003Z"
   },
   {
    "duration": 1499,
    "start_time": "2022-04-27T10:27:44.020Z"
   },
   {
    "duration": 468,
    "start_time": "2022-04-27T10:27:45.521Z"
   },
   {
    "duration": 385,
    "start_time": "2022-04-27T10:27:45.992Z"
   },
   {
    "duration": 83,
    "start_time": "2022-04-27T10:27:46.380Z"
   },
   {
    "duration": 327,
    "start_time": "2022-04-27T10:27:46.465Z"
   },
   {
    "duration": 9,
    "start_time": "2022-04-27T10:27:46.796Z"
   },
   {
    "duration": 223,
    "start_time": "2022-04-27T10:27:46.808Z"
   },
   {
    "duration": 18,
    "start_time": "2022-04-27T10:27:47.034Z"
   },
   {
    "duration": 318,
    "start_time": "2022-04-27T10:27:47.055Z"
   },
   {
    "duration": 12,
    "start_time": "2022-04-27T10:27:47.376Z"
   },
   {
    "duration": 304,
    "start_time": "2022-04-27T10:27:47.391Z"
   },
   {
    "duration": 237,
    "start_time": "2022-04-27T10:27:47.696Z"
   },
   {
    "duration": 267,
    "start_time": "2022-04-27T10:27:47.935Z"
   },
   {
    "duration": 282,
    "start_time": "2022-04-27T10:27:48.204Z"
   },
   {
    "duration": 15,
    "start_time": "2022-04-27T10:27:48.489Z"
   },
   {
    "duration": 52,
    "start_time": "2022-04-27T10:27:48.512Z"
   }
  ],
  "kernelspec": {
   "display_name": "Python 3 (ipykernel)",
   "language": "python",
   "name": "python3"
  },
  "language_info": {
   "codemirror_mode": {
    "name": "ipython",
    "version": 3
   },
   "file_extension": ".py",
   "mimetype": "text/x-python",
   "name": "python",
   "nbconvert_exporter": "python",
   "pygments_lexer": "ipython3",
   "version": "3.9.5"
  },
  "toc": {
   "base_numbering": 1,
   "nav_menu": {},
   "number_sections": true,
   "sideBar": true,
   "skip_h1_title": true,
   "title_cell": "Table of Contents",
   "title_sidebar": "Contents",
   "toc_cell": false,
   "toc_position": {
    "height": "calc(100% - 180px)",
    "left": "10px",
    "top": "150px",
    "width": "267px"
   },
   "toc_section_display": true,
   "toc_window_display": false
  }
 },
 "nbformat": 4,
 "nbformat_minor": 2
}

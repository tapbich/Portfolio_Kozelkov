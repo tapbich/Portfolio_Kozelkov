{
 "cells": [
  {
   "cell_type": "markdown",
   "metadata": {},
   "source": [
    "<div style=\"border:solid green 2px; padding: 20px\">\n",
    "<b>Михаил, привет!</b>\n",
    "\n",
    "Меня зовут Евгений Дащенко, и я буду проверять твой проект. Предлагаю общаться на «ты» 😊 Но если это не удобно - дай знать, и мы перейдем на \"вы\". \n",
    "\n",
    "Моя основная цель — не указать на совершенные тобою ошибки, а поделиться своим опытом и помочь тебе стать аналитиком данных. Ты уже проделал большую работу над проектом, но давай сделаем его еще лучше. Ниже ты найдешь мои комментарии - пожалуйста, не перемещай, не изменaяй и не удаляй их. Я буду использовать цветовую разметку:\n",
    "\n",
    "<div class=\"alert alert-danger\">\n",
    "<b>Комментарий ревьюера:</b> Так выделены самые важные замечания. Без их отработки проект не будет принят. </div>\n",
    "\n",
    "<div class=\"alert alert-warning\">\n",
    "<b>Комментарий ревьюера:</b> Так выделены небольшие замечания. Одна-два таких замечания в проекте допустимы, но если их будет больше - тебе будет необходимо внести исправления. Это как тестовое задание при приеме на работу: очень много мелких ошибок могут стать причиной отказа кандидату. \n",
    "\n",
    "</div>\n",
    "\n",
    "<div class=\"alert alert-success\">\n",
    "<b>Комментарий ревьюера:</b> Так я выделяю все остальные комментарии.</div>\n",
    "\n",
    "Давай работать над проектом в диалоге: если ты что-то меняешь в проекте или отвечаешь на мои комменатри — пиши об этом. Мне будет легче отследить изменения, если ты выделишь свои комментарии:\n",
    "<div class=\"alert alert-info\"> <b>Комментарий студента:</b> Например, вот так.</div>\n",
    "\n",
    "Всё это поможет выполнить повторную проверку твоего проекта оперативнее. "
   ]
  },
  {
   "cell_type": "markdown",
   "metadata": {
    "id": "E0vqbgi9ay0H"
   },
   "source": [
    "# Яндекс.Музыка"
   ]
  },
  {
   "cell_type": "markdown",
   "metadata": {
    "id": "VUC88oWjTJw2"
   },
   "source": [
    "Сравнение Москвы и Петербурга окружено мифами. Например:\n",
    " * Москва — мегаполис, подчинённый жёсткому ритму рабочей недели;\n",
    " * Петербург — культурная столица, со своими вкусами.\n",
    "\n",
    "На данных Яндекс.Музыки вы сравните поведение пользователей двух столиц.\n",
    "\n",
    "**Цель исследования** — проверьте три гипотезы:\n",
    "1. Активность пользователей зависит от дня недели. Причём в Москве и Петербурге это проявляется по-разному.\n",
    "2. В понедельник утром в Москве преобладают одни жанры, а в Петербурге — другие. Так же и вечером пятницы преобладают разные жанры — в зависимости от города. \n",
    "3. Москва и Петербург предпочитают разные жанры музыки. В Москве чаще слушают поп-музыку, в Петербурге — русский рэп.\n",
    "\n",
    "**Ход исследования**\n",
    "\n",
    "Данные о поведении пользователей вы получите из файла `yandex_music_project.csv`. О качестве данных ничего не известно. Поэтому перед проверкой гипотез понадобится обзор данных. \n",
    "\n",
    "Вы проверите данные на ошибки и оцените их влияние на исследование. Затем, на этапе предобработки вы поищете возможность исправить самые критичные ошибки данных.\n",
    " \n",
    "Таким образом, исследование пройдёт в три этапа:\n",
    " 1. Обзор данных.\n",
    " 2. Предобработка данных.\n",
    " 3. Проверка гипотез.\n",
    "\n"
   ]
  },
  {
   "cell_type": "markdown",
   "metadata": {},
   "source": [
    "<div class=\"alert alert-success\">\n",
    "<b>Комментарий ревьюера:</b>\n",
    "\n",
    "Здорово, когда есть вступление в сам проект, каждый сможет быстрее разобраться в концепции / деталях работы. \n",
    "\n",
    "</div>"
   ]
  },
  {
   "cell_type": "markdown",
   "metadata": {
    "id": "Ml1hmfXC_Zcs"
   },
   "source": [
    "## Обзор данных\n",
    "\n",
    "Составьте первое представление о данных Яндекс.Музыки.\n",
    "\n",
    "\n"
   ]
  },
  {
   "cell_type": "markdown",
   "metadata": {
    "id": "57eAOGIz_Zcs"
   },
   "source": [
    "Основной инструмент аналитика — `pandas`. Импортируйте эту библиотеку."
   ]
  },
  {
   "cell_type": "code",
   "execution_count": 2,
   "metadata": {
    "id": "AXN7PHPN_Zcs"
   },
   "outputs": [],
   "source": [
    "import pandas as pd # импорт библиотеки pandas"
   ]
  },
  {
   "cell_type": "markdown",
   "metadata": {
    "id": "SG23P8tt_Zcs"
   },
   "source": [
    "Прочитайте файл `yandex_music_project.csv` из папки `/datasets` и сохраните его в переменной `df`:"
   ]
  },
  {
   "cell_type": "code",
   "execution_count": 3,
   "metadata": {
    "id": "fFVu7vqh_Zct"
   },
   "outputs": [],
   "source": [
    "df = pd.read_csv('/datasets/yandex_music_project.csv') # чтение файла с данными и сохранение в df"
   ]
  },
  {
   "cell_type": "markdown",
   "metadata": {
    "id": "rDoOMd3uTqnZ"
   },
   "source": [
    "Выведите на экран первые десять строк таблицы:"
   ]
  },
  {
   "cell_type": "code",
   "execution_count": 4,
   "metadata": {
    "id": "oWTVX3gW_Zct"
   },
   "outputs": [
    {
     "data": {
      "text/html": [
       "<div>\n",
       "<style scoped>\n",
       "    .dataframe tbody tr th:only-of-type {\n",
       "        vertical-align: middle;\n",
       "    }\n",
       "\n",
       "    .dataframe tbody tr th {\n",
       "        vertical-align: top;\n",
       "    }\n",
       "\n",
       "    .dataframe thead th {\n",
       "        text-align: right;\n",
       "    }\n",
       "</style>\n",
       "<table border=\"1\" class=\"dataframe\">\n",
       "  <thead>\n",
       "    <tr style=\"text-align: right;\">\n",
       "      <th></th>\n",
       "      <th>userID</th>\n",
       "      <th>Track</th>\n",
       "      <th>artist</th>\n",
       "      <th>genre</th>\n",
       "      <th>City</th>\n",
       "      <th>time</th>\n",
       "      <th>Day</th>\n",
       "    </tr>\n",
       "  </thead>\n",
       "  <tbody>\n",
       "    <tr>\n",
       "      <td>0</td>\n",
       "      <td>FFB692EC</td>\n",
       "      <td>Kamigata To Boots</td>\n",
       "      <td>The Mass Missile</td>\n",
       "      <td>rock</td>\n",
       "      <td>Saint-Petersburg</td>\n",
       "      <td>20:28:33</td>\n",
       "      <td>Wednesday</td>\n",
       "    </tr>\n",
       "    <tr>\n",
       "      <td>1</td>\n",
       "      <td>55204538</td>\n",
       "      <td>Delayed Because of Accident</td>\n",
       "      <td>Andreas Rönnberg</td>\n",
       "      <td>rock</td>\n",
       "      <td>Moscow</td>\n",
       "      <td>14:07:09</td>\n",
       "      <td>Friday</td>\n",
       "    </tr>\n",
       "    <tr>\n",
       "      <td>2</td>\n",
       "      <td>20EC38</td>\n",
       "      <td>Funiculì funiculà</td>\n",
       "      <td>Mario Lanza</td>\n",
       "      <td>pop</td>\n",
       "      <td>Saint-Petersburg</td>\n",
       "      <td>20:58:07</td>\n",
       "      <td>Wednesday</td>\n",
       "    </tr>\n",
       "    <tr>\n",
       "      <td>3</td>\n",
       "      <td>A3DD03C9</td>\n",
       "      <td>Dragons in the Sunset</td>\n",
       "      <td>Fire + Ice</td>\n",
       "      <td>folk</td>\n",
       "      <td>Saint-Petersburg</td>\n",
       "      <td>08:37:09</td>\n",
       "      <td>Monday</td>\n",
       "    </tr>\n",
       "    <tr>\n",
       "      <td>4</td>\n",
       "      <td>E2DC1FAE</td>\n",
       "      <td>Soul People</td>\n",
       "      <td>Space Echo</td>\n",
       "      <td>dance</td>\n",
       "      <td>Moscow</td>\n",
       "      <td>08:34:34</td>\n",
       "      <td>Monday</td>\n",
       "    </tr>\n",
       "    <tr>\n",
       "      <td>5</td>\n",
       "      <td>842029A1</td>\n",
       "      <td>Преданная</td>\n",
       "      <td>IMPERVTOR</td>\n",
       "      <td>rusrap</td>\n",
       "      <td>Saint-Petersburg</td>\n",
       "      <td>13:09:41</td>\n",
       "      <td>Friday</td>\n",
       "    </tr>\n",
       "    <tr>\n",
       "      <td>6</td>\n",
       "      <td>4CB90AA5</td>\n",
       "      <td>True</td>\n",
       "      <td>Roman Messer</td>\n",
       "      <td>dance</td>\n",
       "      <td>Moscow</td>\n",
       "      <td>13:00:07</td>\n",
       "      <td>Wednesday</td>\n",
       "    </tr>\n",
       "    <tr>\n",
       "      <td>7</td>\n",
       "      <td>F03E1C1F</td>\n",
       "      <td>Feeling This Way</td>\n",
       "      <td>Polina Griffith</td>\n",
       "      <td>dance</td>\n",
       "      <td>Moscow</td>\n",
       "      <td>20:47:49</td>\n",
       "      <td>Wednesday</td>\n",
       "    </tr>\n",
       "    <tr>\n",
       "      <td>8</td>\n",
       "      <td>8FA1D3BE</td>\n",
       "      <td>И вновь продолжается бой</td>\n",
       "      <td>NaN</td>\n",
       "      <td>ruspop</td>\n",
       "      <td>Moscow</td>\n",
       "      <td>09:17:40</td>\n",
       "      <td>Friday</td>\n",
       "    </tr>\n",
       "    <tr>\n",
       "      <td>9</td>\n",
       "      <td>E772D5C0</td>\n",
       "      <td>Pessimist</td>\n",
       "      <td>NaN</td>\n",
       "      <td>dance</td>\n",
       "      <td>Saint-Petersburg</td>\n",
       "      <td>21:20:49</td>\n",
       "      <td>Wednesday</td>\n",
       "    </tr>\n",
       "  </tbody>\n",
       "</table>\n",
       "</div>"
      ],
      "text/plain": [
       "     userID                        Track            artist   genre  \\\n",
       "0  FFB692EC            Kamigata To Boots  The Mass Missile    rock   \n",
       "1  55204538  Delayed Because of Accident  Andreas Rönnberg    rock   \n",
       "2    20EC38            Funiculì funiculà       Mario Lanza     pop   \n",
       "3  A3DD03C9        Dragons in the Sunset        Fire + Ice    folk   \n",
       "4  E2DC1FAE                  Soul People        Space Echo   dance   \n",
       "5  842029A1                    Преданная         IMPERVTOR  rusrap   \n",
       "6  4CB90AA5                         True      Roman Messer   dance   \n",
       "7  F03E1C1F             Feeling This Way   Polina Griffith   dance   \n",
       "8  8FA1D3BE     И вновь продолжается бой               NaN  ruspop   \n",
       "9  E772D5C0                    Pessimist               NaN   dance   \n",
       "\n",
       "             City        time        Day  \n",
       "0  Saint-Petersburg  20:28:33  Wednesday  \n",
       "1            Moscow  14:07:09     Friday  \n",
       "2  Saint-Petersburg  20:58:07  Wednesday  \n",
       "3  Saint-Petersburg  08:37:09     Monday  \n",
       "4            Moscow  08:34:34     Monday  \n",
       "5  Saint-Petersburg  13:09:41     Friday  \n",
       "6            Moscow  13:00:07  Wednesday  \n",
       "7            Moscow  20:47:49  Wednesday  \n",
       "8            Moscow  09:17:40     Friday  \n",
       "9  Saint-Petersburg  21:20:49  Wednesday  "
      ]
     },
     "metadata": {},
     "output_type": "display_data"
    }
   ],
   "source": [
    "display(df.head(10)) # получение первых 10 строк таблицы df"
   ]
  },
  {
   "cell_type": "markdown",
   "metadata": {
    "id": "EO73Kwic_Zct"
   },
   "source": [
    "Одной командой получить общую информацию о таблице:"
   ]
  },
  {
   "cell_type": "code",
   "execution_count": 5,
   "metadata": {
    "id": "DSf2kIb-_Zct"
   },
   "outputs": [
    {
     "name": "stdout",
     "output_type": "stream",
     "text": [
      "<class 'pandas.core.frame.DataFrame'>\n",
      "RangeIndex: 65079 entries, 0 to 65078\n",
      "Data columns (total 7 columns):\n",
      "  userID    65079 non-null object\n",
      "Track       63848 non-null object\n",
      "artist      57876 non-null object\n",
      "genre       63881 non-null object\n",
      "  City      65079 non-null object\n",
      "time        65079 non-null object\n",
      "Day         65079 non-null object\n",
      "dtypes: object(7)\n",
      "memory usage: 3.5+ MB\n"
     ]
    },
    {
     "data": {
      "text/plain": [
       "None"
      ]
     },
     "metadata": {},
     "output_type": "display_data"
    }
   ],
   "source": [
    "display(df.info()) # получение общей информации о данных в таблице df"
   ]
  },
  {
   "cell_type": "markdown",
   "metadata": {
    "id": "TaQ2Iwbr_Zct"
   },
   "source": [
    "Итак, в таблице семь столбцов. Тип данных во всех столбцах — `object`.\n",
    "\n",
    "Согласно документации к данным:\n",
    "* `userID` — идентификатор пользователя;\n",
    "* `Track` — название трека;  \n",
    "* `artist` — имя исполнителя;\n",
    "* `genre` — название жанра;\n",
    "* `City` — город пользователя;\n",
    "* `time` — время начала прослушивания;\n",
    "* `Day` — день недели.\n",
    "\n",
    "В названиях колонок видны три нарушения стиля:\n",
    "1. Строчные буквы сочетаются с прописными.\n",
    "2. Встречаются пробелы.\n",
    "3. Найдите ещё одну проблему в названии колонок и опишите её в этом пункте.\n",
    "4. Название колонки `userID`состоит из двух слов. Следует разделить нижним подчеркиванием.\n",
    "\n",
    "\n",
    "Количество значений в столбцах различается. Значит, в данных есть пропущенные значения.\n"
   ]
  },
  {
   "cell_type": "markdown",
   "metadata": {
    "id": "dIaKXr29_Zct"
   },
   "source": [
    "### Стиль заголовков\n",
    "Выведите на экран названия столбцов:"
   ]
  },
  {
   "cell_type": "markdown",
   "metadata": {
    "id": "MCB6-dXG_Zct"
   },
   "source": [
    "**Выводы**\n",
    "\n",
    "В каждой строке таблицы — данные о прослушанном треке. Часть колонок описывает саму композицию: название, исполнителя и жанр. Остальные данные рассказывают о пользователе: из какого он города, когда он слушал музыку. \n",
    "\n",
    "Предварительно можно утверждать, что, данных достаточно для проверки гипотез. Но встречаются пропуски в данных, а в названиях колонок — расхождения с хорошим стилем.\n",
    "\n",
    "Чтобы двигаться дальше, нужно устранить проблемы в данных."
   ]
  },
  {
   "cell_type": "markdown",
   "metadata": {},
   "source": [
    "<div class=\"alert alert-success\">\n",
    "<b>Комментарий ревьюера:</b>\n",
    "\n",
    "Достаточно детально изучили наши первичные данные, давай теперь их обработаем. \n",
    "</div>"
   ]
  },
  {
   "cell_type": "markdown",
   "metadata": {
    "id": "SjYF6Ub9_Zct"
   },
   "source": [
    "## Предобработка данных\n",
    "Исправьте стиль в заголовках столбцов, исключите пропуски. Затем проверьте данные на дубликаты."
   ]
  },
  {
   "cell_type": "code",
   "execution_count": 6,
   "metadata": {
    "id": "oKOTdF_Q_Zct"
   },
   "outputs": [
    {
     "data": {
      "text/plain": [
       "Index(['  userID', 'Track', 'artist', 'genre', '  City  ', 'time', 'Day'], dtype='object')"
      ]
     },
     "metadata": {},
     "output_type": "display_data"
    }
   ],
   "source": [
    "display(df.columns) # перечень названий столбцов таблицы df"
   ]
  },
  {
   "cell_type": "markdown",
   "metadata": {
    "id": "FPZA3ki8xe7T"
   },
   "source": [
    "Type Markdown and LaTeX: 𝛼2"
   ]
  },
  {
   "cell_type": "markdown",
   "metadata": {
    "id": "zj5534cv_Zct"
   },
   "source": [
    "Приведите названия в соответствие с хорошим стилем:\n",
    "* несколько слов в названии запишите в «змеином_регистре»,\n",
    "* все символы сделайте строчными,\n",
    "* устраните пробелы.\n",
    "\n",
    "Для этого переименуйте колонки так:\n",
    "* `'  userID'` → `'user_id'`;\n",
    "* `'Track'` → `'track'`;\n",
    "* `'  City  '` → `'city'`;\n",
    "* `'Day'` → `'day'`."
   ]
  },
  {
   "cell_type": "code",
   "execution_count": 7,
   "metadata": {
    "id": "ISlFqs5y_Zct",
    "scrolled": true
   },
   "outputs": [],
   "source": [
    "df = df.rename(columns = {'  userID' : 'user_id', 'Track' : 'track','  City  ' : 'city', 'Day' : 'day'}) # переименование столбцов"
   ]
  },
  {
   "cell_type": "markdown",
   "metadata": {},
   "source": [
    "<div class=\"alert alert-success\">\n",
    "<b>Комментарий ревьюера:</b>\n",
    "\n",
    "Отлично, название колонок привели в нужный вид, и названия поменялись.\n",
    "    \n",
    "В том числе мы можем поправить стилистику, чтобы сделать код более читабельным.\n",
    "    \n",
    "Оставил пример ниже.\n",
    "    \n",
    "</div>"
   ]
  },
  {
   "cell_type": "code",
   "execution_count": 8,
   "metadata": {},
   "outputs": [],
   "source": [
    "df = df.rename(columns = {\n",
    "    '  userID':'user_id',\n",
    "    'Track':'track',\n",
    "    '  City  ':'city',\n",
    "    'Day':'day'})# переименование столбцов"
   ]
  },
  {
   "cell_type": "markdown",
   "metadata": {
    "id": "1dqbh00J_Zct"
   },
   "source": [
    "Проверьте результат. Для этого ещё раз выведите на экран названия столбцов:"
   ]
  },
  {
   "cell_type": "code",
   "execution_count": 9,
   "metadata": {
    "id": "d4NOAmTW_Zct"
   },
   "outputs": [
    {
     "data": {
      "text/plain": [
       "Index(['user_id', 'track', 'artist', 'genre', 'city', 'time', 'day'], dtype='object')"
      ]
     },
     "metadata": {},
     "output_type": "display_data"
    }
   ],
   "source": [
    "display(df.columns) # проверка результатов - перечень названий столбцов"
   ]
  },
  {
   "cell_type": "markdown",
   "metadata": {
    "id": "5ISfbcfY_Zct"
   },
   "source": [
    "### Пропуски значений\n",
    "Сначала посчитайте, сколько в таблице пропущенных значений. Для этого достаточно двух методов `pandas`:"
   ]
  },
  {
   "cell_type": "code",
   "execution_count": 10,
   "metadata": {
    "id": "RskX29qr_Zct"
   },
   "outputs": [
    {
     "data": {
      "text/plain": [
       "user_id       0\n",
       "track      1231\n",
       "artist     7203\n",
       "genre      1198\n",
       "city          0\n",
       "time          0\n",
       "day           0\n",
       "dtype: int64"
      ]
     },
     "execution_count": 10,
     "metadata": {},
     "output_type": "execute_result"
    }
   ],
   "source": [
    "df.isna().sum() # подсчёт пропусков"
   ]
  },
  {
   "cell_type": "markdown",
   "metadata": {
    "id": "qubhgnlO_Zct"
   },
   "source": [
    "Не все пропущенные значения влияют на исследование. Так в `track` и `artist` пропуски не важны для вашей работы. Достаточно заменить их явными обозначениями.\n",
    "\n",
    "Но пропуски в `genre` могут помешать сравнению музыкальных вкусов в Москве и Санкт-Петербурге. На практике было бы правильно установить причину пропусков и восстановить данные. Такой возможности нет в учебном проекте. Придётся:\n",
    "* заполнить и эти пропуски явными обозначениями,\n",
    "* оценить, насколько они повредят расчётам. "
   ]
  },
  {
   "cell_type": "markdown",
   "metadata": {
    "id": "fSv2laPA_Zct"
   },
   "source": [
    "Замените пропущенные значения в столбцах `track`, `artist` и `genre` на строку `'unknown'`. Для этого создайте список `columns_to_replace`, переберите его элементы циклом `for` и для каждого столбца выполните замену пропущенных значений:"
   ]
  },
  {
   "cell_type": "code",
   "execution_count": 11,
   "metadata": {
    "id": "KplB5qWs_Zct"
   },
   "outputs": [],
   "source": [
    "columns_to_replace = [\"track\", \"artist\", \"genre\"]\n",
    "for value in columns_to_replace:\n",
    "    df[value] = df[value].fillna('unknown') # перебор названий столбцов в цикле и замена пропущенных значений на 'unknown'"
   ]
  },
  {
   "cell_type": "markdown",
   "metadata": {
    "id": "Ilsm-MZo_Zct"
   },
   "source": [
    "Убедитесь, что в таблице не осталось пропусков. Для этого ещё раз посчитайте пропущенные значения."
   ]
  },
  {
   "cell_type": "markdown",
   "metadata": {},
   "source": [
    "<div class=\"alert alert-success\">\n",
    "<b>Комментарий ревьюера:</b>\n",
    "\n",
    "Супер.\n",
    "    \n",
    "Автоматический способ замены пропусков всегда лучше, чем замена в каждом столбце по отдельности.\n",
    "    \n",
    "Теперь мы это изучили и будем применять в дальнейших проектах.\n",
    "    \n",
    "</div>"
   ]
  },
  {
   "cell_type": "code",
   "execution_count": 12,
   "metadata": {
    "id": "Tq4nYRX4_Zct"
   },
   "outputs": [
    {
     "data": {
      "text/plain": [
       "user_id    0\n",
       "track      0\n",
       "artist     0\n",
       "genre      0\n",
       "city       0\n",
       "time       0\n",
       "day        0\n",
       "dtype: int64"
      ]
     },
     "execution_count": 12,
     "metadata": {},
     "output_type": "execute_result"
    }
   ],
   "source": [
    "df.isna().sum() # подсчёт пропусков"
   ]
  },
  {
   "cell_type": "markdown",
   "metadata": {
    "id": "BWKRtBJ3_Zct"
   },
   "source": [
    "### Дубликаты\n",
    "Посчитайте явные дубликаты в таблице одной командой:"
   ]
  },
  {
   "cell_type": "code",
   "execution_count": 13,
   "metadata": {
    "id": "36eES_S0_Zct"
   },
   "outputs": [
    {
     "data": {
      "text/plain": [
       "3826"
      ]
     },
     "execution_count": 13,
     "metadata": {},
     "output_type": "execute_result"
    }
   ],
   "source": [
    "df.duplicated().sum() # подсчёт явных дубликатов"
   ]
  },
  {
   "cell_type": "markdown",
   "metadata": {
    "id": "Ot25h6XR_Zct"
   },
   "source": [
    "Вызовите специальный метод `pandas`, чтобы удалить явные дубликаты:"
   ]
  },
  {
   "cell_type": "code",
   "execution_count": 14,
   "metadata": {
    "id": "exFHq6tt_Zct"
   },
   "outputs": [],
   "source": [
    "df = df.drop_duplicates().reset_index(drop = True) # удаление явных дубликатов (с удалением старых индексов и формированием новых)"
   ]
  },
  {
   "cell_type": "markdown",
   "metadata": {
    "id": "Im2YwBEG_Zct"
   },
   "source": [
    "Ещё раз посчитайте явные дубликаты в таблице — убедитесь, что полностью от них избавились:"
   ]
  },
  {
   "cell_type": "code",
   "execution_count": 15,
   "metadata": {
    "id": "-8PuNWQ0_Zct",
    "scrolled": true
   },
   "outputs": [
    {
     "data": {
      "text/plain": [
       "0"
      ]
     },
     "execution_count": 15,
     "metadata": {},
     "output_type": "execute_result"
    }
   ],
   "source": [
    "df.duplicated().sum() # проверка на отсутствие дубликатов"
   ]
  },
  {
   "cell_type": "markdown",
   "metadata": {},
   "source": [
    "<div class=\"alert alert-success\">\n",
    "<b>Комментарий ревьюера:</b>\n",
    "\n",
    "Также рекомендую подписывать с помощью текста расчетные значения, ведь так быстрее понять что мы хотели посчитать.\n",
    "    \n",
    "В этом нам поможет метод `format`, который является стандартным в языке `python`.\n",
    "    \n",
    "Оставил пример ниже.\n",
    "    \n",
    "</div>"
   ]
  },
  {
   "cell_type": "code",
   "execution_count": 16,
   "metadata": {},
   "outputs": [
    {
     "name": "stdout",
     "output_type": "stream",
     "text": [
      "Количество пропусков: 0\n"
     ]
    }
   ],
   "source": [
    "print(\"Количество пропусков: {}\".format(df.duplicated().sum()))"
   ]
  },
  {
   "cell_type": "markdown",
   "metadata": {
    "id": "QlFBsxAr_Zct"
   },
   "source": [
    "Теперь избавьтесь от неявных дубликатов в колонке `genre`. Например, название одного и того же жанра может быть записано немного по-разному. Такие ошибки тоже повлияют на результат исследования."
   ]
  },
  {
   "cell_type": "markdown",
   "metadata": {
    "id": "eSjWwsOh_Zct"
   },
   "source": [
    "Выведите на экран список уникальных названий жанров, отсортированный в алфавитном порядке. Для этого:\n",
    "* извлеките нужный столбец датафрейма, \n",
    "* примените к нему метод сортировки,\n",
    "* для отсортированного столбца вызовите метод, который вернёт уникальные значения из столбца."
   ]
  },
  {
   "cell_type": "code",
   "execution_count": 17,
   "metadata": {
    "id": "JIUcqzZN_Zct"
   },
   "outputs": [
    {
     "data": {
      "text/plain": [
       "array(['acid', 'acoustic', 'action', 'adult', 'africa', 'afrikaans',\n",
       "       'alternative', 'alternativepunk', 'ambient', 'americana',\n",
       "       'animated', 'anime', 'arabesk', 'arabic', 'arena',\n",
       "       'argentinetango', 'art', 'audiobook', 'author', 'avantgarde',\n",
       "       'axé', 'baile', 'balkan', 'beats', 'bigroom', 'black', 'bluegrass',\n",
       "       'blues', 'bollywood', 'bossa', 'brazilian', 'breakbeat', 'breaks',\n",
       "       'broadway', 'cantautori', 'cantopop', 'canzone', 'caribbean',\n",
       "       'caucasian', 'celtic', 'chamber', 'chanson', 'children', 'chill',\n",
       "       'chinese', 'choral', 'christian', 'christmas', 'classical',\n",
       "       'classicmetal', 'club', 'colombian', 'comedy', 'conjazz',\n",
       "       'contemporary', 'country', 'cuban', 'dance', 'dancehall',\n",
       "       'dancepop', 'dark', 'death', 'deep', 'deutschrock', 'deutschspr',\n",
       "       'dirty', 'disco', 'dnb', 'documentary', 'downbeat', 'downtempo',\n",
       "       'drum', 'dub', 'dubstep', 'eastern', 'easy', 'electronic',\n",
       "       'electropop', 'emo', 'entehno', 'epicmetal', 'estrada', 'ethnic',\n",
       "       'eurofolk', 'european', 'experimental', 'extrememetal', 'fado',\n",
       "       'fairytail', 'film', 'fitness', 'flamenco', 'folk', 'folklore',\n",
       "       'folkmetal', 'folkrock', 'folktronica', 'forró', 'frankreich',\n",
       "       'französisch', 'french', 'funk', 'future', 'gangsta', 'garage',\n",
       "       'german', 'ghazal', 'gitarre', 'glitch', 'gospel', 'gothic',\n",
       "       'grime', 'grunge', 'gypsy', 'handsup', \"hard'n'heavy\", 'hardcore',\n",
       "       'hardstyle', 'hardtechno', 'hip', 'hip-hop', 'hiphop',\n",
       "       'historisch', 'holiday', 'hop', 'horror', 'house', 'hymn', 'idm',\n",
       "       'independent', 'indian', 'indie', 'indipop', 'industrial',\n",
       "       'inspirational', 'instrumental', 'international', 'irish', 'jam',\n",
       "       'japanese', 'jazz', 'jewish', 'jpop', 'jungle', 'k-pop',\n",
       "       'karadeniz', 'karaoke', 'kayokyoku', 'korean', 'laiko', 'latin',\n",
       "       'latino', 'leftfield', 'local', 'lounge', 'loungeelectronic',\n",
       "       'lovers', 'malaysian', 'mandopop', 'marschmusik', 'meditative',\n",
       "       'mediterranean', 'melodic', 'metal', 'metalcore', 'mexican',\n",
       "       'middle', 'minimal', 'miscellaneous', 'modern', 'mood', 'mpb',\n",
       "       'muslim', 'native', 'neoklassik', 'neue', 'new', 'newage',\n",
       "       'newwave', 'nu', 'nujazz', 'numetal', 'oceania', 'old', 'opera',\n",
       "       'orchestral', 'other', 'piano', 'podcasts', 'pop', 'popdance',\n",
       "       'popelectronic', 'popeurodance', 'poprussian', 'post',\n",
       "       'posthardcore', 'postrock', 'power', 'progmetal', 'progressive',\n",
       "       'psychedelic', 'punjabi', 'punk', 'quebecois', 'ragga', 'ram',\n",
       "       'rancheras', 'rap', 'rave', 'reggae', 'reggaeton', 'regional',\n",
       "       'relax', 'religious', 'retro', 'rhythm', 'rnb', 'rnr', 'rock',\n",
       "       'rockabilly', 'rockalternative', 'rockindie', 'rockother',\n",
       "       'romance', 'roots', 'ruspop', 'rusrap', 'rusrock', 'russian',\n",
       "       'salsa', 'samba', 'scenic', 'schlager', 'self', 'sertanejo',\n",
       "       'shanson', 'shoegazing', 'showtunes', 'singer', 'ska', 'skarock',\n",
       "       'slow', 'smooth', 'soft', 'soul', 'soulful', 'sound', 'soundtrack',\n",
       "       'southern', 'specialty', 'speech', 'spiritual', 'sport',\n",
       "       'stonerrock', 'surf', 'swing', 'synthpop', 'synthrock',\n",
       "       'sängerportrait', 'tango', 'tanzorchester', 'taraftar', 'tatar',\n",
       "       'tech', 'techno', 'teen', 'thrash', 'top', 'traditional',\n",
       "       'tradjazz', 'trance', 'tribal', 'trip', 'triphop', 'tropical',\n",
       "       'türk', 'türkçe', 'ukrrock', 'unknown', 'urban', 'uzbek',\n",
       "       'variété', 'vi', 'videogame', 'vocal', 'western', 'world',\n",
       "       'worldbeat', 'ïîï', 'электроника'], dtype=object)"
      ]
     },
     "execution_count": 17,
     "metadata": {},
     "output_type": "execute_result"
    }
   ],
   "source": [
    "df = df.sort_values(by = 'genre')\n",
    "\n",
    "df['genre'].unique() # Просмотр уникальных названий жанров"
   ]
  },
  {
   "cell_type": "markdown",
   "metadata": {
    "id": "qej-Qmuo_Zct"
   },
   "source": [
    "Просмотрите список и найдите неявные дубликаты названия `hiphop`. Это могут быть названия с ошибками или альтернативные названия того же жанра.\n",
    "\n",
    "Вы увидите следующие неявные дубликаты:\n",
    "* *hip*,\n",
    "* *hop*,\n",
    "* *hip-hop*.\n",
    "\n",
    "Чтобы очистить от них таблицу, напишите функцию `replace_wrong_genres()` с двумя параметрами: \n",
    "* `wrong_genres` — список дубликатов,\n",
    "* `correct_genre` — строка с правильным значением.\n",
    "\n",
    "Функция должна исправить колонку `genre` в таблице `df`: заменить каждое значение из списка `wrong_genres` на значение из `correct_genre`."
   ]
  },
  {
   "cell_type": "code",
   "execution_count": 18,
   "metadata": {
    "id": "ErNDkmns_Zct"
   },
   "outputs": [],
   "source": [
    "def replace_wrong_genres(wrong_genres, correct_genre):\n",
    "    for wrong_genres in wrong_genres:\n",
    "        df['genre'] = df['genre'].replace(wrong_genres, correct_genre)\n",
    "# Функция для замены неявных дубликатов\n"
   ]
  },
  {
   "cell_type": "markdown",
   "metadata": {
    "id": "aDoBJxbA_Zct"
   },
   "source": [
    "Вызовите `replace_wrong_genres()` и передайте ей такие аргументы, чтобы она устранила неявные дубликаты: вместо `hip`, `hop` и `hip-hop` в таблице должно быть значение `hiphop`:"
   ]
  },
  {
   "cell_type": "code",
   "execution_count": 19,
   "metadata": {
    "id": "YN5i2hpmSo09"
   },
   "outputs": [],
   "source": [
    "wrong_genres = ['hip', 'hop', 'hip-hop']\n",
    "correct_genre = 'hiphop'\n",
    "replace_wrong_genres(wrong_genres, correct_genre)\n",
    "# Устранение неявных дубликатов"
   ]
  },
  {
   "cell_type": "markdown",
   "metadata": {},
   "source": [
    "\n",
    "<div class=\"alert alert-success\">\n",
    "<b>Комментарий ревьюера:</b>\n",
    "\n",
    "Хорошо, что искомые значения выделили в отдельный список и по ним прошлись при замене.\n",
    "    \n",
    "</div>"
   ]
  },
  {
   "cell_type": "markdown",
   "metadata": {
    "id": "zQKF16_RG15m"
   },
   "source": [
    "Проверьте, что заменили неправильные названия:\n",
    "\n",
    "*   hip\n",
    "*   hop\n",
    "*   hip-hop\n",
    "\n",
    "Выведите отсортированный список уникальных значений столбца `genre`:"
   ]
  },
  {
   "cell_type": "code",
   "execution_count": 20,
   "metadata": {
    "id": "wvixALnFG15m",
    "scrolled": true
   },
   "outputs": [
    {
     "data": {
      "text/plain": [
       "array(['acid', 'acoustic', 'action', 'adult', 'africa', 'afrikaans',\n",
       "       'alternative', 'alternativepunk', 'ambient', 'americana',\n",
       "       'animated', 'anime', 'arabesk', 'arabic', 'arena',\n",
       "       'argentinetango', 'art', 'audiobook', 'author', 'avantgarde',\n",
       "       'axé', 'baile', 'balkan', 'beats', 'bigroom', 'black', 'bluegrass',\n",
       "       'blues', 'bollywood', 'bossa', 'brazilian', 'breakbeat', 'breaks',\n",
       "       'broadway', 'cantautori', 'cantopop', 'canzone', 'caribbean',\n",
       "       'caucasian', 'celtic', 'chamber', 'chanson', 'children', 'chill',\n",
       "       'chinese', 'choral', 'christian', 'christmas', 'classical',\n",
       "       'classicmetal', 'club', 'colombian', 'comedy', 'conjazz',\n",
       "       'contemporary', 'country', 'cuban', 'dance', 'dancehall',\n",
       "       'dancepop', 'dark', 'death', 'deep', 'deutschrock', 'deutschspr',\n",
       "       'dirty', 'disco', 'dnb', 'documentary', 'downbeat', 'downtempo',\n",
       "       'drum', 'dub', 'dubstep', 'eastern', 'easy', 'electronic',\n",
       "       'electropop', 'emo', 'entehno', 'epicmetal', 'estrada', 'ethnic',\n",
       "       'eurofolk', 'european', 'experimental', 'extrememetal', 'fado',\n",
       "       'fairytail', 'film', 'fitness', 'flamenco', 'folk', 'folklore',\n",
       "       'folkmetal', 'folkrock', 'folktronica', 'forró', 'frankreich',\n",
       "       'französisch', 'french', 'funk', 'future', 'gangsta', 'garage',\n",
       "       'german', 'ghazal', 'gitarre', 'glitch', 'gospel', 'gothic',\n",
       "       'grime', 'grunge', 'gypsy', 'handsup', \"hard'n'heavy\", 'hardcore',\n",
       "       'hardstyle', 'hardtechno', 'hiphop', 'historisch', 'holiday',\n",
       "       'horror', 'house', 'hymn', 'idm', 'independent', 'indian', 'indie',\n",
       "       'indipop', 'industrial', 'inspirational', 'instrumental',\n",
       "       'international', 'irish', 'jam', 'japanese', 'jazz', 'jewish',\n",
       "       'jpop', 'jungle', 'k-pop', 'karadeniz', 'karaoke', 'kayokyoku',\n",
       "       'korean', 'laiko', 'latin', 'latino', 'leftfield', 'local',\n",
       "       'lounge', 'loungeelectronic', 'lovers', 'malaysian', 'mandopop',\n",
       "       'marschmusik', 'meditative', 'mediterranean', 'melodic', 'metal',\n",
       "       'metalcore', 'mexican', 'middle', 'minimal', 'miscellaneous',\n",
       "       'modern', 'mood', 'mpb', 'muslim', 'native', 'neoklassik', 'neue',\n",
       "       'new', 'newage', 'newwave', 'nu', 'nujazz', 'numetal', 'oceania',\n",
       "       'old', 'opera', 'orchestral', 'other', 'piano', 'podcasts', 'pop',\n",
       "       'popdance', 'popelectronic', 'popeurodance', 'poprussian', 'post',\n",
       "       'posthardcore', 'postrock', 'power', 'progmetal', 'progressive',\n",
       "       'psychedelic', 'punjabi', 'punk', 'quebecois', 'ragga', 'ram',\n",
       "       'rancheras', 'rap', 'rave', 'reggae', 'reggaeton', 'regional',\n",
       "       'relax', 'religious', 'retro', 'rhythm', 'rnb', 'rnr', 'rock',\n",
       "       'rockabilly', 'rockalternative', 'rockindie', 'rockother',\n",
       "       'romance', 'roots', 'ruspop', 'rusrap', 'rusrock', 'russian',\n",
       "       'salsa', 'samba', 'scenic', 'schlager', 'self', 'sertanejo',\n",
       "       'shanson', 'shoegazing', 'showtunes', 'singer', 'ska', 'skarock',\n",
       "       'slow', 'smooth', 'soft', 'soul', 'soulful', 'sound', 'soundtrack',\n",
       "       'southern', 'specialty', 'speech', 'spiritual', 'sport',\n",
       "       'stonerrock', 'surf', 'swing', 'synthpop', 'synthrock',\n",
       "       'sängerportrait', 'tango', 'tanzorchester', 'taraftar', 'tatar',\n",
       "       'tech', 'techno', 'teen', 'thrash', 'top', 'traditional',\n",
       "       'tradjazz', 'trance', 'tribal', 'trip', 'triphop', 'tropical',\n",
       "       'türk', 'türkçe', 'ukrrock', 'unknown', 'urban', 'uzbek',\n",
       "       'variété', 'vi', 'videogame', 'vocal', 'western', 'world',\n",
       "       'worldbeat', 'ïîï', 'электроника'], dtype=object)"
      ]
     },
     "execution_count": 20,
     "metadata": {},
     "output_type": "execute_result"
    }
   ],
   "source": [
    "df['genre'].unique() # Проверка на неявные дубликаты"
   ]
  },
  {
   "cell_type": "markdown",
   "metadata": {},
   "source": [
    "<div class=\"alert alert-success\">\n",
    "<b>Комментарий ревьюера:</b>\n",
    "\n",
    "Хорошо, данные отсортировали.\n",
    "    \n",
    "В том числе мы можем использовать внутренний метод сортировки `pandas`, используя сцепку методов.\n",
    "    \n",
    "Оставил пример ниже.\n",
    "    \n",
    "</div>"
   ]
  },
  {
   "cell_type": "code",
   "execution_count": 42,
   "metadata": {
    "scrolled": true
   },
   "outputs": [
    {
     "data": {
      "text/plain": [
       "array(['acid', 'acoustic', 'action', 'adult', 'africa', 'afrikaans',\n",
       "       'alternative', 'alternativepunk', 'ambient', 'americana',\n",
       "       'animated', 'anime', 'arabesk', 'arabic', 'arena',\n",
       "       'argentinetango', 'art', 'audiobook', 'author', 'avantgarde',\n",
       "       'axé', 'baile', 'balkan', 'beats', 'bigroom', 'black', 'bluegrass',\n",
       "       'blues', 'bollywood', 'bossa', 'brazilian', 'breakbeat', 'breaks',\n",
       "       'broadway', 'cantautori', 'cantopop', 'canzone', 'caribbean',\n",
       "       'caucasian', 'celtic', 'chamber', 'chanson', 'children', 'chill',\n",
       "       'chinese', 'choral', 'christian', 'christmas', 'classical',\n",
       "       'classicmetal', 'club', 'colombian', 'comedy', 'conjazz',\n",
       "       'contemporary', 'country', 'cuban', 'dance', 'dancehall',\n",
       "       'dancepop', 'dark', 'death', 'deep', 'deutschrock', 'deutschspr',\n",
       "       'dirty', 'disco', 'dnb', 'documentary', 'downbeat', 'downtempo',\n",
       "       'drum', 'dub', 'dubstep', 'eastern', 'easy', 'electronic',\n",
       "       'electropop', 'emo', 'entehno', 'epicmetal', 'estrada', 'ethnic',\n",
       "       'eurofolk', 'european', 'experimental', 'extrememetal', 'fado',\n",
       "       'fairytail', 'film', 'fitness', 'flamenco', 'folk', 'folklore',\n",
       "       'folkmetal', 'folkrock', 'folktronica', 'forró', 'frankreich',\n",
       "       'französisch', 'french', 'funk', 'future', 'gangsta', 'garage',\n",
       "       'german', 'ghazal', 'gitarre', 'glitch', 'gospel', 'gothic',\n",
       "       'grime', 'grunge', 'gypsy', 'handsup', \"hard'n'heavy\", 'hardcore',\n",
       "       'hardstyle', 'hardtechno', 'hiphop', 'historisch', 'holiday',\n",
       "       'horror', 'house', 'hymn', 'idm', 'independent', 'indian', 'indie',\n",
       "       'indipop', 'industrial', 'inspirational', 'instrumental',\n",
       "       'international', 'irish', 'jam', 'japanese', 'jazz', 'jewish',\n",
       "       'jpop', 'jungle', 'k-pop', 'karadeniz', 'karaoke', 'kayokyoku',\n",
       "       'korean', 'laiko', 'latin', 'latino', 'leftfield', 'local',\n",
       "       'lounge', 'loungeelectronic', 'lovers', 'malaysian', 'mandopop',\n",
       "       'marschmusik', 'meditative', 'mediterranean', 'melodic', 'metal',\n",
       "       'metalcore', 'mexican', 'middle', 'minimal', 'miscellaneous',\n",
       "       'modern', 'mood', 'mpb', 'muslim', 'native', 'neoklassik', 'neue',\n",
       "       'new', 'newage', 'newwave', 'nu', 'nujazz', 'numetal', 'oceania',\n",
       "       'old', 'opera', 'orchestral', 'other', 'piano', 'podcasts', 'pop',\n",
       "       'popdance', 'popelectronic', 'popeurodance', 'poprussian', 'post',\n",
       "       'posthardcore', 'postrock', 'power', 'progmetal', 'progressive',\n",
       "       'psychedelic', 'punjabi', 'punk', 'quebecois', 'ragga', 'ram',\n",
       "       'rancheras', 'rap', 'rave', 'reggae', 'reggaeton', 'regional',\n",
       "       'relax', 'religious', 'retro', 'rhythm', 'rnb', 'rnr', 'rock',\n",
       "       'rockabilly', 'rockalternative', 'rockindie', 'rockother',\n",
       "       'romance', 'roots', 'ruspop', 'rusrap', 'rusrock', 'russian',\n",
       "       'salsa', 'samba', 'scenic', 'schlager', 'self', 'sertanejo',\n",
       "       'shanson', 'shoegazing', 'showtunes', 'singer', 'ska', 'skarock',\n",
       "       'slow', 'smooth', 'soft', 'soul', 'soulful', 'sound', 'soundtrack',\n",
       "       'southern', 'specialty', 'speech', 'spiritual', 'sport',\n",
       "       'stonerrock', 'surf', 'swing', 'synthpop', 'synthrock',\n",
       "       'sängerportrait', 'tango', 'tanzorchester', 'taraftar', 'tatar',\n",
       "       'tech', 'techno', 'teen', 'thrash', 'top', 'traditional',\n",
       "       'tradjazz', 'trance', 'tribal', 'trip', 'triphop', 'tropical',\n",
       "       'türk', 'türkçe', 'ukrrock', 'unknown', 'urban', 'uzbek',\n",
       "       'variété', 'vi', 'videogame', 'vocal', 'western', 'world',\n",
       "       'worldbeat', 'ïîï', 'электроника'], dtype=object)"
      ]
     },
     "execution_count": 42,
     "metadata": {},
     "output_type": "execute_result"
    }
   ],
   "source": [
    "df['genre'].sort_values().unique()"
   ]
  },
  {
   "cell_type": "markdown",
   "metadata": {
    "id": "jz6a9-7HQUDd"
   },
   "source": [
    "**Выводы**\n",
    "\n",
    "Предобработка обнаружила три проблемы в данных:\n",
    "\n",
    "- нарушения в стиле заголовков,\n",
    "- пропущенные значения,\n",
    "- дубликаты — явные и неявные.\n",
    "\n",
    "Вы исправили заголовки, чтобы упростить работу с таблицей. Без дубликатов исследование станет более точным.\n",
    "\n",
    "Пропущенные значения вы заменили на `'unknown'`. Ещё предстоит увидеть, не повредят ли исследованию пропуски в колонке `genre`.\n",
    "\n",
    "Теперь можно перейти к проверке гипотез. "
   ]
  },
  {
   "cell_type": "markdown",
   "metadata": {
    "id": "WttZHXH0SqKk"
   },
   "source": [
    "## Проверка гипотез"
   ]
  },
  {
   "cell_type": "markdown",
   "metadata": {
    "id": "Im936VVi_Zcu"
   },
   "source": [
    "### Сравнение поведения пользователей двух столиц"
   ]
  },
  {
   "cell_type": "markdown",
   "metadata": {
    "id": "nwt_MuaL_Zcu"
   },
   "source": [
    "Первая гипотеза утверждает, что пользователи по-разному слушают музыку в Москве и Санкт-Петербурге. Проверьте это предположение по данным о трёх днях недели — понедельнике, среде и пятнице. Для этого:\n",
    "\n",
    "* Разделите пользователей Москвы и Санкт-Петербурга\n",
    "* Сравните, сколько треков послушала каждая группа пользователей в понедельник, среду и пятницу.\n"
   ]
  },
  {
   "cell_type": "markdown",
   "metadata": {
    "id": "8Dw_YMmT_Zcu"
   },
   "source": [
    "Для тренировки сначала выполните каждый из расчётов по отдельности. \n",
    "\n",
    "Оцените активность пользователей в каждом городе. Сгруппируйте данные по городу и посчитайте прослушивания в каждой группе.\n",
    "\n"
   ]
  },
  {
   "cell_type": "code",
   "execution_count": 21,
   "metadata": {
    "id": "0_Qs96oh_Zcu"
   },
   "outputs": [
    {
     "data": {
      "text/html": [
       "<div>\n",
       "<style scoped>\n",
       "    .dataframe tbody tr th:only-of-type {\n",
       "        vertical-align: middle;\n",
       "    }\n",
       "\n",
       "    .dataframe tbody tr th {\n",
       "        vertical-align: top;\n",
       "    }\n",
       "\n",
       "    .dataframe thead th {\n",
       "        text-align: right;\n",
       "    }\n",
       "</style>\n",
       "<table border=\"1\" class=\"dataframe\">\n",
       "  <thead>\n",
       "    <tr style=\"text-align: right;\">\n",
       "      <th></th>\n",
       "      <th>user_id</th>\n",
       "      <th>track</th>\n",
       "      <th>artist</th>\n",
       "      <th>genre</th>\n",
       "      <th>time</th>\n",
       "      <th>day</th>\n",
       "    </tr>\n",
       "    <tr>\n",
       "      <th>city</th>\n",
       "      <th></th>\n",
       "      <th></th>\n",
       "      <th></th>\n",
       "      <th></th>\n",
       "      <th></th>\n",
       "      <th></th>\n",
       "    </tr>\n",
       "  </thead>\n",
       "  <tbody>\n",
       "    <tr>\n",
       "      <td>Moscow</td>\n",
       "      <td>42741</td>\n",
       "      <td>42741</td>\n",
       "      <td>42741</td>\n",
       "      <td>42741</td>\n",
       "      <td>42741</td>\n",
       "      <td>42741</td>\n",
       "    </tr>\n",
       "    <tr>\n",
       "      <td>Saint-Petersburg</td>\n",
       "      <td>18512</td>\n",
       "      <td>18512</td>\n",
       "      <td>18512</td>\n",
       "      <td>18512</td>\n",
       "      <td>18512</td>\n",
       "      <td>18512</td>\n",
       "    </tr>\n",
       "  </tbody>\n",
       "</table>\n",
       "</div>"
      ],
      "text/plain": [
       "                  user_id  track  artist  genre   time    day\n",
       "city                                                         \n",
       "Moscow              42741  42741   42741  42741  42741  42741\n",
       "Saint-Petersburg    18512  18512   18512  18512  18512  18512"
      ]
     },
     "execution_count": 21,
     "metadata": {},
     "output_type": "execute_result"
    }
   ],
   "source": [
    "df.groupby('city').count()\n",
    "# Подсчёт прослушиваний в каждом городе"
   ]
  },
  {
   "cell_type": "markdown",
   "metadata": {
    "id": "dzli3w8o_Zcu"
   },
   "source": [
    "В Москве прослушиваний больше, чем в Петербурге. Из этого не следует, что московские пользователи чаще слушают музыку. Просто самих пользователей в Москве больше.\n",
    "\n",
    "Теперь сгруппируйте данные по дню недели и подсчитайте прослушивания в понедельник, среду и пятницу. Учтите, что в данных есть информация только о прослушиваниях только за эти дни.\n"
   ]
  },
  {
   "cell_type": "markdown",
   "metadata": {},
   "source": [
    "<div class=\"alert alert-success\">\n",
    "<b>Комментарий ревьюера:</b>\n",
    "\n",
    "С группировкой данных разобрались, это очень полезный инструмент, который мы будем использовать достаточно часто в нашей практике.\n",
    "    \n",
    "Кстати возможно было выбрать один столбец в таблице, чтобы не показывать одинаковые значения, оставил пример ниже.\n",
    "    \n",
    "</div>"
   ]
  },
  {
   "cell_type": "code",
   "execution_count": 43,
   "metadata": {},
   "outputs": [
    {
     "data": {
      "text/plain": [
       "city\n",
       "Moscow              42741\n",
       "Saint-Petersburg    18512\n",
       "Name: user_id, dtype: int64"
      ]
     },
     "execution_count": 43,
     "metadata": {},
     "output_type": "execute_result"
    }
   ],
   "source": [
    "df.groupby('city').count()['user_id']"
   ]
  },
  {
   "cell_type": "code",
   "execution_count": 22,
   "metadata": {
    "id": "uZMKjiJz_Zcu"
   },
   "outputs": [
    {
     "data": {
      "text/html": [
       "<div>\n",
       "<style scoped>\n",
       "    .dataframe tbody tr th:only-of-type {\n",
       "        vertical-align: middle;\n",
       "    }\n",
       "\n",
       "    .dataframe tbody tr th {\n",
       "        vertical-align: top;\n",
       "    }\n",
       "\n",
       "    .dataframe thead th {\n",
       "        text-align: right;\n",
       "    }\n",
       "</style>\n",
       "<table border=\"1\" class=\"dataframe\">\n",
       "  <thead>\n",
       "    <tr style=\"text-align: right;\">\n",
       "      <th></th>\n",
       "      <th>user_id</th>\n",
       "      <th>track</th>\n",
       "      <th>artist</th>\n",
       "      <th>genre</th>\n",
       "      <th>city</th>\n",
       "      <th>time</th>\n",
       "    </tr>\n",
       "    <tr>\n",
       "      <th>day</th>\n",
       "      <th></th>\n",
       "      <th></th>\n",
       "      <th></th>\n",
       "      <th></th>\n",
       "      <th></th>\n",
       "      <th></th>\n",
       "    </tr>\n",
       "  </thead>\n",
       "  <tbody>\n",
       "    <tr>\n",
       "      <td>Friday</td>\n",
       "      <td>21840</td>\n",
       "      <td>21840</td>\n",
       "      <td>21840</td>\n",
       "      <td>21840</td>\n",
       "      <td>21840</td>\n",
       "      <td>21840</td>\n",
       "    </tr>\n",
       "    <tr>\n",
       "      <td>Monday</td>\n",
       "      <td>21354</td>\n",
       "      <td>21354</td>\n",
       "      <td>21354</td>\n",
       "      <td>21354</td>\n",
       "      <td>21354</td>\n",
       "      <td>21354</td>\n",
       "    </tr>\n",
       "    <tr>\n",
       "      <td>Wednesday</td>\n",
       "      <td>18059</td>\n",
       "      <td>18059</td>\n",
       "      <td>18059</td>\n",
       "      <td>18059</td>\n",
       "      <td>18059</td>\n",
       "      <td>18059</td>\n",
       "    </tr>\n",
       "  </tbody>\n",
       "</table>\n",
       "</div>"
      ],
      "text/plain": [
       "           user_id  track  artist  genre   city   time\n",
       "day                                                   \n",
       "Friday       21840  21840   21840  21840  21840  21840\n",
       "Monday       21354  21354   21354  21354  21354  21354\n",
       "Wednesday    18059  18059   18059  18059  18059  18059"
      ]
     },
     "execution_count": 22,
     "metadata": {},
     "output_type": "execute_result"
    }
   ],
   "source": [
    "df.groupby('day').count()\n",
    "# Подсчёт прослушиваний в каждый из трёх дней"
   ]
  },
  {
   "cell_type": "markdown",
   "metadata": {
    "id": "cC2tNrlL_Zcu"
   },
   "source": [
    "В среднем пользователи из двух городов менее активны по средам. Но картина может измениться, если рассмотреть каждый город в отдельности."
   ]
  },
  {
   "cell_type": "markdown",
   "metadata": {
    "id": "POzs8bGa_Zcu"
   },
   "source": [
    "Вы видели, как работает группировка по городу и по дням недели. Теперь напишите функцию, которая объединит два эти расчёта.\n",
    "\n",
    "Создайте функцию `number_tracks()`, которая посчитает прослушивания для заданного дня и города. Ей понадобятся два параметра:\n",
    "* день недели,\n",
    "* название города.\n",
    "\n",
    "В функции сохраните в переменную строки исходной таблицы, у которых значение:\n",
    "  * в колонке `day` равно параметру `day`,\n",
    "  * в колонке `city` равно параметру `city`.\n",
    "\n",
    "Для этого примените последовательную фильтрацию с логической индексацией.\n",
    "\n",
    "Затем посчитайте значения в столбце `user_id` получившейся таблицы. Результат сохраните в новую переменную. Верните эту переменную из функции."
   ]
  },
  {
   "cell_type": "code",
   "execution_count": 23,
   "metadata": {
    "id": "Nz3GdQB1_Zcu"
   },
   "outputs": [],
   "source": [
    "# <создание функции number_tracks()>\n",
    "\n",
    "def number_tracks(day, city): # Объявляется функция с двумя параметрами: day, city.\n",
    "    track_list = df[df['day'] == day]\n",
    "    track_list = track_list[track_list['city'] == city]\n",
    "    \n",
    "    track_list_count = track_list['user_id'].count()\n",
    "    return track_list_count\n",
    "    \n",
    "# В переменной track_list сохраняются те строки таблицы df, для которых \n",
    "# значение в столбце 'day' равно параметру day и одновременно значение\n",
    "# в столбце 'city' равно параметру city (используйте последовательную фильтрацию\n",
    "# с помощью логической индексации).\n",
    "# В переменной track_list_count сохраняется число значений столбца 'user_id',\n",
    "# рассчитанное методом count() для таблицы track_list.\n",
    "# Функция возвращает число - значение track_list_count.\n",
    "# Функция для подсчёта прослушиваний для конкретного города и дня.\n",
    "# С помощью последовательной фильтрации с логической индексацией она \n",
    "# сначала получит из исходной таблицы строки с нужным днём,\n",
    "# затем из результата отфильтрует строки с нужным городом,\n",
    "# методом count() посчитает количество значений в колонке user_id. \n",
    "# Это количество функция вернёт в качестве результата"
   ]
  },
  {
   "cell_type": "markdown",
   "metadata": {
    "id": "ytf7xFrFJQ2r"
   },
   "source": [
    "Вызовите `number_tracks()` шесть раз, меняя значение параметров — так, чтобы получить данные для каждого города в каждый из трёх дней."
   ]
  },
  {
   "cell_type": "code",
   "execution_count": 24,
   "metadata": {
    "id": "rJcRATNQ_Zcu"
   },
   "outputs": [
    {
     "data": {
      "text/plain": [
       "15740"
      ]
     },
     "execution_count": 24,
     "metadata": {},
     "output_type": "execute_result"
    }
   ],
   "source": [
    "number_tracks('Monday', 'Moscow') # количество прослушиваний в Москве по понедельникам"
   ]
  },
  {
   "cell_type": "code",
   "execution_count": 25,
   "metadata": {
    "id": "hq_ncZ5T_Zcu"
   },
   "outputs": [
    {
     "data": {
      "text/plain": [
       "5614"
      ]
     },
     "execution_count": 25,
     "metadata": {},
     "output_type": "execute_result"
    }
   ],
   "source": [
    "number_tracks('Monday', 'Saint-Petersburg')# количество прослушиваний в Санкт-Петербурге по понедельникам"
   ]
  },
  {
   "cell_type": "code",
   "execution_count": 26,
   "metadata": {
    "id": "_NTy2VPU_Zcu"
   },
   "outputs": [
    {
     "data": {
      "text/plain": [
       "11056"
      ]
     },
     "execution_count": 26,
     "metadata": {},
     "output_type": "execute_result"
    }
   ],
   "source": [
    "number_tracks('Wednesday', 'Moscow')# количество прослушиваний в Москве по средам"
   ]
  },
  {
   "cell_type": "code",
   "execution_count": 27,
   "metadata": {
    "id": "j2y3TAwo_Zcu"
   },
   "outputs": [
    {
     "data": {
      "text/plain": [
       "7003"
      ]
     },
     "execution_count": 27,
     "metadata": {},
     "output_type": "execute_result"
    }
   ],
   "source": [
    "number_tracks('Wednesday', 'Saint-Petersburg')# количество прослушиваний в Санкт-Петербурге по средам"
   ]
  },
  {
   "cell_type": "code",
   "execution_count": 28,
   "metadata": {
    "id": "vYDw5u_K_Zcu"
   },
   "outputs": [
    {
     "data": {
      "text/plain": [
       "15945"
      ]
     },
     "execution_count": 28,
     "metadata": {},
     "output_type": "execute_result"
    }
   ],
   "source": [
    "number_tracks('Friday', 'Moscow')# количество прослушиваний в Москве по пятницам"
   ]
  },
  {
   "cell_type": "code",
   "execution_count": 29,
   "metadata": {
    "id": "8_yzFtW3_Zcu"
   },
   "outputs": [
    {
     "data": {
      "text/plain": [
       "5895"
      ]
     },
     "execution_count": 29,
     "metadata": {},
     "output_type": "execute_result"
    }
   ],
   "source": [
    "number_tracks('Friday', 'Saint-Petersburg')# количество прослушиваний в Санкт-Петербурге по пятницам"
   ]
  },
  {
   "cell_type": "markdown",
   "metadata": {
    "id": "7QXffbO-_Zcu"
   },
   "source": [
    "Создайте c помощью конструктора `pd.DataFrame` таблицу, где\n",
    "* названия колонок — `['city', 'monday', 'wednesday', 'friday']`;\n",
    "* данные — результаты, которые вы получили с помощью `number_tracks`."
   ]
  },
  {
   "cell_type": "code",
   "execution_count": 30,
   "metadata": {
    "id": "APAcLpOr_Zcu"
   },
   "outputs": [
    {
     "data": {
      "text/html": [
       "<div>\n",
       "<style scoped>\n",
       "    .dataframe tbody tr th:only-of-type {\n",
       "        vertical-align: middle;\n",
       "    }\n",
       "\n",
       "    .dataframe tbody tr th {\n",
       "        vertical-align: top;\n",
       "    }\n",
       "\n",
       "    .dataframe thead th {\n",
       "        text-align: right;\n",
       "    }\n",
       "</style>\n",
       "<table border=\"1\" class=\"dataframe\">\n",
       "  <thead>\n",
       "    <tr style=\"text-align: right;\">\n",
       "      <th></th>\n",
       "      <th>city</th>\n",
       "      <th>monday</th>\n",
       "      <th>wednesday</th>\n",
       "      <th>friday</th>\n",
       "    </tr>\n",
       "  </thead>\n",
       "  <tbody>\n",
       "    <tr>\n",
       "      <td>0</td>\n",
       "      <td>Moscow</td>\n",
       "      <td>15740</td>\n",
       "      <td>11056</td>\n",
       "      <td>15945</td>\n",
       "    </tr>\n",
       "    <tr>\n",
       "      <td>1</td>\n",
       "      <td>Saint-Petersburg</td>\n",
       "      <td>5614</td>\n",
       "      <td>7003</td>\n",
       "      <td>5895</td>\n",
       "    </tr>\n",
       "  </tbody>\n",
       "</table>\n",
       "</div>"
      ],
      "text/plain": [
       "               city  monday  wednesday  friday\n",
       "0            Moscow   15740      11056   15945\n",
       "1  Saint-Petersburg    5614       7003    5895"
      ]
     },
     "execution_count": 30,
     "metadata": {},
     "output_type": "execute_result"
    }
   ],
   "source": [
    "columns = ['city', 'monday', 'wednesday', 'friday'] \n",
    "data = [['Moscow', 15740, 11056, 15945],\n",
    "        ['Saint-Petersburg', 5614, 7003, 5895]]\n",
    "pd.DataFrame(data = data, columns = columns) # Таблица с результатами"
   ]
  },
  {
   "cell_type": "markdown",
   "metadata": {
    "id": "-EgPIHYu_Zcu"
   },
   "source": [
    "**Выводы**\n",
    "\n",
    "Данные показывают разницу поведения пользователей:\n",
    "\n",
    "- В Москве пик прослушиваний приходится на понедельник и пятницу, а в среду заметен спад.\n",
    "- В Петербурге, наоборот, больше слушают музыку по средам. Активность в понедельник и пятницу здесь почти в равной мере уступает среде.\n",
    "\n",
    "Значит, данные говорят в пользу первой гипотезы."
   ]
  },
  {
   "cell_type": "markdown",
   "metadata": {
    "id": "atZAxtq4_Zcu"
   },
   "source": [
    "### Музыка в начале и в конце недели"
   ]
  },
  {
   "cell_type": "markdown",
   "metadata": {
    "id": "eXrQqXFH_Zcu"
   },
   "source": [
    "Согласно второй гипотезе, утром в понедельник в Москве преобладают одни жанры, а в Петербурге — другие. Так же и вечером пятницы преобладают разные жанры — в зависимости от города."
   ]
  },
  {
   "cell_type": "markdown",
   "metadata": {
    "id": "S8UcW6Hw_Zcu"
   },
   "source": [
    "Сохраните таблицы с данными в две переменные:\n",
    "* по Москве — в `moscow_general`;\n",
    "* по Санкт-Петербургу — в `spb_general`."
   ]
  },
  {
   "cell_type": "code",
   "execution_count": 31,
   "metadata": {
    "id": "qeaFfM_P_Zcu"
   },
   "outputs": [],
   "source": [
    "moscow_general = df[df['city'] == 'Moscow']\n",
    "# получение таблицы moscow_general из тех строк таблицы df, \n",
    "# для которых значение в столбце 'city' равно 'Moscow'\n"
   ]
  },
  {
   "cell_type": "code",
   "execution_count": 32,
   "metadata": {
    "id": "ORaVRKto_Zcu"
   },
   "outputs": [],
   "source": [
    "spb_general = df[df['city'] == 'Saint-Petersburg'] \n",
    "# получение таблицы spb_general из тех строк таблицы df,\n",
    "# для которых значение в столбце 'city' равно 'Saint-Petersburg'"
   ]
  },
  {
   "cell_type": "markdown",
   "metadata": {},
   "source": [
    "<div class=\"alert alert-success\">\n",
    "<b>Комментарий ревьюера:</b>\n",
    "\n",
    "Фильтрация наших данных используется практически в любой задаче и здорово что мы изучили её в действии 😊👍    \n",
    "</div>"
   ]
  },
  {
   "cell_type": "markdown",
   "metadata": {
    "id": "MEJV-CX2_Zcu"
   },
   "source": [
    "Создайте функцию `genre_weekday()` с четырьмя параметрами:\n",
    "* таблица (датафрейм) с данными,\n",
    "* день недели,\n",
    "* начальная временная метка в формате 'hh:mm', \n",
    "* последняя временная метка в формате 'hh:mm'.\n",
    "\n",
    "Функция должна вернуть информацию о топ-10 жанров тех треков, которые прослушивали в указанный день, в промежутке между двумя отметками времени."
   ]
  },
  {
   "cell_type": "code",
   "execution_count": 33,
   "metadata": {
    "id": "laJT9BYl_Zcu"
   },
   "outputs": [],
   "source": [
    "def genre_weekday(table, day, time1, time2):\n",
    "    genre_df = table[table['day'] == day]\n",
    "    genre_df = genre_df[genre_df['time'] > time1]\n",
    "    genre_df = genre_df[genre_df['time'] < time2]\n",
    "    genre_df_count = genre_df.groupby('genre')['user_id'].count()\n",
    "    genre_df_sorted = genre_df_count.sort_values(ascending = False)\n",
    "    return genre_df_sorted.head(10)\n",
    "\n",
    "# Объявление функции genre_weekday() с параметрами table, day, time1, time2,\n",
    "# которая возвращает информацию о самых популярных жанрах в указанный день в\n",
    "# заданное время:\n",
    "# 1) в переменную genre_df сохраняются те строки переданного датафрейма table, для\n",
    "#    которых одновременно:\n",
    "#    - значение в столбце day равно значению аргумента day\n",
    "#    - значение в столбце time больше значения аргумента time1\n",
    "#    - значение в столбце time меньше значения аргумента time2\n",
    "#    Используйте последовательную фильтрацию с помощью логической индексации.\n",
    "# 2) сгруппировать датафрейм genre_df по столбцу genre, взять один из его\n",
    "#    столбцов и посчитать методом count() количество записей для каждого из\n",
    "#    присутствующих жанров, получившийся Series записать в переменную\n",
    "#    genre_df_count\n",
    "# 3) отсортировать genre_df_count по убыванию встречаемости и сохранить\n",
    "#    в переменную genre_df_sorted\n",
    "# 4) вернуть Series из 10 первых значений genre_df_sorted, это будут топ-10\n",
    "#    популярных жанров (в указанный день, в заданное время)"
   ]
  },
  {
   "cell_type": "markdown",
   "metadata": {
    "id": "la2s2_PF_Zcu"
   },
   "source": [
    "Cравните результаты функции `genre_weekday()` для Москвы и Санкт-Петербурга в понедельник утром (с 7:00 до 11:00) и в пятницу вечером (с 17:00 до 23:00):"
   ]
  },
  {
   "cell_type": "code",
   "execution_count": 34,
   "metadata": {
    "id": "yz7itPUQ_Zcu"
   },
   "outputs": [
    {
     "data": {
      "text/plain": [
       "genre\n",
       "pop            781\n",
       "dance          549\n",
       "electronic     480\n",
       "rock           474\n",
       "hiphop         286\n",
       "ruspop         186\n",
       "world          181\n",
       "rusrap         175\n",
       "alternative    164\n",
       "unknown        161\n",
       "Name: user_id, dtype: int64"
      ]
     },
     "execution_count": 34,
     "metadata": {},
     "output_type": "execute_result"
    }
   ],
   "source": [
    "genre_weekday(moscow_general, 'Monday', '07:00', '11:00')\n",
    "# вызов функции для утра понедельника в Москве (вместо df — таблица moscow_general)\n",
    "# объекты, хранящие время, являются строками и сравниваются как строки\n",
    "# пример вызова: genre_weekday(moscow_general, 'Monday', '07:00', '11:00')"
   ]
  },
  {
   "cell_type": "code",
   "execution_count": 35,
   "metadata": {
    "id": "kwUcHPdy_Zcu"
   },
   "outputs": [
    {
     "data": {
      "text/plain": [
       "genre\n",
       "pop            218\n",
       "dance          182\n",
       "rock           162\n",
       "electronic     147\n",
       "hiphop          80\n",
       "ruspop          64\n",
       "alternative     58\n",
       "rusrap          55\n",
       "jazz            44\n",
       "classical       40\n",
       "Name: user_id, dtype: int64"
      ]
     },
     "execution_count": 35,
     "metadata": {},
     "output_type": "execute_result"
    }
   ],
   "source": [
    "genre_weekday(spb_general, 'Monday', '07:00', '11:00') # вызов функции для утра понедельника в Петербурге (вместо df — таблица spb_general)"
   ]
  },
  {
   "cell_type": "code",
   "execution_count": 36,
   "metadata": {
    "id": "EzXVRE1o_Zcu"
   },
   "outputs": [
    {
     "data": {
      "text/plain": [
       "genre\n",
       "pop            713\n",
       "rock           517\n",
       "dance          495\n",
       "electronic     482\n",
       "hiphop         273\n",
       "world          208\n",
       "ruspop         170\n",
       "alternative    163\n",
       "classical      163\n",
       "rusrap         142\n",
       "Name: user_id, dtype: int64"
      ]
     },
     "execution_count": 36,
     "metadata": {},
     "output_type": "execute_result"
    }
   ],
   "source": [
    "genre_weekday(moscow_general, 'Friday', '17:00', '23:00') # вызов функции для вечера пятницы в Москве"
   ]
  },
  {
   "cell_type": "code",
   "execution_count": 37,
   "metadata": {
    "id": "JZaEKu5v_Zcu"
   },
   "outputs": [
    {
     "data": {
      "text/plain": [
       "genre\n",
       "pop            256\n",
       "rock           216\n",
       "electronic     216\n",
       "dance          210\n",
       "hiphop          97\n",
       "alternative     63\n",
       "jazz            61\n",
       "classical       60\n",
       "rusrap          59\n",
       "world           54\n",
       "Name: user_id, dtype: int64"
      ]
     },
     "execution_count": 37,
     "metadata": {},
     "output_type": "execute_result"
    }
   ],
   "source": [
    "genre_weekday(spb_general, 'Friday', '17:00', '23:00') # вызов функции для вечера пятницы в Петербурге"
   ]
  },
  {
   "cell_type": "markdown",
   "metadata": {
    "id": "wrCe4MNX_Zcu"
   },
   "source": [
    "**Выводы**\n",
    "\n",
    "Если сравнить топ-10 жанров в понедельник утром, можно сделать такие выводы:\n",
    "\n",
    "1. В Москве и Петербурге слушают похожую музыку. Единственное отличие — в московский рейтинг вошёл жанр “world”, а в петербургский — джаз и классика.\n",
    "\n",
    "2. В Москве пропущенных значений оказалось так много, что значение `'unknown'` заняло десятое место среди самых популярных жанров. Значит, пропущенные значения занимают существенную долю в данных и угрожают достоверности исследования.\n",
    "\n",
    "Вечер пятницы не меняет эту картину. Некоторые жанры поднимаются немного выше, другие спускаются, но в целом топ-10 остаётся тем же самым.\n",
    "\n",
    "Таким образом, вторая гипотеза подтвердилась лишь частично:\n",
    "* Пользователи слушают похожую музыку в начале недели и в конце.\n",
    "* Разница между Москвой и Петербургом не слишком выражена. В Москве чаще слушают русскую популярную музыку, в Петербурге — джаз.\n",
    "\n",
    "Однако пропуски в данных ставят под сомнение этот результат. В Москве их так много, что рейтинг топ-10 мог бы выглядеть иначе, если бы не утерянные  данные о жанрах."
   ]
  },
  {
   "cell_type": "markdown",
   "metadata": {
    "id": "JolODAqr_Zcu"
   },
   "source": [
    "### Жанровые предпочтения в Москве и Петербурге\n",
    "\n",
    "Гипотеза: Петербург — столица рэпа, музыку этого жанра там слушают чаще, чем в Москве.  А Москва — город контрастов, в котором, тем не менее, преобладает поп-музыка."
   ]
  },
  {
   "cell_type": "markdown",
   "metadata": {
    "id": "DlegSvaT_Zcu"
   },
   "source": [
    "Сгруппируйте таблицу `moscow_general` по жанру и посчитайте прослушивания треков каждого жанра методом `count()`. Затем отсортируйте результат в порядке убывания и сохраните его в таблице `moscow_genres`."
   ]
  },
  {
   "cell_type": "code",
   "execution_count": 38,
   "metadata": {
    "id": "r19lIPke_Zcu"
   },
   "outputs": [],
   "source": [
    "moscow_genres = (moscow_general.groupby('genre')['genre'].count()).sort_values(ascending = False)\n",
    "#moscow_genres = moscow_genres.sort_values(ascending = False)\n",
    "# одной строкой: группировка таблицы moscow_general по столбцу 'genre', \n",
    "# подсчёт числа значений 'genre' в этой группировке методом count(), \n",
    "# сортировка получившегося Series в порядке убывания и сохранение в moscow_genres"
   ]
  },
  {
   "cell_type": "markdown",
   "metadata": {
    "id": "6kMuomxTiIr8"
   },
   "source": [
    "Выведите на экран первые десять строк `moscow_genres`:"
   ]
  },
  {
   "cell_type": "code",
   "execution_count": 39,
   "metadata": {
    "id": "WhCSooF8_Zcv"
   },
   "outputs": [
    {
     "data": {
      "text/plain": [
       "genre\n",
       "pop            5892\n",
       "dance          4435\n",
       "rock           3965\n",
       "electronic     3786\n",
       "hiphop         2096\n",
       "classical      1616\n",
       "world          1432\n",
       "alternative    1379\n",
       "ruspop         1372\n",
       "rusrap         1161\n",
       "Name: genre, dtype: int64"
      ]
     },
     "metadata": {},
     "output_type": "display_data"
    }
   ],
   "source": [
    "display(moscow_genres.head(10)) # просмотр первых 10 строк moscow_genres"
   ]
  },
  {
   "cell_type": "markdown",
   "metadata": {},
   "source": [
    "<div class=\"alert alert-success\">\n",
    "<b>Комментарий ревьюера:</b>\n",
    "\n",
    "Теперь составление любого топа нам по плечу 😊\n",
    "    \n",
    "    \n",
    "</div>"
   ]
  },
  {
   "cell_type": "markdown",
   "metadata": {
    "id": "cnPG2vnN_Zcv"
   },
   "source": [
    "Теперь повторите то же и для Петербурга.\n",
    "\n",
    "Сгруппируйте таблицу `spb_general` по жанру. Посчитайте прослушивания треков каждого жанра. Результат отсортируйте в порядке убывания и сохраните в таблице `spb_genres`:\n"
   ]
  },
  {
   "cell_type": "code",
   "execution_count": 40,
   "metadata": {
    "id": "gluLIpE7_Zcv"
   },
   "outputs": [],
   "source": [
    "spb_genres = (spb_general.groupby('genre')['genre'].count()).sort_values(ascending = False)\n",
    "# одной строкой: группировка таблицы spb_general по столбцу 'genre', \n",
    "# подсчёт числа значений 'genre' в этой группировке методом count(), \n",
    "# сортировка получившегося Series в порядке убывания и сохранение в spb_genres"
   ]
  },
  {
   "cell_type": "markdown",
   "metadata": {
    "id": "5Doha_ODgyQ8"
   },
   "source": [
    "Выведите на экран первые десять строк `spb_genres`:"
   ]
  },
  {
   "cell_type": "code",
   "execution_count": 41,
   "metadata": {
    "id": "uaGJHjVU_Zcv"
   },
   "outputs": [
    {
     "data": {
      "text/plain": [
       "genre\n",
       "pop            2431\n",
       "dance          1932\n",
       "rock           1879\n",
       "electronic     1736\n",
       "hiphop          960\n",
       "alternative     649\n",
       "classical       646\n",
       "rusrap          564\n",
       "ruspop          538\n",
       "world           515\n",
       "Name: genre, dtype: int64"
      ]
     },
     "metadata": {},
     "output_type": "display_data"
    }
   ],
   "source": [
    "display(spb_genres.head(10)) # просмотр первых 10 строк spb_genres"
   ]
  },
  {
   "cell_type": "markdown",
   "metadata": {
    "id": "RY51YJYu_Zcv"
   },
   "source": [
    "**Выводы**"
   ]
  },
  {
   "cell_type": "markdown",
   "metadata": {
    "id": "nVhnJEm__Zcv"
   },
   "source": [
    "Гипотеза частично подтвердилась:\n",
    "* Поп-музыка — самый популярный жанр в Москве, как и предполагала гипотеза. Более того, в топ-10 жанров встречается близкий жанр — русская популярная музыка.\n",
    "* Вопреки ожиданиям, рэп одинаково популярен в Москве и Петербурге. \n"
   ]
  },
  {
   "cell_type": "markdown",
   "metadata": {
    "id": "ykKQ0N65_Zcv"
   },
   "source": [
    "## Итоги исследования"
   ]
  },
  {
   "cell_type": "markdown",
   "metadata": {
    "id": "tjUwbHb3_Zcv"
   },
   "source": [
    "Вы проверили три гипотезы и установили:\n",
    "\n",
    "1. День недели по-разному влияет на активность пользователей в Москве и Петербурге. \n",
    "\n",
    "Первая гипотеза полностью подтвердилась.\n",
    "\n",
    "2. Музыкальные предпочтения не сильно меняются в течение недели — будь то Москва или Петербург. Небольшие различия заметны в начале недели, по понедельникам:\n",
    "* в Москве слушают музыку жанра “world”,\n",
    "* в Петербурге — джаз и классику.\n",
    "\n",
    "Таким образом, вторая гипотеза подтвердилась лишь отчасти. Этот результат мог оказаться иным, если бы не пропуски в данных.\n",
    "\n",
    "3. Во вкусах пользователей Москвы и Петербурга больше общего чем различий. Вопреки ожиданиям, предпочтения жанров в Петербурге напоминают московские.\n",
    "\n",
    "Третья гипотеза не подтвердилась. Если различия в предпочтениях и существуют, на основной массе пользователей они незаметны.\n",
    "\n",
    "**На практике исследования содержат проверки статистических гипотез.**\n",
    "Из данных одного сервиса не всегда можно сделать вывод о всех жителях города.\n",
    "Проверки статистических гипотез покажут, насколько они достоверны, исходя из имеющихся данных. \n",
    "С методами проверок гипотез вы ещё познакомитесь в следующих темах."
   ]
  },
  {
   "cell_type": "markdown",
   "metadata": {},
   "source": [
    "<div class=\"alert alert-success\">\n",
    "<b>Комментарий ревьюера:</b>\n",
    "\n",
    "Выводы понятны и логичны, а самое главное подкреплены выявленными фактами.\n",
    "       \n",
    "В целом сам проект выполнен на хорошем уровне! На протяжении всей работы чувствуется глубина проработки задачи и это безусловный плюс для нас. Было использовано большое количество методов, которые будут помогать тебе в дальнейших проектах.\n",
    "    \n",
    "    \n",
    "Поздравляю с успешным завершением проекта 😊👍\n",
    "    \n",
    "И желаю успехов в новых работах 😊\n",
    "    \n",
    "**[общий комментарий]** Ячейки **markdown** в том числе можем использовать как дополнительный способ стилизации нашего проекта. Оставил ниже ссылку, с примерами стилизации.\n",
    "\n",
    "https://sqlbak.com/blog/jupyter-notebook-markdown-cheatsheet\n",
    "     \n",
    "</div>"
   ]
  },
  {
   "cell_type": "code",
   "execution_count": null,
   "metadata": {},
   "outputs": [],
   "source": []
  }
 ],
 "metadata": {
  "ExecuteTimeLog": [
   {
    "duration": 459,
    "start_time": "2021-11-09T05:58:26.176Z"
   },
   {
    "duration": 382,
    "start_time": "2021-11-09T05:59:03.184Z"
   },
   {
    "duration": 373,
    "start_time": "2021-11-09T05:59:27.219Z"
   },
   {
    "duration": 1182,
    "start_time": "2021-11-09T05:59:30.388Z"
   },
   {
    "duration": 148,
    "start_time": "2021-11-09T05:59:34.524Z"
   },
   {
    "duration": 8,
    "start_time": "2021-11-09T05:59:38.348Z"
   },
   {
    "duration": 17,
    "start_time": "2021-11-09T05:59:49.691Z"
   },
   {
    "duration": 27,
    "start_time": "2021-11-09T06:00:32.613Z"
   },
   {
    "duration": 4,
    "start_time": "2021-11-09T06:30:36.500Z"
   },
   {
    "duration": 5,
    "start_time": "2021-11-09T06:34:12.738Z"
   },
   {
    "duration": 58,
    "start_time": "2021-11-09T06:48:14.928Z"
   },
   {
    "duration": 30,
    "start_time": "2021-11-09T06:51:19.327Z"
   },
   {
    "duration": 383,
    "start_time": "2021-11-09T06:54:30.579Z"
   },
   {
    "duration": 400,
    "start_time": "2021-11-09T06:54:51.087Z"
   },
   {
    "duration": 5,
    "start_time": "2021-11-09T06:55:28.828Z"
   },
   {
    "duration": 25,
    "start_time": "2021-11-09T06:56:01.706Z"
   },
   {
    "duration": 4,
    "start_time": "2021-11-09T06:56:06.660Z"
   },
   {
    "duration": 4,
    "start_time": "2021-11-09T06:57:43.727Z"
   },
   {
    "duration": 25,
    "start_time": "2021-11-09T06:57:52.696Z"
   },
   {
    "duration": 4,
    "start_time": "2021-11-09T06:58:15.231Z"
   },
   {
    "duration": 4,
    "start_time": "2021-11-09T06:58:30.059Z"
   },
   {
    "duration": 24,
    "start_time": "2021-11-09T06:58:46.356Z"
   },
   {
    "duration": 5,
    "start_time": "2021-11-09T06:58:56.940Z"
   },
   {
    "duration": 25,
    "start_time": "2021-11-09T07:00:01.626Z"
   },
   {
    "duration": 4,
    "start_time": "2021-11-09T07:00:13.703Z"
   },
   {
    "duration": 19,
    "start_time": "2021-11-09T07:07:45.637Z"
   },
   {
    "duration": 17,
    "start_time": "2021-11-09T07:07:48.007Z"
   },
   {
    "duration": 5,
    "start_time": "2021-11-09T07:07:53.263Z"
   },
   {
    "duration": 24,
    "start_time": "2021-11-09T07:11:58.785Z"
   },
   {
    "duration": 433,
    "start_time": "2021-11-09T08:01:32.360Z"
   },
   {
    "duration": 384,
    "start_time": "2021-11-09T08:02:06.359Z"
   },
   {
    "duration": 18,
    "start_time": "2021-11-09T08:02:28.651Z"
   },
   {
    "duration": 23,
    "start_time": "2021-11-09T08:02:47.133Z"
   },
   {
    "duration": 57,
    "start_time": "2021-11-09T08:08:29.241Z"
   },
   {
    "duration": 54,
    "start_time": "2021-11-09T08:08:41.871Z"
   },
   {
    "duration": 54,
    "start_time": "2021-11-09T08:08:53.263Z"
   },
   {
    "duration": 73,
    "start_time": "2021-11-09T08:10:11.457Z"
   },
   {
    "duration": 58,
    "start_time": "2021-11-09T08:10:21.024Z"
   },
   {
    "duration": 65,
    "start_time": "2021-11-09T08:15:47.937Z"
   },
   {
    "duration": 52,
    "start_time": "2021-11-09T08:15:50.412Z"
   },
   {
    "duration": 389,
    "start_time": "2021-11-09T08:24:42.754Z"
   },
   {
    "duration": 444,
    "start_time": "2021-11-09T08:24:50.307Z"
   },
   {
    "duration": 62,
    "start_time": "2021-11-09T08:25:16.219Z"
   },
   {
    "duration": 53,
    "start_time": "2021-11-09T08:28:39.524Z"
   },
   {
    "duration": 45,
    "start_time": "2021-11-09T08:28:56.886Z"
   },
   {
    "duration": 137,
    "start_time": "2021-11-09T08:29:20.406Z"
   },
   {
    "duration": 421,
    "start_time": "2021-11-09T08:29:25.533Z"
   },
   {
    "duration": 54,
    "start_time": "2021-11-09T08:31:24.887Z"
   },
   {
    "duration": 52,
    "start_time": "2021-11-09T08:31:57.775Z"
   },
   {
    "duration": 61,
    "start_time": "2021-11-09T08:37:59.150Z"
   },
   {
    "duration": 444,
    "start_time": "2021-11-09T08:38:32.765Z"
   },
   {
    "duration": 385,
    "start_time": "2021-11-09T08:38:46.076Z"
   },
   {
    "duration": 385,
    "start_time": "2021-11-09T08:39:12.620Z"
   },
   {
    "duration": 365,
    "start_time": "2021-11-09T08:39:26.500Z"
   },
   {
    "duration": 368,
    "start_time": "2021-11-09T08:39:54.268Z"
   },
   {
    "duration": 426,
    "start_time": "2021-11-09T08:44:04.305Z"
   },
   {
    "duration": 453,
    "start_time": "2021-11-09T08:44:27.128Z"
   },
   {
    "duration": 376,
    "start_time": "2021-11-09T08:44:45.152Z"
   },
   {
    "duration": 450,
    "start_time": "2021-11-09T08:45:06.362Z"
   },
   {
    "duration": 458,
    "start_time": "2021-11-09T08:46:36.162Z"
   },
   {
    "duration": 374,
    "start_time": "2021-11-09T08:47:05.699Z"
   },
   {
    "duration": 511,
    "start_time": "2021-11-09T08:47:20.962Z"
   },
   {
    "duration": 367,
    "start_time": "2021-11-09T08:47:28.905Z"
   },
   {
    "duration": 401,
    "start_time": "2021-11-09T08:47:50.603Z"
   },
   {
    "duration": 428,
    "start_time": "2021-11-09T08:47:53.612Z"
   },
   {
    "duration": 2,
    "start_time": "2021-11-09T08:48:31.652Z"
   },
   {
    "duration": 143,
    "start_time": "2021-11-09T08:48:33.955Z"
   },
   {
    "duration": 11,
    "start_time": "2021-11-09T08:48:37.124Z"
   },
   {
    "duration": 25,
    "start_time": "2021-11-09T08:48:40.372Z"
   },
   {
    "duration": 4,
    "start_time": "2021-11-09T08:48:45.075Z"
   },
   {
    "duration": 15,
    "start_time": "2021-11-09T08:48:50.276Z"
   },
   {
    "duration": 4,
    "start_time": "2021-11-09T08:48:52.035Z"
   },
   {
    "duration": 24,
    "start_time": "2021-11-09T08:48:54.631Z"
   },
   {
    "duration": 18,
    "start_time": "2021-11-09T08:48:57.892Z"
   },
   {
    "duration": 24,
    "start_time": "2021-11-09T08:49:00.540Z"
   },
   {
    "duration": 56,
    "start_time": "2021-11-09T08:49:03.140Z"
   },
   {
    "duration": 64,
    "start_time": "2021-11-09T08:49:05.523Z"
   },
   {
    "duration": 51,
    "start_time": "2021-11-09T08:49:07.507Z"
   },
   {
    "duration": 55,
    "start_time": "2021-11-09T08:49:11.212Z"
   },
   {
    "duration": 467,
    "start_time": "2021-11-09T10:49:20.293Z"
   },
   {
    "duration": 55,
    "start_time": "2021-11-09T10:49:34.469Z"
   },
   {
    "duration": 62,
    "start_time": "2021-11-09T10:50:54.223Z"
   },
   {
    "duration": 447,
    "start_time": "2021-11-09T10:51:29.775Z"
   },
   {
    "duration": 989,
    "start_time": "2021-11-09T10:52:14.446Z"
   },
   {
    "duration": 73,
    "start_time": "2021-11-09T10:52:49.903Z"
   },
   {
    "duration": 69,
    "start_time": "2021-11-09T10:53:09.928Z"
   },
   {
    "duration": 75,
    "start_time": "2021-11-09T15:23:25.594Z"
   },
   {
    "duration": 71,
    "start_time": "2021-11-09T15:23:34.755Z"
   },
   {
    "duration": 60,
    "start_time": "2021-11-09T15:25:11.399Z"
   },
   {
    "duration": 63,
    "start_time": "2021-11-09T15:25:20.621Z"
   },
   {
    "duration": 60,
    "start_time": "2021-11-09T15:25:22.780Z"
   },
   {
    "duration": 69,
    "start_time": "2021-11-09T15:25:26.522Z"
   },
   {
    "duration": 3,
    "start_time": "2021-11-09T15:25:54.639Z"
   },
   {
    "duration": 143,
    "start_time": "2021-11-09T15:25:55.643Z"
   },
   {
    "duration": 11,
    "start_time": "2021-11-09T15:25:56.663Z"
   },
   {
    "duration": 26,
    "start_time": "2021-11-09T15:25:57.683Z"
   },
   {
    "duration": 4,
    "start_time": "2021-11-09T15:26:00.121Z"
   },
   {
    "duration": 17,
    "start_time": "2021-11-09T15:26:01.795Z"
   },
   {
    "duration": 4,
    "start_time": "2021-11-09T15:26:02.978Z"
   },
   {
    "duration": 24,
    "start_time": "2021-11-09T15:26:04.048Z"
   },
   {
    "duration": 19,
    "start_time": "2021-11-09T15:26:05.789Z"
   },
   {
    "duration": 25,
    "start_time": "2021-11-09T15:26:07.015Z"
   },
   {
    "duration": 57,
    "start_time": "2021-11-09T15:26:09.847Z"
   },
   {
    "duration": 65,
    "start_time": "2021-11-09T15:26:11.226Z"
   },
   {
    "duration": 53,
    "start_time": "2021-11-09T15:26:12.406Z"
   },
   {
    "duration": 57,
    "start_time": "2021-11-09T15:26:19.315Z"
   },
   {
    "duration": 7,
    "start_time": "2021-11-09T15:30:16.061Z"
   },
   {
    "duration": 381,
    "start_time": "2021-11-09T15:41:25.655Z"
   },
   {
    "duration": 371,
    "start_time": "2021-11-09T15:41:56.201Z"
   },
   {
    "duration": 450,
    "start_time": "2021-11-09T15:43:15.463Z"
   },
   {
    "duration": 414,
    "start_time": "2021-11-09T15:44:10.137Z"
   },
   {
    "duration": 381,
    "start_time": "2021-11-09T15:46:23.692Z"
   },
   {
    "duration": 64,
    "start_time": "2021-11-09T15:46:57.164Z"
   },
   {
    "duration": 47,
    "start_time": "2021-11-09T15:49:18.453Z"
   },
   {
    "duration": 47,
    "start_time": "2021-11-09T15:49:32.835Z"
   },
   {
    "duration": 3,
    "start_time": "2021-11-09T15:59:34.820Z"
   },
   {
    "duration": 194,
    "start_time": "2021-11-09T16:01:44.406Z"
   },
   {
    "duration": 812,
    "start_time": "2021-11-09T16:01:57.239Z"
   },
   {
    "duration": 12,
    "start_time": "2021-11-09T16:02:39.314Z"
   },
   {
    "duration": 7,
    "start_time": "2021-11-09T16:03:09.300Z"
   },
   {
    "duration": 9,
    "start_time": "2021-11-10T05:38:35.301Z"
   },
   {
    "duration": 3,
    "start_time": "2021-11-10T05:39:19.548Z"
   },
   {
    "duration": 139,
    "start_time": "2021-11-10T05:39:20.272Z"
   },
   {
    "duration": 12,
    "start_time": "2021-11-10T05:39:20.676Z"
   },
   {
    "duration": 26,
    "start_time": "2021-11-10T05:39:21.028Z"
   },
   {
    "duration": 4,
    "start_time": "2021-11-10T05:39:21.917Z"
   },
   {
    "duration": 13,
    "start_time": "2021-11-10T05:39:22.438Z"
   },
   {
    "duration": 4,
    "start_time": "2021-11-10T05:39:22.796Z"
   },
   {
    "duration": 23,
    "start_time": "2021-11-10T05:39:23.149Z"
   },
   {
    "duration": 18,
    "start_time": "2021-11-10T05:39:23.707Z"
   },
   {
    "duration": 30,
    "start_time": "2021-11-10T05:39:24.097Z"
   },
   {
    "duration": 57,
    "start_time": "2021-11-10T05:39:24.510Z"
   },
   {
    "duration": 67,
    "start_time": "2021-11-10T05:39:25.353Z"
   },
   {
    "duration": 50,
    "start_time": "2021-11-10T05:39:25.735Z"
   },
   {
    "duration": 51,
    "start_time": "2021-11-10T05:39:26.277Z"
   },
   {
    "duration": 3,
    "start_time": "2021-11-10T05:39:26.644Z"
   },
   {
    "duration": 11,
    "start_time": "2021-11-10T05:39:27.650Z"
   },
   {
    "duration": 7,
    "start_time": "2021-11-10T05:39:28.954Z"
   },
   {
    "duration": 9,
    "start_time": "2021-11-10T05:39:33.656Z"
   },
   {
    "duration": 7,
    "start_time": "2021-11-10T05:39:50.009Z"
   },
   {
    "duration": 9,
    "start_time": "2021-11-10T05:40:46.922Z"
   },
   {
    "duration": 8,
    "start_time": "2021-11-10T05:41:20.451Z"
   },
   {
    "duration": 43,
    "start_time": "2021-11-10T05:49:39.098Z"
   },
   {
    "duration": 11,
    "start_time": "2021-11-10T05:55:05.742Z"
   },
   {
    "duration": 7,
    "start_time": "2021-11-10T05:55:52.086Z"
   },
   {
    "duration": 4,
    "start_time": "2021-11-10T05:57:44.248Z"
   },
   {
    "duration": 6,
    "start_time": "2021-11-10T06:02:49.879Z"
   },
   {
    "duration": 4,
    "start_time": "2021-11-10T06:03:11.529Z"
   },
   {
    "duration": 43,
    "start_time": "2021-11-10T06:03:26.673Z"
   },
   {
    "duration": 11,
    "start_time": "2021-11-10T06:03:49.622Z"
   },
   {
    "duration": 42,
    "start_time": "2021-11-10T06:06:12.119Z"
   },
   {
    "duration": 354,
    "start_time": "2021-11-10T06:42:10.746Z"
   },
   {
    "duration": 3,
    "start_time": "2021-11-10T06:42:14.256Z"
   },
   {
    "duration": 10,
    "start_time": "2021-11-10T06:42:16.982Z"
   },
   {
    "duration": 9,
    "start_time": "2021-11-10T06:42:30.985Z"
   },
   {
    "duration": 9,
    "start_time": "2021-11-10T06:42:48.655Z"
   },
   {
    "duration": 9,
    "start_time": "2021-11-10T06:43:05.096Z"
   },
   {
    "duration": 9,
    "start_time": "2021-11-10T06:43:11.792Z"
   },
   {
    "duration": 4,
    "start_time": "2021-11-10T06:43:14.551Z"
   },
   {
    "duration": 9,
    "start_time": "2021-11-10T06:43:16.058Z"
   },
   {
    "duration": 10,
    "start_time": "2021-11-10T06:43:23.599Z"
   },
   {
    "duration": 577,
    "start_time": "2021-11-10T06:48:42.164Z"
   },
   {
    "duration": 4,
    "start_time": "2021-11-10T06:48:52.124Z"
   },
   {
    "duration": 10,
    "start_time": "2021-11-10T06:49:06.451Z"
   },
   {
    "duration": 10,
    "start_time": "2021-11-10T06:49:34.715Z"
   },
   {
    "duration": 4,
    "start_time": "2021-11-10T06:50:03.396Z"
   },
   {
    "duration": 5416,
    "start_time": "2021-11-10T06:50:06.916Z"
   },
   {
    "duration": 4,
    "start_time": "2021-11-10T06:50:45.317Z"
   },
   {
    "duration": 5036,
    "start_time": "2021-11-10T06:50:50.919Z"
   },
   {
    "duration": 4,
    "start_time": "2021-11-10T06:52:32.926Z"
   },
   {
    "duration": 9,
    "start_time": "2021-11-10T06:52:35.413Z"
   },
   {
    "duration": 3,
    "start_time": "2021-11-10T06:53:39.963Z"
   },
   {
    "duration": 135,
    "start_time": "2021-11-10T06:53:40.353Z"
   },
   {
    "duration": 11,
    "start_time": "2021-11-10T06:53:40.720Z"
   },
   {
    "duration": 27,
    "start_time": "2021-11-10T06:53:41.060Z"
   },
   {
    "duration": 4,
    "start_time": "2021-11-10T06:53:41.933Z"
   },
   {
    "duration": 15,
    "start_time": "2021-11-10T06:53:42.494Z"
   },
   {
    "duration": 4,
    "start_time": "2021-11-10T06:53:42.861Z"
   },
   {
    "duration": 23,
    "start_time": "2021-11-10T06:53:43.187Z"
   },
   {
    "duration": 20,
    "start_time": "2021-11-10T06:53:43.980Z"
   },
   {
    "duration": 23,
    "start_time": "2021-11-10T06:53:44.557Z"
   },
   {
    "duration": 56,
    "start_time": "2021-11-10T06:53:45.079Z"
   },
   {
    "duration": 64,
    "start_time": "2021-11-10T06:53:45.997Z"
   },
   {
    "duration": 55,
    "start_time": "2021-11-10T06:53:46.402Z"
   },
   {
    "duration": 51,
    "start_time": "2021-11-10T06:53:47.352Z"
   },
   {
    "duration": 3,
    "start_time": "2021-11-10T06:53:47.991Z"
   },
   {
    "duration": 11,
    "start_time": "2021-11-10T06:53:48.630Z"
   },
   {
    "duration": 7,
    "start_time": "2021-11-10T06:53:49.477Z"
   },
   {
    "duration": 42,
    "start_time": "2021-11-10T06:53:51.729Z"
   },
   {
    "duration": 42,
    "start_time": "2021-11-10T06:53:52.125Z"
   },
   {
    "duration": 4,
    "start_time": "2021-11-10T06:53:53.075Z"
   },
   {
    "duration": 9,
    "start_time": "2021-11-10T06:53:54.687Z"
   },
   {
    "duration": 9,
    "start_time": "2021-11-10T06:53:59.671Z"
   },
   {
    "duration": 9,
    "start_time": "2021-11-10T06:55:39.855Z"
   },
   {
    "duration": 3,
    "start_time": "2021-11-10T06:55:43.255Z"
   },
   {
    "duration": 12,
    "start_time": "2021-11-10T06:55:45.695Z"
   },
   {
    "duration": 139,
    "start_time": "2021-11-10T06:57:34.089Z"
   },
   {
    "duration": 3,
    "start_time": "2021-11-10T06:58:08.362Z"
   },
   {
    "duration": 9,
    "start_time": "2021-11-10T06:58:21.689Z"
   },
   {
    "duration": 10,
    "start_time": "2021-11-10T06:58:23.624Z"
   },
   {
    "duration": 3,
    "start_time": "2021-11-10T06:58:28.218Z"
   },
   {
    "duration": 9,
    "start_time": "2021-11-10T06:58:30.665Z"
   },
   {
    "duration": 3,
    "start_time": "2021-11-10T07:00:02.563Z"
   },
   {
    "duration": 17,
    "start_time": "2021-11-10T07:00:05.915Z"
   },
   {
    "duration": 3,
    "start_time": "2021-11-10T07:01:00.020Z"
   },
   {
    "duration": 19,
    "start_time": "2021-11-10T07:02:20.957Z"
   },
   {
    "duration": 16,
    "start_time": "2021-11-10T07:04:09.342Z"
   },
   {
    "duration": 17,
    "start_time": "2021-11-10T07:04:10.166Z"
   },
   {
    "duration": 16,
    "start_time": "2021-11-10T07:04:10.774Z"
   },
   {
    "duration": 21,
    "start_time": "2021-11-10T07:04:11.255Z"
   },
   {
    "duration": 17,
    "start_time": "2021-11-10T07:04:11.757Z"
   },
   {
    "duration": 373,
    "start_time": "2021-11-10T07:12:49.240Z"
   },
   {
    "duration": 346,
    "start_time": "2021-11-10T07:13:24.829Z"
   },
   {
    "duration": 370,
    "start_time": "2021-11-10T07:15:11.272Z"
   },
   {
    "duration": 9,
    "start_time": "2021-11-10T07:16:04.456Z"
   },
   {
    "duration": 12,
    "start_time": "2021-11-10T07:24:22.765Z"
   },
   {
    "duration": 9,
    "start_time": "2021-11-10T07:24:25.596Z"
   },
   {
    "duration": 116,
    "start_time": "2021-11-10T07:39:33.050Z"
   },
   {
    "duration": 4,
    "start_time": "2021-11-10T07:40:22.134Z"
   },
   {
    "duration": 343,
    "start_time": "2021-11-10T07:40:43.241Z"
   },
   {
    "duration": 4,
    "start_time": "2021-11-10T07:41:10.097Z"
   },
   {
    "duration": 5,
    "start_time": "2021-11-10T07:44:32.333Z"
   },
   {
    "duration": 26,
    "start_time": "2021-11-10T07:46:02.676Z"
   },
   {
    "duration": 4,
    "start_time": "2021-11-10T07:47:38.726Z"
   },
   {
    "duration": 33,
    "start_time": "2021-11-10T07:47:41.725Z"
   },
   {
    "duration": 5,
    "start_time": "2021-11-10T07:48:16.895Z"
   },
   {
    "duration": 28,
    "start_time": "2021-11-10T07:48:19.680Z"
   },
   {
    "duration": 4,
    "start_time": "2021-11-10T07:49:00.183Z"
   },
   {
    "duration": 731,
    "start_time": "2021-11-10T07:49:02.941Z"
   },
   {
    "duration": 4,
    "start_time": "2021-11-10T07:50:00.504Z"
   },
   {
    "duration": 726,
    "start_time": "2021-11-10T07:50:03.400Z"
   },
   {
    "duration": 5,
    "start_time": "2021-11-10T07:54:12.424Z"
   },
   {
    "duration": 350,
    "start_time": "2021-11-10T07:54:41.376Z"
   },
   {
    "duration": 666,
    "start_time": "2021-11-10T07:55:01.594Z"
   },
   {
    "duration": 487,
    "start_time": "2021-11-10T07:56:51.177Z"
   },
   {
    "duration": 24,
    "start_time": "2021-11-10T07:57:29.242Z"
   },
   {
    "duration": 4,
    "start_time": "2021-11-10T07:58:25.515Z"
   },
   {
    "duration": 21,
    "start_time": "2021-11-10T07:58:40.106Z"
   },
   {
    "duration": 6,
    "start_time": "2021-11-10T07:59:01.036Z"
   },
   {
    "duration": 1099,
    "start_time": "2021-11-10T07:59:03.538Z"
   },
   {
    "duration": 4,
    "start_time": "2021-11-10T08:02:48.878Z"
   },
   {
    "duration": 805,
    "start_time": "2021-11-10T08:02:51.846Z"
   },
   {
    "duration": 4,
    "start_time": "2021-11-10T08:04:00.486Z"
   },
   {
    "duration": 21,
    "start_time": "2021-11-10T08:04:02.678Z"
   },
   {
    "duration": 4,
    "start_time": "2021-11-10T08:05:37.742Z"
   },
   {
    "duration": 747,
    "start_time": "2021-11-10T08:05:41.838Z"
   },
   {
    "duration": 4,
    "start_time": "2021-11-10T08:07:39.760Z"
   },
   {
    "duration": 28,
    "start_time": "2021-11-10T08:07:42.543Z"
   },
   {
    "duration": 13,
    "start_time": "2021-11-10T08:08:34.280Z"
   },
   {
    "duration": 18,
    "start_time": "2021-11-10T08:09:05.552Z"
   },
   {
    "duration": 13,
    "start_time": "2021-11-10T08:09:29.730Z"
   },
   {
    "duration": 5,
    "start_time": "2021-11-10T08:10:02.626Z"
   },
   {
    "duration": 23,
    "start_time": "2021-11-10T08:10:04.961Z"
   },
   {
    "duration": 4,
    "start_time": "2021-11-10T08:10:55.010Z"
   },
   {
    "duration": 769,
    "start_time": "2021-11-10T08:10:58.162Z"
   },
   {
    "duration": 4,
    "start_time": "2021-11-10T08:14:08.781Z"
   },
   {
    "duration": 19,
    "start_time": "2021-11-10T08:14:10.805Z"
   },
   {
    "duration": 28,
    "start_time": "2021-11-10T08:24:46.573Z"
   },
   {
    "duration": 20,
    "start_time": "2021-11-10T08:25:42.394Z"
   },
   {
    "duration": 31,
    "start_time": "2021-11-10T08:25:47.534Z"
   },
   {
    "duration": 29,
    "start_time": "2021-11-10T08:27:36.005Z"
   },
   {
    "duration": 31,
    "start_time": "2021-11-10T08:30:28.418Z"
   },
   {
    "duration": 22,
    "start_time": "2021-11-10T08:31:00.888Z"
   },
   {
    "duration": 23,
    "start_time": "2021-11-10T08:32:02.514Z"
   },
   {
    "duration": 1732,
    "start_time": "2021-11-10T08:33:24.835Z"
   },
   {
    "duration": 21,
    "start_time": "2021-11-10T08:34:02.283Z"
   },
   {
    "duration": 701,
    "start_time": "2021-11-10T08:35:10.380Z"
   },
   {
    "duration": 288,
    "start_time": "2021-11-10T08:36:58.748Z"
   },
   {
    "duration": 13376,
    "start_time": "2021-11-10T08:37:35.782Z"
   },
   {
    "duration": 202,
    "start_time": "2021-11-10T08:37:48.958Z"
   },
   {
    "duration": 730,
    "start_time": "2021-11-10T08:38:21.607Z"
   },
   {
    "duration": 23,
    "start_time": "2021-11-10T08:39:06.399Z"
   },
   {
    "duration": 757,
    "start_time": "2021-11-10T08:39:53.855Z"
   },
   {
    "duration": 25,
    "start_time": "2021-11-10T08:42:01.088Z"
   },
   {
    "duration": 6663,
    "start_time": "2021-11-10T08:43:00.643Z"
   },
   {
    "duration": 23,
    "start_time": "2021-11-10T08:43:29.157Z"
   },
   {
    "duration": 22,
    "start_time": "2021-11-10T08:43:52.796Z"
   },
   {
    "duration": 21,
    "start_time": "2021-11-10T09:23:00.774Z"
   },
   {
    "duration": 21,
    "start_time": "2021-11-10T09:26:48.454Z"
   },
   {
    "duration": 22,
    "start_time": "2021-11-10T09:30:28.257Z"
   },
   {
    "duration": 22,
    "start_time": "2021-11-10T09:35:58.884Z"
   },
   {
    "duration": 21,
    "start_time": "2021-11-10T09:36:01.620Z"
   },
   {
    "duration": 22,
    "start_time": "2021-11-10T09:36:09.035Z"
   },
   {
    "duration": 22,
    "start_time": "2021-11-10T09:36:13.076Z"
   },
   {
    "duration": 22,
    "start_time": "2021-11-10T09:36:21.971Z"
   },
   {
    "duration": 24,
    "start_time": "2021-11-10T09:36:46.061Z"
   },
   {
    "duration": 661,
    "start_time": "2021-11-10T09:41:41.043Z"
   },
   {
    "duration": 25,
    "start_time": "2021-11-10T09:42:10.787Z"
   },
   {
    "duration": 2559,
    "start_time": "2021-11-10T09:46:06.255Z"
   },
   {
    "duration": 23,
    "start_time": "2021-11-10T09:59:35.202Z"
   },
   {
    "duration": 4,
    "start_time": "2021-11-10T09:59:47.771Z"
   },
   {
    "duration": 21,
    "start_time": "2021-11-10T09:59:52.530Z"
   },
   {
    "duration": 16,
    "start_time": "2021-11-10T09:59:55.090Z"
   },
   {
    "duration": 19,
    "start_time": "2021-11-10T09:59:57.450Z"
   },
   {
    "duration": 14,
    "start_time": "2021-11-10T09:59:59.946Z"
   },
   {
    "duration": 29,
    "start_time": "2021-11-10T10:21:22.759Z"
   },
   {
    "duration": 35,
    "start_time": "2021-11-10T10:22:01.624Z"
   },
   {
    "duration": 464,
    "start_time": "2021-11-10T10:23:47.424Z"
   },
   {
    "duration": 409,
    "start_time": "2021-11-10T10:24:28.620Z"
   },
   {
    "duration": 641,
    "start_time": "2021-11-10T10:24:54.036Z"
   },
   {
    "duration": 11,
    "start_time": "2021-11-10T10:26:39.934Z"
   },
   {
    "duration": 14,
    "start_time": "2021-11-10T10:27:44.983Z"
   },
   {
    "duration": 11,
    "start_time": "2021-11-10T10:27:56.143Z"
   },
   {
    "duration": 14,
    "start_time": "2021-11-10T10:28:17.847Z"
   },
   {
    "duration": 11,
    "start_time": "2021-11-10T10:29:16.280Z"
   },
   {
    "duration": 6,
    "start_time": "2021-11-10T10:29:33.152Z"
   },
   {
    "duration": 8,
    "start_time": "2021-11-10T10:29:43.912Z"
   },
   {
    "duration": 6,
    "start_time": "2021-11-10T10:29:49.120Z"
   },
   {
    "duration": 6,
    "start_time": "2021-11-10T10:30:43.509Z"
   },
   {
    "duration": 6,
    "start_time": "2021-11-10T10:31:06.842Z"
   },
   {
    "duration": 267,
    "start_time": "2021-11-10T11:29:45.450Z"
   },
   {
    "duration": 571,
    "start_time": "2021-11-10T11:29:52.307Z"
   },
   {
    "duration": 143,
    "start_time": "2021-11-10T11:29:52.880Z"
   },
   {
    "duration": 18,
    "start_time": "2021-11-10T11:29:53.026Z"
   },
   {
    "duration": 39,
    "start_time": "2021-11-10T11:29:53.046Z"
   },
   {
    "duration": 5,
    "start_time": "2021-11-10T11:29:53.087Z"
   },
   {
    "duration": 30,
    "start_time": "2021-11-10T11:29:53.093Z"
   },
   {
    "duration": 22,
    "start_time": "2021-11-10T11:29:53.125Z"
   },
   {
    "duration": 17,
    "start_time": "2021-11-10T11:29:53.149Z"
   },
   {
    "duration": 24,
    "start_time": "2021-11-10T11:29:53.168Z"
   },
   {
    "duration": 16,
    "start_time": "2021-11-10T11:29:53.194Z"
   },
   {
    "duration": 27,
    "start_time": "2021-11-10T11:29:53.212Z"
   },
   {
    "duration": 85,
    "start_time": "2021-11-10T11:29:53.241Z"
   },
   {
    "duration": 82,
    "start_time": "2021-11-10T11:29:53.328Z"
   },
   {
    "duration": 59,
    "start_time": "2021-11-10T11:29:53.412Z"
   },
   {
    "duration": 50,
    "start_time": "2021-11-10T11:29:53.473Z"
   },
   {
    "duration": 75,
    "start_time": "2021-11-10T11:29:53.526Z"
   },
   {
    "duration": 4,
    "start_time": "2021-11-10T11:29:53.603Z"
   },
   {
    "duration": 29,
    "start_time": "2021-11-10T11:29:53.609Z"
   },
   {
    "duration": 24,
    "start_time": "2021-11-10T11:29:53.640Z"
   },
   {
    "duration": 50,
    "start_time": "2021-11-10T11:29:53.666Z"
   },
   {
    "duration": 58,
    "start_time": "2021-11-10T11:29:53.718Z"
   },
   {
    "duration": 3,
    "start_time": "2021-11-10T11:29:53.778Z"
   },
   {
    "duration": 29,
    "start_time": "2021-11-10T11:29:53.783Z"
   },
   {
    "duration": 18,
    "start_time": "2021-11-10T11:29:53.814Z"
   },
   {
    "duration": 17,
    "start_time": "2021-11-10T11:29:53.834Z"
   },
   {
    "duration": 20,
    "start_time": "2021-11-10T11:29:53.852Z"
   },
   {
    "duration": 21,
    "start_time": "2021-11-10T11:29:53.875Z"
   },
   {
    "duration": 18,
    "start_time": "2021-11-10T11:29:53.898Z"
   },
   {
    "duration": 9,
    "start_time": "2021-11-10T11:29:53.917Z"
   },
   {
    "duration": 17,
    "start_time": "2021-11-10T11:29:53.928Z"
   },
   {
    "duration": 10,
    "start_time": "2021-11-10T11:29:53.947Z"
   },
   {
    "duration": 14,
    "start_time": "2021-11-10T11:29:53.959Z"
   },
   {
    "duration": 42,
    "start_time": "2021-11-10T11:29:53.974Z"
   },
   {
    "duration": 16,
    "start_time": "2021-11-10T11:29:54.017Z"
   },
   {
    "duration": 22,
    "start_time": "2021-11-10T11:29:54.035Z"
   },
   {
    "duration": 14,
    "start_time": "2021-11-10T11:29:54.059Z"
   },
   {
    "duration": 11,
    "start_time": "2021-11-10T11:29:54.075Z"
   },
   {
    "duration": 19,
    "start_time": "2021-11-10T11:29:54.087Z"
   },
   {
    "duration": 19,
    "start_time": "2021-11-10T11:29:54.108Z"
   },
   {
    "duration": 13,
    "start_time": "2021-11-10T11:29:54.129Z"
   },
   {
    "duration": 35,
    "start_time": "2021-11-10T11:30:59.617Z"
   },
   {
    "duration": 43,
    "start_time": "2021-11-10T11:32:53.680Z"
   }
  ],
  "colab": {
   "collapsed_sections": [
    "E0vqbgi9ay0H",
    "VUC88oWjTJw2"
   ],
   "name": "yandex_music_project_2021.2.ipynb",
   "provenance": []
  },
  "kernelspec": {
   "display_name": "Python 3 (ipykernel)",
   "language": "python",
   "name": "python3"
  },
  "language_info": {
   "codemirror_mode": {
    "name": "ipython",
    "version": 3
   },
   "file_extension": ".py",
   "mimetype": "text/x-python",
   "name": "python",
   "nbconvert_exporter": "python",
   "pygments_lexer": "ipython3",
   "version": "3.9.5"
  },
  "toc": {
   "base_numbering": 1,
   "nav_menu": {},
   "number_sections": true,
   "sideBar": true,
   "skip_h1_title": true,
   "title_cell": "Table of Contents",
   "title_sidebar": "Contents",
   "toc_cell": false,
   "toc_position": {
    "height": "calc(100% - 180px)",
    "left": "10px",
    "top": "150px",
    "width": "243.797px"
   },
   "toc_section_display": true,
   "toc_window_display": true
  }
 },
 "nbformat": 4,
 "nbformat_minor": 1
}

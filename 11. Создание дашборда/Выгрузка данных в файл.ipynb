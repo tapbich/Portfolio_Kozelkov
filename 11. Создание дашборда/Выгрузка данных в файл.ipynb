{
 "cells": [
  {
   "cell_type": "code",
   "execution_count": 5,
   "id": "85ac307a",
   "metadata": {},
   "outputs": [],
   "source": [
    "# импортируем библиотеки\n",
    "import pandas as pd\n",
    "from sqlalchemy import create_engine\n",
    "\n",
    "db_config = {'user': ' ', # имя пользователя\n",
    "            'pwd': ' ', # пароль\n",
    "            'host': ' ',\n",
    "            'port': 8888, # порт подключения\n",
    "            'db': 'data-db'} # название базы данных\n",
    "\n",
    "connection_string = 'postgresql://{}:{}@{}:{}/{}'.format(db_config['user'],\n",
    "                                                db_config['pwd'],\n",
    "                                                db_config['host'],\n",
    "                                                db_config['port'],\n",
    "                                                db_config['db'])\n",
    "\n",
    "engine = create_engine(connection_string) \n",
    "query = ''' SELECT *\n",
    "            FROM dash_visits\n",
    "        ''' #  sql-запрос для выгрузки данных из таблицы dash_visits\n",
    "dash_visits = pd.io.sql.read_sql(query, con = engine) \n",
    "\n",
    "\n",
    "dash_visits.to_csv('dash_visits.csv')\n"
   ]
  },
  {
   "cell_type": "code",
   "execution_count": null,
   "id": "e9f52100",
   "metadata": {},
   "outputs": [],
   "source": []
  }
 ],
 "metadata": {
  "ExecuteTimeLog": [
   {
    "duration": 452,
    "start_time": "2022-04-05T10:13:23.865Z"
   },
   {
    "duration": 972,
    "start_time": "2022-04-05T10:44:31.453Z"
   },
   {
    "duration": 1067,
    "start_time": "2022-04-05T10:46:09.577Z"
   },
   {
    "duration": 770,
    "start_time": "2022-04-05T10:46:34.340Z"
   }
  ],
  "kernelspec": {
   "display_name": "Python 3 (ipykernel)",
   "language": "python",
   "name": "python3"
  },
  "language_info": {
   "codemirror_mode": {
    "name": "ipython",
    "version": 3
   },
   "file_extension": ".py",
   "mimetype": "text/x-python",
   "name": "python",
   "nbconvert_exporter": "python",
   "pygments_lexer": "ipython3",
   "version": "3.9.5"
  },
  "toc": {
   "base_numbering": 1,
   "nav_menu": {},
   "number_sections": true,
   "sideBar": true,
   "skip_h1_title": true,
   "title_cell": "Table of Contents",
   "title_sidebar": "Contents",
   "toc_cell": false,
   "toc_position": {},
   "toc_section_display": true,
   "toc_window_display": false
  }
 },
 "nbformat": 4,
 "nbformat_minor": 5
}
